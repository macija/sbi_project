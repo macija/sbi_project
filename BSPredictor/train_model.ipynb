{
 "cells": [
  {
   "cell_type": "markdown",
   "id": "172df2ca",
   "metadata": {},
   "source": [
    "How to add an environment to Jupyter Notebook:<br>\n",
    "`\n",
    "conda env list\n",
    "conda install -c anaconda ipykernel\n",
    "python -m ipykernel install --user --name=EnvironmentName\n",
    "`\n",
    "\n",
    "What I have added in TrialEnv2:<br>\n",
    "`\n",
    "conda install python=3.10\n",
    "conda install numpy\n",
    "conda install -c conda-forge openbabel\n",
    "conda install pandas\n",
    "conda install -c conda-forge rdkit\n",
    "conda install -c anaconda scikit-learn\n",
    "`"
   ]
  },
  {
   "cell_type": "code",
   "execution_count": 1,
   "id": "1ebd68f3",
   "metadata": {
    "vscode": {
     "languageId": "python"
    }
   },
   "outputs": [],
   "source": [
    "#!conda install -y -c conda-forge openbabel\n",
    "#Import files\n",
    "import os\n",
    "import warnings\n",
    "import numpy as np\n",
    "import keras\n",
    "import keras.backend as K\n",
    "from openbabel import pybel, openbabel\n",
    "from sklearn.model_selection import train_test_split\n",
    "\n",
    "from data import Featurizer, make_grid\n",
    "from PUResNet import PUResNet\n",
    "from train_functions import get_grids, get_training_data, DiceLoss\n",
    "\n",
    "data_folder_path = \"../../TrainData/train_test_families_1rep\""
   ]
  },
  {
   "cell_type": "markdown",
   "id": "d1aafd39",
   "metadata": {},
   "source": [
    "## Prepare the data"
   ]
  },
  {
   "cell_type": "code",
   "execution_count": 3,
   "id": "3ba10cfe",
   "metadata": {
    "vscode": {
     "languageId": "python"
    }
   },
   "outputs": [
    {
     "name": "stderr",
     "output_type": "stream",
     "text": [
      "==============================\n",
      "*** Open Babel Warning  in ReadMolecule\n",
      "  Failed to kekulize aromatic bonds in MOL2 file (title is 1d4o_NAP_1_protein)\n",
      "\n",
      "==============================\n",
      "*** Open Babel Warning  in ReadMolecule\n",
      "  Failed to kekulize aromatic bonds in MOL2 file (title is 4hne_ADP_1_protein)\n",
      "\n",
      "==============================\n",
      "*** Open Babel Warning  in ReadMolecule\n",
      "  Failed to kekulize aromatic bonds in MOL2 file (title is 1y6q_TDI_1_protein)\n",
      "\n"
     ]
    },
    {
     "name": "stdout",
     "output_type": "stream",
     "text": [
      "\n",
      "\n",
      "\n"
     ]
    },
    {
     "name": "stderr",
     "output_type": "stream",
     "text": [
      "==============================\n",
      "*** Open Babel Warning  in ReadMolecule\n",
      "  Failed to kekulize aromatic bonds in MOL2 file (title is 1w73_NAP_2_protein)\n",
      "\n"
     ]
    },
    {
     "name": "stdout",
     "output_type": "stream",
     "text": [
      "\n"
     ]
    },
    {
     "name": "stderr",
     "output_type": "stream",
     "text": [
      "==============================\n",
      "*** Open Babel Warning  in ReadMolecule\n",
      "  Failed to kekulize aromatic bonds in MOL2 file (title is 1ya8_MVB_1_protein)\n",
      "\n"
     ]
    },
    {
     "ename": "KeyboardInterrupt",
     "evalue": "",
     "output_type": "error",
     "traceback": [
      "\u001b[0;31m---------------------------------------------------------------------------\u001b[0m",
      "\u001b[0;31mKeyboardInterrupt\u001b[0m                         Traceback (most recent call last)",
      "\u001b[0;32m/tmp/ipykernel_11568/3539253283.py\u001b[0m in \u001b[0;36m<module>\u001b[0;34m\u001b[0m\n\u001b[1;32m      1\u001b[0m \u001b[0;31m# TODO - I was not able to filter the warnings\u001b[0m\u001b[0;34m\u001b[0m\u001b[0;34m\u001b[0m\u001b[0m\n\u001b[1;32m      2\u001b[0m \u001b[0mpybel\u001b[0m\u001b[0;34m.\u001b[0m\u001b[0mob\u001b[0m\u001b[0;34m.\u001b[0m\u001b[0mobErrorLog\u001b[0m\u001b[0;34m.\u001b[0m\u001b[0mStartLogging\u001b[0m\u001b[0;34m(\u001b[0m\u001b[0;34m)\u001b[0m\u001b[0;34m\u001b[0m\u001b[0;34m\u001b[0m\u001b[0m\n\u001b[0;32m----> 3\u001b[0;31m \u001b[0mproteins\u001b[0m\u001b[0;34m,\u001b[0m \u001b[0mbinding_sites\u001b[0m\u001b[0;34m,\u001b[0m \u001b[0m_\u001b[0m \u001b[0;34m=\u001b[0m \u001b[0mget_training_data\u001b[0m\u001b[0;34m(\u001b[0m\u001b[0mdata_folder_path\u001b[0m\u001b[0;34m)\u001b[0m\u001b[0;34m\u001b[0m\u001b[0;34m\u001b[0m\u001b[0m\n\u001b[0m",
      "\u001b[0;32m~/Documents/SBI/sbi_project/BSPredictor/train_functions.py\u001b[0m in \u001b[0;36mget_training_data\u001b[0;34m(input_folder)\u001b[0m\n\u001b[1;32m     79\u001b[0m             \u001b[0msite_file\u001b[0m \u001b[0;34m=\u001b[0m \u001b[0mos\u001b[0m\u001b[0;34m.\u001b[0m\u001b[0mpath\u001b[0m\u001b[0;34m.\u001b[0m\u001b[0mjoin\u001b[0m\u001b[0;34m(\u001b[0m\u001b[0mroot\u001b[0m\u001b[0;34m,\u001b[0m \u001b[0mdir\u001b[0m\u001b[0;34m,\u001b[0m \u001b[0;34m\"cavity6.mol2\"\u001b[0m\u001b[0;34m)\u001b[0m\u001b[0;34m\u001b[0m\u001b[0;34m\u001b[0m\u001b[0m\n\u001b[1;32m     80\u001b[0m \u001b[0;34m\u001b[0m\u001b[0m\n\u001b[0;32m---> 81\u001b[0;31m             \u001b[0mprot_grid\u001b[0m\u001b[0;34m,\u001b[0m \u001b[0mbs_grid\u001b[0m\u001b[0;34m,\u001b[0m \u001b[0mcentroid\u001b[0m \u001b[0;34m=\u001b[0m \u001b[0mget_grids\u001b[0m\u001b[0;34m(\u001b[0m\u001b[0;34m\"mol2\"\u001b[0m\u001b[0;34m,\u001b[0m \u001b[0mprotein_file\u001b[0m\u001b[0;34m,\u001b[0m \u001b[0msite_file\u001b[0m\u001b[0;34m)\u001b[0m\u001b[0;34m\u001b[0m\u001b[0;34m\u001b[0m\u001b[0m\n\u001b[0m\u001b[1;32m     82\u001b[0m \u001b[0;34m\u001b[0m\u001b[0m\n\u001b[1;32m     83\u001b[0m             \u001b[0;32mif\u001b[0m \u001b[0mproteins\u001b[0m \u001b[0;32mis\u001b[0m \u001b[0;32mNone\u001b[0m\u001b[0;34m:\u001b[0m\u001b[0;34m\u001b[0m\u001b[0;34m\u001b[0m\u001b[0m\n",
      "\u001b[0;32m~/Documents/SBI/sbi_project/BSPredictor/train_functions.py\u001b[0m in \u001b[0;36mget_grids\u001b[0;34m(file_type, prot_input_file, bs_input_file, grid_resolution, max_dist, featurizer)\u001b[0m\n\u001b[1;32m     35\u001b[0m     \u001b[0;31m# or see how much does it affect the model\u001b[0m\u001b[0;34m\u001b[0m\u001b[0;34m\u001b[0m\u001b[0m\n\u001b[1;32m     36\u001b[0m     \u001b[0mprot\u001b[0m \u001b[0;34m=\u001b[0m \u001b[0mnext\u001b[0m\u001b[0;34m(\u001b[0m\u001b[0mpybel\u001b[0m\u001b[0;34m.\u001b[0m\u001b[0mreadfile\u001b[0m\u001b[0;34m(\u001b[0m\u001b[0mfile_type\u001b[0m\u001b[0;34m,\u001b[0m\u001b[0mprot_input_file\u001b[0m\u001b[0;34m)\u001b[0m\u001b[0;34m)\u001b[0m\u001b[0;34m\u001b[0m\u001b[0;34m\u001b[0m\u001b[0m\n\u001b[0;32m---> 37\u001b[0;31m     \u001b[0mprot_coords\u001b[0m\u001b[0;34m,\u001b[0m \u001b[0mprot_features\u001b[0m \u001b[0;34m=\u001b[0m \u001b[0mfeaturizer\u001b[0m\u001b[0;34m.\u001b[0m\u001b[0mget_features\u001b[0m\u001b[0;34m(\u001b[0m\u001b[0mprot\u001b[0m\u001b[0;34m)\u001b[0m\u001b[0;34m\u001b[0m\u001b[0;34m\u001b[0m\u001b[0m\n\u001b[0m\u001b[1;32m     38\u001b[0m \u001b[0;34m\u001b[0m\u001b[0m\n\u001b[1;32m     39\u001b[0m     \u001b[0;31m# Change all coordinates to be respect the center of the protein\u001b[0m\u001b[0;34m\u001b[0m\u001b[0;34m\u001b[0m\u001b[0m\n",
      "\u001b[0;32m~/Documents/SBI/sbi_project/BSPredictor/data.py\u001b[0m in \u001b[0;36mget_features\u001b[0;34m(self, molecule, molcode)\u001b[0m\n\u001b[1;32m    312\u001b[0m                                   molcode * np.ones((len(features), 1))))\n\u001b[1;32m    313\u001b[0m         features = np.hstack([features,\n\u001b[0;32m--> 314\u001b[0;31m                               self.find_smarts(molecule)[heavy_atoms]])\n\u001b[0m\u001b[1;32m    315\u001b[0m \u001b[0;34m\u001b[0m\u001b[0m\n\u001b[1;32m    316\u001b[0m         \u001b[0;32mif\u001b[0m \u001b[0mnp\u001b[0m\u001b[0;34m.\u001b[0m\u001b[0misnan\u001b[0m\u001b[0;34m(\u001b[0m\u001b[0mfeatures\u001b[0m\u001b[0;34m)\u001b[0m\u001b[0;34m.\u001b[0m\u001b[0many\u001b[0m\u001b[0;34m(\u001b[0m\u001b[0;34m)\u001b[0m\u001b[0;34m:\u001b[0m\u001b[0;34m\u001b[0m\u001b[0;34m\u001b[0m\u001b[0m\n",
      "\u001b[0;32m~/Documents/SBI/sbi_project/BSPredictor/data.py\u001b[0m in \u001b[0;36mfind_smarts\u001b[0;34m(self, molecule)\u001b[0m\n\u001b[1;32m    253\u001b[0m \u001b[0;34m\u001b[0m\u001b[0m\n\u001b[1;32m    254\u001b[0m         \u001b[0;32mfor\u001b[0m \u001b[0;34m(\u001b[0m\u001b[0mpattern_id\u001b[0m\u001b[0;34m,\u001b[0m \u001b[0mpattern\u001b[0m\u001b[0;34m)\u001b[0m \u001b[0;32min\u001b[0m \u001b[0menumerate\u001b[0m\u001b[0;34m(\u001b[0m\u001b[0mself\u001b[0m\u001b[0;34m.\u001b[0m\u001b[0m__PATTERNS\u001b[0m\u001b[0;34m)\u001b[0m\u001b[0;34m:\u001b[0m\u001b[0;34m\u001b[0m\u001b[0;34m\u001b[0m\u001b[0m\n\u001b[0;32m--> 255\u001b[0;31m             atoms_with_prop = np.array(list(*zip(*pattern.findall(molecule))),\n\u001b[0m\u001b[1;32m    256\u001b[0m                                        dtype=int) - 1\n\u001b[1;32m    257\u001b[0m             \u001b[0mfeatures\u001b[0m\u001b[0;34m[\u001b[0m\u001b[0matoms_with_prop\u001b[0m\u001b[0;34m,\u001b[0m \u001b[0mpattern_id\u001b[0m\u001b[0;34m]\u001b[0m \u001b[0;34m=\u001b[0m \u001b[0;36m1.0\u001b[0m\u001b[0;34m\u001b[0m\u001b[0;34m\u001b[0m\u001b[0m\n",
      "\u001b[0;32m~/anaconda3/lib/python3.9/site-packages/openbabel/pybel.py\u001b[0m in \u001b[0;36mfindall\u001b[0;34m(self, molecule)\u001b[0m\n\u001b[1;32m    954\u001b[0m         \"\"\"\n\u001b[1;32m    955\u001b[0m         \u001b[0mself\u001b[0m\u001b[0;34m.\u001b[0m\u001b[0mobsmarts\u001b[0m\u001b[0;34m.\u001b[0m\u001b[0mMatch\u001b[0m\u001b[0;34m(\u001b[0m\u001b[0mmolecule\u001b[0m\u001b[0;34m.\u001b[0m\u001b[0mOBMol\u001b[0m\u001b[0;34m)\u001b[0m\u001b[0;34m\u001b[0m\u001b[0;34m\u001b[0m\u001b[0m\n\u001b[0;32m--> 956\u001b[0;31m         \u001b[0mvector\u001b[0m \u001b[0;34m=\u001b[0m \u001b[0mself\u001b[0m\u001b[0;34m.\u001b[0m\u001b[0mobsmarts\u001b[0m\u001b[0;34m.\u001b[0m\u001b[0mGetUMapList\u001b[0m\u001b[0;34m(\u001b[0m\u001b[0;34m)\u001b[0m\u001b[0;34m\u001b[0m\u001b[0;34m\u001b[0m\u001b[0m\n\u001b[0m\u001b[1;32m    957\u001b[0m         \u001b[0;32mif\u001b[0m \u001b[0msys\u001b[0m\u001b[0;34m.\u001b[0m\u001b[0mplatform\u001b[0m\u001b[0;34m[\u001b[0m\u001b[0;34m:\u001b[0m\u001b[0;36m4\u001b[0m\u001b[0;34m]\u001b[0m \u001b[0;34m==\u001b[0m \u001b[0;34m\"java\"\u001b[0m\u001b[0;34m:\u001b[0m\u001b[0;34m\u001b[0m\u001b[0;34m\u001b[0m\u001b[0m\n\u001b[1;32m    958\u001b[0m             \u001b[0mvector\u001b[0m \u001b[0;34m=\u001b[0m \u001b[0;34m[\u001b[0m\u001b[0mvector\u001b[0m\u001b[0;34m.\u001b[0m\u001b[0mget\u001b[0m\u001b[0;34m(\u001b[0m\u001b[0mi\u001b[0m\u001b[0;34m)\u001b[0m \u001b[0;32mfor\u001b[0m \u001b[0mi\u001b[0m \u001b[0;32min\u001b[0m \u001b[0mrange\u001b[0m\u001b[0;34m(\u001b[0m\u001b[0mvector\u001b[0m\u001b[0;34m.\u001b[0m\u001b[0msize\u001b[0m\u001b[0;34m(\u001b[0m\u001b[0;34m)\u001b[0m\u001b[0;34m)\u001b[0m\u001b[0;34m]\u001b[0m\u001b[0;34m\u001b[0m\u001b[0;34m\u001b[0m\u001b[0m\n",
      "\u001b[0;31mKeyboardInterrupt\u001b[0m: "
     ]
    }
   ],
   "source": [
    "# To not see any warnings: pybel.ob.obErrorLog.StopLogging()\n",
    "# To see warnings: pybel.ob.obErrorLog.StartLogging()\n",
    "\n",
    "proteins, binding_sites, _ = get_training_data(data_folder_path)"
   ]
  },
  {
   "cell_type": "markdown",
   "id": "6e25fecd",
   "metadata": {},
   "source": [
    "Download and upload the numpy arrays created:"
   ]
  },
  {
   "cell_type": "code",
   "execution_count": 4,
   "id": "da68cf67",
   "metadata": {
    "vscode": {
     "languageId": "python"
    }
   },
   "outputs": [],
   "source": [
    "# Download training data\n",
    "np.save(data_folder_path+'_proteins.npy', proteins)\n",
    "np.save(data_folder_path+'_binding_sites.npy', binding_sites)"
   ]
  },
  {
   "cell_type": "code",
   "execution_count": 8,
   "id": "edea7e83",
   "metadata": {
    "vscode": {
     "languageId": "python"
    }
   },
   "outputs": [],
   "source": [
    "# Upload training data\n",
    "proteins = np.load(data_folder_path+'_proteins.npy')\n",
    "binding_sites = np.load(data_folder_path+'_binding_sites.npy')"
   ]
  },
  {
   "cell_type": "code",
   "execution_count": 5,
   "id": "89781af5",
   "metadata": {
    "vscode": {
     "languageId": "python"
    }
   },
   "outputs": [
    {
     "name": "stdout",
     "output_type": "stream",
     "text": [
      "(1549, 36, 36, 36, 18)\n",
      "(1549, 36, 36, 36, 1)\n"
     ]
    }
   ],
   "source": [
    "# Check that the two sets have the same number of training parameters\n",
    "print(proteins.shape)\n",
    "print(binding_sites.shape)"
   ]
  },
  {
   "cell_type": "code",
   "execution_count": 6,
   "id": "adadc1c2",
   "metadata": {
    "vscode": {
     "languageId": "python"
    }
   },
   "outputs": [],
   "source": [
    "# Separate between train and test sets\n",
    "X_train, X_test, y_train, y_test = train_test_split(proteins, \n",
    "                                                    binding_sites, \n",
    "                                                    test_size=0.2, \n",
    "                                                    random_state=42)"
   ]
  },
  {
   "cell_type": "markdown",
   "id": "602d2bf6",
   "metadata": {},
   "source": [
    "## Train the model"
   ]
  },
  {
   "cell_type": "code",
   "execution_count": 7,
   "id": "01593db6",
   "metadata": {
    "vscode": {
     "languageId": "python"
    }
   },
   "outputs": [
    {
     "name": "stderr",
     "output_type": "stream",
     "text": [
      "2023-04-05 04:24:26.174037: I tensorflow/core/platform/cpu_feature_guard.cc:193] This TensorFlow binary is optimized with oneAPI Deep Neural Network Library (oneDNN) to use the following CPU instructions in performance-critical operations:  SSE4.1 SSE4.2 AVX AVX2 AVX512F AVX512_VNNI FMA\n",
      "To enable them in other operations, rebuild TensorFlow with the appropriate compiler flags.\n",
      "2023-04-05 04:24:26.182600: I tensorflow/core/common_runtime/process_util.cc:146] Creating new thread pool with default inter op setting: 2. Tune using inter_op_parallelism_threads for best performance.\n"
     ]
    },
    {
     "name": "stdout",
     "output_type": "stream",
     "text": [
      "Epoch 1/300\n",
      "223/223 [==============================] - 564s 2s/step - loss: 1.1962 - accuracy: 0.9795 - val_loss: 1.0030 - val_accuracy: 0.9968\n",
      "Epoch 2/300\n",
      "223/223 [==============================] - 558s 3s/step - loss: 0.8478 - accuracy: 0.9968 - val_loss: 0.9487 - val_accuracy: 0.9916\n",
      "Epoch 3/300\n",
      "223/223 [==============================] - 553s 2s/step - loss: 0.7191 - accuracy: 0.9970 - val_loss: 0.8362 - val_accuracy: 0.9928\n",
      "Epoch 4/300\n",
      "223/223 [==============================] - 557s 3s/step - loss: 0.6208 - accuracy: 0.9972 - val_loss: 0.7980 - val_accuracy: 0.9980\n",
      "Epoch 5/300\n",
      "223/223 [==============================] - 557s 2s/step - loss: 0.5590 - accuracy: 0.9973 - val_loss: 0.6475 - val_accuracy: 0.9976\n",
      "Epoch 6/300\n",
      "223/223 [==============================] - 554s 2s/step - loss: 0.5149 - accuracy: 0.9974 - val_loss: 0.6299 - val_accuracy: 0.9958\n",
      "Epoch 7/300\n",
      "223/223 [==============================] - 555s 2s/step - loss: 0.4673 - accuracy: 0.9975 - val_loss: 0.7648 - val_accuracy: 0.9945\n",
      "Epoch 8/300\n",
      "223/223 [==============================] - 556s 2s/step - loss: 0.4806 - accuracy: 0.9975 - val_loss: 1.0003 - val_accuracy: 0.9981\n",
      "Epoch 9/300\n",
      "223/223 [==============================] - 558s 3s/step - loss: 0.4448 - accuracy: 0.9976 - val_loss: 0.5986 - val_accuracy: 0.9973\n",
      "Epoch 10/300\n",
      "223/223 [==============================] - 556s 2s/step - loss: 0.4170 - accuracy: 0.9976 - val_loss: 0.5897 - val_accuracy: 0.9977\n",
      "Epoch 11/300\n",
      "223/223 [==============================] - 553s 2s/step - loss: 0.3783 - accuracy: 0.9977 - val_loss: 1.0415 - val_accuracy: 0.9673\n",
      "Epoch 12/300\n",
      "223/223 [==============================] - 555s 2s/step - loss: 0.3545 - accuracy: 0.9978 - val_loss: 0.7348 - val_accuracy: 0.9980\n",
      "Epoch 13/300\n",
      "223/223 [==============================] - 555s 2s/step - loss: 0.3643 - accuracy: 0.9977 - val_loss: 0.7927 - val_accuracy: 0.9935\n",
      "Epoch 14/300\n",
      "223/223 [==============================] - 556s 2s/step - loss: 0.3546 - accuracy: 0.9978 - val_loss: 0.7234 - val_accuracy: 0.9980\n",
      "Epoch 15/300\n",
      "223/223 [==============================] - 556s 2s/step - loss: 0.3394 - accuracy: 0.9979 - val_loss: 0.6127 - val_accuracy: 0.9974\n",
      "Epoch 16/300\n",
      "223/223 [==============================] - 554s 2s/step - loss: 0.3310 - accuracy: 0.9979 - val_loss: 0.6617 - val_accuracy: 0.9977\n",
      "Epoch 17/300\n",
      "223/223 [==============================] - 554s 2s/step - loss: 0.3152 - accuracy: 0.9979 - val_loss: 0.6539 - val_accuracy: 0.9960\n",
      "Epoch 18/300\n",
      "223/223 [==============================] - 553s 2s/step - loss: 0.3057 - accuracy: 0.9980 - val_loss: 0.5977 - val_accuracy: 0.9974\n",
      "Epoch 19/300\n",
      "223/223 [==============================] - 557s 2s/step - loss: 0.2791 - accuracy: 0.9980 - val_loss: 0.7800 - val_accuracy: 0.9980\n",
      "Epoch 20/300\n",
      "223/223 [==============================] - 557s 2s/step - loss: 0.2986 - accuracy: 0.9980 - val_loss: 0.9723 - val_accuracy: 0.9980\n",
      "Epoch 21/300\n",
      "223/223 [==============================] - 554s 2s/step - loss: 0.3048 - accuracy: 0.9980 - val_loss: 0.6287 - val_accuracy: 0.9953\n",
      "Epoch 22/300\n",
      "223/223 [==============================] - 556s 2s/step - loss: 0.2844 - accuracy: 0.9980 - val_loss: 0.6116 - val_accuracy: 0.9975\n",
      "Epoch 23/300\n",
      "223/223 [==============================] - 554s 2s/step - loss: 0.2635 - accuracy: 0.9980 - val_loss: 0.6127 - val_accuracy: 0.9972\n",
      "Epoch 24/300\n",
      "223/223 [==============================] - 556s 2s/step - loss: 0.2649 - accuracy: 0.9980 - val_loss: 0.7235 - val_accuracy: 0.9978\n",
      "Epoch 25/300\n",
      "223/223 [==============================] - 554s 2s/step - loss: 0.3046 - accuracy: 0.9980 - val_loss: 1.1297 - val_accuracy: 0.7245\n"
     ]
    },
    {
     "data": {
      "text/plain": [
       "<keras.callbacks.History at 0x7f6380d7bfd0>"
      ]
     },
     "execution_count": 7,
     "metadata": {},
     "output_type": "execute_result"
    }
   ],
   "source": [
    "# I have based myself on this tutorial:\n",
    "# https://keras.io/examples/vision/3D_image_classification/\n",
    "\n",
    "## DEFINE VARIABLES ##\n",
    "# In the paper, a batch size of 5 was used.\n",
    "# They also found DiceLoss to be the best loss function to train the model\n",
    "batch_size = 5\n",
    "epochs = 300\n",
    "loss_function = DiceLoss\n",
    "\n",
    "\n",
    "## DEFINE CALLBACKS ##\n",
    "# A Callback is an object that can perform actions at various stages of training\n",
    "# ModelCheckpoint will save the best weights of the training\n",
    "# EarlyStopping stops the training when val_loss stops improving\n",
    "checkpoint_cb = keras.callbacks.ModelCheckpoint(\n",
    "    filepath=data_folder_path+\"_best_weights.h5\",\n",
    "    monitor = \"val_loss\",\n",
    "    save_best_only=True)\n",
    "early_stopping_cb = keras.callbacks.EarlyStopping(monitor=\"val_loss\", \n",
    "                                                  patience=15)\n",
    "\n",
    "## TRAIN THE MODEL ##\n",
    "model = PUResNet()\n",
    "model.compile(loss=loss_function, optimizer=\"adam\", \n",
    "              metrics=[\"accuracy\"])\n",
    "\n",
    "model.fit(X_train, y_train, \n",
    "          batch_size=batch_size, epochs=epochs, \n",
    "          validation_split=0.1, shuffle=True,\n",
    "          callbacks=[checkpoint_cb, early_stopping_cb])"
   ]
  },
  {
   "cell_type": "markdown",
   "id": "d9ab7824",
   "metadata": {},
   "source": [
    "## Visualise the model"
   ]
  },
  {
   "cell_type": "code",
   "execution_count": 13,
   "id": "13a15195",
   "metadata": {
    "vscode": {
     "languageId": "python"
    }
   },
   "outputs": [],
   "source": [
    "np.save(data_folder_path+'_accuracy.npy', model.history.history[\"accuracy\"])\n",
    "np.save(data_folder_path+'_val_loss.npy', model.history.history[\"val_loss\"])"
   ]
  },
  {
   "cell_type": "code",
   "execution_count": 8,
   "id": "78dd7a67",
   "metadata": {
    "vscode": {
     "languageId": "python"
    }
   },
   "outputs": [
    {
     "data": {
      "image/png": "[encoded data removed]",
      "text/plain": [
       "<Figure size 2000x300 with 2 Axes>"
      ]
     },
     "metadata": {},
     "output_type": "display_data"
    }
   ],
   "source": [
    "# Visualize the performance of the model\n",
    "import matplotlib.pyplot as plt\n",
    "\n",
    "fig, ax = plt.subplots(1, 2, figsize=(20, 3))\n",
    "ax = ax.ravel()\n",
    "\n",
    "for i, metric in enumerate([\"accuracy\", \"loss\"]):\n",
    "    ax[i].plot(model.history.history[metric])\n",
    "    ax[i].plot(model.history.history[\"val_\" + metric])\n",
    "    ax[i].set_title(\"Model {}\".format(metric))\n",
    "    ax[i].set_xlabel(\"epochs\")\n",
    "    ax[i].set_ylabel(metric)\n",
    "    ax[i].legend([\"train\", \"val\"])\n",
    "    \n",
    "# Save into Data\n",
    "plt.savefig(data_folder_path+'.png')"
   ]
  },
  {
   "attachments": {},
   "cell_type": "markdown",
   "id": "8fd60887",
   "metadata": {},
   "source": [
    "Info:\n",
    "* train_test_subset_2000: trained with batch_size=5, early_stopping_cb=\"val_loss\", patience = 15, trained during 25 epochs"
   ]
  }
 ],
 "metadata": {
  "kernelspec": {
   "display_name": "TrialEnv2",
   "language": "python",
   "name": "trialenv2"
  }
 },
 "nbformat": 4,
 "nbformat_minor": 5
}
