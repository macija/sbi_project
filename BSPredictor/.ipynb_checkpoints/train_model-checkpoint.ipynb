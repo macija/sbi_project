{
 "cells": [
  {
   "cell_type": "markdown",
   "id": "172df2ca",
   "metadata": {},
   "source": [
    "How to add an environment to Jupyter Notebook:<br>\n",
    "`\n",
    "conda env list\n",
    "conda install -c anaconda ipykernel\n",
    "python -m ipykernel install --user --name=EnvironmentName\n",
    "`\n",
    "\n",
    "What I have added in TrialEnv2:<br>\n",
    "`\n",
    "conda install python=3.10\n",
    "conda install numpy\n",
    "conda install -c conda-forge openbabel\n",
    "conda install pandas\n",
    "conda install -c conda-forge rdkit\n",
    "conda install -c anaconda scikit-learn\n",
    "`"
   ]
  },
  {
   "cell_type": "code",
   "execution_count": 2,
   "id": "1ebd68f3",
   "metadata": {
    "vscode": {
     "languageId": "python"
    }
   },
   "outputs": [],
   "source": [
    "#!conda install -y -c conda-forge openbabel\n",
    "#Import files\n",
    "import os\n",
    "import warnings\n",
    "import numpy as np\n",
    "import keras\n",
    "import keras.backend as K\n",
    "from openbabel import pybel, openbabel\n",
    "from sklearn.model_selection import train_test_split\n",
    "\n",
    "from data import Featurizer, make_grid\n",
    "from PUResNet import PUResNet\n",
    "from train_functions import get_grids, get_training_data, DiceLoss"
   ]
  },
  {
   "cell_type": "markdown",
   "id": "d1aafd39",
   "metadata": {},
   "source": [
    "## Prepare the data"
   ]
  },
  {
   "cell_type": "code",
   "execution_count": 3,
   "id": "3ba10cfe",
   "metadata": {
    "vscode": {
     "languageId": "python"
    }
   },
   "outputs": [
    {
     "name": "stderr",
     "output_type": "stream",
     "text": [
      "==============================\n",
      "*** Open Babel Warning  in ReadMolecule\n",
      "  Failed to kekulize aromatic bonds in MOL2 file (title is 1d4o_NAP_1_protein)\n",
      "\n",
      "==============================\n",
      "*** Open Babel Warning  in ReadMolecule\n",
      "  Failed to kekulize aromatic bonds in MOL2 file (title is 2rd5_NLG_1_protein)\n",
      "\n"
     ]
    },
    {
     "name": "stdout",
     "output_type": "stream",
     "text": [
      "\n",
      "\n",
      "\n",
      "\n"
     ]
    },
    {
     "name": "stderr",
     "output_type": "stream",
     "text": [
      "==============================\n",
      "*** Open Babel Warning  in ReadMolecule\n",
      "  Failed to kekulize aromatic bonds in MOL2 file (title is 4g28_0W8_1_protein)\n",
      "\n",
      "==============================\n",
      "*** Open Babel Warning  in ReadMolecule\n",
      "  Failed to kekulize aromatic bonds in MOL2 file (title is 4f1l_0RY_2_protein)\n",
      "\n",
      "==============================\n",
      "*** Open Babel Warning  in ReadMolecule\n",
      "  Failed to kekulize aromatic bonds in MOL2 file (title is 1yc2_APR_4_protein)\n",
      "\n"
     ]
    },
    {
     "name": "stdout",
     "output_type": "stream",
     "text": [
      "\n",
      "\n",
      "\n",
      "\n"
     ]
    },
    {
     "name": "stderr",
     "output_type": "stream",
     "text": [
      "==============================\n",
      "*** Open Babel Warning  in ReadMolecule\n",
      "  Failed to kekulize aromatic bonds in MOL2 file (title is 4uaj_FAD_1_protein)\n",
      "\n",
      "==============================\n",
      "*** Open Babel Warning  in ReadMolecule\n",
      "  Failed to kekulize aromatic bonds in MOL2 file (title is 3uic_NAD_17_protein)\n",
      "\n",
      "==============================\n",
      "*** Open Babel Warning  in ReadMolecule\n",
      "  Failed to kekulize aromatic bonds in MOL2 file (title is 3u10_CMP_1_protein)\n",
      "\n",
      "==============================\n",
      "*** Open Babel Warning  in ReadMolecule\n",
      "  Failed to kekulize aromatic bonds in MOL2 file (title is 3aiv_HBO_1_protein)\n",
      "\n"
     ]
    },
    {
     "name": "stdout",
     "output_type": "stream",
     "text": [
      "\n",
      "\n",
      "\n"
     ]
    },
    {
     "name": "stderr",
     "output_type": "stream",
     "text": [
      "==============================\n",
      "*** Open Babel Warning  in ReadMolecule\n",
      "  Failed to kekulize aromatic bonds in MOL2 file (title is 3oyz_ACO_1_protein)\n",
      "\n",
      "==============================\n",
      "*** Open Babel Warning  in ReadMolecule\n",
      "  Failed to kekulize aromatic bonds in MOL2 file (title is 3kap_FMN_1_protein)\n",
      "\n",
      "==============================\n",
      "*** Open Babel Warning  in ReadMolecule\n",
      "  Failed to kekulize aromatic bonds in MOL2 file (title is 1ndy_FR3_1_protein)\n",
      "\n"
     ]
    },
    {
     "name": "stdout",
     "output_type": "stream",
     "text": [
      "\n",
      "\n"
     ]
    },
    {
     "name": "stderr",
     "output_type": "stream",
     "text": [
      "==============================\n",
      "*** Open Babel Warning  in ReadMolecule\n",
      "  Failed to kekulize aromatic bonds in MOL2 file (title is 4tmc_FMN_5_protein)\n",
      "\n",
      "==============================\n",
      "*** Open Babel Warning  in ReadMolecule\n",
      "  Failed to kekulize aromatic bonds in MOL2 file (title is 3wie_DN4_3_protein)\n",
      "\n"
     ]
    },
    {
     "name": "stdout",
     "output_type": "stream",
     "text": [
      "\n"
     ]
    },
    {
     "name": "stderr",
     "output_type": "stream",
     "text": [
      "==============================\n",
      "*** Open Babel Warning  in ReadMolecule\n",
      "  Failed to kekulize aromatic bonds in MOL2 file (title is 2ahc_VNL_1_protein)\n",
      "\n"
     ]
    },
    {
     "name": "stdout",
     "output_type": "stream",
     "text": [
      "\n"
     ]
    },
    {
     "name": "stderr",
     "output_type": "stream",
     "text": [
      "==============================\n",
      "*** Open Babel Warning  in ReadMolecule\n",
      "  Failed to kekulize aromatic bonds in MOL2 file (title is 1s4p_GDP_2_protein)\n",
      "\n"
     ]
    },
    {
     "name": "stdout",
     "output_type": "stream",
     "text": [
      "\n",
      "\n"
     ]
    },
    {
     "name": "stderr",
     "output_type": "stream",
     "text": [
      "==============================\n",
      "*** Open Babel Warning  in ReadMolecule\n",
      "  Failed to kekulize aromatic bonds in MOL2 file (title is 3ncq_ATP_2_protein)\n",
      "\n",
      "==============================\n",
      "*** Open Babel Warning  in ReadMolecule\n",
      "  Failed to kekulize aromatic bonds in MOL2 file (title is 2cdu_FAD_3_protein)\n",
      "\n"
     ]
    },
    {
     "name": "stdout",
     "output_type": "stream",
     "text": [
      "\n",
      "\n"
     ]
    },
    {
     "name": "stderr",
     "output_type": "stream",
     "text": [
      "==============================\n",
      "*** Open Babel Warning  in ReadMolecule\n",
      "  Failed to kekulize aromatic bonds in MOL2 file (title is 1ia3_TQ5_2_protein)\n",
      "\n",
      "==============================\n",
      "*** Open Babel Warning  in ReadMolecule\n",
      "  Failed to kekulize aromatic bonds in MOL2 file (title is 2wnb_C5P_1_protein)\n",
      "\n"
     ]
    },
    {
     "name": "stdout",
     "output_type": "stream",
     "text": [
      "\n",
      "\n"
     ]
    },
    {
     "name": "stderr",
     "output_type": "stream",
     "text": [
      "==============================\n",
      "*** Open Babel Warning  in ReadMolecule\n",
      "  Failed to kekulize aromatic bonds in MOL2 file (title is 2zx7_ZX7_1_protein)\n",
      "\n",
      "==============================\n",
      "*** Open Babel Warning  in ReadMolecule\n",
      "  Failed to kekulize aromatic bonds in MOL2 file (title is 3hko_ANP_1_protein)\n",
      "\n"
     ]
    },
    {
     "name": "stdout",
     "output_type": "stream",
     "text": [
      "\n"
     ]
    },
    {
     "name": "stderr",
     "output_type": "stream",
     "text": [
      "==============================\n",
      "*** Open Babel Warning  in ReadMolecule\n",
      "  Failed to kekulize aromatic bonds in MOL2 file (title is 1g3m_PCQ_1_protein)\n",
      "\n"
     ]
    },
    {
     "name": "stdout",
     "output_type": "stream",
     "text": [
      "\n",
      "\n"
     ]
    },
    {
     "name": "stderr",
     "output_type": "stream",
     "text": [
      "==============================\n",
      "*** Open Babel Warning  in ReadMolecule\n",
      "  Failed to kekulize aromatic bonds in MOL2 file (title is 4ma6_28E_1_protein)\n",
      "\n",
      "==============================\n",
      "*** Open Babel Warning  in ReadMolecule\n",
      "  Failed to kekulize aromatic bonds in MOL2 file (title is 4h1v_GNP_1_protein)\n",
      "\n",
      "==============================\n",
      "*** Open Babel Warning  in ReadMolecule\n",
      "  Failed to kekulize aromatic bonds in MOL2 file (title is 5a2w_AGS_3_protein)\n",
      "\n"
     ]
    },
    {
     "name": "stdout",
     "output_type": "stream",
     "text": [
      "\n",
      "\n"
     ]
    },
    {
     "name": "stderr",
     "output_type": "stream",
     "text": [
      "==============================\n",
      "*** Open Babel Warning  in ReadMolecule\n",
      "  Failed to kekulize aromatic bonds in MOL2 file (title is 1xe7_GUN_2_protein)\n",
      "\n"
     ]
    },
    {
     "name": "stdout",
     "output_type": "stream",
     "text": [
      "\n"
     ]
    },
    {
     "name": "stderr",
     "output_type": "stream",
     "text": [
      "==============================\n",
      "*** Open Babel Warning  in ReadMolecule\n",
      "  Failed to kekulize aromatic bonds in MOL2 file (title is 4k0b_SAM_1_protein)\n",
      "\n"
     ]
    },
    {
     "name": "stdout",
     "output_type": "stream",
     "text": [
      "\n",
      "\n"
     ]
    },
    {
     "name": "stderr",
     "output_type": "stream",
     "text": [
      "==============================\n",
      "*** Open Babel Warning  in ReadMolecule\n",
      "  Failed to kekulize aromatic bonds in MOL2 file (title is 2ovy_PFJ_1_protein)\n",
      "\n",
      "==============================\n",
      "*** Open Babel Warning  in ReadMolecule\n",
      "  Failed to kekulize aromatic bonds in MOL2 file (title is 3g5s_FAD_1_protein)\n",
      "\n"
     ]
    },
    {
     "name": "stdout",
     "output_type": "stream",
     "text": [
      "\n",
      "\n",
      "\n"
     ]
    },
    {
     "name": "stderr",
     "output_type": "stream",
     "text": [
      "==============================\n",
      "*** Open Babel Warning  in ReadMolecule\n",
      "  Failed to kekulize aromatic bonds in MOL2 file (title is 3ied_AN2_1_protein)\n",
      "\n",
      "==============================\n",
      "*** Open Babel Warning  in ReadMolecule\n",
      "  Failed to kekulize aromatic bonds in MOL2 file (title is 2zvp_NPO_2_protein)\n",
      "\n",
      "==============================\n",
      "*** Open Babel Warning  in ReadMolecule\n",
      "  Failed to kekulize aromatic bonds in MOL2 file (title is 1uxr_NAP_1_protein)\n",
      "\n"
     ]
    },
    {
     "name": "stdout",
     "output_type": "stream",
     "text": [
      "\n"
     ]
    },
    {
     "name": "stderr",
     "output_type": "stream",
     "text": [
      "==============================\n",
      "*** Open Babel Warning  in ReadMolecule\n",
      "  Failed to kekulize aromatic bonds in MOL2 file (title is 2oap_ANP_2_protein)\n",
      "\n"
     ]
    },
    {
     "name": "stdout",
     "output_type": "stream",
     "text": [
      "\n",
      "\n"
     ]
    },
    {
     "name": "stderr",
     "output_type": "stream",
     "text": [
      "==============================\n",
      "*** Open Babel Warning  in ReadMolecule\n",
      "  Failed to kekulize aromatic bonds in MOL2 file (title is 3qn1_A8S_1_protein)\n",
      "\n",
      "==============================\n",
      "*** Open Babel Warning  in ReadMolecule\n",
      "  Failed to kekulize aromatic bonds in MOL2 file (title is 4w9w_YDJ_1_protein)\n",
      "\n",
      "==============================\n",
      "*** Open Babel Warning  in ReadMolecule\n",
      "  Failed to kekulize aromatic bonds in MOL2 file (title is 4xnh_ACO_1_protein)\n",
      "\n",
      "==============================\n",
      "*** Open Babel Warning  in ReadMolecule\n",
      "  Failed to kekulize aromatic bonds in MOL2 file (title is 3oa2_NAD_3_protein)\n",
      "\n"
     ]
    },
    {
     "name": "stdout",
     "output_type": "stream",
     "text": [
      "\n",
      "\n",
      "\n",
      "\n",
      "\n"
     ]
    },
    {
     "name": "stderr",
     "output_type": "stream",
     "text": [
      "==============================\n",
      "*** Open Babel Warning  in ReadMolecule\n",
      "  Failed to kekulize aromatic bonds in MOL2 file (title is 3pwc_ANH_1_protein)\n",
      "\n",
      "==============================\n",
      "*** Open Babel Warning  in ReadMolecule\n",
      "  Failed to kekulize aromatic bonds in MOL2 file (title is 3c0g_3AM_1_protein)\n",
      "\n",
      "==============================\n",
      "*** Open Babel Warning  in ReadMolecule\n",
      "  Failed to kekulize aromatic bonds in MOL2 file (title is 1x2h_LPA_1_protein)\n",
      "\n"
     ]
    },
    {
     "name": "stdout",
     "output_type": "stream",
     "text": [
      "\n"
     ]
    },
    {
     "name": "stderr",
     "output_type": "stream",
     "text": [
      "==============================\n",
      "*** Open Babel Warning  in ReadMolecule\n",
      "  Failed to kekulize aromatic bonds in MOL2 file (title is 2c20_NAD_2_protein)\n",
      "\n"
     ]
    },
    {
     "name": "stdout",
     "output_type": "stream",
     "text": [
      "\n",
      "\n"
     ]
    },
    {
     "name": "stderr",
     "output_type": "stream",
     "text": [
      "==============================\n",
      "*** Open Babel Warning  in ReadMolecule\n",
      "  Failed to kekulize aromatic bonds in MOL2 file (title is 4fn4_NAD_3_protein)\n",
      "\n",
      "==============================\n",
      "*** Open Babel Warning  in ReadMolecule\n",
      "  Failed to kekulize aromatic bonds in MOL2 file (title is 1yl7_NAI_1_protein)\n",
      "\n"
     ]
    },
    {
     "name": "stdout",
     "output_type": "stream",
     "text": [
      "\n"
     ]
    },
    {
     "name": "stderr",
     "output_type": "stream",
     "text": [
      "==============================\n",
      "*** Open Babel Warning  in ReadMolecule\n",
      "  Failed to kekulize aromatic bonds in MOL2 file (title is 2pnc_CLU_1_protein)\n",
      "\n"
     ]
    },
    {
     "name": "stdout",
     "output_type": "stream",
     "text": [
      "\n",
      "\n"
     ]
    },
    {
     "name": "stderr",
     "output_type": "stream",
     "text": [
      "==============================\n",
      "*** Open Babel Warning  in ReadMolecule\n",
      "  Failed to kekulize aromatic bonds in MOL2 file (title is 2v95_HCY_1_protein)\n",
      "\n",
      "==============================\n",
      "*** Open Babel Warning  in ReadMolecule\n",
      "  Failed to kekulize aromatic bonds in MOL2 file (title is 4lfi_GNP_1_protein)\n",
      "\n"
     ]
    },
    {
     "name": "stdout",
     "output_type": "stream",
     "text": [
      "\n"
     ]
    },
    {
     "name": "stderr",
     "output_type": "stream",
     "text": [
      "==============================\n",
      "*** Open Babel Warning  in ReadMolecule\n",
      "  Failed to kekulize aromatic bonds in MOL2 file (title is 1q19_SSC_4_protein)\n",
      "\n"
     ]
    },
    {
     "name": "stdout",
     "output_type": "stream",
     "text": [
      "\n",
      "\n"
     ]
    },
    {
     "name": "stderr",
     "output_type": "stream",
     "text": [
      "==============================\n",
      "*** Open Babel Warning  in ReadMolecule\n",
      "  Failed to kekulize aromatic bonds in MOL2 file (title is 3lnb_COA_1_protein)\n",
      "\n",
      "==============================\n",
      "*** Open Babel Warning  in ReadMolecule\n",
      "  Failed to kekulize aromatic bonds in MOL2 file (title is 1cdk_ANP_1_protein)\n",
      "\n"
     ]
    },
    {
     "name": "stdout",
     "output_type": "stream",
     "text": [
      "\n"
     ]
    },
    {
     "name": "stderr",
     "output_type": "stream",
     "text": [
      "==============================\n",
      "*** Open Babel Warning  in ReadMolecule\n",
      "  Failed to kekulize aromatic bonds in MOL2 file (title is 3qe2_FMN_2_protein)\n",
      "\n"
     ]
    },
    {
     "name": "stdout",
     "output_type": "stream",
     "text": [
      "\n"
     ]
    },
    {
     "name": "stderr",
     "output_type": "stream",
     "text": [
      "==============================\n",
      "*** Open Babel Warning  in ReadMolecule\n",
      "  Failed to kekulize aromatic bonds in MOL2 file (title is 2r3y_VAL_TYR_TRP_PHE_1_protein)\n",
      "\n"
     ]
    },
    {
     "name": "stdout",
     "output_type": "stream",
     "text": [
      "\n"
     ]
    },
    {
     "name": "stderr",
     "output_type": "stream",
     "text": [
      "==============================\n",
      "*** Open Babel Warning  in ReadMolecule\n",
      "  Failed to kekulize aromatic bonds in MOL2 file (title is 2hun_NAD_1_protein)\n",
      "\n"
     ]
    },
    {
     "name": "stdout",
     "output_type": "stream",
     "text": [
      "\n"
     ]
    },
    {
     "name": "stderr",
     "output_type": "stream",
     "text": [
      "==============================\n",
      "*** Open Babel Warning  in ReadMolecule\n",
      "  This Mol2 file is non-standard. Problem with molecule: 4qi7_FAD_4_protein Cannot interpret atom types correctly, instead attempting to interpret atom type: PT as elements instead.\n",
      "==============================\n",
      "*** Open Babel Warning  in Translate\n",
      "  Cannot perform atom type translation: table cannot find requested types.\n",
      "==============================\n",
      "*** Open Babel Warning  in ReadMolecule\n",
      "  This Mol2 file is non-standard. Problem with molecule: 4qi7_FAD_4_protein Cannot interpret atom types correctly, instead attempting to interpret atom type: PT as elements instead.\n",
      "==============================\n",
      "*** Open Babel Warning  in Translate\n",
      "  Cannot perform atom type translation: table cannot find requested types.\n",
      "==============================\n",
      "*** Open Babel Warning  in ReadMolecule\n",
      "  This Mol2 file is non-standard. Problem with molecule: 4qi7_FAD_4_protein Cannot interpret atom types correctly, instead attempting to interpret atom type: PT as elements instead.\n",
      "==============================\n",
      "*** Open Babel Warning  in Translate\n",
      "  Cannot perform atom type translation: table cannot find requested types.\n",
      "==============================\n",
      "*** Open Babel Warning  in ReadMolecule\n",
      "  This Mol2 file is non-standard. Problem with molecule: 4qi7_FAD_4_protein Cannot interpret atom types correctly, instead attempting to interpret atom type: PT as elements instead.\n",
      "==============================\n",
      "*** Open Babel Warning  in Translate\n",
      "  Cannot perform atom type translation: table cannot find requested types.\n",
      "==============================\n",
      "*** Open Babel Warning  in ReadMolecule\n",
      "  This Mol2 file is non-standard. Problem with molecule: 4qi7_FAD_4_protein Cannot interpret atom types correctly, instead attempting to interpret atom type: PT as elements instead.\n",
      "==============================\n",
      "*** Open Babel Warning  in Translate\n",
      "  Cannot perform atom type translation: table cannot find requested types.\n",
      "==============================\n",
      "*** Open Babel Warning  in ReadMolecule\n",
      "  This Mol2 file is non-standard. Problem with molecule: 4qi7_FAD_4_protein Cannot interpret atom types correctly, instead attempting to interpret atom type: PT as elements instead.\n",
      "==============================\n",
      "*** Open Babel Warning  in Translate\n",
      "  Cannot perform atom type translation: table cannot find requested types.\n",
      "==============================\n",
      "*** Open Babel Warning  in ReadMolecule\n",
      "  This Mol2 file is non-standard. Problem with molecule: 4qi7_FAD_4_protein Cannot interpret atom types correctly, instead attempting to interpret atom type: PT as elements instead.\n",
      "==============================\n",
      "*** Open Babel Warning  in Translate\n",
      "  Cannot perform atom type translation: table cannot find requested types.\n",
      "==============================\n",
      "*** Open Babel Warning  in ReadMolecule\n",
      "  This Mol2 file is non-standard. Problem with molecule: 4qi7_FAD_4_protein Cannot interpret atom types correctly, instead attempting to interpret atom type: PT as elements instead.\n",
      "==============================\n",
      "*** Open Babel Warning  in Translate\n",
      "  Cannot perform atom type translation: table cannot find requested types.\n",
      "==============================\n",
      "*** Open Babel Warning  in ReadMolecule\n",
      "  Failed to kekulize aromatic bonds in MOL2 file (title is 4qi7_FAD_4_protein)\n",
      "\n"
     ]
    },
    {
     "name": "stdout",
     "output_type": "stream",
     "text": [
      "\n",
      "\n"
     ]
    },
    {
     "name": "stderr",
     "output_type": "stream",
     "text": [
      "==============================\n",
      "*** Open Babel Warning  in ReadMolecule\n",
      "  Failed to kekulize aromatic bonds in MOL2 file (title is 2nyu_SAM_2_protein)\n",
      "\n",
      "==============================\n",
      "*** Open Babel Warning  in ReadMolecule\n",
      "  Failed to kekulize aromatic bonds in MOL2 file (title is 4rnh_C2E_1_protein)\n",
      "\n"
     ]
    },
    {
     "name": "stdout",
     "output_type": "stream",
     "text": [
      "\n",
      "\n"
     ]
    },
    {
     "name": "stderr",
     "output_type": "stream",
     "text": [
      "==============================\n",
      "*** Open Babel Warning  in ReadMolecule\n",
      "  Failed to kekulize aromatic bonds in MOL2 file (title is 2x86_ADP_3_protein)\n",
      "\n",
      "==============================\n",
      "*** Open Babel Warning  in ReadMolecule\n",
      "  Failed to kekulize aromatic bonds in MOL2 file (title is 3n87_N87_10_protein)\n",
      "\n"
     ]
    },
    {
     "name": "stdout",
     "output_type": "stream",
     "text": [
      "\n"
     ]
    },
    {
     "name": "stderr",
     "output_type": "stream",
     "text": [
      "==============================\n",
      "*** Open Babel Warning  in ReadMolecule\n",
      "  Failed to kekulize aromatic bonds in MOL2 file (title is 4ccq_NAP_3_protein)\n",
      "\n"
     ]
    },
    {
     "name": "stdout",
     "output_type": "stream",
     "text": [
      "\n"
     ]
    },
    {
     "name": "stderr",
     "output_type": "stream",
     "text": [
      "==============================\n",
      "*** Open Babel Warning  in ReadMolecule\n",
      "  Failed to kekulize aromatic bonds in MOL2 file (title is 1s20_NAD_4_protein)\n",
      "\n"
     ]
    },
    {
     "name": "stdout",
     "output_type": "stream",
     "text": [
      "\n",
      "\n"
     ]
    },
    {
     "name": "stderr",
     "output_type": "stream",
     "text": [
      "==============================\n",
      "*** Open Babel Warning  in ReadMolecule\n",
      "  Failed to kekulize aromatic bonds in MOL2 file (title is 3l7l_C2G_1_protein)\n",
      "\n",
      "==============================\n",
      "*** Open Babel Warning  in ReadMolecule\n",
      "  Failed to kekulize aromatic bonds in MOL2 file (title is 1r37_NAD_1_protein)\n",
      "\n"
     ]
    },
    {
     "name": "stdout",
     "output_type": "stream",
     "text": [
      "\n"
     ]
    },
    {
     "name": "stderr",
     "output_type": "stream",
     "text": [
      "==============================\n",
      "*** Open Babel Warning  in ReadMolecule\n",
      "  Failed to kekulize aromatic bonds in MOL2 file (title is 3dp9_BIG_2_protein)\n",
      "\n",
      "==============================\n",
      "*** Open Babel Warning  in ReadMolecule\n",
      "  Failed to kekulize aromatic bonds in MOL2 file (title is 3bj8_COA_1_protein)\n",
      "\n"
     ]
    },
    {
     "name": "stdout",
     "output_type": "stream",
     "text": [
      "\n",
      "\n"
     ]
    },
    {
     "name": "stderr",
     "output_type": "stream",
     "text": [
      "==============================\n",
      "*** Open Babel Warning  in ReadMolecule\n",
      "  Failed to kekulize aromatic bonds in MOL2 file (title is 3eof_FMN_2_protein)\n",
      "\n"
     ]
    },
    {
     "name": "stdout",
     "output_type": "stream",
     "text": [
      "\n",
      "\n"
     ]
    },
    {
     "name": "stderr",
     "output_type": "stream",
     "text": [
      "==============================\n",
      "*** Open Babel Warning  in ReadMolecule\n",
      "  Failed to kekulize aromatic bonds in MOL2 file (title is 3br0_MGR_1_protein)\n",
      "\n",
      "==============================\n",
      "*** Open Babel Warning  in ReadMolecule\n",
      "  Failed to kekulize aromatic bonds in MOL2 file (title is 3etd_B1T_1_protein)\n",
      "\n"
     ]
    },
    {
     "name": "stdout",
     "output_type": "stream",
     "text": [
      "\n",
      "\n"
     ]
    },
    {
     "name": "stderr",
     "output_type": "stream",
     "text": [
      "==============================\n",
      "*** Open Babel Warning  in ReadMolecule\n",
      "  Failed to kekulize aromatic bonds in MOL2 file (title is 4k5s_PM0_1_protein)\n",
      "\n",
      "==============================\n",
      "*** Open Babel Warning  in ReadMolecule\n",
      "  Failed to kekulize aromatic bonds in MOL2 file (title is 3ab1_FAD_1_protein)\n",
      "\n"
     ]
    },
    {
     "name": "stdout",
     "output_type": "stream",
     "text": [
      "\n"
     ]
    },
    {
     "name": "stderr",
     "output_type": "stream",
     "text": [
      "==============================\n",
      "*** Open Babel Warning  in ReadMolecule\n",
      "  Failed to kekulize aromatic bonds in MOL2 file (title is 2bwp_PLG_1_protein)\n",
      "\n"
     ]
    },
    {
     "name": "stdout",
     "output_type": "stream",
     "text": [
      "\n",
      "\n"
     ]
    },
    {
     "name": "stderr",
     "output_type": "stream",
     "text": [
      "==============================\n",
      "*** Open Babel Warning  in ReadMolecule\n",
      "  Failed to kekulize aromatic bonds in MOL2 file (title is 3hgm_ATP_2_protein)\n",
      "\n",
      "==============================\n",
      "*** Open Babel Warning  in ReadMolecule\n",
      "  Failed to kekulize aromatic bonds in MOL2 file (title is 1t57_FMN_3_protein)\n",
      "\n"
     ]
    },
    {
     "name": "stdout",
     "output_type": "stream",
     "text": [
      "\n",
      "\n"
     ]
    },
    {
     "name": "stderr",
     "output_type": "stream",
     "text": [
      "==============================\n",
      "*** Open Babel Warning  in ReadMolecule\n",
      "  This Mol2 file is non-standard. Problem with molecule: 2j5s_KTA_1_protein Cannot interpret atom types correctly, instead attempting to interpret atom type: NI as elements instead.\n",
      "==============================\n",
      "*** Open Babel Warning  in Translate\n",
      "  Cannot perform atom type translation: table cannot find requested types.\n",
      "==============================\n",
      "*** Open Babel Warning  in ReadMolecule\n",
      "  This Mol2 file is non-standard. Problem with molecule: 2j5s_KTA_1_protein Cannot interpret atom types correctly, instead attempting to interpret atom type: NI as elements instead.\n",
      "==============================\n",
      "*** Open Babel Warning  in Translate\n",
      "  Cannot perform atom type translation: table cannot find requested types.\n",
      "==============================\n",
      "*** Open Babel Warning  in ReadMolecule\n",
      "  Failed to kekulize aromatic bonds in MOL2 file (title is 2j5s_KTA_1_protein)\n",
      "\n",
      "==============================\n",
      "*** Open Babel Warning  in ReadMolecule\n",
      "  Failed to kekulize aromatic bonds in MOL2 file (title is 2g25_TDK_2_protein)\n",
      "\n"
     ]
    },
    {
     "name": "stdout",
     "output_type": "stream",
     "text": [
      "\n",
      "\n"
     ]
    },
    {
     "name": "stderr",
     "output_type": "stream",
     "text": [
      "==============================\n",
      "*** Open Babel Warning  in ReadMolecule\n",
      "  Failed to kekulize aromatic bonds in MOL2 file (title is 3tr0_5GP_1_protein)\n",
      "\n",
      "==============================\n",
      "*** Open Babel Warning  in ReadMolecule\n",
      "  Failed to kekulize aromatic bonds in MOL2 file (title is 4m0e_1YL_1_protein)\n",
      "\n"
     ]
    },
    {
     "name": "stdout",
     "output_type": "stream",
     "text": [
      "\n"
     ]
    },
    {
     "name": "stderr",
     "output_type": "stream",
     "text": [
      "==============================\n",
      "*** Open Babel Warning  in ReadMolecule\n",
      "  Failed to kekulize aromatic bonds in MOL2 file (title is 2bf4_FMN_6_protein)\n",
      "\n"
     ]
    },
    {
     "name": "stdout",
     "output_type": "stream",
     "text": [
      "\n"
     ]
    },
    {
     "name": "stderr",
     "output_type": "stream",
     "text": [
      "==============================\n",
      "*** Open Babel Warning  in ReadMolecule\n",
      "  Failed to kekulize aromatic bonds in MOL2 file (title is 1mlz_TZA_1_protein)\n",
      "\n"
     ]
    },
    {
     "name": "stdout",
     "output_type": "stream",
     "text": [
      "\n"
     ]
    },
    {
     "name": "stderr",
     "output_type": "stream",
     "text": [
      "==============================\n",
      "*** Open Babel Warning  in ReadMolecule\n",
      "  Failed to kekulize aromatic bonds in MOL2 file (title is 1txt_CAA_1_protein)\n",
      "\n"
     ]
    },
    {
     "name": "stdout",
     "output_type": "stream",
     "text": [
      "\n"
     ]
    },
    {
     "name": "stderr",
     "output_type": "stream",
     "text": [
      "==============================\n",
      "*** Open Babel Warning  in ReadMolecule\n",
      "  Failed to kekulize aromatic bonds in MOL2 file (title is 3g6w_GTP_3_protein)\n",
      "\n"
     ]
    },
    {
     "name": "stdout",
     "output_type": "stream",
     "text": [
      "\n"
     ]
    },
    {
     "name": "stderr",
     "output_type": "stream",
     "text": [
      "==============================\n",
      "*** Open Babel Warning  in ReadMolecule\n",
      "  Failed to kekulize aromatic bonds in MOL2 file (title is 4u7t_SAH_2_protein)\n",
      "\n",
      "==============================\n",
      "*** Open Babel Warning  in ReadMolecule\n",
      "  Failed to kekulize aromatic bonds in MOL2 file (title is 1o7n_IND_1_protein)\n",
      "\n"
     ]
    },
    {
     "name": "stdout",
     "output_type": "stream",
     "text": [
      "\n",
      "\n",
      "\n"
     ]
    },
    {
     "name": "stderr",
     "output_type": "stream",
     "text": [
      "==============================\n",
      "*** Open Babel Warning  in ReadMolecule\n",
      "  Failed to kekulize aromatic bonds in MOL2 file (title is 4b1u_LAB_1_protein)\n",
      "\n",
      "==============================\n",
      "*** Open Babel Warning  in ReadMolecule\n",
      "  Failed to kekulize aromatic bonds in MOL2 file (title is 2ieg_FRY_2_protein)\n",
      "\n"
     ]
    },
    {
     "name": "stdout",
     "output_type": "stream",
     "text": [
      "\n"
     ]
    },
    {
     "name": "stderr",
     "output_type": "stream",
     "text": [
      "==============================\n",
      "*** Open Babel Warning  in ReadMolecule\n",
      "  Failed to kekulize aromatic bonds in MOL2 file (title is 4o1p_ANP_6_protein)\n",
      "\n"
     ]
    },
    {
     "name": "stdout",
     "output_type": "stream",
     "text": [
      "\n",
      "\n"
     ]
    },
    {
     "name": "stderr",
     "output_type": "stream",
     "text": [
      "==============================\n",
      "*** Open Babel Warning  in ReadMolecule\n",
      "  Failed to kekulize aromatic bonds in MOL2 file (title is 4cr8_NAD_6_protein)\n",
      "\n",
      "==============================\n",
      "*** Open Babel Warning  in ReadMolecule\n",
      "  Failed to kekulize aromatic bonds in MOL2 file (title is 4ith_RCM_2_protein)\n",
      "\n"
     ]
    },
    {
     "name": "stdout",
     "output_type": "stream",
     "text": [
      "\n",
      "\n"
     ]
    },
    {
     "name": "stderr",
     "output_type": "stream",
     "text": [
      "==============================\n",
      "*** Open Babel Warning  in ReadMolecule\n",
      "  Failed to kekulize aromatic bonds in MOL2 file (title is 4gv4_MEJ_1_protein)\n",
      "\n",
      "==============================\n",
      "*** Open Babel Warning  in ReadMolecule\n",
      "  Failed to kekulize aromatic bonds in MOL2 file (title is 2w9s_TOP_5_protein)\n",
      "\n"
     ]
    },
    {
     "name": "stdout",
     "output_type": "stream",
     "text": [
      "\n",
      "\n"
     ]
    },
    {
     "name": "stderr",
     "output_type": "stream",
     "text": [
      "==============================\n",
      "*** Open Babel Warning  in ReadMolecule\n",
      "  Failed to kekulize aromatic bonds in MOL2 file (title is 4x4j_FAD_1_protein)\n",
      "\n",
      "==============================\n",
      "*** Open Babel Warning  in ReadMolecule\n",
      "  Failed to kekulize aromatic bonds in MOL2 file (title is 4jnn_BEN_1_protein)\n",
      "\n"
     ]
    },
    {
     "name": "stdout",
     "output_type": "stream",
     "text": [
      "\n",
      "\n"
     ]
    },
    {
     "name": "stderr",
     "output_type": "stream",
     "text": [
      "==============================\n",
      "*** Open Babel Warning  in ReadMolecule\n",
      "  Failed to kekulize aromatic bonds in MOL2 file (title is 5i2f_BS5_1_protein)\n",
      "\n",
      "==============================\n",
      "*** Open Babel Warning  in ReadMolecule\n",
      "  Failed to kekulize aromatic bonds in MOL2 file (title is 4gqb_0XU_1_protein)\n",
      "\n"
     ]
    },
    {
     "name": "stdout",
     "output_type": "stream",
     "text": [
      "\n"
     ]
    },
    {
     "name": "stderr",
     "output_type": "stream",
     "text": [
      "==============================\n",
      "*** Open Babel Warning  in ReadMolecule\n",
      "  Failed to kekulize aromatic bonds in MOL2 file (title is 3i6i_NDP_1_protein)\n",
      "\n",
      "==============================\n",
      "*** Open Babel Warning  in ReadMolecule\n",
      "  Failed to kekulize aromatic bonds in MOL2 file (title is 4s1h_ADP_2_protein)\n",
      "\n"
     ]
    },
    {
     "name": "stdout",
     "output_type": "stream",
     "text": [
      "\n",
      "\n"
     ]
    },
    {
     "name": "stderr",
     "output_type": "stream",
     "text": [
      "==============================\n",
      "*** Open Babel Warning  in ReadMolecule\n",
      "  Failed to kekulize aromatic bonds in MOL2 file (title is 1bdb_NAD_1_protein)\n",
      "\n",
      "==============================\n",
      "*** Open Babel Warning  in ReadMolecule\n",
      "  Failed to kekulize aromatic bonds in MOL2 file (title is 1r2j_FAD_1_protein)\n",
      "\n"
     ]
    },
    {
     "name": "stdout",
     "output_type": "stream",
     "text": [
      "\n",
      "\n"
     ]
    },
    {
     "name": "stderr",
     "output_type": "stream",
     "text": [
      "==============================\n",
      "*** Open Babel Warning  in ReadMolecule\n",
      "  Failed to kekulize aromatic bonds in MOL2 file (title is 3ef6_FAD_1_protein)\n",
      "\n",
      "==============================\n",
      "*** Open Babel Warning  in ReadMolecule\n",
      "  Failed to kekulize aromatic bonds in MOL2 file (title is 4hb9_FAD_1_protein)\n",
      "\n"
     ]
    },
    {
     "name": "stdout",
     "output_type": "stream",
     "text": [
      "\n",
      "\n"
     ]
    },
    {
     "name": "stderr",
     "output_type": "stream",
     "text": [
      "==============================\n",
      "*** Open Babel Warning  in ReadMolecule\n",
      "  Failed to kekulize aromatic bonds in MOL2 file (title is 2ztl_NAD_3_protein)\n",
      "\n"
     ]
    },
    {
     "name": "stdout",
     "output_type": "stream",
     "text": [
      "\n"
     ]
    },
    {
     "name": "stderr",
     "output_type": "stream",
     "text": [
      "==============================\n",
      "*** Open Babel Warning  in ReadMolecule\n",
      "  Failed to kekulize aromatic bonds in MOL2 file (title is 2r2n_KYN_4_protein)\n",
      "\n"
     ]
    },
    {
     "name": "stdout",
     "output_type": "stream",
     "text": [
      "\n"
     ]
    },
    {
     "name": "stderr",
     "output_type": "stream",
     "text": [
      "==============================\n",
      "*** Open Babel Warning  in ReadMolecule\n",
      "  Failed to kekulize aromatic bonds in MOL2 file (title is 5l3s_GNP_3_protein)\n",
      "\n",
      "==============================\n",
      "*** Open Babel Warning  in ReadMolecule\n",
      "  Failed to kekulize aromatic bonds in MOL2 file (title is 3dy8_5GP_1_protein)\n",
      "\n"
     ]
    },
    {
     "name": "stdout",
     "output_type": "stream",
     "text": [
      "\n",
      "\n"
     ]
    },
    {
     "name": "stderr",
     "output_type": "stream",
     "text": [
      "==============================\n",
      "*** Open Babel Warning  in ReadMolecule\n",
      "  Failed to kekulize aromatic bonds in MOL2 file (title is 2fdd_385_1_protein)\n",
      "\n",
      "==============================\n",
      "*** Open Babel Warning  in ReadMolecule\n",
      "  Failed to kekulize aromatic bonds in MOL2 file (title is 1lj8_NAD_1_protein)\n",
      "\n"
     ]
    },
    {
     "name": "stdout",
     "output_type": "stream",
     "text": [
      "\n",
      "\n"
     ]
    },
    {
     "name": "stderr",
     "output_type": "stream",
     "text": [
      "==============================\n",
      "*** Open Babel Warning  in ReadMolecule\n",
      "  Failed to kekulize aromatic bonds in MOL2 file (title is 4gyy_12V_1_protein)\n",
      "\n"
     ]
    },
    {
     "name": "stdout",
     "output_type": "stream",
     "text": [
      "\n",
      "\n"
     ]
    },
    {
     "name": "stderr",
     "output_type": "stream",
     "text": [
      "==============================\n",
      "*** Open Babel Warning  in ReadMolecule\n",
      "  Failed to kekulize aromatic bonds in MOL2 file (title is 5aun_ADP_1_protein)\n",
      "\n",
      "==============================\n",
      "*** Open Babel Warning  in ReadMolecule\n",
      "  Failed to kekulize aromatic bonds in MOL2 file (title is 3egt_722_2_protein)\n",
      "\n"
     ]
    },
    {
     "name": "stdout",
     "output_type": "stream",
     "text": [
      "\n",
      "\n"
     ]
    },
    {
     "name": "stderr",
     "output_type": "stream",
     "text": [
      "==============================\n",
      "*** Open Babel Warning  in ReadMolecule\n",
      "  Failed to kekulize aromatic bonds in MOL2 file (title is 2ei0_BP7_2_protein)\n",
      "\n",
      "==============================\n",
      "*** Open Babel Warning  in ReadMolecule\n",
      "  Failed to kekulize aromatic bonds in MOL2 file (title is 5bx3_NOJ_1_protein)\n",
      "\n"
     ]
    },
    {
     "name": "stdout",
     "output_type": "stream",
     "text": [
      "\n",
      "\n"
     ]
    },
    {
     "name": "stderr",
     "output_type": "stream",
     "text": [
      "==============================\n",
      "*** Open Babel Warning  in ReadMolecule\n",
      "  Failed to kekulize aromatic bonds in MOL2 file (title is 3e23_SAM_1_protein)\n",
      "\n",
      "==============================\n",
      "*** Open Babel Warning  in ReadMolecule\n",
      "  Failed to kekulize aromatic bonds in MOL2 file (title is 4aov_NAP_1_protein)\n",
      "\n"
     ]
    },
    {
     "name": "stdout",
     "output_type": "stream",
     "text": [
      "\n"
     ]
    },
    {
     "name": "stderr",
     "output_type": "stream",
     "text": [
      "==============================\n",
      "*** Open Babel Warning  in ReadMolecule\n",
      "  Failed to kekulize aromatic bonds in MOL2 file (title is 3e30_ED4_1_protein)\n",
      "\n"
     ]
    },
    {
     "name": "stdout",
     "output_type": "stream",
     "text": [
      "\n"
     ]
    },
    {
     "name": "stderr",
     "output_type": "stream",
     "text": [
      "==============================\n",
      "*** Open Babel Warning  in ReadMolecule\n",
      "  Failed to kekulize aromatic bonds in MOL2 file (title is 1vyq_DUX_2_protein)\n",
      "\n",
      "==============================\n",
      "*** Open Babel Warning  in ReadMolecule\n",
      "  Failed to kekulize aromatic bonds in MOL2 file (title is 1vl8_NAP_2_protein)\n",
      "\n"
     ]
    },
    {
     "name": "stdout",
     "output_type": "stream",
     "text": [
      "\n",
      "\n"
     ]
    },
    {
     "name": "stderr",
     "output_type": "stream",
     "text": [
      "==============================\n",
      "*** Open Babel Warning  in ReadMolecule\n",
      "  Failed to kekulize aromatic bonds in MOL2 file (title is 3my0_LDN_6_protein)\n",
      "\n"
     ]
    },
    {
     "name": "stdout",
     "output_type": "stream",
     "text": [
      "\n"
     ]
    },
    {
     "name": "stderr",
     "output_type": "stream",
     "text": [
      "==============================\n",
      "*** Open Babel Warning  in ReadMolecule\n",
      "  Failed to kekulize aromatic bonds in MOL2 file (title is 4i9a_NCN_2_protein)\n",
      "\n",
      "==============================\n",
      "*** Open Babel Warning  in ReadMolecule\n",
      "  Failed to kekulize aromatic bonds in MOL2 file (title is 3ngl_NAP_1_protein)\n",
      "\n"
     ]
    },
    {
     "name": "stdout",
     "output_type": "stream",
     "text": [
      "\n",
      "\n",
      "\n"
     ]
    },
    {
     "name": "stderr",
     "output_type": "stream",
     "text": [
      "==============================\n",
      "*** Open Babel Warning  in ReadMolecule\n",
      "  Failed to kekulize aromatic bonds in MOL2 file (title is 3g1r_FIT_1_protein)\n",
      "\n",
      "==============================\n",
      "*** Open Babel Warning  in ReadMolecule\n",
      "  Failed to kekulize aromatic bonds in MOL2 file (title is 3s6f_COA_1_protein)\n",
      "\n"
     ]
    },
    {
     "name": "stdout",
     "output_type": "stream",
     "text": [
      "\n"
     ]
    },
    {
     "name": "stderr",
     "output_type": "stream",
     "text": [
      "==============================\n",
      "*** Open Babel Warning  in ReadMolecule\n",
      "  Failed to kekulize aromatic bonds in MOL2 file (title is 4p0g_BLG_1_protein)\n",
      "\n"
     ]
    },
    {
     "name": "stdout",
     "output_type": "stream",
     "text": [
      "\n"
     ]
    },
    {
     "name": "stderr",
     "output_type": "stream",
     "text": [
      "==============================\n",
      "*** Open Babel Warning  in ReadMolecule\n",
      "  Failed to kekulize aromatic bonds in MOL2 file (title is 4ylf_FAD_3_protein)\n",
      "\n"
     ]
    },
    {
     "name": "stdout",
     "output_type": "stream",
     "text": [
      "\n",
      "\n"
     ]
    },
    {
     "name": "stderr",
     "output_type": "stream",
     "text": [
      "==============================\n",
      "*** Open Babel Warning  in ReadMolecule\n",
      "  Failed to kekulize aromatic bonds in MOL2 file (title is 3aw9_GDU_2_protein)\n",
      "\n",
      "==============================\n",
      "*** Open Babel Warning  in ReadMolecule\n",
      "  Failed to kekulize aromatic bonds in MOL2 file (title is 4d0l_GSP_3_protein)\n",
      "\n"
     ]
    },
    {
     "name": "stdout",
     "output_type": "stream",
     "text": [
      "\n"
     ]
    },
    {
     "name": "stderr",
     "output_type": "stream",
     "text": [
      "==============================\n",
      "*** Open Babel Warning  in ReadMolecule\n",
      "  Failed to kekulize aromatic bonds in MOL2 file (title is 1v9a_SAH_2_protein)\n",
      "\n"
     ]
    },
    {
     "name": "stdout",
     "output_type": "stream",
     "text": [
      "\n"
     ]
    },
    {
     "name": "stderr",
     "output_type": "stream",
     "text": [
      "==============================\n",
      "*** Open Babel Warning  in ReadMolecule\n",
      "  Failed to kekulize aromatic bonds in MOL2 file (title is 3dsr_ADP_1_protein)\n",
      "\n"
     ]
    },
    {
     "name": "stdout",
     "output_type": "stream",
     "text": [
      "\n"
     ]
    },
    {
     "name": "stderr",
     "output_type": "stream",
     "text": [
      "==============================\n",
      "*** Open Babel Warning  in ReadMolecule\n",
      "  Failed to kekulize aromatic bonds in MOL2 file (title is 3f5m_ATP_1_protein)\n",
      "\n"
     ]
    },
    {
     "name": "stdout",
     "output_type": "stream",
     "text": [
      "\n"
     ]
    },
    {
     "name": "stderr",
     "output_type": "stream",
     "text": [
      "==============================\n",
      "*** Open Babel Warning  in ReadMolecule\n",
      "  Failed to kekulize aromatic bonds in MOL2 file (title is 3nbz_GTP_2_protein)\n",
      "\n"
     ]
    },
    {
     "name": "stdout",
     "output_type": "stream",
     "text": [
      "\n",
      "\n"
     ]
    },
    {
     "name": "stderr",
     "output_type": "stream",
     "text": [
      "==============================\n",
      "*** Open Babel Warning  in ReadMolecule\n",
      "  This Mol2 file is non-standard. Problem with molecule: 2dpm_SAM_1_protein Cannot interpret atom types correctly, instead attempting to interpret atom type: HG as elements instead.\n",
      "==============================\n",
      "*** Open Babel Warning  in Translate\n",
      "  Cannot perform atom type translation: table cannot find requested types.\n",
      "==============================\n",
      "*** Open Babel Warning  in ReadMolecule\n",
      "  Failed to kekulize aromatic bonds in MOL2 file (title is 2dpm_SAM_1_protein)\n",
      "\n",
      "==============================\n",
      "*** Open Babel Warning  in ReadMolecule\n",
      "  Failed to kekulize aromatic bonds in MOL2 file (title is 4PHU_LIGPROTBWATER_PROTEIN)\n",
      "\n"
     ]
    },
    {
     "name": "stdout",
     "output_type": "stream",
     "text": [
      "\n"
     ]
    },
    {
     "name": "stderr",
     "output_type": "stream",
     "text": [
      "==============================\n",
      "*** Open Babel Warning  in ReadMolecule\n",
      "  Failed to kekulize aromatic bonds in MOL2 file (title is 2ibu_COA_2_protein)\n",
      "\n"
     ]
    },
    {
     "name": "stdout",
     "output_type": "stream",
     "text": [
      "\n"
     ]
    },
    {
     "name": "stderr",
     "output_type": "stream",
     "text": [
      "==============================\n",
      "*** Open Babel Warning  in ReadMolecule\n",
      "  Failed to kekulize aromatic bonds in MOL2 file (title is 1reo_FAD_1_protein)\n",
      "\n"
     ]
    },
    {
     "name": "stdout",
     "output_type": "stream",
     "text": [
      "\n"
     ]
    },
    {
     "name": "stderr",
     "output_type": "stream",
     "text": [
      "==============================\n",
      "*** Open Babel Warning  in ReadMolecule\n",
      "  Failed to kekulize aromatic bonds in MOL2 file (title is 2hyd_ADP_1_protein)\n",
      "\n"
     ]
    },
    {
     "name": "stdout",
     "output_type": "stream",
     "text": [
      "\n"
     ]
    },
    {
     "name": "stderr",
     "output_type": "stream",
     "text": [
      "==============================\n",
      "*** Open Babel Warning  in ReadMolecule\n",
      "  Failed to kekulize aromatic bonds in MOL2 file (title is 4tnb_SGV_1_protein)\n",
      "\n"
     ]
    },
    {
     "name": "stdout",
     "output_type": "stream",
     "text": [
      "\n"
     ]
    },
    {
     "name": "stderr",
     "output_type": "stream",
     "text": [
      "==============================\n",
      "*** Open Babel Warning  in ReadMolecule\n",
      "  Failed to kekulize aromatic bonds in MOL2 file (title is 1ofg_NDP_1_protein)\n",
      "\n"
     ]
    },
    {
     "name": "stdout",
     "output_type": "stream",
     "text": [
      "\n"
     ]
    },
    {
     "name": "stderr",
     "output_type": "stream",
     "text": [
      "==============================\n",
      "*** Open Babel Warning  in ReadMolecule\n",
      "  Failed to kekulize aromatic bonds in MOL2 file (title is 4l5a_TBN_4_protein)\n",
      "\n"
     ]
    },
    {
     "name": "stdout",
     "output_type": "stream",
     "text": [
      "\n",
      "\n"
     ]
    },
    {
     "name": "stderr",
     "output_type": "stream",
     "text": [
      "==============================\n",
      "*** Open Babel Warning  in ReadMolecule\n",
      "  Failed to kekulize aromatic bonds in MOL2 file (title is 4brg_GNP_1_protein)\n",
      "\n",
      "==============================\n",
      "*** Open Babel Warning  in ReadMolecule\n",
      "  Failed to kekulize aromatic bonds in MOL2 file (title is 3pqb_VGP_3_protein)\n",
      "\n",
      "==============================\n",
      "*** Open Babel Warning  in ReadMolecule\n",
      "  Failed to kekulize aromatic bonds in MOL2 file (title is 2c29_NAP_3_protein)\n",
      "\n"
     ]
    },
    {
     "name": "stdout",
     "output_type": "stream",
     "text": [
      "\n",
      "\n",
      "\n"
     ]
    },
    {
     "name": "stderr",
     "output_type": "stream",
     "text": [
      "==============================\n",
      "*** Open Babel Warning  in ReadMolecule\n",
      "  Failed to kekulize aromatic bonds in MOL2 file (title is 4m0c_FMN_2_protein)\n",
      "\n",
      "==============================\n",
      "*** Open Babel Warning  in ReadMolecule\n",
      "  Failed to kekulize aromatic bonds in MOL2 file (title is 4xsd_UMP_1_protein)\n",
      "\n"
     ]
    },
    {
     "name": "stdout",
     "output_type": "stream",
     "text": [
      "\n",
      "\n"
     ]
    },
    {
     "name": "stderr",
     "output_type": "stream",
     "text": [
      "==============================\n",
      "*** Open Babel Warning  in ReadMolecule\n",
      "  Failed to kekulize aromatic bonds in MOL2 file (title is 3n2e_OSA_2_protein)\n",
      "\n",
      "==============================\n",
      "*** Open Babel Warning  in ReadMolecule\n",
      "  Failed to kekulize aromatic bonds in MOL2 file (title is 2wsb_NAD_4_protein)\n",
      "\n"
     ]
    },
    {
     "name": "stdout",
     "output_type": "stream",
     "text": [
      "\n"
     ]
    },
    {
     "name": "stderr",
     "output_type": "stream",
     "text": [
      "==============================\n",
      "*** Open Babel Warning  in ReadMolecule\n",
      "  Failed to kekulize aromatic bonds in MOL2 file (title is 4bmv_NAP_2_protein)\n",
      "\n"
     ]
    },
    {
     "name": "stdout",
     "output_type": "stream",
     "text": [
      "\n"
     ]
    },
    {
     "name": "stderr",
     "output_type": "stream",
     "text": [
      "==============================\n",
      "*** Open Babel Warning  in ReadMolecule\n",
      "  Failed to kekulize aromatic bonds in MOL2 file (title is 3wy9_GDP_2_protein)\n",
      "\n",
      "==============================\n",
      "*** Open Babel Warning  in ReadMolecule\n",
      "  Failed to kekulize aromatic bonds in MOL2 file (title is 1pk9_2FA_2_protein)\n",
      "\n"
     ]
    },
    {
     "name": "stdout",
     "output_type": "stream",
     "text": [
      "\n",
      "\n"
     ]
    },
    {
     "name": "stderr",
     "output_type": "stream",
     "text": [
      "==============================\n",
      "*** Open Babel Warning  in ReadMolecule\n",
      "  Failed to kekulize aromatic bonds in MOL2 file (title is 2a7r_5GP_3_protein)\n",
      "\n"
     ]
    },
    {
     "name": "stdout",
     "output_type": "stream",
     "text": [
      "\n",
      "\n"
     ]
    },
    {
     "name": "stderr",
     "output_type": "stream",
     "text": [
      "==============================\n",
      "*** Open Babel Warning  in ReadMolecule\n",
      "  Failed to kekulize aromatic bonds in MOL2 file (title is 3t01_PPF_1_protein)\n",
      "\n",
      "==============================\n",
      "*** Open Babel Warning  in ReadMolecule\n",
      "  Failed to kekulize aromatic bonds in MOL2 file (title is 2q4v_ACO_1_protein)\n",
      "\n"
     ]
    },
    {
     "name": "stdout",
     "output_type": "stream",
     "text": [
      "\n",
      "\n"
     ]
    },
    {
     "name": "stderr",
     "output_type": "stream",
     "text": [
      "==============================\n",
      "*** Open Babel Warning  in ReadMolecule\n",
      "  Failed to kekulize aromatic bonds in MOL2 file (title is 1t7i_017_1_protein)\n",
      "\n",
      "==============================\n",
      "*** Open Babel Warning  in ReadMolecule\n",
      "  Failed to kekulize aromatic bonds in MOL2 file (title is 1i0s_FMN_1_protein)\n",
      "\n"
     ]
    },
    {
     "name": "stdout",
     "output_type": "stream",
     "text": [
      "\n",
      "\n"
     ]
    },
    {
     "name": "stderr",
     "output_type": "stream",
     "text": [
      "==============================\n",
      "*** Open Babel Warning  in ReadMolecule\n",
      "  Failed to kekulize aromatic bonds in MOL2 file (title is 4fr0_SAM_1_protein)\n",
      "\n",
      "==============================\n",
      "*** Open Babel Warning  in ReadMolecule\n",
      "  Failed to kekulize aromatic bonds in MOL2 file (title is 4bw9_ANP_1_protein)\n",
      "\n"
     ]
    },
    {
     "name": "stdout",
     "output_type": "stream",
     "text": [
      "\n",
      "\n"
     ]
    },
    {
     "name": "stderr",
     "output_type": "stream",
     "text": [
      "==============================\n",
      "*** Open Babel Warning  in ReadMolecule\n",
      "  This Mol2 file is non-standard. Problem with molecule: 4wxl_BB2_3_protein Cannot interpret atom types correctly, instead attempting to interpret atom type: NI as elements instead.\n",
      "==============================\n",
      "*** Open Babel Warning  in Translate\n",
      "  Cannot perform atom type translation: table cannot find requested types.\n",
      "==============================\n",
      "*** Open Babel Warning  in ReadMolecule\n",
      "  This Mol2 file is non-standard. Problem with molecule: 4wxl_BB2_3_protein Cannot interpret atom types correctly, instead attempting to interpret atom type: NI as elements instead.\n",
      "==============================\n",
      "*** Open Babel Warning  in Translate\n",
      "  Cannot perform atom type translation: table cannot find requested types.\n",
      "==============================\n",
      "*** Open Babel Warning  in ReadMolecule\n",
      "  Failed to kekulize aromatic bonds in MOL2 file (title is 4wxl_BB2_3_protein)\n",
      "\n",
      "==============================\n",
      "*** Open Babel Warning  in ReadMolecule\n",
      "  Failed to kekulize aromatic bonds in MOL2 file (title is 3tut_ATP_1_protein)\n",
      "\n",
      "==============================\n",
      "*** Open Babel Warning  in ReadMolecule\n",
      "  Failed to kekulize aromatic bonds in MOL2 file (title is 1s7n_COA_4_protein)\n",
      "\n"
     ]
    },
    {
     "name": "stdout",
     "output_type": "stream",
     "text": [
      "\n",
      "\n"
     ]
    },
    {
     "name": "stderr",
     "output_type": "stream",
     "text": [
      "==============================\n",
      "*** Open Babel Warning  in ReadMolecule\n",
      "  Failed to kekulize aromatic bonds in MOL2 file (title is 2ouu_35G_1_protein)\n",
      "\n"
     ]
    },
    {
     "name": "stdout",
     "output_type": "stream",
     "text": [
      "\n",
      "\n"
     ]
    },
    {
     "name": "stderr",
     "output_type": "stream",
     "text": [
      "==============================\n",
      "*** Open Babel Warning  in ReadMolecule\n",
      "  Failed to kekulize aromatic bonds in MOL2 file (title is 3abi_NAD_1_protein)\n",
      "\n",
      "==============================\n",
      "*** Open Babel Warning  in ReadMolecule\n",
      "  Failed to kekulize aromatic bonds in MOL2 file (title is 2wtk_ANP_1_protein)\n",
      "\n"
     ]
    },
    {
     "name": "stdout",
     "output_type": "stream",
     "text": [
      "\n",
      "\n"
     ]
    },
    {
     "name": "stderr",
     "output_type": "stream",
     "text": [
      "==============================\n",
      "*** Open Babel Warning  in ReadMolecule\n",
      "  Failed to kekulize aromatic bonds in MOL2 file (title is 3p9t_TCL_2_protein)\n",
      "\n",
      "==============================\n",
      "*** Open Babel Warning  in ReadMolecule\n",
      "  This Mol2 file is non-standard. Problem with molecule: 1a4z_NAD_4_protein Cannot interpret atom types correctly, instead attempting to interpret atom type: SM as elements instead.\n",
      "==============================\n",
      "*** Open Babel Warning  in Translate\n",
      "  Cannot perform atom type translation: table cannot find requested types.\n",
      "==============================\n",
      "*** Open Babel Warning  in ReadMolecule\n",
      "  This Mol2 file is non-standard. Problem with molecule: 1a4z_NAD_4_protein Cannot interpret atom types correctly, instead attempting to interpret atom type: SM as elements instead.\n",
      "==============================\n",
      "*** Open Babel Warning  in Translate\n",
      "  Cannot perform atom type translation: table cannot find requested types.\n",
      "==============================\n",
      "*** Open Babel Warning  in ReadMolecule\n",
      "  This Mol2 file is non-standard. Problem with molecule: 1a4z_NAD_4_protein Cannot interpret atom types correctly, instead attempting to interpret atom type: SM as elements instead.\n",
      "==============================\n",
      "*** Open Babel Warning  in Translate\n",
      "  Cannot perform atom type translation: table cannot find requested types.\n",
      "==============================\n",
      "*** Open Babel Warning  in ReadMolecule\n",
      "  This Mol2 file is non-standard. Problem with molecule: 1a4z_NAD_4_protein Cannot interpret atom types correctly, instead attempting to interpret atom type: SM as elements instead.\n",
      "==============================\n",
      "*** Open Babel Warning  in Translate\n",
      "  Cannot perform atom type translation: table cannot find requested types.\n",
      "==============================\n",
      "*** Open Babel Warning  in ReadMolecule\n",
      "  Failed to kekulize aromatic bonds in MOL2 file (title is 1a4z_NAD_4_protein)\n",
      "\n"
     ]
    },
    {
     "name": "stdout",
     "output_type": "stream",
     "text": [
      "\n",
      "\n"
     ]
    },
    {
     "name": "stderr",
     "output_type": "stream",
     "text": [
      "==============================\n",
      "*** Open Babel Warning  in ReadMolecule\n",
      "  Failed to kekulize aromatic bonds in MOL2 file (title is 2nv4_SAM_2_protein)\n",
      "\n",
      "==============================\n",
      "*** Open Babel Warning  in ReadMolecule\n",
      "  Failed to kekulize aromatic bonds in MOL2 file (title is 3mup_SMK_1_protein)\n",
      "\n"
     ]
    },
    {
     "name": "stdout",
     "output_type": "stream",
     "text": [
      "\n",
      "\n"
     ]
    },
    {
     "name": "stderr",
     "output_type": "stream",
     "text": [
      "==============================\n",
      "*** Open Babel Warning  in ReadMolecule\n",
      "  Failed to kekulize aromatic bonds in MOL2 file (title is 3te5_NAI_1_protein)\n",
      "\n",
      "==============================\n",
      "*** Open Babel Warning  in ReadMolecule\n",
      "  Failed to kekulize aromatic bonds in MOL2 file (title is 3SN6_LIGPROT_PROTEIN)\n",
      "\n"
     ]
    },
    {
     "name": "stdout",
     "output_type": "stream",
     "text": [
      "\n",
      "\n"
     ]
    },
    {
     "name": "stderr",
     "output_type": "stream",
     "text": [
      "==============================\n",
      "*** Open Babel Warning  in ReadMolecule\n",
      "  Failed to kekulize aromatic bonds in MOL2 file (title is 2bue_COA_1_protein)\n",
      "\n",
      "==============================\n",
      "*** Open Babel Warning  in ReadMolecule\n",
      "  Failed to kekulize aromatic bonds in MOL2 file (title is 1u26_IHS_2_protein)\n",
      "\n"
     ]
    },
    {
     "name": "stdout",
     "output_type": "stream",
     "text": [
      "\n"
     ]
    },
    {
     "name": "stderr",
     "output_type": "stream",
     "text": [
      "==============================\n",
      "*** Open Babel Warning  in ReadMolecule\n",
      "  Failed to kekulize aromatic bonds in MOL2 file (title is 4xqg_1PS_2_protein)\n",
      "\n"
     ]
    },
    {
     "name": "stdout",
     "output_type": "stream",
     "text": [
      "\n",
      "\n"
     ]
    },
    {
     "name": "stderr",
     "output_type": "stream",
     "text": [
      "==============================\n",
      "*** Open Babel Warning  in ReadMolecule\n",
      "  Failed to kekulize aromatic bonds in MOL2 file (title is 4pds_ANP_1_protein)\n",
      "\n",
      "==============================\n",
      "*** Open Babel Warning  in ReadMolecule\n",
      "  Failed to kekulize aromatic bonds in MOL2 file (title is 4i1i_NAD_1_protein)\n",
      "\n"
     ]
    },
    {
     "name": "stdout",
     "output_type": "stream",
     "text": [
      "\n",
      "\n"
     ]
    },
    {
     "name": "stderr",
     "output_type": "stream",
     "text": [
      "==============================\n",
      "*** Open Babel Warning  in ReadMolecule\n",
      "  Failed to kekulize aromatic bonds in MOL2 file (title is 2k1q_GLU_LEU_IBU_OBF_FE3_1_protein)\n",
      "\n",
      "==============================\n",
      "*** Open Babel Warning  in ReadMolecule\n",
      "  Failed to kekulize aromatic bonds in MOL2 file (title is 1sz3_GNP_1_protein)\n",
      "\n"
     ]
    },
    {
     "name": "stdout",
     "output_type": "stream",
     "text": [
      "\n"
     ]
    },
    {
     "name": "stderr",
     "output_type": "stream",
     "text": [
      "==============================\n",
      "*** Open Babel Warning  in ReadMolecule\n",
      "  Failed to kekulize aromatic bonds in MOL2 file (title is 4db1_ANP_1_protein)\n",
      "\n"
     ]
    },
    {
     "name": "stdout",
     "output_type": "stream",
     "text": [
      "\n"
     ]
    },
    {
     "name": "stderr",
     "output_type": "stream",
     "text": [
      "==============================\n",
      "*** Open Babel Warning  in ReadMolecule\n",
      "  Failed to kekulize aromatic bonds in MOL2 file (title is 4luh_DIU_2_protein)\n",
      "\n"
     ]
    },
    {
     "name": "stdout",
     "output_type": "stream",
     "text": [
      "\n"
     ]
    },
    {
     "name": "stderr",
     "output_type": "stream",
     "text": [
      "==============================\n",
      "*** Open Babel Warning  in ReadMolecule\n",
      "  Failed to kekulize aromatic bonds in MOL2 file (title is 3jus_BCD_2_protein)\n",
      "\n"
     ]
    },
    {
     "name": "stdout",
     "output_type": "stream",
     "text": [
      "\n"
     ]
    },
    {
     "name": "stderr",
     "output_type": "stream",
     "text": [
      "==============================\n",
      "*** Open Babel Warning  in ReadMolecule\n",
      "  Failed to kekulize aromatic bonds in MOL2 file (title is 2buf_ADP_18_protein)\n",
      "\n"
     ]
    },
    {
     "name": "stdout",
     "output_type": "stream",
     "text": [
      "\n"
     ]
    },
    {
     "name": "stderr",
     "output_type": "stream",
     "text": [
      "==============================\n",
      "*** Open Babel Warning  in ReadMolecule\n",
      "  Failed to kekulize aromatic bonds in MOL2 file (title is 4yi7_BE2_1_protein)\n",
      "\n"
     ]
    },
    {
     "name": "stdout",
     "output_type": "stream",
     "text": [
      "\n"
     ]
    },
    {
     "name": "stderr",
     "output_type": "stream",
     "text": [
      "==============================\n",
      "*** Open Babel Warning  in ReadMolecule\n",
      "  Failed to kekulize aromatic bonds in MOL2 file (title is 2x2n_X2N_4_protein)\n",
      "\n"
     ]
    },
    {
     "name": "stdout",
     "output_type": "stream",
     "text": [
      "\n"
     ]
    },
    {
     "name": "stderr",
     "output_type": "stream",
     "text": [
      "==============================\n",
      "*** Open Babel Warning  in ReadMolecule\n",
      "  Failed to kekulize aromatic bonds in MOL2 file (title is 4at2_ASD_1_protein)\n",
      "\n"
     ]
    },
    {
     "name": "stdout",
     "output_type": "stream",
     "text": [
      "\n"
     ]
    },
    {
     "name": "stderr",
     "output_type": "stream",
     "text": [
      "==============================\n",
      "*** Open Babel Warning  in ReadMolecule\n",
      "  Failed to kekulize aromatic bonds in MOL2 file (title is 2wo8_077_1_protein)\n",
      "\n"
     ]
    },
    {
     "name": "stdout",
     "output_type": "stream",
     "text": [
      "\n"
     ]
    },
    {
     "name": "stderr",
     "output_type": "stream",
     "text": [
      "==============================\n",
      "*** Open Babel Warning  in ReadMolecule\n",
      "  This Mol2 file is non-standard. Problem with molecule: 4ybn_FAD_2_protein Cannot interpret atom types correctly, instead attempting to interpret atom type: NI as elements instead.\n",
      "==============================\n",
      "*** Open Babel Warning  in Translate\n",
      "  Cannot perform atom type translation: table cannot find requested types.\n",
      "==============================\n",
      "*** Open Babel Warning  in ReadMolecule\n",
      "  This Mol2 file is non-standard. Problem with molecule: 4ybn_FAD_2_protein Cannot interpret atom types correctly, instead attempting to interpret atom type: NI as elements instead.\n",
      "==============================\n",
      "*** Open Babel Warning  in Translate\n",
      "  Cannot perform atom type translation: table cannot find requested types.\n",
      "==============================\n",
      "*** Open Babel Warning  in ReadMolecule\n",
      "  Failed to kekulize aromatic bonds in MOL2 file (title is 4ybn_FAD_2_protein)\n",
      "\n",
      "==============================\n",
      "*** Open Babel Warning  in ReadMolecule\n",
      "  Failed to kekulize aromatic bonds in MOL2 file (title is 1n4s_CYS_VAL_ILE_LEU_GER_4_protein)\n",
      "\n"
     ]
    },
    {
     "name": "stdout",
     "output_type": "stream",
     "text": [
      "\n",
      "\n",
      "\n"
     ]
    },
    {
     "name": "stderr",
     "output_type": "stream",
     "text": [
      "==============================\n",
      "*** Open Babel Warning  in ReadMolecule\n",
      "  Failed to kekulize aromatic bonds in MOL2 file (title is 3lzx_NAP_4_protein)\n",
      "\n",
      "==============================\n",
      "*** Open Babel Warning  in ReadMolecule\n",
      "  Failed to kekulize aromatic bonds in MOL2 file (title is 4mo2_FAD_2_protein)\n",
      "\n"
     ]
    },
    {
     "name": "stdout",
     "output_type": "stream",
     "text": [
      "\n"
     ]
    },
    {
     "name": "stderr",
     "output_type": "stream",
     "text": [
      "==============================\n",
      "*** Open Babel Warning  in ReadMolecule\n",
      "  Failed to kekulize aromatic bonds in MOL2 file (title is 2pid_YSA_1_protein)\n",
      "\n"
     ]
    },
    {
     "name": "stdout",
     "output_type": "stream",
     "text": [
      "\n",
      "\n"
     ]
    },
    {
     "name": "stderr",
     "output_type": "stream",
     "text": [
      "==============================\n",
      "*** Open Babel Warning  in ReadMolecule\n",
      "  Failed to kekulize aromatic bonds in MOL2 file (title is 1um8_ADP_1_protein)\n",
      "\n",
      "==============================\n",
      "*** Open Babel Warning  in ReadMolecule\n",
      "  Failed to kekulize aromatic bonds in MOL2 file (title is 1vpm_COA_2_protein)\n",
      "\n"
     ]
    },
    {
     "name": "stdout",
     "output_type": "stream",
     "text": [
      "\n"
     ]
    },
    {
     "name": "stderr",
     "output_type": "stream",
     "text": [
      "==============================\n",
      "*** Open Babel Warning  in ReadMolecule\n",
      "  Failed to kekulize aromatic bonds in MOL2 file (title is 5DSG_LIGPROTBWATER_PROTEIN)\n",
      "\n"
     ]
    },
    {
     "name": "stdout",
     "output_type": "stream",
     "text": [
      "\n"
     ]
    },
    {
     "name": "stderr",
     "output_type": "stream",
     "text": [
      "==============================\n",
      "*** Open Babel Warning  in ReadMolecule\n",
      "  Failed to kekulize aromatic bonds in MOL2 file (title is 1b48_HAG_1_protein)\n",
      "\n"
     ]
    },
    {
     "name": "stdout",
     "output_type": "stream",
     "text": [
      "\n"
     ]
    },
    {
     "name": "stderr",
     "output_type": "stream",
     "text": [
      "==============================\n",
      "*** Open Babel Warning  in ReadMolecule\n",
      "  Failed to kekulize aromatic bonds in MOL2 file (title is 3cty_FAD_1_protein)\n",
      "\n"
     ]
    },
    {
     "name": "stdout",
     "output_type": "stream",
     "text": [
      "\n"
     ]
    },
    {
     "name": "stderr",
     "output_type": "stream",
     "text": [
      "==============================\n",
      "*** Open Babel Warning  in ReadMolecule\n",
      "  Failed to kekulize aromatic bonds in MOL2 file (title is 4d0l_093_1_protein)\n",
      "\n",
      "==============================\n",
      "*** Open Babel Warning  in ReadMolecule\n",
      "  Failed to kekulize aromatic bonds in MOL2 file (title is 4tx9_AMZ_1_protein)\n",
      "\n"
     ]
    },
    {
     "name": "stdout",
     "output_type": "stream",
     "text": [
      "\n",
      "\n"
     ]
    },
    {
     "name": "stderr",
     "output_type": "stream",
     "text": [
      "==============================\n",
      "*** Open Babel Warning  in ReadMolecule\n",
      "  Failed to kekulize aromatic bonds in MOL2 file (title is 4l44_5FI_1_protein)\n",
      "\n",
      "==============================\n",
      "*** Open Babel Warning  in ReadMolecule\n",
      "  Failed to kekulize aromatic bonds in MOL2 file (title is 2px5_SAH_1_protein)\n",
      "\n"
     ]
    },
    {
     "name": "stdout",
     "output_type": "stream",
     "text": [
      "\n",
      "\n",
      "\n"
     ]
    },
    {
     "name": "stderr",
     "output_type": "stream",
     "text": [
      "==============================\n",
      "*** Open Babel Warning  in ReadMolecule\n",
      "  Failed to kekulize aromatic bonds in MOL2 file (title is 4pzd_NAD_9_protein)\n",
      "\n",
      "==============================\n",
      "*** Open Babel Warning  in ReadMolecule\n",
      "  Failed to kekulize aromatic bonds in MOL2 file (title is 1nup_NMN_2_protein)\n",
      "\n"
     ]
    },
    {
     "name": "stdout",
     "output_type": "stream",
     "text": [
      "\n"
     ]
    },
    {
     "name": "stderr",
     "output_type": "stream",
     "text": [
      "==============================\n",
      "*** Open Babel Warning  in ReadMolecule\n",
      "  Failed to kekulize aromatic bonds in MOL2 file (title is 1x27_ASP_ASP_TYR_VAL_PTR_1_protein)\n",
      "\n"
     ]
    },
    {
     "name": "stdout",
     "output_type": "stream",
     "text": [
      "\n",
      "\n"
     ]
    },
    {
     "name": "stderr",
     "output_type": "stream",
     "text": [
      "==============================\n",
      "*** Open Babel Warning  in ReadMolecule\n",
      "  Failed to kekulize aromatic bonds in MOL2 file (title is 3daw_ATP_1_protein)\n",
      "\n",
      "==============================\n",
      "*** Open Babel Warning  in ReadMolecule\n",
      "  Failed to kekulize aromatic bonds in MOL2 file (title is 1eh4_IC1_2_protein)\n",
      "\n"
     ]
    },
    {
     "name": "stdout",
     "output_type": "stream",
     "text": [
      "\n",
      "\n"
     ]
    },
    {
     "name": "stderr",
     "output_type": "stream",
     "text": [
      "==============================\n",
      "*** Open Babel Warning  in ReadMolecule\n",
      "  Failed to kekulize aromatic bonds in MOL2 file (title is 3mdz_EZL_1_protein)\n",
      "\n",
      "==============================\n",
      "*** Open Babel Warning  in ReadMolecule\n",
      "  Failed to kekulize aromatic bonds in MOL2 file (title is 4uwm_FMN_2_protein)\n",
      "\n"
     ]
    },
    {
     "name": "stdout",
     "output_type": "stream",
     "text": [
      "\n",
      "\n"
     ]
    },
    {
     "name": "stderr",
     "output_type": "stream",
     "text": [
      "==============================\n",
      "*** Open Babel Warning  in ReadMolecule\n",
      "  Failed to kekulize aromatic bonds in MOL2 file (title is 4o0l_NDP_3_protein)\n",
      "\n",
      "==============================\n",
      "*** Open Babel Warning  in ReadMolecule\n",
      "  Failed to kekulize aromatic bonds in MOL2 file (title is 3faz_NOS_1_protein)\n",
      "\n"
     ]
    },
    {
     "name": "stdout",
     "output_type": "stream",
     "text": [
      "\n"
     ]
    },
    {
     "name": "stderr",
     "output_type": "stream",
     "text": [
      "==============================\n",
      "*** Open Babel Warning  in ReadMolecule\n",
      "  Failed to kekulize aromatic bonds in MOL2 file (title is 5bwd_FUM_1_protein)\n",
      "\n"
     ]
    },
    {
     "name": "stdout",
     "output_type": "stream",
     "text": [
      "\n"
     ]
    },
    {
     "name": "stderr",
     "output_type": "stream",
     "text": [
      "==============================\n",
      "*** Open Babel Warning  in ReadMolecule\n",
      "  Failed to kekulize aromatic bonds in MOL2 file (title is 3wbw_NDP_1_protein)\n",
      "\n"
     ]
    },
    {
     "name": "stdout",
     "output_type": "stream",
     "text": [
      "\n",
      "\n"
     ]
    },
    {
     "name": "stderr",
     "output_type": "stream",
     "text": [
      "==============================\n",
      "*** Open Babel Warning  in ReadMolecule\n",
      "  Failed to kekulize aromatic bonds in MOL2 file (title is 4ge1_TSS_4_protein)\n",
      "\n",
      "==============================\n",
      "*** Open Babel Warning  in ReadMolecule\n",
      "  Failed to kekulize aromatic bonds in MOL2 file (title is 3h0r_ATP_2_protein)\n",
      "\n",
      "==============================\n",
      "*** Open Babel Warning  in ReadMolecule\n",
      "  Failed to kekulize aromatic bonds in MOL2 file (title is 1re0_AFB_1_protein)\n",
      "\n"
     ]
    },
    {
     "name": "stdout",
     "output_type": "stream",
     "text": [
      "\n",
      "\n"
     ]
    },
    {
     "name": "stderr",
     "output_type": "stream",
     "text": [
      "==============================\n",
      "*** Open Babel Warning  in ReadMolecule\n",
      "  Failed to kekulize aromatic bonds in MOL2 file (title is 1n83_CLR_1_protein)\n",
      "\n",
      "==============================\n",
      "*** Open Babel Warning  in ReadMolecule\n",
      "  Failed to kekulize aromatic bonds in MOL2 file (title is 2c1z_U2F_2_protein)\n",
      "\n"
     ]
    },
    {
     "name": "stdout",
     "output_type": "stream",
     "text": [
      "\n",
      "\n"
     ]
    },
    {
     "name": "stderr",
     "output_type": "stream",
     "text": [
      "==============================\n",
      "*** Open Babel Warning  in ReadMolecule\n",
      "  Failed to kekulize aromatic bonds in MOL2 file (title is 1h83_FAD_3_protein)\n",
      "\n"
     ]
    },
    {
     "name": "stdout",
     "output_type": "stream",
     "text": [
      "\n"
     ]
    },
    {
     "name": "stderr",
     "output_type": "stream",
     "text": [
      "==============================\n",
      "*** Open Babel Warning  in ReadMolecule\n",
      "  Failed to kekulize aromatic bonds in MOL2 file (title is 1o8c_NDP_1_protein)\n",
      "\n"
     ]
    },
    {
     "name": "stdout",
     "output_type": "stream",
     "text": [
      "\n"
     ]
    },
    {
     "name": "stderr",
     "output_type": "stream",
     "text": [
      "==============================\n",
      "*** Open Babel Warning  in ReadMolecule\n",
      "  Failed to kekulize aromatic bonds in MOL2 file (title is 3stj_UNK_UNK_UNK_UNK_UNK_9_protein)\n",
      "\n",
      "==============================\n",
      "*** Open Babel Warning  in ReadMolecule\n",
      "  Failed to kekulize aromatic bonds in MOL2 file (title is 1dej_ATP_1_protein)\n",
      "\n"
     ]
    },
    {
     "name": "stdout",
     "output_type": "stream",
     "text": [
      "\n",
      "\n",
      "\n"
     ]
    },
    {
     "name": "stderr",
     "output_type": "stream",
     "text": [
      "==============================\n",
      "*** Open Babel Warning  in ReadMolecule\n",
      "  Failed to kekulize aromatic bonds in MOL2 file (title is 3dtt_NAP_1_protein)\n",
      "\n",
      "==============================\n",
      "*** Open Babel Warning  in ReadMolecule\n",
      "  Failed to kekulize aromatic bonds in MOL2 file (title is 4je7_BB2_2_protein)\n",
      "\n"
     ]
    },
    {
     "name": "stdout",
     "output_type": "stream",
     "text": [
      "\n"
     ]
    },
    {
     "name": "stderr",
     "output_type": "stream",
     "text": [
      "==============================\n",
      "*** Open Babel Warning  in ReadMolecule\n",
      "  Failed to kekulize aromatic bonds in MOL2 file (title is 2vce_TC7_2_protein)\n",
      "\n"
     ]
    },
    {
     "name": "stdout",
     "output_type": "stream",
     "text": [
      "\n"
     ]
    },
    {
     "name": "stderr",
     "output_type": "stream",
     "text": [
      "==============================\n",
      "*** Open Babel Warning  in ReadMolecule\n",
      "  Failed to kekulize aromatic bonds in MOL2 file (title is 5it1_2OH_2_protein)\n",
      "\n"
     ]
    },
    {
     "name": "stdout",
     "output_type": "stream",
     "text": [
      "\n"
     ]
    },
    {
     "name": "stderr",
     "output_type": "stream",
     "text": [
      "==============================\n",
      "*** Open Babel Warning  in ReadMolecule\n",
      "  Failed to kekulize aromatic bonds in MOL2 file (title is 2zba_ZBA_4_protein)\n",
      "\n"
     ]
    },
    {
     "name": "stdout",
     "output_type": "stream",
     "text": [
      "\n",
      "\n"
     ]
    },
    {
     "name": "stderr",
     "output_type": "stream",
     "text": [
      "==============================\n",
      "*** Open Babel Warning  in ReadMolecule\n",
      "  Failed to kekulize aromatic bonds in MOL2 file (title is 4ds8_A8S_1_protein)\n",
      "\n"
     ]
    },
    {
     "name": "stdout",
     "output_type": "stream",
     "text": [
      "\n"
     ]
    },
    {
     "name": "stderr",
     "output_type": "stream",
     "text": [
      "==============================\n",
      "*** Open Babel Warning  in ReadMolecule\n",
      "  Failed to kekulize aromatic bonds in MOL2 file (title is 4g6h_FAD_1_protein)\n",
      "\n"
     ]
    },
    {
     "name": "stdout",
     "output_type": "stream",
     "text": [
      "\n"
     ]
    },
    {
     "name": "stderr",
     "output_type": "stream",
     "text": [
      "==============================\n",
      "*** Open Babel Warning  in ReadMolecule\n",
      "  Failed to kekulize aromatic bonds in MOL2 file (title is 3i5x_ANP_1_protein)\n",
      "\n"
     ]
    },
    {
     "name": "stdout",
     "output_type": "stream",
     "text": [
      "\n"
     ]
    },
    {
     "name": "stderr",
     "output_type": "stream",
     "text": [
      "==============================\n",
      "*** Open Babel Warning  in ReadMolecule\n",
      "  Failed to kekulize aromatic bonds in MOL2 file (title is 2vvc_LZF_1_protein)\n",
      "\n"
     ]
    },
    {
     "name": "stdout",
     "output_type": "stream",
     "text": [
      "\n"
     ]
    },
    {
     "name": "stderr",
     "output_type": "stream",
     "text": [
      "==============================\n",
      "*** Open Babel Warning  in ReadMolecule\n",
      "  Failed to kekulize aromatic bonds in MOL2 file (title is 4nif_ANP_2_protein)\n",
      "\n"
     ]
    },
    {
     "name": "stdout",
     "output_type": "stream",
     "text": [
      "\n"
     ]
    },
    {
     "name": "stderr",
     "output_type": "stream",
     "text": [
      "==============================\n",
      "*** Open Babel Warning  in ReadMolecule\n",
      "  Failed to kekulize aromatic bonds in MOL2 file (title is 4rvd_SAM_1_protein)\n",
      "\n"
     ]
    },
    {
     "name": "stdout",
     "output_type": "stream",
     "text": [
      "\n"
     ]
    },
    {
     "name": "stderr",
     "output_type": "stream",
     "text": [
      "==============================\n",
      "*** Open Babel Warning  in ReadMolecule\n",
      "  Failed to kekulize aromatic bonds in MOL2 file (title is 1xuz_PEP_2_protein)\n",
      "\n"
     ]
    },
    {
     "name": "stdout",
     "output_type": "stream",
     "text": [
      "\n"
     ]
    },
    {
     "name": "stderr",
     "output_type": "stream",
     "text": [
      "==============================\n",
      "*** Open Babel Warning  in ReadMolecule\n",
      "  Failed to kekulize aromatic bonds in MOL2 file (title is 2gm1_ADP_5_protein)\n",
      "\n"
     ]
    },
    {
     "name": "stdout",
     "output_type": "stream",
     "text": [
      "\n"
     ]
    },
    {
     "name": "stderr",
     "output_type": "stream",
     "text": [
      "==============================\n",
      "*** Open Babel Warning  in ReadMolecule\n",
      "  Failed to kekulize aromatic bonds in MOL2 file (title is 1kl2_FON_1_protein)\n",
      "\n"
     ]
    },
    {
     "name": "stdout",
     "output_type": "stream",
     "text": [
      "\n"
     ]
    },
    {
     "name": "stderr",
     "output_type": "stream",
     "text": [
      "==============================\n",
      "*** Open Babel Warning  in ReadMolecule\n",
      "  Failed to kekulize aromatic bonds in MOL2 file (title is 1ffu_FAD_2_protein)\n",
      "\n"
     ]
    },
    {
     "name": "stdout",
     "output_type": "stream",
     "text": [
      "\n"
     ]
    },
    {
     "name": "stderr",
     "output_type": "stream",
     "text": [
      "==============================\n",
      "*** Open Babel Warning  in ReadMolecule\n",
      "  Failed to kekulize aromatic bonds in MOL2 file (title is 4oqy_NDP_1_protein)\n",
      "\n"
     ]
    },
    {
     "name": "stdout",
     "output_type": "stream",
     "text": [
      "\n"
     ]
    },
    {
     "name": "stderr",
     "output_type": "stream",
     "text": [
      "==============================\n",
      "*** Open Babel Warning  in ReadMolecule\n",
      "  Failed to kekulize aromatic bonds in MOL2 file (title is 2zbw_FAD_2_protein)\n",
      "\n"
     ]
    },
    {
     "name": "stdout",
     "output_type": "stream",
     "text": [
      "\n",
      "\n"
     ]
    },
    {
     "name": "stderr",
     "output_type": "stream",
     "text": [
      "==============================\n",
      "*** Open Babel Warning  in ReadMolecule\n",
      "  Failed to kekulize aromatic bonds in MOL2 file (title is 4aub_NAP_3_protein)\n",
      "\n",
      "==============================\n",
      "*** Open Babel Warning  in ReadMolecule\n",
      "  Failed to kekulize aromatic bonds in MOL2 file (title is 1jvd_UD1_2_protein)\n",
      "\n"
     ]
    },
    {
     "name": "stdout",
     "output_type": "stream",
     "text": [
      "\n"
     ]
    },
    {
     "name": "stderr",
     "output_type": "stream",
     "text": [
      "==============================\n",
      "*** Open Babel Warning  in ReadMolecule\n",
      "  Failed to kekulize aromatic bonds in MOL2 file (title is 2f59_INI_1_protein)\n",
      "\n"
     ]
    },
    {
     "name": "stdout",
     "output_type": "stream",
     "text": [
      "\n"
     ]
    },
    {
     "name": "stderr",
     "output_type": "stream",
     "text": [
      "==============================\n",
      "*** Open Babel Warning  in ReadMolecule\n",
      "  Failed to kekulize aromatic bonds in MOL2 file (title is 1sq5_ADP_2_protein)\n",
      "\n"
     ]
    },
    {
     "name": "stdout",
     "output_type": "stream",
     "text": [
      "\n"
     ]
    },
    {
     "name": "stderr",
     "output_type": "stream",
     "text": [
      "==============================\n",
      "*** Open Babel Warning  in ReadMolecule\n",
      "  Failed to kekulize aromatic bonds in MOL2 file (title is 4fx9_COA_4_protein)\n",
      "\n"
     ]
    },
    {
     "name": "stdout",
     "output_type": "stream",
     "text": [
      "\n",
      "\n"
     ]
    },
    {
     "name": "stderr",
     "output_type": "stream",
     "text": [
      "==============================\n",
      "*** Open Babel Warning  in ReadMolecule\n",
      "  Failed to kekulize aromatic bonds in MOL2 file (title is 3qwf_NAP_7_protein)\n",
      "\n",
      "==============================\n",
      "*** Open Babel Warning  in ReadMolecule\n",
      "  Failed to kekulize aromatic bonds in MOL2 file (title is 3iwj_NAD_2_protein)\n",
      "\n"
     ]
    },
    {
     "name": "stdout",
     "output_type": "stream",
     "text": [
      "\n",
      "\n"
     ]
    },
    {
     "name": "stderr",
     "output_type": "stream",
     "text": [
      "==============================\n",
      "*** Open Babel Warning  in ReadMolecule\n",
      "  Failed to kekulize aromatic bonds in MOL2 file (title is 1ix1_BB2_2_protein)\n",
      "\n",
      "==============================\n",
      "*** Open Babel Warning  in ReadMolecule\n",
      "  Failed to kekulize aromatic bonds in MOL2 file (title is 3s1s_SAH_1_protein)\n",
      "\n"
     ]
    },
    {
     "name": "stdout",
     "output_type": "stream",
     "text": [
      "\n"
     ]
    },
    {
     "name": "stderr",
     "output_type": "stream",
     "text": [
      "==============================\n",
      "*** Open Babel Warning  in ReadMolecule\n",
      "  Failed to kekulize aromatic bonds in MOL2 file (title is 2hw2_RFP_1_protein)\n",
      "\n"
     ]
    },
    {
     "name": "stdout",
     "output_type": "stream",
     "text": [
      "\n"
     ]
    },
    {
     "name": "stderr",
     "output_type": "stream",
     "text": [
      "==============================\n",
      "*** Open Babel Warning  in ReadMolecule\n",
      "  Failed to kekulize aromatic bonds in MOL2 file (title is 1pn9_GTX_1_protein)\n",
      "\n",
      "==============================\n",
      "*** Open Babel Warning  in ReadMolecule\n",
      "  Failed to kekulize aromatic bonds in MOL2 file (title is 4u7w_NDP_1_protein)\n",
      "\n"
     ]
    },
    {
     "name": "stdout",
     "output_type": "stream",
     "text": [
      "\n",
      "\n"
     ]
    },
    {
     "name": "stderr",
     "output_type": "stream",
     "text": [
      "==============================\n",
      "*** Open Babel Warning  in ReadMolecule\n",
      "  Failed to kekulize aromatic bonds in MOL2 file (title is 3tij_URI_1_protein)\n",
      "\n",
      "==============================\n",
      "*** Open Babel Warning  in ReadMolecule\n",
      "  Failed to kekulize aromatic bonds in MOL2 file (title is 4yai_NAI_1_protein)\n",
      "\n"
     ]
    },
    {
     "name": "stdout",
     "output_type": "stream",
     "text": [
      "\n",
      "\n"
     ]
    },
    {
     "name": "stderr",
     "output_type": "stream",
     "text": [
      "==============================\n",
      "*** Open Babel Warning  in ReadMolecule\n",
      "  Failed to kekulize aromatic bonds in MOL2 file (title is 4j75_TYM_1_protein)\n",
      "\n",
      "==============================\n",
      "*** Open Babel Warning  in ReadMolecule\n",
      "  Failed to kekulize aromatic bonds in MOL2 file (title is 2x6t_NAP_2_protein)\n",
      "\n"
     ]
    },
    {
     "name": "stdout",
     "output_type": "stream",
     "text": [
      "\n",
      "\n",
      "\n"
     ]
    },
    {
     "name": "stderr",
     "output_type": "stream",
     "text": [
      "==============================\n",
      "*** Open Babel Warning  in ReadMolecule\n",
      "  Failed to kekulize aromatic bonds in MOL2 file (title is 4qtu_SAM_1_protein)\n",
      "\n",
      "==============================\n",
      "*** Open Babel Warning  in ReadMolecule\n",
      "  Failed to kekulize aromatic bonds in MOL2 file (title is 1wdt_GTP_1_protein)\n",
      "\n"
     ]
    },
    {
     "name": "stdout",
     "output_type": "stream",
     "text": [
      "\n"
     ]
    },
    {
     "name": "stderr",
     "output_type": "stream",
     "text": [
      "==============================\n",
      "*** Open Babel Warning  in ReadMolecule\n",
      "  Failed to kekulize aromatic bonds in MOL2 file (title is 4biw_ANP_2_protein)\n",
      "\n"
     ]
    },
    {
     "name": "stdout",
     "output_type": "stream",
     "text": [
      "\n"
     ]
    },
    {
     "name": "stderr",
     "output_type": "stream",
     "text": [
      "==============================\n",
      "*** Open Babel Warning  in ReadMolecule\n",
      "  Failed to kekulize aromatic bonds in MOL2 file (title is 2pin_4HY_3_protein)\n",
      "\n"
     ]
    },
    {
     "name": "stdout",
     "output_type": "stream",
     "text": [
      "\n"
     ]
    },
    {
     "name": "stderr",
     "output_type": "stream",
     "text": [
      "==============================\n",
      "*** Open Babel Warning  in ReadMolecule\n",
      "  Failed to kekulize aromatic bonds in MOL2 file (title is 1y56_FAD_3_protein)\n",
      "\n"
     ]
    },
    {
     "name": "stdout",
     "output_type": "stream",
     "text": [
      "\n",
      "\n"
     ]
    },
    {
     "name": "stderr",
     "output_type": "stream",
     "text": [
      "==============================\n",
      "*** Open Babel Warning  in ReadMolecule\n",
      "  Failed to kekulize aromatic bonds in MOL2 file (title is 1v9n_NDP_1_protein)\n",
      "\n",
      "==============================\n",
      "*** Open Babel Warning  in ReadMolecule\n",
      "  Failed to kekulize aromatic bonds in MOL2 file (title is 2cen_4AH_1_protein)\n",
      "\n"
     ]
    },
    {
     "name": "stdout",
     "output_type": "stream",
     "text": [
      "\n",
      "\n"
     ]
    },
    {
     "name": "stderr",
     "output_type": "stream",
     "text": [
      "==============================\n",
      "*** Open Babel Warning  in ReadMolecule\n",
      "  Failed to kekulize aromatic bonds in MOL2 file (title is 4lis_NAD_2_protein)\n",
      "\n",
      "==============================\n",
      "*** Open Babel Warning  in ReadMolecule\n",
      "  Failed to kekulize aromatic bonds in MOL2 file (title is 3uoy_FAD_1_protein)\n",
      "\n"
     ]
    },
    {
     "name": "stdout",
     "output_type": "stream",
     "text": [
      "\n"
     ]
    },
    {
     "name": "stderr",
     "output_type": "stream",
     "text": [
      "==============================\n",
      "*** Open Babel Warning  in ReadMolecule\n",
      "  Failed to kekulize aromatic bonds in MOL2 file (title is 2z3u_CRR_1_protein)\n",
      "\n",
      "==============================\n",
      "*** Open Babel Warning  in ReadMolecule\n",
      "  Failed to kekulize aromatic bonds in MOL2 file (title is 2vn9_GVD_1_protein)\n",
      "\n"
     ]
    },
    {
     "name": "stdout",
     "output_type": "stream",
     "text": [
      "\n",
      "\n",
      "\n"
     ]
    },
    {
     "name": "stderr",
     "output_type": "stream",
     "text": [
      "==============================\n",
      "*** Open Babel Warning  in ReadMolecule\n",
      "  Failed to kekulize aromatic bonds in MOL2 file (title is 4f1o_ACP_1_protein)\n",
      "\n",
      "==============================\n",
      "*** Open Babel Warning  in ReadMolecule\n",
      "  Failed to kekulize aromatic bonds in MOL2 file (title is 3qem_QEM_1_protein)\n",
      "\n"
     ]
    },
    {
     "name": "stdout",
     "output_type": "stream",
     "text": [
      "\n"
     ]
    },
    {
     "name": "stderr",
     "output_type": "stream",
     "text": [
      "==============================\n",
      "*** Open Babel Warning  in ReadMolecule\n",
      "  Failed to kekulize aromatic bonds in MOL2 file (title is 3zzh_NLG_1_protein)\n",
      "\n"
     ]
    },
    {
     "name": "stdout",
     "output_type": "stream",
     "text": [
      "\n"
     ]
    },
    {
     "name": "stderr",
     "output_type": "stream",
     "text": [
      "==============================\n",
      "*** Open Babel Warning  in ReadMolecule\n",
      "  Failed to kekulize aromatic bonds in MOL2 file (title is 3kpb_SAM_2_protein)\n",
      "\n",
      "==============================\n",
      "*** Open Babel Warning  in ReadMolecule\n",
      "  Failed to kekulize aromatic bonds in MOL2 file (title is 3cjt_SAH_1_protein)\n",
      "\n"
     ]
    },
    {
     "name": "stdout",
     "output_type": "stream",
     "text": [
      "\n",
      "\n"
     ]
    },
    {
     "name": "stderr",
     "output_type": "stream",
     "text": [
      "==============================\n",
      "*** Open Babel Warning  in ReadMolecule\n",
      "  Failed to kekulize aromatic bonds in MOL2 file (title is 3wxo_NIZ_2_protein)\n",
      "\n"
     ]
    },
    {
     "name": "stdout",
     "output_type": "stream",
     "text": [
      "\n",
      "\n"
     ]
    },
    {
     "name": "stderr",
     "output_type": "stream",
     "text": [
      "==============================\n",
      "*** Open Babel Warning  in ReadMolecule\n",
      "  Failed to kekulize aromatic bonds in MOL2 file (title is 4l7v_SAH_1_protein)\n",
      "\n",
      "==============================\n",
      "*** Open Babel Warning  in ReadMolecule\n",
      "  Failed to kekulize aromatic bonds in MOL2 file (title is 3b1j_NAD_1_protein)\n",
      "\n"
     ]
    },
    {
     "name": "stdout",
     "output_type": "stream",
     "text": [
      "\n"
     ]
    },
    {
     "name": "stderr",
     "output_type": "stream",
     "text": [
      "==============================\n",
      "*** Open Babel Warning  in ReadMolecule\n",
      "  Failed to kekulize aromatic bonds in MOL2 file (title is 4ysw_NAI_4_protein)\n",
      "\n"
     ]
    },
    {
     "name": "stdout",
     "output_type": "stream",
     "text": [
      "\n"
     ]
    },
    {
     "name": "stderr",
     "output_type": "stream",
     "text": [
      "==============================\n",
      "*** Open Babel Warning  in ReadMolecule\n",
      "  This Mol2 file is non-standard. Problem with molecule: 5azg_ASP_PHE_THR_PHE_LEU_1_protein Cannot interpret atom types correctly, instead attempting to interpret atom type: CD as elements instead.\n",
      "==============================\n",
      "*** Open Babel Warning  in Translate\n",
      "  Cannot perform atom type translation: table cannot find requested types.\n",
      "==============================\n",
      "*** Open Babel Warning  in ReadMolecule\n",
      "  This Mol2 file is non-standard. Problem with molecule: 5azg_ASP_PHE_THR_PHE_LEU_1_protein Cannot interpret atom types correctly, instead attempting to interpret atom type: CD as elements instead.\n",
      "==============================\n",
      "*** Open Babel Warning  in Translate\n",
      "  Cannot perform atom type translation: table cannot find requested types.\n",
      "==============================\n",
      "*** Open Babel Warning  in ReadMolecule\n",
      "  This Mol2 file is non-standard. Problem with molecule: 5azg_ASP_PHE_THR_PHE_LEU_1_protein Cannot interpret atom types correctly, instead attempting to interpret atom type: CD as elements instead.\n",
      "==============================\n",
      "*** Open Babel Warning  in Translate\n",
      "  Cannot perform atom type translation: table cannot find requested types.\n",
      "==============================\n",
      "*** Open Babel Warning  in ReadMolecule\n",
      "  This Mol2 file is non-standard. Problem with molecule: 5azg_ASP_PHE_THR_PHE_LEU_1_protein Cannot interpret atom types correctly, instead attempting to interpret atom type: CD as elements instead.\n",
      "==============================\n",
      "*** Open Babel Warning  in Translate\n",
      "  Cannot perform atom type translation: table cannot find requested types.\n",
      "==============================\n",
      "*** Open Babel Warning  in ReadMolecule\n",
      "  This Mol2 file is non-standard. Problem with molecule: 5azg_ASP_PHE_THR_PHE_LEU_1_protein Cannot interpret atom types correctly, instead attempting to interpret atom type: CD as elements instead.\n",
      "==============================\n",
      "*** Open Babel Warning  in Translate\n",
      "  Cannot perform atom type translation: table cannot find requested types.\n",
      "==============================\n",
      "*** Open Babel Warning  in ReadMolecule\n",
      "  This Mol2 file is non-standard. Problem with molecule: 5azg_ASP_PHE_THR_PHE_LEU_1_protein Cannot interpret atom types correctly, instead attempting to interpret atom type: CD as elements instead.\n",
      "==============================\n",
      "*** Open Babel Warning  in Translate\n",
      "  Cannot perform atom type translation: table cannot find requested types.\n",
      "==============================\n",
      "*** Open Babel Warning  in ReadMolecule\n",
      "  This Mol2 file is non-standard. Problem with molecule: 5azg_ASP_PHE_THR_PHE_LEU_1_protein Cannot interpret atom types correctly, instead attempting to interpret atom type: CD as elements instead.\n",
      "==============================\n",
      "*** Open Babel Warning  in Translate\n",
      "  Cannot perform atom type translation: table cannot find requested types.\n",
      "==============================\n",
      "*** Open Babel Warning  in ReadMolecule\n",
      "  This Mol2 file is non-standard. Problem with molecule: 5azg_ASP_PHE_THR_PHE_LEU_1_protein Cannot interpret atom types correctly, instead attempting to interpret atom type: CD as elements instead.\n",
      "==============================\n",
      "*** Open Babel Warning  in Translate\n",
      "  Cannot perform atom type translation: table cannot find requested types.\n",
      "==============================\n",
      "*** Open Babel Warning  in ReadMolecule\n",
      "  This Mol2 file is non-standard. Problem with molecule: 5azg_ASP_PHE_THR_PHE_LEU_1_protein Cannot interpret atom types correctly, instead attempting to interpret atom type: CD as elements instead.\n",
      "==============================\n",
      "*** Open Babel Warning  in Translate\n",
      "  Cannot perform atom type translation: table cannot find requested types.\n",
      "==============================\n",
      "*** Open Babel Warning  in ReadMolecule\n",
      "  This Mol2 file is non-standard. Problem with molecule: 5azg_ASP_PHE_THR_PHE_LEU_1_protein Cannot interpret atom types correctly, instead attempting to interpret atom type: CD as elements instead.\n",
      "==============================\n",
      "*** Open Babel Warning  in Translate\n",
      "  Cannot perform atom type translation: table cannot find requested types.\n",
      "==============================\n",
      "*** Open Babel Warning  in ReadMolecule\n",
      "  This Mol2 file is non-standard. Problem with molecule: 5azg_ASP_PHE_THR_PHE_LEU_1_protein Cannot interpret atom types correctly, instead attempting to interpret atom type: CD as elements instead.\n",
      "==============================\n",
      "*** Open Babel Warning  in Translate\n",
      "  Cannot perform atom type translation: table cannot find requested types.\n",
      "==============================\n",
      "*** Open Babel Warning  in ReadMolecule\n",
      "  This Mol2 file is non-standard. Problem with molecule: 5azg_ASP_PHE_THR_PHE_LEU_1_protein Cannot interpret atom types correctly, instead attempting to interpret atom type: CD as elements instead.\n",
      "==============================\n",
      "*** Open Babel Warning  in Translate\n",
      "  Cannot perform atom type translation: table cannot find requested types.\n",
      "==============================\n",
      "*** Open Babel Warning  in ReadMolecule\n",
      "  This Mol2 file is non-standard. Problem with molecule: 5azg_ASP_PHE_THR_PHE_LEU_1_protein Cannot interpret atom types correctly, instead attempting to interpret atom type: CD as elements instead.\n",
      "==============================\n",
      "*** Open Babel Warning  in Translate\n",
      "  Cannot perform atom type translation: table cannot find requested types.\n",
      "==============================\n",
      "*** Open Babel Warning  in ReadMolecule\n",
      "  This Mol2 file is non-standard. Problem with molecule: 5azg_ASP_PHE_THR_PHE_LEU_1_protein Cannot interpret atom types correctly, instead attempting to interpret atom type: CD as elements instead.\n",
      "==============================\n",
      "*** Open Babel Warning  in Translate\n",
      "  Cannot perform atom type translation: table cannot find requested types.\n",
      "==============================\n",
      "*** Open Babel Warning  in ReadMolecule\n",
      "  Failed to kekulize aromatic bonds in MOL2 file (title is 5azg_ASP_PHE_THR_PHE_LEU_1_protein)\n",
      "\n",
      "==============================\n",
      "*** Open Babel Warning  in ReadMolecule\n",
      "  Failed to kekulize aromatic bonds in MOL2 file (title is 2dld_OXM_1_protein)\n",
      "\n"
     ]
    },
    {
     "name": "stdout",
     "output_type": "stream",
     "text": [
      "\n",
      "\n"
     ]
    },
    {
     "name": "stderr",
     "output_type": "stream",
     "text": [
      "==============================\n",
      "*** Open Babel Warning  in ReadMolecule\n",
      "  Failed to kekulize aromatic bonds in MOL2 file (title is 3to6_LYS_CMC_1_protein)\n",
      "\n"
     ]
    },
    {
     "name": "stdout",
     "output_type": "stream",
     "text": [
      "\n"
     ]
    },
    {
     "name": "stderr",
     "output_type": "stream",
     "text": [
      "==============================\n",
      "*** Open Babel Warning  in ReadMolecule\n",
      "  Failed to kekulize aromatic bonds in MOL2 file (title is 2qfx_NDP_6_protein)\n",
      "\n"
     ]
    },
    {
     "name": "stdout",
     "output_type": "stream",
     "text": [
      "\n",
      "\n"
     ]
    },
    {
     "name": "stderr",
     "output_type": "stream",
     "text": [
      "==============================\n",
      "*** Open Babel Warning  in ReadMolecule\n",
      "  Failed to kekulize aromatic bonds in MOL2 file (title is 3lga_SAH_1_protein)\n",
      "\n",
      "==============================\n",
      "*** Open Babel Warning  in ReadMolecule\n",
      "  Failed to kekulize aromatic bonds in MOL2 file (title is 3lps_NOV_1_protein)\n",
      "\n"
     ]
    },
    {
     "name": "stdout",
     "output_type": "stream",
     "text": [
      "\n"
     ]
    },
    {
     "name": "stderr",
     "output_type": "stream",
     "text": [
      "==============================\n",
      "*** Open Babel Warning  in ReadMolecule\n",
      "  Failed to kekulize aromatic bonds in MOL2 file (title is 2nmt_NHM_1_protein)\n",
      "\n"
     ]
    },
    {
     "name": "stdout",
     "output_type": "stream",
     "text": [
      "\n"
     ]
    },
    {
     "name": "stderr",
     "output_type": "stream",
     "text": [
      "==============================\n",
      "*** Open Babel Warning  in ReadMolecule\n",
      "  Failed to kekulize aromatic bonds in MOL2 file (title is 1sow_NAD_2_protein)\n",
      "\n"
     ]
    },
    {
     "name": "stdout",
     "output_type": "stream",
     "text": [
      "\n",
      "\n"
     ]
    },
    {
     "name": "stderr",
     "output_type": "stream",
     "text": [
      "==============================\n",
      "*** Open Babel Warning  in ReadMolecule\n",
      "  Failed to kekulize aromatic bonds in MOL2 file (title is 4eqk_MGT_1_protein)\n",
      "\n",
      "==============================\n",
      "*** Open Babel Warning  in ReadMolecule\n",
      "  This Mol2 file is non-standard. Problem with molecule: 2vos_ADP_1_protein Cannot interpret atom types correctly, instead attempting to interpret atom type: CO as elements instead.\n",
      "==============================\n",
      "*** Open Babel Warning  in Translate\n",
      "  Cannot perform atom type translation: table cannot find requested types.\n",
      "==============================\n",
      "*** Open Babel Warning  in ReadMolecule\n",
      "  This Mol2 file is non-standard. Problem with molecule: 2vos_ADP_1_protein Cannot interpret atom types correctly, instead attempting to interpret atom type: CO as elements instead.\n",
      "==============================\n",
      "*** Open Babel Warning  in Translate\n",
      "  Cannot perform atom type translation: table cannot find requested types.\n",
      "==============================\n",
      "*** Open Babel Warning  in ReadMolecule\n",
      "  This Mol2 file is non-standard. Problem with molecule: 2vos_ADP_1_protein Cannot interpret atom types correctly, instead attempting to interpret atom type: CO as elements instead.\n",
      "==============================\n",
      "*** Open Babel Warning  in Translate\n",
      "  Cannot perform atom type translation: table cannot find requested types.\n",
      "==============================\n",
      "*** Open Babel Warning  in ReadMolecule\n",
      "  This Mol2 file is non-standard. Problem with molecule: 2vos_ADP_1_protein Cannot interpret atom types correctly, instead attempting to interpret atom type: CO as elements instead.\n",
      "==============================\n",
      "*** Open Babel Warning  in Translate\n",
      "  Cannot perform atom type translation: table cannot find requested types.\n",
      "==============================\n",
      "*** Open Babel Warning  in ReadMolecule\n",
      "  Failed to kekulize aromatic bonds in MOL2 file (title is 2vos_ADP_1_protein)\n",
      "\n"
     ]
    },
    {
     "name": "stdout",
     "output_type": "stream",
     "text": [
      "\n",
      "\n"
     ]
    },
    {
     "name": "stderr",
     "output_type": "stream",
     "text": [
      "==============================\n",
      "*** Open Babel Warning  in ReadMolecule\n",
      "  Failed to kekulize aromatic bonds in MOL2 file (title is 3bhm_AB3_2_protein)\n",
      "\n",
      "==============================\n",
      "*** Open Babel Warning  in ReadMolecule\n",
      "  Failed to kekulize aromatic bonds in MOL2 file (title is 3ewd_MCF_1_protein)\n",
      "\n"
     ]
    },
    {
     "name": "stdout",
     "output_type": "stream",
     "text": [
      "\n"
     ]
    },
    {
     "name": "stderr",
     "output_type": "stream",
     "text": [
      "==============================\n",
      "*** Open Babel Warning  in ReadMolecule\n",
      "  Failed to kekulize aromatic bonds in MOL2 file (title is 3fvl_BHK_2_protein)\n",
      "\n"
     ]
    },
    {
     "name": "stdout",
     "output_type": "stream",
     "text": [
      "\n"
     ]
    },
    {
     "name": "stderr",
     "output_type": "stream",
     "text": [
      "==============================\n",
      "*** Open Babel Warning  in ReadMolecule\n",
      "  Failed to kekulize aromatic bonds in MOL2 file (title is 3bxo_UPP_2_protein)\n",
      "\n"
     ]
    },
    {
     "name": "stdout",
     "output_type": "stream",
     "text": [
      "\n"
     ]
    },
    {
     "name": "stderr",
     "output_type": "stream",
     "text": [
      "==============================\n",
      "*** Open Babel Warning  in ReadMolecule\n",
      "  Failed to kekulize aromatic bonds in MOL2 file (title is 1so2_666_1_protein)\n",
      "\n"
     ]
    },
    {
     "name": "stdout",
     "output_type": "stream",
     "text": [
      "\n"
     ]
    },
    {
     "name": "stderr",
     "output_type": "stream",
     "text": [
      "==============================\n",
      "*** Open Babel Warning  in ReadMolecule\n",
      "  Failed to kekulize aromatic bonds in MOL2 file (title is 4c2j_COA_1_protein)\n",
      "\n"
     ]
    },
    {
     "name": "stdout",
     "output_type": "stream",
     "text": [
      "\n"
     ]
    },
    {
     "name": "stderr",
     "output_type": "stream",
     "text": [
      "==============================\n",
      "*** Open Babel Warning  in ReadMolecule\n",
      "  Failed to kekulize aromatic bonds in MOL2 file (title is 4el4_IMD_1_protein)\n",
      "\n"
     ]
    },
    {
     "name": "stdout",
     "output_type": "stream",
     "text": [
      "\n",
      "\n"
     ]
    },
    {
     "name": "stderr",
     "output_type": "stream",
     "text": [
      "==============================\n",
      "*** Open Babel Warning  in ReadMolecule\n",
      "  Failed to kekulize aromatic bonds in MOL2 file (title is 4zqm_XMP_1_protein)\n",
      "\n",
      "==============================\n",
      "*** Open Babel Warning  in ReadMolecule\n",
      "  Failed to kekulize aromatic bonds in MOL2 file (title is 4odo_FK5_2_protein)\n",
      "\n"
     ]
    },
    {
     "name": "stdout",
     "output_type": "stream",
     "text": [
      "\n"
     ]
    },
    {
     "name": "stderr",
     "output_type": "stream",
     "text": [
      "==============================\n",
      "*** Open Babel Warning  in ReadMolecule\n",
      "  Failed to kekulize aromatic bonds in MOL2 file (title is 2nya_MGD_2_protein)\n",
      "\n"
     ]
    },
    {
     "name": "stdout",
     "output_type": "stream",
     "text": [
      "\n"
     ]
    },
    {
     "name": "stderr",
     "output_type": "stream",
     "text": [
      "==============================\n",
      "*** Open Babel Warning  in ReadMolecule\n",
      "  Failed to kekulize aromatic bonds in MOL2 file (title is 1dnp_MHF_1_protein)\n",
      "\n"
     ]
    },
    {
     "name": "stdout",
     "output_type": "stream",
     "text": [
      "\n",
      "\n"
     ]
    },
    {
     "name": "stderr",
     "output_type": "stream",
     "text": [
      "==============================\n",
      "*** Open Babel Warning  in ReadMolecule\n",
      "  Failed to kekulize aromatic bonds in MOL2 file (title is 2p41_SAH_2_protein)\n",
      "\n",
      "==============================\n",
      "*** Open Babel Warning  in ReadMolecule\n",
      "  Failed to kekulize aromatic bonds in MOL2 file (title is 4c57_FEF_2_protein)\n",
      "\n"
     ]
    },
    {
     "name": "stdout",
     "output_type": "stream",
     "text": [
      "\n"
     ]
    },
    {
     "name": "stderr",
     "output_type": "stream",
     "text": [
      "==============================\n",
      "*** Open Babel Warning  in ReadMolecule\n",
      "  Failed to kekulize aromatic bonds in MOL2 file (title is 2a1h_GBN_1_protein)\n",
      "\n"
     ]
    },
    {
     "name": "stdout",
     "output_type": "stream",
     "text": [
      "\n"
     ]
    },
    {
     "name": "stderr",
     "output_type": "stream",
     "text": [
      "==============================\n",
      "*** Open Babel Warning  in ReadMolecule\n",
      "  Failed to kekulize aromatic bonds in MOL2 file (title is 2cvd_HQL_1_protein)\n",
      "\n"
     ]
    },
    {
     "name": "stdout",
     "output_type": "stream",
     "text": [
      "\n"
     ]
    },
    {
     "name": "stderr",
     "output_type": "stream",
     "text": [
      "==============================\n",
      "*** Open Babel Warning  in ReadMolecule\n",
      "  Failed to kekulize aromatic bonds in MOL2 file (title is 2bmu_U5P_2_protein)\n",
      "\n"
     ]
    },
    {
     "name": "stdout",
     "output_type": "stream",
     "text": [
      "\n"
     ]
    },
    {
     "name": "stderr",
     "output_type": "stream",
     "text": [
      "==============================\n",
      "*** Open Babel Warning  in ReadMolecule\n",
      "  Failed to kekulize aromatic bonds in MOL2 file (title is 2abj_PLP_5_protein)\n",
      "\n"
     ]
    },
    {
     "name": "stdout",
     "output_type": "stream",
     "text": [
      "\n",
      "\n"
     ]
    },
    {
     "name": "stderr",
     "output_type": "stream",
     "text": [
      "==============================\n",
      "*** Open Babel Warning  in ReadMolecule\n",
      "  Failed to kekulize aromatic bonds in MOL2 file (title is 2b60_RIT_1_protein)\n",
      "\n",
      "==============================\n",
      "*** Open Babel Warning  in ReadMolecule\n",
      "  This Mol2 file is non-standard. Problem with molecule: 3wd7_COA_1_protein Cannot interpret atom types correctly, instead attempting to interpret atom type: NI as elements instead.\n",
      "==============================\n",
      "*** Open Babel Warning  in Translate\n",
      "  Cannot perform atom type translation: table cannot find requested types.\n",
      "==============================\n",
      "*** Open Babel Warning  in ReadMolecule\n",
      "  This Mol2 file is non-standard. Problem with molecule: 3wd7_COA_1_protein Cannot interpret atom types correctly, instead attempting to interpret atom type: NI as elements instead.\n",
      "==============================\n",
      "*** Open Babel Warning  in Translate\n",
      "  Cannot perform atom type translation: table cannot find requested types.\n",
      "==============================\n",
      "*** Open Babel Warning  in ReadMolecule\n",
      "  This Mol2 file is non-standard. Problem with molecule: 3wd7_COA_1_protein Cannot interpret atom types correctly, instead attempting to interpret atom type: NI as elements instead.\n",
      "==============================\n",
      "*** Open Babel Warning  in Translate\n",
      "  Cannot perform atom type translation: table cannot find requested types.\n",
      "==============================\n",
      "*** Open Babel Warning  in ReadMolecule\n",
      "  This Mol2 file is non-standard. Problem with molecule: 3wd7_COA_1_protein Cannot interpret atom types correctly, instead attempting to interpret atom type: NI as elements instead.\n",
      "==============================\n",
      "*** Open Babel Warning  in Translate\n",
      "  Cannot perform atom type translation: table cannot find requested types.\n",
      "==============================\n",
      "*** Open Babel Warning  in ReadMolecule\n",
      "  This Mol2 file is non-standard. Problem with molecule: 3wd7_COA_1_protein Cannot interpret atom types correctly, instead attempting to interpret atom type: NI as elements instead.\n",
      "==============================\n",
      "*** Open Babel Warning  in Translate\n",
      "  Cannot perform atom type translation: table cannot find requested types.\n",
      "==============================\n",
      "*** Open Babel Warning  in ReadMolecule\n",
      "  This Mol2 file is non-standard. Problem with molecule: 3wd7_COA_1_protein Cannot interpret atom types correctly, instead attempting to interpret atom type: NI as elements instead.\n",
      "==============================\n",
      "*** Open Babel Warning  in Translate\n",
      "  Cannot perform atom type translation: table cannot find requested types.\n",
      "==============================\n",
      "*** Open Babel Warning  in ReadMolecule\n",
      "  This Mol2 file is non-standard. Problem with molecule: 3wd7_COA_1_protein Cannot interpret atom types correctly, instead attempting to interpret atom type: NI as elements instead.\n",
      "==============================\n",
      "*** Open Babel Warning  in Translate\n",
      "  Cannot perform atom type translation: table cannot find requested types.\n",
      "==============================\n",
      "*** Open Babel Warning  in ReadMolecule\n",
      "  Failed to kekulize aromatic bonds in MOL2 file (title is 3wd7_COA_1_protein)\n",
      "\n"
     ]
    },
    {
     "name": "stdout",
     "output_type": "stream",
     "text": [
      "\n"
     ]
    },
    {
     "name": "stderr",
     "output_type": "stream",
     "text": [
      "==============================\n",
      "*** Open Babel Warning  in ReadMolecule\n",
      "  Failed to kekulize aromatic bonds in MOL2 file (title is 2p0m_RS7_1_protein)\n",
      "\n"
     ]
    },
    {
     "name": "stdout",
     "output_type": "stream",
     "text": [
      "\n",
      "\n"
     ]
    },
    {
     "name": "stderr",
     "output_type": "stream",
     "text": [
      "==============================\n",
      "*** Open Babel Warning  in ReadMolecule\n",
      "  Failed to kekulize aromatic bonds in MOL2 file (title is 3slz_3TL_1_protein)\n",
      "\n",
      "==============================\n",
      "*** Open Babel Warning  in ReadMolecule\n",
      "  Failed to kekulize aromatic bonds in MOL2 file (title is 1wnt_NAP_3_protein)\n",
      "\n"
     ]
    },
    {
     "name": "stdout",
     "output_type": "stream",
     "text": [
      "\n"
     ]
    },
    {
     "name": "stderr",
     "output_type": "stream",
     "text": [
      "==============================\n",
      "*** Open Babel Warning  in ReadMolecule\n",
      "  Failed to kekulize aromatic bonds in MOL2 file (title is 4xiw_AZM_1_protein)\n",
      "\n"
     ]
    },
    {
     "name": "stdout",
     "output_type": "stream",
     "text": [
      "\n"
     ]
    },
    {
     "name": "stderr",
     "output_type": "stream",
     "text": [
      "==============================\n",
      "*** Open Babel Warning  in ReadMolecule\n",
      "  Failed to kekulize aromatic bonds in MOL2 file (title is 4dvv_0M1_2_protein)\n",
      "\n"
     ]
    },
    {
     "name": "stdout",
     "output_type": "stream",
     "text": [
      "\n"
     ]
    },
    {
     "name": "stderr",
     "output_type": "stream",
     "text": [
      "==============================\n",
      "*** Open Babel Warning  in ReadMolecule\n",
      "  Failed to kekulize aromatic bonds in MOL2 file (title is 2ibz_UQ6_1_protein)\n",
      "\n"
     ]
    },
    {
     "name": "stdout",
     "output_type": "stream",
     "text": [
      "\n"
     ]
    },
    {
     "name": "stderr",
     "output_type": "stream",
     "text": [
      "==============================\n",
      "*** Open Babel Warning  in ReadMolecule\n",
      "  Failed to kekulize aromatic bonds in MOL2 file (title is 1mp4_UPG_2_protein)\n",
      "\n"
     ]
    },
    {
     "name": "stdout",
     "output_type": "stream",
     "text": [
      "\n"
     ]
    },
    {
     "name": "stderr",
     "output_type": "stream",
     "text": [
      "==============================\n",
      "*** Open Babel Warning  in ReadMolecule\n",
      "  Failed to kekulize aromatic bonds in MOL2 file (title is 2d2i_NAP_2_protein)\n",
      "\n"
     ]
    },
    {
     "name": "stdout",
     "output_type": "stream",
     "text": [
      "\n"
     ]
    },
    {
     "name": "stderr",
     "output_type": "stream",
     "text": [
      "==============================\n",
      "*** Open Babel Warning  in ReadMolecule\n",
      "  Failed to kekulize aromatic bonds in MOL2 file (title is 3d2e_ATP_1_protein)\n",
      "\n"
     ]
    },
    {
     "name": "stdout",
     "output_type": "stream",
     "text": [
      "\n"
     ]
    },
    {
     "name": "stderr",
     "output_type": "stream",
     "text": [
      "==============================\n",
      "*** Open Babel Warning  in ReadMolecule\n",
      "  Failed to kekulize aromatic bonds in MOL2 file (title is 1v59_FAD_3_protein)\n",
      "\n"
     ]
    },
    {
     "name": "stdout",
     "output_type": "stream",
     "text": [
      "\n"
     ]
    },
    {
     "name": "stderr",
     "output_type": "stream",
     "text": [
      "==============================\n",
      "*** Open Babel Warning  in ReadMolecule\n",
      "  Failed to kekulize aromatic bonds in MOL2 file (title is 5dul_NDP_1_protein)\n",
      "\n",
      "==============================\n",
      "*** Open Babel Warning  in ReadMolecule\n",
      "  Failed to kekulize aromatic bonds in MOL2 file (title is 4bgq_38R_1_protein)\n",
      "\n"
     ]
    },
    {
     "name": "stdout",
     "output_type": "stream",
     "text": [
      "\n",
      "\n"
     ]
    },
    {
     "name": "stderr",
     "output_type": "stream",
     "text": [
      "==============================\n",
      "*** Open Babel Warning  in ReadMolecule\n",
      "  Failed to kekulize aromatic bonds in MOL2 file (title is 1mjh_ATP_1_protein)\n",
      "\n"
     ]
    },
    {
     "name": "stdout",
     "output_type": "stream",
     "text": [
      "\n",
      "\n"
     ]
    },
    {
     "name": "stderr",
     "output_type": "stream",
     "text": [
      "==============================\n",
      "*** Open Babel Warning  in ReadMolecule\n",
      "  Failed to kekulize aromatic bonds in MOL2 file (title is 3fbc_TYD_1_protein)\n",
      "\n",
      "==============================\n",
      "*** Open Babel Warning  in ReadMolecule\n",
      "  Failed to kekulize aromatic bonds in MOL2 file (title is 3occ_DIH_2_protein)\n",
      "\n"
     ]
    },
    {
     "name": "stdout",
     "output_type": "stream",
     "text": [
      "\n"
     ]
    },
    {
     "name": "stderr",
     "output_type": "stream",
     "text": [
      "==============================\n",
      "*** Open Babel Warning  in ReadMolecule\n",
      "  Failed to kekulize aromatic bonds in MOL2 file (title is 2v0i_UD1_1_protein)\n",
      "\n"
     ]
    },
    {
     "name": "stdout",
     "output_type": "stream",
     "text": [
      "\n"
     ]
    },
    {
     "name": "stderr",
     "output_type": "stream",
     "text": [
      "==============================\n",
      "*** Open Babel Warning  in ReadMolecule\n",
      "  Failed to kekulize aromatic bonds in MOL2 file (title is 3fi8_OPE_1_protein)\n",
      "\n"
     ]
    },
    {
     "name": "stdout",
     "output_type": "stream",
     "text": [
      "\n"
     ]
    },
    {
     "name": "stderr",
     "output_type": "stream",
     "text": [
      "==============================\n",
      "*** Open Babel Warning  in ReadMolecule\n",
      "  Failed to kekulize aromatic bonds in MOL2 file (title is 2rgh_FAD_1_protein)\n",
      "\n"
     ]
    },
    {
     "name": "stdout",
     "output_type": "stream",
     "text": [
      "\n"
     ]
    },
    {
     "name": "stderr",
     "output_type": "stream",
     "text": [
      "==============================\n",
      "*** Open Babel Warning  in ReadMolecule\n",
      "  Failed to kekulize aromatic bonds in MOL2 file (title is 4itr_GDP_2_protein)\n",
      "\n"
     ]
    },
    {
     "name": "stdout",
     "output_type": "stream",
     "text": [
      "\n",
      "\n"
     ]
    },
    {
     "name": "stderr",
     "output_type": "stream",
     "text": [
      "==============================\n",
      "*** Open Babel Warning  in ReadMolecule\n",
      "  Failed to kekulize aromatic bonds in MOL2 file (title is 4r3k_COA_1_protein)\n",
      "\n",
      "==============================\n",
      "*** Open Babel Warning  in ReadMolecule\n",
      "  Failed to kekulize aromatic bonds in MOL2 file (title is 4ku3_MYA_1_protein)\n",
      "\n"
     ]
    },
    {
     "name": "stdout",
     "output_type": "stream",
     "text": [
      "\n",
      "\n"
     ]
    },
    {
     "name": "stderr",
     "output_type": "stream",
     "text": [
      "==============================\n",
      "*** Open Babel Warning  in ReadMolecule\n",
      "  Failed to kekulize aromatic bonds in MOL2 file (title is 3lzz_GDP_1_protein)\n",
      "\n",
      "==============================\n",
      "*** Open Babel Warning  in ReadMolecule\n",
      "  Failed to kekulize aromatic bonds in MOL2 file (title is 3uvv_REA_2_protein)\n",
      "\n"
     ]
    },
    {
     "name": "stdout",
     "output_type": "stream",
     "text": [
      "\n"
     ]
    },
    {
     "name": "stderr",
     "output_type": "stream",
     "text": [
      "==============================\n",
      "*** Open Babel Warning  in ReadMolecule\n",
      "  Failed to kekulize aromatic bonds in MOL2 file (title is 5hw2_FUM_3_protein)\n",
      "\n"
     ]
    },
    {
     "name": "stdout",
     "output_type": "stream",
     "text": [
      "\n"
     ]
    },
    {
     "name": "stderr",
     "output_type": "stream",
     "text": [
      "==============================\n",
      "*** Open Babel Warning  in ReadMolecule\n",
      "  Failed to kekulize aromatic bonds in MOL2 file (title is 1han_TBU_1_protein)\n",
      "\n"
     ]
    },
    {
     "name": "stdout",
     "output_type": "stream",
     "text": [
      "\n"
     ]
    },
    {
     "name": "stderr",
     "output_type": "stream",
     "text": [
      "==============================\n",
      "*** Open Babel Warning  in ReadMolecule\n",
      "  Failed to kekulize aromatic bonds in MOL2 file (title is 3q5l_KX2_3_protein)\n",
      "\n"
     ]
    },
    {
     "name": "stdout",
     "output_type": "stream",
     "text": [
      "\n"
     ]
    },
    {
     "name": "stderr",
     "output_type": "stream",
     "text": [
      "==============================\n",
      "*** Open Babel Warning  in ReadMolecule\n",
      "  Failed to kekulize aromatic bonds in MOL2 file (title is 3kkj_FAD_1_protein)\n",
      "\n"
     ]
    },
    {
     "name": "stdout",
     "output_type": "stream",
     "text": [
      "\n"
     ]
    },
    {
     "name": "stderr",
     "output_type": "stream",
     "text": [
      "==============================\n",
      "*** Open Babel Warning  in ReadMolecule\n",
      "  Failed to kekulize aromatic bonds in MOL2 file (title is 3s7b_NH5_1_protein)\n",
      "\n"
     ]
    },
    {
     "name": "stdout",
     "output_type": "stream",
     "text": [
      "\n"
     ]
    },
    {
     "name": "stderr",
     "output_type": "stream",
     "text": [
      "==============================\n",
      "*** Open Babel Warning  in ReadMolecule\n",
      "  Failed to kekulize aromatic bonds in MOL2 file (title is 3n71_SFG_1_protein)\n",
      "\n"
     ]
    },
    {
     "name": "stdout",
     "output_type": "stream",
     "text": [
      "\n"
     ]
    },
    {
     "name": "stderr",
     "output_type": "stream",
     "text": [
      "==============================\n",
      "*** Open Babel Warning  in ReadMolecule\n",
      "  Failed to kekulize aromatic bonds in MOL2 file (title is 1e7a_PFL_2_protein)\n",
      "\n"
     ]
    },
    {
     "name": "stdout",
     "output_type": "stream",
     "text": [
      "\n"
     ]
    },
    {
     "name": "stderr",
     "output_type": "stream",
     "text": [
      "==============================\n",
      "*** Open Babel Warning  in ReadMolecule\n",
      "  Failed to kekulize aromatic bonds in MOL2 file (title is 1llu_NAD_8_protein)\n",
      "\n"
     ]
    },
    {
     "name": "stdout",
     "output_type": "stream",
     "text": [
      "\n"
     ]
    },
    {
     "name": "stderr",
     "output_type": "stream",
     "text": [
      "==============================\n",
      "*** Open Babel Warning  in ReadMolecule\n",
      "  Failed to kekulize aromatic bonds in MOL2 file (title is 1u8x_NAD_1_protein)\n",
      "\n"
     ]
    },
    {
     "name": "stdout",
     "output_type": "stream",
     "text": [
      "\n"
     ]
    },
    {
     "name": "stderr",
     "output_type": "stream",
     "text": [
      "==============================\n",
      "*** Open Babel Warning  in ReadMolecule\n",
      "  Failed to kekulize aromatic bonds in MOL2 file (title is 2j07_FAD_2_protein)\n",
      "\n"
     ]
    },
    {
     "name": "stdout",
     "output_type": "stream",
     "text": [
      "\n"
     ]
    },
    {
     "name": "stderr",
     "output_type": "stream",
     "text": [
      "==============================\n",
      "*** Open Babel Warning  in ReadMolecule\n",
      "  Failed to kekulize aromatic bonds in MOL2 file (title is 3w2w_ATP_2_protein)\n",
      "\n"
     ]
    },
    {
     "name": "stdout",
     "output_type": "stream",
     "text": [
      "\n"
     ]
    },
    {
     "name": "stderr",
     "output_type": "stream",
     "text": [
      "==============================\n",
      "*** Open Babel Warning  in ReadMolecule\n",
      "  Failed to kekulize aromatic bonds in MOL2 file (title is 4hni_16W_2_protein)\n",
      "\n",
      "==============================\n",
      "*** Open Babel Warning  in ReadMolecule\n",
      "  Failed to kekulize aromatic bonds in MOL2 file (title is 3cs8_BRL_1_protein)\n",
      "\n"
     ]
    },
    {
     "name": "stdout",
     "output_type": "stream",
     "text": [
      "\n",
      "\n"
     ]
    },
    {
     "name": "stderr",
     "output_type": "stream",
     "text": [
      "==============================\n",
      "*** Open Babel Warning  in ReadMolecule\n",
      "  Failed to kekulize aromatic bonds in MOL2 file (title is 5d3e_GLN_VAL_LEU_SEP_SEP_1_protein)\n",
      "\n"
     ]
    },
    {
     "name": "stdout",
     "output_type": "stream",
     "text": [
      "\n"
     ]
    },
    {
     "name": "stderr",
     "output_type": "stream",
     "text": [
      "==============================\n",
      "*** Open Babel Warning  in ReadMolecule\n",
      "  Failed to kekulize aromatic bonds in MOL2 file (title is 3axs_SFG_1_protein)\n",
      "\n"
     ]
    },
    {
     "name": "stdout",
     "output_type": "stream",
     "text": [
      "\n"
     ]
    },
    {
     "name": "stderr",
     "output_type": "stream",
     "text": [
      "==============================\n",
      "*** Open Babel Warning  in ReadMolecule\n",
      "  Failed to kekulize aromatic bonds in MOL2 file (title is 2i0z_FAD_1_protein)\n",
      "\n"
     ]
    },
    {
     "name": "stdout",
     "output_type": "stream",
     "text": [
      "\n"
     ]
    },
    {
     "name": "stderr",
     "output_type": "stream",
     "text": [
      "==============================\n",
      "*** Open Babel Warning  in ReadMolecule\n",
      "  This Mol2 file is non-standard. Problem with molecule: 2vwi_ANP_3_protein Cannot interpret atom types correctly, instead attempting to interpret atom type: AU as elements instead.\n",
      "==============================\n",
      "*** Open Babel Warning  in Translate\n",
      "  Cannot perform atom type translation: table cannot find requested types.\n",
      "==============================\n",
      "*** Open Babel Warning  in ReadMolecule\n",
      "  This Mol2 file is non-standard. Problem with molecule: 2vwi_ANP_3_protein Cannot interpret atom types correctly, instead attempting to interpret atom type: AU as elements instead.\n",
      "==============================\n",
      "*** Open Babel Warning  in Translate\n",
      "  Cannot perform atom type translation: table cannot find requested types.\n",
      "==============================\n",
      "*** Open Babel Warning  in ReadMolecule\n",
      "  This Mol2 file is non-standard. Problem with molecule: 2vwi_ANP_3_protein Cannot interpret atom types correctly, instead attempting to interpret atom type: AU as elements instead.\n",
      "==============================\n",
      "*** Open Babel Warning  in Translate\n",
      "  Cannot perform atom type translation: table cannot find requested types.\n",
      "==============================\n",
      "*** Open Babel Warning  in ReadMolecule\n",
      "  This Mol2 file is non-standard. Problem with molecule: 2vwi_ANP_3_protein Cannot interpret atom types correctly, instead attempting to interpret atom type: AU as elements instead.\n",
      "==============================\n",
      "*** Open Babel Warning  in Translate\n",
      "  Cannot perform atom type translation: table cannot find requested types.\n",
      "==============================\n",
      "*** Open Babel Warning  in ReadMolecule\n",
      "  This Mol2 file is non-standard. Problem with molecule: 2vwi_ANP_3_protein Cannot interpret atom types correctly, instead attempting to interpret atom type: AU as elements instead.\n",
      "==============================\n",
      "*** Open Babel Warning  in Translate\n",
      "  Cannot perform atom type translation: table cannot find requested types.\n",
      "==============================\n",
      "*** Open Babel Warning  in ReadMolecule\n",
      "  This Mol2 file is non-standard. Problem with molecule: 2vwi_ANP_3_protein Cannot interpret atom types correctly, instead attempting to interpret atom type: AU as elements instead.\n",
      "==============================\n",
      "*** Open Babel Warning  in Translate\n",
      "  Cannot perform atom type translation: table cannot find requested types.\n",
      "==============================\n",
      "*** Open Babel Warning  in ReadMolecule\n",
      "  This Mol2 file is non-standard. Problem with molecule: 2vwi_ANP_3_protein Cannot interpret atom types correctly, instead attempting to interpret atom type: AU as elements instead.\n",
      "==============================\n",
      "*** Open Babel Warning  in Translate\n",
      "  Cannot perform atom type translation: table cannot find requested types.\n",
      "==============================\n",
      "*** Open Babel Warning  in ReadMolecule\n",
      "  This Mol2 file is non-standard. Problem with molecule: 2vwi_ANP_3_protein Cannot interpret atom types correctly, instead attempting to interpret atom type: AU as elements instead.\n",
      "==============================\n",
      "*** Open Babel Warning  in Translate\n",
      "  Cannot perform atom type translation: table cannot find requested types.\n",
      "==============================\n",
      "*** Open Babel Warning  in ReadMolecule\n",
      "  This Mol2 file is non-standard. Problem with molecule: 2vwi_ANP_3_protein Cannot interpret atom types correctly, instead attempting to interpret atom type: AU as elements instead.\n",
      "==============================\n",
      "*** Open Babel Warning  in Translate\n",
      "  Cannot perform atom type translation: table cannot find requested types.\n",
      "==============================\n",
      "*** Open Babel Warning  in ReadMolecule\n",
      "  This Mol2 file is non-standard. Problem with molecule: 2vwi_ANP_3_protein Cannot interpret atom types correctly, instead attempting to interpret atom type: AU as elements instead.\n",
      "==============================\n",
      "*** Open Babel Warning  in Translate\n",
      "  Cannot perform atom type translation: table cannot find requested types.\n",
      "==============================\n",
      "*** Open Babel Warning  in ReadMolecule\n",
      "  This Mol2 file is non-standard. Problem with molecule: 2vwi_ANP_3_protein Cannot interpret atom types correctly, instead attempting to interpret atom type: AU as elements instead.\n",
      "==============================\n",
      "*** Open Babel Warning  in Translate\n",
      "  Cannot perform atom type translation: table cannot find requested types.\n",
      "==============================\n",
      "*** Open Babel Warning  in ReadMolecule\n",
      "  Failed to kekulize aromatic bonds in MOL2 file (title is 2vwi_ANP_3_protein)\n",
      "\n"
     ]
    },
    {
     "name": "stdout",
     "output_type": "stream",
     "text": [
      "\n"
     ]
    },
    {
     "name": "stderr",
     "output_type": "stream",
     "text": [
      "==============================\n",
      "*** Open Babel Warning  in ReadMolecule\n",
      "  Failed to kekulize aromatic bonds in MOL2 file (title is 1j2g_AZA_4_protein)\n",
      "\n"
     ]
    },
    {
     "name": "stdout",
     "output_type": "stream",
     "text": [
      "\n"
     ]
    },
    {
     "name": "stderr",
     "output_type": "stream",
     "text": [
      "==============================\n",
      "*** Open Babel Warning  in ReadMolecule\n",
      "  Failed to kekulize aromatic bonds in MOL2 file (title is 3idb_ANP_1_protein)\n",
      "\n"
     ]
    },
    {
     "name": "stdout",
     "output_type": "stream",
     "text": [
      "\n"
     ]
    },
    {
     "name": "stderr",
     "output_type": "stream",
     "text": [
      "==============================\n",
      "*** Open Babel Warning  in ReadMolecule\n",
      "  Failed to kekulize aromatic bonds in MOL2 file (title is 1vhz_APR_1_protein)\n",
      "\n"
     ]
    },
    {
     "name": "stdout",
     "output_type": "stream",
     "text": [
      "\n"
     ]
    },
    {
     "name": "stderr",
     "output_type": "stream",
     "text": [
      "==============================\n",
      "*** Open Babel Warning  in ReadMolecule\n",
      "  Failed to kekulize aromatic bonds in MOL2 file (title is 4nhm_UN9_1_protein)\n",
      "\n"
     ]
    },
    {
     "name": "stdout",
     "output_type": "stream",
     "text": [
      "\n"
     ]
    },
    {
     "name": "stderr",
     "output_type": "stream",
     "text": [
      "==============================\n",
      "*** Open Babel Warning  in ReadMolecule\n",
      "  Failed to kekulize aromatic bonds in MOL2 file (title is 4xjc_TTP_3_protein)\n",
      "\n"
     ]
    },
    {
     "name": "stdout",
     "output_type": "stream",
     "text": [
      "\n"
     ]
    },
    {
     "name": "stderr",
     "output_type": "stream",
     "text": [
      "==============================\n",
      "*** Open Babel Warning  in ReadMolecule\n",
      "  Failed to kekulize aromatic bonds in MOL2 file (title is 3cx5_SMA_2_protein)\n",
      "\n"
     ]
    },
    {
     "name": "stdout",
     "output_type": "stream",
     "text": [
      "\n"
     ]
    },
    {
     "name": "stderr",
     "output_type": "stream",
     "text": [
      "==============================\n",
      "*** Open Babel Warning  in ReadMolecule\n",
      "  Failed to kekulize aromatic bonds in MOL2 file (title is 2e2p_ADP_1_protein)\n",
      "\n"
     ]
    },
    {
     "name": "stdout",
     "output_type": "stream",
     "text": [
      "\n"
     ]
    },
    {
     "name": "stderr",
     "output_type": "stream",
     "text": [
      "==============================\n",
      "*** Open Babel Warning  in ReadMolecule\n",
      "  Failed to kekulize aromatic bonds in MOL2 file (title is 3ndc_SAH_2_protein)\n",
      "\n"
     ]
    },
    {
     "name": "stdout",
     "output_type": "stream",
     "text": [
      "\n"
     ]
    },
    {
     "name": "stderr",
     "output_type": "stream",
     "text": [
      "==============================\n",
      "*** Open Babel Warning  in ReadMolecule\n",
      "  Failed to kekulize aromatic bonds in MOL2 file (title is 2fbw_CBE_2_protein)\n",
      "\n"
     ]
    },
    {
     "name": "stdout",
     "output_type": "stream",
     "text": [
      "\n"
     ]
    },
    {
     "name": "stderr",
     "output_type": "stream",
     "text": [
      "==============================\n",
      "*** Open Babel Warning  in ReadMolecule\n",
      "  Failed to kekulize aromatic bonds in MOL2 file (title is 3ofm_4B0_1_protein)\n",
      "\n"
     ]
    },
    {
     "name": "stdout",
     "output_type": "stream",
     "text": [
      "\n"
     ]
    },
    {
     "name": "stderr",
     "output_type": "stream",
     "text": [
      "==============================\n",
      "*** Open Babel Warning  in ReadMolecule\n",
      "  Failed to kekulize aromatic bonds in MOL2 file (title is 1ez4_NAD_4_protein)\n",
      "\n"
     ]
    },
    {
     "name": "stdout",
     "output_type": "stream",
     "text": [
      "\n"
     ]
    },
    {
     "name": "stderr",
     "output_type": "stream",
     "text": [
      "==============================\n",
      "*** Open Babel Warning  in ReadMolecule\n",
      "  Failed to kekulize aromatic bonds in MOL2 file (title is 3roe_THM_3_protein)\n",
      "\n",
      "==============================\n",
      "*** Open Babel Warning  in ReadMolecule\n",
      "  Failed to kekulize aromatic bonds in MOL2 file (title is 3q33_ACO_2_protein)\n",
      "\n"
     ]
    },
    {
     "name": "stdout",
     "output_type": "stream",
     "text": [
      "\n",
      "\n"
     ]
    },
    {
     "name": "stderr",
     "output_type": "stream",
     "text": [
      "==============================\n",
      "*** Open Babel Warning  in ReadMolecule\n",
      "  Failed to kekulize aromatic bonds in MOL2 file (title is 4lfg_IPE_4_protein)\n",
      "\n",
      "==============================\n",
      "*** Open Babel Warning  in ReadMolecule\n",
      "  Failed to kekulize aromatic bonds in MOL2 file (title is 3p3z_P3Z_1_protein)\n",
      "\n"
     ]
    },
    {
     "name": "stdout",
     "output_type": "stream",
     "text": [
      "\n",
      "\n"
     ]
    },
    {
     "name": "stderr",
     "output_type": "stream",
     "text": [
      "==============================\n",
      "*** Open Babel Warning  in ReadMolecule\n",
      "  Failed to kekulize aromatic bonds in MOL2 file (title is 2tsr_D16_2_protein)\n",
      "\n"
     ]
    },
    {
     "name": "stdout",
     "output_type": "stream",
     "text": [
      "\n"
     ]
    },
    {
     "name": "stderr",
     "output_type": "stream",
     "text": [
      "==============================\n",
      "*** Open Babel Warning  in ReadMolecule\n",
      "  Failed to kekulize aromatic bonds in MOL2 file (title is 2ggs_NDP_1_protein)\n",
      "\n"
     ]
    },
    {
     "name": "stdout",
     "output_type": "stream",
     "text": [
      "\n"
     ]
    },
    {
     "name": "stderr",
     "output_type": "stream",
     "text": [
      "==============================\n",
      "*** Open Babel Warning  in ReadMolecule\n",
      "  Failed to kekulize aromatic bonds in MOL2 file (title is 3td7_FAD_1_protein)\n",
      "\n"
     ]
    },
    {
     "name": "stdout",
     "output_type": "stream",
     "text": [
      "\n"
     ]
    },
    {
     "name": "stderr",
     "output_type": "stream",
     "text": [
      "==============================\n",
      "*** Open Babel Warning  in ReadMolecule\n",
      "  Failed to kekulize aromatic bonds in MOL2 file (title is 2hmo_3NT_1_protein)\n",
      "\n"
     ]
    },
    {
     "name": "stdout",
     "output_type": "stream",
     "text": [
      "\n"
     ]
    },
    {
     "name": "stderr",
     "output_type": "stream",
     "text": [
      "==============================\n",
      "*** Open Babel Warning  in ReadMolecule\n",
      "  Failed to kekulize aromatic bonds in MOL2 file (title is 2x1l_ADN_1_protein)\n",
      "\n"
     ]
    },
    {
     "name": "stdout",
     "output_type": "stream",
     "text": [
      "\n"
     ]
    },
    {
     "name": "stderr",
     "output_type": "stream",
     "text": [
      "==============================\n",
      "*** Open Babel Warning  in ReadMolecule\n",
      "  Failed to kekulize aromatic bonds in MOL2 file (title is 2hb7_O1C_1_protein)\n",
      "\n",
      "==============================\n",
      "*** Open Babel Warning  in ReadMolecule\n",
      "  Failed to kekulize aromatic bonds in MOL2 file (title is 4aql_TXC_1_protein)\n",
      "\n"
     ]
    },
    {
     "name": "stdout",
     "output_type": "stream",
     "text": [
      "\n",
      "\n"
     ]
    },
    {
     "name": "stderr",
     "output_type": "stream",
     "text": [
      "==============================\n",
      "*** Open Babel Warning  in ReadMolecule\n",
      "  Failed to kekulize aromatic bonds in MOL2 file (title is 1zao_ATP_1_protein)\n",
      "\n"
     ]
    },
    {
     "name": "stdout",
     "output_type": "stream",
     "text": [
      "\n",
      "\n"
     ]
    },
    {
     "name": "stderr",
     "output_type": "stream",
     "text": [
      "==============================\n",
      "*** Open Babel Warning  in ReadMolecule\n",
      "  Failed to kekulize aromatic bonds in MOL2 file (title is 3a6p_GTP_1_protein)\n",
      "\n",
      "==============================\n",
      "*** Open Babel Warning  in ReadMolecule\n",
      "  Failed to kekulize aromatic bonds in MOL2 file (title is 1xtr_GNP_1_protein)\n",
      "\n"
     ]
    },
    {
     "name": "stdout",
     "output_type": "stream",
     "text": [
      "\n"
     ]
    },
    {
     "name": "stderr",
     "output_type": "stream",
     "text": [
      "==============================\n",
      "*** Open Babel Warning  in ReadMolecule\n",
      "  Failed to kekulize aromatic bonds in MOL2 file (title is 1yum_NCN_1_protein)\n",
      "\n"
     ]
    },
    {
     "name": "stdout",
     "output_type": "stream",
     "text": [
      "\n"
     ]
    },
    {
     "name": "stderr",
     "output_type": "stream",
     "text": [
      "==============================\n",
      "*** Open Babel Warning  in ReadMolecule\n",
      "  Failed to kekulize aromatic bonds in MOL2 file (title is 5bxy_SAH_1_protein)\n",
      "\n"
     ]
    },
    {
     "name": "stdout",
     "output_type": "stream",
     "text": [
      "\n"
     ]
    },
    {
     "name": "stderr",
     "output_type": "stream",
     "text": [
      "==============================\n",
      "*** Open Babel Warning  in ReadMolecule\n",
      "  Failed to kekulize aromatic bonds in MOL2 file (title is 5hwr_COA_1_protein)\n",
      "\n"
     ]
    },
    {
     "name": "stdout",
     "output_type": "stream",
     "text": [
      "\n"
     ]
    },
    {
     "name": "stderr",
     "output_type": "stream",
     "text": [
      "==============================\n",
      "*** Open Babel Warning  in ReadMolecule\n",
      "  Failed to kekulize aromatic bonds in MOL2 file (title is 3hu3_AGS_1_protein)\n",
      "\n"
     ]
    },
    {
     "name": "stdout",
     "output_type": "stream",
     "text": [
      "\n"
     ]
    },
    {
     "name": "stderr",
     "output_type": "stream",
     "text": [
      "==============================\n",
      "*** Open Babel Warning  in ReadMolecule\n",
      "  Failed to kekulize aromatic bonds in MOL2 file (title is 4ajw_VWN_1_protein)\n",
      "\n"
     ]
    },
    {
     "name": "stdout",
     "output_type": "stream",
     "text": [
      "\n"
     ]
    },
    {
     "name": "stderr",
     "output_type": "stream",
     "text": [
      "==============================\n",
      "*** Open Babel Warning  in ReadMolecule\n",
      "  Failed to kekulize aromatic bonds in MOL2 file (title is 1szc_CNA_1_protein)\n",
      "\n"
     ]
    },
    {
     "name": "stdout",
     "output_type": "stream",
     "text": [
      "\n"
     ]
    },
    {
     "name": "stderr",
     "output_type": "stream",
     "text": [
      "==============================\n",
      "*** Open Babel Warning  in ReadMolecule\n",
      "  Failed to kekulize aromatic bonds in MOL2 file (title is 2c27_ACO_2_protein)\n",
      "\n"
     ]
    },
    {
     "name": "stdout",
     "output_type": "stream",
     "text": [
      "\n"
     ]
    },
    {
     "name": "stderr",
     "output_type": "stream",
     "text": [
      "==============================\n",
      "*** Open Babel Warning  in ReadMolecule\n",
      "  Failed to kekulize aromatic bonds in MOL2 file (title is 2j3n_NAP_4_protein)\n",
      "\n"
     ]
    },
    {
     "name": "stdout",
     "output_type": "stream",
     "text": [
      "\n"
     ]
    },
    {
     "name": "stderr",
     "output_type": "stream",
     "text": [
      "==============================\n",
      "*** Open Babel Warning  in ReadMolecule\n",
      "  Failed to kekulize aromatic bonds in MOL2 file (title is 4hbg_NDP_1_protein)\n",
      "\n"
     ]
    },
    {
     "name": "stdout",
     "output_type": "stream",
     "text": [
      "\n"
     ]
    },
    {
     "name": "stderr",
     "output_type": "stream",
     "text": [
      "==============================\n",
      "*** Open Babel Warning  in ReadMolecule\n",
      "  Failed to kekulize aromatic bonds in MOL2 file (title is 2pjl_047_1_protein)\n",
      "\n"
     ]
    },
    {
     "name": "stdout",
     "output_type": "stream",
     "text": [
      "\n"
     ]
    },
    {
     "name": "stderr",
     "output_type": "stream",
     "text": [
      "==============================\n",
      "*** Open Babel Warning  in ReadMolecule\n",
      "  Failed to kekulize aromatic bonds in MOL2 file (title is 3iel_U5P_1_protein)\n",
      "\n"
     ]
    },
    {
     "name": "stdout",
     "output_type": "stream",
     "text": [
      "\n"
     ]
    },
    {
     "name": "stderr",
     "output_type": "stream",
     "text": [
      "==============================\n",
      "*** Open Babel Warning  in ReadMolecule\n",
      "  Failed to kekulize aromatic bonds in MOL2 file (title is 3sqz_COA_1_protein)\n",
      "\n"
     ]
    },
    {
     "name": "stdout",
     "output_type": "stream",
     "text": [
      "\n"
     ]
    },
    {
     "name": "stderr",
     "output_type": "stream",
     "text": [
      "==============================\n",
      "*** Open Babel Warning  in ReadMolecule\n",
      "  Failed to kekulize aromatic bonds in MOL2 file (title is 2a5h_SAM_1_protein)\n",
      "\n"
     ]
    },
    {
     "name": "stdout",
     "output_type": "stream",
     "text": [
      "\n"
     ]
    },
    {
     "name": "stderr",
     "output_type": "stream",
     "text": [
      "==============================\n",
      "*** Open Babel Warning  in ReadMolecule\n",
      "  Failed to kekulize aromatic bonds in MOL2 file (title is 2wbg_LGS_1_protein)\n",
      "\n"
     ]
    },
    {
     "name": "stdout",
     "output_type": "stream",
     "text": [
      "\n"
     ]
    },
    {
     "name": "stderr",
     "output_type": "stream",
     "text": [
      "==============================\n",
      "*** Open Babel Warning  in ReadMolecule\n",
      "  Failed to kekulize aromatic bonds in MOL2 file (title is 1aj0_PH2_1_protein)\n",
      "\n"
     ]
    },
    {
     "name": "stdout",
     "output_type": "stream",
     "text": [
      "\n"
     ]
    },
    {
     "name": "stderr",
     "output_type": "stream",
     "text": [
      "==============================\n",
      "*** Open Babel Warning  in ReadMolecule\n",
      "  Failed to kekulize aromatic bonds in MOL2 file (title is 1jil_485_1_protein)\n",
      "\n"
     ]
    },
    {
     "name": "stdout",
     "output_type": "stream",
     "text": [
      "\n"
     ]
    },
    {
     "name": "stderr",
     "output_type": "stream",
     "text": [
      "==============================\n",
      "*** Open Babel Warning  in ReadMolecule\n",
      "  Failed to kekulize aromatic bonds in MOL2 file (title is 2dr3_ADP_4_protein)\n",
      "\n"
     ]
    },
    {
     "name": "stdout",
     "output_type": "stream",
     "text": [
      "\n"
     ]
    },
    {
     "name": "stderr",
     "output_type": "stream",
     "text": [
      "==============================\n",
      "*** Open Babel Warning  in ReadMolecule\n",
      "  Failed to kekulize aromatic bonds in MOL2 file (title is 2po7_CHD_1_protein)\n",
      "\n"
     ]
    },
    {
     "name": "stdout",
     "output_type": "stream",
     "text": [
      "\n"
     ]
    },
    {
     "name": "stderr",
     "output_type": "stream",
     "text": [
      "==============================\n",
      "*** Open Babel Warning  in ReadMolecule\n",
      "  Failed to kekulize aromatic bonds in MOL2 file (title is 4bhw_01K_1_protein)\n",
      "\n"
     ]
    },
    {
     "name": "stdout",
     "output_type": "stream",
     "text": [
      "\n"
     ]
    },
    {
     "name": "stderr",
     "output_type": "stream",
     "text": [
      "==============================\n",
      "*** Open Babel Warning  in ReadMolecule\n",
      "  Failed to kekulize aromatic bonds in MOL2 file (title is 4ihi_NAD_1_protein)\n",
      "\n"
     ]
    },
    {
     "name": "stdout",
     "output_type": "stream",
     "text": [
      "\n"
     ]
    },
    {
     "name": "stderr",
     "output_type": "stream",
     "text": [
      "==============================\n",
      "*** Open Babel Warning  in ReadMolecule\n",
      "  Failed to kekulize aromatic bonds in MOL2 file (title is 2a4f_AAU_1_protein)\n",
      "\n"
     ]
    },
    {
     "name": "stdout",
     "output_type": "stream",
     "text": [
      "\n"
     ]
    },
    {
     "name": "stderr",
     "output_type": "stream",
     "text": [
      "==============================\n",
      "*** Open Babel Warning  in ReadMolecule\n",
      "  Failed to kekulize aromatic bonds in MOL2 file (title is 3rf7_NAD_1_protein)\n",
      "\n"
     ]
    },
    {
     "name": "stdout",
     "output_type": "stream",
     "text": [
      "\n"
     ]
    },
    {
     "name": "stderr",
     "output_type": "stream",
     "text": [
      "==============================\n",
      "*** Open Babel Warning  in ReadMolecule\n",
      "  Failed to kekulize aromatic bonds in MOL2 file (title is 4jic_FMN_1_protein)\n",
      "\n"
     ]
    },
    {
     "name": "stdout",
     "output_type": "stream",
     "text": [
      "\n"
     ]
    },
    {
     "name": "stderr",
     "output_type": "stream",
     "text": [
      "==============================\n",
      "*** Open Babel Warning  in ReadMolecule\n",
      "  Failed to kekulize aromatic bonds in MOL2 file (title is 3v0p_4GW_1_protein)\n",
      "\n"
     ]
    },
    {
     "name": "stdout",
     "output_type": "stream",
     "text": [
      "\n"
     ]
    },
    {
     "name": "stderr",
     "output_type": "stream",
     "text": [
      "==============================\n",
      "*** Open Babel Warning  in ReadMolecule\n",
      "  Failed to kekulize aromatic bonds in MOL2 file (title is 1w5b_GTP_1_protein)\n",
      "\n"
     ]
    },
    {
     "name": "stdout",
     "output_type": "stream",
     "text": [
      "\n"
     ]
    },
    {
     "name": "stderr",
     "output_type": "stream",
     "text": [
      "==============================\n",
      "*** Open Babel Warning  in ReadMolecule\n",
      "  Failed to kekulize aromatic bonds in MOL2 file (title is 2ay3_MPP_1_protein)\n",
      "\n"
     ]
    },
    {
     "name": "stdout",
     "output_type": "stream",
     "text": [
      "\n"
     ]
    },
    {
     "name": "stderr",
     "output_type": "stream",
     "text": [
      "==============================\n",
      "*** Open Babel Warning  in ReadMolecule\n",
      "  Failed to kekulize aromatic bonds in MOL2 file (title is 1u4d_DBQ_1_protein)\n",
      "\n"
     ]
    },
    {
     "name": "stdout",
     "output_type": "stream",
     "text": [
      "\n"
     ]
    },
    {
     "name": "stderr",
     "output_type": "stream",
     "text": [
      "==============================\n",
      "*** Open Babel Warning  in ReadMolecule\n",
      "  Failed to kekulize aromatic bonds in MOL2 file (title is 1m13_HYF_1_protein)\n",
      "\n"
     ]
    },
    {
     "name": "stdout",
     "output_type": "stream",
     "text": [
      "\n"
     ]
    },
    {
     "name": "stderr",
     "output_type": "stream",
     "text": [
      "==============================\n",
      "*** Open Babel Warning  in ReadMolecule\n",
      "  Failed to kekulize aromatic bonds in MOL2 file (title is 4i3z_ADP_1_protein)\n",
      "\n"
     ]
    },
    {
     "name": "stdout",
     "output_type": "stream",
     "text": [
      "\n"
     ]
    },
    {
     "name": "stderr",
     "output_type": "stream",
     "text": [
      "==============================\n",
      "*** Open Babel Warning  in ReadMolecule\n",
      "  Failed to kekulize aromatic bonds in MOL2 file (title is 5ahw_POG_2_protein)\n",
      "\n"
     ]
    },
    {
     "name": "stdout",
     "output_type": "stream",
     "text": [
      "\n"
     ]
    },
    {
     "name": "stderr",
     "output_type": "stream",
     "text": [
      "==============================\n",
      "*** Open Babel Warning  in ReadMolecule\n",
      "  Failed to kekulize aromatic bonds in MOL2 file (title is 4zwm_PLP_1_protein)\n",
      "\n"
     ]
    },
    {
     "name": "stdout",
     "output_type": "stream",
     "text": [
      "\n"
     ]
    },
    {
     "name": "stderr",
     "output_type": "stream",
     "text": [
      "==============================\n",
      "*** Open Babel Warning  in ReadMolecule\n",
      "  Failed to kekulize aromatic bonds in MOL2 file (title is 3iw4_LW4_3_protein)\n",
      "\n"
     ]
    },
    {
     "name": "stdout",
     "output_type": "stream",
     "text": [
      "\n"
     ]
    },
    {
     "name": "stderr",
     "output_type": "stream",
     "text": [
      "==============================\n",
      "*** Open Babel Warning  in ReadMolecule\n",
      "  Failed to kekulize aromatic bonds in MOL2 file (title is 2rc5_FAD_2_protein)\n",
      "\n"
     ]
    },
    {
     "name": "stdout",
     "output_type": "stream",
     "text": [
      "\n"
     ]
    },
    {
     "name": "stderr",
     "output_type": "stream",
     "text": [
      "==============================\n",
      "*** Open Babel Warning  in ReadMolecule\n",
      "  Failed to kekulize aromatic bonds in MOL2 file (title is 2xik_J60_1_protein)\n",
      "\n"
     ]
    },
    {
     "name": "stdout",
     "output_type": "stream",
     "text": [
      "\n"
     ]
    },
    {
     "name": "stderr",
     "output_type": "stream",
     "text": [
      "==============================\n",
      "*** Open Babel Warning  in ReadMolecule\n",
      "  Failed to kekulize aromatic bonds in MOL2 file (title is 3e39_FMN_2_protein)\n",
      "\n"
     ]
    },
    {
     "name": "stdout",
     "output_type": "stream",
     "text": [
      "\n"
     ]
    },
    {
     "name": "stderr",
     "output_type": "stream",
     "text": [
      "==============================\n",
      "*** Open Babel Warning  in ReadMolecule\n",
      "  Failed to kekulize aromatic bonds in MOL2 file (title is 4eil_FOL_16_protein)\n",
      "\n"
     ]
    },
    {
     "name": "stdout",
     "output_type": "stream",
     "text": [
      "\n"
     ]
    },
    {
     "name": "stderr",
     "output_type": "stream",
     "text": [
      "==============================\n",
      "*** Open Babel Warning  in ReadMolecule\n",
      "  Failed to kekulize aromatic bonds in MOL2 file (title is 4bf9_FMN_1_protein)\n",
      "\n"
     ]
    },
    {
     "name": "stdout",
     "output_type": "stream",
     "text": [
      "\n"
     ]
    },
    {
     "name": "stderr",
     "output_type": "stream",
     "text": [
      "==============================\n",
      "*** Open Babel Warning  in ReadMolecule\n",
      "  Failed to kekulize aromatic bonds in MOL2 file (title is 1j0d_5PA_2_protein)\n",
      "\n"
     ]
    },
    {
     "name": "stdout",
     "output_type": "stream",
     "text": [
      "\n"
     ]
    },
    {
     "name": "stderr",
     "output_type": "stream",
     "text": [
      "==============================\n",
      "*** Open Babel Warning  in ReadMolecule\n",
      "  Failed to kekulize aromatic bonds in MOL2 file (title is 3fql_79Z_1_protein)\n",
      "\n"
     ]
    },
    {
     "name": "stdout",
     "output_type": "stream",
     "text": [
      "\n"
     ]
    },
    {
     "name": "stderr",
     "output_type": "stream",
     "text": [
      "==============================\n",
      "*** Open Babel Warning  in ReadMolecule\n",
      "  Failed to kekulize aromatic bonds in MOL2 file (title is 2q97_ATP_1_protein)\n",
      "\n"
     ]
    },
    {
     "name": "stdout",
     "output_type": "stream",
     "text": [
      "\n"
     ]
    },
    {
     "name": "stderr",
     "output_type": "stream",
     "text": [
      "==============================\n",
      "*** Open Babel Warning  in ReadMolecule\n",
      "  Failed to kekulize aromatic bonds in MOL2 file (title is 2q0l_NAP_2_protein)\n",
      "\n"
     ]
    },
    {
     "name": "stdout",
     "output_type": "stream",
     "text": [
      "\n"
     ]
    },
    {
     "name": "stderr",
     "output_type": "stream",
     "text": [
      "==============================\n",
      "*** Open Babel Warning  in ReadMolecule\n",
      "  Failed to kekulize aromatic bonds in MOL2 file (title is 4zir_ANP_1_protein)\n",
      "\n"
     ]
    },
    {
     "name": "stdout",
     "output_type": "stream",
     "text": [
      "\n"
     ]
    },
    {
     "name": "stderr",
     "output_type": "stream",
     "text": [
      "==============================\n",
      "*** Open Babel Warning  in ReadMolecule\n",
      "  Failed to kekulize aromatic bonds in MOL2 file (title is 2j3n_FAD_1_protein)\n",
      "\n"
     ]
    },
    {
     "name": "stdout",
     "output_type": "stream",
     "text": [
      "\n"
     ]
    },
    {
     "name": "stderr",
     "output_type": "stream",
     "text": [
      "==============================\n",
      "*** Open Babel Warning  in ReadMolecule\n",
      "  Failed to kekulize aromatic bonds in MOL2 file (title is 2rhq_GAX_1_protein)\n",
      "\n"
     ]
    },
    {
     "name": "stdout",
     "output_type": "stream",
     "text": [
      "\n"
     ]
    },
    {
     "name": "stderr",
     "output_type": "stream",
     "text": [
      "==============================\n",
      "*** Open Babel Warning  in ReadMolecule\n",
      "  Failed to kekulize aromatic bonds in MOL2 file (title is 4jdr_FAD_1_protein)\n",
      "\n"
     ]
    },
    {
     "name": "stdout",
     "output_type": "stream",
     "text": [
      "\n"
     ]
    },
    {
     "name": "stderr",
     "output_type": "stream",
     "text": [
      "==============================\n",
      "*** Open Babel Warning  in ReadMolecule\n",
      "  Failed to kekulize aromatic bonds in MOL2 file (title is 4aza_MGO_1_protein)\n",
      "\n"
     ]
    },
    {
     "name": "stdout",
     "output_type": "stream",
     "text": [
      "\n"
     ]
    },
    {
     "name": "stderr",
     "output_type": "stream",
     "text": [
      "==============================\n",
      "*** Open Babel Warning  in ReadMolecule\n",
      "  Failed to kekulize aromatic bonds in MOL2 file (title is 1z7e_UGA_6_protein)\n",
      "\n"
     ]
    },
    {
     "name": "stdout",
     "output_type": "stream",
     "text": [
      "\n"
     ]
    },
    {
     "name": "stderr",
     "output_type": "stream",
     "text": [
      "==============================\n",
      "*** Open Babel Warning  in ReadMolecule\n",
      "  Failed to kekulize aromatic bonds in MOL2 file (title is 1rdf_ESA_1_protein)\n",
      "\n"
     ]
    },
    {
     "name": "stdout",
     "output_type": "stream",
     "text": [
      "\n"
     ]
    },
    {
     "name": "stderr",
     "output_type": "stream",
     "text": [
      "==============================\n",
      "*** Open Babel Warning  in ReadMolecule\n",
      "  This Mol2 file is non-standard. Problem with molecule: 3koy_Z97_1_protein Cannot interpret atom types correctly, instead attempting to interpret atom type: CO as elements instead.\n",
      "==============================\n",
      "*** Open Babel Warning  in Translate\n",
      "  Cannot perform atom type translation: table cannot find requested types.\n",
      "==============================\n",
      "*** Open Babel Warning  in ReadMolecule\n",
      "  This Mol2 file is non-standard. Problem with molecule: 3koy_Z97_1_protein Cannot interpret atom types correctly, instead attempting to interpret atom type: CO as elements instead.\n",
      "==============================\n",
      "*** Open Babel Warning  in Translate\n",
      "  Cannot perform atom type translation: table cannot find requested types.\n",
      "==============================\n",
      "*** Open Babel Warning  in ReadMolecule\n",
      "  Failed to kekulize aromatic bonds in MOL2 file (title is 3koy_Z97_1_protein)\n",
      "\n"
     ]
    },
    {
     "name": "stdout",
     "output_type": "stream",
     "text": [
      "\n"
     ]
    },
    {
     "name": "stderr",
     "output_type": "stream",
     "text": [
      "==============================\n",
      "*** Open Babel Warning  in ReadMolecule\n",
      "  Failed to kekulize aromatic bonds in MOL2 file (title is 4klb_1RV_2_protein)\n",
      "\n"
     ]
    },
    {
     "name": "stdout",
     "output_type": "stream",
     "text": [
      "\n"
     ]
    },
    {
     "name": "stderr",
     "output_type": "stream",
     "text": [
      "==============================\n",
      "*** Open Babel Warning  in ReadMolecule\n",
      "  Failed to kekulize aromatic bonds in MOL2 file (title is 1w4a_APC_2_protein)\n",
      "\n"
     ]
    },
    {
     "name": "stdout",
     "output_type": "stream",
     "text": [
      "\n"
     ]
    },
    {
     "name": "stderr",
     "output_type": "stream",
     "text": [
      "==============================\n",
      "*** Open Babel Warning  in ReadMolecule\n",
      "  Failed to kekulize aromatic bonds in MOL2 file (title is 4e70_N7I_1_protein)\n",
      "\n"
     ]
    },
    {
     "name": "stdout",
     "output_type": "stream",
     "text": [
      "\n"
     ]
    },
    {
     "name": "stderr",
     "output_type": "stream",
     "text": [
      "==============================\n",
      "*** Open Babel Warning  in ReadMolecule\n",
      "  Failed to kekulize aromatic bonds in MOL2 file (title is 3wag_TYD_2_protein)\n",
      "\n"
     ]
    },
    {
     "name": "stdout",
     "output_type": "stream",
     "text": [
      "\n"
     ]
    },
    {
     "name": "stderr",
     "output_type": "stream",
     "text": [
      "==============================\n",
      "*** Open Babel Warning  in ReadMolecule\n",
      "  Failed to kekulize aromatic bonds in MOL2 file (title is 4jta_NAP_1_protein)\n",
      "\n"
     ]
    },
    {
     "name": "stdout",
     "output_type": "stream",
     "text": [
      "\n"
     ]
    },
    {
     "name": "stderr",
     "output_type": "stream",
     "text": [
      "==============================\n",
      "*** Open Babel Warning  in ReadMolecule\n",
      "  Failed to kekulize aromatic bonds in MOL2 file (title is 2oy2_ILE_ALA_GLY_1_protein)\n",
      "\n"
     ]
    },
    {
     "name": "stdout",
     "output_type": "stream",
     "text": [
      "\n"
     ]
    },
    {
     "name": "stderr",
     "output_type": "stream",
     "text": [
      "==============================\n",
      "*** Open Babel Warning  in ReadMolecule\n",
      "  Failed to kekulize aromatic bonds in MOL2 file (title is 4wxg_2BO_2_protein)\n",
      "\n"
     ]
    },
    {
     "name": "stdout",
     "output_type": "stream",
     "text": [
      "\n"
     ]
    },
    {
     "name": "stderr",
     "output_type": "stream",
     "text": [
      "==============================\n",
      "*** Open Babel Warning  in ReadMolecule\n",
      "  Failed to kekulize aromatic bonds in MOL2 file (title is 2rl2_UD1_1_protein)\n",
      "\n"
     ]
    },
    {
     "name": "stdout",
     "output_type": "stream",
     "text": [
      "\n"
     ]
    },
    {
     "name": "stderr",
     "output_type": "stream",
     "text": [
      "==============================\n",
      "*** Open Babel Warning  in ReadMolecule\n",
      "  Failed to kekulize aromatic bonds in MOL2 file (title is 5kgp_ACO_1_protein)\n",
      "\n"
     ]
    },
    {
     "name": "stdout",
     "output_type": "stream",
     "text": [
      "\n"
     ]
    },
    {
     "name": "stderr",
     "output_type": "stream",
     "text": [
      "==============================\n",
      "*** Open Babel Warning  in ReadMolecule\n",
      "  Failed to kekulize aromatic bonds in MOL2 file (title is 3b1d_PLS_2_protein)\n",
      "\n"
     ]
    },
    {
     "name": "stdout",
     "output_type": "stream",
     "text": [
      "\n"
     ]
    },
    {
     "name": "stderr",
     "output_type": "stream",
     "text": [
      "==============================\n",
      "*** Open Babel Warning  in ReadMolecule\n",
      "  Failed to kekulize aromatic bonds in MOL2 file (title is 2v3h_I25_1_protein)\n",
      "\n"
     ]
    },
    {
     "name": "stdout",
     "output_type": "stream",
     "text": [
      "\n"
     ]
    },
    {
     "name": "stderr",
     "output_type": "stream",
     "text": [
      "==============================\n",
      "*** Open Babel Warning  in ReadMolecule\n",
      "  Failed to kekulize aromatic bonds in MOL2 file (title is 3tm5_SFG_2_protein)\n",
      "\n"
     ]
    },
    {
     "name": "stdout",
     "output_type": "stream",
     "text": [
      "\n"
     ]
    },
    {
     "name": "stderr",
     "output_type": "stream",
     "text": [
      "==============================\n",
      "*** Open Babel Warning  in ReadMolecule\n",
      "  Failed to kekulize aromatic bonds in MOL2 file (title is 2dqm_BES_1_protein)\n",
      "\n"
     ]
    },
    {
     "name": "stdout",
     "output_type": "stream",
     "text": [
      "\n"
     ]
    },
    {
     "name": "stderr",
     "output_type": "stream",
     "text": [
      "==============================\n",
      "*** Open Babel Warning  in ReadMolecule\n",
      "  Failed to kekulize aromatic bonds in MOL2 file (title is 2olv_M0E_1_protein)\n",
      "\n"
     ]
    },
    {
     "name": "stdout",
     "output_type": "stream",
     "text": [
      "\n"
     ]
    },
    {
     "name": "stderr",
     "output_type": "stream",
     "text": [
      "==============================\n",
      "*** Open Babel Warning  in ReadMolecule\n",
      "  Failed to kekulize aromatic bonds in MOL2 file (title is 5l3r_GCP_2_protein)\n",
      "\n"
     ]
    },
    {
     "name": "stdout",
     "output_type": "stream",
     "text": [
      "\n"
     ]
    },
    {
     "name": "stderr",
     "output_type": "stream",
     "text": [
      "==============================\n",
      "*** Open Babel Warning  in ReadMolecule\n",
      "  Failed to kekulize aromatic bonds in MOL2 file (title is 4n49_MGT_1_protein)\n",
      "\n"
     ]
    },
    {
     "name": "stdout",
     "output_type": "stream",
     "text": [
      "\n"
     ]
    },
    {
     "name": "stderr",
     "output_type": "stream",
     "text": [
      "==============================\n",
      "*** Open Babel Warning  in ReadMolecule\n",
      "  Failed to kekulize aromatic bonds in MOL2 file (title is 3vax_PLP_1_protein)\n",
      "\n"
     ]
    },
    {
     "name": "stdout",
     "output_type": "stream",
     "text": [
      "\n"
     ]
    },
    {
     "name": "stderr",
     "output_type": "stream",
     "text": [
      "==============================\n",
      "*** Open Babel Warning  in ReadMolecule\n",
      "  Failed to kekulize aromatic bonds in MOL2 file (title is 2iya_ZIO_2_protein)\n",
      "\n"
     ]
    },
    {
     "name": "stdout",
     "output_type": "stream",
     "text": [
      "\n"
     ]
    },
    {
     "name": "stderr",
     "output_type": "stream",
     "text": [
      "==============================\n",
      "*** Open Babel Warning  in ReadMolecule\n",
      "  Failed to kekulize aromatic bonds in MOL2 file (title is 4ej0_NAP_8_protein)\n",
      "\n"
     ]
    },
    {
     "name": "stdout",
     "output_type": "stream",
     "text": [
      "\n"
     ]
    },
    {
     "name": "stderr",
     "output_type": "stream",
     "text": [
      "==============================\n",
      "*** Open Babel Warning  in ReadMolecule\n",
      "  Failed to kekulize aromatic bonds in MOL2 file (title is 4itb_NDP_1_protein)\n",
      "\n"
     ]
    },
    {
     "name": "stdout",
     "output_type": "stream",
     "text": [
      "\n"
     ]
    },
    {
     "name": "stderr",
     "output_type": "stream",
     "text": [
      "==============================\n",
      "*** Open Babel Warning  in ReadMolecule\n",
      "  Failed to kekulize aromatic bonds in MOL2 file (title is 4n82_FMN_1_protein)\n",
      "\n"
     ]
    },
    {
     "name": "stdout",
     "output_type": "stream",
     "text": [
      "\n"
     ]
    },
    {
     "name": "stderr",
     "output_type": "stream",
     "text": [
      "==============================\n",
      "*** Open Babel Warning  in ReadMolecule\n",
      "  Failed to kekulize aromatic bonds in MOL2 file (title is 4xba_5GP_1_protein)\n",
      "\n"
     ]
    },
    {
     "name": "stdout",
     "output_type": "stream",
     "text": [
      "\n"
     ]
    },
    {
     "name": "stderr",
     "output_type": "stream",
     "text": [
      "==============================\n",
      "*** Open Babel Warning  in ReadMolecule\n",
      "  Failed to kekulize aromatic bonds in MOL2 file (title is 2ixb_NAD_1_protein)\n",
      "\n"
     ]
    },
    {
     "name": "stdout",
     "output_type": "stream",
     "text": [
      "\n"
     ]
    },
    {
     "name": "stderr",
     "output_type": "stream",
     "text": [
      "==============================\n",
      "*** Open Babel Warning  in ReadMolecule\n",
      "  Failed to kekulize aromatic bonds in MOL2 file (title is 2hfu_MEV_1_protein)\n",
      "\n"
     ]
    },
    {
     "name": "stdout",
     "output_type": "stream",
     "text": [
      "\n"
     ]
    },
    {
     "name": "stderr",
     "output_type": "stream",
     "text": [
      "==============================\n",
      "*** Open Babel Warning  in ReadMolecule\n",
      "  Failed to kekulize aromatic bonds in MOL2 file (title is 1wxj_IPL_1_protein)\n",
      "\n"
     ]
    },
    {
     "name": "stdout",
     "output_type": "stream",
     "text": [
      "\n"
     ]
    },
    {
     "name": "stderr",
     "output_type": "stream",
     "text": [
      "==============================\n",
      "*** Open Babel Warning  in ReadMolecule\n",
      "  Failed to kekulize aromatic bonds in MOL2 file (title is 3t0i_SAH_1_protein)\n",
      "\n"
     ]
    },
    {
     "name": "stdout",
     "output_type": "stream",
     "text": [
      "\n"
     ]
    },
    {
     "name": "stderr",
     "output_type": "stream",
     "text": [
      "==============================\n",
      "*** Open Babel Warning  in ReadMolecule\n",
      "  Failed to kekulize aromatic bonds in MOL2 file (title is 2oz5_7XY_3_protein)\n",
      "\n"
     ]
    },
    {
     "name": "stdout",
     "output_type": "stream",
     "text": [
      "\n"
     ]
    },
    {
     "name": "stderr",
     "output_type": "stream",
     "text": [
      "==============================\n",
      "*** Open Babel Warning  in ReadMolecule\n",
      "  Failed to kekulize aromatic bonds in MOL2 file (title is 2hay_FMN_1_protein)\n",
      "\n"
     ]
    },
    {
     "name": "stdout",
     "output_type": "stream",
     "text": [
      "\n"
     ]
    },
    {
     "name": "stderr",
     "output_type": "stream",
     "text": [
      "==============================\n",
      "*** Open Babel Warning  in ReadMolecule\n",
      "  Failed to kekulize aromatic bonds in MOL2 file (title is 2bd0_NAP_2_protein)\n",
      "\n"
     ]
    },
    {
     "name": "stdout",
     "output_type": "stream",
     "text": [
      "\n"
     ]
    },
    {
     "name": "stderr",
     "output_type": "stream",
     "text": [
      "==============================\n",
      "*** Open Babel Warning  in ReadMolecule\n",
      "  Failed to kekulize aromatic bonds in MOL2 file (title is 3egv_SAH_1_protein)\n",
      "\n"
     ]
    },
    {
     "name": "stdout",
     "output_type": "stream",
     "text": [
      "\n"
     ]
    },
    {
     "name": "stderr",
     "output_type": "stream",
     "text": [
      "==============================\n",
      "*** Open Babel Warning  in ReadMolecule\n",
      "  Failed to kekulize aromatic bonds in MOL2 file (title is 5alu_HD2_2_protein)\n",
      "\n"
     ]
    },
    {
     "name": "stdout",
     "output_type": "stream",
     "text": [
      "\n"
     ]
    },
    {
     "name": "stderr",
     "output_type": "stream",
     "text": [
      "==============================\n",
      "*** Open Babel Warning  in ReadMolecule\n",
      "  Failed to kekulize aromatic bonds in MOL2 file (title is 2w5b_AGS_1_protein)\n",
      "\n"
     ]
    },
    {
     "name": "stdout",
     "output_type": "stream",
     "text": [
      "\n"
     ]
    },
    {
     "name": "stderr",
     "output_type": "stream",
     "text": [
      "==============================\n",
      "*** Open Babel Warning  in ReadMolecule\n",
      "  Failed to kekulize aromatic bonds in MOL2 file (title is 1y6o_MJI_1_protein)\n",
      "\n"
     ]
    },
    {
     "name": "stdout",
     "output_type": "stream",
     "text": [
      "\n"
     ]
    },
    {
     "name": "stderr",
     "output_type": "stream",
     "text": [
      "==============================\n",
      "*** Open Babel Warning  in ReadMolecule\n",
      "  Failed to kekulize aromatic bonds in MOL2 file (title is 3geg_NAD_2_protein)\n",
      "\n"
     ]
    },
    {
     "name": "stdout",
     "output_type": "stream",
     "text": [
      "\n"
     ]
    },
    {
     "name": "stderr",
     "output_type": "stream",
     "text": [
      "==============================\n",
      "*** Open Babel Warning  in ReadMolecule\n",
      "  Failed to kekulize aromatic bonds in MOL2 file (title is 3qnl_ROA_1_protein)\n",
      "\n"
     ]
    },
    {
     "name": "stdout",
     "output_type": "stream",
     "text": [
      "\n"
     ]
    },
    {
     "name": "stderr",
     "output_type": "stream",
     "text": [
      "==============================\n",
      "*** Open Babel Warning  in ReadMolecule\n",
      "  Failed to kekulize aromatic bonds in MOL2 file (title is 4fry_NAD_1_protein)\n",
      "\n"
     ]
    },
    {
     "name": "stdout",
     "output_type": "stream",
     "text": [
      "\n"
     ]
    },
    {
     "name": "stderr",
     "output_type": "stream",
     "text": [
      "==============================\n",
      "*** Open Babel Warning  in ReadMolecule\n",
      "  Failed to kekulize aromatic bonds in MOL2 file (title is 1wwz_ACO_2_protein)\n",
      "\n"
     ]
    },
    {
     "name": "stdout",
     "output_type": "stream",
     "text": [
      "\n"
     ]
    },
    {
     "name": "stderr",
     "output_type": "stream",
     "text": [
      "==============================\n",
      "*** Open Babel Warning  in ReadMolecule\n",
      "  Failed to kekulize aromatic bonds in MOL2 file (title is 3ez2_ADP_4_protein)\n",
      "\n"
     ]
    },
    {
     "name": "stdout",
     "output_type": "stream",
     "text": [
      "\n"
     ]
    },
    {
     "name": "stderr",
     "output_type": "stream",
     "text": [
      "==============================\n",
      "*** Open Babel Warning  in ReadMolecule\n",
      "  Failed to kekulize aromatic bonds in MOL2 file (title is 2gdz_NAD_1_protein)\n",
      "\n"
     ]
    },
    {
     "name": "stdout",
     "output_type": "stream",
     "text": [
      "\n"
     ]
    },
    {
     "name": "stderr",
     "output_type": "stream",
     "text": [
      "==============================\n",
      "*** Open Babel Warning  in ReadMolecule\n",
      "  Failed to kekulize aromatic bonds in MOL2 file (title is 3tqx_PLP_1_protein)\n",
      "\n"
     ]
    },
    {
     "name": "stdout",
     "output_type": "stream",
     "text": [
      "\n"
     ]
    },
    {
     "name": "stderr",
     "output_type": "stream",
     "text": [
      "==============================\n",
      "*** Open Babel Warning  in ReadMolecule\n",
      "  Failed to kekulize aromatic bonds in MOL2 file (title is 4isz_GAV_2_protein)\n",
      "\n"
     ]
    },
    {
     "name": "stdout",
     "output_type": "stream",
     "text": [
      "\n"
     ]
    },
    {
     "name": "stderr",
     "output_type": "stream",
     "text": [
      "==============================\n",
      "*** Open Babel Warning  in ReadMolecule\n",
      "  Failed to kekulize aromatic bonds in MOL2 file (title is 2cdc_NAP_3_protein)\n",
      "\n"
     ]
    },
    {
     "name": "stdout",
     "output_type": "stream",
     "text": [
      "\n"
     ]
    },
    {
     "name": "stderr",
     "output_type": "stream",
     "text": [
      "==============================\n",
      "*** Open Babel Warning  in ReadMolecule\n",
      "  Failed to kekulize aromatic bonds in MOL2 file (title is 3pfe_IMD_1_protein)\n",
      "\n"
     ]
    },
    {
     "name": "stdout",
     "output_type": "stream",
     "text": [
      "\n"
     ]
    },
    {
     "name": "stderr",
     "output_type": "stream",
     "text": [
      "==============================\n",
      "*** Open Babel Warning  in ReadMolecule\n",
      "  Failed to kekulize aromatic bonds in MOL2 file (title is 1p52_ADP_1_protein)\n",
      "\n"
     ]
    },
    {
     "name": "stdout",
     "output_type": "stream",
     "text": [
      "\n"
     ]
    },
    {
     "name": "stderr",
     "output_type": "stream",
     "text": [
      "==============================\n",
      "*** Open Babel Warning  in ReadMolecule\n",
      "  Failed to kekulize aromatic bonds in MOL2 file (title is 4kig_ENO_1_protein)\n",
      "\n"
     ]
    },
    {
     "name": "stdout",
     "output_type": "stream",
     "text": [
      "\n"
     ]
    },
    {
     "name": "stderr",
     "output_type": "stream",
     "text": [
      "==============================\n",
      "*** Open Babel Warning  in ReadMolecule\n",
      "  Failed to kekulize aromatic bonds in MOL2 file (title is 4hms_FMN_1_protein)\n",
      "\n"
     ]
    },
    {
     "name": "stdout",
     "output_type": "stream",
     "text": [
      "\n"
     ]
    },
    {
     "name": "stderr",
     "output_type": "stream",
     "text": [
      "==============================\n",
      "*** Open Babel Warning  in ReadMolecule\n",
      "  Failed to kekulize aromatic bonds in MOL2 file (title is 2z08_ATP_1_protein)\n",
      "\n"
     ]
    },
    {
     "name": "stdout",
     "output_type": "stream",
     "text": [
      "\n"
     ]
    },
    {
     "name": "stderr",
     "output_type": "stream",
     "text": [
      "==============================\n",
      "*** Open Babel Warning  in ReadMolecule\n",
      "  Failed to kekulize aromatic bonds in MOL2 file (title is 1kws_UGA_1_protein)\n",
      "\n"
     ]
    },
    {
     "name": "stdout",
     "output_type": "stream",
     "text": [
      "\n"
     ]
    },
    {
     "name": "stderr",
     "output_type": "stream",
     "text": [
      "==============================\n",
      "*** Open Babel Warning  in ReadMolecule\n",
      "  Failed to kekulize aromatic bonds in MOL2 file (title is 1u1i_NAD_4_protein)\n",
      "\n"
     ]
    },
    {
     "name": "stdout",
     "output_type": "stream",
     "text": [
      "\n"
     ]
    },
    {
     "name": "stderr",
     "output_type": "stream",
     "text": [
      "==============================\n",
      "*** Open Babel Warning  in ReadMolecule\n",
      "  Failed to kekulize aromatic bonds in MOL2 file (title is 3zok_NAD_2_protein)\n",
      "\n"
     ]
    },
    {
     "name": "stdout",
     "output_type": "stream",
     "text": [
      "\n"
     ]
    },
    {
     "name": "stderr",
     "output_type": "stream",
     "text": [
      "==============================\n",
      "*** Open Babel Warning  in ReadMolecule\n",
      "  Failed to kekulize aromatic bonds in MOL2 file (title is 3tzl_ADP_1_protein)\n",
      "\n"
     ]
    },
    {
     "name": "stdout",
     "output_type": "stream",
     "text": [
      "\n"
     ]
    },
    {
     "name": "stderr",
     "output_type": "stream",
     "text": [
      "==============================\n",
      "*** Open Babel Warning  in ReadMolecule\n",
      "  Failed to kekulize aromatic bonds in MOL2 file (title is 2qa2_FAD_1_protein)\n",
      "\n"
     ]
    },
    {
     "name": "stdout",
     "output_type": "stream",
     "text": [
      "\n"
     ]
    },
    {
     "name": "stderr",
     "output_type": "stream",
     "text": [
      "==============================\n",
      "*** Open Babel Warning  in ReadMolecule\n",
      "  Failed to kekulize aromatic bonds in MOL2 file (title is 1fq1_ATP_1_protein)\n",
      "\n"
     ]
    },
    {
     "name": "stdout",
     "output_type": "stream",
     "text": [
      "\n"
     ]
    },
    {
     "name": "stderr",
     "output_type": "stream",
     "text": [
      "==============================\n",
      "*** Open Babel Warning  in ReadMolecule\n",
      "  Failed to kekulize aromatic bonds in MOL2 file (title is 4ysw_FAD_3_protein)\n",
      "\n"
     ]
    },
    {
     "name": "stdout",
     "output_type": "stream",
     "text": [
      "\n"
     ]
    },
    {
     "name": "stderr",
     "output_type": "stream",
     "text": [
      "==============================\n",
      "*** Open Babel Warning  in ReadMolecule\n",
      "  Failed to kekulize aromatic bonds in MOL2 file (title is 4uya_AGS_1_protein)\n",
      "\n"
     ]
    },
    {
     "name": "stdout",
     "output_type": "stream",
     "text": [
      "\n"
     ]
    },
    {
     "name": "stderr",
     "output_type": "stream",
     "text": [
      "==============================\n",
      "*** Open Babel Warning  in ReadMolecule\n",
      "  This Mol2 file is non-standard. Problem with molecule: 4hut_ATP_2_protein Cannot interpret atom types correctly, instead attempting to interpret atom type: CO as elements instead.\n",
      "==============================\n",
      "*** Open Babel Warning  in Translate\n",
      "  Cannot perform atom type translation: table cannot find requested types.\n",
      "==============================\n",
      "*** Open Babel Warning  in ReadMolecule\n",
      "  This Mol2 file is non-standard. Problem with molecule: 4hut_ATP_2_protein Cannot interpret atom types correctly, instead attempting to interpret atom type: CO as elements instead.\n",
      "==============================\n",
      "*** Open Babel Warning  in Translate\n",
      "  Cannot perform atom type translation: table cannot find requested types.\n",
      "==============================\n",
      "*** Open Babel Warning  in ReadMolecule\n",
      "  Failed to kekulize aromatic bonds in MOL2 file (title is 4hut_ATP_2_protein)\n",
      "\n"
     ]
    },
    {
     "name": "stdout",
     "output_type": "stream",
     "text": [
      "\n"
     ]
    },
    {
     "name": "stderr",
     "output_type": "stream",
     "text": [
      "==============================\n",
      "*** Open Babel Warning  in ReadMolecule\n",
      "  Failed to kekulize aromatic bonds in MOL2 file (title is 1xjn_CDP_6_protein)\n",
      "\n"
     ]
    },
    {
     "name": "stdout",
     "output_type": "stream",
     "text": [
      "\n"
     ]
    },
    {
     "name": "stderr",
     "output_type": "stream",
     "text": [
      "==============================\n",
      "*** Open Babel Warning  in ReadMolecule\n",
      "  Failed to kekulize aromatic bonds in MOL2 file (title is 3gwl_FAD_2_protein)\n",
      "\n"
     ]
    },
    {
     "name": "stdout",
     "output_type": "stream",
     "text": [
      "\n"
     ]
    },
    {
     "name": "stderr",
     "output_type": "stream",
     "text": [
      "==============================\n",
      "*** Open Babel Warning  in ReadMolecule\n",
      "  Failed to kekulize aromatic bonds in MOL2 file (title is 2pd8_FAD_1_protein)\n",
      "\n"
     ]
    },
    {
     "name": "stdout",
     "output_type": "stream",
     "text": [
      "\n"
     ]
    },
    {
     "name": "stderr",
     "output_type": "stream",
     "text": [
      "==============================\n",
      "*** Open Babel Warning  in ReadMolecule\n",
      "  Failed to kekulize aromatic bonds in MOL2 file (title is 3ah5_FAD_5_protein)\n",
      "\n"
     ]
    },
    {
     "name": "stdout",
     "output_type": "stream",
     "text": [
      "\n"
     ]
    },
    {
     "name": "stderr",
     "output_type": "stream",
     "text": [
      "==============================\n",
      "*** Open Babel Warning  in ReadMolecule\n",
      "  Failed to kekulize aromatic bonds in MOL2 file (title is 4ylg_GDP_1_protein)\n",
      "\n"
     ]
    },
    {
     "name": "stdout",
     "output_type": "stream",
     "text": [
      "\n"
     ]
    },
    {
     "name": "stderr",
     "output_type": "stream",
     "text": [
      "==============================\n",
      "*** Open Babel Warning  in ReadMolecule\n",
      "  Failed to kekulize aromatic bonds in MOL2 file (title is 5i9e_ATP_2_protein)\n",
      "\n"
     ]
    },
    {
     "name": "stdout",
     "output_type": "stream",
     "text": [
      "\n"
     ]
    },
    {
     "name": "stderr",
     "output_type": "stream",
     "text": [
      "==============================\n",
      "*** Open Babel Warning  in ReadMolecule\n",
      "  Failed to kekulize aromatic bonds in MOL2 file (title is 3axk_NDP_1_protein)\n",
      "\n"
     ]
    },
    {
     "name": "stdout",
     "output_type": "stream",
     "text": [
      "\n"
     ]
    },
    {
     "name": "stderr",
     "output_type": "stream",
     "text": [
      "==============================\n",
      "*** Open Babel Warning  in ReadMolecule\n",
      "  Failed to kekulize aromatic bonds in MOL2 file (title is 2qc8_ADP_11_protein)\n",
      "\n"
     ]
    },
    {
     "name": "stdout",
     "output_type": "stream",
     "text": [
      "\n"
     ]
    },
    {
     "name": "stderr",
     "output_type": "stream",
     "text": [
      "==============================\n",
      "*** Open Babel Warning  in ReadMolecule\n",
      "  Failed to kekulize aromatic bonds in MOL2 file (title is 4gvq_N4M_1_protein)\n",
      "\n"
     ]
    },
    {
     "name": "stdout",
     "output_type": "stream",
     "text": [
      "\n"
     ]
    },
    {
     "name": "stderr",
     "output_type": "stream",
     "text": [
      "==============================\n",
      "*** Open Babel Warning  in ReadMolecule\n",
      "  This Mol2 file is non-standard. Problem with molecule: 5f1a_SAL_1_protein Cannot interpret atom types correctly, instead attempting to interpret atom type: CO as elements instead.\n",
      "==============================\n",
      "*** Open Babel Warning  in Translate\n",
      "  Cannot perform atom type translation: table cannot find requested types.\n",
      "==============================\n",
      "*** Open Babel Warning  in ReadMolecule\n",
      "  Failed to kekulize aromatic bonds in MOL2 file (title is 5f1a_SAL_1_protein)\n",
      "\n"
     ]
    },
    {
     "name": "stdout",
     "output_type": "stream",
     "text": [
      "\n"
     ]
    },
    {
     "name": "stderr",
     "output_type": "stream",
     "text": [
      "==============================\n",
      "*** Open Babel Warning  in ReadMolecule\n",
      "  Failed to kekulize aromatic bonds in MOL2 file (title is 2fdv_D2G_1_protein)\n",
      "\n"
     ]
    },
    {
     "name": "stdout",
     "output_type": "stream",
     "text": [
      "\n"
     ]
    },
    {
     "name": "stderr",
     "output_type": "stream",
     "text": [
      "==============================\n",
      "*** Open Babel Warning  in ReadMolecule\n",
      "  Failed to kekulize aromatic bonds in MOL2 file (title is 4eb4_D16_4_protein)\n",
      "\n"
     ]
    },
    {
     "name": "stdout",
     "output_type": "stream",
     "text": [
      "\n"
     ]
    },
    {
     "name": "stderr",
     "output_type": "stream",
     "text": [
      "==============================\n",
      "*** Open Babel Warning  in ReadMolecule\n",
      "  Failed to kekulize aromatic bonds in MOL2 file (title is 4lis_UPG_1_protein)\n",
      "\n"
     ]
    },
    {
     "name": "stdout",
     "output_type": "stream",
     "text": [
      "\n"
     ]
    },
    {
     "name": "stderr",
     "output_type": "stream",
     "text": [
      "==============================\n",
      "*** Open Babel Warning  in ReadMolecule\n",
      "  Failed to kekulize aromatic bonds in MOL2 file (title is 2fon_FAD_2_protein)\n",
      "\n"
     ]
    },
    {
     "name": "stdout",
     "output_type": "stream",
     "text": [
      "\n"
     ]
    },
    {
     "name": "stderr",
     "output_type": "stream",
     "text": [
      "==============================\n",
      "*** Open Babel Warning  in ReadMolecule\n",
      "  Failed to kekulize aromatic bonds in MOL2 file (title is 1al7_HST_1_protein)\n",
      "\n"
     ]
    },
    {
     "name": "stdout",
     "output_type": "stream",
     "text": [
      "\n"
     ]
    },
    {
     "name": "stderr",
     "output_type": "stream",
     "text": [
      "==============================\n",
      "*** Open Babel Warning  in ReadMolecule\n",
      "  Failed to kekulize aromatic bonds in MOL2 file (title is 2z4j_DHT_1_protein)\n",
      "\n"
     ]
    },
    {
     "name": "stdout",
     "output_type": "stream",
     "text": [
      "\n"
     ]
    },
    {
     "name": "stderr",
     "output_type": "stream",
     "text": [
      "==============================\n",
      "*** Open Babel Warning  in ReadMolecule\n",
      "  Failed to kekulize aromatic bonds in MOL2 file (title is 1hv5_CPS_2_protein)\n",
      "\n"
     ]
    },
    {
     "name": "stdout",
     "output_type": "stream",
     "text": [
      "\n"
     ]
    },
    {
     "name": "stderr",
     "output_type": "stream",
     "text": [
      "==============================\n",
      "*** Open Babel Warning  in ReadMolecule\n",
      "  Failed to kekulize aromatic bonds in MOL2 file (title is 2b9x_FAD_1_protein)\n",
      "\n"
     ]
    },
    {
     "name": "stdout",
     "output_type": "stream",
     "text": [
      "\n"
     ]
    },
    {
     "name": "stderr",
     "output_type": "stream",
     "text": [
      "==============================\n",
      "*** Open Babel Warning  in ReadMolecule\n",
      "  Failed to kekulize aromatic bonds in MOL2 file (title is 1g1y_BCD_1_protein)\n",
      "\n"
     ]
    },
    {
     "name": "stdout",
     "output_type": "stream",
     "text": [
      "\n"
     ]
    },
    {
     "name": "stderr",
     "output_type": "stream",
     "text": [
      "==============================\n",
      "*** Open Babel Warning  in ReadMolecule\n",
      "  Failed to kekulize aromatic bonds in MOL2 file (title is 2gq3_COA_1_protein)\n",
      "\n"
     ]
    },
    {
     "name": "stdout",
     "output_type": "stream",
     "text": [
      "\n"
     ]
    },
    {
     "name": "stderr",
     "output_type": "stream",
     "text": [
      "==============================\n",
      "*** Open Babel Warning  in ReadMolecule\n",
      "  Failed to kekulize aromatic bonds in MOL2 file (title is 2o1u_ANP_1_protein)\n",
      "\n"
     ]
    },
    {
     "name": "stdout",
     "output_type": "stream",
     "text": [
      "\n"
     ]
    },
    {
     "name": "stderr",
     "output_type": "stream",
     "text": [
      "==============================\n",
      "*** Open Babel Warning  in ReadMolecule\n",
      "  Failed to kekulize aromatic bonds in MOL2 file (title is 3r6p_A8S_1_protein)\n",
      "\n"
     ]
    },
    {
     "name": "stdout",
     "output_type": "stream",
     "text": [
      "\n"
     ]
    },
    {
     "name": "stderr",
     "output_type": "stream",
     "text": [
      "==============================\n",
      "*** Open Babel Warning  in ReadMolecule\n",
      "  Failed to kekulize aromatic bonds in MOL2 file (title is 3q1k_ADP_1_protein)\n",
      "\n"
     ]
    },
    {
     "name": "stdout",
     "output_type": "stream",
     "text": [
      "\n"
     ]
    },
    {
     "name": "stderr",
     "output_type": "stream",
     "text": [
      "==============================\n",
      "*** Open Babel Warning  in ReadMolecule\n",
      "  Failed to kekulize aromatic bonds in MOL2 file (title is 5bz4_COA_5_protein)\n",
      "\n"
     ]
    },
    {
     "name": "stdout",
     "output_type": "stream",
     "text": [
      "\n"
     ]
    },
    {
     "name": "stderr",
     "output_type": "stream",
     "text": [
      "==============================\n",
      "*** Open Babel Warning  in ReadMolecule\n",
      "  Failed to kekulize aromatic bonds in MOL2 file (title is 5er0_FAD_2_protein)\n",
      "\n"
     ]
    },
    {
     "name": "stdout",
     "output_type": "stream",
     "text": [
      "\n"
     ]
    },
    {
     "name": "stderr",
     "output_type": "stream",
     "text": [
      "==============================\n",
      "*** Open Babel Warning  in ReadMolecule\n",
      "  Failed to kekulize aromatic bonds in MOL2 file (title is 5da9_AGS_2_protein)\n",
      "\n"
     ]
    },
    {
     "name": "stdout",
     "output_type": "stream",
     "text": [
      "\n"
     ]
    },
    {
     "name": "stderr",
     "output_type": "stream",
     "text": [
      "==============================\n",
      "*** Open Babel Warning  in ReadMolecule\n",
      "  Failed to kekulize aromatic bonds in MOL2 file (title is 4hdr_DMD_2_protein)\n",
      "\n"
     ]
    },
    {
     "name": "stdout",
     "output_type": "stream",
     "text": [
      "\n"
     ]
    },
    {
     "name": "stderr",
     "output_type": "stream",
     "text": [
      "==============================\n",
      "*** Open Babel Warning  in ReadMolecule\n",
      "  Failed to kekulize aromatic bonds in MOL2 file (title is 1ryw_EPU_5_protein)\n",
      "\n"
     ]
    },
    {
     "name": "stdout",
     "output_type": "stream",
     "text": [
      "\n"
     ]
    },
    {
     "name": "stderr",
     "output_type": "stream",
     "text": [
      "==============================\n",
      "*** Open Babel Warning  in ReadMolecule\n",
      "  Failed to kekulize aromatic bonds in MOL2 file (title is 4eqr_COA_3_protein)\n",
      "\n"
     ]
    },
    {
     "name": "stdout",
     "output_type": "stream",
     "text": [
      "\n"
     ]
    },
    {
     "name": "stderr",
     "output_type": "stream",
     "text": [
      "==============================\n",
      "*** Open Babel Warning  in ReadMolecule\n",
      "  Failed to kekulize aromatic bonds in MOL2 file (title is 1way_L02_1_protein)\n",
      "\n"
     ]
    },
    {
     "name": "stdout",
     "output_type": "stream",
     "text": [
      "\n"
     ]
    },
    {
     "name": "stderr",
     "output_type": "stream",
     "text": [
      "==============================\n",
      "*** Open Babel Warning  in ReadMolecule\n",
      "  Failed to kekulize aromatic bonds in MOL2 file (title is 3nlc_FAD_1_protein)\n",
      "\n"
     ]
    },
    {
     "name": "stdout",
     "output_type": "stream",
     "text": [
      "\n"
     ]
    },
    {
     "name": "stderr",
     "output_type": "stream",
     "text": [
      "==============================\n",
      "*** Open Babel Warning  in ReadMolecule\n",
      "  Failed to kekulize aromatic bonds in MOL2 file (title is 1siq_FAD_1_protein)\n",
      "\n"
     ]
    },
    {
     "name": "stdout",
     "output_type": "stream",
     "text": [
      "\n"
     ]
    },
    {
     "name": "stderr",
     "output_type": "stream",
     "text": [
      "==============================\n",
      "*** Open Babel Warning  in ReadMolecule\n",
      "  Failed to kekulize aromatic bonds in MOL2 file (title is 2vdm_AGG_1_protein)\n",
      "\n"
     ]
    },
    {
     "name": "stdout",
     "output_type": "stream",
     "text": [
      "\n"
     ]
    },
    {
     "name": "stderr",
     "output_type": "stream",
     "text": [
      "==============================\n",
      "*** Open Babel Warning  in ReadMolecule\n",
      "  Failed to kekulize aromatic bonds in MOL2 file (title is 4po0_NPS_2_protein)\n",
      "\n"
     ]
    },
    {
     "name": "stdout",
     "output_type": "stream",
     "text": [
      "\n"
     ]
    },
    {
     "name": "stderr",
     "output_type": "stream",
     "text": [
      "==============================\n",
      "*** Open Babel Warning  in ReadMolecule\n",
      "  Failed to kekulize aromatic bonds in MOL2 file (title is 1xse_NDP_2_protein)\n",
      "\n"
     ]
    },
    {
     "name": "stdout",
     "output_type": "stream",
     "text": [
      "\n"
     ]
    },
    {
     "name": "stderr",
     "output_type": "stream",
     "text": [
      "==============================\n",
      "*** Open Babel Warning  in ReadMolecule\n",
      "  Failed to kekulize aromatic bonds in MOL2 file (title is 1aj0_SAN_2_protein)\n",
      "\n"
     ]
    },
    {
     "name": "stdout",
     "output_type": "stream",
     "text": [
      "\n"
     ]
    },
    {
     "name": "stderr",
     "output_type": "stream",
     "text": [
      "==============================\n",
      "*** Open Babel Warning  in ReadMolecule\n",
      "  Failed to kekulize aromatic bonds in MOL2 file (title is 1p84_DBT_1_protein)\n",
      "\n"
     ]
    },
    {
     "name": "stdout",
     "output_type": "stream",
     "text": [
      "\n"
     ]
    },
    {
     "name": "stderr",
     "output_type": "stream",
     "text": [
      "==============================\n",
      "*** Open Babel Warning  in ReadMolecule\n",
      "  Failed to kekulize aromatic bonds in MOL2 file (title is 3of1_CMP_1_protein)\n",
      "\n"
     ]
    },
    {
     "name": "stdout",
     "output_type": "stream",
     "text": [
      "\n"
     ]
    },
    {
     "name": "stderr",
     "output_type": "stream",
     "text": [
      "==============================\n",
      "*** Open Babel Warning  in ReadMolecule\n",
      "  Failed to kekulize aromatic bonds in MOL2 file (title is 1ivh_COS_2_protein)\n",
      "\n"
     ]
    },
    {
     "name": "stdout",
     "output_type": "stream",
     "text": [
      "\n"
     ]
    },
    {
     "name": "stderr",
     "output_type": "stream",
     "text": [
      "==============================\n",
      "*** Open Babel Warning  in ReadMolecule\n",
      "  Failed to kekulize aromatic bonds in MOL2 file (title is 3lq4_TDP_1_protein)\n",
      "\n"
     ]
    },
    {
     "name": "stdout",
     "output_type": "stream",
     "text": [
      "\n"
     ]
    },
    {
     "name": "stderr",
     "output_type": "stream",
     "text": [
      "==============================\n",
      "*** Open Babel Warning  in ReadMolecule\n",
      "  Failed to kekulize aromatic bonds in MOL2 file (title is 4fdu_IHS_2_protein)\n",
      "\n"
     ]
    },
    {
     "name": "stdout",
     "output_type": "stream",
     "text": [
      "\n"
     ]
    },
    {
     "name": "stderr",
     "output_type": "stream",
     "text": [
      "==============================\n",
      "*** Open Babel Warning  in ReadMolecule\n",
      "  Failed to kekulize aromatic bonds in MOL2 file (title is 2cvz_NDP_3_protein)\n",
      "\n"
     ]
    },
    {
     "name": "stdout",
     "output_type": "stream",
     "text": [
      "\n"
     ]
    },
    {
     "name": "stderr",
     "output_type": "stream",
     "text": [
      "==============================\n",
      "*** Open Babel Warning  in ReadMolecule\n",
      "  Failed to kekulize aromatic bonds in MOL2 file (title is 4xba_GMP_2_protein)\n",
      "\n"
     ]
    },
    {
     "name": "stdout",
     "output_type": "stream",
     "text": [
      "\n"
     ]
    },
    {
     "name": "stderr",
     "output_type": "stream",
     "text": [
      "==============================\n",
      "*** Open Babel Warning  in ReadMolecule\n",
      "  Failed to kekulize aromatic bonds in MOL2 file (title is 1zmd_NAI_12_protein)\n",
      "\n"
     ]
    },
    {
     "name": "stdout",
     "output_type": "stream",
     "text": [
      "\n"
     ]
    },
    {
     "name": "stderr",
     "output_type": "stream",
     "text": [
      "==============================\n",
      "*** Open Babel Warning  in ReadMolecule\n",
      "  Failed to kekulize aromatic bonds in MOL2 file (title is 2h3d_NMN_2_protein)\n",
      "\n"
     ]
    },
    {
     "name": "stdout",
     "output_type": "stream",
     "text": [
      "\n"
     ]
    },
    {
     "name": "stderr",
     "output_type": "stream",
     "text": [
      "==============================\n",
      "*** Open Babel Warning  in ReadMolecule\n",
      "  Failed to kekulize aromatic bonds in MOL2 file (title is 3w78_CBD_1_protein)\n",
      "\n"
     ]
    },
    {
     "name": "stdout",
     "output_type": "stream",
     "text": [
      "\n"
     ]
    },
    {
     "name": "stderr",
     "output_type": "stream",
     "text": [
      "==============================\n",
      "*** Open Babel Warning  in ReadMolecule\n",
      "  Failed to kekulize aromatic bonds in MOL2 file (title is 1sqk_LAR_1_protein)\n",
      "\n"
     ]
    },
    {
     "name": "stdout",
     "output_type": "stream",
     "text": [
      "\n"
     ]
    },
    {
     "name": "stderr",
     "output_type": "stream",
     "text": [
      "==============================\n",
      "*** Open Babel Warning  in ReadMolecule\n",
      "  Failed to kekulize aromatic bonds in MOL2 file (title is 1cm8_ANP_2_protein)\n",
      "\n"
     ]
    },
    {
     "name": "stdout",
     "output_type": "stream",
     "text": [
      "\n"
     ]
    },
    {
     "name": "stderr",
     "output_type": "stream",
     "text": [
      "==============================\n",
      "*** Open Babel Warning  in ReadMolecule\n",
      "  Failed to kekulize aromatic bonds in MOL2 file (title is 3qip_NVP_1_protein)\n",
      "\n"
     ]
    },
    {
     "name": "stdout",
     "output_type": "stream",
     "text": [
      "\n"
     ]
    },
    {
     "name": "stderr",
     "output_type": "stream",
     "text": [
      "==============================\n",
      "*** Open Babel Warning  in ReadMolecule\n",
      "  Failed to kekulize aromatic bonds in MOL2 file (title is 3nx2_FER_1_protein)\n",
      "\n"
     ]
    },
    {
     "name": "stdout",
     "output_type": "stream",
     "text": [
      "\n"
     ]
    },
    {
     "name": "stderr",
     "output_type": "stream",
     "text": [
      "==============================\n",
      "*** Open Babel Warning  in ReadMolecule\n",
      "  Failed to kekulize aromatic bonds in MOL2 file (title is 2vi5_Y19_4_protein)\n",
      "\n"
     ]
    },
    {
     "name": "stdout",
     "output_type": "stream",
     "text": [
      "\n"
     ]
    },
    {
     "name": "stderr",
     "output_type": "stream",
     "text": [
      "==============================\n",
      "*** Open Babel Warning  in ReadMolecule\n",
      "  Failed to kekulize aromatic bonds in MOL2 file (title is 4fr4_STU_5_protein)\n",
      "\n"
     ]
    },
    {
     "name": "stdout",
     "output_type": "stream",
     "text": [
      "\n"
     ]
    },
    {
     "name": "stderr",
     "output_type": "stream",
     "text": [
      "==============================\n",
      "*** Open Babel Warning  in ReadMolecule\n",
      "  Failed to kekulize aromatic bonds in MOL2 file (title is 3q0j_CAA_2_protein)\n",
      "\n"
     ]
    },
    {
     "name": "stdout",
     "output_type": "stream",
     "text": [
      "\n"
     ]
    },
    {
     "name": "stderr",
     "output_type": "stream",
     "text": [
      "==============================\n",
      "*** Open Babel Warning  in ReadMolecule\n",
      "  Failed to kekulize aromatic bonds in MOL2 file (title is 4adc_PLP_1_protein)\n",
      "\n"
     ]
    },
    {
     "name": "stdout",
     "output_type": "stream",
     "text": [
      "\n"
     ]
    },
    {
     "name": "stderr",
     "output_type": "stream",
     "text": [
      "==============================\n",
      "*** Open Babel Warning  in ReadMolecule\n",
      "  Failed to kekulize aromatic bonds in MOL2 file (title is 5CXV_LIGPROTBWATER_PROTEIN)\n",
      "\n"
     ]
    },
    {
     "name": "stdout",
     "output_type": "stream",
     "text": [
      "\n"
     ]
    },
    {
     "name": "stderr",
     "output_type": "stream",
     "text": [
      "==============================\n",
      "*** Open Babel Warning  in ReadMolecule\n",
      "  Failed to kekulize aromatic bonds in MOL2 file (title is 1rfu_PLP_4_protein)\n",
      "\n"
     ]
    },
    {
     "name": "stdout",
     "output_type": "stream",
     "text": [
      "\n"
     ]
    },
    {
     "name": "stderr",
     "output_type": "stream",
     "text": [
      "==============================\n",
      "*** Open Babel Warning  in ReadMolecule\n",
      "  Failed to kekulize aromatic bonds in MOL2 file (title is 3vyw_SAM_6_protein)\n",
      "\n"
     ]
    },
    {
     "name": "stdout",
     "output_type": "stream",
     "text": [
      "\n"
     ]
    },
    {
     "name": "stderr",
     "output_type": "stream",
     "text": [
      "==============================\n",
      "*** Open Babel Warning  in ReadMolecule\n",
      "  Failed to kekulize aromatic bonds in MOL2 file (title is 2i65_NAD_2_protein)\n",
      "\n"
     ]
    },
    {
     "name": "stdout",
     "output_type": "stream",
     "text": [
      "\n"
     ]
    },
    {
     "name": "stderr",
     "output_type": "stream",
     "text": [
      "==============================\n",
      "*** Open Babel Warning  in ReadMolecule\n",
      "  Failed to kekulize aromatic bonds in MOL2 file (title is 3sma_ACO_1_protein)\n",
      "\n"
     ]
    },
    {
     "name": "stdout",
     "output_type": "stream",
     "text": [
      "\n"
     ]
    },
    {
     "name": "stderr",
     "output_type": "stream",
     "text": [
      "==============================\n",
      "*** Open Babel Warning  in ReadMolecule\n",
      "  Failed to kekulize aromatic bonds in MOL2 file (title is 4ly9_1YY_1_protein)\n",
      "\n"
     ]
    },
    {
     "name": "stdout",
     "output_type": "stream",
     "text": [
      "\n"
     ]
    },
    {
     "name": "stderr",
     "output_type": "stream",
     "text": [
      "==============================\n",
      "*** Open Babel Warning  in ReadMolecule\n",
      "  Failed to kekulize aromatic bonds in MOL2 file (title is 4z0h_NAD_1_protein)\n",
      "\n"
     ]
    },
    {
     "name": "stdout",
     "output_type": "stream",
     "text": [
      "\n"
     ]
    },
    {
     "name": "stderr",
     "output_type": "stream",
     "text": [
      "==============================\n",
      "*** Open Babel Warning  in ReadMolecule\n",
      "  Failed to kekulize aromatic bonds in MOL2 file (title is 2dvm_NAD_3_protein)\n",
      "\n"
     ]
    },
    {
     "name": "stdout",
     "output_type": "stream",
     "text": [
      "\n"
     ]
    },
    {
     "name": "stderr",
     "output_type": "stream",
     "text": [
      "==============================\n",
      "*** Open Babel Warning  in ReadMolecule\n",
      "  Failed to kekulize aromatic bonds in MOL2 file (title is 3kif_GDL_2_protein)\n",
      "\n"
     ]
    },
    {
     "name": "stdout",
     "output_type": "stream",
     "text": [
      "\n"
     ]
    },
    {
     "name": "stderr",
     "output_type": "stream",
     "text": [
      "==============================\n",
      "*** Open Babel Warning  in ReadMolecule\n",
      "  Failed to kekulize aromatic bonds in MOL2 file (title is 1xz8_5GP_1_protein)\n",
      "\n"
     ]
    },
    {
     "name": "stdout",
     "output_type": "stream",
     "text": [
      "\n"
     ]
    },
    {
     "name": "stderr",
     "output_type": "stream",
     "text": [
      "==============================\n",
      "*** Open Babel Warning  in ReadMolecule\n",
      "  Failed to kekulize aromatic bonds in MOL2 file (title is 2uzh_CDP_2_protein)\n",
      "\n"
     ]
    },
    {
     "name": "stdout",
     "output_type": "stream",
     "text": [
      "\n"
     ]
    },
    {
     "name": "stderr",
     "output_type": "stream",
     "text": [
      "==============================\n",
      "*** Open Babel Warning  in ReadMolecule\n",
      "  Failed to kekulize aromatic bonds in MOL2 file (title is 3oet_NAD_2_protein)\n",
      "\n"
     ]
    },
    {
     "name": "stdout",
     "output_type": "stream",
     "text": [
      "\n"
     ]
    },
    {
     "name": "stderr",
     "output_type": "stream",
     "text": [
      "==============================\n",
      "*** Open Babel Warning  in ReadMolecule\n",
      "  Failed to kekulize aromatic bonds in MOL2 file (title is 3sfz_GBL_2_protein)\n",
      "\n"
     ]
    },
    {
     "name": "stdout",
     "output_type": "stream",
     "text": [
      "\n"
     ]
    },
    {
     "name": "stderr",
     "output_type": "stream",
     "text": [
      "==============================\n",
      "*** Open Babel Warning  in ReadMolecule\n",
      "  Failed to kekulize aromatic bonds in MOL2 file (title is 1yli_COA_1_protein)\n",
      "\n"
     ]
    },
    {
     "name": "stdout",
     "output_type": "stream",
     "text": [
      "\n"
     ]
    },
    {
     "name": "stderr",
     "output_type": "stream",
     "text": [
      "==============================\n",
      "*** Open Babel Warning  in ReadMolecule\n",
      "  Failed to kekulize aromatic bonds in MOL2 file (title is 3qtt_ANP_2_protein)\n",
      "\n"
     ]
    },
    {
     "name": "stdout",
     "output_type": "stream",
     "text": [
      "\n"
     ]
    },
    {
     "name": "stderr",
     "output_type": "stream",
     "text": [
      "==============================\n",
      "*** Open Babel Warning  in ReadMolecule\n",
      "  Failed to kekulize aromatic bonds in MOL2 file (title is 3lli_FAD_1_protein)\n",
      "\n"
     ]
    },
    {
     "name": "stdout",
     "output_type": "stream",
     "text": [
      "\n"
     ]
    },
    {
     "name": "stderr",
     "output_type": "stream",
     "text": [
      "==============================\n",
      "*** Open Babel Warning  in ReadMolecule\n",
      "  Failed to kekulize aromatic bonds in MOL2 file (title is 1lwx_AZD_3_protein)\n",
      "\n"
     ]
    },
    {
     "name": "stdout",
     "output_type": "stream",
     "text": [
      "\n"
     ]
    },
    {
     "name": "stderr",
     "output_type": "stream",
     "text": [
      "==============================\n",
      "*** Open Babel Warning  in ReadMolecule\n",
      "  Failed to kekulize aromatic bonds in MOL2 file (title is 3ijw_ACO_2_protein)\n",
      "\n"
     ]
    },
    {
     "name": "stdout",
     "output_type": "stream",
     "text": [
      "\n"
     ]
    },
    {
     "name": "stderr",
     "output_type": "stream",
     "text": [
      "==============================\n",
      "*** Open Babel Warning  in ReadMolecule\n",
      "  Failed to kekulize aromatic bonds in MOL2 file (title is 1rkx_NAD_2_protein)\n",
      "\n"
     ]
    },
    {
     "name": "stdout",
     "output_type": "stream",
     "text": [
      "\n"
     ]
    },
    {
     "name": "stderr",
     "output_type": "stream",
     "text": [
      "==============================\n",
      "*** Open Babel Warning  in ReadMolecule\n",
      "  Failed to kekulize aromatic bonds in MOL2 file (title is 3v2u_ATP_2_protein)\n",
      "\n"
     ]
    },
    {
     "name": "stdout",
     "output_type": "stream",
     "text": [
      "\n"
     ]
    },
    {
     "name": "stderr",
     "output_type": "stream",
     "text": [
      "==============================\n",
      "*** Open Babel Warning  in ReadMolecule\n",
      "  Failed to kekulize aromatic bonds in MOL2 file (title is 1bxk_NAD_1_protein)\n",
      "\n"
     ]
    },
    {
     "name": "stdout",
     "output_type": "stream",
     "text": [
      "\n"
     ]
    },
    {
     "name": "stderr",
     "output_type": "stream",
     "text": [
      "==============================\n",
      "*** Open Babel Warning  in ReadMolecule\n",
      "  Failed to kekulize aromatic bonds in MOL2 file (title is 4kp7_1UQ_1_protein)\n",
      "\n"
     ]
    },
    {
     "name": "stdout",
     "output_type": "stream",
     "text": [
      "\n"
     ]
    },
    {
     "name": "stderr",
     "output_type": "stream",
     "text": [
      "==============================\n",
      "*** Open Babel Warning  in ReadMolecule\n",
      "  Failed to kekulize aromatic bonds in MOL2 file (title is 4a6g_AME_2_protein)\n",
      "\n"
     ]
    },
    {
     "name": "stdout",
     "output_type": "stream",
     "text": [
      "\n"
     ]
    },
    {
     "name": "stderr",
     "output_type": "stream",
     "text": [
      "==============================\n",
      "*** Open Babel Warning  in ReadMolecule\n",
      "  Failed to kekulize aromatic bonds in MOL2 file (title is 3PBL_LIGPROT_PROTEIN)\n",
      "\n"
     ]
    },
    {
     "name": "stdout",
     "output_type": "stream",
     "text": [
      "\n"
     ]
    },
    {
     "name": "stderr",
     "output_type": "stream",
     "text": [
      "==============================\n",
      "*** Open Babel Warning  in ReadMolecule\n",
      "  Failed to kekulize aromatic bonds in MOL2 file (title is 3hja_NAD_1_protein)\n",
      "\n"
     ]
    },
    {
     "name": "stdout",
     "output_type": "stream",
     "text": [
      "\n"
     ]
    },
    {
     "name": "stderr",
     "output_type": "stream",
     "text": [
      "==============================\n",
      "*** Open Babel Warning  in ReadMolecule\n",
      "  Failed to kekulize aromatic bonds in MOL2 file (title is 5fpo_10L_1_protein)\n",
      "\n"
     ]
    },
    {
     "name": "stdout",
     "output_type": "stream",
     "text": [
      "\n"
     ]
    },
    {
     "name": "stderr",
     "output_type": "stream",
     "text": [
      "==============================\n",
      "*** Open Babel Warning  in ReadMolecule\n",
      "  Failed to kekulize aromatic bonds in MOL2 file (title is 2bb3_SAH_2_protein)\n",
      "\n"
     ]
    },
    {
     "name": "stdout",
     "output_type": "stream",
     "text": [
      "\n"
     ]
    },
    {
     "name": "stderr",
     "output_type": "stream",
     "text": [
      "==============================\n",
      "*** Open Babel Warning  in ReadMolecule\n",
      "  Failed to kekulize aromatic bonds in MOL2 file (title is 1ofh_ADP_1_protein)\n",
      "\n"
     ]
    },
    {
     "name": "stdout",
     "output_type": "stream",
     "text": [
      "\n"
     ]
    },
    {
     "name": "stderr",
     "output_type": "stream",
     "text": [
      "==============================\n",
      "*** Open Babel Warning  in ReadMolecule\n",
      "  Failed to kekulize aromatic bonds in MOL2 file (title is 3nf4_FAD_1_protein)\n",
      "\n"
     ]
    },
    {
     "name": "stdout",
     "output_type": "stream",
     "text": [
      "\n"
     ]
    },
    {
     "name": "stderr",
     "output_type": "stream",
     "text": [
      "==============================\n",
      "*** Open Babel Warning  in ReadMolecule\n",
      "  Failed to kekulize aromatic bonds in MOL2 file (title is 2z1m_GDP_2_protein)\n",
      "\n"
     ]
    },
    {
     "name": "stdout",
     "output_type": "stream",
     "text": [
      "\n"
     ]
    },
    {
     "name": "stderr",
     "output_type": "stream",
     "text": [
      "==============================\n",
      "*** Open Babel Warning  in ReadMolecule\n",
      "  This Mol2 file is non-standard. Problem with molecule: 4lxl_PD2_1_protein Cannot interpret atom types correctly, instead attempting to interpret atom type: NI as elements instead.\n",
      "==============================\n",
      "*** Open Babel Warning  in Translate\n",
      "  Cannot perform atom type translation: table cannot find requested types.\n",
      "==============================\n",
      "*** Open Babel Warning  in ReadMolecule\n",
      "  Failed to kekulize aromatic bonds in MOL2 file (title is 4lxl_PD2_1_protein)\n",
      "\n"
     ]
    },
    {
     "name": "stdout",
     "output_type": "stream",
     "text": [
      "\n"
     ]
    },
    {
     "name": "stderr",
     "output_type": "stream",
     "text": [
      "==============================\n",
      "*** Open Babel Warning  in ReadMolecule\n",
      "  Failed to kekulize aromatic bonds in MOL2 file (title is 4ng4_ADP_3_protein)\n",
      "\n"
     ]
    },
    {
     "name": "stdout",
     "output_type": "stream",
     "text": [
      "\n"
     ]
    },
    {
     "name": "stderr",
     "output_type": "stream",
     "text": [
      "==============================\n",
      "*** Open Babel Warning  in ReadMolecule\n",
      "  Failed to kekulize aromatic bonds in MOL2 file (title is 2jc6_QPP_1_protein)\n",
      "\n"
     ]
    },
    {
     "name": "stdout",
     "output_type": "stream",
     "text": [
      "\n"
     ]
    },
    {
     "name": "stderr",
     "output_type": "stream",
     "text": [
      "==============================\n",
      "*** Open Babel Warning  in ReadMolecule\n",
      "  Failed to kekulize aromatic bonds in MOL2 file (title is 3h1q_ATP_2_protein)\n",
      "\n"
     ]
    },
    {
     "name": "stdout",
     "output_type": "stream",
     "text": [
      "\n"
     ]
    },
    {
     "name": "stderr",
     "output_type": "stream",
     "text": [
      "==============================\n",
      "*** Open Babel Warning  in ReadMolecule\n",
      "  Failed to kekulize aromatic bonds in MOL2 file (title is 2gl0_ADN_6_protein)\n",
      "\n"
     ]
    },
    {
     "name": "stdout",
     "output_type": "stream",
     "text": [
      "\n"
     ]
    },
    {
     "name": "stderr",
     "output_type": "stream",
     "text": [
      "==============================\n",
      "*** Open Babel Warning  in ReadMolecule\n",
      "  Failed to kekulize aromatic bonds in MOL2 file (title is 3upy_FOM_1_protein)\n",
      "\n"
     ]
    },
    {
     "name": "stdout",
     "output_type": "stream",
     "text": [
      "\n"
     ]
    },
    {
     "name": "stderr",
     "output_type": "stream",
     "text": [
      "==============================\n",
      "*** Open Babel Warning  in ReadMolecule\n",
      "  Failed to kekulize aromatic bonds in MOL2 file (title is 2yca_ZM3_1_protein)\n",
      "\n"
     ]
    },
    {
     "name": "stdout",
     "output_type": "stream",
     "text": [
      "\n"
     ]
    },
    {
     "name": "stderr",
     "output_type": "stream",
     "text": [
      "==============================\n",
      "*** Open Babel Warning  in ReadMolecule\n",
      "  Failed to kekulize aromatic bonds in MOL2 file (title is 3r4x_PZA_2_protein)\n",
      "\n"
     ]
    },
    {
     "name": "stdout",
     "output_type": "stream",
     "text": [
      "\n"
     ]
    },
    {
     "name": "stderr",
     "output_type": "stream",
     "text": [
      "==============================\n",
      "*** Open Babel Warning  in ReadMolecule\n",
      "  Failed to kekulize aromatic bonds in MOL2 file (title is 3q8h_AO9_3_protein)\n",
      "\n"
     ]
    },
    {
     "name": "stdout",
     "output_type": "stream",
     "text": [
      "\n"
     ]
    },
    {
     "name": "stderr",
     "output_type": "stream",
     "text": [
      "==============================\n",
      "*** Open Babel Warning  in ReadMolecule\n",
      "  Failed to kekulize aromatic bonds in MOL2 file (title is 4qny_ANP_1_protein)\n",
      "\n"
     ]
    },
    {
     "name": "stdout",
     "output_type": "stream",
     "text": [
      "\n"
     ]
    },
    {
     "name": "stderr",
     "output_type": "stream",
     "text": [
      "==============================\n",
      "*** Open Babel Warning  in ReadMolecule\n",
      "  Failed to kekulize aromatic bonds in MOL2 file (title is 2bo8_GDX_4_protein)\n",
      "\n"
     ]
    },
    {
     "name": "stdout",
     "output_type": "stream",
     "text": [
      "\n"
     ]
    },
    {
     "name": "stderr",
     "output_type": "stream",
     "text": [
      "==============================\n",
      "*** Open Babel Warning  in ReadMolecule\n",
      "  Failed to kekulize aromatic bonds in MOL2 file (title is 3dh9_FAD_1_protein)\n",
      "\n"
     ]
    },
    {
     "name": "stdout",
     "output_type": "stream",
     "text": [
      "\n"
     ]
    },
    {
     "name": "stderr",
     "output_type": "stream",
     "text": [
      "==============================\n",
      "*** Open Babel Warning  in ReadMolecule\n",
      "  Failed to kekulize aromatic bonds in MOL2 file (title is 2r9e_SDX_3_protein)\n",
      "\n"
     ]
    },
    {
     "name": "stdout",
     "output_type": "stream",
     "text": [
      "\n"
     ]
    },
    {
     "name": "stderr",
     "output_type": "stream",
     "text": [
      "==============================\n",
      "*** Open Babel Warning  in ReadMolecule\n",
      "  This Mol2 file is non-standard. Problem with molecule: 1gqt_ACP_2_protein Cannot interpret atom types correctly, instead attempting to interpret atom type: CS as elements instead.\n",
      "==============================\n",
      "*** Open Babel Warning  in Translate\n",
      "  Cannot perform atom type translation: table cannot find requested types.\n",
      "==============================\n",
      "*** Open Babel Warning  in ReadMolecule\n",
      "  This Mol2 file is non-standard. Problem with molecule: 1gqt_ACP_2_protein Cannot interpret atom types correctly, instead attempting to interpret atom type: CS as elements instead.\n",
      "==============================\n",
      "*** Open Babel Warning  in Translate\n",
      "  Cannot perform atom type translation: table cannot find requested types.\n",
      "==============================\n",
      "*** Open Babel Warning  in ReadMolecule\n",
      "  This Mol2 file is non-standard. Problem with molecule: 1gqt_ACP_2_protein Cannot interpret atom types correctly, instead attempting to interpret atom type: CS as elements instead.\n",
      "==============================\n",
      "*** Open Babel Warning  in Translate\n",
      "  Cannot perform atom type translation: table cannot find requested types.\n",
      "==============================\n",
      "*** Open Babel Warning  in ReadMolecule\n",
      "  This Mol2 file is non-standard. Problem with molecule: 1gqt_ACP_2_protein Cannot interpret atom types correctly, instead attempting to interpret atom type: CS as elements instead.\n",
      "==============================\n",
      "*** Open Babel Warning  in Translate\n",
      "  Cannot perform atom type translation: table cannot find requested types.\n",
      "==============================\n",
      "*** Open Babel Warning  in ReadMolecule\n",
      "  Failed to kekulize aromatic bonds in MOL2 file (title is 1gqt_ACP_2_protein)\n",
      "\n"
     ]
    },
    {
     "name": "stdout",
     "output_type": "stream",
     "text": [
      "\n"
     ]
    },
    {
     "name": "stderr",
     "output_type": "stream",
     "text": [
      "==============================\n",
      "*** Open Babel Warning  in ReadMolecule\n",
      "  Failed to kekulize aromatic bonds in MOL2 file (title is 4nwz_FAD_4_protein)\n",
      "\n"
     ]
    },
    {
     "name": "stdout",
     "output_type": "stream",
     "text": [
      "\n"
     ]
    },
    {
     "name": "stderr",
     "output_type": "stream",
     "text": [
      "==============================\n",
      "*** Open Babel Warning  in ReadMolecule\n",
      "  Failed to kekulize aromatic bonds in MOL2 file (title is 4ys2_2BA_1_protein)\n",
      "\n"
     ]
    },
    {
     "name": "stdout",
     "output_type": "stream",
     "text": [
      "\n"
     ]
    },
    {
     "name": "stderr",
     "output_type": "stream",
     "text": [
      "==============================\n",
      "*** Open Babel Warning  in ReadMolecule\n",
      "  Failed to kekulize aromatic bonds in MOL2 file (title is 4qjl_COA_1_protein)\n",
      "\n"
     ]
    },
    {
     "name": "stdout",
     "output_type": "stream",
     "text": [
      "\n"
     ]
    },
    {
     "name": "stderr",
     "output_type": "stream",
     "text": [
      "==============================\n",
      "*** Open Babel Warning  in ReadMolecule\n",
      "  Failed to kekulize aromatic bonds in MOL2 file (title is 4iil_RBF_1_protein)\n",
      "\n"
     ]
    },
    {
     "name": "stdout",
     "output_type": "stream",
     "text": [
      "\n"
     ]
    },
    {
     "name": "stderr",
     "output_type": "stream",
     "text": [
      "==============================\n",
      "*** Open Babel Warning  in ReadMolecule\n",
      "  Failed to kekulize aromatic bonds in MOL2 file (title is 2yg5_FAD_1_protein)\n",
      "\n"
     ]
    },
    {
     "name": "stdout",
     "output_type": "stream",
     "text": [
      "\n"
     ]
    },
    {
     "name": "stderr",
     "output_type": "stream",
     "text": [
      "==============================\n",
      "*** Open Babel Warning  in ReadMolecule\n",
      "  Failed to kekulize aromatic bonds in MOL2 file (title is 3mn6_ATP_3_protein)\n",
      "\n"
     ]
    },
    {
     "name": "stdout",
     "output_type": "stream",
     "text": [
      "\n"
     ]
    },
    {
     "name": "stderr",
     "output_type": "stream",
     "text": [
      "==============================\n",
      "*** Open Babel Warning  in ReadMolecule\n",
      "  Failed to kekulize aromatic bonds in MOL2 file (title is 4fgc_PQ0_2_protein)\n",
      "\n"
     ]
    },
    {
     "name": "stdout",
     "output_type": "stream",
     "text": [
      "\n"
     ]
    },
    {
     "name": "stderr",
     "output_type": "stream",
     "text": [
      "==============================\n",
      "*** Open Babel Warning  in ReadMolecule\n",
      "  Failed to kekulize aromatic bonds in MOL2 file (title is 4py6_R78_2_protein)\n",
      "\n"
     ]
    },
    {
     "name": "stdout",
     "output_type": "stream",
     "text": [
      "\n"
     ]
    },
    {
     "name": "stderr",
     "output_type": "stream",
     "text": [
      "==============================\n",
      "*** Open Babel Warning  in ReadMolecule\n",
      "  Failed to kekulize aromatic bonds in MOL2 file (title is 3ptq_NFG_1_protein)\n",
      "\n"
     ]
    },
    {
     "name": "stdout",
     "output_type": "stream",
     "text": [
      "\n"
     ]
    },
    {
     "name": "stderr",
     "output_type": "stream",
     "text": [
      "==============================\n",
      "*** Open Babel Warning  in ReadMolecule\n",
      "  Failed to kekulize aromatic bonds in MOL2 file (title is 3e6y_CW1_2_protein)\n",
      "\n"
     ]
    },
    {
     "name": "stdout",
     "output_type": "stream",
     "text": [
      "\n"
     ]
    },
    {
     "name": "stderr",
     "output_type": "stream",
     "text": [
      "==============================\n",
      "*** Open Babel Warning  in ReadMolecule\n",
      "  Failed to kekulize aromatic bonds in MOL2 file (title is 3nal_DBK_1_protein)\n",
      "\n"
     ]
    },
    {
     "name": "stdout",
     "output_type": "stream",
     "text": [
      "\n"
     ]
    },
    {
     "name": "stderr",
     "output_type": "stream",
     "text": [
      "==============================\n",
      "*** Open Babel Warning  in ReadMolecule\n",
      "  Failed to kekulize aromatic bonds in MOL2 file (title is 1iin_UPG_1_protein)\n",
      "\n"
     ]
    },
    {
     "name": "stdout",
     "output_type": "stream",
     "text": [
      "\n"
     ]
    },
    {
     "name": "stderr",
     "output_type": "stream",
     "text": [
      "==============================\n",
      "*** Open Babel Warning  in ReadMolecule\n",
      "  Failed to kekulize aromatic bonds in MOL2 file (title is 1sd1_FMC_1_protein)\n",
      "\n"
     ]
    },
    {
     "name": "stdout",
     "output_type": "stream",
     "text": [
      "\n"
     ]
    },
    {
     "name": "stderr",
     "output_type": "stream",
     "text": [
      "==============================\n",
      "*** Open Babel Warning  in ReadMolecule\n",
      "  Failed to kekulize aromatic bonds in MOL2 file (title is 4dpd_UMP_2_protein)\n",
      "\n"
     ]
    },
    {
     "name": "stdout",
     "output_type": "stream",
     "text": [
      "\n"
     ]
    },
    {
     "name": "stderr",
     "output_type": "stream",
     "text": [
      "==============================\n",
      "*** Open Babel Warning  in ReadMolecule\n",
      "  Failed to kekulize aromatic bonds in MOL2 file (title is 1u3d_FAD_2_protein)\n",
      "\n"
     ]
    },
    {
     "name": "stdout",
     "output_type": "stream",
     "text": [
      "\n"
     ]
    },
    {
     "name": "stderr",
     "output_type": "stream",
     "text": [
      "==============================\n",
      "*** Open Babel Warning  in ReadMolecule\n",
      "  Failed to kekulize aromatic bonds in MOL2 file (title is 3o14_NIO_1_protein)\n",
      "\n"
     ]
    },
    {
     "name": "stdout",
     "output_type": "stream",
     "text": [
      "\n"
     ]
    },
    {
     "name": "stderr",
     "output_type": "stream",
     "text": [
      "==============================\n",
      "*** Open Babel Warning  in ReadMolecule\n",
      "  Failed to kekulize aromatic bonds in MOL2 file (title is 1vrq_FON_1_protein)\n",
      "\n"
     ]
    },
    {
     "name": "stdout",
     "output_type": "stream",
     "text": [
      "\n"
     ]
    },
    {
     "name": "stderr",
     "output_type": "stream",
     "text": [
      "==============================\n",
      "*** Open Babel Warning  in ReadMolecule\n",
      "  Failed to kekulize aromatic bonds in MOL2 file (title is 3eld_SFG_1_protein)\n",
      "\n"
     ]
    },
    {
     "name": "stdout",
     "output_type": "stream",
     "text": [
      "\n"
     ]
    },
    {
     "name": "stderr",
     "output_type": "stream",
     "text": [
      "==============================\n",
      "*** Open Babel Warning  in ReadMolecule\n",
      "  Failed to kekulize aromatic bonds in MOL2 file (title is 1t0l_NAP_4_protein)\n",
      "\n"
     ]
    },
    {
     "name": "stdout",
     "output_type": "stream",
     "text": [
      "\n"
     ]
    },
    {
     "name": "stderr",
     "output_type": "stream",
     "text": [
      "==============================\n",
      "*** Open Babel Warning  in ReadMolecule\n",
      "  Failed to kekulize aromatic bonds in MOL2 file (title is 2q0d_ATP_1_protein)\n",
      "\n"
     ]
    },
    {
     "name": "stdout",
     "output_type": "stream",
     "text": [
      "\n"
     ]
    },
    {
     "name": "stderr",
     "output_type": "stream",
     "text": [
      "==============================\n",
      "*** Open Babel Warning  in ReadMolecule\n",
      "  Failed to kekulize aromatic bonds in MOL2 file (title is 1wsv_THH_2_protein)\n",
      "\n"
     ]
    },
    {
     "name": "stdout",
     "output_type": "stream",
     "text": [
      "\n"
     ]
    },
    {
     "name": "stderr",
     "output_type": "stream",
     "text": [
      "==============================\n",
      "*** Open Babel Warning  in ReadMolecule\n",
      "  Failed to kekulize aromatic bonds in MOL2 file (title is 4rgq_NDP_4_protein)\n",
      "\n"
     ]
    },
    {
     "name": "stdout",
     "output_type": "stream",
     "text": [
      "\n"
     ]
    },
    {
     "name": "stderr",
     "output_type": "stream",
     "text": [
      "==============================\n",
      "*** Open Babel Warning  in ReadMolecule\n",
      "  Failed to kekulize aromatic bonds in MOL2 file (title is 3cht_4NB_1_protein)\n",
      "\n"
     ]
    },
    {
     "name": "stdout",
     "output_type": "stream",
     "text": [
      "\n"
     ]
    },
    {
     "name": "stderr",
     "output_type": "stream",
     "text": [
      "==============================\n",
      "*** Open Babel Warning  in ReadMolecule\n",
      "  Failed to kekulize aromatic bonds in MOL2 file (title is 3p93_KDG_2_protein)\n",
      "\n"
     ]
    },
    {
     "name": "stdout",
     "output_type": "stream",
     "text": [
      "\n"
     ]
    },
    {
     "name": "stderr",
     "output_type": "stream",
     "text": [
      "==============================\n",
      "*** Open Babel Warning  in ReadMolecule\n",
      "  Failed to kekulize aromatic bonds in MOL2 file (title is 3vi2_HMZ_1_protein)\n",
      "\n"
     ]
    },
    {
     "name": "stdout",
     "output_type": "stream",
     "text": [
      "\n"
     ]
    },
    {
     "name": "stderr",
     "output_type": "stream",
     "text": [
      "==============================\n",
      "*** Open Babel Warning  in ReadMolecule\n",
      "  Failed to kekulize aromatic bonds in MOL2 file (title is 4ijr_NDP_2_protein)\n",
      "\n"
     ]
    },
    {
     "name": "stdout",
     "output_type": "stream",
     "text": [
      "\n"
     ]
    },
    {
     "name": "stderr",
     "output_type": "stream",
     "text": [
      "==============================\n",
      "*** Open Babel Warning  in ReadMolecule\n",
      "  Failed to kekulize aromatic bonds in MOL2 file (title is 4ig6_SAH_1_protein)\n",
      "\n"
     ]
    },
    {
     "name": "stdout",
     "output_type": "stream",
     "text": [
      "\n"
     ]
    },
    {
     "name": "stderr",
     "output_type": "stream",
     "text": [
      "==============================\n",
      "*** Open Babel Warning  in ReadMolecule\n",
      "  Failed to kekulize aromatic bonds in MOL2 file (title is 4cid_ANP_1_protein)\n",
      "\n"
     ]
    },
    {
     "name": "stdout",
     "output_type": "stream",
     "text": [
      "\n"
     ]
    },
    {
     "name": "stderr",
     "output_type": "stream",
     "text": [
      "==============================\n",
      "*** Open Babel Warning  in ReadMolecule\n",
      "  Failed to kekulize aromatic bonds in MOL2 file (title is 1hux_ADP_1_protein)\n",
      "\n"
     ]
    },
    {
     "name": "stdout",
     "output_type": "stream",
     "text": [
      "\n"
     ]
    },
    {
     "name": "stderr",
     "output_type": "stream",
     "text": [
      "==============================\n",
      "*** Open Babel Warning  in ReadMolecule\n",
      "  Failed to kekulize aromatic bonds in MOL2 file (title is 1gmc_PRO_GLY_ALA_TYR_1_protein)\n",
      "\n"
     ]
    },
    {
     "name": "stdout",
     "output_type": "stream",
     "text": [
      "\n"
     ]
    },
    {
     "name": "stderr",
     "output_type": "stream",
     "text": [
      "==============================\n",
      "*** Open Babel Warning  in ReadMolecule\n",
      "  Failed to kekulize aromatic bonds in MOL2 file (title is 3ypi_PGH_1_protein)\n",
      "\n"
     ]
    },
    {
     "name": "stdout",
     "output_type": "stream",
     "text": [
      "\n"
     ]
    },
    {
     "name": "stderr",
     "output_type": "stream",
     "text": [
      "==============================\n",
      "*** Open Babel Warning  in ReadMolecule\n",
      "  Failed to kekulize aromatic bonds in MOL2 file (title is 4dsj_DGT_1_protein)\n",
      "\n"
     ]
    },
    {
     "name": "stdout",
     "output_type": "stream",
     "text": [
      "\n"
     ]
    },
    {
     "name": "stderr",
     "output_type": "stream",
     "text": [
      "==============================\n",
      "*** Open Babel Warning  in ReadMolecule\n",
      "  Failed to kekulize aromatic bonds in MOL2 file (title is 2yvl_SAM_4_protein)\n",
      "\n"
     ]
    },
    {
     "name": "stdout",
     "output_type": "stream",
     "text": [
      "\n"
     ]
    },
    {
     "name": "stderr",
     "output_type": "stream",
     "text": [
      "==============================\n",
      "*** Open Babel Warning  in ReadMolecule\n",
      "  Failed to kekulize aromatic bonds in MOL2 file (title is 5eyp_LOC_1_protein)\n",
      "\n"
     ]
    },
    {
     "name": "stdout",
     "output_type": "stream",
     "text": [
      "\n"
     ]
    },
    {
     "name": "stderr",
     "output_type": "stream",
     "text": [
      "==============================\n",
      "*** Open Babel Warning  in ReadMolecule\n",
      "  Failed to kekulize aromatic bonds in MOL2 file (title is 4ux9_ANP_2_protein)\n",
      "\n"
     ]
    },
    {
     "name": "stdout",
     "output_type": "stream",
     "text": [
      "\n"
     ]
    },
    {
     "name": "stderr",
     "output_type": "stream",
     "text": [
      "==============================\n",
      "*** Open Babel Warning  in ReadMolecule\n",
      "  Failed to kekulize aromatic bonds in MOL2 file (title is 1qip_GNB_4_protein)\n",
      "\n"
     ]
    },
    {
     "name": "stdout",
     "output_type": "stream",
     "text": [
      "\n"
     ]
    },
    {
     "name": "stderr",
     "output_type": "stream",
     "text": [
      "==============================\n",
      "*** Open Babel Warning  in ReadMolecule\n",
      "  Failed to kekulize aromatic bonds in MOL2 file (title is 4rkd_KET_1_protein)\n",
      "\n"
     ]
    },
    {
     "name": "stdout",
     "output_type": "stream",
     "text": [
      "\n"
     ]
    },
    {
     "name": "stderr",
     "output_type": "stream",
     "text": [
      "==============================\n",
      "*** Open Babel Warning  in ReadMolecule\n",
      "  This Mol2 file is non-standard. Problem with molecule: 3u78_E67_1_protein Cannot interpret atom types correctly, instead attempting to interpret atom type: NI as elements instead.\n",
      "==============================\n",
      "*** Open Babel Warning  in Translate\n",
      "  Cannot perform atom type translation: table cannot find requested types.\n",
      "==============================\n",
      "*** Open Babel Warning  in ReadMolecule\n",
      "  Failed to kekulize aromatic bonds in MOL2 file (title is 3u78_E67_1_protein)\n",
      "\n"
     ]
    },
    {
     "name": "stdout",
     "output_type": "stream",
     "text": [
      "\n"
     ]
    },
    {
     "name": "stderr",
     "output_type": "stream",
     "text": [
      "==============================\n",
      "*** Open Babel Warning  in ReadMolecule\n",
      "  Failed to kekulize aromatic bonds in MOL2 file (title is 5buk_FAD_1_protein)\n",
      "\n"
     ]
    },
    {
     "name": "stdout",
     "output_type": "stream",
     "text": [
      "\n"
     ]
    },
    {
     "name": "stderr",
     "output_type": "stream",
     "text": [
      "==============================\n",
      "*** Open Babel Warning  in ReadMolecule\n",
      "  Failed to kekulize aromatic bonds in MOL2 file (title is 2d1s_SLU_1_protein)\n",
      "\n"
     ]
    },
    {
     "name": "stdout",
     "output_type": "stream",
     "text": [
      "\n"
     ]
    },
    {
     "name": "stderr",
     "output_type": "stream",
     "text": [
      "==============================\n",
      "*** Open Babel Warning  in ReadMolecule\n",
      "  Failed to kekulize aromatic bonds in MOL2 file (title is 1mjt_ITU_2_protein)\n",
      "\n"
     ]
    },
    {
     "name": "stdout",
     "output_type": "stream",
     "text": [
      "\n"
     ]
    },
    {
     "name": "stderr",
     "output_type": "stream",
     "text": [
      "==============================\n",
      "*** Open Babel Warning  in ReadMolecule\n",
      "  Failed to kekulize aromatic bonds in MOL2 file (title is 1lqu_FAD_1_protein)\n",
      "\n"
     ]
    },
    {
     "name": "stdout",
     "output_type": "stream",
     "text": [
      "\n"
     ]
    },
    {
     "name": "stderr",
     "output_type": "stream",
     "text": [
      "==============================\n",
      "*** Open Babel Warning  in ReadMolecule\n",
      "  Failed to kekulize aromatic bonds in MOL2 file (title is 3cxi_VIT_2_protein)\n",
      "\n"
     ]
    },
    {
     "name": "stdout",
     "output_type": "stream",
     "text": [
      "\n"
     ]
    },
    {
     "name": "stderr",
     "output_type": "stream",
     "text": [
      "==============================\n",
      "*** Open Babel Warning  in ReadMolecule\n",
      "  Failed to kekulize aromatic bonds in MOL2 file (title is 2wgh_DTP_1_protein)\n",
      "\n"
     ]
    },
    {
     "name": "stdout",
     "output_type": "stream",
     "text": [
      "\n"
     ]
    },
    {
     "name": "stderr",
     "output_type": "stream",
     "text": [
      "==============================\n",
      "*** Open Babel Warning  in ReadMolecule\n",
      "  Failed to kekulize aromatic bonds in MOL2 file (title is 2x2m_X2M_1_protein)\n",
      "\n"
     ]
    },
    {
     "name": "stdout",
     "output_type": "stream",
     "text": [
      "\n"
     ]
    },
    {
     "name": "stderr",
     "output_type": "stream",
     "text": [
      "==============================\n",
      "*** Open Babel Warning  in ReadMolecule\n",
      "  Failed to kekulize aromatic bonds in MOL2 file (title is 2gmh_FAD_1_protein)\n",
      "\n"
     ]
    },
    {
     "name": "stdout",
     "output_type": "stream",
     "text": [
      "\n"
     ]
    },
    {
     "name": "stderr",
     "output_type": "stream",
     "text": [
      "==============================\n",
      "*** Open Babel Warning  in ReadMolecule\n",
      "  Failed to kekulize aromatic bonds in MOL2 file (title is 4e7v_CRS_4_protein)\n",
      "\n"
     ]
    },
    {
     "name": "stdout",
     "output_type": "stream",
     "text": [
      "\n"
     ]
    },
    {
     "name": "stderr",
     "output_type": "stream",
     "text": [
      "==============================\n",
      "*** Open Babel Warning  in ReadMolecule\n",
      "  Failed to kekulize aromatic bonds in MOL2 file (title is 4rrf_A3S_4_protein)\n",
      "\n"
     ]
    },
    {
     "name": "stdout",
     "output_type": "stream",
     "text": [
      "\n"
     ]
    },
    {
     "name": "stderr",
     "output_type": "stream",
     "text": [
      "==============================\n",
      "*** Open Babel Warning  in ReadMolecule\n",
      "  Failed to kekulize aromatic bonds in MOL2 file (title is 5cfl_C2E_1_protein)\n",
      "\n"
     ]
    },
    {
     "name": "stdout",
     "output_type": "stream",
     "text": [
      "\n"
     ]
    },
    {
     "name": "stderr",
     "output_type": "stream",
     "text": [
      "==============================\n",
      "*** Open Babel Warning  in ReadMolecule\n",
      "  This Mol2 file is non-standard. Problem with molecule: 1aqb_RTL_1_protein Cannot interpret atom types correctly, instead attempting to interpret atom type: CD as elements instead.\n",
      "==============================\n",
      "*** Open Babel Warning  in Translate\n",
      "  Cannot perform atom type translation: table cannot find requested types.\n",
      "==============================\n",
      "*** Open Babel Warning  in ReadMolecule\n",
      "  Failed to kekulize aromatic bonds in MOL2 file (title is 1aqb_RTL_1_protein)\n",
      "\n"
     ]
    },
    {
     "name": "stdout",
     "output_type": "stream",
     "text": [
      "\n"
     ]
    },
    {
     "name": "stderr",
     "output_type": "stream",
     "text": [
      "==============================\n",
      "*** Open Babel Warning  in ReadMolecule\n",
      "  Failed to kekulize aromatic bonds in MOL2 file (title is 1v08_NTZ_2_protein)\n",
      "\n"
     ]
    },
    {
     "name": "stdout",
     "output_type": "stream",
     "text": [
      "\n"
     ]
    },
    {
     "name": "stderr",
     "output_type": "stream",
     "text": [
      "==============================\n",
      "*** Open Babel Warning  in ReadMolecule\n",
      "  Failed to kekulize aromatic bonds in MOL2 file (title is 4krc_AGS_1_protein)\n",
      "\n"
     ]
    },
    {
     "name": "stdout",
     "output_type": "stream",
     "text": [
      "\n"
     ]
    },
    {
     "name": "stderr",
     "output_type": "stream",
     "text": [
      "==============================\n",
      "*** Open Babel Warning  in ReadMolecule\n",
      "  Failed to kekulize aromatic bonds in MOL2 file (title is 3pdu_NAP_4_protein)\n",
      "\n"
     ]
    },
    {
     "name": "stdout",
     "output_type": "stream",
     "text": [
      "\n"
     ]
    },
    {
     "name": "stderr",
     "output_type": "stream",
     "text": [
      "==============================\n",
      "*** Open Babel Warning  in ReadMolecule\n",
      "  Failed to kekulize aromatic bonds in MOL2 file (title is 4ag5_ADP_2_protein)\n",
      "\n"
     ]
    },
    {
     "name": "stdout",
     "output_type": "stream",
     "text": [
      "\n"
     ]
    },
    {
     "name": "stderr",
     "output_type": "stream",
     "text": [
      "==============================\n",
      "*** Open Babel Warning  in ReadMolecule\n",
      "  This Mol2 file is non-standard. Problem with molecule: 4ykf_FAD_1_protein Cannot interpret atom types correctly, instead attempting to interpret atom type: CD as elements instead.\n",
      "==============================\n",
      "*** Open Babel Warning  in Translate\n",
      "  Cannot perform atom type translation: table cannot find requested types.\n",
      "==============================\n",
      "*** Open Babel Warning  in ReadMolecule\n",
      "  Failed to kekulize aromatic bonds in MOL2 file (title is 4ykf_FAD_1_protein)\n",
      "\n"
     ]
    },
    {
     "name": "stdout",
     "output_type": "stream",
     "text": [
      "\n"
     ]
    },
    {
     "name": "stderr",
     "output_type": "stream",
     "text": [
      "==============================\n",
      "*** Open Babel Warning  in ReadMolecule\n",
      "  Failed to kekulize aromatic bonds in MOL2 file (title is 4h6p_FMN_6_protein)\n",
      "\n"
     ]
    },
    {
     "name": "stdout",
     "output_type": "stream",
     "text": [
      "\n"
     ]
    },
    {
     "name": "stderr",
     "output_type": "stream",
     "text": [
      "==============================\n",
      "*** Open Babel Warning  in ReadMolecule\n",
      "  Failed to kekulize aromatic bonds in MOL2 file (title is 2ako_ADP_2_protein)\n",
      "\n"
     ]
    },
    {
     "name": "stdout",
     "output_type": "stream",
     "text": [
      "\n"
     ]
    },
    {
     "name": "stderr",
     "output_type": "stream",
     "text": [
      "==============================\n",
      "*** Open Babel Warning  in ReadMolecule\n",
      "  Failed to kekulize aromatic bonds in MOL2 file (title is 1ha3_MAU_2_protein)\n",
      "\n"
     ]
    },
    {
     "name": "stdout",
     "output_type": "stream",
     "text": [
      "\n"
     ]
    },
    {
     "name": "stderr",
     "output_type": "stream",
     "text": [
      "==============================\n",
      "*** Open Babel Warning  in ReadMolecule\n",
      "  Failed to kekulize aromatic bonds in MOL2 file (title is 2hdq_C21_1_protein)\n",
      "\n"
     ]
    },
    {
     "name": "stdout",
     "output_type": "stream",
     "text": [
      "\n"
     ]
    },
    {
     "name": "stderr",
     "output_type": "stream",
     "text": [
      "==============================\n",
      "*** Open Babel Warning  in ReadMolecule\n",
      "  Failed to kekulize aromatic bonds in MOL2 file (title is 3e4v_FMN_1_protein)\n",
      "\n"
     ]
    },
    {
     "name": "stdout",
     "output_type": "stream",
     "text": [
      "\n"
     ]
    },
    {
     "name": "stderr",
     "output_type": "stream",
     "text": [
      "==============================\n",
      "*** Open Babel Warning  in ReadMolecule\n",
      "  Failed to kekulize aromatic bonds in MOL2 file (title is 2jah_NDP_1_protein)\n",
      "\n"
     ]
    },
    {
     "name": "stdout",
     "output_type": "stream",
     "text": [
      "\n"
     ]
    },
    {
     "name": "stderr",
     "output_type": "stream",
     "text": [
      "==============================\n",
      "*** Open Babel Warning  in ReadMolecule\n",
      "  Failed to kekulize aromatic bonds in MOL2 file (title is 2po3_T4K_2_protein)\n",
      "\n"
     ]
    },
    {
     "name": "stdout",
     "output_type": "stream",
     "text": [
      "\n"
     ]
    },
    {
     "name": "stderr",
     "output_type": "stream",
     "text": [
      "==============================\n",
      "*** Open Babel Warning  in ReadMolecule\n",
      "  Failed to kekulize aromatic bonds in MOL2 file (title is 3ju8_NAD_2_protein)\n",
      "\n"
     ]
    },
    {
     "name": "stdout",
     "output_type": "stream",
     "text": [
      "\n"
     ]
    },
    {
     "name": "stderr",
     "output_type": "stream",
     "text": [
      "==============================\n",
      "*** Open Babel Warning  in ReadMolecule\n",
      "  Failed to kekulize aromatic bonds in MOL2 file (title is 3kr6_UD1_1_protein)\n",
      "\n"
     ]
    },
    {
     "name": "stdout",
     "output_type": "stream",
     "text": [
      "\n"
     ]
    },
    {
     "name": "stderr",
     "output_type": "stream",
     "text": [
      "==============================\n",
      "*** Open Babel Warning  in ReadMolecule\n",
      "  Failed to kekulize aromatic bonds in MOL2 file (title is 4b1v_LAB_1_protein)\n",
      "\n"
     ]
    },
    {
     "name": "stdout",
     "output_type": "stream",
     "text": [
      "\n"
     ]
    },
    {
     "name": "stderr",
     "output_type": "stream",
     "text": [
      "==============================\n",
      "*** Open Babel Warning  in ReadMolecule\n",
      "  Failed to kekulize aromatic bonds in MOL2 file (title is 3bpx_SAL_1_protein)\n",
      "\n"
     ]
    },
    {
     "name": "stdout",
     "output_type": "stream",
     "text": [
      "\n"
     ]
    },
    {
     "name": "stderr",
     "output_type": "stream",
     "text": [
      "==============================\n",
      "*** Open Babel Warning  in ReadMolecule\n",
      "  Failed to kekulize aromatic bonds in MOL2 file (title is 2ayl_FLP_2_protein)\n",
      "\n"
     ]
    },
    {
     "name": "stdout",
     "output_type": "stream",
     "text": [
      "\n"
     ]
    },
    {
     "name": "stderr",
     "output_type": "stream",
     "text": [
      "==============================\n",
      "*** Open Babel Warning  in ReadMolecule\n",
      "  Failed to kekulize aromatic bonds in MOL2 file (title is 4lwp_SAH_2_protein)\n",
      "\n"
     ]
    },
    {
     "name": "stdout",
     "output_type": "stream",
     "text": [
      "\n"
     ]
    },
    {
     "name": "stderr",
     "output_type": "stream",
     "text": [
      "==============================\n",
      "*** Open Babel Warning  in ReadMolecule\n",
      "  Failed to kekulize aromatic bonds in MOL2 file (title is 3anx_MTA_2_protein)\n",
      "\n"
     ]
    },
    {
     "name": "stdout",
     "output_type": "stream",
     "text": [
      "\n"
     ]
    },
    {
     "name": "stderr",
     "output_type": "stream",
     "text": [
      "==============================\n",
      "*** Open Babel Warning  in ReadMolecule\n",
      "  Failed to kekulize aromatic bonds in MOL2 file (title is 2iyp_A2P_1_protein)\n",
      "\n"
     ]
    },
    {
     "name": "stdout",
     "output_type": "stream",
     "text": [
      "\n"
     ]
    },
    {
     "name": "stderr",
     "output_type": "stream",
     "text": [
      "==============================\n",
      "*** Open Babel Warning  in ReadMolecule\n",
      "  Failed to kekulize aromatic bonds in MOL2 file (title is 4cym_GCP_1_protein)\n",
      "\n"
     ]
    },
    {
     "name": "stdout",
     "output_type": "stream",
     "text": [
      "\n"
     ]
    },
    {
     "name": "stderr",
     "output_type": "stream",
     "text": [
      "==============================\n",
      "*** Open Babel Warning  in ReadMolecule\n",
      "  Failed to kekulize aromatic bonds in MOL2 file (title is 1u8v_FAD_1_protein)\n",
      "\n"
     ]
    },
    {
     "name": "stdout",
     "output_type": "stream",
     "text": [
      "\n"
     ]
    },
    {
     "name": "stderr",
     "output_type": "stream",
     "text": [
      "==============================\n",
      "*** Open Babel Warning  in ReadMolecule\n",
      "  Failed to kekulize aromatic bonds in MOL2 file (title is 3ooi_SAM_1_protein)\n",
      "\n"
     ]
    },
    {
     "name": "stdout",
     "output_type": "stream",
     "text": [
      "\n"
     ]
    },
    {
     "name": "stderr",
     "output_type": "stream",
     "text": [
      "==============================\n",
      "*** Open Babel Warning  in ReadMolecule\n",
      "  Failed to kekulize aromatic bonds in MOL2 file (title is 1umc_TDP_1_protein)\n",
      "\n"
     ]
    },
    {
     "name": "stdout",
     "output_type": "stream",
     "text": [
      "\n"
     ]
    },
    {
     "name": "stderr",
     "output_type": "stream",
     "text": [
      "==============================\n",
      "*** Open Babel Warning  in ReadMolecule\n",
      "  Failed to kekulize aromatic bonds in MOL2 file (title is 3d72_FAD_2_protein)\n",
      "\n"
     ]
    },
    {
     "name": "stdout",
     "output_type": "stream",
     "text": [
      "\n"
     ]
    },
    {
     "name": "stderr",
     "output_type": "stream",
     "text": [
      "==============================\n",
      "*** Open Babel Warning  in ReadMolecule\n",
      "  Failed to kekulize aromatic bonds in MOL2 file (title is 1xli_GLT_1_protein)\n",
      "\n"
     ]
    },
    {
     "name": "stdout",
     "output_type": "stream",
     "text": [
      "\n"
     ]
    },
    {
     "name": "stderr",
     "output_type": "stream",
     "text": [
      "==============================\n",
      "*** Open Babel Warning  in ReadMolecule\n",
      "  Failed to kekulize aromatic bonds in MOL2 file (title is 3jsz_UPG_1_protein)\n",
      "\n"
     ]
    },
    {
     "name": "stdout",
     "output_type": "stream",
     "text": [
      "\n"
     ]
    },
    {
     "name": "stderr",
     "output_type": "stream",
     "text": [
      "==============================\n",
      "*** Open Babel Warning  in ReadMolecule\n",
      "  Failed to kekulize aromatic bonds in MOL2 file (title is 3ty3_GGG_1_protein)\n",
      "\n"
     ]
    },
    {
     "name": "stdout",
     "output_type": "stream",
     "text": [
      "\n"
     ]
    },
    {
     "name": "stderr",
     "output_type": "stream",
     "text": [
      "==============================\n",
      "*** Open Babel Warning  in ReadMolecule\n",
      "  Failed to kekulize aromatic bonds in MOL2 file (title is 3mau_EXT_4_protein)\n",
      "\n"
     ]
    },
    {
     "name": "stdout",
     "output_type": "stream",
     "text": [
      "\n"
     ]
    },
    {
     "name": "stderr",
     "output_type": "stream",
     "text": [
      "==============================\n",
      "*** Open Babel Warning  in ReadMolecule\n",
      "  Failed to kekulize aromatic bonds in MOL2 file (title is 3zbn_COA_3_protein)\n",
      "\n"
     ]
    },
    {
     "name": "stdout",
     "output_type": "stream",
     "text": [
      "\n"
     ]
    },
    {
     "name": "stderr",
     "output_type": "stream",
     "text": [
      "==============================\n",
      "*** Open Babel Warning  in ReadMolecule\n",
      "  Failed to kekulize aromatic bonds in MOL2 file (title is 3fpf_MTA_1_protein)\n",
      "\n"
     ]
    },
    {
     "name": "stdout",
     "output_type": "stream",
     "text": [
      "\n"
     ]
    },
    {
     "name": "stderr",
     "output_type": "stream",
     "text": [
      "==============================\n",
      "*** Open Babel Warning  in ReadMolecule\n",
      "  Failed to kekulize aromatic bonds in MOL2 file (title is 2iht_TPP_1_protein)\n",
      "\n"
     ]
    },
    {
     "name": "stdout",
     "output_type": "stream",
     "text": [
      "\n"
     ]
    },
    {
     "name": "stderr",
     "output_type": "stream",
     "text": [
      "==============================\n",
      "*** Open Babel Warning  in ReadMolecule\n",
      "  Failed to kekulize aromatic bonds in MOL2 file (title is 3v97_SAH_2_protein)\n",
      "\n"
     ]
    },
    {
     "name": "stdout",
     "output_type": "stream",
     "text": [
      "\n"
     ]
    },
    {
     "name": "stderr",
     "output_type": "stream",
     "text": [
      "==============================\n",
      "*** Open Babel Warning  in ReadMolecule\n",
      "  Failed to kekulize aromatic bonds in MOL2 file (title is 2nm2_NEU_1_protein)\n",
      "\n"
     ]
    },
    {
     "name": "stdout",
     "output_type": "stream",
     "text": [
      "\n"
     ]
    },
    {
     "name": "stderr",
     "output_type": "stream",
     "text": [
      "==============================\n",
      "*** Open Babel Warning  in ReadMolecule\n",
      "  Failed to kekulize aromatic bonds in MOL2 file (title is 1fvp_FMA_1_protein)\n",
      "\n"
     ]
    },
    {
     "name": "stdout",
     "output_type": "stream",
     "text": [
      "\n"
     ]
    },
    {
     "name": "stderr",
     "output_type": "stream",
     "text": [
      "==============================\n",
      "*** Open Babel Warning  in ReadMolecule\n",
      "  Failed to kekulize aromatic bonds in MOL2 file (title is 2zbv_ADN_2_protein)\n",
      "\n"
     ]
    },
    {
     "name": "stdout",
     "output_type": "stream",
     "text": [
      "\n"
     ]
    },
    {
     "name": "stderr",
     "output_type": "stream",
     "text": [
      "==============================\n",
      "*** Open Babel Warning  in ReadMolecule\n",
      "  This Mol2 file is non-standard. Problem with molecule: 2qjp_ANJ_6_protein Cannot interpret atom types correctly, instead attempting to interpret atom type: SR as elements instead.\n",
      "==============================\n",
      "*** Open Babel Warning  in Translate\n",
      "  Cannot perform atom type translation: table cannot find requested types.\n",
      "==============================\n",
      "*** Open Babel Warning  in ReadMolecule\n",
      "  Failed to kekulize aromatic bonds in MOL2 file (title is 2qjp_ANJ_6_protein)\n",
      "\n"
     ]
    },
    {
     "name": "stdout",
     "output_type": "stream",
     "text": [
      "\n"
     ]
    },
    {
     "name": "stderr",
     "output_type": "stream",
     "text": [
      "==============================\n",
      "*** Open Babel Warning  in ReadMolecule\n",
      "  Failed to kekulize aromatic bonds in MOL2 file (title is 4htf_SAM_2_protein)\n",
      "\n"
     ]
    },
    {
     "name": "stdout",
     "output_type": "stream",
     "text": [
      "\n"
     ]
    },
    {
     "name": "stderr",
     "output_type": "stream",
     "text": [
      "==============================\n",
      "*** Open Babel Warning  in ReadMolecule\n",
      "  Failed to kekulize aromatic bonds in MOL2 file (title is 2z4s_ADP_1_protein)\n",
      "\n"
     ]
    },
    {
     "name": "stdout",
     "output_type": "stream",
     "text": [
      "\n"
     ]
    },
    {
     "name": "stderr",
     "output_type": "stream",
     "text": [
      "==============================\n",
      "*** Open Babel Warning  in ReadMolecule\n",
      "  Failed to kekulize aromatic bonds in MOL2 file (title is 3b8z_294_2_protein)\n",
      "\n"
     ]
    },
    {
     "name": "stdout",
     "output_type": "stream",
     "text": [
      "\n"
     ]
    },
    {
     "name": "stderr",
     "output_type": "stream",
     "text": [
      "==============================\n",
      "*** Open Babel Warning  in ReadMolecule\n",
      "  Failed to kekulize aromatic bonds in MOL2 file (title is 3ddn_HPV_1_protein)\n",
      "\n"
     ]
    },
    {
     "name": "stdout",
     "output_type": "stream",
     "text": [
      "\n"
     ]
    },
    {
     "name": "stderr",
     "output_type": "stream",
     "text": [
      "==============================\n",
      "*** Open Babel Warning  in ReadMolecule\n",
      "  Failed to kekulize aromatic bonds in MOL2 file (title is 2yiu_SMA_1_protein)\n",
      "\n"
     ]
    },
    {
     "name": "stdout",
     "output_type": "stream",
     "text": [
      "\n"
     ]
    },
    {
     "name": "stderr",
     "output_type": "stream",
     "text": [
      "==============================\n",
      "*** Open Babel Warning  in ReadMolecule\n",
      "  Failed to kekulize aromatic bonds in MOL2 file (title is 4gqt_ADP_2_protein)\n",
      "\n"
     ]
    },
    {
     "name": "stdout",
     "output_type": "stream",
     "text": [
      "\n"
     ]
    },
    {
     "name": "stderr",
     "output_type": "stream",
     "text": [
      "==============================\n",
      "*** Open Babel Warning  in ReadMolecule\n",
      "  Failed to kekulize aromatic bonds in MOL2 file (title is 1drt_PCV_1_protein)\n",
      "\n"
     ]
    },
    {
     "name": "stdout",
     "output_type": "stream",
     "text": [
      "\n"
     ]
    },
    {
     "name": "stderr",
     "output_type": "stream",
     "text": [
      "==============================\n",
      "*** Open Babel Warning  in ReadMolecule\n",
      "  Failed to kekulize aromatic bonds in MOL2 file (title is 1ebl_COA_1_protein)\n",
      "\n"
     ]
    },
    {
     "name": "stdout",
     "output_type": "stream",
     "text": [
      "\n"
     ]
    },
    {
     "name": "stderr",
     "output_type": "stream",
     "text": [
      "==============================\n",
      "*** Open Babel Warning  in ReadMolecule\n",
      "  Failed to kekulize aromatic bonds in MOL2 file (title is 5dmh_ADP_1_protein)\n",
      "\n"
     ]
    },
    {
     "name": "stdout",
     "output_type": "stream",
     "text": [
      "\n"
     ]
    },
    {
     "name": "stderr",
     "output_type": "stream",
     "text": [
      "==============================\n",
      "*** Open Babel Warning  in ReadMolecule\n",
      "  Failed to kekulize aromatic bonds in MOL2 file (title is 4gaa_BES_2_protein)\n",
      "\n"
     ]
    },
    {
     "name": "stdout",
     "output_type": "stream",
     "text": [
      "\n"
     ]
    },
    {
     "name": "stderr",
     "output_type": "stream",
     "text": [
      "==============================\n",
      "*** Open Babel Warning  in ReadMolecule\n",
      "  Failed to kekulize aromatic bonds in MOL2 file (title is 2ch2_KY1_4_protein)\n",
      "\n"
     ]
    },
    {
     "name": "stdout",
     "output_type": "stream",
     "text": [
      "\n"
     ]
    },
    {
     "name": "stderr",
     "output_type": "stream",
     "text": [
      "==============================\n",
      "*** Open Babel Warning  in ReadMolecule\n",
      "  Failed to kekulize aromatic bonds in MOL2 file (title is 1zp9_ATP_4_protein)\n",
      "\n"
     ]
    },
    {
     "name": "stdout",
     "output_type": "stream",
     "text": [
      "\n"
     ]
    },
    {
     "name": "stderr",
     "output_type": "stream",
     "text": [
      "==============================\n",
      "*** Open Babel Warning  in ReadMolecule\n",
      "  Failed to kekulize aromatic bonds in MOL2 file (title is 1zz8_S0H_1_protein)\n",
      "\n"
     ]
    },
    {
     "name": "stdout",
     "output_type": "stream",
     "text": [
      "\n"
     ]
    },
    {
     "name": "stderr",
     "output_type": "stream",
     "text": [
      "==============================\n",
      "*** Open Babel Warning  in ReadMolecule\n",
      "  Failed to kekulize aromatic bonds in MOL2 file (title is 5frd_COA_2_protein)\n",
      "\n"
     ]
    },
    {
     "name": "stdout",
     "output_type": "stream",
     "text": [
      "\n"
     ]
    },
    {
     "name": "stderr",
     "output_type": "stream",
     "text": [
      "==============================\n",
      "*** Open Babel Warning  in ReadMolecule\n",
      "  Failed to kekulize aromatic bonds in MOL2 file (title is 2v7q_ATP_1_protein)\n",
      "\n"
     ]
    },
    {
     "name": "stdout",
     "output_type": "stream",
     "text": [
      "\n"
     ]
    },
    {
     "name": "stderr",
     "output_type": "stream",
     "text": [
      "==============================\n",
      "*** Open Babel Warning  in ReadMolecule\n",
      "  Failed to kekulize aromatic bonds in MOL2 file (title is 1h5t_TYD_1_protein)\n",
      "\n"
     ]
    },
    {
     "name": "stdout",
     "output_type": "stream",
     "text": [
      "\n"
     ]
    },
    {
     "name": "stderr",
     "output_type": "stream",
     "text": [
      "==============================\n",
      "*** Open Babel Warning  in ReadMolecule\n",
      "  Failed to kekulize aromatic bonds in MOL2 file (title is 3qck_NX5_1_protein)\n",
      "\n"
     ]
    },
    {
     "name": "stdout",
     "output_type": "stream",
     "text": [
      "\n"
     ]
    },
    {
     "name": "stderr",
     "output_type": "stream",
     "text": [
      "==============================\n",
      "*** Open Babel Warning  in ReadMolecule\n",
      "  Failed to kekulize aromatic bonds in MOL2 file (title is 2x9g_LYA_1_protein)\n",
      "\n"
     ]
    },
    {
     "name": "stdout",
     "output_type": "stream",
     "text": [
      "\n"
     ]
    },
    {
     "name": "stderr",
     "output_type": "stream",
     "text": [
      "==============================\n",
      "*** Open Babel Warning  in ReadMolecule\n",
      "  Failed to kekulize aromatic bonds in MOL2 file (title is 3nzk_C90_2_protein)\n",
      "\n"
     ]
    },
    {
     "name": "stdout",
     "output_type": "stream",
     "text": [
      "\n"
     ]
    },
    {
     "name": "stderr",
     "output_type": "stream",
     "text": [
      "==============================\n",
      "*** Open Babel Warning  in ReadMolecule\n",
      "  Failed to kekulize aromatic bonds in MOL2 file (title is 2hn9_TDR_1_protein)\n",
      "\n"
     ]
    },
    {
     "name": "stdout",
     "output_type": "stream",
     "text": [
      "\n"
     ]
    },
    {
     "name": "stderr",
     "output_type": "stream",
     "text": [
      "==============================\n",
      "*** Open Babel Warning  in ReadMolecule\n",
      "  Failed to kekulize aromatic bonds in MOL2 file (title is 3tw6_PAE_2_protein)\n",
      "\n"
     ]
    },
    {
     "name": "stdout",
     "output_type": "stream",
     "text": [
      "\n"
     ]
    },
    {
     "name": "stderr",
     "output_type": "stream",
     "text": [
      "==============================\n",
      "*** Open Babel Warning  in ReadMolecule\n",
      "  Failed to kekulize aromatic bonds in MOL2 file (title is 4xul_GTP_1_protein)\n",
      "\n"
     ]
    },
    {
     "name": "stdout",
     "output_type": "stream",
     "text": [
      "\n"
     ]
    },
    {
     "name": "stderr",
     "output_type": "stream",
     "text": [
      "==============================\n",
      "*** Open Babel Warning  in ReadMolecule\n",
      "  Failed to kekulize aromatic bonds in MOL2 file (title is 3kuk_DUR_1_protein)\n",
      "\n"
     ]
    },
    {
     "name": "stdout",
     "output_type": "stream",
     "text": [
      "\n"
     ]
    },
    {
     "name": "stderr",
     "output_type": "stream",
     "text": [
      "==============================\n",
      "*** Open Babel Warning  in ReadMolecule\n",
      "  Failed to kekulize aromatic bonds in MOL2 file (title is 2b96_ANN_1_protein)\n",
      "\n"
     ]
    },
    {
     "name": "stdout",
     "output_type": "stream",
     "text": [
      "\n"
     ]
    },
    {
     "name": "stderr",
     "output_type": "stream",
     "text": [
      "==============================\n",
      "*** Open Babel Warning  in ReadMolecule\n",
      "  Failed to kekulize aromatic bonds in MOL2 file (title is 1juv_NDP_1_protein)\n",
      "\n"
     ]
    },
    {
     "name": "stdout",
     "output_type": "stream",
     "text": [
      "\n"
     ]
    },
    {
     "name": "stderr",
     "output_type": "stream",
     "text": [
      "==============================\n",
      "*** Open Babel Warning  in ReadMolecule\n",
      "  Failed to kekulize aromatic bonds in MOL2 file (title is 4hdq_GNP_1_protein)\n",
      "\n"
     ]
    },
    {
     "name": "stdout",
     "output_type": "stream",
     "text": [
      "\n"
     ]
    },
    {
     "name": "stderr",
     "output_type": "stream",
     "text": [
      "==============================\n",
      "*** Open Babel Warning  in ReadMolecule\n",
      "  Failed to kekulize aromatic bonds in MOL2 file (title is 4hrq_AZG_1_protein)\n",
      "\n"
     ]
    },
    {
     "name": "stdout",
     "output_type": "stream",
     "text": [
      "\n"
     ]
    },
    {
     "name": "stderr",
     "output_type": "stream",
     "text": [
      "==============================\n",
      "*** Open Babel Warning  in ReadMolecule\n",
      "  Failed to kekulize aromatic bonds in MOL2 file (title is 2qoc_ANP_1_protein)\n",
      "\n"
     ]
    },
    {
     "name": "stdout",
     "output_type": "stream",
     "text": [
      "\n"
     ]
    },
    {
     "name": "stderr",
     "output_type": "stream",
     "text": [
      "==============================\n",
      "*** Open Babel Warning  in ReadMolecule\n",
      "  Failed to kekulize aromatic bonds in MOL2 file (title is 2jam_J60_1_protein)\n",
      "\n"
     ]
    },
    {
     "name": "stdout",
     "output_type": "stream",
     "text": [
      "\n"
     ]
    },
    {
     "name": "stderr",
     "output_type": "stream",
     "text": [
      "==============================\n",
      "*** Open Babel Warning  in ReadMolecule\n",
      "  Failed to kekulize aromatic bonds in MOL2 file (title is 4fnc_HMU_1_protein)\n",
      "\n"
     ]
    },
    {
     "name": "stdout",
     "output_type": "stream",
     "text": [
      "\n"
     ]
    },
    {
     "name": "stderr",
     "output_type": "stream",
     "text": [
      "==============================\n",
      "*** Open Babel Warning  in ReadMolecule\n",
      "  Failed to kekulize aromatic bonds in MOL2 file (title is 3awi_FAD_4_protein)\n",
      "\n"
     ]
    },
    {
     "name": "stdout",
     "output_type": "stream",
     "text": [
      "\n"
     ]
    },
    {
     "name": "stderr",
     "output_type": "stream",
     "text": [
      "==============================\n",
      "*** Open Babel Warning  in ReadMolecule\n",
      "  Failed to kekulize aromatic bonds in MOL2 file (title is 3lf0_ATP_2_protein)\n",
      "\n"
     ]
    },
    {
     "name": "stdout",
     "output_type": "stream",
     "text": [
      "\n"
     ]
    },
    {
     "name": "stderr",
     "output_type": "stream",
     "text": [
      "==============================\n",
      "*** Open Babel Warning  in ReadMolecule\n",
      "  Failed to kekulize aromatic bonds in MOL2 file (title is 1nlm_UD1_2_protein)\n",
      "\n"
     ]
    },
    {
     "name": "stdout",
     "output_type": "stream",
     "text": [
      "\n"
     ]
    },
    {
     "name": "stderr",
     "output_type": "stream",
     "text": [
      "==============================\n",
      "*** Open Babel Warning  in ReadMolecule\n",
      "  Failed to kekulize aromatic bonds in MOL2 file (title is 4x3u_SVR_1_protein)\n",
      "\n"
     ]
    },
    {
     "name": "stdout",
     "output_type": "stream",
     "text": [
      "\n"
     ]
    },
    {
     "name": "stderr",
     "output_type": "stream",
     "text": [
      "==============================\n",
      "*** Open Babel Warning  in ReadMolecule\n",
      "  Failed to kekulize aromatic bonds in MOL2 file (title is 1b4p_GPS_1_protein)\n",
      "\n"
     ]
    },
    {
     "name": "stdout",
     "output_type": "stream",
     "text": [
      "\n"
     ]
    },
    {
     "name": "stderr",
     "output_type": "stream",
     "text": [
      "==============================\n",
      "*** Open Babel Warning  in ReadMolecule\n",
      "  Failed to kekulize aromatic bonds in MOL2 file (title is 1jzq_ILA_1_protein)\n",
      "\n"
     ]
    },
    {
     "name": "stdout",
     "output_type": "stream",
     "text": [
      "\n"
     ]
    },
    {
     "name": "stderr",
     "output_type": "stream",
     "text": [
      "==============================\n",
      "*** Open Babel Warning  in ReadMolecule\n",
      "  Failed to kekulize aromatic bonds in MOL2 file (title is 4ccz_THG_1_protein)\n",
      "\n"
     ]
    },
    {
     "name": "stdout",
     "output_type": "stream",
     "text": [
      "\n"
     ]
    },
    {
     "name": "stderr",
     "output_type": "stream",
     "text": [
      "==============================\n",
      "*** Open Babel Warning  in ReadMolecule\n",
      "  Failed to kekulize aromatic bonds in MOL2 file (title is 5d7p_AR6_4_protein)\n",
      "\n"
     ]
    },
    {
     "name": "stdout",
     "output_type": "stream",
     "text": [
      "\n"
     ]
    },
    {
     "name": "stderr",
     "output_type": "stream",
     "text": [
      "==============================\n",
      "*** Open Babel Warning  in ReadMolecule\n",
      "  Failed to kekulize aromatic bonds in MOL2 file (title is 1xjn_DTP_4_protein)\n",
      "\n"
     ]
    },
    {
     "name": "stdout",
     "output_type": "stream",
     "text": [
      "\n"
     ]
    },
    {
     "name": "stderr",
     "output_type": "stream",
     "text": [
      "==============================\n",
      "*** Open Babel Warning  in ReadMolecule\n",
      "  Failed to kekulize aromatic bonds in MOL2 file (title is 1u1j_C2F_1_protein)\n",
      "\n"
     ]
    },
    {
     "name": "stdout",
     "output_type": "stream",
     "text": [
      "\n"
     ]
    },
    {
     "name": "stderr",
     "output_type": "stream",
     "text": [
      "==============================\n",
      "*** Open Babel Warning  in ReadMolecule\n",
      "  Failed to kekulize aromatic bonds in MOL2 file (title is 5hgc_HCY_1_protein)\n",
      "\n"
     ]
    },
    {
     "name": "stdout",
     "output_type": "stream",
     "text": [
      "\n"
     ]
    },
    {
     "name": "stderr",
     "output_type": "stream",
     "text": [
      "==============================\n",
      "*** Open Babel Warning  in ReadMolecule\n",
      "  Failed to kekulize aromatic bonds in MOL2 file (title is 3r95_ACO_2_protein)\n",
      "\n"
     ]
    },
    {
     "name": "stdout",
     "output_type": "stream",
     "text": [
      "\n"
     ]
    },
    {
     "name": "stderr",
     "output_type": "stream",
     "text": [
      "==============================\n",
      "*** Open Babel Warning  in ReadMolecule\n",
      "  Failed to kekulize aromatic bonds in MOL2 file (title is 1j0b_5PA_9_protein)\n",
      "\n"
     ]
    },
    {
     "name": "stdout",
     "output_type": "stream",
     "text": [
      "\n"
     ]
    },
    {
     "name": "stderr",
     "output_type": "stream",
     "text": [
      "==============================\n",
      "*** Open Babel Warning  in ReadMolecule\n",
      "  Failed to kekulize aromatic bonds in MOL2 file (title is 4g77_TLF_1_protein)\n",
      "\n"
     ]
    },
    {
     "name": "stdout",
     "output_type": "stream",
     "text": [
      "\n"
     ]
    },
    {
     "name": "stderr",
     "output_type": "stream",
     "text": [
      "==============================\n",
      "*** Open Babel Warning  in ReadMolecule\n",
      "  This Mol2 file is non-standard. Problem with molecule: 1req_DCA_1_protein Cannot interpret atom types correctly, instead attempting to interpret atom type: CO as elements instead.\n",
      "==============================\n",
      "*** Open Babel Warning  in Translate\n",
      "  Cannot perform atom type translation: table cannot find requested types.\n",
      "==============================\n",
      "*** Open Babel Warning  in ReadMolecule\n",
      "  This Mol2 file is non-standard. Problem with molecule: 1req_DCA_1_protein Cannot interpret atom types correctly, instead attempting to interpret atom type: CO as elements instead.\n",
      "==============================\n",
      "*** Open Babel Warning  in Translate\n",
      "  Cannot perform atom type translation: table cannot find requested types.\n",
      "==============================\n",
      "*** Open Babel Warning  in ReadMolecule\n",
      "  Failed to kekulize aromatic bonds in MOL2 file (title is 1req_DCA_1_protein)\n",
      "\n"
     ]
    },
    {
     "name": "stdout",
     "output_type": "stream",
     "text": [
      "\n"
     ]
    },
    {
     "name": "stderr",
     "output_type": "stream",
     "text": [
      "==============================\n",
      "*** Open Babel Warning  in ReadMolecule\n",
      "  Failed to kekulize aromatic bonds in MOL2 file (title is 4b2g_V1N_2_protein)\n",
      "\n"
     ]
    },
    {
     "name": "stdout",
     "output_type": "stream",
     "text": [
      "\n"
     ]
    },
    {
     "name": "stderr",
     "output_type": "stream",
     "text": [
      "==============================\n",
      "*** Open Babel Warning  in ReadMolecule\n",
      "  Failed to kekulize aromatic bonds in MOL2 file (title is 2qtr_NXX_3_protein)\n",
      "\n"
     ]
    },
    {
     "name": "stdout",
     "output_type": "stream",
     "text": [
      "\n"
     ]
    },
    {
     "name": "stderr",
     "output_type": "stream",
     "text": [
      "==============================\n",
      "*** Open Babel Warning  in ReadMolecule\n",
      "  Failed to kekulize aromatic bonds in MOL2 file (title is 2id2_NAP_2_protein)\n",
      "\n"
     ]
    },
    {
     "name": "stdout",
     "output_type": "stream",
     "text": [
      "\n"
     ]
    },
    {
     "name": "stderr",
     "output_type": "stream",
     "text": [
      "==============================\n",
      "*** Open Babel Warning  in ReadMolecule\n",
      "  Failed to kekulize aromatic bonds in MOL2 file (title is 3pm9_FAD_5_protein)\n",
      "\n"
     ]
    },
    {
     "name": "stdout",
     "output_type": "stream",
     "text": [
      "\n"
     ]
    },
    {
     "name": "stderr",
     "output_type": "stream",
     "text": [
      "==============================\n",
      "*** Open Babel Warning  in ReadMolecule\n",
      "  Failed to kekulize aromatic bonds in MOL2 file (title is 3qpb_URA_15_protein)\n",
      "\n"
     ]
    },
    {
     "name": "stdout",
     "output_type": "stream",
     "text": [
      "\n"
     ]
    },
    {
     "name": "stderr",
     "output_type": "stream",
     "text": [
      "==============================\n",
      "*** Open Babel Warning  in ReadMolecule\n",
      "  Failed to kekulize aromatic bonds in MOL2 file (title is 1t47_NTD_2_protein)\n",
      "\n"
     ]
    },
    {
     "name": "stdout",
     "output_type": "stream",
     "text": [
      "\n"
     ]
    },
    {
     "name": "stderr",
     "output_type": "stream",
     "text": [
      "==============================\n",
      "*** Open Babel Warning  in ReadMolecule\n",
      "  Failed to kekulize aromatic bonds in MOL2 file (title is 2d4e_NAD_2_protein)\n",
      "\n"
     ]
    },
    {
     "name": "stdout",
     "output_type": "stream",
     "text": [
      "\n"
     ]
    },
    {
     "name": "stderr",
     "output_type": "stream",
     "text": [
      "==============================\n",
      "*** Open Babel Warning  in ReadMolecule\n",
      "  Failed to kekulize aromatic bonds in MOL2 file (title is 3urh_FAD_1_protein)\n",
      "\n"
     ]
    },
    {
     "name": "stdout",
     "output_type": "stream",
     "text": [
      "\n"
     ]
    },
    {
     "name": "stderr",
     "output_type": "stream",
     "text": [
      "==============================\n",
      "*** Open Babel Warning  in ReadMolecule\n",
      "  Failed to kekulize aromatic bonds in MOL2 file (title is 3qbt_GNP_3_protein)\n",
      "\n"
     ]
    },
    {
     "name": "stdout",
     "output_type": "stream",
     "text": [
      "\n"
     ]
    },
    {
     "name": "stderr",
     "output_type": "stream",
     "text": [
      "==============================\n",
      "*** Open Babel Warning  in ReadMolecule\n",
      "  Failed to kekulize aromatic bonds in MOL2 file (title is 1gjv_AGS_1_protein)\n",
      "\n"
     ]
    },
    {
     "name": "stdout",
     "output_type": "stream",
     "text": [
      "\n"
     ]
    },
    {
     "name": "stderr",
     "output_type": "stream",
     "text": [
      "==============================\n",
      "*** Open Babel Warning  in ReadMolecule\n",
      "  Failed to kekulize aromatic bonds in MOL2 file (title is 4g37_SLU_2_protein)\n",
      "\n"
     ]
    },
    {
     "name": "stdout",
     "output_type": "stream",
     "text": [
      "\n"
     ]
    },
    {
     "name": "stderr",
     "output_type": "stream",
     "text": [
      "==============================\n",
      "*** Open Babel Warning  in ReadMolecule\n",
      "  Failed to kekulize aromatic bonds in MOL2 file (title is 2rcy_NAP_5_protein)\n",
      "\n"
     ]
    },
    {
     "name": "stdout",
     "output_type": "stream",
     "text": [
      "\n"
     ]
    },
    {
     "name": "stderr",
     "output_type": "stream",
     "text": [
      "==============================\n",
      "*** Open Babel Warning  in ReadMolecule\n",
      "  Failed to kekulize aromatic bonds in MOL2 file (title is 2ewn_BTX_1_protein)\n",
      "\n"
     ]
    },
    {
     "name": "stdout",
     "output_type": "stream",
     "text": [
      "\n"
     ]
    },
    {
     "name": "stderr",
     "output_type": "stream",
     "text": [
      "==============================\n",
      "*** Open Babel Warning  in ReadMolecule\n",
      "  Failed to kekulize aromatic bonds in MOL2 file (title is 2q55_MU0_1_protein)\n",
      "\n"
     ]
    },
    {
     "name": "stdout",
     "output_type": "stream",
     "text": [
      "\n"
     ]
    },
    {
     "name": "stderr",
     "output_type": "stream",
     "text": [
      "==============================\n",
      "*** Open Babel Warning  in ReadMolecule\n",
      "  Failed to kekulize aromatic bonds in MOL2 file (title is 1dmy_AZM_2_protein)\n",
      "\n"
     ]
    },
    {
     "name": "stdout",
     "output_type": "stream",
     "text": [
      "\n"
     ]
    },
    {
     "name": "stderr",
     "output_type": "stream",
     "text": [
      "==============================\n",
      "*** Open Babel Warning  in ReadMolecule\n",
      "  Failed to kekulize aromatic bonds in MOL2 file (title is 2g78_REA_1_protein)\n",
      "\n"
     ]
    },
    {
     "name": "stdout",
     "output_type": "stream",
     "text": [
      "\n"
     ]
    },
    {
     "name": "stderr",
     "output_type": "stream",
     "text": [
      "==============================\n",
      "*** Open Babel Warning  in ReadMolecule\n",
      "  Failed to kekulize aromatic bonds in MOL2 file (title is 4cth_RDF_1_protein)\n",
      "\n"
     ]
    },
    {
     "name": "stdout",
     "output_type": "stream",
     "text": [
      "\n"
     ]
    },
    {
     "name": "stderr",
     "output_type": "stream",
     "text": [
      "==============================\n",
      "*** Open Babel Warning  in ReadMolecule\n",
      "  Failed to kekulize aromatic bonds in MOL2 file (title is 3t3z_9PL_2_protein)\n",
      "\n"
     ]
    },
    {
     "name": "stdout",
     "output_type": "stream",
     "text": [
      "\n"
     ]
    },
    {
     "name": "stderr",
     "output_type": "stream",
     "text": [
      "==============================\n",
      "*** Open Babel Warning  in ReadMolecule\n",
      "  Failed to kekulize aromatic bonds in MOL2 file (title is 1kp3_ATP_1_protein)\n",
      "\n"
     ]
    },
    {
     "name": "stdout",
     "output_type": "stream",
     "text": [
      "\n"
     ]
    },
    {
     "name": "stderr",
     "output_type": "stream",
     "text": [
      "==============================\n",
      "*** Open Babel Warning  in ReadMolecule\n",
      "  Failed to kekulize aromatic bonds in MOL2 file (title is 2fle_AI_1_protein)\n",
      "\n"
     ]
    },
    {
     "name": "stdout",
     "output_type": "stream",
     "text": [
      "\n"
     ]
    },
    {
     "name": "stderr",
     "output_type": "stream",
     "text": [
      "==============================\n",
      "*** Open Babel Warning  in ReadMolecule\n",
      "  Failed to kekulize aromatic bonds in MOL2 file (title is 1gul_GLY_GGL_ICY_4_protein)\n",
      "\n"
     ]
    },
    {
     "name": "stdout",
     "output_type": "stream",
     "text": [
      "\n"
     ]
    },
    {
     "name": "stderr",
     "output_type": "stream",
     "text": [
      "==============================\n",
      "*** Open Babel Warning  in ReadMolecule\n",
      "  Failed to kekulize aromatic bonds in MOL2 file (title is 4l1f_COS_2_protein)\n",
      "\n"
     ]
    },
    {
     "name": "stdout",
     "output_type": "stream",
     "text": [
      "\n"
     ]
    },
    {
     "name": "stderr",
     "output_type": "stream",
     "text": [
      "==============================\n",
      "*** Open Babel Warning  in ReadMolecule\n",
      "  Failed to kekulize aromatic bonds in MOL2 file (title is 3gfx_C2E_2_protein)\n",
      "\n"
     ]
    },
    {
     "name": "stdout",
     "output_type": "stream",
     "text": [
      "\n"
     ]
    },
    {
     "name": "stderr",
     "output_type": "stream",
     "text": [
      "==============================\n",
      "*** Open Babel Warning  in ReadMolecule\n",
      "  Failed to kekulize aromatic bonds in MOL2 file (title is 4nv7_COA_1_protein)\n",
      "\n"
     ]
    },
    {
     "name": "stdout",
     "output_type": "stream",
     "text": [
      "\n"
     ]
    },
    {
     "name": "stderr",
     "output_type": "stream",
     "text": [
      "==============================\n",
      "*** Open Babel Warning  in ReadMolecule\n",
      "  Failed to kekulize aromatic bonds in MOL2 file (title is 4mdk_U94_3_protein)\n",
      "\n"
     ]
    },
    {
     "name": "stdout",
     "output_type": "stream",
     "text": [
      "\n"
     ]
    },
    {
     "name": "stderr",
     "output_type": "stream",
     "text": [
      "==============================\n",
      "*** Open Babel Warning  in ReadMolecule\n",
      "  Failed to kekulize aromatic bonds in MOL2 file (title is 2ov2_GCP_2_protein)\n",
      "\n"
     ]
    },
    {
     "name": "stdout",
     "output_type": "stream",
     "text": [
      "\n"
     ]
    },
    {
     "name": "stderr",
     "output_type": "stream",
     "text": [
      "==============================\n",
      "*** Open Babel Warning  in ReadMolecule\n",
      "  Failed to kekulize aromatic bonds in MOL2 file (title is 1wkh_PPE_1_protein)\n",
      "\n"
     ]
    },
    {
     "name": "stdout",
     "output_type": "stream",
     "text": [
      "\n"
     ]
    },
    {
     "name": "stderr",
     "output_type": "stream",
     "text": [
      "==============================\n",
      "*** Open Babel Warning  in ReadMolecule\n",
      "  Failed to kekulize aromatic bonds in MOL2 file (title is 4cg8_G8S_1_protein)\n",
      "\n"
     ]
    },
    {
     "name": "stdout",
     "output_type": "stream",
     "text": [
      "\n"
     ]
    },
    {
     "name": "stderr",
     "output_type": "stream",
     "text": [
      "==============================\n",
      "*** Open Babel Warning  in ReadMolecule\n",
      "  Failed to kekulize aromatic bonds in MOL2 file (title is 1jub_FMN_2_protein)\n",
      "\n"
     ]
    },
    {
     "name": "stdout",
     "output_type": "stream",
     "text": [
      "\n"
     ]
    },
    {
     "name": "stderr",
     "output_type": "stream",
     "text": [
      "==============================\n",
      "*** Open Babel Warning  in ReadMolecule\n",
      "  Failed to kekulize aromatic bonds in MOL2 file (title is 1ml7_PYZ_1_protein)\n",
      "\n"
     ]
    },
    {
     "name": "stdout",
     "output_type": "stream",
     "text": [
      "\n"
     ]
    },
    {
     "name": "stderr",
     "output_type": "stream",
     "text": [
      "==============================\n",
      "*** Open Babel Warning  in ReadMolecule\n",
      "  This Mol2 file is non-standard. Problem with molecule: 3hy3_10F_1_protein Cannot interpret atom types correctly, instead attempting to interpret atom type: NI as elements instead.\n",
      "==============================\n",
      "*** Open Babel Warning  in Translate\n",
      "  Cannot perform atom type translation: table cannot find requested types.\n",
      "==============================\n",
      "*** Open Babel Warning  in ReadMolecule\n",
      "  This Mol2 file is non-standard. Problem with molecule: 3hy3_10F_1_protein Cannot interpret atom types correctly, instead attempting to interpret atom type: NI as elements instead.\n",
      "==============================\n",
      "*** Open Babel Warning  in Translate\n",
      "  Cannot perform atom type translation: table cannot find requested types.\n",
      "==============================\n",
      "*** Open Babel Warning  in ReadMolecule\n",
      "  Failed to kekulize aromatic bonds in MOL2 file (title is 3hy3_10F_1_protein)\n",
      "\n"
     ]
    },
    {
     "name": "stdout",
     "output_type": "stream",
     "text": [
      "\n"
     ]
    },
    {
     "name": "stderr",
     "output_type": "stream",
     "text": [
      "==============================\n",
      "*** Open Babel Warning  in ReadMolecule\n",
      "  Failed to kekulize aromatic bonds in MOL2 file (title is 4qtn_NNR_3_protein)\n",
      "\n"
     ]
    },
    {
     "name": "stdout",
     "output_type": "stream",
     "text": [
      "\n"
     ]
    },
    {
     "name": "stderr",
     "output_type": "stream",
     "text": [
      "==============================\n",
      "*** Open Babel Warning  in ReadMolecule\n",
      "  Failed to kekulize aromatic bonds in MOL2 file (title is 3uwl_FOZ_2_protein)\n",
      "\n"
     ]
    },
    {
     "name": "stdout",
     "output_type": "stream",
     "text": [
      "\n"
     ]
    },
    {
     "name": "stderr",
     "output_type": "stream",
     "text": [
      "==============================\n",
      "*** Open Babel Warning  in ReadMolecule\n",
      "  Failed to kekulize aromatic bonds in MOL2 file (title is 4bae_RWX_3_protein)\n",
      "\n"
     ]
    },
    {
     "name": "stdout",
     "output_type": "stream",
     "text": [
      "\n"
     ]
    },
    {
     "name": "stderr",
     "output_type": "stream",
     "text": [
      "==============================\n",
      "*** Open Babel Warning  in ReadMolecule\n",
      "  Failed to kekulize aromatic bonds in MOL2 file (title is 3acx_673_1_protein)\n",
      "\n"
     ]
    },
    {
     "name": "stdout",
     "output_type": "stream",
     "text": [
      "\n"
     ]
    },
    {
     "name": "stderr",
     "output_type": "stream",
     "text": [
      "==============================\n",
      "*** Open Babel Warning  in ReadMolecule\n",
      "  Failed to kekulize aromatic bonds in MOL2 file (title is 2vt3_ATP_2_protein)\n",
      "\n"
     ]
    },
    {
     "name": "stdout",
     "output_type": "stream",
     "text": [
      "\n"
     ]
    },
    {
     "name": "stderr",
     "output_type": "stream",
     "text": [
      "==============================\n",
      "*** Open Babel Warning  in ReadMolecule\n",
      "  Failed to kekulize aromatic bonds in MOL2 file (title is 3h3f_NAI_6_protein)\n",
      "\n"
     ]
    },
    {
     "name": "stdout",
     "output_type": "stream",
     "text": [
      "\n"
     ]
    },
    {
     "name": "stderr",
     "output_type": "stream",
     "text": [
      "==============================\n",
      "*** Open Babel Warning  in ReadMolecule\n",
      "  Failed to kekulize aromatic bonds in MOL2 file (title is 5j3w_FMN_4_protein)\n",
      "\n"
     ]
    },
    {
     "name": "stdout",
     "output_type": "stream",
     "text": [
      "\n"
     ]
    },
    {
     "name": "stderr",
     "output_type": "stream",
     "text": [
      "==============================\n",
      "*** Open Babel Warning  in ReadMolecule\n",
      "  Failed to kekulize aromatic bonds in MOL2 file (title is 4ywj_NAD_1_protein)\n",
      "\n"
     ]
    },
    {
     "name": "stdout",
     "output_type": "stream",
     "text": [
      "\n"
     ]
    },
    {
     "name": "stderr",
     "output_type": "stream",
     "text": [
      "==============================\n",
      "*** Open Babel Warning  in ReadMolecule\n",
      "  Failed to kekulize aromatic bonds in MOL2 file (title is 2glx_NDP_2_protein)\n",
      "\n"
     ]
    },
    {
     "name": "stdout",
     "output_type": "stream",
     "text": [
      "\n"
     ]
    },
    {
     "name": "stderr",
     "output_type": "stream",
     "text": [
      "==============================\n",
      "*** Open Babel Warning  in ReadMolecule\n",
      "  Failed to kekulize aromatic bonds in MOL2 file (title is 2g76_NAD_1_protein)\n",
      "\n"
     ]
    },
    {
     "name": "stdout",
     "output_type": "stream",
     "text": [
      "\n"
     ]
    },
    {
     "name": "stderr",
     "output_type": "stream",
     "text": [
      "==============================\n",
      "*** Open Babel Warning  in ReadMolecule\n",
      "  Failed to kekulize aromatic bonds in MOL2 file (title is 2j5b_TYE_2_protein)\n",
      "\n"
     ]
    },
    {
     "name": "stdout",
     "output_type": "stream",
     "text": [
      "\n"
     ]
    },
    {
     "name": "stderr",
     "output_type": "stream",
     "text": [
      "==============================\n",
      "*** Open Babel Warning  in ReadMolecule\n",
      "  Failed to kekulize aromatic bonds in MOL2 file (title is 3fpa_DTB_1_protein)\n",
      "\n"
     ]
    },
    {
     "name": "stdout",
     "output_type": "stream",
     "text": [
      "\n"
     ]
    },
    {
     "name": "stderr",
     "output_type": "stream",
     "text": [
      "==============================\n",
      "*** Open Babel Warning  in ReadMolecule\n",
      "  Failed to kekulize aromatic bonds in MOL2 file (title is 3b6h_MXD_2_protein)\n",
      "\n"
     ]
    },
    {
     "name": "stdout",
     "output_type": "stream",
     "text": [
      "\n"
     ]
    },
    {
     "name": "stderr",
     "output_type": "stream",
     "text": [
      "==============================\n",
      "*** Open Babel Warning  in ReadMolecule\n",
      "  Failed to kekulize aromatic bonds in MOL2 file (title is 3m6i_NAD_1_protein)\n",
      "\n"
     ]
    },
    {
     "name": "stdout",
     "output_type": "stream",
     "text": [
      "\n"
     ]
    },
    {
     "name": "stderr",
     "output_type": "stream",
     "text": [
      "==============================\n",
      "*** Open Babel Warning  in ReadMolecule\n",
      "  Failed to kekulize aromatic bonds in MOL2 file (title is 1ja1_FAD_1_protein)\n",
      "\n"
     ]
    },
    {
     "name": "stdout",
     "output_type": "stream",
     "text": [
      "\n"
     ]
    },
    {
     "name": "stderr",
     "output_type": "stream",
     "text": [
      "==============================\n",
      "*** Open Babel Warning  in ReadMolecule\n",
      "  Failed to kekulize aromatic bonds in MOL2 file (title is 4lsm_NAD_2_protein)\n",
      "\n"
     ]
    },
    {
     "name": "stdout",
     "output_type": "stream",
     "text": [
      "\n"
     ]
    },
    {
     "name": "stderr",
     "output_type": "stream",
     "text": [
      "==============================\n",
      "*** Open Babel Warning  in ReadMolecule\n",
      "  Failed to kekulize aromatic bonds in MOL2 file (title is 5a01_12V_1_protein)\n",
      "\n"
     ]
    },
    {
     "name": "stdout",
     "output_type": "stream",
     "text": [
      "\n"
     ]
    },
    {
     "name": "stderr",
     "output_type": "stream",
     "text": [
      "==============================\n",
      "*** Open Babel Warning  in ReadMolecule\n",
      "  Failed to kekulize aromatic bonds in MOL2 file (title is 1p4r_354_2_protein)\n",
      "\n"
     ]
    },
    {
     "name": "stdout",
     "output_type": "stream",
     "text": [
      "\n"
     ]
    },
    {
     "name": "stderr",
     "output_type": "stream",
     "text": [
      "==============================\n",
      "*** Open Babel Warning  in ReadMolecule\n",
      "  Failed to kekulize aromatic bonds in MOL2 file (title is 3r5z_F42_2_protein)\n",
      "\n"
     ]
    },
    {
     "name": "stdout",
     "output_type": "stream",
     "text": [
      "\n"
     ]
    },
    {
     "name": "stderr",
     "output_type": "stream",
     "text": [
      "==============================\n",
      "*** Open Babel Warning  in ReadMolecule\n",
      "  Failed to kekulize aromatic bonds in MOL2 file (title is 3zdf_NAD_2_protein)\n",
      "\n"
     ]
    },
    {
     "name": "stdout",
     "output_type": "stream",
     "text": [
      "\n"
     ]
    },
    {
     "name": "stderr",
     "output_type": "stream",
     "text": [
      "==============================\n",
      "*** Open Babel Warning  in ReadMolecule\n",
      "  Failed to kekulize aromatic bonds in MOL2 file (title is 3glu_LYS_VAL_MET_1_protein)\n",
      "\n"
     ]
    },
    {
     "name": "stdout",
     "output_type": "stream",
     "text": [
      "\n"
     ]
    },
    {
     "name": "stderr",
     "output_type": "stream",
     "text": [
      "==============================\n",
      "*** Open Babel Warning  in ReadMolecule\n",
      "  Failed to kekulize aromatic bonds in MOL2 file (title is 1n7g_NDP_3_protein)\n",
      "\n"
     ]
    },
    {
     "name": "stdout",
     "output_type": "stream",
     "text": [
      "\n"
     ]
    },
    {
     "name": "stderr",
     "output_type": "stream",
     "text": [
      "==============================\n",
      "*** Open Babel Warning  in ReadMolecule\n",
      "  Failed to kekulize aromatic bonds in MOL2 file (title is 2fq6_P3F_2_protein)\n",
      "\n"
     ]
    },
    {
     "name": "stdout",
     "output_type": "stream",
     "text": [
      "\n"
     ]
    },
    {
     "name": "stderr",
     "output_type": "stream",
     "text": [
      "==============================\n",
      "*** Open Babel Warning  in ReadMolecule\n",
      "  Failed to kekulize aromatic bonds in MOL2 file (title is 3cw9_01A_2_protein)\n",
      "\n"
     ]
    },
    {
     "name": "stdout",
     "output_type": "stream",
     "text": [
      "\n"
     ]
    },
    {
     "name": "stderr",
     "output_type": "stream",
     "text": [
      "==============================\n",
      "*** Open Babel Warning  in ReadMolecule\n",
      "  Failed to kekulize aromatic bonds in MOL2 file (title is 4om8_NAD_1_protein)\n",
      "\n"
     ]
    },
    {
     "name": "stdout",
     "output_type": "stream",
     "text": [
      "\n"
     ]
    },
    {
     "name": "stderr",
     "output_type": "stream",
     "text": [
      "==============================\n",
      "*** Open Babel Warning  in ReadMolecule\n",
      "  Failed to kekulize aromatic bonds in MOL2 file (title is 4b4d_FAD_1_protein)\n",
      "\n"
     ]
    },
    {
     "name": "stdout",
     "output_type": "stream",
     "text": [
      "\n"
     ]
    },
    {
     "name": "stderr",
     "output_type": "stream",
     "text": [
      "==============================\n",
      "*** Open Babel Warning  in ReadMolecule\n",
      "  Failed to kekulize aromatic bonds in MOL2 file (title is 5bt9_NAP_3_protein)\n",
      "\n"
     ]
    },
    {
     "name": "stdout",
     "output_type": "stream",
     "text": [
      "\n"
     ]
    },
    {
     "name": "stderr",
     "output_type": "stream",
     "text": [
      "==============================\n",
      "*** Open Babel Warning  in ReadMolecule\n",
      "  Failed to kekulize aromatic bonds in MOL2 file (title is 3qbd_NAD_2_protein)\n",
      "\n"
     ]
    },
    {
     "name": "stdout",
     "output_type": "stream",
     "text": [
      "\n"
     ]
    },
    {
     "name": "stderr",
     "output_type": "stream",
     "text": [
      "==============================\n",
      "*** Open Babel Warning  in ReadMolecule\n",
      "  Failed to kekulize aromatic bonds in MOL2 file (title is 1xuz_MMN_1_protein)\n",
      "\n"
     ]
    },
    {
     "name": "stdout",
     "output_type": "stream",
     "text": [
      "\n"
     ]
    },
    {
     "name": "stderr",
     "output_type": "stream",
     "text": [
      "==============================\n",
      "*** Open Babel Warning  in ReadMolecule\n",
      "  Failed to kekulize aromatic bonds in MOL2 file (title is 1ht2_ADP_4_protein)\n",
      "\n"
     ]
    },
    {
     "name": "stdout",
     "output_type": "stream",
     "text": [
      "\n"
     ]
    },
    {
     "name": "stderr",
     "output_type": "stream",
     "text": [
      "==============================\n",
      "*** Open Babel Warning  in ReadMolecule\n",
      "  Failed to kekulize aromatic bonds in MOL2 file (title is 4mgr_IMD_4_protein)\n",
      "\n"
     ]
    },
    {
     "name": "stdout",
     "output_type": "stream",
     "text": [
      "\n"
     ]
    },
    {
     "name": "stderr",
     "output_type": "stream",
     "text": [
      "==============================\n",
      "*** Open Babel Warning  in ReadMolecule\n",
      "  Failed to kekulize aromatic bonds in MOL2 file (title is 2d06_EST_1_protein)\n",
      "\n"
     ]
    },
    {
     "name": "stdout",
     "output_type": "stream",
     "text": [
      "\n"
     ]
    },
    {
     "name": "stderr",
     "output_type": "stream",
     "text": [
      "==============================\n",
      "*** Open Babel Warning  in ReadMolecule\n",
      "  Failed to kekulize aromatic bonds in MOL2 file (title is 3upt_TPP_1_protein)\n",
      "\n"
     ]
    },
    {
     "name": "stdout",
     "output_type": "stream",
     "text": [
      "\n"
     ]
    },
    {
     "name": "stderr",
     "output_type": "stream",
     "text": [
      "==============================\n",
      "*** Open Babel Warning  in ReadMolecule\n",
      "  Failed to kekulize aromatic bonds in MOL2 file (title is 4z24_FAD_2_protein)\n",
      "\n"
     ]
    },
    {
     "name": "stdout",
     "output_type": "stream",
     "text": [
      "\n"
     ]
    },
    {
     "name": "stderr",
     "output_type": "stream",
     "text": [
      "==============================\n",
      "*** Open Babel Warning  in ReadMolecule\n",
      "  Failed to kekulize aromatic bonds in MOL2 file (title is 4iv6_FDA_1_protein)\n",
      "\n"
     ]
    },
    {
     "name": "stdout",
     "output_type": "stream",
     "text": [
      "\n"
     ]
    },
    {
     "name": "stderr",
     "output_type": "stream",
     "text": [
      "==============================\n",
      "*** Open Babel Warning  in ReadMolecule\n",
      "  Failed to kekulize aromatic bonds in MOL2 file (title is 4hz5_19Y_3_protein)\n",
      "\n"
     ]
    },
    {
     "name": "stdout",
     "output_type": "stream",
     "text": [
      "\n"
     ]
    },
    {
     "name": "stderr",
     "output_type": "stream",
     "text": [
      "==============================\n",
      "*** Open Babel Warning  in ReadMolecule\n",
      "  Failed to kekulize aromatic bonds in MOL2 file (title is 2d3a_ADP_6_protein)\n",
      "\n"
     ]
    },
    {
     "name": "stdout",
     "output_type": "stream",
     "text": [
      "\n"
     ]
    },
    {
     "name": "stderr",
     "output_type": "stream",
     "text": [
      "==============================\n",
      "*** Open Babel Warning  in ReadMolecule\n",
      "  Failed to kekulize aromatic bonds in MOL2 file (title is 2bto_GTP_2_protein)\n",
      "\n"
     ]
    },
    {
     "name": "stdout",
     "output_type": "stream",
     "text": [
      "\n"
     ]
    },
    {
     "name": "stderr",
     "output_type": "stream",
     "text": [
      "==============================\n",
      "*** Open Babel Warning  in ReadMolecule\n",
      "  Failed to kekulize aromatic bonds in MOL2 file (title is 3zj6_VM2_2_protein)\n",
      "\n"
     ]
    },
    {
     "name": "stdout",
     "output_type": "stream",
     "text": [
      "\n"
     ]
    },
    {
     "name": "stderr",
     "output_type": "stream",
     "text": [
      "==============================\n",
      "*** Open Babel Warning  in ReadMolecule\n",
      "  Failed to kekulize aromatic bonds in MOL2 file (title is 5e6y_ACX_1_protein)\n",
      "\n"
     ]
    },
    {
     "name": "stdout",
     "output_type": "stream",
     "text": [
      "\n"
     ]
    },
    {
     "name": "stderr",
     "output_type": "stream",
     "text": [
      "==============================\n",
      "*** Open Babel Warning  in ReadMolecule\n",
      "  Failed to kekulize aromatic bonds in MOL2 file (title is 2hnk_SAH_3_protein)\n",
      "\n"
     ]
    },
    {
     "name": "stdout",
     "output_type": "stream",
     "text": [
      "\n"
     ]
    },
    {
     "name": "stderr",
     "output_type": "stream",
     "text": [
      "==============================\n",
      "*** Open Babel Warning  in ReadMolecule\n",
      "  Failed to kekulize aromatic bonds in MOL2 file (title is 3c41_ANP_1_protein)\n",
      "\n"
     ]
    },
    {
     "name": "stdout",
     "output_type": "stream",
     "text": [
      "\n"
     ]
    },
    {
     "name": "stderr",
     "output_type": "stream",
     "text": [
      "==============================\n",
      "*** Open Babel Warning  in ReadMolecule\n",
      "  Failed to kekulize aromatic bonds in MOL2 file (title is 2o12_FMN_1_protein)\n",
      "\n"
     ]
    },
    {
     "name": "stdout",
     "output_type": "stream",
     "text": [
      "\n"
     ]
    },
    {
     "name": "stderr",
     "output_type": "stream",
     "text": [
      "==============================\n",
      "*** Open Babel Warning  in ReadMolecule\n",
      "  Failed to kekulize aromatic bonds in MOL2 file (title is 4aoj_V4Z_3_protein)\n",
      "\n"
     ]
    },
    {
     "name": "stdout",
     "output_type": "stream",
     "text": [
      "\n"
     ]
    },
    {
     "name": "stderr",
     "output_type": "stream",
     "text": [
      "==============================\n",
      "*** Open Babel Warning  in ReadMolecule\n",
      "  Failed to kekulize aromatic bonds in MOL2 file (title is 1gvh_FAD_1_protein)\n",
      "\n"
     ]
    },
    {
     "name": "stdout",
     "output_type": "stream",
     "text": [
      "\n"
     ]
    },
    {
     "name": "stderr",
     "output_type": "stream",
     "text": [
      "==============================\n",
      "*** Open Babel Warning  in ReadMolecule\n",
      "  Failed to kekulize aromatic bonds in MOL2 file (title is 1f52_ADP_4_protein)\n",
      "\n"
     ]
    },
    {
     "name": "stdout",
     "output_type": "stream",
     "text": [
      "\n"
     ]
    },
    {
     "name": "stderr",
     "output_type": "stream",
     "text": [
      "==============================\n",
      "*** Open Babel Warning  in ReadMolecule\n",
      "  Failed to kekulize aromatic bonds in MOL2 file (title is 3kko_GNP_2_protein)\n",
      "\n"
     ]
    },
    {
     "name": "stdout",
     "output_type": "stream",
     "text": [
      "\n"
     ]
    },
    {
     "name": "stderr",
     "output_type": "stream",
     "text": [
      "==============================\n",
      "*** Open Babel Warning  in ReadMolecule\n",
      "  Failed to kekulize aromatic bonds in MOL2 file (title is 4fc7_NAP_3_protein)\n",
      "\n"
     ]
    },
    {
     "name": "stdout",
     "output_type": "stream",
     "text": [
      "\n"
     ]
    },
    {
     "name": "stderr",
     "output_type": "stream",
     "text": [
      "==============================\n",
      "*** Open Babel Warning  in ReadMolecule\n",
      "  Failed to kekulize aromatic bonds in MOL2 file (title is 3iiq_JZA_2_protein)\n",
      "\n"
     ]
    },
    {
     "name": "stdout",
     "output_type": "stream",
     "text": [
      "\n"
     ]
    },
    {
     "name": "stderr",
     "output_type": "stream",
     "text": [
      "==============================\n",
      "*** Open Babel Warning  in ReadMolecule\n",
      "  Failed to kekulize aromatic bonds in MOL2 file (title is 3da1_FAD_1_protein)\n",
      "\n"
     ]
    },
    {
     "name": "stdout",
     "output_type": "stream",
     "text": [
      "\n"
     ]
    },
    {
     "name": "stderr",
     "output_type": "stream",
     "text": [
      "==============================\n",
      "*** Open Babel Warning  in ReadMolecule\n",
      "  Failed to kekulize aromatic bonds in MOL2 file (title is 3iqe_H4M_5_protein)\n",
      "\n"
     ]
    },
    {
     "name": "stdout",
     "output_type": "stream",
     "text": [
      "\n"
     ]
    },
    {
     "name": "stderr",
     "output_type": "stream",
     "text": [
      "==============================\n",
      "*** Open Babel Warning  in ReadMolecule\n",
      "  Failed to kekulize aromatic bonds in MOL2 file (title is 2zoz_ET_1_protein)\n",
      "\n"
     ]
    },
    {
     "name": "stdout",
     "output_type": "stream",
     "text": [
      "\n"
     ]
    },
    {
     "name": "stderr",
     "output_type": "stream",
     "text": [
      "==============================\n",
      "*** Open Babel Warning  in ReadMolecule\n",
      "  Failed to kekulize aromatic bonds in MOL2 file (title is 1rfu_ADP_11_protein)\n",
      "\n"
     ]
    },
    {
     "name": "stdout",
     "output_type": "stream",
     "text": [
      "\n"
     ]
    },
    {
     "name": "stderr",
     "output_type": "stream",
     "text": [
      "==============================\n",
      "*** Open Babel Warning  in ReadMolecule\n",
      "  Failed to kekulize aromatic bonds in MOL2 file (title is 2dxe_GDP_1_protein)\n",
      "\n"
     ]
    },
    {
     "name": "stdout",
     "output_type": "stream",
     "text": [
      "\n"
     ]
    },
    {
     "name": "stderr",
     "output_type": "stream",
     "text": [
      "==============================\n",
      "*** Open Babel Warning  in ReadMolecule\n",
      "  Failed to kekulize aromatic bonds in MOL2 file (title is 4gyi_ADP_1_protein)\n",
      "\n"
     ]
    },
    {
     "name": "stdout",
     "output_type": "stream",
     "text": [
      "\n"
     ]
    },
    {
     "name": "stderr",
     "output_type": "stream",
     "text": [
      "==============================\n",
      "*** Open Babel Warning  in ReadMolecule\n",
      "  Failed to kekulize aromatic bonds in MOL2 file (title is 4r9u_ANP_1_protein)\n",
      "\n"
     ]
    },
    {
     "name": "stdout",
     "output_type": "stream",
     "text": [
      "\n"
     ]
    },
    {
     "name": "stderr",
     "output_type": "stream",
     "text": [
      "==============================\n",
      "*** Open Babel Warning  in ReadMolecule\n",
      "  Failed to kekulize aromatic bonds in MOL2 file (title is 1w2x_RCP_3_protein)\n",
      "\n"
     ]
    },
    {
     "name": "stdout",
     "output_type": "stream",
     "text": [
      "\n"
     ]
    },
    {
     "name": "stderr",
     "output_type": "stream",
     "text": [
      "==============================\n",
      "*** Open Babel Warning  in ReadMolecule\n",
      "  Failed to kekulize aromatic bonds in MOL2 file (title is 4yv5_SVR_2_protein)\n",
      "\n"
     ]
    },
    {
     "name": "stdout",
     "output_type": "stream",
     "text": [
      "\n"
     ]
    },
    {
     "name": "stderr",
     "output_type": "stream",
     "text": [
      "==============================\n",
      "*** Open Babel Warning  in ReadMolecule\n",
      "  Failed to kekulize aromatic bonds in MOL2 file (title is 2q16_ITT_1_protein)\n",
      "\n"
     ]
    },
    {
     "name": "stdout",
     "output_type": "stream",
     "text": [
      "\n"
     ]
    },
    {
     "name": "stderr",
     "output_type": "stream",
     "text": [
      "==============================\n",
      "*** Open Babel Warning  in ReadMolecule\n",
      "  Failed to kekulize aromatic bonds in MOL2 file (title is 4fk8_FAD_1_protein)\n",
      "\n"
     ]
    },
    {
     "name": "stdout",
     "output_type": "stream",
     "text": [
      "\n"
     ]
    },
    {
     "name": "stderr",
     "output_type": "stream",
     "text": [
      "==============================\n",
      "*** Open Babel Warning  in ReadMolecule\n",
      "  Failed to kekulize aromatic bonds in MOL2 file (title is 1z0d_GDP_1_protein)\n",
      "\n"
     ]
    },
    {
     "name": "stdout",
     "output_type": "stream",
     "text": [
      "\n"
     ]
    },
    {
     "name": "stderr",
     "output_type": "stream",
     "text": [
      "==============================\n",
      "*** Open Babel Warning  in ReadMolecule\n",
      "  Failed to kekulize aromatic bonds in MOL2 file (title is 1tco_FK5_1_protein)\n",
      "\n"
     ]
    },
    {
     "name": "stdout",
     "output_type": "stream",
     "text": [
      "\n"
     ]
    },
    {
     "name": "stderr",
     "output_type": "stream",
     "text": [
      "==============================\n",
      "*** Open Babel Warning  in ReadMolecule\n",
      "  Failed to kekulize aromatic bonds in MOL2 file (title is 3sj7_NDP_1_protein)\n",
      "\n"
     ]
    },
    {
     "name": "stdout",
     "output_type": "stream",
     "text": [
      "\n"
     ]
    },
    {
     "name": "stderr",
     "output_type": "stream",
     "text": [
      "==============================\n",
      "*** Open Babel Warning  in ReadMolecule\n",
      "  Failed to kekulize aromatic bonds in MOL2 file (title is 2j83_BAT_2_protein)\n",
      "\n"
     ]
    },
    {
     "name": "stdout",
     "output_type": "stream",
     "text": [
      "\n"
     ]
    },
    {
     "name": "stderr",
     "output_type": "stream",
     "text": [
      "==============================\n",
      "*** Open Babel Warning  in ReadMolecule\n",
      "  Failed to kekulize aromatic bonds in MOL2 file (title is 2xi4_AFT_2_protein)\n",
      "\n"
     ]
    },
    {
     "name": "stdout",
     "output_type": "stream",
     "text": [
      "\n"
     ]
    },
    {
     "name": "stderr",
     "output_type": "stream",
     "text": [
      "==============================\n",
      "*** Open Babel Warning  in ReadMolecule\n",
      "  Failed to kekulize aromatic bonds in MOL2 file (title is 1ych_FMN_4_protein)\n",
      "\n"
     ]
    },
    {
     "name": "stdout",
     "output_type": "stream",
     "text": [
      "\n"
     ]
    },
    {
     "name": "stderr",
     "output_type": "stream",
     "text": [
      "==============================\n",
      "*** Open Babel Warning  in ReadMolecule\n",
      "  This Mol2 file is non-standard. Problem with molecule: 3vq4_0NX_2_protein Cannot interpret atom types correctly, instead attempting to interpret atom type: CD as elements instead.\n",
      "==============================\n",
      "*** Open Babel Warning  in Translate\n",
      "  Cannot perform atom type translation: table cannot find requested types.\n",
      "==============================\n",
      "*** Open Babel Warning  in ReadMolecule\n",
      "  This Mol2 file is non-standard. Problem with molecule: 3vq4_0NX_2_protein Cannot interpret atom types correctly, instead attempting to interpret atom type: CD as elements instead.\n",
      "==============================\n",
      "*** Open Babel Warning  in Translate\n",
      "  Cannot perform atom type translation: table cannot find requested types.\n",
      "==============================\n",
      "*** Open Babel Warning  in ReadMolecule\n",
      "  This Mol2 file is non-standard. Problem with molecule: 3vq4_0NX_2_protein Cannot interpret atom types correctly, instead attempting to interpret atom type: CD as elements instead.\n",
      "==============================\n",
      "*** Open Babel Warning  in Translate\n",
      "  Cannot perform atom type translation: table cannot find requested types.\n",
      "==============================\n",
      "*** Open Babel Warning  in ReadMolecule\n",
      "  This Mol2 file is non-standard. Problem with molecule: 3vq4_0NX_2_protein Cannot interpret atom types correctly, instead attempting to interpret atom type: CD as elements instead.\n",
      "==============================\n",
      "*** Open Babel Warning  in Translate\n",
      "  Cannot perform atom type translation: table cannot find requested types.\n",
      "==============================\n",
      "*** Open Babel Warning  in ReadMolecule\n",
      "  Failed to kekulize aromatic bonds in MOL2 file (title is 3vq4_0NX_2_protein)\n",
      "\n"
     ]
    },
    {
     "name": "stdout",
     "output_type": "stream",
     "text": [
      "\n"
     ]
    },
    {
     "name": "stderr",
     "output_type": "stream",
     "text": [
      "==============================\n",
      "*** Open Babel Warning  in ReadMolecule\n",
      "  Failed to kekulize aromatic bonds in MOL2 file (title is 4j16_NAD_1_protein)\n",
      "\n"
     ]
    },
    {
     "name": "stdout",
     "output_type": "stream",
     "text": [
      "\n"
     ]
    },
    {
     "name": "stderr",
     "output_type": "stream",
     "text": [
      "==============================\n",
      "*** Open Babel Warning  in ReadMolecule\n",
      "  Failed to kekulize aromatic bonds in MOL2 file (title is 3lcc_SAH_1_protein)\n",
      "\n"
     ]
    },
    {
     "name": "stdout",
     "output_type": "stream",
     "text": [
      "\n"
     ]
    },
    {
     "name": "stderr",
     "output_type": "stream",
     "text": [
      "==============================\n",
      "*** Open Babel Warning  in ReadMolecule\n",
      "  Failed to kekulize aromatic bonds in MOL2 file (title is 3lin_E13_3_protein)\n",
      "\n"
     ]
    },
    {
     "name": "stdout",
     "output_type": "stream",
     "text": [
      "\n"
     ]
    },
    {
     "name": "stderr",
     "output_type": "stream",
     "text": [
      "==============================\n",
      "*** Open Babel Warning  in ReadMolecule\n",
      "  Failed to kekulize aromatic bonds in MOL2 file (title is 4idn_GNP_1_protein)\n",
      "\n"
     ]
    },
    {
     "name": "stdout",
     "output_type": "stream",
     "text": [
      "\n"
     ]
    },
    {
     "name": "stderr",
     "output_type": "stream",
     "text": [
      "==============================\n",
      "*** Open Babel Warning  in ReadMolecule\n",
      "  Failed to kekulize aromatic bonds in MOL2 file (title is 2eg2_ATP_1_protein)\n",
      "\n"
     ]
    },
    {
     "name": "stdout",
     "output_type": "stream",
     "text": [
      "\n"
     ]
    },
    {
     "name": "stderr",
     "output_type": "stream",
     "text": [
      "==============================\n",
      "*** Open Babel Warning  in ReadMolecule\n",
      "  Failed to kekulize aromatic bonds in MOL2 file (title is 2xcm_ADP_1_protein)\n",
      "\n"
     ]
    },
    {
     "name": "stdout",
     "output_type": "stream",
     "text": [
      "\n"
     ]
    },
    {
     "name": "stderr",
     "output_type": "stream",
     "text": [
      "==============================\n",
      "*** Open Babel Warning  in ReadMolecule\n",
      "  Failed to kekulize aromatic bonds in MOL2 file (title is 1ofd_FMN_1_protein)\n",
      "\n"
     ]
    },
    {
     "name": "stdout",
     "output_type": "stream",
     "text": [
      "\n"
     ]
    },
    {
     "name": "stderr",
     "output_type": "stream",
     "text": [
      "==============================\n",
      "*** Open Babel Warning  in ReadMolecule\n",
      "  Failed to kekulize aromatic bonds in MOL2 file (title is 4b4w_NAP_3_protein)\n",
      "\n"
     ]
    },
    {
     "name": "stdout",
     "output_type": "stream",
     "text": [
      "\n"
     ]
    },
    {
     "name": "stderr",
     "output_type": "stream",
     "text": [
      "==============================\n",
      "*** Open Babel Warning  in ReadMolecule\n",
      "  Failed to kekulize aromatic bonds in MOL2 file (title is 2qcu_FAD_3_protein)\n",
      "\n"
     ]
    },
    {
     "name": "stdout",
     "output_type": "stream",
     "text": [
      "\n"
     ]
    },
    {
     "name": "stderr",
     "output_type": "stream",
     "text": [
      "==============================\n",
      "*** Open Babel Warning  in ReadMolecule\n",
      "  Failed to kekulize aromatic bonds in MOL2 file (title is 4mlp_2CX_3_protein)\n",
      "\n"
     ]
    },
    {
     "name": "stdout",
     "output_type": "stream",
     "text": [
      "\n"
     ]
    },
    {
     "name": "stderr",
     "output_type": "stream",
     "text": [
      "==============================\n",
      "*** Open Babel Warning  in ReadMolecule\n",
      "  Failed to kekulize aromatic bonds in MOL2 file (title is 2du2_FMN_1_protein)\n",
      "\n"
     ]
    },
    {
     "name": "stdout",
     "output_type": "stream",
     "text": [
      "\n"
     ]
    },
    {
     "name": "stderr",
     "output_type": "stream",
     "text": [
      "==============================\n",
      "*** Open Babel Warning  in ReadMolecule\n",
      "  Failed to kekulize aromatic bonds in MOL2 file (title is 1ihx_SND_3_protein)\n",
      "\n"
     ]
    },
    {
     "name": "stdout",
     "output_type": "stream",
     "text": [
      "\n"
     ]
    },
    {
     "name": "stderr",
     "output_type": "stream",
     "text": [
      "==============================\n",
      "*** Open Babel Warning  in ReadMolecule\n",
      "  Failed to kekulize aromatic bonds in MOL2 file (title is 4hr2_ADP_2_protein)\n",
      "\n"
     ]
    },
    {
     "name": "stdout",
     "output_type": "stream",
     "text": [
      "\n"
     ]
    },
    {
     "name": "stderr",
     "output_type": "stream",
     "text": [
      "==============================\n",
      "*** Open Babel Warning  in ReadMolecule\n",
      "  Failed to kekulize aromatic bonds in MOL2 file (title is 2v1x_ADP_1_protein)\n",
      "\n"
     ]
    },
    {
     "name": "stdout",
     "output_type": "stream",
     "text": [
      "\n"
     ]
    },
    {
     "name": "stderr",
     "output_type": "stream",
     "text": [
      "==============================\n",
      "*** Open Babel Warning  in ReadMolecule\n",
      "  Failed to kekulize aromatic bonds in MOL2 file (title is 3m3z_3F5_1_protein)\n",
      "\n"
     ]
    },
    {
     "name": "stdout",
     "output_type": "stream",
     "text": [
      "\n"
     ]
    },
    {
     "name": "stderr",
     "output_type": "stream",
     "text": [
      "==============================\n",
      "*** Open Babel Warning  in ReadMolecule\n",
      "  Failed to kekulize aromatic bonds in MOL2 file (title is 4kqr_VPP_1_protein)\n",
      "\n"
     ]
    },
    {
     "name": "stdout",
     "output_type": "stream",
     "text": [
      "\n"
     ]
    },
    {
     "name": "stderr",
     "output_type": "stream",
     "text": [
      "==============================\n",
      "*** Open Babel Warning  in ReadMolecule\n",
      "  Failed to kekulize aromatic bonds in MOL2 file (title is 4xjx_ATP_1_protein)\n",
      "\n"
     ]
    },
    {
     "name": "stdout",
     "output_type": "stream",
     "text": [
      "\n"
     ]
    },
    {
     "name": "stderr",
     "output_type": "stream",
     "text": [
      "==============================\n",
      "*** Open Babel Warning  in ReadMolecule\n",
      "  Failed to kekulize aromatic bonds in MOL2 file (title is 2vq5_LDP_2_protein)\n",
      "\n"
     ]
    },
    {
     "name": "stdout",
     "output_type": "stream",
     "text": [
      "\n"
     ]
    },
    {
     "name": "stderr",
     "output_type": "stream",
     "text": [
      "==============================\n",
      "*** Open Babel Warning  in ReadMolecule\n",
      "  Failed to kekulize aromatic bonds in MOL2 file (title is 5dw0_PLS_2_protein)\n",
      "\n"
     ]
    },
    {
     "name": "stdout",
     "output_type": "stream",
     "text": [
      "\n"
     ]
    },
    {
     "name": "stderr",
     "output_type": "stream",
     "text": [
      "==============================\n",
      "*** Open Babel Warning  in ReadMolecule\n",
      "  Failed to kekulize aromatic bonds in MOL2 file (title is 3l4d_TPF_1_protein)\n",
      "\n"
     ]
    },
    {
     "name": "stdout",
     "output_type": "stream",
     "text": [
      "\n"
     ]
    },
    {
     "name": "stderr",
     "output_type": "stream",
     "text": [
      "==============================\n",
      "*** Open Babel Warning  in ReadMolecule\n",
      "  This Mol2 file is non-standard. Problem with molecule: 3c2q_IMD_1_protein Cannot interpret atom types correctly, instead attempting to interpret atom type: NI as elements instead.\n",
      "==============================\n",
      "*** Open Babel Warning  in Translate\n",
      "  Cannot perform atom type translation: table cannot find requested types.\n",
      "==============================\n",
      "*** Open Babel Warning  in ReadMolecule\n",
      "  Failed to kekulize aromatic bonds in MOL2 file (title is 3c2q_IMD_1_protein)\n",
      "\n"
     ]
    },
    {
     "name": "stdout",
     "output_type": "stream",
     "text": [
      "\n"
     ]
    },
    {
     "name": "stderr",
     "output_type": "stream",
     "text": [
      "==============================\n",
      "*** Open Babel Warning  in ReadMolecule\n",
      "  Failed to kekulize aromatic bonds in MOL2 file (title is 1bkg_MAE_1_protein)\n",
      "\n"
     ]
    },
    {
     "name": "stdout",
     "output_type": "stream",
     "text": [
      "\n"
     ]
    },
    {
     "name": "stderr",
     "output_type": "stream",
     "text": [
      "==============================\n",
      "*** Open Babel Warning  in ReadMolecule\n",
      "  Failed to kekulize aromatic bonds in MOL2 file (title is 3frq_ERY_1_protein)\n",
      "\n"
     ]
    },
    {
     "name": "stdout",
     "output_type": "stream",
     "text": [
      "\n"
     ]
    },
    {
     "name": "stderr",
     "output_type": "stream",
     "text": [
      "==============================\n",
      "*** Open Babel Warning  in ReadMolecule\n",
      "  Failed to kekulize aromatic bonds in MOL2 file (title is 2ywv_ADP_1_protein)\n",
      "\n"
     ]
    },
    {
     "name": "stdout",
     "output_type": "stream",
     "text": [
      "\n"
     ]
    },
    {
     "name": "stderr",
     "output_type": "stream",
     "text": [
      "==============================\n",
      "*** Open Babel Warning  in ReadMolecule\n",
      "  Failed to kekulize aromatic bonds in MOL2 file (title is 5dn1_AMZ_1_protein)\n",
      "\n"
     ]
    },
    {
     "name": "stdout",
     "output_type": "stream",
     "text": [
      "\n"
     ]
    },
    {
     "name": "stderr",
     "output_type": "stream",
     "text": [
      "==============================\n",
      "*** Open Babel Warning  in ReadMolecule\n",
      "  Failed to kekulize aromatic bonds in MOL2 file (title is 4ogr_ADN_2_protein)\n",
      "\n"
     ]
    },
    {
     "name": "stdout",
     "output_type": "stream",
     "text": [
      "\n"
     ]
    },
    {
     "name": "stderr",
     "output_type": "stream",
     "text": [
      "==============================\n",
      "*** Open Babel Warning  in ReadMolecule\n",
      "  Failed to kekulize aromatic bonds in MOL2 file (title is 1lmc_BUL_1_protein)\n",
      "\n"
     ]
    },
    {
     "name": "stdout",
     "output_type": "stream",
     "text": [
      "\n"
     ]
    },
    {
     "name": "stderr",
     "output_type": "stream",
     "text": [
      "==============================\n",
      "*** Open Babel Warning  in ReadMolecule\n",
      "  Failed to kekulize aromatic bonds in MOL2 file (title is 3vw8_DF6_1_protein)\n",
      "\n"
     ]
    },
    {
     "name": "stdout",
     "output_type": "stream",
     "text": [
      "\n"
     ]
    },
    {
     "name": "stderr",
     "output_type": "stream",
     "text": [
      "==============================\n",
      "*** Open Babel Warning  in ReadMolecule\n",
      "  Failed to kekulize aromatic bonds in MOL2 file (title is 1kw6_BPY_1_protein)\n",
      "\n"
     ]
    },
    {
     "name": "stdout",
     "output_type": "stream",
     "text": [
      "\n"
     ]
    },
    {
     "name": "stderr",
     "output_type": "stream",
     "text": [
      "==============================\n",
      "*** Open Babel Warning  in ReadMolecule\n",
      "  Failed to kekulize aromatic bonds in MOL2 file (title is 2ibz_SMA_2_protein)\n",
      "\n"
     ]
    },
    {
     "name": "stdout",
     "output_type": "stream",
     "text": [
      "\n"
     ]
    },
    {
     "name": "stderr",
     "output_type": "stream",
     "text": [
      "==============================\n",
      "*** Open Babel Warning  in ReadMolecule\n",
      "  This Mol2 file is non-standard. Problem with molecule: 3gc8_B45_2_protein Cannot interpret atom types correctly, instead attempting to interpret atom type: NI as elements instead.\n",
      "==============================\n",
      "*** Open Babel Warning  in Translate\n",
      "  Cannot perform atom type translation: table cannot find requested types.\n",
      "==============================\n",
      "*** Open Babel Warning  in ReadMolecule\n",
      "  Failed to kekulize aromatic bonds in MOL2 file (title is 3gc8_B45_2_protein)\n",
      "\n"
     ]
    },
    {
     "name": "stdout",
     "output_type": "stream",
     "text": [
      "\n"
     ]
    },
    {
     "name": "stderr",
     "output_type": "stream",
     "text": [
      "==============================\n",
      "*** Open Babel Warning  in ReadMolecule\n",
      "  Failed to kekulize aromatic bonds in MOL2 file (title is 3rbm_B73_1_protein)\n",
      "\n"
     ]
    },
    {
     "name": "stdout",
     "output_type": "stream",
     "text": [
      "\n"
     ]
    },
    {
     "name": "stderr",
     "output_type": "stream",
     "text": [
      "==============================\n",
      "*** Open Babel Warning  in ReadMolecule\n",
      "  Failed to kekulize aromatic bonds in MOL2 file (title is 4qq3_XMP_1_protein)\n",
      "\n"
     ]
    },
    {
     "name": "stdout",
     "output_type": "stream",
     "text": [
      "\n"
     ]
    },
    {
     "name": "stderr",
     "output_type": "stream",
     "text": [
      "==============================\n",
      "*** Open Babel Warning  in ReadMolecule\n",
      "  Failed to kekulize aromatic bonds in MOL2 file (title is 3vif_LGC_1_protein)\n",
      "\n"
     ]
    },
    {
     "name": "stdout",
     "output_type": "stream",
     "text": [
      "\n"
     ]
    },
    {
     "name": "stderr",
     "output_type": "stream",
     "text": [
      "==============================\n",
      "*** Open Babel Warning  in ReadMolecule\n",
      "  This Mol2 file is non-standard. Problem with molecule: 2ptm_CMP_1_protein Cannot interpret atom types correctly, instead attempting to interpret atom type: CO as elements instead.\n",
      "==============================\n",
      "*** Open Babel Warning  in Translate\n",
      "  Cannot perform atom type translation: table cannot find requested types.\n",
      "==============================\n",
      "*** Open Babel Warning  in ReadMolecule\n",
      "  Failed to kekulize aromatic bonds in MOL2 file (title is 2ptm_CMP_1_protein)\n",
      "\n"
     ]
    },
    {
     "name": "stdout",
     "output_type": "stream",
     "text": [
      "\n"
     ]
    },
    {
     "name": "stderr",
     "output_type": "stream",
     "text": [
      "==============================\n",
      "*** Open Babel Warning  in ReadMolecule\n",
      "  Failed to kekulize aromatic bonds in MOL2 file (title is 2xf3_J01_1_protein)\n",
      "\n"
     ]
    },
    {
     "name": "stdout",
     "output_type": "stream",
     "text": [
      "\n"
     ]
    },
    {
     "name": "stderr",
     "output_type": "stream",
     "text": [
      "==============================\n",
      "*** Open Babel Warning  in ReadMolecule\n",
      "  Failed to kekulize aromatic bonds in MOL2 file (title is 4do3_0LA_1_protein)\n",
      "\n"
     ]
    },
    {
     "name": "stdout",
     "output_type": "stream",
     "text": [
      "\n"
     ]
    },
    {
     "name": "stderr",
     "output_type": "stream",
     "text": [
      "==============================\n",
      "*** Open Babel Warning  in ReadMolecule\n",
      "  Failed to kekulize aromatic bonds in MOL2 file (title is 4xsg_GSP_1_protein)\n",
      "\n"
     ]
    },
    {
     "name": "stdout",
     "output_type": "stream",
     "text": [
      "\n"
     ]
    },
    {
     "name": "stderr",
     "output_type": "stream",
     "text": [
      "==============================\n",
      "*** Open Babel Warning  in ReadMolecule\n",
      "  This Mol2 file is non-standard. Problem with molecule: 3chs_IMD_1_protein Cannot interpret atom types correctly, instead attempting to interpret atom type: YB as elements instead.\n",
      "==============================\n",
      "*** Open Babel Warning  in Translate\n",
      "  Cannot perform atom type translation: table cannot find requested types.\n",
      "==============================\n",
      "*** Open Babel Warning  in ReadMolecule\n",
      "  This Mol2 file is non-standard. Problem with molecule: 3chs_IMD_1_protein Cannot interpret atom types correctly, instead attempting to interpret atom type: YB as elements instead.\n",
      "==============================\n",
      "*** Open Babel Warning  in Translate\n",
      "  Cannot perform atom type translation: table cannot find requested types.\n",
      "==============================\n",
      "*** Open Babel Warning  in ReadMolecule\n",
      "  This Mol2 file is non-standard. Problem with molecule: 3chs_IMD_1_protein Cannot interpret atom types correctly, instead attempting to interpret atom type: YB as elements instead.\n",
      "==============================\n",
      "*** Open Babel Warning  in Translate\n",
      "  Cannot perform atom type translation: table cannot find requested types.\n",
      "==============================\n",
      "*** Open Babel Warning  in ReadMolecule\n",
      "  Failed to kekulize aromatic bonds in MOL2 file (title is 3chs_IMD_1_protein)\n",
      "\n"
     ]
    },
    {
     "name": "stdout",
     "output_type": "stream",
     "text": [
      "\n"
     ]
    },
    {
     "name": "stderr",
     "output_type": "stream",
     "text": [
      "==============================\n",
      "*** Open Babel Warning  in ReadMolecule\n",
      "  Failed to kekulize aromatic bonds in MOL2 file (title is 2wo8_023_4_protein)\n",
      "\n"
     ]
    },
    {
     "name": "stdout",
     "output_type": "stream",
     "text": [
      "\n"
     ]
    },
    {
     "name": "stderr",
     "output_type": "stream",
     "text": [
      "==============================\n",
      "*** Open Babel Warning  in ReadMolecule\n",
      "  Failed to kekulize aromatic bonds in MOL2 file (title is 2w98_P1Z_4_protein)\n",
      "\n"
     ]
    },
    {
     "name": "stdout",
     "output_type": "stream",
     "text": [
      "\n"
     ]
    },
    {
     "name": "stderr",
     "output_type": "stream",
     "text": [
      "==============================\n",
      "*** Open Babel Warning  in ReadMolecule\n",
      "  Failed to kekulize aromatic bonds in MOL2 file (title is 2bru_NAP_2_protein)\n",
      "\n"
     ]
    },
    {
     "name": "stdout",
     "output_type": "stream",
     "text": [
      "\n"
     ]
    },
    {
     "name": "stderr",
     "output_type": "stream",
     "text": [
      "==============================\n",
      "*** Open Babel Warning  in ReadMolecule\n",
      "  Failed to kekulize aromatic bonds in MOL2 file (title is 2wca_NP6_1_protein)\n",
      "\n"
     ]
    },
    {
     "name": "stdout",
     "output_type": "stream",
     "text": [
      "\n"
     ]
    },
    {
     "name": "stderr",
     "output_type": "stream",
     "text": [
      "==============================\n",
      "*** Open Babel Warning  in ReadMolecule\n",
      "  Failed to kekulize aromatic bonds in MOL2 file (title is 2wot_ZZG_1_protein)\n",
      "\n"
     ]
    },
    {
     "name": "stdout",
     "output_type": "stream",
     "text": [
      "\n"
     ]
    },
    {
     "name": "stderr",
     "output_type": "stream",
     "text": [
      "==============================\n",
      "*** Open Babel Warning  in ReadMolecule\n",
      "  Failed to kekulize aromatic bonds in MOL2 file (title is 3zcb_ATP_1_protein)\n",
      "\n"
     ]
    },
    {
     "name": "stdout",
     "output_type": "stream",
     "text": [
      "\n"
     ]
    },
    {
     "name": "stderr",
     "output_type": "stream",
     "text": [
      "==============================\n",
      "*** Open Babel Warning  in ReadMolecule\n",
      "  Failed to kekulize aromatic bonds in MOL2 file (title is 4ax8_ADP_2_protein)\n",
      "\n"
     ]
    },
    {
     "name": "stdout",
     "output_type": "stream",
     "text": [
      "\n"
     ]
    },
    {
     "name": "stderr",
     "output_type": "stream",
     "text": [
      "==============================\n",
      "*** Open Babel Warning  in ReadMolecule\n",
      "  Failed to kekulize aromatic bonds in MOL2 file (title is 2p6l_SAH_1_protein)\n",
      "\n"
     ]
    },
    {
     "name": "stdout",
     "output_type": "stream",
     "text": [
      "\n"
     ]
    },
    {
     "name": "stderr",
     "output_type": "stream",
     "text": [
      "==============================\n",
      "*** Open Babel Warning  in ReadMolecule\n",
      "  Failed to kekulize aromatic bonds in MOL2 file (title is 1d5c_GDP_1_protein)\n",
      "\n"
     ]
    },
    {
     "name": "stdout",
     "output_type": "stream",
     "text": [
      "\n"
     ]
    },
    {
     "name": "stderr",
     "output_type": "stream",
     "text": [
      "==============================\n",
      "*** Open Babel Warning  in ReadMolecule\n",
      "  Failed to kekulize aromatic bonds in MOL2 file (title is 3f8k_COA_1_protein)\n",
      "\n"
     ]
    },
    {
     "name": "stdout",
     "output_type": "stream",
     "text": [
      "\n"
     ]
    },
    {
     "name": "stderr",
     "output_type": "stream",
     "text": [
      "==============================\n",
      "*** Open Babel Warning  in ReadMolecule\n",
      "  Failed to kekulize aromatic bonds in MOL2 file (title is 3pqf_NAD_1_protein)\n",
      "\n"
     ]
    },
    {
     "name": "stdout",
     "output_type": "stream",
     "text": [
      "\n"
     ]
    },
    {
     "name": "stderr",
     "output_type": "stream",
     "text": [
      "==============================\n",
      "*** Open Babel Warning  in ReadMolecule\n",
      "  Failed to kekulize aromatic bonds in MOL2 file (title is 2vkd_UPG_2_protein)\n",
      "\n"
     ]
    },
    {
     "name": "stdout",
     "output_type": "stream",
     "text": [
      "\n"
     ]
    },
    {
     "name": "stderr",
     "output_type": "stream",
     "text": [
      "==============================\n",
      "*** Open Babel Warning  in ReadMolecule\n",
      "  Failed to kekulize aromatic bonds in MOL2 file (title is 4nh9_2LC_1_protein)\n",
      "\n"
     ]
    },
    {
     "name": "stdout",
     "output_type": "stream",
     "text": [
      "\n"
     ]
    },
    {
     "name": "stderr",
     "output_type": "stream",
     "text": [
      "==============================\n",
      "*** Open Babel Warning  in ReadMolecule\n",
      "  Failed to kekulize aromatic bonds in MOL2 file (title is 1z9h_IMN_4_protein)\n",
      "\n"
     ]
    },
    {
     "name": "stdout",
     "output_type": "stream",
     "text": [
      "\n"
     ]
    },
    {
     "name": "stderr",
     "output_type": "stream",
     "text": [
      "==============================\n",
      "*** Open Babel Warning  in ReadMolecule\n",
      "  Failed to kekulize aromatic bonds in MOL2 file (title is 4a0m_NAD_1_protein)\n",
      "\n"
     ]
    },
    {
     "name": "stdout",
     "output_type": "stream",
     "text": [
      "\n"
     ]
    },
    {
     "name": "stderr",
     "output_type": "stream",
     "text": [
      "==============================\n",
      "*** Open Babel Warning  in ReadMolecule\n",
      "  Failed to kekulize aromatic bonds in MOL2 file (title is 3zia_ADP_4_protein)\n",
      "\n"
     ]
    },
    {
     "name": "stdout",
     "output_type": "stream",
     "text": [
      "\n"
     ]
    },
    {
     "name": "stderr",
     "output_type": "stream",
     "text": [
      "==============================\n",
      "*** Open Babel Warning  in ReadMolecule\n",
      "  Failed to kekulize aromatic bonds in MOL2 file (title is 1f28_UMP_5_protein)\n",
      "\n"
     ]
    },
    {
     "name": "stdout",
     "output_type": "stream",
     "text": [
      "\n"
     ]
    },
    {
     "name": "stderr",
     "output_type": "stream",
     "text": [
      "==============================\n",
      "*** Open Babel Warning  in ReadMolecule\n",
      "  Failed to kekulize aromatic bonds in MOL2 file (title is 4c94_KXN_4_protein)\n",
      "\n"
     ]
    },
    {
     "name": "stdout",
     "output_type": "stream",
     "text": [
      "\n"
     ]
    },
    {
     "name": "stderr",
     "output_type": "stream",
     "text": [
      "==============================\n",
      "*** Open Babel Warning  in ReadMolecule\n",
      "  Failed to kekulize aromatic bonds in MOL2 file (title is 5ce3_ADP_2_protein)\n",
      "\n"
     ]
    },
    {
     "name": "stdout",
     "output_type": "stream",
     "text": [
      "\n"
     ]
    },
    {
     "name": "stderr",
     "output_type": "stream",
     "text": [
      "==============================\n",
      "*** Open Babel Warning  in ReadMolecule\n",
      "  Failed to kekulize aromatic bonds in MOL2 file (title is 3zu2_NAI_1_protein)\n",
      "\n"
     ]
    },
    {
     "name": "stdout",
     "output_type": "stream",
     "text": [
      "\n"
     ]
    },
    {
     "name": "stderr",
     "output_type": "stream",
     "text": [
      "==============================\n",
      "*** Open Babel Warning  in ReadMolecule\n",
      "  Failed to kekulize aromatic bonds in MOL2 file (title is 3l8a_PLP_2_protein)\n",
      "\n"
     ]
    },
    {
     "name": "stdout",
     "output_type": "stream",
     "text": [
      "\n"
     ]
    },
    {
     "name": "stderr",
     "output_type": "stream",
     "text": [
      "==============================\n",
      "*** Open Babel Warning  in ReadMolecule\n",
      "  Failed to kekulize aromatic bonds in MOL2 file (title is 2dsa_HPX_3_protein)\n",
      "\n"
     ]
    },
    {
     "name": "stdout",
     "output_type": "stream",
     "text": [
      "\n"
     ]
    },
    {
     "name": "stderr",
     "output_type": "stream",
     "text": [
      "==============================\n",
      "*** Open Babel Warning  in ReadMolecule\n",
      "  Failed to kekulize aromatic bonds in MOL2 file (title is 3l2k_PXC_1_protein)\n",
      "\n"
     ]
    },
    {
     "name": "stdout",
     "output_type": "stream",
     "text": [
      "\n"
     ]
    },
    {
     "name": "stderr",
     "output_type": "stream",
     "text": [
      "==============================\n",
      "*** Open Babel Warning  in ReadMolecule\n",
      "  Failed to kekulize aromatic bonds in MOL2 file (title is 2xef_AR8_1_protein)\n",
      "\n"
     ]
    },
    {
     "name": "stdout",
     "output_type": "stream",
     "text": [
      "\n"
     ]
    },
    {
     "name": "stderr",
     "output_type": "stream",
     "text": [
      "==============================\n",
      "*** Open Babel Warning  in ReadMolecule\n",
      "  Failed to kekulize aromatic bonds in MOL2 file (title is 2v6g_NAP_1_protein)\n",
      "\n"
     ]
    },
    {
     "name": "stdout",
     "output_type": "stream",
     "text": [
      "\n"
     ]
    },
    {
     "name": "stderr",
     "output_type": "stream",
     "text": [
      "==============================\n",
      "*** Open Babel Warning  in ReadMolecule\n",
      "  Failed to kekulize aromatic bonds in MOL2 file (title is 4ear_IM5_3_protein)\n",
      "\n"
     ]
    },
    {
     "name": "stdout",
     "output_type": "stream",
     "text": [
      "\n"
     ]
    },
    {
     "name": "stderr",
     "output_type": "stream",
     "text": [
      "==============================\n",
      "*** Open Babel Warning  in ReadMolecule\n",
      "  Failed to kekulize aromatic bonds in MOL2 file (title is 5jla_NAD_2_protein)\n",
      "\n"
     ]
    },
    {
     "name": "stdout",
     "output_type": "stream",
     "text": [
      "\n"
     ]
    },
    {
     "name": "stderr",
     "output_type": "stream",
     "text": [
      "==============================\n",
      "*** Open Babel Warning  in ReadMolecule\n",
      "  Failed to kekulize aromatic bonds in MOL2 file (title is 4i8v_BHF_3_protein)\n",
      "\n"
     ]
    },
    {
     "name": "stdout",
     "output_type": "stream",
     "text": [
      "\n"
     ]
    },
    {
     "name": "stderr",
     "output_type": "stream",
     "text": [
      "==============================\n",
      "*** Open Babel Warning  in ReadMolecule\n",
      "  Failed to kekulize aromatic bonds in MOL2 file (title is 1d6n_PPO_1_protein)\n",
      "\n"
     ]
    },
    {
     "name": "stdout",
     "output_type": "stream",
     "text": [
      "\n"
     ]
    },
    {
     "name": "stderr",
     "output_type": "stream",
     "text": [
      "==============================\n",
      "*** Open Babel Warning  in ReadMolecule\n",
      "  Failed to kekulize aromatic bonds in MOL2 file (title is 4oth_DRN_1_protein)\n",
      "\n"
     ]
    },
    {
     "name": "stdout",
     "output_type": "stream",
     "text": [
      "\n"
     ]
    },
    {
     "name": "stderr",
     "output_type": "stream",
     "text": [
      "==============================\n",
      "*** Open Babel Warning  in ReadMolecule\n",
      "  Failed to kekulize aromatic bonds in MOL2 file (title is 3ea0_ATP_1_protein)\n",
      "\n"
     ]
    },
    {
     "name": "stdout",
     "output_type": "stream",
     "text": [
      "\n"
     ]
    },
    {
     "name": "stderr",
     "output_type": "stream",
     "text": [
      "==============================\n",
      "*** Open Babel Warning  in ReadMolecule\n",
      "  Failed to kekulize aromatic bonds in MOL2 file (title is 1kf6_HQO_1_protein)\n",
      "\n"
     ]
    },
    {
     "name": "stdout",
     "output_type": "stream",
     "text": [
      "\n"
     ]
    },
    {
     "name": "stderr",
     "output_type": "stream",
     "text": [
      "==============================\n",
      "*** Open Babel Warning  in ReadMolecule\n",
      "  Failed to kekulize aromatic bonds in MOL2 file (title is 1q4t_4CO_1_protein)\n",
      "\n"
     ]
    },
    {
     "name": "stdout",
     "output_type": "stream",
     "text": [
      "\n"
     ]
    },
    {
     "name": "stderr",
     "output_type": "stream",
     "text": [
      "==============================\n",
      "*** Open Babel Warning  in ReadMolecule\n",
      "  Failed to kekulize aromatic bonds in MOL2 file (title is 4ozn_ATP_3_protein)\n",
      "\n"
     ]
    },
    {
     "name": "stdout",
     "output_type": "stream",
     "text": [
      "\n"
     ]
    },
    {
     "name": "stderr",
     "output_type": "stream",
     "text": [
      "==============================\n",
      "*** Open Babel Warning  in ReadMolecule\n",
      "  Failed to kekulize aromatic bonds in MOL2 file (title is 2vou_FAD_2_protein)\n",
      "\n"
     ]
    },
    {
     "name": "stdout",
     "output_type": "stream",
     "text": [
      "\n"
     ]
    },
    {
     "name": "stderr",
     "output_type": "stream",
     "text": [
      "==============================\n",
      "*** Open Babel Warning  in ReadMolecule\n",
      "  Failed to kekulize aromatic bonds in MOL2 file (title is 3eth_ATP_2_protein)\n",
      "\n"
     ]
    },
    {
     "name": "stdout",
     "output_type": "stream",
     "text": [
      "\n"
     ]
    },
    {
     "name": "stderr",
     "output_type": "stream",
     "text": [
      "==============================\n",
      "*** Open Babel Warning  in ReadMolecule\n",
      "  Failed to kekulize aromatic bonds in MOL2 file (title is 4o1p_25L_1_protein)\n",
      "\n"
     ]
    },
    {
     "name": "stdout",
     "output_type": "stream",
     "text": [
      "\n"
     ]
    },
    {
     "name": "stderr",
     "output_type": "stream",
     "text": [
      "==============================\n",
      "*** Open Babel Warning  in ReadMolecule\n",
      "  Failed to kekulize aromatic bonds in MOL2 file (title is 3ckq_UPG_1_protein)\n",
      "\n"
     ]
    },
    {
     "name": "stdout",
     "output_type": "stream",
     "text": [
      "\n"
     ]
    },
    {
     "name": "stderr",
     "output_type": "stream",
     "text": [
      "==============================\n",
      "*** Open Babel Warning  in ReadMolecule\n",
      "  Failed to kekulize aromatic bonds in MOL2 file (title is 4xcz_T3Q_2_protein)\n",
      "\n"
     ]
    },
    {
     "name": "stdout",
     "output_type": "stream",
     "text": [
      "\n"
     ]
    },
    {
     "name": "stderr",
     "output_type": "stream",
     "text": [
      "==============================\n",
      "*** Open Babel Warning  in ReadMolecule\n",
      "  Failed to kekulize aromatic bonds in MOL2 file (title is 4amb_DUD_1_protein)\n",
      "\n"
     ]
    },
    {
     "name": "stdout",
     "output_type": "stream",
     "text": [
      "\n"
     ]
    },
    {
     "name": "stderr",
     "output_type": "stream",
     "text": [
      "==============================\n",
      "*** Open Babel Warning  in ReadMolecule\n",
      "  Failed to kekulize aromatic bonds in MOL2 file (title is 5ii2_LU2_2_protein)\n",
      "\n"
     ]
    },
    {
     "name": "stdout",
     "output_type": "stream",
     "text": [
      "\n"
     ]
    },
    {
     "name": "stderr",
     "output_type": "stream",
     "text": [
      "==============================\n",
      "*** Open Babel Warning  in ReadMolecule\n",
      "  Failed to kekulize aromatic bonds in MOL2 file (title is 2cht_TSA_9_protein)\n",
      "\n"
     ]
    },
    {
     "name": "stdout",
     "output_type": "stream",
     "text": [
      "\n"
     ]
    },
    {
     "name": "stderr",
     "output_type": "stream",
     "text": [
      "==============================\n",
      "*** Open Babel Warning  in ReadMolecule\n",
      "  Failed to kekulize aromatic bonds in MOL2 file (title is 3oev_3OE_1_protein)\n",
      "\n"
     ]
    },
    {
     "name": "stdout",
     "output_type": "stream",
     "text": [
      "\n"
     ]
    },
    {
     "name": "stderr",
     "output_type": "stream",
     "text": [
      "==============================\n",
      "*** Open Babel Warning  in ReadMolecule\n",
      "  Failed to kekulize aromatic bonds in MOL2 file (title is 4nxv_GDP_4_protein)\n",
      "\n"
     ]
    },
    {
     "name": "stdout",
     "output_type": "stream",
     "text": [
      "\n"
     ]
    },
    {
     "name": "stderr",
     "output_type": "stream",
     "text": [
      "==============================\n",
      "*** Open Babel Warning  in ReadMolecule\n",
      "  Failed to kekulize aromatic bonds in MOL2 file (title is 1ai0_IPH_3_protein)\n",
      "\n"
     ]
    },
    {
     "name": "stdout",
     "output_type": "stream",
     "text": [
      "\n"
     ]
    },
    {
     "name": "stderr",
     "output_type": "stream",
     "text": [
      "==============================\n",
      "*** Open Babel Warning  in ReadMolecule\n",
      "  Failed to kekulize aromatic bonds in MOL2 file (title is 1m2o_GNP_2_protein)\n",
      "\n"
     ]
    },
    {
     "name": "stdout",
     "output_type": "stream",
     "text": [
      "\n"
     ]
    },
    {
     "name": "stderr",
     "output_type": "stream",
     "text": [
      "==============================\n",
      "*** Open Babel Warning  in ReadMolecule\n",
      "  Failed to kekulize aromatic bonds in MOL2 file (title is 3pn1_IVH_1_protein)\n",
      "\n"
     ]
    },
    {
     "name": "stdout",
     "output_type": "stream",
     "text": [
      "\n"
     ]
    },
    {
     "name": "stderr",
     "output_type": "stream",
     "text": [
      "==============================\n",
      "*** Open Babel Warning  in ReadMolecule\n",
      "  Failed to kekulize aromatic bonds in MOL2 file (title is 2dph_NAD_1_protein)\n",
      "\n"
     ]
    },
    {
     "name": "stdout",
     "output_type": "stream",
     "text": [
      "\n"
     ]
    },
    {
     "name": "stderr",
     "output_type": "stream",
     "text": [
      "==============================\n",
      "*** Open Babel Warning  in ReadMolecule\n",
      "  Failed to kekulize aromatic bonds in MOL2 file (title is 3x1d_GDP_1_protein)\n",
      "\n"
     ]
    },
    {
     "name": "stdout",
     "output_type": "stream",
     "text": [
      "\n"
     ]
    },
    {
     "name": "stderr",
     "output_type": "stream",
     "text": [
      "==============================\n",
      "*** Open Babel Warning  in ReadMolecule\n",
      "  Failed to kekulize aromatic bonds in MOL2 file (title is 3nx4_NAP_2_protein)\n",
      "\n"
     ]
    },
    {
     "name": "stdout",
     "output_type": "stream",
     "text": [
      "\n"
     ]
    },
    {
     "name": "stderr",
     "output_type": "stream",
     "text": [
      "==============================\n",
      "*** Open Babel Warning  in ReadMolecule\n",
      "  Failed to kekulize aromatic bonds in MOL2 file (title is 2w4i_VGA_2_protein)\n",
      "\n"
     ]
    },
    {
     "name": "stdout",
     "output_type": "stream",
     "text": [
      "\n"
     ]
    },
    {
     "name": "stderr",
     "output_type": "stream",
     "text": [
      "==============================\n",
      "*** Open Babel Warning  in ReadMolecule\n",
      "  Failed to kekulize aromatic bonds in MOL2 file (title is 4w5k_PLP_1_protein)\n",
      "\n"
     ]
    },
    {
     "name": "stdout",
     "output_type": "stream",
     "text": [
      "\n"
     ]
    },
    {
     "name": "stderr",
     "output_type": "stream",
     "text": [
      "==============================\n",
      "*** Open Babel Warning  in ReadMolecule\n",
      "  Failed to kekulize aromatic bonds in MOL2 file (title is 5idw_NAP_1_protein)\n",
      "\n"
     ]
    },
    {
     "name": "stdout",
     "output_type": "stream",
     "text": [
      "\n"
     ]
    },
    {
     "name": "stderr",
     "output_type": "stream",
     "text": [
      "==============================\n",
      "*** Open Babel Warning  in ReadMolecule\n",
      "  Failed to kekulize aromatic bonds in MOL2 file (title is 1yba_NAD_4_protein)\n",
      "\n"
     ]
    },
    {
     "name": "stdout",
     "output_type": "stream",
     "text": [
      "\n"
     ]
    },
    {
     "name": "stderr",
     "output_type": "stream",
     "text": [
      "==============================\n",
      "*** Open Babel Warning  in ReadMolecule\n",
      "  Failed to kekulize aromatic bonds in MOL2 file (title is 5jqb_IBP_1_protein)\n",
      "\n"
     ]
    },
    {
     "name": "stdout",
     "output_type": "stream",
     "text": [
      "\n"
     ]
    },
    {
     "name": "stderr",
     "output_type": "stream",
     "text": [
      "==============================\n",
      "*** Open Babel Warning  in ReadMolecule\n",
      "  Failed to kekulize aromatic bonds in MOL2 file (title is 4rtb_SAM_1_protein)\n",
      "\n"
     ]
    },
    {
     "name": "stdout",
     "output_type": "stream",
     "text": [
      "\n"
     ]
    },
    {
     "name": "stderr",
     "output_type": "stream",
     "text": [
      "==============================\n",
      "*** Open Babel Warning  in ReadMolecule\n",
      "  Failed to kekulize aromatic bonds in MOL2 file (title is 3two_NDP_1_protein)\n",
      "\n"
     ]
    },
    {
     "name": "stdout",
     "output_type": "stream",
     "text": [
      "\n"
     ]
    },
    {
     "name": "stderr",
     "output_type": "stream",
     "text": [
      "==============================\n",
      "*** Open Babel Warning  in ReadMolecule\n",
      "  Failed to kekulize aromatic bonds in MOL2 file (title is 3qyy_C2E_2_protein)\n",
      "\n"
     ]
    },
    {
     "name": "stdout",
     "output_type": "stream",
     "text": [
      "\n"
     ]
    },
    {
     "name": "stderr",
     "output_type": "stream",
     "text": [
      "==============================\n",
      "*** Open Babel Warning  in ReadMolecule\n",
      "  Failed to kekulize aromatic bonds in MOL2 file (title is 1qlt_FAD_2_protein)\n",
      "\n"
     ]
    },
    {
     "name": "stdout",
     "output_type": "stream",
     "text": [
      "\n"
     ]
    },
    {
     "name": "stderr",
     "output_type": "stream",
     "text": [
      "==============================\n",
      "*** Open Babel Warning  in ReadMolecule\n",
      "  Failed to kekulize aromatic bonds in MOL2 file (title is 5dm3_ADP_5_protein)\n",
      "\n"
     ]
    },
    {
     "name": "stdout",
     "output_type": "stream",
     "text": [
      "\n"
     ]
    },
    {
     "name": "stderr",
     "output_type": "stream",
     "text": [
      "==============================\n",
      "*** Open Babel Warning  in ReadMolecule\n",
      "  Failed to kekulize aromatic bonds in MOL2 file (title is 1kr5_SAH_1_protein)\n",
      "\n"
     ]
    },
    {
     "name": "stdout",
     "output_type": "stream",
     "text": [
      "\n"
     ]
    },
    {
     "name": "stderr",
     "output_type": "stream",
     "text": [
      "==============================\n",
      "*** Open Babel Warning  in ReadMolecule\n",
      "  Failed to kekulize aromatic bonds in MOL2 file (title is 3cps_NAD_2_protein)\n",
      "\n"
     ]
    },
    {
     "name": "stdout",
     "output_type": "stream",
     "text": [
      "\n"
     ]
    },
    {
     "name": "stderr",
     "output_type": "stream",
     "text": [
      "==============================\n",
      "*** Open Babel Warning  in ReadMolecule\n",
      "  This Mol2 file is non-standard. Problem with molecule: 2evo_CT0_1_protein Cannot interpret atom types correctly, instead attempting to interpret atom type: CO as elements instead.\n",
      "==============================\n",
      "*** Open Babel Warning  in Translate\n",
      "  Cannot perform atom type translation: table cannot find requested types.\n",
      "==============================\n",
      "*** Open Babel Warning  in ReadMolecule\n",
      "  This Mol2 file is non-standard. Problem with molecule: 2evo_CT0_1_protein Cannot interpret atom types correctly, instead attempting to interpret atom type: CO as elements instead.\n",
      "==============================\n",
      "*** Open Babel Warning  in Translate\n",
      "  Cannot perform atom type translation: table cannot find requested types.\n",
      "==============================\n",
      "*** Open Babel Warning  in ReadMolecule\n",
      "  This Mol2 file is non-standard. Problem with molecule: 2evo_CT0_1_protein Cannot interpret atom types correctly, instead attempting to interpret atom type: CO as elements instead.\n",
      "==============================\n",
      "*** Open Babel Warning  in Translate\n",
      "  Cannot perform atom type translation: table cannot find requested types.\n",
      "==============================\n",
      "*** Open Babel Warning  in ReadMolecule\n",
      "  This Mol2 file is non-standard. Problem with molecule: 2evo_CT0_1_protein Cannot interpret atom types correctly, instead attempting to interpret atom type: CO as elements instead.\n",
      "==============================\n",
      "*** Open Babel Warning  in Translate\n",
      "  Cannot perform atom type translation: table cannot find requested types.\n",
      "==============================\n",
      "*** Open Babel Warning  in ReadMolecule\n",
      "  This Mol2 file is non-standard. Problem with molecule: 2evo_CT0_1_protein Cannot interpret atom types correctly, instead attempting to interpret atom type: CO as elements instead.\n",
      "==============================\n",
      "*** Open Babel Warning  in Translate\n",
      "  Cannot perform atom type translation: table cannot find requested types.\n",
      "==============================\n",
      "*** Open Babel Warning  in ReadMolecule\n",
      "  This Mol2 file is non-standard. Problem with molecule: 2evo_CT0_1_protein Cannot interpret atom types correctly, instead attempting to interpret atom type: CO as elements instead.\n",
      "==============================\n",
      "*** Open Babel Warning  in Translate\n",
      "  Cannot perform atom type translation: table cannot find requested types.\n",
      "==============================\n",
      "*** Open Babel Warning  in ReadMolecule\n",
      "  Failed to kekulize aromatic bonds in MOL2 file (title is 2evo_CT0_1_protein)\n",
      "\n"
     ]
    },
    {
     "name": "stdout",
     "output_type": "stream",
     "text": [
      "\n"
     ]
    },
    {
     "name": "stderr",
     "output_type": "stream",
     "text": [
      "==============================\n",
      "*** Open Babel Warning  in ReadMolecule\n",
      "  Failed to kekulize aromatic bonds in MOL2 file (title is 3q87_SAM_1_protein)\n",
      "\n"
     ]
    },
    {
     "name": "stdout",
     "output_type": "stream",
     "text": [
      "\n"
     ]
    },
    {
     "name": "stderr",
     "output_type": "stream",
     "text": [
      "==============================\n",
      "*** Open Babel Warning  in ReadMolecule\n",
      "  Failed to kekulize aromatic bonds in MOL2 file (title is 1n8w_COA_1_protein)\n",
      "\n"
     ]
    },
    {
     "name": "stdout",
     "output_type": "stream",
     "text": [
      "\n"
     ]
    },
    {
     "name": "stderr",
     "output_type": "stream",
     "text": [
      "==============================\n",
      "*** Open Babel Warning  in ReadMolecule\n",
      "  Failed to kekulize aromatic bonds in MOL2 file (title is 5ahw_CMP_5_protein)\n",
      "\n"
     ]
    },
    {
     "name": "stdout",
     "output_type": "stream",
     "text": [
      "\n"
     ]
    },
    {
     "name": "stderr",
     "output_type": "stream",
     "text": [
      "==============================\n",
      "*** Open Babel Warning  in ReadMolecule\n",
      "  Failed to kekulize aromatic bonds in MOL2 file (title is 1n08_ADP_1_protein)\n",
      "\n"
     ]
    },
    {
     "name": "stdout",
     "output_type": "stream",
     "text": [
      "\n"
     ]
    },
    {
     "name": "stderr",
     "output_type": "stream",
     "text": [
      "==============================\n",
      "*** Open Babel Warning  in ReadMolecule\n",
      "  Failed to kekulize aromatic bonds in MOL2 file (title is 4k30_NLG_2_protein)\n",
      "\n"
     ]
    },
    {
     "name": "stdout",
     "output_type": "stream",
     "text": [
      "\n"
     ]
    },
    {
     "name": "stderr",
     "output_type": "stream",
     "text": [
      "==============================\n",
      "*** Open Babel Warning  in ReadMolecule\n",
      "  Failed to kekulize aromatic bonds in MOL2 file (title is 1wy7_SAH_2_protein)\n",
      "\n"
     ]
    },
    {
     "name": "stdout",
     "output_type": "stream",
     "text": [
      "\n"
     ]
    },
    {
     "name": "stderr",
     "output_type": "stream",
     "text": [
      "==============================\n",
      "*** Open Babel Warning  in ReadMolecule\n",
      "  Failed to kekulize aromatic bonds in MOL2 file (title is 1a4i_NDP_1_protein)\n",
      "\n"
     ]
    },
    {
     "name": "stdout",
     "output_type": "stream",
     "text": [
      "\n"
     ]
    },
    {
     "name": "stderr",
     "output_type": "stream",
     "text": [
      "==============================\n",
      "*** Open Babel Warning  in ReadMolecule\n",
      "  Failed to kekulize aromatic bonds in MOL2 file (title is 4q7f_3D1_1_protein)\n",
      "\n"
     ]
    },
    {
     "name": "stdout",
     "output_type": "stream",
     "text": [
      "\n"
     ]
    },
    {
     "name": "stderr",
     "output_type": "stream",
     "text": [
      "==============================\n",
      "*** Open Babel Warning  in ReadMolecule\n",
      "  Failed to kekulize aromatic bonds in MOL2 file (title is 2cul_FAD_1_protein)\n",
      "\n"
     ]
    },
    {
     "name": "stdout",
     "output_type": "stream",
     "text": [
      "\n"
     ]
    },
    {
     "name": "stderr",
     "output_type": "stream",
     "text": [
      "==============================\n",
      "*** Open Babel Warning  in ReadMolecule\n",
      "  This Mol2 file is non-standard. Problem with molecule: 3n6m_GTP_1_protein Cannot interpret atom types correctly, instead attempting to interpret atom type: NI as elements instead.\n",
      "==============================\n",
      "*** Open Babel Warning  in Translate\n",
      "  Cannot perform atom type translation: table cannot find requested types.\n",
      "==============================\n",
      "*** Open Babel Warning  in ReadMolecule\n",
      "  Failed to kekulize aromatic bonds in MOL2 file (title is 3n6m_GTP_1_protein)\n",
      "\n"
     ]
    },
    {
     "name": "stdout",
     "output_type": "stream",
     "text": [
      "\n"
     ]
    },
    {
     "name": "stderr",
     "output_type": "stream",
     "text": [
      "==============================\n",
      "*** Open Babel Warning  in ReadMolecule\n",
      "  Failed to kekulize aromatic bonds in MOL2 file (title is 3tx1_FAD_1_protein)\n",
      "\n"
     ]
    },
    {
     "name": "stdout",
     "output_type": "stream",
     "text": [
      "\n"
     ]
    },
    {
     "name": "stderr",
     "output_type": "stream",
     "text": [
      "==============================\n",
      "*** Open Babel Warning  in ReadMolecule\n",
      "  Failed to kekulize aromatic bonds in MOL2 file (title is 3e78_TPP_1_protein)\n",
      "\n"
     ]
    },
    {
     "name": "stdout",
     "output_type": "stream",
     "text": [
      "\n"
     ]
    },
    {
     "name": "stderr",
     "output_type": "stream",
     "text": [
      "==============================\n",
      "*** Open Babel Warning  in ReadMolecule\n",
      "  Failed to kekulize aromatic bonds in MOL2 file (title is 3klj_FAD_1_protein)\n",
      "\n"
     ]
    },
    {
     "name": "stdout",
     "output_type": "stream",
     "text": [
      "\n"
     ]
    },
    {
     "name": "stderr",
     "output_type": "stream",
     "text": [
      "==============================\n",
      "*** Open Babel Warning  in ReadMolecule\n",
      "  Failed to kekulize aromatic bonds in MOL2 file (title is 2g8y_NAD_2_protein)\n",
      "\n"
     ]
    },
    {
     "name": "stdout",
     "output_type": "stream",
     "text": [
      "\n"
     ]
    },
    {
     "name": "stderr",
     "output_type": "stream",
     "text": [
      "==============================\n",
      "*** Open Babel Warning  in ReadMolecule\n",
      "  Failed to kekulize aromatic bonds in MOL2 file (title is 3kft_NAD_2_protein)\n",
      "\n"
     ]
    },
    {
     "name": "stdout",
     "output_type": "stream",
     "text": [
      "\n"
     ]
    },
    {
     "name": "stderr",
     "output_type": "stream",
     "text": [
      "==============================\n",
      "*** Open Babel Warning  in ReadMolecule\n",
      "  Failed to kekulize aromatic bonds in MOL2 file (title is 1xco_UVW_5_protein)\n",
      "\n"
     ]
    },
    {
     "name": "stdout",
     "output_type": "stream",
     "text": [
      "\n"
     ]
    },
    {
     "name": "stderr",
     "output_type": "stream",
     "text": [
      "==============================\n",
      "*** Open Babel Warning  in ReadMolecule\n",
      "  Failed to kekulize aromatic bonds in MOL2 file (title is 3rhd_NAP_1_protein)\n",
      "\n"
     ]
    },
    {
     "name": "stdout",
     "output_type": "stream",
     "text": [
      "\n"
     ]
    },
    {
     "name": "stderr",
     "output_type": "stream",
     "text": [
      "==============================\n",
      "*** Open Babel Warning  in ReadMolecule\n",
      "  Failed to kekulize aromatic bonds in MOL2 file (title is 1piw_NAP_1_protein)\n",
      "\n"
     ]
    },
    {
     "name": "stdout",
     "output_type": "stream",
     "text": [
      "\n"
     ]
    },
    {
     "name": "stderr",
     "output_type": "stream",
     "text": [
      "==============================\n",
      "*** Open Babel Warning  in ReadMolecule\n",
      "  Failed to kekulize aromatic bonds in MOL2 file (title is 3zu0_A12_1_protein)\n",
      "\n"
     ]
    },
    {
     "name": "stdout",
     "output_type": "stream",
     "text": [
      "\n"
     ]
    },
    {
     "name": "stderr",
     "output_type": "stream",
     "text": [
      "==============================\n",
      "*** Open Babel Warning  in ReadMolecule\n",
      "  Failed to kekulize aromatic bonds in MOL2 file (title is 3ufx_GDP_4_protein)\n",
      "\n"
     ]
    },
    {
     "name": "stdout",
     "output_type": "stream",
     "text": [
      "\n"
     ]
    },
    {
     "name": "stderr",
     "output_type": "stream",
     "text": [
      "==============================\n",
      "*** Open Babel Warning  in ReadMolecule\n",
      "  Failed to kekulize aromatic bonds in MOL2 file (title is 4czt_CPS_3_protein)\n",
      "\n"
     ]
    },
    {
     "name": "stdout",
     "output_type": "stream",
     "text": [
      "\n"
     ]
    },
    {
     "name": "stderr",
     "output_type": "stream",
     "text": [
      "==============================\n",
      "*** Open Babel Warning  in ReadMolecule\n",
      "  Failed to kekulize aromatic bonds in MOL2 file (title is 4mih_FAD_6_protein)\n",
      "\n"
     ]
    },
    {
     "name": "stdout",
     "output_type": "stream",
     "text": [
      "\n"
     ]
    },
    {
     "name": "stderr",
     "output_type": "stream",
     "text": [
      "==============================\n",
      "*** Open Babel Warning  in ReadMolecule\n",
      "  Failed to kekulize aromatic bonds in MOL2 file (title is 1mv8_GDX_1_protein)\n",
      "\n"
     ]
    },
    {
     "name": "stdout",
     "output_type": "stream",
     "text": [
      "\n"
     ]
    },
    {
     "name": "stderr",
     "output_type": "stream",
     "text": [
      "==============================\n",
      "*** Open Babel Warning  in ReadMolecule\n",
      "  Failed to kekulize aromatic bonds in MOL2 file (title is 4h8a_NAI_2_protein)\n",
      "\n"
     ]
    },
    {
     "name": "stdout",
     "output_type": "stream",
     "text": [
      "\n"
     ]
    },
    {
     "name": "stderr",
     "output_type": "stream",
     "text": [
      "==============================\n",
      "*** Open Babel Warning  in ReadMolecule\n",
      "  Failed to kekulize aromatic bonds in MOL2 file (title is 1m0w_ANP_1_protein)\n",
      "\n"
     ]
    },
    {
     "name": "stdout",
     "output_type": "stream",
     "text": [
      "\n"
     ]
    },
    {
     "name": "stderr",
     "output_type": "stream",
     "text": [
      "==============================\n",
      "*** Open Babel Warning  in ReadMolecule\n",
      "  Failed to kekulize aromatic bonds in MOL2 file (title is 4uug_PXG_1_protein)\n",
      "\n"
     ]
    },
    {
     "name": "stdout",
     "output_type": "stream",
     "text": [
      "\n"
     ]
    },
    {
     "name": "stderr",
     "output_type": "stream",
     "text": [
      "==============================\n",
      "*** Open Babel Warning  in ReadMolecule\n",
      "  Failed to kekulize aromatic bonds in MOL2 file (title is 1gwn_GTP_1_protein)\n",
      "\n"
     ]
    },
    {
     "name": "stdout",
     "output_type": "stream",
     "text": [
      "\n"
     ]
    },
    {
     "name": "stderr",
     "output_type": "stream",
     "text": [
      "==============================\n",
      "*** Open Babel Warning  in ReadMolecule\n",
      "  Failed to kekulize aromatic bonds in MOL2 file (title is 4f5y_C2E_1_protein)\n",
      "\n"
     ]
    },
    {
     "name": "stdout",
     "output_type": "stream",
     "text": [
      "\n"
     ]
    },
    {
     "name": "stderr",
     "output_type": "stream",
     "text": [
      "==============================\n",
      "*** Open Babel Warning  in ReadMolecule\n",
      "  Failed to kekulize aromatic bonds in MOL2 file (title is 4DJH_LIGPROTBWATER_PROTEIN)\n",
      "\n"
     ]
    },
    {
     "name": "stdout",
     "output_type": "stream",
     "text": [
      "\n"
     ]
    },
    {
     "name": "stderr",
     "output_type": "stream",
     "text": [
      "==============================\n",
      "*** Open Babel Warning  in ReadMolecule\n",
      "  Failed to kekulize aromatic bonds in MOL2 file (title is 3vx4_ATP_2_protein)\n",
      "\n"
     ]
    },
    {
     "name": "stdout",
     "output_type": "stream",
     "text": [
      "\n"
     ]
    },
    {
     "name": "stderr",
     "output_type": "stream",
     "text": [
      "==============================\n",
      "*** Open Babel Warning  in ReadMolecule\n",
      "  Failed to kekulize aromatic bonds in MOL2 file (title is 4kvg_GTP_2_protein)\n",
      "\n"
     ]
    },
    {
     "name": "stdout",
     "output_type": "stream",
     "text": [
      "\n"
     ]
    },
    {
     "name": "stderr",
     "output_type": "stream",
     "text": [
      "==============================\n",
      "*** Open Babel Warning  in ReadMolecule\n",
      "  Failed to kekulize aromatic bonds in MOL2 file (title is 3p0e_BAU_4_protein)\n",
      "\n"
     ]
    },
    {
     "name": "stdout",
     "output_type": "stream",
     "text": [
      "\n"
     ]
    },
    {
     "name": "stderr",
     "output_type": "stream",
     "text": [
      "==============================\n",
      "*** Open Babel Warning  in ReadMolecule\n",
      "  Failed to kekulize aromatic bonds in MOL2 file (title is 2r8v_ACO_1_protein)\n",
      "\n"
     ]
    },
    {
     "name": "stdout",
     "output_type": "stream",
     "text": [
      "\n"
     ]
    },
    {
     "name": "stderr",
     "output_type": "stream",
     "text": [
      "==============================\n",
      "*** Open Babel Warning  in ReadMolecule\n",
      "  Failed to kekulize aromatic bonds in MOL2 file (title is 1tu3_GNP_5_protein)\n",
      "\n"
     ]
    },
    {
     "name": "stdout",
     "output_type": "stream",
     "text": [
      "\n"
     ]
    },
    {
     "name": "stderr",
     "output_type": "stream",
     "text": [
      "==============================\n",
      "*** Open Babel Warning  in ReadMolecule\n",
      "  Failed to kekulize aromatic bonds in MOL2 file (title is 2z6d_FMN_1_protein)\n",
      "\n"
     ]
    },
    {
     "name": "stdout",
     "output_type": "stream",
     "text": [
      "\n"
     ]
    },
    {
     "name": "stderr",
     "output_type": "stream",
     "text": [
      "==============================\n",
      "*** Open Babel Warning  in ReadMolecule\n",
      "  Failed to kekulize aromatic bonds in MOL2 file (title is 1xls_TCD_5_protein)\n",
      "\n"
     ]
    },
    {
     "name": "stdout",
     "output_type": "stream",
     "text": [
      "\n"
     ]
    },
    {
     "name": "stderr",
     "output_type": "stream",
     "text": [
      "==============================\n",
      "*** Open Babel Warning  in ReadMolecule\n",
      "  Failed to kekulize aromatic bonds in MOL2 file (title is 2zw4_COA_1_protein)\n",
      "\n"
     ]
    },
    {
     "name": "stdout",
     "output_type": "stream",
     "text": [
      "\n"
     ]
    },
    {
     "name": "stderr",
     "output_type": "stream",
     "text": [
      "==============================\n",
      "*** Open Babel Warning  in ReadMolecule\n",
      "  Failed to kekulize aromatic bonds in MOL2 file (title is 4c1e_MCO_1_protein)\n",
      "\n"
     ]
    },
    {
     "name": "stdout",
     "output_type": "stream",
     "text": [
      "\n"
     ]
    },
    {
     "name": "stderr",
     "output_type": "stream",
     "text": [
      "==============================\n",
      "*** Open Babel Warning  in ReadMolecule\n",
      "  Failed to kekulize aromatic bonds in MOL2 file (title is 2uzh_IPE_1_protein)\n",
      "\n"
     ]
    },
    {
     "name": "stdout",
     "output_type": "stream",
     "text": [
      "\n"
     ]
    },
    {
     "name": "stderr",
     "output_type": "stream",
     "text": [
      "==============================\n",
      "*** Open Babel Warning  in ReadMolecule\n",
      "  Failed to kekulize aromatic bonds in MOL2 file (title is 2ge3_ACO_1_protein)\n",
      "\n"
     ]
    },
    {
     "name": "stdout",
     "output_type": "stream",
     "text": [
      "\n"
     ]
    },
    {
     "name": "stderr",
     "output_type": "stream",
     "text": [
      "==============================\n",
      "*** Open Babel Warning  in ReadMolecule\n",
      "  Failed to kekulize aromatic bonds in MOL2 file (title is 4rsl_FAD_1_protein)\n",
      "\n"
     ]
    },
    {
     "name": "stdout",
     "output_type": "stream",
     "text": [
      "\n"
     ]
    },
    {
     "name": "stderr",
     "output_type": "stream",
     "text": [
      "==============================\n",
      "*** Open Babel Warning  in ReadMolecule\n",
      "  Failed to kekulize aromatic bonds in MOL2 file (title is 1onf_FAD_1_protein)\n",
      "\n"
     ]
    },
    {
     "name": "stdout",
     "output_type": "stream",
     "text": [
      "\n"
     ]
    },
    {
     "name": "stderr",
     "output_type": "stream",
     "text": [
      "==============================\n",
      "*** Open Babel Warning  in ReadMolecule\n",
      "  Failed to kekulize aromatic bonds in MOL2 file (title is 2wow_NDP_4_protein)\n",
      "\n"
     ]
    },
    {
     "name": "stdout",
     "output_type": "stream",
     "text": [
      "\n"
     ]
    },
    {
     "name": "stderr",
     "output_type": "stream",
     "text": [
      "==============================\n",
      "*** Open Babel Warning  in ReadMolecule\n",
      "  Failed to kekulize aromatic bonds in MOL2 file (title is 2e98_B29_1_protein)\n",
      "\n"
     ]
    },
    {
     "name": "stdout",
     "output_type": "stream",
     "text": [
      "\n"
     ]
    },
    {
     "name": "stderr",
     "output_type": "stream",
     "text": [
      "==============================\n",
      "*** Open Babel Warning  in ReadMolecule\n",
      "  Failed to kekulize aromatic bonds in MOL2 file (title is 3t2w_BTN_1_protein)\n",
      "\n"
     ]
    },
    {
     "name": "stdout",
     "output_type": "stream",
     "text": [
      "\n"
     ]
    },
    {
     "name": "stderr",
     "output_type": "stream",
     "text": [
      "==============================\n",
      "*** Open Babel Warning  in ReadMolecule\n",
      "  Failed to kekulize aromatic bonds in MOL2 file (title is 1kvo_OAP_5_protein)\n",
      "\n"
     ]
    },
    {
     "name": "stdout",
     "output_type": "stream",
     "text": [
      "\n"
     ]
    },
    {
     "name": "stderr",
     "output_type": "stream",
     "text": [
      "==============================\n",
      "*** Open Babel Warning  in ReadMolecule\n",
      "  Failed to kekulize aromatic bonds in MOL2 file (title is 2yd0_BES_1_protein)\n",
      "\n"
     ]
    },
    {
     "name": "stdout",
     "output_type": "stream",
     "text": [
      "\n"
     ]
    },
    {
     "name": "stderr",
     "output_type": "stream",
     "text": [
      "==============================\n",
      "*** Open Babel Warning  in ReadMolecule\n",
      "  Failed to kekulize aromatic bonds in MOL2 file (title is 1kc1_NDP_1_protein)\n",
      "\n"
     ]
    },
    {
     "name": "stdout",
     "output_type": "stream",
     "text": [
      "\n"
     ]
    },
    {
     "name": "stderr",
     "output_type": "stream",
     "text": [
      "==============================\n",
      "*** Open Babel Warning  in ReadMolecule\n",
      "  Failed to kekulize aromatic bonds in MOL2 file (title is 3mdm_FJZ_1_protein)\n",
      "\n"
     ]
    },
    {
     "name": "stdout",
     "output_type": "stream",
     "text": [
      "\n"
     ]
    },
    {
     "name": "stderr",
     "output_type": "stream",
     "text": [
      "==============================\n",
      "*** Open Babel Warning  in ReadMolecule\n",
      "  Failed to kekulize aromatic bonds in MOL2 file (title is 4ohf_5GP_2_protein)\n",
      "\n"
     ]
    },
    {
     "name": "stdout",
     "output_type": "stream",
     "text": [
      "\n"
     ]
    },
    {
     "name": "stderr",
     "output_type": "stream",
     "text": [
      "==============================\n",
      "*** Open Babel Warning  in ReadMolecule\n",
      "  Failed to kekulize aromatic bonds in MOL2 file (title is 4nbu_NAI_5_protein)\n",
      "\n"
     ]
    },
    {
     "name": "stdout",
     "output_type": "stream",
     "text": [
      "\n"
     ]
    },
    {
     "name": "stderr",
     "output_type": "stream",
     "text": [
      "==============================\n",
      "*** Open Babel Warning  in ReadMolecule\n",
      "  Failed to kekulize aromatic bonds in MOL2 file (title is 4ewv_APC_2_protein)\n",
      "\n"
     ]
    },
    {
     "name": "stdout",
     "output_type": "stream",
     "text": [
      "\n"
     ]
    },
    {
     "name": "stderr",
     "output_type": "stream",
     "text": [
      "==============================\n",
      "*** Open Babel Warning  in ReadMolecule\n",
      "  Failed to kekulize aromatic bonds in MOL2 file (title is 2cfc_KPC_2_protein)\n",
      "\n"
     ]
    },
    {
     "name": "stdout",
     "output_type": "stream",
     "text": [
      "\n"
     ]
    },
    {
     "name": "stderr",
     "output_type": "stream",
     "text": [
      "==============================\n",
      "*** Open Babel Warning  in ReadMolecule\n",
      "  Failed to kekulize aromatic bonds in MOL2 file (title is 5e72_SAM_1_protein)\n",
      "\n"
     ]
    },
    {
     "name": "stdout",
     "output_type": "stream",
     "text": [
      "\n"
     ]
    },
    {
     "name": "stderr",
     "output_type": "stream",
     "text": [
      "==============================\n",
      "*** Open Babel Warning  in ReadMolecule\n",
      "  Failed to kekulize aromatic bonds in MOL2 file (title is 3e49_IMD_2_protein)\n",
      "\n"
     ]
    },
    {
     "name": "stdout",
     "output_type": "stream",
     "text": [
      "\n"
     ]
    },
    {
     "name": "stderr",
     "output_type": "stream",
     "text": [
      "==============================\n",
      "*** Open Babel Warning  in ReadMolecule\n",
      "  Failed to kekulize aromatic bonds in MOL2 file (title is 1z2a_GDP_1_protein)\n",
      "\n"
     ]
    },
    {
     "name": "stdout",
     "output_type": "stream",
     "text": [
      "\n"
     ]
    },
    {
     "name": "stderr",
     "output_type": "stream",
     "text": [
      "==============================\n",
      "*** Open Babel Warning  in ReadMolecule\n",
      "  Failed to kekulize aromatic bonds in MOL2 file (title is 2qt5_GLY_THR_GLU_VAL_1_protein)\n",
      "\n"
     ]
    },
    {
     "name": "stdout",
     "output_type": "stream",
     "text": [
      "\n"
     ]
    },
    {
     "name": "stderr",
     "output_type": "stream",
     "text": [
      "==============================\n",
      "*** Open Babel Warning  in ReadMolecule\n",
      "  Failed to kekulize aromatic bonds in MOL2 file (title is 3n4m_CMP_1_protein)\n",
      "\n"
     ]
    },
    {
     "name": "stdout",
     "output_type": "stream",
     "text": [
      "\n"
     ]
    },
    {
     "name": "stderr",
     "output_type": "stream",
     "text": [
      "==============================\n",
      "*** Open Babel Warning  in ReadMolecule\n",
      "  Failed to kekulize aromatic bonds in MOL2 file (title is 3kjm_245_1_protein)\n",
      "\n"
     ]
    },
    {
     "name": "stdout",
     "output_type": "stream",
     "text": [
      "\n"
     ]
    },
    {
     "name": "stderr",
     "output_type": "stream",
     "text": [
      "==============================\n",
      "*** Open Babel Warning  in ReadMolecule\n",
      "  Failed to kekulize aromatic bonds in MOL2 file (title is 4ft4_SAH_3_protein)\n",
      "\n"
     ]
    },
    {
     "name": "stdout",
     "output_type": "stream",
     "text": [
      "\n"
     ]
    },
    {
     "name": "stderr",
     "output_type": "stream",
     "text": [
      "==============================\n",
      "*** Open Babel Warning  in ReadMolecule\n",
      "  Failed to kekulize aromatic bonds in MOL2 file (title is 1umk_FAD_1_protein)\n",
      "\n"
     ]
    },
    {
     "name": "stdout",
     "output_type": "stream",
     "text": [
      "\n"
     ]
    },
    {
     "name": "stderr",
     "output_type": "stream",
     "text": [
      "==============================\n",
      "*** Open Babel Warning  in ReadMolecule\n",
      "  Failed to kekulize aromatic bonds in MOL2 file (title is 2ipi_AKY_1_protein)\n",
      "\n"
     ]
    },
    {
     "name": "stdout",
     "output_type": "stream",
     "text": [
      "\n"
     ]
    },
    {
     "name": "stderr",
     "output_type": "stream",
     "text": [
      "==============================\n",
      "*** Open Babel Warning  in ReadMolecule\n",
      "  Failed to kekulize aromatic bonds in MOL2 file (title is 4dpd_DHF_1_protein)\n",
      "\n"
     ]
    },
    {
     "name": "stdout",
     "output_type": "stream",
     "text": [
      "\n"
     ]
    },
    {
     "name": "stderr",
     "output_type": "stream",
     "text": [
      "==============================\n",
      "*** Open Babel Warning  in ReadMolecule\n",
      "  Failed to kekulize aromatic bonds in MOL2 file (title is 2ag8_NAP_1_protein)\n",
      "\n"
     ]
    },
    {
     "name": "stdout",
     "output_type": "stream",
     "text": [
      "\n"
     ]
    },
    {
     "name": "stderr",
     "output_type": "stream",
     "text": [
      "==============================\n",
      "*** Open Babel Warning  in ReadMolecule\n",
      "  Failed to kekulize aromatic bonds in MOL2 file (title is 2x19_GTP_1_protein)\n",
      "\n"
     ]
    },
    {
     "name": "stdout",
     "output_type": "stream",
     "text": [
      "\n"
     ]
    },
    {
     "name": "stderr",
     "output_type": "stream",
     "text": [
      "==============================\n",
      "*** Open Babel Warning  in ReadMolecule\n",
      "  Failed to kekulize aromatic bonds in MOL2 file (title is 2fsn_ADP_2_protein)\n",
      "\n"
     ]
    },
    {
     "name": "stdout",
     "output_type": "stream",
     "text": [
      "\n"
     ]
    },
    {
     "name": "stderr",
     "output_type": "stream",
     "text": [
      "==============================\n",
      "*** Open Babel Warning  in ReadMolecule\n",
      "  Failed to kekulize aromatic bonds in MOL2 file (title is 2mm3_CHO_2_protein)\n",
      "\n"
     ]
    },
    {
     "name": "stdout",
     "output_type": "stream",
     "text": [
      "\n"
     ]
    },
    {
     "name": "stderr",
     "output_type": "stream",
     "text": [
      "==============================\n",
      "*** Open Babel Warning  in ReadMolecule\n",
      "  Failed to kekulize aromatic bonds in MOL2 file (title is 3cis_ATP_3_protein)\n",
      "\n"
     ]
    },
    {
     "name": "stdout",
     "output_type": "stream",
     "text": [
      "\n"
     ]
    },
    {
     "name": "stderr",
     "output_type": "stream",
     "text": [
      "==============================\n",
      "*** Open Babel Warning  in ReadMolecule\n",
      "  Failed to kekulize aromatic bonds in MOL2 file (title is 3hkv_3AB_1_protein)\n",
      "\n"
     ]
    },
    {
     "name": "stdout",
     "output_type": "stream",
     "text": [
      "\n"
     ]
    },
    {
     "name": "stderr",
     "output_type": "stream",
     "text": [
      "==============================\n",
      "*** Open Babel Warning  in ReadMolecule\n",
      "  Failed to kekulize aromatic bonds in MOL2 file (title is 1z7y_AA5_1_protein)\n",
      "\n"
     ]
    },
    {
     "name": "stdout",
     "output_type": "stream",
     "text": [
      "\n"
     ]
    },
    {
     "name": "stderr",
     "output_type": "stream",
     "text": [
      "==============================\n",
      "*** Open Babel Warning  in ReadMolecule\n",
      "  Failed to kekulize aromatic bonds in MOL2 file (title is 3njq_NJQ_2_protein)\n",
      "\n"
     ]
    },
    {
     "name": "stdout",
     "output_type": "stream",
     "text": [
      "\n"
     ]
    },
    {
     "name": "stderr",
     "output_type": "stream",
     "text": [
      "==============================\n",
      "*** Open Babel Warning  in ReadMolecule\n",
      "  Failed to kekulize aromatic bonds in MOL2 file (title is 5hws_NAP_3_protein)\n",
      "\n"
     ]
    },
    {
     "name": "stdout",
     "output_type": "stream",
     "text": [
      "\n"
     ]
    },
    {
     "name": "stderr",
     "output_type": "stream",
     "text": [
      "==============================\n",
      "*** Open Babel Warning  in ReadMolecule\n",
      "  Failed to kekulize aromatic bonds in MOL2 file (title is 3reo_SAH_6_protein)\n",
      "\n"
     ]
    },
    {
     "name": "stdout",
     "output_type": "stream",
     "text": [
      "\n"
     ]
    },
    {
     "name": "stderr",
     "output_type": "stream",
     "text": [
      "==============================\n",
      "*** Open Babel Warning  in ReadMolecule\n",
      "  Failed to kekulize aromatic bonds in MOL2 file (title is 5f0a_1FB_1_protein)\n",
      "\n"
     ]
    },
    {
     "name": "stdout",
     "output_type": "stream",
     "text": [
      "\n"
     ]
    },
    {
     "name": "stderr",
     "output_type": "stream",
     "text": [
      "==============================\n",
      "*** Open Babel Warning  in ReadMolecule\n",
      "  Failed to kekulize aromatic bonds in MOL2 file (title is 3l6j_Z90_2_protein)\n",
      "\n"
     ]
    },
    {
     "name": "stdout",
     "output_type": "stream",
     "text": [
      "\n"
     ]
    },
    {
     "name": "stderr",
     "output_type": "stream",
     "text": [
      "==============================\n",
      "*** Open Babel Warning  in ReadMolecule\n",
      "  Failed to kekulize aromatic bonds in MOL2 file (title is 3nv6_CAM_1_protein)\n",
      "\n"
     ]
    },
    {
     "name": "stdout",
     "output_type": "stream",
     "text": [
      "\n"
     ]
    },
    {
     "name": "stderr",
     "output_type": "stream",
     "text": [
      "==============================\n",
      "*** Open Babel Warning  in ReadMolecule\n",
      "  Failed to kekulize aromatic bonds in MOL2 file (title is 4dy4_FMN_1_protein)\n",
      "\n"
     ]
    },
    {
     "name": "stdout",
     "output_type": "stream",
     "text": [
      "\n"
     ]
    },
    {
     "name": "stderr",
     "output_type": "stream",
     "text": [
      "==============================\n",
      "*** Open Babel Warning  in ReadMolecule\n",
      "  Failed to kekulize aromatic bonds in MOL2 file (title is 1vrq_FMN_3_protein)\n",
      "\n"
     ]
    },
    {
     "name": "stdout",
     "output_type": "stream",
     "text": [
      "\n"
     ]
    },
    {
     "name": "stderr",
     "output_type": "stream",
     "text": [
      "==============================\n",
      "*** Open Babel Warning  in ReadMolecule\n",
      "  Failed to kekulize aromatic bonds in MOL2 file (title is 2uz1_TPP_2_protein)\n",
      "\n"
     ]
    },
    {
     "name": "stdout",
     "output_type": "stream",
     "text": [
      "\n"
     ]
    },
    {
     "name": "stderr",
     "output_type": "stream",
     "text": [
      "==============================\n",
      "*** Open Babel Warning  in ReadMolecule\n",
      "  Failed to kekulize aromatic bonds in MOL2 file (title is 4fnd_3H9_1_protein)\n",
      "\n"
     ]
    },
    {
     "name": "stdout",
     "output_type": "stream",
     "text": [
      "\n"
     ]
    },
    {
     "name": "stderr",
     "output_type": "stream",
     "text": [
      "==============================\n",
      "*** Open Babel Warning  in ReadMolecule\n",
      "  Failed to kekulize aromatic bonds in MOL2 file (title is 4dna_FAD_2_protein)\n",
      "\n"
     ]
    },
    {
     "name": "stdout",
     "output_type": "stream",
     "text": [
      "\n"
     ]
    },
    {
     "name": "stderr",
     "output_type": "stream",
     "text": [
      "==============================\n",
      "*** Open Babel Warning  in ReadMolecule\n",
      "  Failed to kekulize aromatic bonds in MOL2 file (title is 3shr_CMP_1_protein)\n",
      "\n"
     ]
    },
    {
     "name": "stdout",
     "output_type": "stream",
     "text": [
      "\n"
     ]
    },
    {
     "name": "stderr",
     "output_type": "stream",
     "text": [
      "==============================\n",
      "*** Open Babel Warning  in ReadMolecule\n",
      "  Failed to kekulize aromatic bonds in MOL2 file (title is 4a7z_AY9_2_protein)\n",
      "\n"
     ]
    },
    {
     "name": "stdout",
     "output_type": "stream",
     "text": [
      "\n",
      "\n"
     ]
    },
    {
     "name": "stderr",
     "output_type": "stream",
     "text": [
      "==============================\n",
      "*** Open Babel Warning  in ReadMolecule\n",
      "  Failed to kekulize aromatic bonds in MOL2 file (title is 3qz1_3QZ_2_protein)\n",
      "\n"
     ]
    },
    {
     "name": "stdout",
     "output_type": "stream",
     "text": [
      "\n"
     ]
    },
    {
     "name": "stderr",
     "output_type": "stream",
     "text": [
      "==============================\n",
      "*** Open Babel Warning  in ReadMolecule\n",
      "  Failed to kekulize aromatic bonds in MOL2 file (title is 2vpr_TDC_1_protein)\n",
      "\n"
     ]
    },
    {
     "name": "stdout",
     "output_type": "stream",
     "text": [
      "\n"
     ]
    },
    {
     "name": "stderr",
     "output_type": "stream",
     "text": [
      "==============================\n",
      "*** Open Babel Warning  in ReadMolecule\n",
      "  Failed to kekulize aromatic bonds in MOL2 file (title is 4zk6_NTM_1_protein)\n",
      "\n"
     ]
    },
    {
     "name": "stdout",
     "output_type": "stream",
     "text": [
      "\n"
     ]
    },
    {
     "name": "stderr",
     "output_type": "stream",
     "text": [
      "==============================\n",
      "*** Open Babel Warning  in ReadMolecule\n",
      "  Failed to kekulize aromatic bonds in MOL2 file (title is 1wvg_APR_3_protein)\n",
      "\n"
     ]
    },
    {
     "name": "stdout",
     "output_type": "stream",
     "text": [
      "\n"
     ]
    },
    {
     "name": "stderr",
     "output_type": "stream",
     "text": [
      "==============================\n",
      "*** Open Babel Warning  in ReadMolecule\n",
      "  Failed to kekulize aromatic bonds in MOL2 file (title is 1gx2_BHO_2_protein)\n",
      "\n"
     ]
    },
    {
     "name": "stdout",
     "output_type": "stream",
     "text": [
      "\n"
     ]
    },
    {
     "name": "stderr",
     "output_type": "stream",
     "text": [
      "==============================\n",
      "*** Open Babel Warning  in ReadMolecule\n",
      "  Failed to kekulize aromatic bonds in MOL2 file (title is 2y7j_B49_3_protein)\n",
      "\n"
     ]
    },
    {
     "name": "stdout",
     "output_type": "stream",
     "text": [
      "\n"
     ]
    },
    {
     "name": "stderr",
     "output_type": "stream",
     "text": [
      "==============================\n",
      "*** Open Babel Warning  in ReadMolecule\n",
      "  Failed to kekulize aromatic bonds in MOL2 file (title is 3nk7_SAM_1_protein)\n",
      "\n"
     ]
    },
    {
     "name": "stdout",
     "output_type": "stream",
     "text": [
      "\n"
     ]
    },
    {
     "name": "stderr",
     "output_type": "stream",
     "text": [
      "==============================\n",
      "*** Open Babel Warning  in ReadMolecule\n",
      "  Failed to kekulize aromatic bonds in MOL2 file (title is 1dtl_BEP_1_protein)\n",
      "\n"
     ]
    },
    {
     "name": "stdout",
     "output_type": "stream",
     "text": [
      "\n"
     ]
    },
    {
     "name": "stderr",
     "output_type": "stream",
     "text": [
      "==============================\n",
      "*** Open Babel Warning  in ReadMolecule\n",
      "  Failed to kekulize aromatic bonds in MOL2 file (title is 2f3k_RO1_1_protein)\n",
      "\n"
     ]
    },
    {
     "name": "stdout",
     "output_type": "stream",
     "text": [
      "\n"
     ]
    },
    {
     "name": "stderr",
     "output_type": "stream",
     "text": [
      "==============================\n",
      "*** Open Babel Warning  in ReadMolecule\n",
      "  Failed to kekulize aromatic bonds in MOL2 file (title is 4lv8_ADP_1_protein)\n",
      "\n"
     ]
    },
    {
     "name": "stdout",
     "output_type": "stream",
     "text": [
      "\n"
     ]
    },
    {
     "name": "stderr",
     "output_type": "stream",
     "text": [
      "==============================\n",
      "*** Open Babel Warning  in ReadMolecule\n",
      "  Failed to kekulize aromatic bonds in MOL2 file (title is 2g7m_AN0_9_protein)\n",
      "\n"
     ]
    },
    {
     "name": "stdout",
     "output_type": "stream",
     "text": [
      "\n"
     ]
    },
    {
     "name": "stderr",
     "output_type": "stream",
     "text": [
      "==============================\n",
      "*** Open Babel Warning  in ReadMolecule\n",
      "  Failed to kekulize aromatic bonds in MOL2 file (title is 2fsv_NAD_1_protein)\n",
      "\n"
     ]
    },
    {
     "name": "stdout",
     "output_type": "stream",
     "text": [
      "\n"
     ]
    },
    {
     "name": "stderr",
     "output_type": "stream",
     "text": [
      "==============================\n",
      "*** Open Babel Warning  in ReadMolecule\n",
      "  Failed to kekulize aromatic bonds in MOL2 file (title is 4wzh_FMN_2_protein)\n",
      "\n"
     ]
    },
    {
     "name": "stdout",
     "output_type": "stream",
     "text": [
      "\n"
     ]
    },
    {
     "name": "stderr",
     "output_type": "stream",
     "text": [
      "==============================\n",
      "*** Open Babel Warning  in ReadMolecule\n",
      "  This Mol2 file is non-standard. Problem with molecule: 4p1h_BEN_1_protein Cannot interpret atom types correctly, instead attempting to interpret atom type: SM as elements instead.\n",
      "==============================\n",
      "*** Open Babel Warning  in Translate\n",
      "  Cannot perform atom type translation: table cannot find requested types.\n",
      "==============================\n",
      "*** Open Babel Warning  in ReadMolecule\n",
      "  Failed to kekulize aromatic bonds in MOL2 file (title is 4p1h_BEN_1_protein)\n",
      "\n"
     ]
    },
    {
     "name": "stdout",
     "output_type": "stream",
     "text": [
      "\n"
     ]
    },
    {
     "name": "stderr",
     "output_type": "stream",
     "text": [
      "==============================\n",
      "*** Open Babel Warning  in ReadMolecule\n",
      "  Failed to kekulize aromatic bonds in MOL2 file (title is 2bmc_MPY_6_protein)\n",
      "\n"
     ]
    },
    {
     "name": "stdout",
     "output_type": "stream",
     "text": [
      "\n"
     ]
    },
    {
     "name": "stderr",
     "output_type": "stream",
     "text": [
      "==============================\n",
      "*** Open Babel Warning  in ReadMolecule\n",
      "  Failed to kekulize aromatic bonds in MOL2 file (title is 1dnp_FAD_3_protein)\n",
      "\n"
     ]
    },
    {
     "name": "stdout",
     "output_type": "stream",
     "text": [
      "\n"
     ]
    },
    {
     "name": "stderr",
     "output_type": "stream",
     "text": [
      "==============================\n",
      "*** Open Babel Warning  in ReadMolecule\n",
      "  Failed to kekulize aromatic bonds in MOL2 file (title is 3clh_NAD_2_protein)\n",
      "\n"
     ]
    },
    {
     "name": "stdout",
     "output_type": "stream",
     "text": [
      "\n"
     ]
    },
    {
     "name": "stderr",
     "output_type": "stream",
     "text": [
      "==============================\n",
      "*** Open Babel Warning  in ReadMolecule\n",
      "  Failed to kekulize aromatic bonds in MOL2 file (title is 2q9u_FMN_1_protein)\n",
      "\n"
     ]
    },
    {
     "name": "stdout",
     "output_type": "stream",
     "text": [
      "\n"
     ]
    },
    {
     "name": "stderr",
     "output_type": "stream",
     "text": [
      "==============================\n",
      "*** Open Babel Warning  in ReadMolecule\n",
      "  Failed to kekulize aromatic bonds in MOL2 file (title is 3u0f_07L_1_protein)\n",
      "\n"
     ]
    },
    {
     "name": "stdout",
     "output_type": "stream",
     "text": [
      "\n"
     ]
    },
    {
     "name": "stderr",
     "output_type": "stream",
     "text": [
      "==============================\n",
      "*** Open Babel Warning  in ReadMolecule\n",
      "  Failed to kekulize aromatic bonds in MOL2 file (title is 5aya_X8Z_1_protein)\n",
      "\n"
     ]
    },
    {
     "name": "stdout",
     "output_type": "stream",
     "text": [
      "\n"
     ]
    },
    {
     "name": "stderr",
     "output_type": "stream",
     "text": [
      "==============================\n",
      "*** Open Babel Warning  in ReadMolecule\n",
      "  Failed to kekulize aromatic bonds in MOL2 file (title is 5kl9_COA_1_protein)\n",
      "\n"
     ]
    },
    {
     "name": "stdout",
     "output_type": "stream",
     "text": [
      "\n"
     ]
    },
    {
     "name": "stderr",
     "output_type": "stream",
     "text": [
      "==============================\n",
      "*** Open Babel Warning  in ReadMolecule\n",
      "  Failed to kekulize aromatic bonds in MOL2 file (title is 2vgo_AD5_2_protein)\n",
      "\n"
     ]
    },
    {
     "name": "stdout",
     "output_type": "stream",
     "text": [
      "\n"
     ]
    },
    {
     "name": "stderr",
     "output_type": "stream",
     "text": [
      "==============================\n",
      "*** Open Babel Warning  in ReadMolecule\n",
      "  Failed to kekulize aromatic bonds in MOL2 file (title is 3jvv_ACP_2_protein)\n",
      "\n"
     ]
    },
    {
     "name": "stdout",
     "output_type": "stream",
     "text": [
      "\n"
     ]
    },
    {
     "name": "stderr",
     "output_type": "stream",
     "text": [
      "==============================\n",
      "*** Open Babel Warning  in ReadMolecule\n",
      "  Failed to kekulize aromatic bonds in MOL2 file (title is 4zlg_LGC_1_protein)\n",
      "\n"
     ]
    },
    {
     "name": "stdout",
     "output_type": "stream",
     "text": [
      "\n"
     ]
    },
    {
     "name": "stderr",
     "output_type": "stream",
     "text": [
      "==============================\n",
      "*** Open Babel Warning  in ReadMolecule\n",
      "  Failed to kekulize aromatic bonds in MOL2 file (title is 2jas_DTP_4_protein)\n",
      "\n"
     ]
    },
    {
     "name": "stdout",
     "output_type": "stream",
     "text": [
      "\n"
     ]
    },
    {
     "name": "stderr",
     "output_type": "stream",
     "text": [
      "==============================\n",
      "*** Open Babel Warning  in ReadMolecule\n",
      "  Failed to kekulize aromatic bonds in MOL2 file (title is 4o9c_COA_1_protein)\n",
      "\n"
     ]
    },
    {
     "name": "stdout",
     "output_type": "stream",
     "text": [
      "\n"
     ]
    },
    {
     "name": "stderr",
     "output_type": "stream",
     "text": [
      "==============================\n",
      "*** Open Babel Warning  in ReadMolecule\n",
      "  Failed to kekulize aromatic bonds in MOL2 file (title is 2ad5_ADP_1_protein)\n",
      "\n"
     ]
    },
    {
     "name": "stdout",
     "output_type": "stream",
     "text": [
      "\n"
     ]
    },
    {
     "name": "stderr",
     "output_type": "stream",
     "text": [
      "==============================\n",
      "*** Open Babel Warning  in ReadMolecule\n",
      "  Failed to kekulize aromatic bonds in MOL2 file (title is 3hdq_GDU_1_protein)\n",
      "\n"
     ]
    },
    {
     "name": "stdout",
     "output_type": "stream",
     "text": [
      "\n"
     ]
    },
    {
     "name": "stderr",
     "output_type": "stream",
     "text": [
      "==============================\n",
      "*** Open Babel Warning  in ReadMolecule\n",
      "  Failed to kekulize aromatic bonds in MOL2 file (title is 2hxz_H7J_2_protein)\n",
      "\n"
     ]
    },
    {
     "name": "stdout",
     "output_type": "stream",
     "text": [
      "\n"
     ]
    },
    {
     "name": "stderr",
     "output_type": "stream",
     "text": [
      "==============================\n",
      "*** Open Babel Warning  in ReadMolecule\n",
      "  Failed to kekulize aromatic bonds in MOL2 file (title is 1uma_IN2_1_protein)\n",
      "\n"
     ]
    },
    {
     "name": "stdout",
     "output_type": "stream",
     "text": [
      "\n"
     ]
    },
    {
     "name": "stderr",
     "output_type": "stream",
     "text": [
      "==============================\n",
      "*** Open Babel Warning  in ReadMolecule\n",
      "  Failed to kekulize aromatic bonds in MOL2 file (title is 4jt9_1NS_1_protein)\n",
      "\n"
     ]
    },
    {
     "name": "stdout",
     "output_type": "stream",
     "text": [
      "\n"
     ]
    },
    {
     "name": "stderr",
     "output_type": "stream",
     "text": [
      "==============================\n",
      "*** Open Babel Warning  in ReadMolecule\n",
      "  Failed to kekulize aromatic bonds in MOL2 file (title is 1kqb_FMN_3_protein)\n",
      "\n"
     ]
    },
    {
     "name": "stdout",
     "output_type": "stream",
     "text": [
      "\n"
     ]
    },
    {
     "name": "stderr",
     "output_type": "stream",
     "text": [
      "==============================\n",
      "*** Open Babel Warning  in ReadMolecule\n",
      "  Failed to kekulize aromatic bonds in MOL2 file (title is 4ype_SAM_1_protein)\n",
      "\n"
     ]
    },
    {
     "name": "stdout",
     "output_type": "stream",
     "text": [
      "\n"
     ]
    },
    {
     "name": "stderr",
     "output_type": "stream",
     "text": [
      "==============================\n",
      "*** Open Babel Warning  in ReadMolecule\n",
      "  Failed to kekulize aromatic bonds in MOL2 file (title is 4jk4_DIU_7_protein)\n",
      "\n"
     ]
    },
    {
     "name": "stdout",
     "output_type": "stream",
     "text": [
      "\n"
     ]
    },
    {
     "name": "stderr",
     "output_type": "stream",
     "text": [
      "==============================\n",
      "*** Open Babel Warning  in ReadMolecule\n",
      "  Failed to kekulize aromatic bonds in MOL2 file (title is 1wwk_NAD_2_protein)\n",
      "\n"
     ]
    },
    {
     "name": "stdout",
     "output_type": "stream",
     "text": [
      "\n"
     ]
    },
    {
     "name": "stderr",
     "output_type": "stream",
     "text": [
      "==============================\n",
      "*** Open Babel Warning  in ReadMolecule\n",
      "  Failed to kekulize aromatic bonds in MOL2 file (title is 1gwc_GTX_1_protein)\n",
      "\n"
     ]
    },
    {
     "name": "stdout",
     "output_type": "stream",
     "text": [
      "\n"
     ]
    },
    {
     "name": "stderr",
     "output_type": "stream",
     "text": [
      "==============================\n",
      "*** Open Babel Warning  in ReadMolecule\n",
      "  Failed to kekulize aromatic bonds in MOL2 file (title is 4nyi_GNP_1_protein)\n",
      "\n"
     ]
    },
    {
     "name": "stdout",
     "output_type": "stream",
     "text": [
      "\n"
     ]
    },
    {
     "name": "stderr",
     "output_type": "stream",
     "text": [
      "==============================\n",
      "*** Open Babel Warning  in ReadMolecule\n",
      "  Failed to kekulize aromatic bonds in MOL2 file (title is 4uog_YYY_3_protein)\n",
      "\n"
     ]
    },
    {
     "name": "stdout",
     "output_type": "stream",
     "text": [
      "\n"
     ]
    },
    {
     "name": "stderr",
     "output_type": "stream",
     "text": [
      "==============================\n",
      "*** Open Babel Warning  in ReadMolecule\n",
      "  Failed to kekulize aromatic bonds in MOL2 file (title is 2w14_WR2_1_protein)\n",
      "\n"
     ]
    },
    {
     "name": "stdout",
     "output_type": "stream",
     "text": [
      "\n"
     ]
    },
    {
     "name": "stderr",
     "output_type": "stream",
     "text": [
      "==============================\n",
      "*** Open Babel Warning  in ReadMolecule\n",
      "  Failed to kekulize aromatic bonds in MOL2 file (title is 3keo_NAD_1_protein)\n",
      "\n"
     ]
    },
    {
     "name": "stdout",
     "output_type": "stream",
     "text": [
      "\n"
     ]
    },
    {
     "name": "stderr",
     "output_type": "stream",
     "text": [
      "==============================\n",
      "*** Open Babel Warning  in ReadMolecule\n",
      "  Failed to kekulize aromatic bonds in MOL2 file (title is 3a3g_DLZ_1_protein)\n",
      "\n"
     ]
    },
    {
     "name": "stdout",
     "output_type": "stream",
     "text": [
      "\n"
     ]
    },
    {
     "name": "stderr",
     "output_type": "stream",
     "text": [
      "==============================\n",
      "*** Open Babel Warning  in ReadMolecule\n",
      "  Failed to kekulize aromatic bonds in MOL2 file (title is 5fmm_MGT_1_protein)\n",
      "\n"
     ]
    },
    {
     "name": "stdout",
     "output_type": "stream",
     "text": [
      "\n"
     ]
    },
    {
     "name": "stderr",
     "output_type": "stream",
     "text": [
      "==============================\n",
      "*** Open Babel Warning  in ReadMolecule\n",
      "  Failed to kekulize aromatic bonds in MOL2 file (title is 1sxj_ADP_5_protein)\n",
      "\n"
     ]
    },
    {
     "name": "stdout",
     "output_type": "stream",
     "text": [
      "\n"
     ]
    },
    {
     "name": "stderr",
     "output_type": "stream",
     "text": [
      "==============================\n",
      "*** Open Babel Warning  in ReadMolecule\n",
      "  Failed to kekulize aromatic bonds in MOL2 file (title is 3khu_UPG_5_protein)\n",
      "\n"
     ]
    },
    {
     "name": "stdout",
     "output_type": "stream",
     "text": [
      "\n"
     ]
    },
    {
     "name": "stderr",
     "output_type": "stream",
     "text": [
      "==============================\n",
      "*** Open Babel Warning  in ReadMolecule\n",
      "  Failed to kekulize aromatic bonds in MOL2 file (title is 4ogl_TDR_4_protein)\n",
      "\n"
     ]
    },
    {
     "name": "stdout",
     "output_type": "stream",
     "text": [
      "\n"
     ]
    },
    {
     "name": "stderr",
     "output_type": "stream",
     "text": [
      "==============================\n",
      "*** Open Babel Warning  in ReadMolecule\n",
      "  Failed to kekulize aromatic bonds in MOL2 file (title is 2iko_7IG_1_protein)\n",
      "\n"
     ]
    },
    {
     "name": "stdout",
     "output_type": "stream",
     "text": [
      "\n"
     ]
    },
    {
     "name": "stderr",
     "output_type": "stream",
     "text": [
      "==============================\n",
      "*** Open Babel Warning  in ReadMolecule\n",
      "  Failed to kekulize aromatic bonds in MOL2 file (title is 4egr_PEP_2_protein)\n",
      "\n"
     ]
    },
    {
     "name": "stdout",
     "output_type": "stream",
     "text": [
      "\n"
     ]
    },
    {
     "name": "stderr",
     "output_type": "stream",
     "text": [
      "==============================\n",
      "*** Open Babel Warning  in ReadMolecule\n",
      "  Failed to kekulize aromatic bonds in MOL2 file (title is 3gag_FMN_2_protein)\n",
      "\n"
     ]
    },
    {
     "name": "stdout",
     "output_type": "stream",
     "text": [
      "\n"
     ]
    },
    {
     "name": "stderr",
     "output_type": "stream",
     "text": [
      "==============================\n",
      "*** Open Babel Warning  in ReadMolecule\n",
      "  Failed to kekulize aromatic bonds in MOL2 file (title is 4lna_ADE_1_protein)\n",
      "\n"
     ]
    },
    {
     "name": "stdout",
     "output_type": "stream",
     "text": [
      "\n"
     ]
    },
    {
     "name": "stderr",
     "output_type": "stream",
     "text": [
      "==============================\n",
      "*** Open Babel Warning  in ReadMolecule\n",
      "  Failed to kekulize aromatic bonds in MOL2 file (title is 2p8u_COA_2_protein)\n",
      "\n"
     ]
    },
    {
     "name": "stdout",
     "output_type": "stream",
     "text": [
      "\n"
     ]
    },
    {
     "name": "stderr",
     "output_type": "stream",
     "text": [
      "==============================\n",
      "*** Open Babel Warning  in ReadMolecule\n",
      "  Failed to kekulize aromatic bonds in MOL2 file (title is 4msg_2C6_1_protein)\n",
      "\n"
     ]
    },
    {
     "name": "stdout",
     "output_type": "stream",
     "text": [
      "\n"
     ]
    },
    {
     "name": "stderr",
     "output_type": "stream",
     "text": [
      "==============================\n",
      "*** Open Babel Warning  in ReadMolecule\n",
      "  Failed to kekulize aromatic bonds in MOL2 file (title is 3owa_FAD_2_protein)\n",
      "\n"
     ]
    },
    {
     "name": "stdout",
     "output_type": "stream",
     "text": [
      "\n"
     ]
    },
    {
     "name": "stderr",
     "output_type": "stream",
     "text": [
      "==============================\n",
      "*** Open Babel Warning  in ReadMolecule\n",
      "  Failed to kekulize aromatic bonds in MOL2 file (title is 4b1i_A8P_1_protein)\n",
      "\n"
     ]
    },
    {
     "name": "stdout",
     "output_type": "stream",
     "text": [
      "\n"
     ]
    },
    {
     "name": "stderr",
     "output_type": "stream",
     "text": [
      "==============================\n",
      "*** Open Babel Warning  in ReadMolecule\n",
      "  Failed to kekulize aromatic bonds in MOL2 file (title is 4zz7_NAD_2_protein)\n",
      "\n"
     ]
    },
    {
     "name": "stdout",
     "output_type": "stream",
     "text": [
      "\n"
     ]
    },
    {
     "name": "stderr",
     "output_type": "stream",
     "text": [
      "==============================\n",
      "*** Open Babel Warning  in ReadMolecule\n",
      "  Failed to kekulize aromatic bonds in MOL2 file (title is 2z1m_NDP_3_protein)\n",
      "\n"
     ]
    },
    {
     "name": "stdout",
     "output_type": "stream",
     "text": [
      "\n"
     ]
    },
    {
     "name": "stderr",
     "output_type": "stream",
     "text": [
      "==============================\n",
      "*** Open Babel Warning  in ReadMolecule\n",
      "  Failed to kekulize aromatic bonds in MOL2 file (title is 4wri_OKA_1_protein)\n",
      "\n"
     ]
    },
    {
     "name": "stdout",
     "output_type": "stream",
     "text": [
      "\n"
     ]
    },
    {
     "name": "stderr",
     "output_type": "stream",
     "text": [
      "==============================\n",
      "*** Open Babel Warning  in ReadMolecule\n",
      "  Failed to kekulize aromatic bonds in MOL2 file (title is 3gue_UPG_1_protein)\n",
      "\n"
     ]
    },
    {
     "name": "stdout",
     "output_type": "stream",
     "text": [
      "\n"
     ]
    },
    {
     "name": "stderr",
     "output_type": "stream",
     "text": [
      "==============================\n",
      "*** Open Babel Warning  in ReadMolecule\n",
      "  Failed to kekulize aromatic bonds in MOL2 file (title is 5ce3_ATP_3_protein)\n",
      "\n"
     ]
    },
    {
     "name": "stdout",
     "output_type": "stream",
     "text": [
      "\n"
     ]
    },
    {
     "name": "stderr",
     "output_type": "stream",
     "text": [
      "==============================\n",
      "*** Open Babel Warning  in ReadMolecule\n",
      "  Failed to kekulize aromatic bonds in MOL2 file (title is 4zla_BES_6_protein)\n",
      "\n"
     ]
    },
    {
     "name": "stdout",
     "output_type": "stream",
     "text": [
      "\n"
     ]
    },
    {
     "name": "stderr",
     "output_type": "stream",
     "text": [
      "==============================\n",
      "*** Open Babel Warning  in ReadMolecule\n",
      "  Failed to kekulize aromatic bonds in MOL2 file (title is 3hj9_FMN_1_protein)\n",
      "\n"
     ]
    },
    {
     "name": "stdout",
     "output_type": "stream",
     "text": [
      "\n"
     ]
    },
    {
     "name": "stderr",
     "output_type": "stream",
     "text": [
      "==============================\n",
      "*** Open Babel Warning  in ReadMolecule\n",
      "  Failed to kekulize aromatic bonds in MOL2 file (title is 3fu8_3DM_2_protein)\n",
      "\n"
     ]
    },
    {
     "name": "stdout",
     "output_type": "stream",
     "text": [
      "\n"
     ]
    },
    {
     "name": "stderr",
     "output_type": "stream",
     "text": [
      "==============================\n",
      "*** Open Babel Warning  in ReadMolecule\n",
      "  Failed to kekulize aromatic bonds in MOL2 file (title is 3d80_Q22_1_protein)\n",
      "\n"
     ]
    },
    {
     "name": "stdout",
     "output_type": "stream",
     "text": [
      "\n"
     ]
    },
    {
     "name": "stderr",
     "output_type": "stream",
     "text": [
      "==============================\n",
      "*** Open Babel Warning  in ReadMolecule\n",
      "  Failed to kekulize aromatic bonds in MOL2 file (title is 2rfi_SAH_2_protein)\n",
      "\n"
     ]
    },
    {
     "name": "stdout",
     "output_type": "stream",
     "text": [
      "\n"
     ]
    },
    {
     "name": "stderr",
     "output_type": "stream",
     "text": [
      "==============================\n",
      "*** Open Babel Warning  in ReadMolecule\n",
      "  Failed to kekulize aromatic bonds in MOL2 file (title is 3zos_0LI_2_protein)\n",
      "\n"
     ]
    },
    {
     "name": "stdout",
     "output_type": "stream",
     "text": [
      "\n"
     ]
    },
    {
     "name": "stderr",
     "output_type": "stream",
     "text": [
      "==============================\n",
      "*** Open Babel Warning  in ReadMolecule\n",
      "  Failed to kekulize aromatic bonds in MOL2 file (title is 2e9z_UTP_1_protein)\n",
      "\n"
     ]
    },
    {
     "name": "stdout",
     "output_type": "stream",
     "text": [
      "\n"
     ]
    },
    {
     "name": "stderr",
     "output_type": "stream",
     "text": [
      "==============================\n",
      "*** Open Babel Warning  in ReadMolecule\n",
      "  Failed to kekulize aromatic bonds in MOL2 file (title is 1t2a_GDP_4_protein)\n",
      "\n"
     ]
    },
    {
     "name": "stdout",
     "output_type": "stream",
     "text": [
      "\n"
     ]
    },
    {
     "name": "stderr",
     "output_type": "stream",
     "text": [
      "==============================\n",
      "*** Open Babel Warning  in ReadMolecule\n",
      "  Failed to kekulize aromatic bonds in MOL2 file (title is 3tjz_GNP_2_protein)\n",
      "\n"
     ]
    },
    {
     "name": "stdout",
     "output_type": "stream",
     "text": [
      "\n"
     ]
    },
    {
     "name": "stderr",
     "output_type": "stream",
     "text": [
      "==============================\n",
      "*** Open Babel Warning  in ReadMolecule\n",
      "  Failed to kekulize aromatic bonds in MOL2 file (title is 3p19_NDP_2_protein)\n",
      "\n"
     ]
    },
    {
     "name": "stdout",
     "output_type": "stream",
     "text": [
      "\n"
     ]
    },
    {
     "name": "stderr",
     "output_type": "stream",
     "text": [
      "==============================\n",
      "*** Open Babel Warning  in ReadMolecule\n",
      "  Failed to kekulize aromatic bonds in MOL2 file (title is 5e92_ANP_1_protein)\n",
      "\n"
     ]
    },
    {
     "name": "stdout",
     "output_type": "stream",
     "text": [
      "\n"
     ]
    },
    {
     "name": "stderr",
     "output_type": "stream",
     "text": [
      "==============================\n",
      "*** Open Babel Warning  in ReadMolecule\n",
      "  Failed to kekulize aromatic bonds in MOL2 file (title is 1gm7_PNN_1_protein)\n",
      "\n"
     ]
    },
    {
     "name": "stdout",
     "output_type": "stream",
     "text": [
      "\n"
     ]
    },
    {
     "name": "stderr",
     "output_type": "stream",
     "text": [
      "==============================\n",
      "*** Open Babel Warning  in ReadMolecule\n",
      "  Failed to kekulize aromatic bonds in MOL2 file (title is 3mpj_FAD_3_protein)\n",
      "\n"
     ]
    },
    {
     "name": "stdout",
     "output_type": "stream",
     "text": [
      "\n"
     ]
    },
    {
     "name": "stderr",
     "output_type": "stream",
     "text": [
      "==============================\n",
      "*** Open Babel Warning  in ReadMolecule\n",
      "  Failed to kekulize aromatic bonds in MOL2 file (title is 3glm_COO_4_protein)\n",
      "\n"
     ]
    },
    {
     "name": "stdout",
     "output_type": "stream",
     "text": [
      "\n"
     ]
    },
    {
     "name": "stderr",
     "output_type": "stream",
     "text": [
      "==============================\n",
      "*** Open Babel Warning  in ReadMolecule\n",
      "  Failed to kekulize aromatic bonds in MOL2 file (title is 1qs2_NAD_1_protein)\n",
      "\n"
     ]
    },
    {
     "name": "stdout",
     "output_type": "stream",
     "text": [
      "\n"
     ]
    },
    {
     "name": "stderr",
     "output_type": "stream",
     "text": [
      "==============================\n",
      "*** Open Babel Warning  in ReadMolecule\n",
      "  Failed to kekulize aromatic bonds in MOL2 file (title is 2hdn_TAC_1_protein)\n",
      "\n"
     ]
    },
    {
     "name": "stdout",
     "output_type": "stream",
     "text": [
      "\n"
     ]
    },
    {
     "name": "stderr",
     "output_type": "stream",
     "text": [
      "==============================\n",
      "*** Open Babel Warning  in ReadMolecule\n",
      "  Failed to kekulize aromatic bonds in MOL2 file (title is 1u1d_181_5_protein)\n",
      "\n"
     ]
    },
    {
     "name": "stdout",
     "output_type": "stream",
     "text": [
      "\n"
     ]
    },
    {
     "name": "stderr",
     "output_type": "stream",
     "text": [
      "==============================\n",
      "*** Open Babel Warning  in ReadMolecule\n",
      "  Failed to kekulize aromatic bonds in MOL2 file (title is 5bsr_COA_1_protein)\n",
      "\n"
     ]
    },
    {
     "name": "stdout",
     "output_type": "stream",
     "text": [
      "\n"
     ]
    },
    {
     "name": "stderr",
     "output_type": "stream",
     "text": [
      "==============================\n",
      "*** Open Babel Warning  in ReadMolecule\n",
      "  Failed to kekulize aromatic bonds in MOL2 file (title is 2gjl_FMN_1_protein)\n",
      "\n"
     ]
    },
    {
     "name": "stdout",
     "output_type": "stream",
     "text": [
      "\n"
     ]
    },
    {
     "name": "stderr",
     "output_type": "stream",
     "text": [
      "==============================\n",
      "*** Open Babel Warning  in ReadMolecule\n",
      "  Failed to kekulize aromatic bonds in MOL2 file (title is 3rpn_GTX_6_protein)\n",
      "\n"
     ]
    },
    {
     "name": "stdout",
     "output_type": "stream",
     "text": [
      "\n"
     ]
    },
    {
     "name": "stderr",
     "output_type": "stream",
     "text": [
      "==============================\n",
      "*** Open Babel Warning  in ReadMolecule\n",
      "  Failed to kekulize aromatic bonds in MOL2 file (title is 3b99_U51_4_protein)\n",
      "\n"
     ]
    },
    {
     "name": "stdout",
     "output_type": "stream",
     "text": [
      "\n"
     ]
    },
    {
     "name": "stderr",
     "output_type": "stream",
     "text": [
      "==============================\n",
      "*** Open Babel Warning  in ReadMolecule\n",
      "  Failed to kekulize aromatic bonds in MOL2 file (title is 3frk_TQP_2_protein)\n",
      "\n"
     ]
    },
    {
     "name": "stdout",
     "output_type": "stream",
     "text": [
      "\n"
     ]
    },
    {
     "name": "stderr",
     "output_type": "stream",
     "text": [
      "==============================\n",
      "*** Open Babel Warning  in ReadMolecule\n",
      "  Failed to kekulize aromatic bonds in MOL2 file (title is 4feq_0T8_1_protein)\n",
      "\n"
     ]
    },
    {
     "name": "stdout",
     "output_type": "stream",
     "text": [
      "\n"
     ]
    },
    {
     "name": "stderr",
     "output_type": "stream",
     "text": [
      "==============================\n",
      "*** Open Babel Warning  in ReadMolecule\n",
      "  Failed to kekulize aromatic bonds in MOL2 file (title is 5fl4_9FK_1_protein)\n",
      "\n"
     ]
    },
    {
     "name": "stdout",
     "output_type": "stream",
     "text": [
      "\n"
     ]
    },
    {
     "name": "stderr",
     "output_type": "stream",
     "text": [
      "==============================\n",
      "*** Open Babel Warning  in ReadMolecule\n",
      "  Failed to kekulize aromatic bonds in MOL2 file (title is 2qpy_DHT_1_protein)\n",
      "\n"
     ]
    },
    {
     "name": "stdout",
     "output_type": "stream",
     "text": [
      "\n"
     ]
    },
    {
     "name": "stderr",
     "output_type": "stream",
     "text": [
      "==============================\n",
      "*** Open Babel Warning  in ReadMolecule\n",
      "  Failed to kekulize aromatic bonds in MOL2 file (title is 2h00_SAH_2_protein)\n",
      "\n"
     ]
    },
    {
     "name": "stdout",
     "output_type": "stream",
     "text": [
      "\n"
     ]
    },
    {
     "name": "stderr",
     "output_type": "stream",
     "text": [
      "==============================\n",
      "*** Open Babel Warning  in ReadMolecule\n",
      "  Failed to kekulize aromatic bonds in MOL2 file (title is 4u0m_GTP_1_protein)\n",
      "\n"
     ]
    },
    {
     "name": "stdout",
     "output_type": "stream",
     "text": [
      "\n"
     ]
    },
    {
     "name": "stderr",
     "output_type": "stream",
     "text": [
      "==============================\n",
      "*** Open Babel Warning  in ReadMolecule\n",
      "  Failed to kekulize aromatic bonds in MOL2 file (title is 1pg3_PRX_1_protein)\n",
      "\n"
     ]
    },
    {
     "name": "stdout",
     "output_type": "stream",
     "text": [
      "\n"
     ]
    },
    {
     "name": "stderr",
     "output_type": "stream",
     "text": [
      "==============================\n",
      "*** Open Babel Warning  in ReadMolecule\n",
      "  Failed to kekulize aromatic bonds in MOL2 file (title is 2nmt_MIM_2_protein)\n",
      "\n"
     ]
    },
    {
     "name": "stdout",
     "output_type": "stream",
     "text": [
      "\n"
     ]
    },
    {
     "name": "stderr",
     "output_type": "stream",
     "text": [
      "==============================\n",
      "*** Open Babel Warning  in ReadMolecule\n",
      "  Failed to kekulize aromatic bonds in MOL2 file (title is 3gsi_FAD_2_protein)\n",
      "\n"
     ]
    },
    {
     "name": "stdout",
     "output_type": "stream",
     "text": [
      "\n"
     ]
    },
    {
     "name": "stderr",
     "output_type": "stream",
     "text": [
      "==============================\n",
      "*** Open Babel Warning  in ReadMolecule\n",
      "  Failed to kekulize aromatic bonds in MOL2 file (title is 4n4t_2GV_1_protein)\n",
      "\n"
     ]
    },
    {
     "name": "stdout",
     "output_type": "stream",
     "text": [
      "\n"
     ]
    },
    {
     "name": "stderr",
     "output_type": "stream",
     "text": [
      "==============================\n",
      "*** Open Babel Warning  in ReadMolecule\n",
      "  Failed to kekulize aromatic bonds in MOL2 file (title is 3ael_2LM_4_protein)\n",
      "\n"
     ]
    },
    {
     "name": "stdout",
     "output_type": "stream",
     "text": [
      "\n"
     ]
    },
    {
     "name": "stderr",
     "output_type": "stream",
     "text": [
      "==============================\n",
      "*** Open Babel Warning  in ReadMolecule\n",
      "  Failed to kekulize aromatic bonds in MOL2 file (title is 1sqx_SMA_1_protein)\n",
      "\n"
     ]
    },
    {
     "name": "stdout",
     "output_type": "stream",
     "text": [
      "\n"
     ]
    },
    {
     "name": "stderr",
     "output_type": "stream",
     "text": [
      "==============================\n",
      "*** Open Babel Warning  in ReadMolecule\n",
      "  Failed to kekulize aromatic bonds in MOL2 file (title is 4jaq_COA_1_protein)\n",
      "\n"
     ]
    },
    {
     "name": "stdout",
     "output_type": "stream",
     "text": [
      "\n"
     ]
    },
    {
     "name": "stderr",
     "output_type": "stream",
     "text": [
      "==============================\n",
      "*** Open Babel Warning  in ReadMolecule\n",
      "  Failed to kekulize aromatic bonds in MOL2 file (title is 4oad_CLM_1_protein)\n",
      "\n"
     ]
    },
    {
     "name": "stdout",
     "output_type": "stream",
     "text": [
      "\n"
     ]
    },
    {
     "name": "stderr",
     "output_type": "stream",
     "text": [
      "==============================\n",
      "*** Open Babel Warning  in ReadMolecule\n",
      "  Failed to kekulize aromatic bonds in MOL2 file (title is 4ntd_FAD_1_protein)\n",
      "\n"
     ]
    },
    {
     "name": "stdout",
     "output_type": "stream",
     "text": [
      "\n"
     ]
    },
    {
     "name": "stderr",
     "output_type": "stream",
     "text": [
      "==============================\n",
      "*** Open Babel Warning  in ReadMolecule\n",
      "  Failed to kekulize aromatic bonds in MOL2 file (title is 3v1m_HPK_1_protein)\n",
      "\n"
     ]
    },
    {
     "name": "stdout",
     "output_type": "stream",
     "text": [
      "\n"
     ]
    },
    {
     "name": "stderr",
     "output_type": "stream",
     "text": [
      "==============================\n",
      "*** Open Babel Warning  in ReadMolecule\n",
      "  Failed to kekulize aromatic bonds in MOL2 file (title is 3ua3_SAH_2_protein)\n",
      "\n"
     ]
    },
    {
     "name": "stdout",
     "output_type": "stream",
     "text": [
      "\n"
     ]
    },
    {
     "name": "stderr",
     "output_type": "stream",
     "text": [
      "==============================\n",
      "*** Open Babel Warning  in ReadMolecule\n",
      "  Failed to kekulize aromatic bonds in MOL2 file (title is 4pjj_ADP_1_protein)\n",
      "\n"
     ]
    },
    {
     "name": "stdout",
     "output_type": "stream",
     "text": [
      "\n"
     ]
    },
    {
     "name": "stderr",
     "output_type": "stream",
     "text": [
      "==============================\n",
      "*** Open Babel Warning  in ReadMolecule\n",
      "  Failed to kekulize aromatic bonds in MOL2 file (title is 1sg9_SAM_2_protein)\n",
      "\n"
     ]
    },
    {
     "name": "stdout",
     "output_type": "stream",
     "text": [
      "\n"
     ]
    },
    {
     "name": "stderr",
     "output_type": "stream",
     "text": [
      "==============================\n",
      "*** Open Babel Warning  in ReadMolecule\n",
      "  Failed to kekulize aromatic bonds in MOL2 file (title is 4k36_SAM_1_protein)\n",
      "\n"
     ]
    },
    {
     "name": "stdout",
     "output_type": "stream",
     "text": [
      "\n"
     ]
    },
    {
     "name": "stderr",
     "output_type": "stream",
     "text": [
      "==============================\n",
      "*** Open Babel Warning  in ReadMolecule\n",
      "  Failed to kekulize aromatic bonds in MOL2 file (title is 1xkq_NDP_4_protein)\n",
      "\n"
     ]
    },
    {
     "name": "stdout",
     "output_type": "stream",
     "text": [
      "\n"
     ]
    },
    {
     "name": "stderr",
     "output_type": "stream",
     "text": [
      "==============================\n",
      "*** Open Babel Warning  in ReadMolecule\n",
      "  Failed to kekulize aromatic bonds in MOL2 file (title is 2fvl_NAP_3_protein)\n",
      "\n"
     ]
    },
    {
     "name": "stdout",
     "output_type": "stream",
     "text": [
      "\n"
     ]
    },
    {
     "name": "stderr",
     "output_type": "stream",
     "text": [
      "==============================\n",
      "*** Open Babel Warning  in ReadMolecule\n",
      "  Failed to kekulize aromatic bonds in MOL2 file (title is 4bby_FAD_2_protein)\n",
      "\n"
     ]
    },
    {
     "name": "stdout",
     "output_type": "stream",
     "text": [
      "\n"
     ]
    },
    {
     "name": "stderr",
     "output_type": "stream",
     "text": [
      "==============================\n",
      "*** Open Babel Warning  in ReadMolecule\n",
      "  Failed to kekulize aromatic bonds in MOL2 file (title is 3p70_BEN_4_protein)\n",
      "\n"
     ]
    },
    {
     "name": "stdout",
     "output_type": "stream",
     "text": [
      "\n"
     ]
    },
    {
     "name": "stderr",
     "output_type": "stream",
     "text": [
      "==============================\n",
      "*** Open Babel Warning  in ReadMolecule\n",
      "  Failed to kekulize aromatic bonds in MOL2 file (title is 2iwh_ANP_2_protein)\n",
      "\n"
     ]
    },
    {
     "name": "stdout",
     "output_type": "stream",
     "text": [
      "\n"
     ]
    },
    {
     "name": "stderr",
     "output_type": "stream",
     "text": [
      "==============================\n",
      "*** Open Babel Warning  in ReadMolecule\n",
      "  Failed to kekulize aromatic bonds in MOL2 file (title is 4a6e_ASE_1_protein)\n",
      "\n"
     ]
    },
    {
     "name": "stdout",
     "output_type": "stream",
     "text": [
      "\n"
     ]
    },
    {
     "name": "stderr",
     "output_type": "stream",
     "text": [
      "==============================\n",
      "*** Open Babel Warning  in ReadMolecule\n",
      "  Failed to kekulize aromatic bonds in MOL2 file (title is 3uow_XMP_2_protein)\n",
      "\n"
     ]
    },
    {
     "name": "stdout",
     "output_type": "stream",
     "text": [
      "\n"
     ]
    },
    {
     "name": "stderr",
     "output_type": "stream",
     "text": [
      "==============================\n",
      "*** Open Babel Warning  in ReadMolecule\n",
      "  Failed to kekulize aromatic bonds in MOL2 file (title is 2g5c_NAD_3_protein)\n",
      "\n"
     ]
    },
    {
     "name": "stdout",
     "output_type": "stream",
     "text": [
      "\n"
     ]
    },
    {
     "name": "stderr",
     "output_type": "stream",
     "text": [
      "==============================\n",
      "*** Open Babel Warning  in ReadMolecule\n",
      "  Failed to kekulize aromatic bonds in MOL2 file (title is 2y2x_VNL_1_protein)\n",
      "\n"
     ]
    },
    {
     "name": "stdout",
     "output_type": "stream",
     "text": [
      "\n"
     ]
    },
    {
     "name": "stderr",
     "output_type": "stream",
     "text": [
      "==============================\n",
      "*** Open Babel Warning  in ReadMolecule\n",
      "  Failed to kekulize aromatic bonds in MOL2 file (title is 5fwn_NAP_1_protein)\n",
      "\n"
     ]
    },
    {
     "name": "stdout",
     "output_type": "stream",
     "text": [
      "\n"
     ]
    },
    {
     "name": "stderr",
     "output_type": "stream",
     "text": [
      "==============================\n",
      "*** Open Babel Warning  in ReadMolecule\n",
      "  Failed to kekulize aromatic bonds in MOL2 file (title is 4bqh_9VU_1_protein)\n",
      "\n"
     ]
    },
    {
     "name": "stdout",
     "output_type": "stream",
     "text": [
      "\n"
     ]
    },
    {
     "name": "stderr",
     "output_type": "stream",
     "text": [
      "==============================\n",
      "*** Open Babel Warning  in ReadMolecule\n",
      "  Failed to kekulize aromatic bonds in MOL2 file (title is 1wav_IPH_5_protein)\n",
      "\n"
     ]
    },
    {
     "name": "stdout",
     "output_type": "stream",
     "text": [
      "\n"
     ]
    },
    {
     "name": "stderr",
     "output_type": "stream",
     "text": [
      "==============================\n",
      "*** Open Babel Warning  in ReadMolecule\n",
      "  Failed to kekulize aromatic bonds in MOL2 file (title is 4z07_PCG_3_protein)\n",
      "\n"
     ]
    },
    {
     "name": "stdout",
     "output_type": "stream",
     "text": [
      "\n"
     ]
    },
    {
     "name": "stderr",
     "output_type": "stream",
     "text": [
      "==============================\n",
      "*** Open Babel Warning  in ReadMolecule\n",
      "  Failed to kekulize aromatic bonds in MOL2 file (title is 2x4f_16X_2_protein)\n",
      "\n"
     ]
    },
    {
     "name": "stdout",
     "output_type": "stream",
     "text": [
      "\n"
     ]
    },
    {
     "name": "stderr",
     "output_type": "stream",
     "text": [
      "==============================\n",
      "*** Open Babel Warning  in ReadMolecule\n",
      "  Failed to kekulize aromatic bonds in MOL2 file (title is 4k2x_FAD_2_protein)\n",
      "\n"
     ]
    },
    {
     "name": "stdout",
     "output_type": "stream",
     "text": [
      "\n"
     ]
    },
    {
     "name": "stderr",
     "output_type": "stream",
     "text": [
      "==============================\n",
      "*** Open Babel Warning  in ReadMolecule\n",
      "  Failed to kekulize aromatic bonds in MOL2 file (title is 1tzj_A3B_2_protein)\n",
      "\n"
     ]
    },
    {
     "name": "stdout",
     "output_type": "stream",
     "text": [
      "\n"
     ]
    },
    {
     "name": "stderr",
     "output_type": "stream",
     "text": [
      "==============================\n",
      "*** Open Babel Warning  in ReadMolecule\n",
      "  Failed to kekulize aromatic bonds in MOL2 file (title is 2f1k_NAP_2_protein)\n",
      "\n"
     ]
    },
    {
     "name": "stdout",
     "output_type": "stream",
     "text": [
      "\n"
     ]
    },
    {
     "name": "stderr",
     "output_type": "stream",
     "text": [
      "==============================\n",
      "*** Open Babel Warning  in ReadMolecule\n",
      "  Failed to kekulize aromatic bonds in MOL2 file (title is 1t84_WSK_1_protein)\n",
      "\n"
     ]
    },
    {
     "name": "stdout",
     "output_type": "stream",
     "text": [
      "\n"
     ]
    },
    {
     "name": "stderr",
     "output_type": "stream",
     "text": [
      "==============================\n",
      "*** Open Babel Warning  in ReadMolecule\n",
      "  Failed to kekulize aromatic bonds in MOL2 file (title is 2gqf_FAD_1_protein)\n",
      "\n"
     ]
    },
    {
     "name": "stdout",
     "output_type": "stream",
     "text": [
      "\n"
     ]
    },
    {
     "name": "stderr",
     "output_type": "stream",
     "text": [
      "==============================\n",
      "*** Open Babel Warning  in ReadMolecule\n",
      "  Failed to kekulize aromatic bonds in MOL2 file (title is 4fkk_BES_1_protein)\n",
      "\n"
     ]
    },
    {
     "name": "stdout",
     "output_type": "stream",
     "text": [
      "\n"
     ]
    },
    {
     "name": "stderr",
     "output_type": "stream",
     "text": [
      "==============================\n",
      "*** Open Babel Warning  in ReadMolecule\n",
      "  Failed to kekulize aromatic bonds in MOL2 file (title is 1q3s_ADP_2_protein)\n",
      "\n"
     ]
    },
    {
     "name": "stdout",
     "output_type": "stream",
     "text": [
      "\n"
     ]
    },
    {
     "name": "stderr",
     "output_type": "stream",
     "text": [
      "==============================\n",
      "*** Open Babel Warning  in ReadMolecule\n",
      "  Failed to kekulize aromatic bonds in MOL2 file (title is 4rlh_0WE_2_protein)\n",
      "\n"
     ]
    },
    {
     "name": "stdout",
     "output_type": "stream",
     "text": [
      "\n"
     ]
    },
    {
     "name": "stderr",
     "output_type": "stream",
     "text": [
      "==============================\n",
      "*** Open Babel Warning  in ReadMolecule\n",
      "  Failed to kekulize aromatic bonds in MOL2 file (title is 4fkx_CDP_3_protein)\n",
      "\n"
     ]
    },
    {
     "name": "stdout",
     "output_type": "stream",
     "text": [
      "\n"
     ]
    },
    {
     "name": "stderr",
     "output_type": "stream",
     "text": [
      "==============================\n",
      "*** Open Babel Warning  in ReadMolecule\n",
      "  Failed to kekulize aromatic bonds in MOL2 file (title is 4gc9_SAM_1_protein)\n",
      "\n"
     ]
    },
    {
     "name": "stdout",
     "output_type": "stream",
     "text": [
      "\n"
     ]
    },
    {
     "name": "stderr",
     "output_type": "stream",
     "text": [
      "==============================\n",
      "*** Open Babel Warning  in ReadMolecule\n",
      "  Failed to kekulize aromatic bonds in MOL2 file (title is 3q9o_NAD_1_protein)\n",
      "\n"
     ]
    },
    {
     "name": "stdout",
     "output_type": "stream",
     "text": [
      "\n"
     ]
    },
    {
     "name": "stderr",
     "output_type": "stream",
     "text": [
      "==============================\n",
      "*** Open Babel Warning  in ReadMolecule\n",
      "  Failed to kekulize aromatic bonds in MOL2 file (title is 4wji_NAP_1_protein)\n",
      "\n"
     ]
    },
    {
     "name": "stdout",
     "output_type": "stream",
     "text": [
      "\n"
     ]
    },
    {
     "name": "stderr",
     "output_type": "stream",
     "text": [
      "==============================\n",
      "*** Open Babel Warning  in ReadMolecule\n",
      "  Failed to kekulize aromatic bonds in MOL2 file (title is 1p0f_NAP_2_protein)\n",
      "\n"
     ]
    },
    {
     "name": "stdout",
     "output_type": "stream",
     "text": [
      "\n"
     ]
    },
    {
     "name": "stderr",
     "output_type": "stream",
     "text": [
      "==============================\n",
      "*** Open Babel Warning  in ReadMolecule\n",
      "  Failed to kekulize aromatic bonds in MOL2 file (title is 4obw_SAM_1_protein)\n",
      "\n"
     ]
    },
    {
     "name": "stdout",
     "output_type": "stream",
     "text": [
      "\n"
     ]
    },
    {
     "name": "stderr",
     "output_type": "stream",
     "text": [
      "==============================\n",
      "*** Open Babel Warning  in ReadMolecule\n",
      "  Failed to kekulize aromatic bonds in MOL2 file (title is 1ml6_GBX_1_protein)\n",
      "\n"
     ]
    },
    {
     "name": "stdout",
     "output_type": "stream",
     "text": [
      "\n"
     ]
    },
    {
     "name": "stderr",
     "output_type": "stream",
     "text": [
      "==============================\n",
      "*** Open Babel Warning  in ReadMolecule\n",
      "  Failed to kekulize aromatic bonds in MOL2 file (title is 3bxz_ADP_2_protein)\n",
      "\n"
     ]
    },
    {
     "name": "stdout",
     "output_type": "stream",
     "text": [
      "\n"
     ]
    },
    {
     "name": "stderr",
     "output_type": "stream",
     "text": [
      "==============================\n",
      "*** Open Babel Warning  in ReadMolecule\n",
      "  Failed to kekulize aromatic bonds in MOL2 file (title is 5C1M_LIGPROTBWATER_PROTEIN)\n",
      "\n"
     ]
    },
    {
     "name": "stdout",
     "output_type": "stream",
     "text": [
      "\n"
     ]
    },
    {
     "name": "stderr",
     "output_type": "stream",
     "text": [
      "==============================\n",
      "*** Open Babel Warning  in ReadMolecule\n",
      "  Failed to kekulize aromatic bonds in MOL2 file (title is 2b3d_FAD_2_protein)\n",
      "\n"
     ]
    },
    {
     "name": "stdout",
     "output_type": "stream",
     "text": [
      "\n"
     ]
    },
    {
     "name": "stderr",
     "output_type": "stream",
     "text": [
      "==============================\n",
      "*** Open Babel Warning  in ReadMolecule\n",
      "  Failed to kekulize aromatic bonds in MOL2 file (title is 1n3s_GTP_9_protein)\n",
      "\n"
     ]
    },
    {
     "name": "stdout",
     "output_type": "stream",
     "text": [
      "\n"
     ]
    },
    {
     "name": "stderr",
     "output_type": "stream",
     "text": [
      "==============================\n",
      "*** Open Babel Warning  in ReadMolecule\n",
      "  Failed to kekulize aromatic bonds in MOL2 file (title is 3s5w_NAP_2_protein)\n",
      "\n"
     ]
    },
    {
     "name": "stdout",
     "output_type": "stream",
     "text": [
      "\n"
     ]
    },
    {
     "name": "stderr",
     "output_type": "stream",
     "text": [
      "==============================\n",
      "*** Open Babel Warning  in ReadMolecule\n",
      "  Failed to kekulize aromatic bonds in MOL2 file (title is 3dwb_5HD_1_protein)\n",
      "\n"
     ]
    },
    {
     "name": "stdout",
     "output_type": "stream",
     "text": [
      "\n"
     ]
    },
    {
     "name": "stderr",
     "output_type": "stream",
     "text": [
      "==============================\n",
      "*** Open Babel Warning  in ReadMolecule\n",
      "  Failed to kekulize aromatic bonds in MOL2 file (title is 5ahk_TPP_3_protein)\n",
      "\n"
     ]
    },
    {
     "name": "stdout",
     "output_type": "stream",
     "text": [
      "\n"
     ]
    },
    {
     "name": "stderr",
     "output_type": "stream",
     "text": [
      "==============================\n",
      "*** Open Babel Warning  in ReadMolecule\n",
      "  This Mol2 file is non-standard. Problem with molecule: 1eje_FMN_1_protein Cannot interpret atom types correctly, instead attempting to interpret atom type: NI as elements instead.\n",
      "==============================\n",
      "*** Open Babel Warning  in Translate\n",
      "  Cannot perform atom type translation: table cannot find requested types.\n",
      "==============================\n",
      "*** Open Babel Warning  in ReadMolecule\n",
      "  This Mol2 file is non-standard. Problem with molecule: 1eje_FMN_1_protein Cannot interpret atom types correctly, instead attempting to interpret atom type: NI as elements instead.\n",
      "==============================\n",
      "*** Open Babel Warning  in Translate\n",
      "  Cannot perform atom type translation: table cannot find requested types.\n",
      "==============================\n",
      "*** Open Babel Warning  in ReadMolecule\n",
      "  Failed to kekulize aromatic bonds in MOL2 file (title is 1eje_FMN_1_protein)\n",
      "\n"
     ]
    },
    {
     "name": "stdout",
     "output_type": "stream",
     "text": [
      "\n"
     ]
    },
    {
     "name": "stderr",
     "output_type": "stream",
     "text": [
      "==============================\n",
      "*** Open Babel Warning  in ReadMolecule\n",
      "  Failed to kekulize aromatic bonds in MOL2 file (title is 3ajr_NAD_2_protein)\n",
      "\n"
     ]
    },
    {
     "name": "stdout",
     "output_type": "stream",
     "text": [
      "\n"
     ]
    },
    {
     "name": "stderr",
     "output_type": "stream",
     "text": [
      "==============================\n",
      "*** Open Babel Warning  in ReadMolecule\n",
      "  Failed to kekulize aromatic bonds in MOL2 file (title is 1eio_GCH_1_protein)\n",
      "\n"
     ]
    },
    {
     "name": "stdout",
     "output_type": "stream",
     "text": [
      "\n"
     ]
    },
    {
     "name": "stderr",
     "output_type": "stream",
     "text": [
      "==============================\n",
      "*** Open Babel Warning  in ReadMolecule\n",
      "  Failed to kekulize aromatic bonds in MOL2 file (title is 4zas_TYD_2_protein)\n",
      "\n"
     ]
    },
    {
     "name": "stdout",
     "output_type": "stream",
     "text": [
      "\n"
     ]
    },
    {
     "name": "stderr",
     "output_type": "stream",
     "text": [
      "==============================\n",
      "*** Open Babel Warning  in ReadMolecule\n",
      "  Failed to kekulize aromatic bonds in MOL2 file (title is 2clp_NDP_6_protein)\n",
      "\n"
     ]
    },
    {
     "name": "stdout",
     "output_type": "stream",
     "text": [
      "\n"
     ]
    },
    {
     "name": "stderr",
     "output_type": "stream",
     "text": [
      "==============================\n",
      "*** Open Babel Warning  in ReadMolecule\n",
      "  Failed to kekulize aromatic bonds in MOL2 file (title is 2v92_ATP_1_protein)\n",
      "\n"
     ]
    },
    {
     "name": "stdout",
     "output_type": "stream",
     "text": [
      "\n"
     ]
    },
    {
     "name": "stderr",
     "output_type": "stream",
     "text": [
      "==============================\n",
      "*** Open Babel Warning  in ReadMolecule\n",
      "  Failed to kekulize aromatic bonds in MOL2 file (title is 2ob0_ACO_3_protein)\n",
      "\n"
     ]
    },
    {
     "name": "stdout",
     "output_type": "stream",
     "text": [
      "\n"
     ]
    },
    {
     "name": "stderr",
     "output_type": "stream",
     "text": [
      "==============================\n",
      "*** Open Babel Warning  in ReadMolecule\n",
      "  Failed to kekulize aromatic bonds in MOL2 file (title is 4kcf_AKM_1_protein)\n",
      "\n"
     ]
    },
    {
     "name": "stdout",
     "output_type": "stream",
     "text": [
      "\n"
     ]
    },
    {
     "name": "stderr",
     "output_type": "stream",
     "text": [
      "==============================\n",
      "*** Open Babel Warning  in ReadMolecule\n",
      "  Failed to kekulize aromatic bonds in MOL2 file (title is 2ix5_CAA_5_protein)\n",
      "\n"
     ]
    },
    {
     "name": "stdout",
     "output_type": "stream",
     "text": [
      "\n"
     ]
    },
    {
     "name": "stderr",
     "output_type": "stream",
     "text": [
      "==============================\n",
      "*** Open Babel Warning  in ReadMolecule\n",
      "  Failed to kekulize aromatic bonds in MOL2 file (title is 2qs4_LY5_1_protein)\n",
      "\n"
     ]
    },
    {
     "name": "stdout",
     "output_type": "stream",
     "text": [
      "\n"
     ]
    },
    {
     "name": "stderr",
     "output_type": "stream",
     "text": [
      "==============================\n",
      "*** Open Babel Warning  in ReadMolecule\n",
      "  Failed to kekulize aromatic bonds in MOL2 file (title is 3kbo_NDP_2_protein)\n",
      "\n"
     ]
    },
    {
     "name": "stdout",
     "output_type": "stream",
     "text": [
      "\n"
     ]
    },
    {
     "name": "stderr",
     "output_type": "stream",
     "text": [
      "==============================\n",
      "*** Open Babel Warning  in ReadMolecule\n",
      "  Failed to kekulize aromatic bonds in MOL2 file (title is 3we0_FAD_2_protein)\n",
      "\n"
     ]
    },
    {
     "name": "stdout",
     "output_type": "stream",
     "text": [
      "\n"
     ]
    },
    {
     "name": "stderr",
     "output_type": "stream",
     "text": [
      "==============================\n",
      "*** Open Babel Warning  in ReadMolecule\n",
      "  Failed to kekulize aromatic bonds in MOL2 file (title is 3inl_BXB_6_protein)\n",
      "\n"
     ]
    },
    {
     "name": "stdout",
     "output_type": "stream",
     "text": [
      "\n"
     ]
    },
    {
     "name": "stderr",
     "output_type": "stream",
     "text": [
      "==============================\n",
      "*** Open Babel Warning  in ReadMolecule\n",
      "  Failed to kekulize aromatic bonds in MOL2 file (title is 1nsf_ATP_1_protein)\n",
      "\n"
     ]
    },
    {
     "name": "stdout",
     "output_type": "stream",
     "text": [
      "\n"
     ]
    },
    {
     "name": "stderr",
     "output_type": "stream",
     "text": [
      "==============================\n",
      "*** Open Babel Warning  in ReadMolecule\n",
      "  Failed to kekulize aromatic bonds in MOL2 file (title is 1ei1_ANP_1_protein)\n",
      "\n"
     ]
    },
    {
     "name": "stdout",
     "output_type": "stream",
     "text": [
      "\n"
     ]
    },
    {
     "name": "stderr",
     "output_type": "stream",
     "text": [
      "==============================\n",
      "*** Open Babel Warning  in ReadMolecule\n",
      "  Failed to kekulize aromatic bonds in MOL2 file (title is 2bdz_E64_2_protein)\n",
      "\n"
     ]
    },
    {
     "name": "stdout",
     "output_type": "stream",
     "text": [
      "\n"
     ]
    },
    {
     "name": "stderr",
     "output_type": "stream",
     "text": [
      "==============================\n",
      "*** Open Babel Warning  in ReadMolecule\n",
      "  Failed to kekulize aromatic bonds in MOL2 file (title is 1i58_ACP_1_protein)\n",
      "\n"
     ]
    },
    {
     "name": "stdout",
     "output_type": "stream",
     "text": [
      "\n"
     ]
    },
    {
     "name": "stderr",
     "output_type": "stream",
     "text": [
      "==============================\n",
      "*** Open Babel Warning  in ReadMolecule\n",
      "  Failed to kekulize aromatic bonds in MOL2 file (title is 2i62_SAH_1_protein)\n",
      "\n"
     ]
    },
    {
     "name": "stdout",
     "output_type": "stream",
     "text": [
      "\n"
     ]
    },
    {
     "name": "stderr",
     "output_type": "stream",
     "text": [
      "==============================\n",
      "*** Open Babel Warning  in ReadMolecule\n",
      "  Failed to kekulize aromatic bonds in MOL2 file (title is 2pzv_IPH_2_protein)\n",
      "\n"
     ]
    },
    {
     "name": "stdout",
     "output_type": "stream",
     "text": [
      "\n"
     ]
    },
    {
     "name": "stderr",
     "output_type": "stream",
     "text": [
      "==============================\n",
      "*** Open Babel Warning  in ReadMolecule\n",
      "  Failed to kekulize aromatic bonds in MOL2 file (title is 2y7f_KMH_2_protein)\n",
      "\n"
     ]
    },
    {
     "name": "stdout",
     "output_type": "stream",
     "text": [
      "\n"
     ]
    },
    {
     "name": "stderr",
     "output_type": "stream",
     "text": [
      "==============================\n",
      "*** Open Babel Warning  in ReadMolecule\n",
      "  Failed to kekulize aromatic bonds in MOL2 file (title is 4poo_SAM_1_protein)\n",
      "\n"
     ]
    },
    {
     "name": "stdout",
     "output_type": "stream",
     "text": [
      "\n"
     ]
    },
    {
     "name": "stderr",
     "output_type": "stream",
     "text": [
      "==============================\n",
      "*** Open Babel Warning  in ReadMolecule\n",
      "  Failed to kekulize aromatic bonds in MOL2 file (title is 1cdo_NAD_2_protein)\n",
      "\n"
     ]
    },
    {
     "name": "stdout",
     "output_type": "stream",
     "text": [
      "\n"
     ]
    },
    {
     "name": "stderr",
     "output_type": "stream",
     "text": [
      "==============================\n",
      "*** Open Babel Warning  in ReadMolecule\n",
      "  Failed to kekulize aromatic bonds in MOL2 file (title is 1rd4_L08_1_protein)\n",
      "\n"
     ]
    },
    {
     "name": "stdout",
     "output_type": "stream",
     "text": [
      "\n"
     ]
    },
    {
     "name": "stderr",
     "output_type": "stream",
     "text": [
      "==============================\n",
      "*** Open Babel Warning  in ReadMolecule\n",
      "  Failed to kekulize aromatic bonds in MOL2 file (title is 1m2x_MCO_3_protein)\n",
      "\n"
     ]
    },
    {
     "name": "stdout",
     "output_type": "stream",
     "text": [
      "\n"
     ]
    },
    {
     "name": "stderr",
     "output_type": "stream",
     "text": [
      "==============================\n",
      "*** Open Babel Warning  in ReadMolecule\n",
      "  Failed to kekulize aromatic bonds in MOL2 file (title is 2oat_PFM_2_protein)\n",
      "\n"
     ]
    },
    {
     "name": "stdout",
     "output_type": "stream",
     "text": [
      "\n"
     ]
    },
    {
     "name": "stderr",
     "output_type": "stream",
     "text": [
      "==============================\n",
      "*** Open Babel Warning  in ReadMolecule\n",
      "  Failed to kekulize aromatic bonds in MOL2 file (title is 1rjn_COA_1_protein)\n",
      "\n"
     ]
    },
    {
     "name": "stdout",
     "output_type": "stream",
     "text": [
      "\n"
     ]
    },
    {
     "name": "stderr",
     "output_type": "stream",
     "text": [
      "==============================\n",
      "*** Open Babel Warning  in ReadMolecule\n",
      "  Failed to kekulize aromatic bonds in MOL2 file (title is 3beo_UD1_1_protein)\n",
      "\n"
     ]
    },
    {
     "name": "stdout",
     "output_type": "stream",
     "text": [
      "\n"
     ]
    },
    {
     "name": "stderr",
     "output_type": "stream",
     "text": [
      "==============================\n",
      "*** Open Babel Warning  in ReadMolecule\n",
      "  Failed to kekulize aromatic bonds in MOL2 file (title is 1wvg_CXY_2_protein)\n",
      "\n"
     ]
    },
    {
     "name": "stdout",
     "output_type": "stream",
     "text": [
      "\n"
     ]
    },
    {
     "name": "stderr",
     "output_type": "stream",
     "text": [
      "==============================\n",
      "*** Open Babel Warning  in ReadMolecule\n",
      "  Failed to kekulize aromatic bonds in MOL2 file (title is 3rga_LSB_1_protein)\n",
      "\n"
     ]
    },
    {
     "name": "stdout",
     "output_type": "stream",
     "text": [
      "\n"
     ]
    },
    {
     "name": "stderr",
     "output_type": "stream",
     "text": [
      "==============================\n",
      "*** Open Babel Warning  in ReadMolecule\n",
      "  Failed to kekulize aromatic bonds in MOL2 file (title is 3bc1_GNP_1_protein)\n",
      "\n"
     ]
    },
    {
     "name": "stdout",
     "output_type": "stream",
     "text": [
      "\n"
     ]
    },
    {
     "name": "stderr",
     "output_type": "stream",
     "text": [
      "==============================\n",
      "*** Open Babel Warning  in ReadMolecule\n",
      "  Failed to kekulize aromatic bonds in MOL2 file (title is 1h5n_PGD_3_protein)\n",
      "\n"
     ]
    },
    {
     "name": "stdout",
     "output_type": "stream",
     "text": [
      "\n"
     ]
    },
    {
     "name": "stderr",
     "output_type": "stream",
     "text": [
      "==============================\n",
      "*** Open Babel Warning  in ReadMolecule\n",
      "  Failed to kekulize aromatic bonds in MOL2 file (title is 2ag5_NAD_2_protein)\n",
      "\n"
     ]
    },
    {
     "name": "stdout",
     "output_type": "stream",
     "text": [
      "\n"
     ]
    },
    {
     "name": "stderr",
     "output_type": "stream",
     "text": [
      "==============================\n",
      "*** Open Babel Warning  in ReadMolecule\n",
      "  Failed to kekulize aromatic bonds in MOL2 file (title is 1lho_AOM_1_protein)\n",
      "\n"
     ]
    },
    {
     "name": "stdout",
     "output_type": "stream",
     "text": [
      "\n"
     ]
    },
    {
     "name": "stderr",
     "output_type": "stream",
     "text": [
      "==============================\n",
      "*** Open Babel Warning  in ReadMolecule\n",
      "  Failed to kekulize aromatic bonds in MOL2 file (title is 1xpg_C2F_1_protein)\n",
      "\n"
     ]
    },
    {
     "name": "stdout",
     "output_type": "stream",
     "text": [
      "\n"
     ]
    },
    {
     "name": "stderr",
     "output_type": "stream",
     "text": [
      "==============================\n",
      "*** Open Babel Warning  in ReadMolecule\n",
      "  Failed to kekulize aromatic bonds in MOL2 file (title is 2o98_FSC_2_protein)\n",
      "\n"
     ]
    },
    {
     "name": "stdout",
     "output_type": "stream",
     "text": [
      "\n"
     ]
    },
    {
     "name": "stderr",
     "output_type": "stream",
     "text": [
      "==============================\n",
      "*** Open Babel Warning  in ReadMolecule\n",
      "  Failed to kekulize aromatic bonds in MOL2 file (title is 2i02_FMN_1_protein)\n",
      "\n"
     ]
    },
    {
     "name": "stdout",
     "output_type": "stream",
     "text": [
      "\n"
     ]
    },
    {
     "name": "stderr",
     "output_type": "stream",
     "text": [
      "==============================\n",
      "*** Open Babel Warning  in ReadMolecule\n",
      "  Failed to kekulize aromatic bonds in MOL2 file (title is 2oyl_IDC_1_protein)\n",
      "\n"
     ]
    },
    {
     "name": "stdout",
     "output_type": "stream",
     "text": [
      "\n"
     ]
    },
    {
     "name": "stderr",
     "output_type": "stream",
     "text": [
      "==============================\n",
      "*** Open Babel Warning  in ReadMolecule\n",
      "  Failed to kekulize aromatic bonds in MOL2 file (title is 3i7v_B4P_1_protein)\n",
      "\n"
     ]
    },
    {
     "name": "stdout",
     "output_type": "stream",
     "text": [
      "\n"
     ]
    },
    {
     "name": "stderr",
     "output_type": "stream",
     "text": [
      "==============================\n",
      "*** Open Babel Warning  in ReadMolecule\n",
      "  Failed to kekulize aromatic bonds in MOL2 file (title is 4wbd_ADP_1_protein)\n",
      "\n"
     ]
    },
    {
     "name": "stdout",
     "output_type": "stream",
     "text": [
      "\n"
     ]
    },
    {
     "name": "stderr",
     "output_type": "stream",
     "text": [
      "==============================\n",
      "*** Open Babel Warning  in ReadMolecule\n",
      "  Failed to kekulize aromatic bonds in MOL2 file (title is 3a0t_ADP_1_protein)\n",
      "\n"
     ]
    },
    {
     "name": "stdout",
     "output_type": "stream",
     "text": [
      "\n"
     ]
    },
    {
     "name": "stderr",
     "output_type": "stream",
     "text": [
      "==============================\n",
      "*** Open Babel Warning  in ReadMolecule\n",
      "  Failed to kekulize aromatic bonds in MOL2 file (title is 4qm6_GTP_1_protein)\n",
      "\n"
     ]
    },
    {
     "name": "stdout",
     "output_type": "stream",
     "text": [
      "\n"
     ]
    },
    {
     "name": "stderr",
     "output_type": "stream",
     "text": [
      "==============================\n",
      "*** Open Babel Warning  in ReadMolecule\n",
      "  Failed to kekulize aromatic bonds in MOL2 file (title is 2x8g_FAD_1_protein)\n",
      "\n"
     ]
    },
    {
     "name": "stdout",
     "output_type": "stream",
     "text": [
      "\n"
     ]
    },
    {
     "name": "stderr",
     "output_type": "stream",
     "text": [
      "==============================\n",
      "*** Open Babel Warning  in ReadMolecule\n",
      "  Failed to kekulize aromatic bonds in MOL2 file (title is 4yer_ADP_2_protein)\n",
      "\n"
     ]
    },
    {
     "name": "stdout",
     "output_type": "stream",
     "text": [
      "\n"
     ]
    },
    {
     "name": "stderr",
     "output_type": "stream",
     "text": [
      "==============================\n",
      "*** Open Babel Warning  in ReadMolecule\n",
      "  Failed to kekulize aromatic bonds in MOL2 file (title is 3she_I85_1_protein)\n",
      "\n"
     ]
    },
    {
     "name": "stdout",
     "output_type": "stream",
     "text": [
      "\n"
     ]
    },
    {
     "name": "stderr",
     "output_type": "stream",
     "text": [
      "==============================\n",
      "*** Open Babel Warning  in ReadMolecule\n",
      "  Failed to kekulize aromatic bonds in MOL2 file (title is 3i97_8DR_1_protein)\n",
      "\n"
     ]
    },
    {
     "name": "stdout",
     "output_type": "stream",
     "text": [
      "\n"
     ]
    },
    {
     "name": "stderr",
     "output_type": "stream",
     "text": [
      "==============================\n",
      "*** Open Babel Warning  in ReadMolecule\n",
      "  Failed to kekulize aromatic bonds in MOL2 file (title is 4h5c_YS4_1_protein)\n",
      "\n"
     ]
    },
    {
     "name": "stdout",
     "output_type": "stream",
     "text": [
      "\n"
     ]
    },
    {
     "name": "stderr",
     "output_type": "stream",
     "text": [
      "==============================\n",
      "*** Open Babel Warning  in ReadMolecule\n",
      "  Failed to kekulize aromatic bonds in MOL2 file (title is 3s2u_UD1_1_protein)\n",
      "\n"
     ]
    },
    {
     "name": "stdout",
     "output_type": "stream",
     "text": [
      "\n"
     ]
    },
    {
     "name": "stderr",
     "output_type": "stream",
     "text": [
      "==============================\n",
      "*** Open Babel Warning  in ReadMolecule\n",
      "  Failed to kekulize aromatic bonds in MOL2 file (title is 3wrb_GDE_1_protein)\n",
      "\n"
     ]
    },
    {
     "name": "stdout",
     "output_type": "stream",
     "text": [
      "\n"
     ]
    },
    {
     "name": "stderr",
     "output_type": "stream",
     "text": [
      "==============================\n",
      "*** Open Babel Warning  in ReadMolecule\n",
      "  Failed to kekulize aromatic bonds in MOL2 file (title is 2gqr_ADP_1_protein)\n",
      "\n"
     ]
    },
    {
     "name": "stdout",
     "output_type": "stream",
     "text": [
      "\n"
     ]
    },
    {
     "name": "stderr",
     "output_type": "stream",
     "text": [
      "==============================\n",
      "*** Open Babel Warning  in ReadMolecule\n",
      "  Failed to kekulize aromatic bonds in MOL2 file (title is 3epo_MP5_1_protein)\n",
      "\n"
     ]
    },
    {
     "name": "stdout",
     "output_type": "stream",
     "text": [
      "\n"
     ]
    },
    {
     "name": "stderr",
     "output_type": "stream",
     "text": [
      "==============================\n",
      "*** Open Babel Warning  in ReadMolecule\n",
      "  Failed to kekulize aromatic bonds in MOL2 file (title is 2yof_74W_1_protein)\n",
      "\n"
     ]
    },
    {
     "name": "stdout",
     "output_type": "stream",
     "text": [
      "\n"
     ]
    },
    {
     "name": "stderr",
     "output_type": "stream",
     "text": [
      "==============================\n",
      "*** Open Babel Warning  in ReadMolecule\n",
      "  Failed to kekulize aromatic bonds in MOL2 file (title is 4fak_SAM_1_protein)\n",
      "\n"
     ]
    },
    {
     "name": "stdout",
     "output_type": "stream",
     "text": [
      "\n"
     ]
    },
    {
     "name": "stderr",
     "output_type": "stream",
     "text": [
      "==============================\n",
      "*** Open Babel Warning  in ReadMolecule\n",
      "  Failed to kekulize aromatic bonds in MOL2 file (title is 4hxy_NDP_2_protein)\n",
      "\n"
     ]
    },
    {
     "name": "stdout",
     "output_type": "stream",
     "text": [
      "\n"
     ]
    },
    {
     "name": "stderr",
     "output_type": "stream",
     "text": [
      "==============================\n",
      "*** Open Babel Warning  in ReadMolecule\n",
      "  Failed to kekulize aromatic bonds in MOL2 file (title is 4f3x_NAD_1_protein)\n",
      "\n"
     ]
    },
    {
     "name": "stdout",
     "output_type": "stream",
     "text": [
      "\n"
     ]
    },
    {
     "name": "stderr",
     "output_type": "stream",
     "text": [
      "==============================\n",
      "*** Open Babel Warning  in ReadMolecule\n",
      "  Failed to kekulize aromatic bonds in MOL2 file (title is 2wa2_SAM_2_protein)\n",
      "\n"
     ]
    },
    {
     "name": "stdout",
     "output_type": "stream",
     "text": [
      "\n"
     ]
    },
    {
     "name": "stderr",
     "output_type": "stream",
     "text": [
      "==============================\n",
      "*** Open Babel Warning  in ReadMolecule\n",
      "  Failed to kekulize aromatic bonds in MOL2 file (title is 4kto_FAD_1_protein)\n",
      "\n"
     ]
    },
    {
     "name": "stdout",
     "output_type": "stream",
     "text": [
      "\n"
     ]
    },
    {
     "name": "stderr",
     "output_type": "stream",
     "text": [
      "==============================\n",
      "*** Open Babel Warning  in ReadMolecule\n",
      "  Failed to kekulize aromatic bonds in MOL2 file (title is 4xrq_1B0_1_protein)\n",
      "\n"
     ]
    },
    {
     "name": "stdout",
     "output_type": "stream",
     "text": [
      "\n"
     ]
    },
    {
     "name": "stderr",
     "output_type": "stream",
     "text": [
      "==============================\n",
      "*** Open Babel Warning  in ReadMolecule\n",
      "  Failed to kekulize aromatic bonds in MOL2 file (title is 2hxd_DUP_1_protein)\n",
      "\n"
     ]
    },
    {
     "name": "stdout",
     "output_type": "stream",
     "text": [
      "\n"
     ]
    },
    {
     "name": "stderr",
     "output_type": "stream",
     "text": [
      "==============================\n",
      "*** Open Babel Warning  in ReadMolecule\n",
      "  Failed to kekulize aromatic bonds in MOL2 file (title is 1pj3_NAD_5_protein)\n",
      "\n"
     ]
    },
    {
     "name": "stdout",
     "output_type": "stream",
     "text": [
      "\n"
     ]
    },
    {
     "name": "stderr",
     "output_type": "stream",
     "text": [
      "==============================\n",
      "*** Open Babel Warning  in ReadMolecule\n",
      "  Failed to kekulize aromatic bonds in MOL2 file (title is 3muo_ZPR_1_protein)\n",
      "\n"
     ]
    },
    {
     "name": "stdout",
     "output_type": "stream",
     "text": [
      "\n"
     ]
    },
    {
     "name": "stderr",
     "output_type": "stream",
     "text": [
      "==============================\n",
      "*** Open Babel Warning  in ReadMolecule\n",
      "  Failed to kekulize aromatic bonds in MOL2 file (title is 5e8j_SAH_2_protein)\n",
      "\n"
     ]
    },
    {
     "name": "stdout",
     "output_type": "stream",
     "text": [
      "\n"
     ]
    },
    {
     "name": "stderr",
     "output_type": "stream",
     "text": [
      "==============================\n",
      "*** Open Babel Warning  in ReadMolecule\n",
      "  Failed to kekulize aromatic bonds in MOL2 file (title is 4a0s_CO8_4_protein)\n",
      "\n"
     ]
    },
    {
     "name": "stdout",
     "output_type": "stream",
     "text": [
      "\n"
     ]
    },
    {
     "name": "stderr",
     "output_type": "stream",
     "text": [
      "==============================\n",
      "*** Open Babel Warning  in ReadMolecule\n",
      "  Failed to kekulize aromatic bonds in MOL2 file (title is 3nwz_COA_1_protein)\n",
      "\n"
     ]
    },
    {
     "name": "stdout",
     "output_type": "stream",
     "text": [
      "\n"
     ]
    },
    {
     "name": "stderr",
     "output_type": "stream",
     "text": [
      "==============================\n",
      "*** Open Babel Warning  in ReadMolecule\n",
      "  Failed to kekulize aromatic bonds in MOL2 file (title is 3wxy_COA_1_protein)\n",
      "\n"
     ]
    },
    {
     "name": "stdout",
     "output_type": "stream",
     "text": [
      "\n"
     ]
    },
    {
     "name": "stderr",
     "output_type": "stream",
     "text": [
      "==============================\n",
      "*** Open Babel Warning  in ReadMolecule\n",
      "  Failed to kekulize aromatic bonds in MOL2 file (title is 3t4e_NAD_2_protein)\n",
      "\n"
     ]
    },
    {
     "name": "stdout",
     "output_type": "stream",
     "text": [
      "\n"
     ]
    },
    {
     "name": "stderr",
     "output_type": "stream",
     "text": [
      "==============================\n",
      "*** Open Babel Warning  in ReadMolecule\n",
      "  Failed to kekulize aromatic bonds in MOL2 file (title is 1pqc_444_4_protein)\n",
      "\n"
     ]
    },
    {
     "name": "stdout",
     "output_type": "stream",
     "text": [
      "\n"
     ]
    },
    {
     "name": "stderr",
     "output_type": "stream",
     "text": [
      "==============================\n",
      "*** Open Babel Warning  in ReadMolecule\n",
      "  Failed to kekulize aromatic bonds in MOL2 file (title is 1t5z_DHT_1_protein)\n",
      "\n"
     ]
    },
    {
     "name": "stdout",
     "output_type": "stream",
     "text": [
      "\n"
     ]
    },
    {
     "name": "stderr",
     "output_type": "stream",
     "text": [
      "==============================\n",
      "*** Open Babel Warning  in ReadMolecule\n",
      "  Failed to kekulize aromatic bonds in MOL2 file (title is 3oah_OAH_2_protein)\n",
      "\n"
     ]
    },
    {
     "name": "stdout",
     "output_type": "stream",
     "text": [
      "\n"
     ]
    },
    {
     "name": "stderr",
     "output_type": "stream",
     "text": [
      "==============================\n",
      "*** Open Babel Warning  in ReadMolecule\n",
      "  Failed to kekulize aromatic bonds in MOL2 file (title is 1fbm_RTL_1_protein)\n",
      "\n"
     ]
    },
    {
     "name": "stdout",
     "output_type": "stream",
     "text": [
      "\n"
     ]
    },
    {
     "name": "stderr",
     "output_type": "stream",
     "text": [
      "==============================\n",
      "*** Open Babel Warning  in ReadMolecule\n",
      "  Failed to kekulize aromatic bonds in MOL2 file (title is 4ejm_NAP_1_protein)\n",
      "\n"
     ]
    },
    {
     "name": "stdout",
     "output_type": "stream",
     "text": [
      "\n"
     ]
    },
    {
     "name": "stderr",
     "output_type": "stream",
     "text": [
      "==============================\n",
      "*** Open Babel Warning  in ReadMolecule\n",
      "  Failed to kekulize aromatic bonds in MOL2 file (title is 3hf3_FMN_1_protein)\n",
      "\n"
     ]
    },
    {
     "name": "stdout",
     "output_type": "stream",
     "text": [
      "\n"
     ]
    },
    {
     "name": "stderr",
     "output_type": "stream",
     "text": [
      "==============================\n",
      "*** Open Babel Warning  in ReadMolecule\n",
      "  Failed to kekulize aromatic bonds in MOL2 file (title is 3mh7_UNK_UNK_UNK_UNK_UNK_2_protein)\n",
      "\n"
     ]
    },
    {
     "name": "stdout",
     "output_type": "stream",
     "text": [
      "\n"
     ]
    },
    {
     "name": "stderr",
     "output_type": "stream",
     "text": [
      "==============================\n",
      "*** Open Babel Warning  in ReadMolecule\n",
      "  Failed to kekulize aromatic bonds in MOL2 file (title is 3tlx_ADP_1_protein)\n",
      "\n"
     ]
    },
    {
     "name": "stdout",
     "output_type": "stream",
     "text": [
      "\n"
     ]
    },
    {
     "name": "stderr",
     "output_type": "stream",
     "text": [
      "==============================\n",
      "*** Open Babel Warning  in ReadMolecule\n",
      "  Failed to kekulize aromatic bonds in MOL2 file (title is 3ou7_SAM_2_protein)\n",
      "\n"
     ]
    },
    {
     "name": "stdout",
     "output_type": "stream",
     "text": [
      "\n"
     ]
    },
    {
     "name": "stderr",
     "output_type": "stream",
     "text": [
      "==============================\n",
      "*** Open Babel Warning  in ReadMolecule\n",
      "  Failed to kekulize aromatic bonds in MOL2 file (title is 4g09_0VD_1_protein)\n",
      "\n"
     ]
    },
    {
     "name": "stdout",
     "output_type": "stream",
     "text": [
      "\n"
     ]
    },
    {
     "name": "stderr",
     "output_type": "stream",
     "text": [
      "==============================\n",
      "*** Open Babel Warning  in ReadMolecule\n",
      "  Failed to kekulize aromatic bonds in MOL2 file (title is 2efy_4AT_2_protein)\n",
      "\n"
     ]
    },
    {
     "name": "stdout",
     "output_type": "stream",
     "text": [
      "\n"
     ]
    },
    {
     "name": "stderr",
     "output_type": "stream",
     "text": [
      "==============================\n",
      "*** Open Babel Warning  in ReadMolecule\n",
      "  Failed to kekulize aromatic bonds in MOL2 file (title is 4la1_FAD_1_protein)\n",
      "\n"
     ]
    },
    {
     "name": "stdout",
     "output_type": "stream",
     "text": [
      "\n"
     ]
    },
    {
     "name": "stderr",
     "output_type": "stream",
     "text": [
      "==============================\n",
      "*** Open Babel Warning  in ReadMolecule\n",
      "  Failed to kekulize aromatic bonds in MOL2 file (title is 2idx_ATP_2_protein)\n",
      "\n"
     ]
    },
    {
     "name": "stdout",
     "output_type": "stream",
     "text": [
      "\n"
     ]
    },
    {
     "name": "stderr",
     "output_type": "stream",
     "text": [
      "==============================\n",
      "*** Open Babel Warning  in ReadMolecule\n",
      "  Failed to kekulize aromatic bonds in MOL2 file (title is 2fcr_FMN_1_protein)\n",
      "\n"
     ]
    },
    {
     "name": "stdout",
     "output_type": "stream",
     "text": [
      "\n"
     ]
    },
    {
     "name": "stderr",
     "output_type": "stream",
     "text": [
      "==============================\n",
      "*** Open Babel Warning  in ReadMolecule\n",
      "  Failed to kekulize aromatic bonds in MOL2 file (title is 3ael_4LM_1_protein)\n",
      "\n"
     ]
    },
    {
     "name": "stdout",
     "output_type": "stream",
     "text": [
      "\n"
     ]
    },
    {
     "name": "stderr",
     "output_type": "stream",
     "text": [
      "==============================\n",
      "*** Open Babel Warning  in ReadMolecule\n",
      "  Failed to kekulize aromatic bonds in MOL2 file (title is 2qwn_ADP_1_protein)\n",
      "\n"
     ]
    },
    {
     "name": "stdout",
     "output_type": "stream",
     "text": [
      "\n"
     ]
    },
    {
     "name": "stderr",
     "output_type": "stream",
     "text": [
      "==============================\n",
      "*** Open Babel Warning  in ReadMolecule\n",
      "  Failed to kekulize aromatic bonds in MOL2 file (title is 3dnt_ATP_1_protein)\n",
      "\n"
     ]
    },
    {
     "name": "stdout",
     "output_type": "stream",
     "text": [
      "\n"
     ]
    },
    {
     "name": "stderr",
     "output_type": "stream",
     "text": [
      "==============================\n",
      "*** Open Babel Warning  in ReadMolecule\n",
      "  Failed to kekulize aromatic bonds in MOL2 file (title is 1qan_SAH_1_protein)\n",
      "\n"
     ]
    },
    {
     "name": "stdout",
     "output_type": "stream",
     "text": [
      "\n"
     ]
    },
    {
     "name": "stderr",
     "output_type": "stream",
     "text": [
      "==============================\n",
      "*** Open Babel Warning  in ReadMolecule\n",
      "  Failed to kekulize aromatic bonds in MOL2 file (title is 2abj_CBC_6_protein)\n",
      "\n"
     ]
    },
    {
     "name": "stdout",
     "output_type": "stream",
     "text": [
      "\n"
     ]
    },
    {
     "name": "stderr",
     "output_type": "stream",
     "text": [
      "==============================\n",
      "*** Open Babel Warning  in ReadMolecule\n",
      "  Failed to kekulize aromatic bonds in MOL2 file (title is 1uym_PU3_1_protein)\n",
      "\n"
     ]
    },
    {
     "name": "stdout",
     "output_type": "stream",
     "text": [
      "\n"
     ]
    },
    {
     "name": "stderr",
     "output_type": "stream",
     "text": [
      "==============================\n",
      "*** Open Babel Warning  in ReadMolecule\n",
      "  Failed to kekulize aromatic bonds in MOL2 file (title is 3vlj_DDJ_1_protein)\n",
      "\n"
     ]
    },
    {
     "name": "stdout",
     "output_type": "stream",
     "text": [
      "\n"
     ]
    },
    {
     "name": "stderr",
     "output_type": "stream",
     "text": [
      "==============================\n",
      "*** Open Babel Warning  in ReadMolecule\n",
      "  Failed to kekulize aromatic bonds in MOL2 file (title is 2eer_NAD_1_protein)\n",
      "\n"
     ]
    },
    {
     "name": "stdout",
     "output_type": "stream",
     "text": [
      "\n"
     ]
    },
    {
     "name": "stderr",
     "output_type": "stream",
     "text": [
      "==============================\n",
      "*** Open Babel Warning  in ReadMolecule\n",
      "  Failed to kekulize aromatic bonds in MOL2 file (title is 1a80_NDP_1_protein)\n",
      "\n"
     ]
    },
    {
     "name": "stdout",
     "output_type": "stream",
     "text": [
      "\n"
     ]
    },
    {
     "name": "stderr",
     "output_type": "stream",
     "text": [
      "==============================\n",
      "*** Open Babel Warning  in ReadMolecule\n",
      "  Failed to kekulize aromatic bonds in MOL2 file (title is 2acw_UPG_2_protein)\n",
      "\n"
     ]
    },
    {
     "name": "stdout",
     "output_type": "stream",
     "text": [
      "\n"
     ]
    },
    {
     "name": "stderr",
     "output_type": "stream",
     "text": [
      "==============================\n",
      "*** Open Babel Warning  in ReadMolecule\n",
      "  Failed to kekulize aromatic bonds in MOL2 file (title is 4gcm_FAD_2_protein)\n",
      "\n"
     ]
    },
    {
     "name": "stdout",
     "output_type": "stream",
     "text": [
      "\n"
     ]
    },
    {
     "name": "stderr",
     "output_type": "stream",
     "text": [
      "==============================\n",
      "*** Open Babel Warning  in ReadMolecule\n",
      "  Failed to kekulize aromatic bonds in MOL2 file (title is 2x0q_ATP_1_protein)\n",
      "\n"
     ]
    },
    {
     "name": "stdout",
     "output_type": "stream",
     "text": [
      "\n"
     ]
    },
    {
     "name": "stderr",
     "output_type": "stream",
     "text": [
      "==============================\n",
      "*** Open Babel Warning  in ReadMolecule\n",
      "  Failed to kekulize aromatic bonds in MOL2 file (title is 4zob_LGC_2_protein)\n",
      "\n"
     ]
    },
    {
     "name": "stdout",
     "output_type": "stream",
     "text": [
      "\n"
     ]
    },
    {
     "name": "stderr",
     "output_type": "stream",
     "text": [
      "==============================\n",
      "*** Open Babel Warning  in ReadMolecule\n",
      "  Failed to kekulize aromatic bonds in MOL2 file (title is 5jad_FB2_1_protein)\n",
      "\n"
     ]
    },
    {
     "name": "stdout",
     "output_type": "stream",
     "text": [
      "\n"
     ]
    },
    {
     "name": "stderr",
     "output_type": "stream",
     "text": [
      "==============================\n",
      "*** Open Babel Warning  in ReadMolecule\n",
      "  Failed to kekulize aromatic bonds in MOL2 file (title is 2x06_NAD_8_protein)\n",
      "\n"
     ]
    },
    {
     "name": "stdout",
     "output_type": "stream",
     "text": [
      "\n"
     ]
    },
    {
     "name": "stderr",
     "output_type": "stream",
     "text": [
      "==============================\n",
      "*** Open Babel Warning  in ReadMolecule\n",
      "  Failed to kekulize aromatic bonds in MOL2 file (title is 2yut_NAP_1_protein)\n",
      "\n"
     ]
    },
    {
     "name": "stdout",
     "output_type": "stream",
     "text": [
      "\n"
     ]
    },
    {
     "name": "stderr",
     "output_type": "stream",
     "text": [
      "==============================\n",
      "*** Open Babel Warning  in ReadMolecule\n",
      "  Failed to kekulize aromatic bonds in MOL2 file (title is 2ixk_TDO_1_protein)\n",
      "\n"
     ]
    },
    {
     "name": "stdout",
     "output_type": "stream",
     "text": [
      "\n"
     ]
    },
    {
     "name": "stderr",
     "output_type": "stream",
     "text": [
      "==============================\n",
      "*** Open Babel Warning  in ReadMolecule\n",
      "  Failed to kekulize aromatic bonds in MOL2 file (title is 1y4s_ADP_2_protein)\n",
      "\n"
     ]
    },
    {
     "name": "stdout",
     "output_type": "stream",
     "text": [
      "\n"
     ]
    },
    {
     "name": "stderr",
     "output_type": "stream",
     "text": [
      "==============================\n",
      "*** Open Babel Warning  in ReadMolecule\n",
      "  Failed to kekulize aromatic bonds in MOL2 file (title is 3vhx_GTP_1_protein)\n",
      "\n"
     ]
    },
    {
     "name": "stdout",
     "output_type": "stream",
     "text": [
      "\n"
     ]
    },
    {
     "name": "stderr",
     "output_type": "stream",
     "text": [
      "==============================\n",
      "*** Open Babel Warning  in ReadMolecule\n",
      "  Failed to kekulize aromatic bonds in MOL2 file (title is 1dpm_EBP_1_protein)\n",
      "\n"
     ]
    },
    {
     "name": "stdout",
     "output_type": "stream",
     "text": [
      "\n"
     ]
    },
    {
     "name": "stderr",
     "output_type": "stream",
     "text": [
      "==============================\n",
      "*** Open Babel Warning  in ReadMolecule\n",
      "  Failed to kekulize aromatic bonds in MOL2 file (title is 3ge6_FMN_1_protein)\n",
      "\n"
     ]
    },
    {
     "name": "stdout",
     "output_type": "stream",
     "text": [
      "\n"
     ]
    },
    {
     "name": "stderr",
     "output_type": "stream",
     "text": [
      "==============================\n",
      "*** Open Babel Warning  in ReadMolecule\n",
      "  Failed to kekulize aromatic bonds in MOL2 file (title is 2yaa_ATP_1_protein)\n",
      "\n"
     ]
    },
    {
     "name": "stdout",
     "output_type": "stream",
     "text": [
      "\n"
     ]
    },
    {
     "name": "stderr",
     "output_type": "stream",
     "text": [
      "==============================\n",
      "*** Open Babel Warning  in ReadMolecule\n",
      "  Failed to kekulize aromatic bonds in MOL2 file (title is 4x7u_ZM3_2_protein)\n",
      "\n"
     ]
    },
    {
     "name": "stdout",
     "output_type": "stream",
     "text": [
      "\n"
     ]
    },
    {
     "name": "stderr",
     "output_type": "stream",
     "text": [
      "==============================\n",
      "*** Open Babel Warning  in ReadMolecule\n",
      "  Failed to kekulize aromatic bonds in MOL2 file (title is 4ccq_FAD_4_protein)\n",
      "\n"
     ]
    },
    {
     "name": "stdout",
     "output_type": "stream",
     "text": [
      "\n"
     ]
    },
    {
     "name": "stderr",
     "output_type": "stream",
     "text": [
      "==============================\n",
      "*** Open Babel Warning  in ReadMolecule\n",
      "  Failed to kekulize aromatic bonds in MOL2 file (title is 2qtv_GNP_1_protein)\n",
      "\n"
     ]
    },
    {
     "name": "stdout",
     "output_type": "stream",
     "text": [
      "\n"
     ]
    },
    {
     "name": "stderr",
     "output_type": "stream",
     "text": [
      "==============================\n",
      "*** Open Babel Warning  in ReadMolecule\n",
      "  Failed to kekulize aromatic bonds in MOL2 file (title is 5a7y_SAH_1_protein)\n",
      "\n"
     ]
    },
    {
     "name": "stdout",
     "output_type": "stream",
     "text": [
      "\n"
     ]
    },
    {
     "name": "stderr",
     "output_type": "stream",
     "text": [
      "==============================\n",
      "*** Open Babel Warning  in ReadMolecule\n",
      "  Failed to kekulize aromatic bonds in MOL2 file (title is 3gfx_FMN_3_protein)\n",
      "\n"
     ]
    },
    {
     "name": "stdout",
     "output_type": "stream",
     "text": [
      "\n"
     ]
    },
    {
     "name": "stderr",
     "output_type": "stream",
     "text": [
      "==============================\n",
      "*** Open Babel Warning  in ReadMolecule\n",
      "  Failed to kekulize aromatic bonds in MOL2 file (title is 1qjg_EQU_5_protein)\n",
      "\n"
     ]
    },
    {
     "name": "stdout",
     "output_type": "stream",
     "text": [
      "\n"
     ]
    },
    {
     "name": "stderr",
     "output_type": "stream",
     "text": [
      "==============================\n",
      "*** Open Babel Warning  in ReadMolecule\n",
      "  Failed to kekulize aromatic bonds in MOL2 file (title is 1xu9_CPS_4_protein)\n",
      "\n"
     ]
    },
    {
     "name": "stdout",
     "output_type": "stream",
     "text": [
      "\n"
     ]
    },
    {
     "name": "stderr",
     "output_type": "stream",
     "text": [
      "==============================\n",
      "*** Open Babel Warning  in ReadMolecule\n",
      "  Failed to kekulize aromatic bonds in MOL2 file (title is 2py7_ATP_1_protein)\n",
      "\n"
     ]
    },
    {
     "name": "stdout",
     "output_type": "stream",
     "text": [
      "\n"
     ]
    },
    {
     "name": "stderr",
     "output_type": "stream",
     "text": [
      "==============================\n",
      "*** Open Babel Warning  in ReadMolecule\n",
      "  Failed to kekulize aromatic bonds in MOL2 file (title is 2pin_LEG_2_protein)\n",
      "\n"
     ]
    },
    {
     "name": "stdout",
     "output_type": "stream",
     "text": [
      "\n"
     ]
    },
    {
     "name": "stderr",
     "output_type": "stream",
     "text": [
      "==============================\n",
      "*** Open Babel Warning  in ReadMolecule\n",
      "  Failed to kekulize aromatic bonds in MOL2 file (title is 3p70_ILE_PHE_GLU_PRO_PRO_6_protein)\n",
      "\n"
     ]
    },
    {
     "name": "stdout",
     "output_type": "stream",
     "text": [
      "\n"
     ]
    },
    {
     "name": "stderr",
     "output_type": "stream",
     "text": [
      "==============================\n",
      "*** Open Babel Warning  in ReadMolecule\n",
      "  Failed to kekulize aromatic bonds in MOL2 file (title is 1siv_PSI_1_protein)\n",
      "\n"
     ]
    },
    {
     "name": "stdout",
     "output_type": "stream",
     "text": [
      "\n"
     ]
    },
    {
     "name": "stderr",
     "output_type": "stream",
     "text": [
      "==============================\n",
      "*** Open Babel Warning  in ReadMolecule\n",
      "  Failed to kekulize aromatic bonds in MOL2 file (title is 3lki_ATP_1_protein)\n",
      "\n"
     ]
    },
    {
     "name": "stdout",
     "output_type": "stream",
     "text": [
      "\n"
     ]
    },
    {
     "name": "stderr",
     "output_type": "stream",
     "text": [
      "==============================\n",
      "*** Open Babel Warning  in ReadMolecule\n",
      "  Failed to kekulize aromatic bonds in MOL2 file (title is 4n3b_12V_1_protein)\n",
      "\n"
     ]
    },
    {
     "name": "stdout",
     "output_type": "stream",
     "text": [
      "\n"
     ]
    },
    {
     "name": "stderr",
     "output_type": "stream",
     "text": [
      "==============================\n",
      "*** Open Babel Warning  in ReadMolecule\n",
      "  Failed to kekulize aromatic bonds in MOL2 file (title is 1g9r_UPF_1_protein)\n",
      "\n"
     ]
    },
    {
     "name": "stdout",
     "output_type": "stream",
     "text": [
      "\n"
     ]
    },
    {
     "name": "stderr",
     "output_type": "stream",
     "text": [
      "==============================\n",
      "*** Open Babel Warning  in ReadMolecule\n",
      "  Failed to kekulize aromatic bonds in MOL2 file (title is 3u0z_CMP_2_protein)\n",
      "\n"
     ]
    },
    {
     "name": "stdout",
     "output_type": "stream",
     "text": [
      "\n"
     ]
    },
    {
     "name": "stderr",
     "output_type": "stream",
     "text": [
      "==============================\n",
      "*** Open Babel Warning  in ReadMolecule\n",
      "  Failed to kekulize aromatic bonds in MOL2 file (title is 4tqq_UQ1_1_protein)\n",
      "\n"
     ]
    },
    {
     "name": "stdout",
     "output_type": "stream",
     "text": [
      "\n"
     ]
    },
    {
     "name": "stderr",
     "output_type": "stream",
     "text": [
      "==============================\n",
      "*** Open Babel Warning  in ReadMolecule\n",
      "  Failed to kekulize aromatic bonds in MOL2 file (title is 2fre_FMN_2_protein)\n",
      "\n"
     ]
    },
    {
     "name": "stdout",
     "output_type": "stream",
     "text": [
      "\n"
     ]
    },
    {
     "name": "stderr",
     "output_type": "stream",
     "text": [
      "==============================\n",
      "*** Open Babel Warning  in ReadMolecule\n",
      "  Failed to kekulize aromatic bonds in MOL2 file (title is 2ido_TMP_2_protein)\n",
      "\n"
     ]
    },
    {
     "name": "stdout",
     "output_type": "stream",
     "text": [
      "\n"
     ]
    },
    {
     "name": "stderr",
     "output_type": "stream",
     "text": [
      "==============================\n",
      "*** Open Babel Warning  in ReadMolecule\n",
      "  Failed to kekulize aromatic bonds in MOL2 file (title is 1q1g_MTI_2_protein)\n",
      "\n"
     ]
    },
    {
     "name": "stdout",
     "output_type": "stream",
     "text": [
      "\n"
     ]
    },
    {
     "name": "stderr",
     "output_type": "stream",
     "text": [
      "==============================\n",
      "*** Open Babel Warning  in ReadMolecule\n",
      "  Failed to kekulize aromatic bonds in MOL2 file (title is 4py2_43E_3_protein)\n",
      "\n"
     ]
    },
    {
     "name": "stdout",
     "output_type": "stream",
     "text": [
      "\n"
     ]
    },
    {
     "name": "stderr",
     "output_type": "stream",
     "text": [
      "==============================\n",
      "*** Open Babel Warning  in ReadMolecule\n",
      "  Failed to kekulize aromatic bonds in MOL2 file (title is 2ej2_PPE_3_protein)\n",
      "\n"
     ]
    },
    {
     "name": "stdout",
     "output_type": "stream",
     "text": [
      "\n"
     ]
    },
    {
     "name": "stderr",
     "output_type": "stream",
     "text": [
      "==============================\n",
      "*** Open Babel Warning  in ReadMolecule\n",
      "  Failed to kekulize aromatic bonds in MOL2 file (title is 1wlk_FMN_1_protein)\n",
      "\n"
     ]
    },
    {
     "name": "stdout",
     "output_type": "stream",
     "text": [
      "\n"
     ]
    },
    {
     "name": "stderr",
     "output_type": "stream",
     "text": [
      "==============================\n",
      "*** Open Babel Warning  in ReadMolecule\n",
      "  Failed to kekulize aromatic bonds in MOL2 file (title is 1rz1_NAD_2_protein)\n",
      "\n"
     ]
    },
    {
     "name": "stdout",
     "output_type": "stream",
     "text": [
      "\n"
     ]
    },
    {
     "name": "stderr",
     "output_type": "stream",
     "text": [
      "==============================\n",
      "*** Open Babel Warning  in ReadMolecule\n",
      "  Failed to kekulize aromatic bonds in MOL2 file (title is 3hl0_NAD_1_protein)\n",
      "\n"
     ]
    },
    {
     "name": "stdout",
     "output_type": "stream",
     "text": [
      "\n"
     ]
    },
    {
     "name": "stderr",
     "output_type": "stream",
     "text": [
      "==============================\n",
      "*** Open Babel Warning  in ReadMolecule\n",
      "  Failed to kekulize aromatic bonds in MOL2 file (title is 4k7y_FMN_1_protein)\n",
      "\n"
     ]
    },
    {
     "name": "stdout",
     "output_type": "stream",
     "text": [
      "\n"
     ]
    },
    {
     "name": "stderr",
     "output_type": "stream",
     "text": [
      "==============================\n",
      "*** Open Babel Warning  in ReadMolecule\n",
      "  Failed to kekulize aromatic bonds in MOL2 file (title is 2ofi_ADK_1_protein)\n",
      "\n"
     ]
    },
    {
     "name": "stdout",
     "output_type": "stream",
     "text": [
      "\n"
     ]
    },
    {
     "name": "stderr",
     "output_type": "stream",
     "text": [
      "==============================\n",
      "*** Open Babel Warning  in ReadMolecule\n",
      "  Failed to kekulize aromatic bonds in MOL2 file (title is 1n6c_SAM_1_protein)\n",
      "\n"
     ]
    },
    {
     "name": "stdout",
     "output_type": "stream",
     "text": [
      "\n"
     ]
    },
    {
     "name": "stderr",
     "output_type": "stream",
     "text": [
      "==============================\n",
      "*** Open Babel Warning  in ReadMolecule\n",
      "  Failed to kekulize aromatic bonds in MOL2 file (title is 2yvp_RBY_1_protein)\n",
      "\n"
     ]
    },
    {
     "name": "stdout",
     "output_type": "stream",
     "text": [
      "\n"
     ]
    },
    {
     "name": "stderr",
     "output_type": "stream",
     "text": [
      "==============================\n",
      "*** Open Babel Warning  in ReadMolecule\n",
      "  Failed to kekulize aromatic bonds in MOL2 file (title is 4fhd_0TT_1_protein)\n",
      "\n"
     ]
    },
    {
     "name": "stdout",
     "output_type": "stream",
     "text": [
      "\n"
     ]
    },
    {
     "name": "stderr",
     "output_type": "stream",
     "text": [
      "==============================\n",
      "*** Open Babel Warning  in ReadMolecule\n",
      "  Failed to kekulize aromatic bonds in MOL2 file (title is 2q8i_RDC_1_protein)\n",
      "\n"
     ]
    },
    {
     "name": "stdout",
     "output_type": "stream",
     "text": [
      "\n"
     ]
    },
    {
     "name": "stderr",
     "output_type": "stream",
     "text": [
      "==============================\n",
      "*** Open Babel Warning  in ReadMolecule\n",
      "  Failed to kekulize aromatic bonds in MOL2 file (title is 3ehe_NAD_1_protein)\n",
      "\n"
     ]
    },
    {
     "name": "stdout",
     "output_type": "stream",
     "text": [
      "\n"
     ]
    },
    {
     "name": "stderr",
     "output_type": "stream",
     "text": [
      "==============================\n",
      "*** Open Babel Warning  in ReadMolecule\n",
      "  Failed to kekulize aromatic bonds in MOL2 file (title is 3op5_REB_2_protein)\n",
      "\n"
     ]
    },
    {
     "name": "stdout",
     "output_type": "stream",
     "text": [
      "\n"
     ]
    },
    {
     "name": "stderr",
     "output_type": "stream",
     "text": [
      "==============================\n",
      "*** Open Babel Warning  in ReadMolecule\n",
      "  Failed to kekulize aromatic bonds in MOL2 file (title is 4bwx_AGS_2_protein)\n",
      "\n"
     ]
    },
    {
     "name": "stdout",
     "output_type": "stream",
     "text": [
      "\n"
     ]
    },
    {
     "name": "stderr",
     "output_type": "stream",
     "text": [
      "==============================\n",
      "*** Open Babel Warning  in ReadMolecule\n",
      "  Failed to kekulize aromatic bonds in MOL2 file (title is 1zq9_SAM_2_protein)\n",
      "\n"
     ]
    },
    {
     "name": "stdout",
     "output_type": "stream",
     "text": [
      "\n"
     ]
    },
    {
     "name": "stderr",
     "output_type": "stream",
     "text": [
      "==============================\n",
      "*** Open Babel Warning  in ReadMolecule\n",
      "  Failed to kekulize aromatic bonds in MOL2 file (title is 2byc_FMN_2_protein)\n",
      "\n"
     ]
    },
    {
     "name": "stdout",
     "output_type": "stream",
     "text": [
      "\n"
     ]
    },
    {
     "name": "stderr",
     "output_type": "stream",
     "text": [
      "==============================\n",
      "*** Open Babel Warning  in ReadMolecule\n",
      "  Failed to kekulize aromatic bonds in MOL2 file (title is 4ikz_AFS_1_protein)\n",
      "\n"
     ]
    },
    {
     "name": "stdout",
     "output_type": "stream",
     "text": [
      "\n"
     ]
    },
    {
     "name": "stderr",
     "output_type": "stream",
     "text": [
      "==============================\n",
      "*** Open Babel Warning  in ReadMolecule\n",
      "  Failed to kekulize aromatic bonds in MOL2 file (title is 1bsv_NDP_1_protein)\n",
      "\n"
     ]
    },
    {
     "name": "stdout",
     "output_type": "stream",
     "text": [
      "\n"
     ]
    },
    {
     "name": "stderr",
     "output_type": "stream",
     "text": [
      "==============================\n",
      "*** Open Babel Warning  in ReadMolecule\n",
      "  Failed to kekulize aromatic bonds in MOL2 file (title is 1z7e_ATP_7_protein)\n",
      "\n"
     ]
    },
    {
     "name": "stdout",
     "output_type": "stream",
     "text": [
      "\n"
     ]
    },
    {
     "name": "stderr",
     "output_type": "stream",
     "text": [
      "==============================\n",
      "*** Open Babel Warning  in ReadMolecule\n",
      "  Failed to kekulize aromatic bonds in MOL2 file (title is 3ele_PLP_1_protein)\n",
      "\n"
     ]
    },
    {
     "name": "stdout",
     "output_type": "stream",
     "text": [
      "\n"
     ]
    },
    {
     "name": "stderr",
     "output_type": "stream",
     "text": [
      "==============================\n",
      "*** Open Babel Warning  in ReadMolecule\n",
      "  Failed to kekulize aromatic bonds in MOL2 file (title is 2rjp_886_4_protein)\n",
      "\n"
     ]
    },
    {
     "name": "stdout",
     "output_type": "stream",
     "text": [
      "\n"
     ]
    },
    {
     "name": "stderr",
     "output_type": "stream",
     "text": [
      "==============================\n",
      "*** Open Babel Warning  in ReadMolecule\n",
      "  Failed to kekulize aromatic bonds in MOL2 file (title is 4img_NGF_1_protein)\n",
      "\n"
     ]
    },
    {
     "name": "stdout",
     "output_type": "stream",
     "text": [
      "\n"
     ]
    },
    {
     "name": "stderr",
     "output_type": "stream",
     "text": [
      "==============================\n",
      "*** Open Babel Warning  in ReadMolecule\n",
      "  Failed to kekulize aromatic bonds in MOL2 file (title is 5adv_DBS_4_protein)\n",
      "\n"
     ]
    },
    {
     "name": "stdout",
     "output_type": "stream",
     "text": [
      "\n"
     ]
    },
    {
     "name": "stderr",
     "output_type": "stream",
     "text": [
      "==============================\n",
      "*** Open Babel Warning  in ReadMolecule\n",
      "  Failed to kekulize aromatic bonds in MOL2 file (title is 1zdw_FLV_1_protein)\n",
      "\n"
     ]
    },
    {
     "name": "stdout",
     "output_type": "stream",
     "text": [
      "\n"
     ]
    },
    {
     "name": "stderr",
     "output_type": "stream",
     "text": [
      "==============================\n",
      "*** Open Babel Warning  in ReadMolecule\n",
      "  Failed to kekulize aromatic bonds in MOL2 file (title is 2y4k_GDP_1_protein)\n",
      "\n"
     ]
    },
    {
     "name": "stdout",
     "output_type": "stream",
     "text": [
      "\n"
     ]
    },
    {
     "name": "stderr",
     "output_type": "stream",
     "text": [
      "==============================\n",
      "*** Open Babel Warning  in ReadMolecule\n",
      "  Failed to kekulize aromatic bonds in MOL2 file (title is 1y56_ATP_2_protein)\n",
      "\n"
     ]
    },
    {
     "name": "stdout",
     "output_type": "stream",
     "text": [
      "\n"
     ]
    },
    {
     "name": "stderr",
     "output_type": "stream",
     "text": [
      "==============================\n",
      "*** Open Babel Warning  in ReadMolecule\n",
      "  Failed to kekulize aromatic bonds in MOL2 file (title is 5k5z_ANP_1_protein)\n",
      "\n"
     ]
    },
    {
     "name": "stdout",
     "output_type": "stream",
     "text": [
      "\n"
     ]
    },
    {
     "name": "stderr",
     "output_type": "stream",
     "text": [
      "==============================\n",
      "*** Open Babel Warning  in ReadMolecule\n",
      "  Failed to kekulize aromatic bonds in MOL2 file (title is 1vrl_ADE_1_protein)\n",
      "\n"
     ]
    },
    {
     "name": "stdout",
     "output_type": "stream",
     "text": [
      "\n"
     ]
    },
    {
     "name": "stderr",
     "output_type": "stream",
     "text": [
      "==============================\n",
      "*** Open Babel Warning  in ReadMolecule\n",
      "  Failed to kekulize aromatic bonds in MOL2 file (title is 3zs7_ATP_1_protein)\n",
      "\n"
     ]
    },
    {
     "name": "stdout",
     "output_type": "stream",
     "text": [
      "\n"
     ]
    },
    {
     "name": "stderr",
     "output_type": "stream",
     "text": [
      "==============================\n",
      "*** Open Babel Warning  in ReadMolecule\n",
      "  Failed to kekulize aromatic bonds in MOL2 file (title is 4EJ4_LIGPROT_PROTEIN)\n",
      "\n"
     ]
    },
    {
     "name": "stdout",
     "output_type": "stream",
     "text": [
      "\n"
     ]
    },
    {
     "name": "stderr",
     "output_type": "stream",
     "text": [
      "==============================\n",
      "*** Open Babel Warning  in ReadMolecule\n",
      "  Failed to kekulize aromatic bonds in MOL2 file (title is 4i8p_NAD_2_protein)\n",
      "\n"
     ]
    },
    {
     "name": "stdout",
     "output_type": "stream",
     "text": [
      "\n"
     ]
    },
    {
     "name": "stderr",
     "output_type": "stream",
     "text": [
      "==============================\n",
      "*** Open Babel Warning  in ReadMolecule\n",
      "  Failed to kekulize aromatic bonds in MOL2 file (title is 2yvj_FAD_1_protein)\n",
      "\n"
     ]
    },
    {
     "name": "stdout",
     "output_type": "stream",
     "text": [
      "\n"
     ]
    },
    {
     "name": "stderr",
     "output_type": "stream",
     "text": [
      "==============================\n",
      "*** Open Babel Warning  in ReadMolecule\n",
      "  Failed to kekulize aromatic bonds in MOL2 file (title is 2h8x_FMN_1_protein)\n",
      "\n"
     ]
    },
    {
     "name": "stdout",
     "output_type": "stream",
     "text": [
      "\n"
     ]
    },
    {
     "name": "stderr",
     "output_type": "stream",
     "text": [
      "==============================\n",
      "*** Open Babel Warning  in ReadMolecule\n",
      "  Failed to kekulize aromatic bonds in MOL2 file (title is 4ua3_COA_1_protein)\n",
      "\n"
     ]
    },
    {
     "name": "stdout",
     "output_type": "stream",
     "text": [
      "\n"
     ]
    },
    {
     "name": "stderr",
     "output_type": "stream",
     "text": [
      "==============================\n",
      "*** Open Babel Warning  in ReadMolecule\n",
      "  Failed to kekulize aromatic bonds in MOL2 file (title is 3ltw_HLZ_1_protein)\n",
      "\n"
     ]
    },
    {
     "name": "stdout",
     "output_type": "stream",
     "text": [
      "\n"
     ]
    },
    {
     "name": "stderr",
     "output_type": "stream",
     "text": [
      "==============================\n",
      "*** Open Babel Warning  in ReadMolecule\n",
      "  Failed to kekulize aromatic bonds in MOL2 file (title is 1n71_COA_1_protein)\n",
      "\n"
     ]
    },
    {
     "name": "stdout",
     "output_type": "stream",
     "text": [
      "\n"
     ]
    },
    {
     "name": "stderr",
     "output_type": "stream",
     "text": [
      "==============================\n",
      "*** Open Babel Warning  in ReadMolecule\n",
      "  Failed to kekulize aromatic bonds in MOL2 file (title is 2v7g_NAD_2_protein)\n",
      "\n"
     ]
    },
    {
     "name": "stdout",
     "output_type": "stream",
     "text": [
      "\n"
     ]
    },
    {
     "name": "stderr",
     "output_type": "stream",
     "text": [
      "==============================\n",
      "*** Open Babel Warning  in ReadMolecule\n",
      "  Failed to kekulize aromatic bonds in MOL2 file (title is 3mle_ADP_2_protein)\n",
      "\n"
     ]
    },
    {
     "name": "stdout",
     "output_type": "stream",
     "text": [
      "\n"
     ]
    },
    {
     "name": "stderr",
     "output_type": "stream",
     "text": [
      "==============================\n",
      "*** Open Babel Warning  in ReadMolecule\n",
      "  Failed to kekulize aromatic bonds in MOL2 file (title is 2vwx_7X4_1_protein)\n",
      "\n"
     ]
    },
    {
     "name": "stdout",
     "output_type": "stream",
     "text": [
      "\n"
     ]
    },
    {
     "name": "stderr",
     "output_type": "stream",
     "text": [
      "==============================\n",
      "*** Open Babel Warning  in ReadMolecule\n",
      "  Failed to kekulize aromatic bonds in MOL2 file (title is 3pii_BMD_3_protein)\n",
      "\n"
     ]
    },
    {
     "name": "stdout",
     "output_type": "stream",
     "text": [
      "\n"
     ]
    },
    {
     "name": "stderr",
     "output_type": "stream",
     "text": [
      "==============================\n",
      "*** Open Babel Warning  in ReadMolecule\n",
      "  Failed to kekulize aromatic bonds in MOL2 file (title is 4dq1_UMP_2_protein)\n",
      "\n"
     ]
    },
    {
     "name": "stdout",
     "output_type": "stream",
     "text": [
      "\n"
     ]
    },
    {
     "name": "stderr",
     "output_type": "stream",
     "text": [
      "==============================\n",
      "*** Open Babel Warning  in ReadMolecule\n",
      "  Failed to kekulize aromatic bonds in MOL2 file (title is 2ha0_CHH_2_protein)\n",
      "\n"
     ]
    },
    {
     "name": "stdout",
     "output_type": "stream",
     "text": [
      "\n"
     ]
    },
    {
     "name": "stderr",
     "output_type": "stream",
     "text": [
      "==============================\n",
      "*** Open Babel Warning  in ReadMolecule\n",
      "  Failed to kekulize aromatic bonds in MOL2 file (title is 3of4_FMN_2_protein)\n",
      "\n"
     ]
    },
    {
     "name": "stdout",
     "output_type": "stream",
     "text": [
      "\n"
     ]
    },
    {
     "name": "stderr",
     "output_type": "stream",
     "text": [
      "==============================\n",
      "*** Open Babel Warning  in ReadMolecule\n",
      "  Failed to kekulize aromatic bonds in MOL2 file (title is 2gm1_2AZ_3_protein)\n",
      "\n"
     ]
    },
    {
     "name": "stdout",
     "output_type": "stream",
     "text": [
      "\n"
     ]
    },
    {
     "name": "stderr",
     "output_type": "stream",
     "text": [
      "==============================\n",
      "*** Open Babel Warning  in ReadMolecule\n",
      "  Failed to kekulize aromatic bonds in MOL2 file (title is 4er6_AW2_1_protein)\n",
      "\n"
     ]
    },
    {
     "name": "stdout",
     "output_type": "stream",
     "text": [
      "\n"
     ]
    },
    {
     "name": "stderr",
     "output_type": "stream",
     "text": [
      "==============================\n",
      "*** Open Babel Warning  in ReadMolecule\n",
      "  Failed to kekulize aromatic bonds in MOL2 file (title is 1qk3_5GP_1_protein)\n",
      "\n"
     ]
    },
    {
     "name": "stdout",
     "output_type": "stream",
     "text": [
      "\n"
     ]
    },
    {
     "name": "stderr",
     "output_type": "stream",
     "text": [
      "==============================\n",
      "*** Open Babel Warning  in ReadMolecule\n",
      "  Failed to kekulize aromatic bonds in MOL2 file (title is 4a2a_ATP_2_protein)\n",
      "\n"
     ]
    },
    {
     "name": "stdout",
     "output_type": "stream",
     "text": [
      "\n"
     ]
    },
    {
     "name": "stderr",
     "output_type": "stream",
     "text": [
      "==============================\n",
      "*** Open Babel Warning  in ReadMolecule\n",
      "  Failed to kekulize aromatic bonds in MOL2 file (title is 5cho_FAD_7_protein)\n",
      "\n"
     ]
    },
    {
     "name": "stdout",
     "output_type": "stream",
     "text": [
      "\n"
     ]
    },
    {
     "name": "stderr",
     "output_type": "stream",
     "text": [
      "==============================\n",
      "*** Open Babel Warning  in ReadMolecule\n",
      "  Failed to kekulize aromatic bonds in MOL2 file (title is 3pz3_PZ3_1_protein)\n",
      "\n"
     ]
    },
    {
     "name": "stdout",
     "output_type": "stream",
     "text": [
      "\n"
     ]
    },
    {
     "name": "stderr",
     "output_type": "stream",
     "text": [
      "==============================\n",
      "*** Open Babel Warning  in ReadMolecule\n",
      "  Failed to kekulize aromatic bonds in MOL2 file (title is 3bhm_AHE_1_protein)\n",
      "\n"
     ]
    },
    {
     "name": "stdout",
     "output_type": "stream",
     "text": [
      "\n"
     ]
    },
    {
     "name": "stderr",
     "output_type": "stream",
     "text": [
      "==============================\n",
      "*** Open Babel Warning  in ReadMolecule\n",
      "  Failed to kekulize aromatic bonds in MOL2 file (title is 2oxn_OAN_1_protein)\n",
      "\n"
     ]
    },
    {
     "name": "stdout",
     "output_type": "stream",
     "text": [
      "\n"
     ]
    },
    {
     "name": "stderr",
     "output_type": "stream",
     "text": [
      "==============================\n",
      "*** Open Babel Warning  in ReadMolecule\n",
      "  Failed to kekulize aromatic bonds in MOL2 file (title is 2c27_MA8_1_protein)\n",
      "\n"
     ]
    },
    {
     "name": "stdout",
     "output_type": "stream",
     "text": [
      "\n"
     ]
    },
    {
     "name": "stderr",
     "output_type": "stream",
     "text": [
      "==============================\n",
      "*** Open Babel Warning  in ReadMolecule\n",
      "  Failed to kekulize aromatic bonds in MOL2 file (title is 1yid_ATP_1_protein)\n",
      "\n"
     ]
    },
    {
     "name": "stdout",
     "output_type": "stream",
     "text": [
      "\n"
     ]
    },
    {
     "name": "stderr",
     "output_type": "stream",
     "text": [
      "==============================\n",
      "*** Open Babel Warning  in ReadMolecule\n",
      "  Failed to kekulize aromatic bonds in MOL2 file (title is 3bhh_5CP_2_protein)\n",
      "\n"
     ]
    },
    {
     "name": "stdout",
     "output_type": "stream",
     "text": [
      "\n"
     ]
    },
    {
     "name": "stderr",
     "output_type": "stream",
     "text": [
      "==============================\n",
      "*** Open Babel Warning  in ReadMolecule\n",
      "  Failed to kekulize aromatic bonds in MOL2 file (title is 1ao0_ADP_5_protein)\n",
      "\n"
     ]
    },
    {
     "name": "stdout",
     "output_type": "stream",
     "text": [
      "\n"
     ]
    },
    {
     "name": "stderr",
     "output_type": "stream",
     "text": [
      "==============================\n",
      "*** Open Babel Warning  in ReadMolecule\n",
      "  Failed to kekulize aromatic bonds in MOL2 file (title is 2gvv_DI9_1_protein)\n",
      "\n"
     ]
    },
    {
     "name": "stdout",
     "output_type": "stream",
     "text": [
      "\n"
     ]
    },
    {
     "name": "stderr",
     "output_type": "stream",
     "text": [
      "==============================\n",
      "*** Open Babel Warning  in ReadMolecule\n",
      "  Failed to kekulize aromatic bonds in MOL2 file (title is 1n2h_PAJ_2_protein)\n",
      "\n"
     ]
    },
    {
     "name": "stdout",
     "output_type": "stream",
     "text": [
      "\n"
     ]
    },
    {
     "name": "stderr",
     "output_type": "stream",
     "text": [
      "==============================\n",
      "*** Open Babel Warning  in ReadMolecule\n",
      "  Failed to kekulize aromatic bonds in MOL2 file (title is 2b82_ADN_1_protein)\n",
      "\n"
     ]
    },
    {
     "name": "stdout",
     "output_type": "stream",
     "text": [
      "\n"
     ]
    },
    {
     "name": "stderr",
     "output_type": "stream",
     "text": [
      "==============================\n",
      "*** Open Babel Warning  in ReadMolecule\n",
      "  Failed to kekulize aromatic bonds in MOL2 file (title is 4oxx_FMN_1_protein)\n",
      "\n"
     ]
    },
    {
     "name": "stdout",
     "output_type": "stream",
     "text": [
      "\n"
     ]
    },
    {
     "name": "stderr",
     "output_type": "stream",
     "text": [
      "==============================\n",
      "*** Open Babel Warning  in ReadMolecule\n",
      "  Failed to kekulize aromatic bonds in MOL2 file (title is 5brp_PNG_3_protein)\n",
      "\n"
     ]
    },
    {
     "name": "stdout",
     "output_type": "stream",
     "text": [
      "\n"
     ]
    },
    {
     "name": "stderr",
     "output_type": "stream",
     "text": [
      "==============================\n",
      "*** Open Babel Warning  in ReadMolecule\n",
      "  Failed to kekulize aromatic bonds in MOL2 file (title is 4im0_1FV_1_protein)\n",
      "\n"
     ]
    },
    {
     "name": "stdout",
     "output_type": "stream",
     "text": [
      "\n"
     ]
    },
    {
     "name": "stderr",
     "output_type": "stream",
     "text": [
      "==============================\n",
      "*** Open Babel Warning  in ReadMolecule\n",
      "  Failed to kekulize aromatic bonds in MOL2 file (title is 1e4v_AP5_1_protein)\n",
      "\n"
     ]
    },
    {
     "name": "stdout",
     "output_type": "stream",
     "text": [
      "\n"
     ]
    },
    {
     "name": "stderr",
     "output_type": "stream",
     "text": [
      "==============================\n",
      "*** Open Babel Warning  in ReadMolecule\n",
      "  Failed to kekulize aromatic bonds in MOL2 file (title is 3dr8_ACO_1_protein)\n",
      "\n"
     ]
    },
    {
     "name": "stdout",
     "output_type": "stream",
     "text": [
      "\n"
     ]
    },
    {
     "name": "stderr",
     "output_type": "stream",
     "text": [
      "==============================\n",
      "*** Open Babel Warning  in ReadMolecule\n",
      "  Failed to kekulize aromatic bonds in MOL2 file (title is 4nh0_ATP_2_protein)\n",
      "\n"
     ]
    },
    {
     "name": "stdout",
     "output_type": "stream",
     "text": [
      "\n"
     ]
    },
    {
     "name": "stderr",
     "output_type": "stream",
     "text": [
      "==============================\n",
      "*** Open Babel Warning  in ReadMolecule\n",
      "  Failed to kekulize aromatic bonds in MOL2 file (title is 3o2m_46A_2_protein)\n",
      "\n"
     ]
    },
    {
     "name": "stdout",
     "output_type": "stream",
     "text": [
      "\n"
     ]
    },
    {
     "name": "stderr",
     "output_type": "stream",
     "text": [
      "==============================\n",
      "*** Open Babel Warning  in ReadMolecule\n",
      "  Failed to kekulize aromatic bonds in MOL2 file (title is 3jwa_MPJ_1_protein)\n",
      "\n"
     ]
    },
    {
     "name": "stdout",
     "output_type": "stream",
     "text": [
      "\n"
     ]
    },
    {
     "name": "stderr",
     "output_type": "stream",
     "text": [
      "==============================\n",
      "*** Open Babel Warning  in ReadMolecule\n",
      "  Failed to kekulize aromatic bonds in MOL2 file (title is 3wwi_PLP_3_protein)\n",
      "\n"
     ]
    },
    {
     "name": "stdout",
     "output_type": "stream",
     "text": [
      "\n"
     ]
    },
    {
     "name": "stderr",
     "output_type": "stream",
     "text": [
      "==============================\n",
      "*** Open Babel Warning  in ReadMolecule\n",
      "  Failed to kekulize aromatic bonds in MOL2 file (title is 3e8x_NAP_1_protein)\n",
      "\n"
     ]
    },
    {
     "name": "stdout",
     "output_type": "stream",
     "text": [
      "\n"
     ]
    },
    {
     "name": "stderr",
     "output_type": "stream",
     "text": [
      "==============================\n",
      "*** Open Babel Warning  in ReadMolecule\n",
      "  Failed to kekulize aromatic bonds in MOL2 file (title is 3uqd_ADP_2_protein)\n",
      "\n"
     ]
    },
    {
     "name": "stdout",
     "output_type": "stream",
     "text": [
      "\n"
     ]
    },
    {
     "name": "stderr",
     "output_type": "stream",
     "text": [
      "==============================\n",
      "*** Open Babel Warning  in ReadMolecule\n",
      "  Failed to kekulize aromatic bonds in MOL2 file (title is 4kqk_PCR_1_protein)\n",
      "\n"
     ]
    },
    {
     "name": "stdout",
     "output_type": "stream",
     "text": [
      "\n"
     ]
    },
    {
     "name": "stderr",
     "output_type": "stream",
     "text": [
      "==============================\n",
      "*** Open Babel Warning  in ReadMolecule\n",
      "  Failed to kekulize aromatic bonds in MOL2 file (title is 4nau_AGS_2_protein)\n",
      "\n"
     ]
    },
    {
     "name": "stdout",
     "output_type": "stream",
     "text": [
      "\n"
     ]
    },
    {
     "name": "stderr",
     "output_type": "stream",
     "text": [
      "==============================\n",
      "*** Open Babel Warning  in ReadMolecule\n",
      "  Failed to kekulize aromatic bonds in MOL2 file (title is 2b4y_APR_3_protein)\n",
      "\n"
     ]
    },
    {
     "name": "stdout",
     "output_type": "stream",
     "text": [
      "\n"
     ]
    },
    {
     "name": "stderr",
     "output_type": "stream",
     "text": [
      "==============================\n",
      "*** Open Babel Warning  in ReadMolecule\n",
      "  Failed to kekulize aromatic bonds in MOL2 file (title is 4bco_T6Q_1_protein)\n",
      "\n"
     ]
    },
    {
     "name": "stdout",
     "output_type": "stream",
     "text": [
      "\n"
     ]
    },
    {
     "name": "stderr",
     "output_type": "stream",
     "text": [
      "==============================\n",
      "*** Open Babel Warning  in ReadMolecule\n",
      "  Failed to kekulize aromatic bonds in MOL2 file (title is 1c70_L75_1_protein)\n",
      "\n"
     ]
    },
    {
     "name": "stdout",
     "output_type": "stream",
     "text": [
      "\n"
     ]
    },
    {
     "name": "stderr",
     "output_type": "stream",
     "text": [
      "==============================\n",
      "*** Open Babel Warning  in ReadMolecule\n",
      "  Failed to kekulize aromatic bonds in MOL2 file (title is 4zbr_NPS_3_protein)\n",
      "\n"
     ]
    },
    {
     "name": "stdout",
     "output_type": "stream",
     "text": [
      "\n"
     ]
    },
    {
     "name": "stderr",
     "output_type": "stream",
     "text": [
      "==============================\n",
      "*** Open Babel Warning  in ReadMolecule\n",
      "  Failed to kekulize aromatic bonds in MOL2 file (title is 2avv_MK1_2_protein)\n",
      "\n"
     ]
    },
    {
     "name": "stdout",
     "output_type": "stream",
     "text": [
      "\n"
     ]
    },
    {
     "name": "stderr",
     "output_type": "stream",
     "text": [
      "==============================\n",
      "*** Open Babel Warning  in ReadMolecule\n",
      "  Failed to kekulize aromatic bonds in MOL2 file (title is 4hj4_FMN_1_protein)\n",
      "\n"
     ]
    },
    {
     "name": "stdout",
     "output_type": "stream",
     "text": [
      "\n"
     ]
    },
    {
     "name": "stderr",
     "output_type": "stream",
     "text": [
      "==============================\n",
      "*** Open Babel Warning  in ReadMolecule\n",
      "  Failed to kekulize aromatic bonds in MOL2 file (title is 2v74_SAH_1_protein)\n",
      "\n"
     ]
    },
    {
     "name": "stdout",
     "output_type": "stream",
     "text": [
      "\n"
     ]
    },
    {
     "name": "stderr",
     "output_type": "stream",
     "text": [
      "==============================\n",
      "*** Open Babel Warning  in ReadMolecule\n",
      "  Failed to kekulize aromatic bonds in MOL2 file (title is 5hsa_FAS_2_protein)\n",
      "\n"
     ]
    },
    {
     "name": "stdout",
     "output_type": "stream",
     "text": [
      "\n"
     ]
    },
    {
     "name": "stderr",
     "output_type": "stream",
     "text": [
      "==============================\n",
      "*** Open Babel Warning  in ReadMolecule\n",
      "  Failed to kekulize aromatic bonds in MOL2 file (title is 4eil_UMP_17_protein)\n",
      "\n"
     ]
    },
    {
     "name": "stdout",
     "output_type": "stream",
     "text": [
      "\n"
     ]
    },
    {
     "name": "stderr",
     "output_type": "stream",
     "text": [
      "==============================\n",
      "*** Open Babel Warning  in ReadMolecule\n",
      "  Failed to kekulize aromatic bonds in MOL2 file (title is 3sfx_JAN_1_protein)\n",
      "\n"
     ]
    },
    {
     "name": "stdout",
     "output_type": "stream",
     "text": [
      "\n"
     ]
    },
    {
     "name": "stderr",
     "output_type": "stream",
     "text": [
      "==============================\n",
      "*** Open Babel Warning  in ReadMolecule\n",
      "  Failed to kekulize aromatic bonds in MOL2 file (title is 3gxo_MQA_4_protein)\n",
      "\n"
     ]
    },
    {
     "name": "stdout",
     "output_type": "stream",
     "text": [
      "\n"
     ]
    },
    {
     "name": "stderr",
     "output_type": "stream",
     "text": [
      "==============================\n",
      "*** Open Babel Warning  in ReadMolecule\n",
      "  Failed to kekulize aromatic bonds in MOL2 file (title is 2yqz_SAM_1_protein)\n",
      "\n"
     ]
    },
    {
     "name": "stdout",
     "output_type": "stream",
     "text": [
      "\n"
     ]
    },
    {
     "name": "stderr",
     "output_type": "stream",
     "text": [
      "==============================\n",
      "*** Open Babel Warning  in ReadMolecule\n",
      "  Failed to kekulize aromatic bonds in MOL2 file (title is 1ci0_FMN_2_protein)\n",
      "\n"
     ]
    },
    {
     "name": "stdout",
     "output_type": "stream",
     "text": [
      "\n"
     ]
    },
    {
     "name": "stderr",
     "output_type": "stream",
     "text": [
      "==============================\n",
      "*** Open Babel Warning  in ReadMolecule\n",
      "  Failed to kekulize aromatic bonds in MOL2 file (title is 2pmd_GNP_1_protein)\n",
      "\n"
     ]
    },
    {
     "name": "stdout",
     "output_type": "stream",
     "text": [
      "\n"
     ]
    },
    {
     "name": "stderr",
     "output_type": "stream",
     "text": [
      "==============================\n",
      "*** Open Babel Warning  in ReadMolecule\n",
      "  Failed to kekulize aromatic bonds in MOL2 file (title is 5ezm_PC_1_protein)\n",
      "\n"
     ]
    },
    {
     "name": "stdout",
     "output_type": "stream",
     "text": [
      "\n"
     ]
    },
    {
     "name": "stderr",
     "output_type": "stream",
     "text": [
      "==============================\n",
      "*** Open Babel Warning  in ReadMolecule\n",
      "  Failed to kekulize aromatic bonds in MOL2 file (title is 5f1c_ATP_2_protein)\n",
      "\n"
     ]
    },
    {
     "name": "stdout",
     "output_type": "stream",
     "text": [
      "\n"
     ]
    },
    {
     "name": "stderr",
     "output_type": "stream",
     "text": [
      "==============================\n",
      "*** Open Babel Warning  in ReadMolecule\n",
      "  Failed to kekulize aromatic bonds in MOL2 file (title is 4ba5_PXG_1_protein)\n",
      "\n"
     ]
    },
    {
     "name": "stdout",
     "output_type": "stream",
     "text": [
      "\n"
     ]
    },
    {
     "name": "stderr",
     "output_type": "stream",
     "text": [
      "==============================\n",
      "*** Open Babel Warning  in ReadMolecule\n",
      "  Failed to kekulize aromatic bonds in MOL2 file (title is 1t93_FLV_1_protein)\n",
      "\n"
     ]
    },
    {
     "name": "stdout",
     "output_type": "stream",
     "text": [
      "\n"
     ]
    },
    {
     "name": "stderr",
     "output_type": "stream",
     "text": [
      "==============================\n",
      "*** Open Babel Warning  in ReadMolecule\n",
      "  Failed to kekulize aromatic bonds in MOL2 file (title is 2r9v_ATP_1_protein)\n",
      "\n"
     ]
    },
    {
     "name": "stdout",
     "output_type": "stream",
     "text": [
      "\n"
     ]
    },
    {
     "name": "stderr",
     "output_type": "stream",
     "text": [
      "==============================\n",
      "*** Open Babel Warning  in ReadMolecule\n",
      "  Failed to kekulize aromatic bonds in MOL2 file (title is 2dt5_NAD_1_protein)\n",
      "\n"
     ]
    },
    {
     "name": "stdout",
     "output_type": "stream",
     "text": [
      "\n"
     ]
    },
    {
     "name": "stderr",
     "output_type": "stream",
     "text": [
      "==============================\n",
      "*** Open Babel Warning  in ReadMolecule\n",
      "  Failed to kekulize aromatic bonds in MOL2 file (title is 2vdv_SAM_2_protein)\n",
      "\n"
     ]
    },
    {
     "name": "stdout",
     "output_type": "stream",
     "text": [
      "\n"
     ]
    },
    {
     "name": "stderr",
     "output_type": "stream",
     "text": [
      "==============================\n",
      "*** Open Babel Warning  in ReadMolecule\n",
      "  Failed to kekulize aromatic bonds in MOL2 file (title is 4cvm_ANP_1_protein)\n",
      "\n"
     ]
    },
    {
     "name": "stdout",
     "output_type": "stream",
     "text": [
      "\n"
     ]
    },
    {
     "name": "stderr",
     "output_type": "stream",
     "text": [
      "==============================\n",
      "*** Open Babel Warning  in ReadMolecule\n",
      "  Failed to kekulize aromatic bonds in MOL2 file (title is 2fju_GSP_1_protein)\n",
      "\n"
     ]
    },
    {
     "name": "stdout",
     "output_type": "stream",
     "text": [
      "\n"
     ]
    },
    {
     "name": "stderr",
     "output_type": "stream",
     "text": [
      "==============================\n",
      "*** Open Babel Warning  in ReadMolecule\n",
      "  Failed to kekulize aromatic bonds in MOL2 file (title is 2p3c_3TL_1_protein)\n",
      "\n"
     ]
    },
    {
     "name": "stdout",
     "output_type": "stream",
     "text": [
      "\n"
     ]
    },
    {
     "name": "stderr",
     "output_type": "stream",
     "text": [
      "==============================\n",
      "*** Open Babel Warning  in ReadMolecule\n",
      "  Failed to kekulize aromatic bonds in MOL2 file (title is 2p9k_ATP_2_protein)\n",
      "\n"
     ]
    },
    {
     "name": "stdout",
     "output_type": "stream",
     "text": [
      "\n"
     ]
    },
    {
     "name": "stderr",
     "output_type": "stream",
     "text": [
      "==============================\n",
      "*** Open Babel Warning  in ReadMolecule\n",
      "  Failed to kekulize aromatic bonds in MOL2 file (title is 2okl_BB2_1_protein)\n",
      "\n"
     ]
    },
    {
     "name": "stdout",
     "output_type": "stream",
     "text": [
      "\n"
     ]
    },
    {
     "name": "stderr",
     "output_type": "stream",
     "text": [
      "==============================\n",
      "*** Open Babel Warning  in ReadMolecule\n",
      "  Failed to kekulize aromatic bonds in MOL2 file (title is 3kfl_ME8_1_protein)\n",
      "\n"
     ]
    },
    {
     "name": "stdout",
     "output_type": "stream",
     "text": [
      "\n"
     ]
    },
    {
     "name": "stderr",
     "output_type": "stream",
     "text": [
      "==============================\n",
      "*** Open Babel Warning  in ReadMolecule\n",
      "  Failed to kekulize aromatic bonds in MOL2 file (title is 4ggz_BTN_2_protein)\n",
      "\n"
     ]
    },
    {
     "name": "stdout",
     "output_type": "stream",
     "text": [
      "\n"
     ]
    },
    {
     "name": "stderr",
     "output_type": "stream",
     "text": [
      "==============================\n",
      "*** Open Babel Warning  in ReadMolecule\n",
      "  Failed to kekulize aromatic bonds in MOL2 file (title is 3sfg_2TU_1_protein)\n",
      "\n"
     ]
    },
    {
     "name": "stdout",
     "output_type": "stream",
     "text": [
      "\n"
     ]
    },
    {
     "name": "stderr",
     "output_type": "stream",
     "text": [
      "==============================\n",
      "*** Open Babel Warning  in ReadMolecule\n",
      "  Failed to kekulize aromatic bonds in MOL2 file (title is 2hah_3TL_1_protein)\n",
      "\n"
     ]
    },
    {
     "name": "stdout",
     "output_type": "stream",
     "text": [
      "\n"
     ]
    },
    {
     "name": "stderr",
     "output_type": "stream",
     "text": [
      "==============================\n",
      "*** Open Babel Warning  in ReadMolecule\n",
      "  Failed to kekulize aromatic bonds in MOL2 file (title is 2fsv_NAP_2_protein)\n",
      "\n"
     ]
    },
    {
     "name": "stdout",
     "output_type": "stream",
     "text": [
      "\n"
     ]
    },
    {
     "name": "stderr",
     "output_type": "stream",
     "text": [
      "==============================\n",
      "*** Open Babel Warning  in ReadMolecule\n",
      "  Failed to kekulize aromatic bonds in MOL2 file (title is 3ddc_GNP_1_protein)\n",
      "\n"
     ]
    },
    {
     "name": "stdout",
     "output_type": "stream",
     "text": [
      "\n"
     ]
    },
    {
     "name": "stderr",
     "output_type": "stream",
     "text": [
      "==============================\n",
      "*** Open Babel Warning  in ReadMolecule\n",
      "  Failed to kekulize aromatic bonds in MOL2 file (title is 5jlc_1YN_1_protein)\n",
      "\n"
     ]
    },
    {
     "name": "stdout",
     "output_type": "stream",
     "text": [
      "\n"
     ]
    },
    {
     "name": "stderr",
     "output_type": "stream",
     "text": [
      "==============================\n",
      "*** Open Babel Warning  in ReadMolecule\n",
      "  Failed to kekulize aromatic bonds in MOL2 file (title is 2a1y_5GP_1_protein)\n",
      "\n"
     ]
    },
    {
     "name": "stdout",
     "output_type": "stream",
     "text": [
      "\n"
     ]
    },
    {
     "name": "stderr",
     "output_type": "stream",
     "text": [
      "==============================\n",
      "*** Open Babel Warning  in ReadMolecule\n",
      "  Failed to kekulize aromatic bonds in MOL2 file (title is 2d3m_COA_2_protein)\n",
      "\n"
     ]
    },
    {
     "name": "stdout",
     "output_type": "stream",
     "text": [
      "\n"
     ]
    },
    {
     "name": "stderr",
     "output_type": "stream",
     "text": [
      "==============================\n",
      "*** Open Babel Warning  in ReadMolecule\n",
      "  Failed to kekulize aromatic bonds in MOL2 file (title is 3tkl_GTP_1_protein)\n",
      "\n"
     ]
    },
    {
     "name": "stdout",
     "output_type": "stream",
     "text": [
      "\n"
     ]
    },
    {
     "name": "stderr",
     "output_type": "stream",
     "text": [
      "==============================\n",
      "*** Open Babel Warning  in ReadMolecule\n",
      "  Failed to kekulize aromatic bonds in MOL2 file (title is 4qly_FMN_2_protein)\n",
      "\n"
     ]
    },
    {
     "name": "stdout",
     "output_type": "stream",
     "text": [
      "\n"
     ]
    },
    {
     "name": "stderr",
     "output_type": "stream",
     "text": [
      "==============================\n",
      "*** Open Babel Warning  in ReadMolecule\n",
      "  Failed to kekulize aromatic bonds in MOL2 file (title is 4nmj_NAP_1_protein)\n",
      "\n"
     ]
    },
    {
     "name": "stdout",
     "output_type": "stream",
     "text": [
      "\n"
     ]
    },
    {
     "name": "stderr",
     "output_type": "stream",
     "text": [
      "==============================\n",
      "*** Open Babel Warning  in ReadMolecule\n",
      "  Failed to kekulize aromatic bonds in MOL2 file (title is 4xfj_ANP_1_protein)\n",
      "\n"
     ]
    },
    {
     "name": "stdout",
     "output_type": "stream",
     "text": [
      "\n"
     ]
    },
    {
     "name": "stderr",
     "output_type": "stream",
     "text": [
      "==============================\n",
      "*** Open Babel Warning  in ReadMolecule\n",
      "  Failed to kekulize aromatic bonds in MOL2 file (title is 2bf4_FAD_1_protein)\n",
      "\n"
     ]
    },
    {
     "name": "stdout",
     "output_type": "stream",
     "text": [
      "\n"
     ]
    },
    {
     "name": "stderr",
     "output_type": "stream",
     "text": [
      "==============================\n",
      "*** Open Babel Warning  in ReadMolecule\n",
      "  Failed to kekulize aromatic bonds in MOL2 file (title is 2bpq_BEN_1_protein)\n",
      "\n"
     ]
    },
    {
     "name": "stdout",
     "output_type": "stream",
     "text": [
      "\n"
     ]
    },
    {
     "name": "stderr",
     "output_type": "stream",
     "text": [
      "==============================\n",
      "*** Open Babel Warning  in ReadMolecule\n",
      "  Failed to kekulize aromatic bonds in MOL2 file (title is 1u0w_STL_2_protein)\n",
      "\n"
     ]
    },
    {
     "name": "stdout",
     "output_type": "stream",
     "text": [
      "\n"
     ]
    },
    {
     "name": "stderr",
     "output_type": "stream",
     "text": [
      "==============================\n",
      "*** Open Babel Warning  in ReadMolecule\n",
      "  Failed to kekulize aromatic bonds in MOL2 file (title is 2db3_ANP_1_protein)\n",
      "\n"
     ]
    },
    {
     "name": "stdout",
     "output_type": "stream",
     "text": [
      "\n"
     ]
    },
    {
     "name": "stderr",
     "output_type": "stream",
     "text": [
      "==============================\n",
      "*** Open Babel Warning  in ReadMolecule\n",
      "  Failed to kekulize aromatic bonds in MOL2 file (title is 3duw_SAH_2_protein)\n",
      "\n"
     ]
    },
    {
     "name": "stdout",
     "output_type": "stream",
     "text": [
      "\n"
     ]
    },
    {
     "name": "stderr",
     "output_type": "stream",
     "text": [
      "==============================\n",
      "*** Open Babel Warning  in ReadMolecule\n",
      "  Failed to kekulize aromatic bonds in MOL2 file (title is 3ewr_APR_1_protein)\n",
      "\n"
     ]
    },
    {
     "name": "stdout",
     "output_type": "stream",
     "text": [
      "\n"
     ]
    },
    {
     "name": "stderr",
     "output_type": "stream",
     "text": [
      "==============================\n",
      "*** Open Babel Warning  in ReadMolecule\n",
      "  Failed to kekulize aromatic bonds in MOL2 file (title is 2q0l_FAD_1_protein)\n",
      "\n"
     ]
    },
    {
     "name": "stdout",
     "output_type": "stream",
     "text": [
      "\n"
     ]
    },
    {
     "name": "stderr",
     "output_type": "stream",
     "text": [
      "==============================\n",
      "*** Open Babel Warning  in ReadMolecule\n",
      "  Failed to kekulize aromatic bonds in MOL2 file (title is 2npd_IMD_1_protein)\n",
      "\n"
     ]
    },
    {
     "name": "stdout",
     "output_type": "stream",
     "text": [
      "\n"
     ]
    },
    {
     "name": "stderr",
     "output_type": "stream",
     "text": [
      "==============================\n",
      "*** Open Babel Warning  in ReadMolecule\n",
      "  Failed to kekulize aromatic bonds in MOL2 file (title is 4rzu_ADP_1_protein)\n",
      "\n"
     ]
    },
    {
     "name": "stdout",
     "output_type": "stream",
     "text": [
      "\n"
     ]
    },
    {
     "name": "stderr",
     "output_type": "stream",
     "text": [
      "==============================\n",
      "*** Open Babel Warning  in ReadMolecule\n",
      "  Failed to kekulize aromatic bonds in MOL2 file (title is 3gwd_FAD_1_protein)\n",
      "\n"
     ]
    },
    {
     "name": "stdout",
     "output_type": "stream",
     "text": [
      "\n"
     ]
    },
    {
     "name": "stderr",
     "output_type": "stream",
     "text": [
      "==============================\n",
      "*** Open Babel Warning  in ReadMolecule\n",
      "  Failed to kekulize aromatic bonds in MOL2 file (title is 3mfl_DHY_1_protein)\n",
      "\n"
     ]
    },
    {
     "name": "stdout",
     "output_type": "stream",
     "text": [
      "\n"
     ]
    },
    {
     "name": "stderr",
     "output_type": "stream",
     "text": [
      "==============================\n",
      "*** Open Babel Warning  in ReadMolecule\n",
      "  This Mol2 file is non-standard. Problem with molecule: 1nhh_ANP_1_protein Cannot interpret atom types correctly, instead attempting to interpret atom type: RB as elements instead.\n",
      "==============================\n",
      "*** Open Babel Warning  in Translate\n",
      "  Cannot perform atom type translation: table cannot find requested types.\n",
      "==============================\n",
      "*** Open Babel Warning  in ReadMolecule\n",
      "  Failed to kekulize aromatic bonds in MOL2 file (title is 1nhh_ANP_1_protein)\n",
      "\n"
     ]
    },
    {
     "name": "stdout",
     "output_type": "stream",
     "text": [
      "\n"
     ]
    },
    {
     "name": "stderr",
     "output_type": "stream",
     "text": [
      "==============================\n",
      "*** Open Babel Warning  in ReadMolecule\n",
      "  Failed to kekulize aromatic bonds in MOL2 file (title is 4pr3_ADE_1_protein)\n",
      "\n"
     ]
    },
    {
     "name": "stdout",
     "output_type": "stream",
     "text": [
      "\n"
     ]
    },
    {
     "name": "stderr",
     "output_type": "stream",
     "text": [
      "==============================\n",
      "*** Open Babel Warning  in ReadMolecule\n",
      "  Failed to kekulize aromatic bonds in MOL2 file (title is 2rc3_NAD_4_protein)\n",
      "\n"
     ]
    },
    {
     "name": "stdout",
     "output_type": "stream",
     "text": [
      "\n"
     ]
    },
    {
     "name": "stderr",
     "output_type": "stream",
     "text": [
      "==============================\n",
      "*** Open Babel Warning  in ReadMolecule\n",
      "  Failed to kekulize aromatic bonds in MOL2 file (title is 2v3w_TPP_3_protein)\n",
      "\n"
     ]
    },
    {
     "name": "stdout",
     "output_type": "stream",
     "text": [
      "\n"
     ]
    },
    {
     "name": "stderr",
     "output_type": "stream",
     "text": [
      "==============================\n",
      "*** Open Babel Warning  in ReadMolecule\n",
      "  Failed to kekulize aromatic bonds in MOL2 file (title is 4njo_NAD_1_protein)\n",
      "\n"
     ]
    },
    {
     "name": "stdout",
     "output_type": "stream",
     "text": [
      "\n"
     ]
    },
    {
     "name": "stderr",
     "output_type": "stream",
     "text": [
      "==============================\n",
      "*** Open Babel Warning  in ReadMolecule\n",
      "  Failed to kekulize aromatic bonds in MOL2 file (title is 2ehq_NAP_1_protein)\n",
      "\n"
     ]
    },
    {
     "name": "stdout",
     "output_type": "stream",
     "text": [
      "\n"
     ]
    },
    {
     "name": "stderr",
     "output_type": "stream",
     "text": [
      "==============================\n",
      "*** Open Babel Warning  in ReadMolecule\n",
      "  Failed to kekulize aromatic bonds in MOL2 file (title is 4dxd_9PC_1_protein)\n",
      "\n"
     ]
    },
    {
     "name": "stdout",
     "output_type": "stream",
     "text": [
      "\n"
     ]
    },
    {
     "name": "stderr",
     "output_type": "stream",
     "text": [
      "==============================\n",
      "*** Open Babel Warning  in ReadMolecule\n",
      "  Failed to kekulize aromatic bonds in MOL2 file (title is 1ytm_ATP_1_protein)\n",
      "\n"
     ]
    },
    {
     "name": "stdout",
     "output_type": "stream",
     "text": [
      "\n"
     ]
    },
    {
     "name": "stderr",
     "output_type": "stream",
     "text": [
      "==============================\n",
      "*** Open Babel Warning  in ReadMolecule\n",
      "  Failed to kekulize aromatic bonds in MOL2 file (title is 5eow_FAD_1_protein)\n",
      "\n"
     ]
    },
    {
     "name": "stdout",
     "output_type": "stream",
     "text": [
      "\n"
     ]
    },
    {
     "name": "stderr",
     "output_type": "stream",
     "text": [
      "==============================\n",
      "*** Open Babel Warning  in ReadMolecule\n",
      "  Failed to kekulize aromatic bonds in MOL2 file (title is 1yf8_P6C_1_protein)\n",
      "\n"
     ]
    },
    {
     "name": "stdout",
     "output_type": "stream",
     "text": [
      "\n"
     ]
    },
    {
     "name": "stderr",
     "output_type": "stream",
     "text": [
      "==============================\n",
      "*** Open Babel Warning  in ReadMolecule\n",
      "  Failed to kekulize aromatic bonds in MOL2 file (title is 1brp_RTL_1_protein)\n",
      "\n"
     ]
    },
    {
     "name": "stdout",
     "output_type": "stream",
     "text": [
      "\n"
     ]
    },
    {
     "name": "stderr",
     "output_type": "stream",
     "text": [
      "==============================\n",
      "*** Open Babel Warning  in ReadMolecule\n",
      "  Failed to kekulize aromatic bonds in MOL2 file (title is 2vt4_P32_2_protein)\n",
      "\n"
     ]
    },
    {
     "name": "stdout",
     "output_type": "stream",
     "text": [
      "\n"
     ]
    },
    {
     "name": "stderr",
     "output_type": "stream",
     "text": [
      "==============================\n",
      "*** Open Babel Warning  in ReadMolecule\n",
      "  Failed to kekulize aromatic bonds in MOL2 file (title is 1je1_GMP_3_protein)\n",
      "\n"
     ]
    },
    {
     "name": "stdout",
     "output_type": "stream",
     "text": [
      "\n"
     ]
    },
    {
     "name": "stderr",
     "output_type": "stream",
     "text": [
      "==============================\n",
      "*** Open Babel Warning  in ReadMolecule\n",
      "  Failed to kekulize aromatic bonds in MOL2 file (title is 4ho4_THM_2_protein)\n",
      "\n"
     ]
    },
    {
     "name": "stdout",
     "output_type": "stream",
     "text": [
      "\n"
     ]
    },
    {
     "name": "stderr",
     "output_type": "stream",
     "text": [
      "==============================\n",
      "*** Open Babel Warning  in ReadMolecule\n",
      "  Failed to kekulize aromatic bonds in MOL2 file (title is 1ib1_COT_1_protein)\n",
      "\n"
     ]
    },
    {
     "name": "stdout",
     "output_type": "stream",
     "text": [
      "\n"
     ]
    },
    {
     "name": "stderr",
     "output_type": "stream",
     "text": [
      "==============================\n",
      "*** Open Babel Warning  in ReadMolecule\n",
      "  This Mol2 file is non-standard. Problem with molecule: 3k9u_ACO_2_protein Cannot interpret atom types correctly, instead attempting to interpret atom type: NI as elements instead.\n",
      "==============================\n",
      "*** Open Babel Warning  in Translate\n",
      "  Cannot perform atom type translation: table cannot find requested types.\n",
      "==============================\n",
      "*** Open Babel Warning  in ReadMolecule\n",
      "  Failed to kekulize aromatic bonds in MOL2 file (title is 3k9u_ACO_2_protein)\n",
      "\n"
     ]
    },
    {
     "name": "stdout",
     "output_type": "stream",
     "text": [
      "\n"
     ]
    },
    {
     "name": "stderr",
     "output_type": "stream",
     "text": [
      "==============================\n",
      "*** Open Babel Warning  in ReadMolecule\n",
      "  Failed to kekulize aromatic bonds in MOL2 file (title is 3kru_FMN_1_protein)\n",
      "\n"
     ]
    },
    {
     "name": "stdout",
     "output_type": "stream",
     "text": [
      "\n"
     ]
    },
    {
     "name": "stderr",
     "output_type": "stream",
     "text": [
      "==============================\n",
      "*** Open Babel Warning  in ReadMolecule\n",
      "  Failed to kekulize aromatic bonds in MOL2 file (title is 1hdg_NAD_2_protein)\n",
      "\n"
     ]
    },
    {
     "name": "stdout",
     "output_type": "stream",
     "text": [
      "\n"
     ]
    },
    {
     "name": "stderr",
     "output_type": "stream",
     "text": [
      "==============================\n",
      "*** Open Babel Warning  in ReadMolecule\n",
      "  Failed to kekulize aromatic bonds in MOL2 file (title is 1ty8_ADP_1_protein)\n",
      "\n"
     ]
    },
    {
     "name": "stdout",
     "output_type": "stream",
     "text": [
      "\n"
     ]
    },
    {
     "name": "stderr",
     "output_type": "stream",
     "text": [
      "==============================\n",
      "*** Open Babel Warning  in ReadMolecule\n",
      "  Failed to kekulize aromatic bonds in MOL2 file (title is 4iv8_SAM_2_protein)\n",
      "\n"
     ]
    },
    {
     "name": "stdout",
     "output_type": "stream",
     "text": [
      "\n"
     ]
    },
    {
     "name": "stderr",
     "output_type": "stream",
     "text": [
      "==============================\n",
      "*** Open Babel Warning  in ReadMolecule\n",
      "  Failed to kekulize aromatic bonds in MOL2 file (title is 3ldo_ANP_1_protein)\n",
      "\n"
     ]
    },
    {
     "name": "stdout",
     "output_type": "stream",
     "text": [
      "\n"
     ]
    },
    {
     "name": "stderr",
     "output_type": "stream",
     "text": [
      "==============================\n",
      "*** Open Babel Warning  in ReadMolecule\n",
      "  Failed to kekulize aromatic bonds in MOL2 file (title is 2wks_CB6_4_protein)\n",
      "\n"
     ]
    },
    {
     "name": "stdout",
     "output_type": "stream",
     "text": [
      "\n"
     ]
    },
    {
     "name": "stderr",
     "output_type": "stream",
     "text": [
      "==============================\n",
      "*** Open Babel Warning  in ReadMolecule\n",
      "  Failed to kekulize aromatic bonds in MOL2 file (title is 4mpn_PV0_1_protein)\n",
      "\n"
     ]
    },
    {
     "name": "stdout",
     "output_type": "stream",
     "text": [
      "\n"
     ]
    },
    {
     "name": "stderr",
     "output_type": "stream",
     "text": [
      "==============================\n",
      "*** Open Babel Warning  in ReadMolecule\n",
      "  Failed to kekulize aromatic bonds in MOL2 file (title is 1dr3_TAP_1_protein)\n",
      "\n"
     ]
    },
    {
     "name": "stdout",
     "output_type": "stream",
     "text": [
      "\n"
     ]
    },
    {
     "name": "stderr",
     "output_type": "stream",
     "text": [
      "==============================\n",
      "*** Open Babel Warning  in ReadMolecule\n",
      "  Failed to kekulize aromatic bonds in MOL2 file (title is 4n3e_2AN_7_protein)\n",
      "\n"
     ]
    },
    {
     "name": "stdout",
     "output_type": "stream",
     "text": [
      "\n"
     ]
    },
    {
     "name": "stderr",
     "output_type": "stream",
     "text": [
      "==============================\n",
      "*** Open Babel Warning  in ReadMolecule\n",
      "  Failed to kekulize aromatic bonds in MOL2 file (title is 1ryi_FAD_3_protein)\n",
      "\n"
     ]
    },
    {
     "name": "stdout",
     "output_type": "stream",
     "text": [
      "\n"
     ]
    },
    {
     "name": "stderr",
     "output_type": "stream",
     "text": [
      "==============================\n",
      "*** Open Babel Warning  in ReadMolecule\n",
      "  Failed to kekulize aromatic bonds in MOL2 file (title is 4wbb_ADP_1_protein)\n",
      "\n"
     ]
    },
    {
     "name": "stdout",
     "output_type": "stream",
     "text": [
      "\n"
     ]
    },
    {
     "name": "stderr",
     "output_type": "stream",
     "text": [
      "==============================\n",
      "*** Open Babel Warning  in ReadMolecule\n",
      "  Failed to kekulize aromatic bonds in MOL2 file (title is 2ght_SER_PRO_THR_PRO_SEP_1_protein)\n",
      "\n"
     ]
    },
    {
     "name": "stdout",
     "output_type": "stream",
     "text": [
      "\n"
     ]
    },
    {
     "name": "stderr",
     "output_type": "stream",
     "text": [
      "==============================\n",
      "*** Open Babel Warning  in ReadMolecule\n",
      "  Failed to kekulize aromatic bonds in MOL2 file (title is 3tfu_PL8_2_protein)\n",
      "\n"
     ]
    },
    {
     "name": "stdout",
     "output_type": "stream",
     "text": [
      "\n"
     ]
    },
    {
     "name": "stderr",
     "output_type": "stream",
     "text": [
      "==============================\n",
      "*** Open Babel Warning  in ReadMolecule\n",
      "  Failed to kekulize aromatic bonds in MOL2 file (title is 3iwk_NAD_6_protein)\n",
      "\n"
     ]
    },
    {
     "name": "stdout",
     "output_type": "stream",
     "text": [
      "\n"
     ]
    },
    {
     "name": "stderr",
     "output_type": "stream",
     "text": [
      "==============================\n",
      "*** Open Babel Warning  in ReadMolecule\n",
      "  Failed to kekulize aromatic bonds in MOL2 file (title is 3o26_NDP_1_protein)\n",
      "\n"
     ]
    },
    {
     "name": "stdout",
     "output_type": "stream",
     "text": [
      "\n"
     ]
    },
    {
     "name": "stderr",
     "output_type": "stream",
     "text": [
      "==============================\n",
      "*** Open Babel Warning  in ReadMolecule\n",
      "  Failed to kekulize aromatic bonds in MOL2 file (title is 3vcy_UD1_4_protein)\n",
      "\n"
     ]
    },
    {
     "name": "stdout",
     "output_type": "stream",
     "text": [
      "\n"
     ]
    },
    {
     "name": "stderr",
     "output_type": "stream",
     "text": [
      "==============================\n",
      "*** Open Babel Warning  in ReadMolecule\n",
      "  Failed to kekulize aromatic bonds in MOL2 file (title is 4zhx_C1V_1_protein)\n",
      "\n"
     ]
    },
    {
     "name": "stdout",
     "output_type": "stream",
     "text": [
      "\n"
     ]
    },
    {
     "name": "stderr",
     "output_type": "stream",
     "text": [
      "==============================\n",
      "*** Open Babel Warning  in ReadMolecule\n",
      "  Failed to kekulize aromatic bonds in MOL2 file (title is 3fkq_ATP_1_protein)\n",
      "\n"
     ]
    },
    {
     "name": "stdout",
     "output_type": "stream",
     "text": [
      "\n"
     ]
    },
    {
     "name": "stderr",
     "output_type": "stream",
     "text": [
      "==============================\n",
      "*** Open Babel Warning  in ReadMolecule\n",
      "  Failed to kekulize aromatic bonds in MOL2 file (title is 3na1_HCD_2_protein)\n",
      "\n"
     ]
    },
    {
     "name": "stdout",
     "output_type": "stream",
     "text": [
      "\n"
     ]
    },
    {
     "name": "stderr",
     "output_type": "stream",
     "text": [
      "==============================\n",
      "*** Open Babel Warning  in ReadMolecule\n",
      "  Failed to kekulize aromatic bonds in MOL2 file (title is 2vyn_NAD_2_protein)\n",
      "\n"
     ]
    },
    {
     "name": "stdout",
     "output_type": "stream",
     "text": [
      "\n"
     ]
    },
    {
     "name": "stderr",
     "output_type": "stream",
     "text": [
      "==============================\n",
      "*** Open Babel Warning  in ReadMolecule\n",
      "  Failed to kekulize aromatic bonds in MOL2 file (title is 4pxn_NAD_1_protein)\n",
      "\n"
     ]
    },
    {
     "name": "stdout",
     "output_type": "stream",
     "text": [
      "\n"
     ]
    },
    {
     "name": "stderr",
     "output_type": "stream",
     "text": [
      "==============================\n",
      "*** Open Babel Warning  in ReadMolecule\n",
      "  Failed to kekulize aromatic bonds in MOL2 file (title is 2npx_NAD_2_protein)\n",
      "\n"
     ]
    },
    {
     "name": "stdout",
     "output_type": "stream",
     "text": [
      "\n"
     ]
    },
    {
     "name": "stderr",
     "output_type": "stream",
     "text": [
      "==============================\n",
      "*** Open Babel Warning  in ReadMolecule\n",
      "  This Mol2 file is non-standard. Problem with molecule: 1lqy_BB2_1_protein Cannot interpret atom types correctly, instead attempting to interpret atom type: NI as elements instead.\n",
      "==============================\n",
      "*** Open Babel Warning  in Translate\n",
      "  Cannot perform atom type translation: table cannot find requested types.\n",
      "==============================\n",
      "*** Open Babel Warning  in ReadMolecule\n",
      "  This Mol2 file is non-standard. Problem with molecule: 1lqy_BB2_1_protein Cannot interpret atom types correctly, instead attempting to interpret atom type: NI as elements instead.\n",
      "==============================\n",
      "*** Open Babel Warning  in Translate\n",
      "  Cannot perform atom type translation: table cannot find requested types.\n",
      "==============================\n",
      "*** Open Babel Warning  in ReadMolecule\n",
      "  Failed to kekulize aromatic bonds in MOL2 file (title is 1lqy_BB2_1_protein)\n",
      "\n"
     ]
    },
    {
     "name": "stdout",
     "output_type": "stream",
     "text": [
      "\n"
     ]
    },
    {
     "name": "stderr",
     "output_type": "stream",
     "text": [
      "==============================\n",
      "*** Open Babel Warning  in ReadMolecule\n",
      "  Failed to kekulize aromatic bonds in MOL2 file (title is 3akd_CDP_1_protein)\n",
      "\n"
     ]
    },
    {
     "name": "stdout",
     "output_type": "stream",
     "text": [
      "\n"
     ]
    },
    {
     "name": "stderr",
     "output_type": "stream",
     "text": [
      "==============================\n",
      "*** Open Babel Warning  in ReadMolecule\n",
      "  Failed to kekulize aromatic bonds in MOL2 file (title is 2dkn_NAI_1_protein)\n",
      "\n"
     ]
    },
    {
     "name": "stdout",
     "output_type": "stream",
     "text": [
      "\n"
     ]
    },
    {
     "name": "stderr",
     "output_type": "stream",
     "text": [
      "==============================\n",
      "*** Open Babel Warning  in ReadMolecule\n",
      "  Failed to kekulize aromatic bonds in MOL2 file (title is 4r2l_ATP_1_protein)\n",
      "\n"
     ]
    },
    {
     "name": "stdout",
     "output_type": "stream",
     "text": [
      "\n"
     ]
    },
    {
     "name": "stderr",
     "output_type": "stream",
     "text": [
      "==============================\n",
      "*** Open Babel Warning  in ReadMolecule\n",
      "  Failed to kekulize aromatic bonds in MOL2 file (title is 1dd6_MCI_2_protein)\n",
      "\n"
     ]
    },
    {
     "name": "stdout",
     "output_type": "stream",
     "text": [
      "\n"
     ]
    },
    {
     "name": "stderr",
     "output_type": "stream",
     "text": [
      "==============================\n",
      "*** Open Babel Warning  in ReadMolecule\n",
      "  Failed to kekulize aromatic bonds in MOL2 file (title is 1zny_GDP_1_protein)\n",
      "\n"
     ]
    },
    {
     "name": "stdout",
     "output_type": "stream",
     "text": [
      "\n"
     ]
    },
    {
     "name": "stderr",
     "output_type": "stream",
     "text": [
      "==============================\n",
      "*** Open Babel Warning  in ReadMolecule\n",
      "  This Mol2 file is non-standard. Problem with molecule: 1sdw_IYT_1_protein Cannot interpret atom types correctly, instead attempting to interpret atom type: NI as elements instead.\n",
      "==============================\n",
      "*** Open Babel Warning  in Translate\n",
      "  Cannot perform atom type translation: table cannot find requested types.\n",
      "==============================\n",
      "*** Open Babel Warning  in ReadMolecule\n",
      "  Failed to kekulize aromatic bonds in MOL2 file (title is 1sdw_IYT_1_protein)\n",
      "\n"
     ]
    },
    {
     "name": "stdout",
     "output_type": "stream",
     "text": [
      "\n"
     ]
    },
    {
     "name": "stderr",
     "output_type": "stream",
     "text": [
      "==============================\n",
      "*** Open Babel Warning  in ReadMolecule\n",
      "  Failed to kekulize aromatic bonds in MOL2 file (title is 2zdg_ADP_2_protein)\n",
      "\n"
     ]
    },
    {
     "name": "stdout",
     "output_type": "stream",
     "text": [
      "\n"
     ]
    },
    {
     "name": "stderr",
     "output_type": "stream",
     "text": [
      "==============================\n",
      "*** Open Babel Warning  in ReadMolecule\n",
      "  Failed to kekulize aromatic bonds in MOL2 file (title is 4o7n_ADP_1_protein)\n",
      "\n"
     ]
    },
    {
     "name": "stdout",
     "output_type": "stream",
     "text": [
      "\n"
     ]
    },
    {
     "name": "stderr",
     "output_type": "stream",
     "text": [
      "==============================\n",
      "*** Open Babel Warning  in ReadMolecule\n",
      "  Failed to kekulize aromatic bonds in MOL2 file (title is 4mo2_FDA_1_protein)\n",
      "\n"
     ]
    },
    {
     "name": "stdout",
     "output_type": "stream",
     "text": [
      "\n"
     ]
    },
    {
     "name": "stderr",
     "output_type": "stream",
     "text": [
      "==============================\n",
      "*** Open Babel Warning  in ReadMolecule\n",
      "  Failed to kekulize aromatic bonds in MOL2 file (title is 1qju_W01_1_protein)\n",
      "\n"
     ]
    },
    {
     "name": "stdout",
     "output_type": "stream",
     "text": [
      "\n"
     ]
    },
    {
     "name": "stderr",
     "output_type": "stream",
     "text": [
      "==============================\n",
      "*** Open Babel Warning  in ReadMolecule\n",
      "  Failed to kekulize aromatic bonds in MOL2 file (title is 1c9k_5GP_2_protein)\n",
      "\n"
     ]
    },
    {
     "name": "stdout",
     "output_type": "stream",
     "text": [
      "\n"
     ]
    },
    {
     "name": "stderr",
     "output_type": "stream",
     "text": [
      "==============================\n",
      "*** Open Babel Warning  in ReadMolecule\n",
      "  Failed to kekulize aromatic bonds in MOL2 file (title is 3ihk_TPP_3_protein)\n",
      "\n"
     ]
    },
    {
     "name": "stdout",
     "output_type": "stream",
     "text": [
      "\n"
     ]
    },
    {
     "name": "stderr",
     "output_type": "stream",
     "text": [
      "==============================\n",
      "*** Open Babel Warning  in ReadMolecule\n",
      "  Failed to kekulize aromatic bonds in MOL2 file (title is 3qvr_FAD_1_protein)\n",
      "\n"
     ]
    },
    {
     "name": "stdout",
     "output_type": "stream",
     "text": [
      "\n"
     ]
    },
    {
     "name": "stderr",
     "output_type": "stream",
     "text": [
      "==============================\n",
      "*** Open Babel Warning  in ReadMolecule\n",
      "  Failed to kekulize aromatic bonds in MOL2 file (title is 3okx_SAM_2_protein)\n",
      "\n"
     ]
    },
    {
     "name": "stdout",
     "output_type": "stream",
     "text": [
      "\n"
     ]
    },
    {
     "name": "stderr",
     "output_type": "stream",
     "text": [
      "==============================\n",
      "*** Open Babel Warning  in ReadMolecule\n",
      "  Failed to kekulize aromatic bonds in MOL2 file (title is 3wqu_ATP_4_protein)\n",
      "\n"
     ]
    },
    {
     "name": "stdout",
     "output_type": "stream",
     "text": [
      "\n"
     ]
    },
    {
     "name": "stderr",
     "output_type": "stream",
     "text": [
      "==============================\n",
      "*** Open Babel Warning  in ReadMolecule\n",
      "  Failed to kekulize aromatic bonds in MOL2 file (title is 4weq_NAP_1_protein)\n",
      "\n"
     ]
    },
    {
     "name": "stdout",
     "output_type": "stream",
     "text": [
      "\n"
     ]
    },
    {
     "name": "stderr",
     "output_type": "stream",
     "text": [
      "==============================\n",
      "*** Open Babel Warning  in ReadMolecule\n",
      "  Failed to kekulize aromatic bonds in MOL2 file (title is 3h8b_NSY_6_protein)\n",
      "\n"
     ]
    },
    {
     "name": "stdout",
     "output_type": "stream",
     "text": [
      "\n"
     ]
    },
    {
     "name": "stderr",
     "output_type": "stream",
     "text": [
      "==============================\n",
      "*** Open Babel Warning  in ReadMolecule\n",
      "  Failed to kekulize aromatic bonds in MOL2 file (title is 2ra6_ETY_1_protein)\n",
      "\n"
     ]
    },
    {
     "name": "stdout",
     "output_type": "stream",
     "text": [
      "\n"
     ]
    },
    {
     "name": "stderr",
     "output_type": "stream",
     "text": [
      "==============================\n",
      "*** Open Babel Warning  in ReadMolecule\n",
      "  Failed to kekulize aromatic bonds in MOL2 file (title is 2vdb_NPS_1_protein)\n",
      "\n"
     ]
    },
    {
     "name": "stdout",
     "output_type": "stream",
     "text": [
      "\n"
     ]
    },
    {
     "name": "stderr",
     "output_type": "stream",
     "text": [
      "==============================\n",
      "*** Open Babel Warning  in ReadMolecule\n",
      "  Failed to kekulize aromatic bonds in MOL2 file (title is 2c0o_L2G_1_protein)\n",
      "\n"
     ]
    },
    {
     "name": "stdout",
     "output_type": "stream",
     "text": [
      "\n"
     ]
    },
    {
     "name": "stderr",
     "output_type": "stream",
     "text": [
      "==============================\n",
      "*** Open Babel Warning  in ReadMolecule\n",
      "  Failed to kekulize aromatic bonds in MOL2 file (title is 3qwb_NDP_4_protein)\n",
      "\n"
     ]
    },
    {
     "name": "stdout",
     "output_type": "stream",
     "text": [
      "\n"
     ]
    },
    {
     "name": "stderr",
     "output_type": "stream",
     "text": [
      "==============================\n",
      "*** Open Babel Warning  in ReadMolecule\n",
      "  Failed to kekulize aromatic bonds in MOL2 file (title is 2ek9_BES_1_protein)\n",
      "\n"
     ]
    },
    {
     "name": "stdout",
     "output_type": "stream",
     "text": [
      "\n"
     ]
    },
    {
     "name": "stderr",
     "output_type": "stream",
     "text": [
      "==============================\n",
      "*** Open Babel Warning  in ReadMolecule\n",
      "  Failed to kekulize aromatic bonds in MOL2 file (title is 4d81_ADP_1_protein)\n",
      "\n"
     ]
    },
    {
     "name": "stdout",
     "output_type": "stream",
     "text": [
      "\n"
     ]
    },
    {
     "name": "stderr",
     "output_type": "stream",
     "text": [
      "==============================\n",
      "*** Open Babel Warning  in ReadMolecule\n",
      "  Failed to kekulize aromatic bonds in MOL2 file (title is 3s8p_SAM_1_protein)\n",
      "\n"
     ]
    },
    {
     "name": "stdout",
     "output_type": "stream",
     "text": [
      "\n"
     ]
    },
    {
     "name": "stderr",
     "output_type": "stream",
     "text": [
      "==============================\n",
      "*** Open Babel Warning  in ReadMolecule\n",
      "  Failed to kekulize aromatic bonds in MOL2 file (title is 3w2f_FAD_1_protein)\n",
      "\n"
     ]
    },
    {
     "name": "stdout",
     "output_type": "stream",
     "text": [
      "\n"
     ]
    },
    {
     "name": "stderr",
     "output_type": "stream",
     "text": [
      "==============================\n",
      "*** Open Babel Warning  in ReadMolecule\n",
      "  Failed to kekulize aromatic bonds in MOL2 file (title is 1krh_FAD_1_protein)\n",
      "\n"
     ]
    },
    {
     "name": "stdout",
     "output_type": "stream",
     "text": [
      "\n"
     ]
    },
    {
     "name": "stderr",
     "output_type": "stream",
     "text": [
      "==============================\n",
      "*** Open Babel Warning  in ReadMolecule\n",
      "  This Mol2 file is non-standard. Problem with molecule: 4x4l_NAI_1_protein Cannot interpret atom types correctly, instead attempting to interpret atom type: YB as elements instead.\n",
      "==============================\n",
      "*** Open Babel Warning  in Translate\n",
      "  Cannot perform atom type translation: table cannot find requested types.\n",
      "==============================\n",
      "*** Open Babel Warning  in ReadMolecule\n",
      "  This Mol2 file is non-standard. Problem with molecule: 4x4l_NAI_1_protein Cannot interpret atom types correctly, instead attempting to interpret atom type: YB as elements instead.\n",
      "==============================\n",
      "*** Open Babel Warning  in Translate\n",
      "  Cannot perform atom type translation: table cannot find requested types.\n",
      "==============================\n",
      "*** Open Babel Warning  in ReadMolecule\n",
      "  Failed to kekulize aromatic bonds in MOL2 file (title is 4x4l_NAI_1_protein)\n",
      "\n"
     ]
    },
    {
     "name": "stdout",
     "output_type": "stream",
     "text": [
      "\n"
     ]
    },
    {
     "name": "stderr",
     "output_type": "stream",
     "text": [
      "==============================\n",
      "*** Open Babel Warning  in ReadMolecule\n",
      "  Failed to kekulize aromatic bonds in MOL2 file (title is 2foi_JPA_1_protein)\n",
      "\n"
     ]
    },
    {
     "name": "stdout",
     "output_type": "stream",
     "text": [
      "\n"
     ]
    },
    {
     "name": "stderr",
     "output_type": "stream",
     "text": [
      "==============================\n",
      "*** Open Babel Warning  in ReadMolecule\n",
      "  Failed to kekulize aromatic bonds in MOL2 file (title is 4qec_NAP_2_protein)\n",
      "\n"
     ]
    },
    {
     "name": "stdout",
     "output_type": "stream",
     "text": [
      "\n"
     ]
    },
    {
     "name": "stderr",
     "output_type": "stream",
     "text": [
      "==============================\n",
      "*** Open Babel Warning  in ReadMolecule\n",
      "  Failed to kekulize aromatic bonds in MOL2 file (title is 4Z9G_LIGPROT_PROTEIN)\n",
      "\n"
     ]
    },
    {
     "name": "stdout",
     "output_type": "stream",
     "text": [
      "\n"
     ]
    },
    {
     "name": "stderr",
     "output_type": "stream",
     "text": [
      "==============================\n",
      "*** Open Babel Warning  in ReadMolecule\n",
      "  Failed to kekulize aromatic bonds in MOL2 file (title is 1c0l_FAD_1_protein)\n",
      "\n"
     ]
    },
    {
     "name": "stdout",
     "output_type": "stream",
     "text": [
      "\n"
     ]
    },
    {
     "name": "stderr",
     "output_type": "stream",
     "text": [
      "==============================\n",
      "*** Open Babel Warning  in ReadMolecule\n",
      "  Failed to kekulize aromatic bonds in MOL2 file (title is 2d81_RB3_1_protein)\n",
      "\n"
     ]
    },
    {
     "name": "stdout",
     "output_type": "stream",
     "text": [
      "\n"
     ]
    },
    {
     "name": "stderr",
     "output_type": "stream",
     "text": [
      "==============================\n",
      "*** Open Babel Warning  in ReadMolecule\n",
      "  Failed to kekulize aromatic bonds in MOL2 file (title is 3h5n_ATP_1_protein)\n",
      "\n"
     ]
    },
    {
     "name": "stdout",
     "output_type": "stream",
     "text": [
      "\n"
     ]
    },
    {
     "name": "stderr",
     "output_type": "stream",
     "text": [
      "==============================\n",
      "*** Open Babel Warning  in ReadMolecule\n",
      "  Failed to kekulize aromatic bonds in MOL2 file (title is 1lld_NAD_2_protein)\n",
      "\n"
     ]
    },
    {
     "name": "stdout",
     "output_type": "stream",
     "text": [
      "\n"
     ]
    },
    {
     "name": "stderr",
     "output_type": "stream",
     "text": [
      "==============================\n",
      "*** Open Babel Warning  in ReadMolecule\n",
      "  Failed to kekulize aromatic bonds in MOL2 file (title is 4iao_APR_1_protein)\n",
      "\n"
     ]
    },
    {
     "name": "stdout",
     "output_type": "stream",
     "text": [
      "\n"
     ]
    },
    {
     "name": "stderr",
     "output_type": "stream",
     "text": [
      "==============================\n",
      "*** Open Babel Warning  in ReadMolecule\n",
      "  Failed to kekulize aromatic bonds in MOL2 file (title is 3gkj_HC3_1_protein)\n",
      "\n"
     ]
    },
    {
     "name": "stdout",
     "output_type": "stream",
     "text": [
      "\n"
     ]
    },
    {
     "name": "stderr",
     "output_type": "stream",
     "text": [
      "==============================\n",
      "*** Open Babel Warning  in ReadMolecule\n",
      "  Failed to kekulize aromatic bonds in MOL2 file (title is 5ca1_NZO_1_protein)\n",
      "\n"
     ]
    },
    {
     "name": "stdout",
     "output_type": "stream",
     "text": [
      "\n"
     ]
    },
    {
     "name": "stderr",
     "output_type": "stream",
     "text": [
      "==============================\n",
      "*** Open Babel Warning  in ReadMolecule\n",
      "  Failed to kekulize aromatic bonds in MOL2 file (title is 2jk6_FAD_2_protein)\n",
      "\n"
     ]
    },
    {
     "name": "stdout",
     "output_type": "stream",
     "text": [
      "\n"
     ]
    },
    {
     "name": "stderr",
     "output_type": "stream",
     "text": [
      "==============================\n",
      "*** Open Babel Warning  in ReadMolecule\n",
      "  Failed to kekulize aromatic bonds in MOL2 file (title is 4na4_A1R_1_protein)\n",
      "\n"
     ]
    },
    {
     "name": "stdout",
     "output_type": "stream",
     "text": [
      "\n"
     ]
    },
    {
     "name": "stderr",
     "output_type": "stream",
     "text": [
      "==============================\n",
      "*** Open Babel Warning  in ReadMolecule\n",
      "  Failed to kekulize aromatic bonds in MOL2 file (title is 1pn3_TYD_1_protein)\n",
      "\n"
     ]
    },
    {
     "name": "stdout",
     "output_type": "stream",
     "text": [
      "\n"
     ]
    },
    {
     "name": "stderr",
     "output_type": "stream",
     "text": [
      "==============================\n",
      "*** Open Babel Warning  in ReadMolecule\n",
      "  Failed to kekulize aromatic bonds in MOL2 file (title is 4nbh_9CA_1_protein)\n",
      "\n"
     ]
    },
    {
     "name": "stdout",
     "output_type": "stream",
     "text": [
      "\n"
     ]
    },
    {
     "name": "stderr",
     "output_type": "stream",
     "text": [
      "==============================\n",
      "*** Open Babel Warning  in ReadMolecule\n",
      "  Failed to kekulize aromatic bonds in MOL2 file (title is 2xje_ATP_2_protein)\n",
      "\n"
     ]
    },
    {
     "name": "stdout",
     "output_type": "stream",
     "text": [
      "\n"
     ]
    },
    {
     "name": "stderr",
     "output_type": "stream",
     "text": [
      "==============================\n",
      "*** Open Babel Warning  in ReadMolecule\n",
      "  Failed to kekulize aromatic bonds in MOL2 file (title is 4xq6_FMN_2_protein)\n",
      "\n"
     ]
    },
    {
     "name": "stdout",
     "output_type": "stream",
     "text": [
      "\n"
     ]
    },
    {
     "name": "stderr",
     "output_type": "stream",
     "text": [
      "==============================\n",
      "*** Open Babel Warning  in ReadMolecule\n",
      "  Failed to kekulize aromatic bonds in MOL2 file (title is 2f17_PYI_2_protein)\n",
      "\n"
     ]
    },
    {
     "name": "stdout",
     "output_type": "stream",
     "text": [
      "\n"
     ]
    },
    {
     "name": "stderr",
     "output_type": "stream",
     "text": [
      "==============================\n",
      "*** Open Babel Warning  in ReadMolecule\n",
      "  Failed to kekulize aromatic bonds in MOL2 file (title is 1knr_FAD_1_protein)\n",
      "\n"
     ]
    },
    {
     "name": "stdout",
     "output_type": "stream",
     "text": [
      "\n"
     ]
    },
    {
     "name": "stderr",
     "output_type": "stream",
     "text": [
      "==============================\n",
      "*** Open Babel Warning  in ReadMolecule\n",
      "  Failed to kekulize aromatic bonds in MOL2 file (title is 2ktd_PUC_1_protein)\n",
      "\n"
     ]
    },
    {
     "name": "stdout",
     "output_type": "stream",
     "text": [
      "\n"
     ]
    },
    {
     "name": "stderr",
     "output_type": "stream",
     "text": [
      "==============================\n",
      "*** Open Babel Warning  in ReadMolecule\n",
      "  Failed to kekulize aromatic bonds in MOL2 file (title is 1dp2_LPB_1_protein)\n",
      "\n"
     ]
    },
    {
     "name": "stdout",
     "output_type": "stream",
     "text": [
      "\n"
     ]
    },
    {
     "name": "stderr",
     "output_type": "stream",
     "text": [
      "==============================\n",
      "*** Open Babel Warning  in ReadMolecule\n",
      "  Failed to kekulize aromatic bonds in MOL2 file (title is 1fp1_HCC_1_protein)\n",
      "\n"
     ]
    },
    {
     "name": "stdout",
     "output_type": "stream",
     "text": [
      "\n"
     ]
    },
    {
     "name": "stderr",
     "output_type": "stream",
     "text": [
      "==============================\n",
      "*** Open Babel Warning  in ReadMolecule\n",
      "  Failed to kekulize aromatic bonds in MOL2 file (title is 2ct8_MSP_2_protein)\n",
      "\n"
     ]
    },
    {
     "name": "stdout",
     "output_type": "stream",
     "text": [
      "\n"
     ]
    },
    {
     "name": "stderr",
     "output_type": "stream",
     "text": [
      "==============================\n",
      "*** Open Babel Warning  in ReadMolecule\n",
      "  Failed to kekulize aromatic bonds in MOL2 file (title is 2jl1_NAP_1_protein)\n",
      "\n"
     ]
    },
    {
     "name": "stdout",
     "output_type": "stream",
     "text": [
      "\n"
     ]
    },
    {
     "name": "stderr",
     "output_type": "stream",
     "text": [
      "==============================\n",
      "*** Open Babel Warning  in ReadMolecule\n",
      "  Failed to kekulize aromatic bonds in MOL2 file (title is 4gus_FAD_1_protein)\n",
      "\n"
     ]
    },
    {
     "name": "stdout",
     "output_type": "stream",
     "text": [
      "\n"
     ]
    },
    {
     "name": "stderr",
     "output_type": "stream",
     "text": [
      "==============================\n",
      "*** Open Babel Warning  in ReadMolecule\n",
      "  Failed to kekulize aromatic bonds in MOL2 file (title is 3uwb_BB2_1_protein)\n",
      "\n"
     ]
    },
    {
     "name": "stdout",
     "output_type": "stream",
     "text": [
      "\n"
     ]
    },
    {
     "name": "stderr",
     "output_type": "stream",
     "text": [
      "==============================\n",
      "*** Open Babel Warning  in ReadMolecule\n",
      "  Failed to kekulize aromatic bonds in MOL2 file (title is 1kev_NDP_4_protein)\n",
      "\n"
     ]
    },
    {
     "name": "stdout",
     "output_type": "stream",
     "text": [
      "\n"
     ]
    },
    {
     "name": "stderr",
     "output_type": "stream",
     "text": [
      "==============================\n",
      "*** Open Babel Warning  in ReadMolecule\n",
      "  Failed to kekulize aromatic bonds in MOL2 file (title is 1tez_HDF_4_protein)\n",
      "\n"
     ]
    },
    {
     "name": "stdout",
     "output_type": "stream",
     "text": [
      "\n"
     ]
    },
    {
     "name": "stderr",
     "output_type": "stream",
     "text": [
      "==============================\n",
      "*** Open Babel Warning  in ReadMolecule\n",
      "  Failed to kekulize aromatic bonds in MOL2 file (title is 4f0r_MTA_1_protein)\n",
      "\n"
     ]
    },
    {
     "name": "stdout",
     "output_type": "stream",
     "text": [
      "\n"
     ]
    },
    {
     "name": "stderr",
     "output_type": "stream",
     "text": [
      "==============================\n",
      "*** Open Babel Warning  in ReadMolecule\n",
      "  Failed to kekulize aromatic bonds in MOL2 file (title is 1zgy_BRL_1_protein)\n",
      "\n"
     ]
    },
    {
     "name": "stdout",
     "output_type": "stream",
     "text": [
      "\n"
     ]
    },
    {
     "name": "stderr",
     "output_type": "stream",
     "text": [
      "==============================\n",
      "*** Open Babel Warning  in ReadMolecule\n",
      "  Failed to kekulize aromatic bonds in MOL2 file (title is 4la3_DQY_1_protein)\n",
      "\n"
     ]
    },
    {
     "name": "stdout",
     "output_type": "stream",
     "text": [
      "\n"
     ]
    },
    {
     "name": "stderr",
     "output_type": "stream",
     "text": [
      "==============================\n",
      "*** Open Babel Warning  in ReadMolecule\n",
      "  Failed to kekulize aromatic bonds in MOL2 file (title is 3vi4_ARG_GLY_ASP_ASN_1_protein)\n",
      "\n"
     ]
    },
    {
     "name": "stdout",
     "output_type": "stream",
     "text": [
      "\n"
     ]
    },
    {
     "name": "stderr",
     "output_type": "stream",
     "text": [
      "==============================\n",
      "*** Open Babel Warning  in ReadMolecule\n",
      "  Failed to kekulize aromatic bonds in MOL2 file (title is 4usu_APC_1_protein)\n",
      "\n"
     ]
    },
    {
     "name": "stdout",
     "output_type": "stream",
     "text": [
      "\n"
     ]
    },
    {
     "name": "stderr",
     "output_type": "stream",
     "text": [
      "==============================\n",
      "*** Open Babel Warning  in ReadMolecule\n",
      "  Failed to kekulize aromatic bonds in MOL2 file (title is 4twl_ASC_2_protein)\n",
      "\n"
     ]
    },
    {
     "name": "stdout",
     "output_type": "stream",
     "text": [
      "\n"
     ]
    },
    {
     "name": "stderr",
     "output_type": "stream",
     "text": [
      "==============================\n",
      "*** Open Babel Warning  in ReadMolecule\n",
      "  Failed to kekulize aromatic bonds in MOL2 file (title is 3e8s_SAH_1_protein)\n",
      "\n"
     ]
    },
    {
     "name": "stdout",
     "output_type": "stream",
     "text": [
      "\n"
     ]
    },
    {
     "name": "stderr",
     "output_type": "stream",
     "text": [
      "==============================\n",
      "*** Open Babel Warning  in ReadMolecule\n",
      "  Failed to kekulize aromatic bonds in MOL2 file (title is 1ah4_NAP_1_protein)\n",
      "\n"
     ]
    },
    {
     "name": "stdout",
     "output_type": "stream",
     "text": [
      "\n"
     ]
    },
    {
     "name": "stderr",
     "output_type": "stream",
     "text": [
      "==============================\n",
      "*** Open Babel Warning  in ReadMolecule\n",
      "  Failed to kekulize aromatic bonds in MOL2 file (title is 3t8x_T8X_1_protein)\n",
      "\n"
     ]
    },
    {
     "name": "stdout",
     "output_type": "stream",
     "text": [
      "\n"
     ]
    },
    {
     "name": "stderr",
     "output_type": "stream",
     "text": [
      "==============================\n",
      "*** Open Babel Warning  in ReadMolecule\n",
      "  Failed to kekulize aromatic bonds in MOL2 file (title is 2uyy_NA7_1_protein)\n",
      "\n"
     ]
    },
    {
     "name": "stdout",
     "output_type": "stream",
     "text": [
      "\n"
     ]
    },
    {
     "name": "stderr",
     "output_type": "stream",
     "text": [
      "==============================\n",
      "*** Open Babel Warning  in ReadMolecule\n",
      "  Failed to kekulize aromatic bonds in MOL2 file (title is 1v5y_4HC_2_protein)\n",
      "\n"
     ]
    },
    {
     "name": "stdout",
     "output_type": "stream",
     "text": [
      "\n"
     ]
    },
    {
     "name": "stderr",
     "output_type": "stream",
     "text": [
      "==============================\n",
      "*** Open Babel Warning  in ReadMolecule\n",
      "  Failed to kekulize aromatic bonds in MOL2 file (title is 2zeb_11M_2_protein)\n",
      "\n"
     ]
    },
    {
     "name": "stdout",
     "output_type": "stream",
     "text": [
      "\n"
     ]
    },
    {
     "name": "stderr",
     "output_type": "stream",
     "text": [
      "==============================\n",
      "*** Open Babel Warning  in ReadMolecule\n",
      "  Failed to kekulize aromatic bonds in MOL2 file (title is 2y74_IMD_1_protein)\n",
      "\n"
     ]
    },
    {
     "name": "stdout",
     "output_type": "stream",
     "text": [
      "\n"
     ]
    },
    {
     "name": "stderr",
     "output_type": "stream",
     "text": [
      "==============================\n",
      "*** Open Babel Warning  in ReadMolecule\n",
      "  Failed to kekulize aromatic bonds in MOL2 file (title is 2onf_COA_1_protein)\n",
      "\n"
     ]
    },
    {
     "name": "stdout",
     "output_type": "stream",
     "text": [
      "\n"
     ]
    },
    {
     "name": "stderr",
     "output_type": "stream",
     "text": [
      "==============================\n",
      "*** Open Babel Warning  in ReadMolecule\n",
      "  Failed to kekulize aromatic bonds in MOL2 file (title is 3a4t_SFG_1_protein)\n",
      "\n"
     ]
    },
    {
     "name": "stdout",
     "output_type": "stream",
     "text": [
      "\n"
     ]
    },
    {
     "name": "stderr",
     "output_type": "stream",
     "text": [
      "==============================\n",
      "*** Open Babel Warning  in ReadMolecule\n",
      "  This Mol2 file is non-standard. Problem with molecule: 2os1_BB2_1_protein Cannot interpret atom types correctly, instead attempting to interpret atom type: NI as elements instead.\n",
      "==============================\n",
      "*** Open Babel Warning  in Translate\n",
      "  Cannot perform atom type translation: table cannot find requested types.\n",
      "==============================\n",
      "*** Open Babel Warning  in ReadMolecule\n",
      "  Failed to kekulize aromatic bonds in MOL2 file (title is 2os1_BB2_1_protein)\n",
      "\n"
     ]
    },
    {
     "name": "stdout",
     "output_type": "stream",
     "text": [
      "\n"
     ]
    },
    {
     "name": "stderr",
     "output_type": "stream",
     "text": [
      "==============================\n",
      "*** Open Babel Warning  in ReadMolecule\n",
      "  Failed to kekulize aromatic bonds in MOL2 file (title is 2hps_CTZ_1_protein)\n",
      "\n"
     ]
    },
    {
     "name": "stdout",
     "output_type": "stream",
     "text": [
      "\n"
     ]
    },
    {
     "name": "stderr",
     "output_type": "stream",
     "text": [
      "==============================\n",
      "*** Open Babel Warning  in ReadMolecule\n",
      "  Failed to kekulize aromatic bonds in MOL2 file (title is 2hq9_FAD_1_protein)\n",
      "\n"
     ]
    },
    {
     "name": "stdout",
     "output_type": "stream",
     "text": [
      "\n"
     ]
    },
    {
     "name": "stderr",
     "output_type": "stream",
     "text": [
      "==============================\n",
      "*** Open Babel Warning  in ReadMolecule\n",
      "  Failed to kekulize aromatic bonds in MOL2 file (title is 1d7l_PHB_2_protein)\n",
      "\n"
     ]
    },
    {
     "name": "stdout",
     "output_type": "stream",
     "text": [
      "\n"
     ]
    },
    {
     "name": "stderr",
     "output_type": "stream",
     "text": [
      "==============================\n",
      "*** Open Babel Warning  in ReadMolecule\n",
      "  Failed to kekulize aromatic bonds in MOL2 file (title is 3bus_SAH_1_protein)\n",
      "\n"
     ]
    },
    {
     "name": "stdout",
     "output_type": "stream",
     "text": [
      "\n"
     ]
    },
    {
     "name": "stderr",
     "output_type": "stream",
     "text": [
      "==============================\n",
      "*** Open Babel Warning  in ReadMolecule\n",
      "  Failed to kekulize aromatic bonds in MOL2 file (title is 3s3t_ATP_8_protein)\n",
      "\n"
     ]
    },
    {
     "name": "stdout",
     "output_type": "stream",
     "text": [
      "\n"
     ]
    },
    {
     "name": "stderr",
     "output_type": "stream",
     "text": [
      "==============================\n",
      "*** Open Babel Warning  in ReadMolecule\n",
      "  Failed to kekulize aromatic bonds in MOL2 file (title is 5i2h_AGI_2_protein)\n",
      "\n"
     ]
    },
    {
     "name": "stdout",
     "output_type": "stream",
     "text": [
      "\n"
     ]
    },
    {
     "name": "stderr",
     "output_type": "stream",
     "text": [
      "==============================\n",
      "*** Open Babel Warning  in ReadMolecule\n",
      "  Failed to kekulize aromatic bonds in MOL2 file (title is 4hcy_0YN_2_protein)\n",
      "\n"
     ]
    },
    {
     "name": "stdout",
     "output_type": "stream",
     "text": [
      "\n"
     ]
    },
    {
     "name": "stderr",
     "output_type": "stream",
     "text": [
      "==============================\n",
      "*** Open Babel Warning  in ReadMolecule\n",
      "  Failed to kekulize aromatic bonds in MOL2 file (title is 3mbg_FAD_1_protein)\n",
      "\n"
     ]
    },
    {
     "name": "stdout",
     "output_type": "stream",
     "text": [
      "\n"
     ]
    },
    {
     "name": "stderr",
     "output_type": "stream",
     "text": [
      "==============================\n",
      "*** Open Babel Warning  in ReadMolecule\n",
      "  Failed to kekulize aromatic bonds in MOL2 file (title is 4cdm_FO1_1_protein)\n",
      "\n"
     ]
    },
    {
     "name": "stdout",
     "output_type": "stream",
     "text": [
      "\n"
     ]
    },
    {
     "name": "stderr",
     "output_type": "stream",
     "text": [
      "==============================\n",
      "*** Open Babel Warning  in ReadMolecule\n",
      "  Failed to kekulize aromatic bonds in MOL2 file (title is 2o8j_SAH_3_protein)\n",
      "\n"
     ]
    },
    {
     "name": "stdout",
     "output_type": "stream",
     "text": [
      "\n"
     ]
    },
    {
     "name": "stderr",
     "output_type": "stream",
     "text": [
      "==============================\n",
      "*** Open Babel Warning  in ReadMolecule\n",
      "  Failed to kekulize aromatic bonds in MOL2 file (title is 1f0x_FAD_2_protein)\n",
      "\n"
     ]
    },
    {
     "name": "stdout",
     "output_type": "stream",
     "text": [
      "\n"
     ]
    },
    {
     "name": "stderr",
     "output_type": "stream",
     "text": [
      "==============================\n",
      "*** Open Babel Warning  in ReadMolecule\n",
      "  Failed to kekulize aromatic bonds in MOL2 file (title is 1cbr_REA_1_protein)\n",
      "\n"
     ]
    },
    {
     "name": "stdout",
     "output_type": "stream",
     "text": [
      "\n"
     ]
    },
    {
     "name": "stderr",
     "output_type": "stream",
     "text": [
      "==============================\n",
      "*** Open Babel Warning  in ReadMolecule\n",
      "  Failed to kekulize aromatic bonds in MOL2 file (title is 3b2e_ADP_3_protein)\n",
      "\n"
     ]
    },
    {
     "name": "stdout",
     "output_type": "stream",
     "text": [
      "\n"
     ]
    },
    {
     "name": "stderr",
     "output_type": "stream",
     "text": [
      "==============================\n",
      "*** Open Babel Warning  in ReadMolecule\n",
      "  Failed to kekulize aromatic bonds in MOL2 file (title is 1t44_ATP_1_protein)\n",
      "\n"
     ]
    },
    {
     "name": "stdout",
     "output_type": "stream",
     "text": [
      "\n"
     ]
    },
    {
     "name": "stderr",
     "output_type": "stream",
     "text": [
      "==============================\n",
      "*** Open Babel Warning  in ReadMolecule\n",
      "  This Mol2 file is non-standard. Problem with molecule: 1g16_GDP_3_protein Cannot interpret atom types correctly, instead attempting to interpret atom type: CO as elements instead.\n",
      "==============================\n",
      "*** Open Babel Warning  in Translate\n",
      "  Cannot perform atom type translation: table cannot find requested types.\n",
      "==============================\n",
      "*** Open Babel Warning  in ReadMolecule\n",
      "  This Mol2 file is non-standard. Problem with molecule: 1g16_GDP_3_protein Cannot interpret atom types correctly, instead attempting to interpret atom type: CO as elements instead.\n",
      "==============================\n",
      "*** Open Babel Warning  in Translate\n",
      "  Cannot perform atom type translation: table cannot find requested types.\n",
      "==============================\n",
      "*** Open Babel Warning  in ReadMolecule\n",
      "  This Mol2 file is non-standard. Problem with molecule: 1g16_GDP_3_protein Cannot interpret atom types correctly, instead attempting to interpret atom type: CO as elements instead.\n",
      "==============================\n",
      "*** Open Babel Warning  in Translate\n",
      "  Cannot perform atom type translation: table cannot find requested types.\n",
      "==============================\n",
      "*** Open Babel Warning  in ReadMolecule\n",
      "  This Mol2 file is non-standard. Problem with molecule: 1g16_GDP_3_protein Cannot interpret atom types correctly, instead attempting to interpret atom type: CO as elements instead.\n",
      "==============================\n",
      "*** Open Babel Warning  in Translate\n",
      "  Cannot perform atom type translation: table cannot find requested types.\n",
      "==============================\n",
      "*** Open Babel Warning  in ReadMolecule\n",
      "  This Mol2 file is non-standard. Problem with molecule: 1g16_GDP_3_protein Cannot interpret atom types correctly, instead attempting to interpret atom type: CO as elements instead.\n",
      "==============================\n",
      "*** Open Babel Warning  in Translate\n",
      "  Cannot perform atom type translation: table cannot find requested types.\n",
      "==============================\n",
      "*** Open Babel Warning  in ReadMolecule\n",
      "  This Mol2 file is non-standard. Problem with molecule: 1g16_GDP_3_protein Cannot interpret atom types correctly, instead attempting to interpret atom type: CO as elements instead.\n",
      "==============================\n",
      "*** Open Babel Warning  in Translate\n",
      "  Cannot perform atom type translation: table cannot find requested types.\n",
      "==============================\n",
      "*** Open Babel Warning  in ReadMolecule\n",
      "  This Mol2 file is non-standard. Problem with molecule: 1g16_GDP_3_protein Cannot interpret atom types correctly, instead attempting to interpret atom type: CO as elements instead.\n",
      "==============================\n",
      "*** Open Babel Warning  in Translate\n",
      "  Cannot perform atom type translation: table cannot find requested types.\n",
      "==============================\n",
      "*** Open Babel Warning  in ReadMolecule\n",
      "  This Mol2 file is non-standard. Problem with molecule: 1g16_GDP_3_protein Cannot interpret atom types correctly, instead attempting to interpret atom type: CO as elements instead.\n",
      "==============================\n",
      "*** Open Babel Warning  in Translate\n",
      "  Cannot perform atom type translation: table cannot find requested types.\n",
      "==============================\n",
      "*** Open Babel Warning  in ReadMolecule\n",
      "  Failed to kekulize aromatic bonds in MOL2 file (title is 1g16_GDP_3_protein)\n",
      "\n"
     ]
    },
    {
     "name": "stdout",
     "output_type": "stream",
     "text": [
      "\n"
     ]
    },
    {
     "name": "stderr",
     "output_type": "stream",
     "text": [
      "==============================\n",
      "*** Open Babel Warning  in ReadMolecule\n",
      "  Failed to kekulize aromatic bonds in MOL2 file (title is 1zp4_FAD_4_protein)\n",
      "\n"
     ]
    },
    {
     "name": "stdout",
     "output_type": "stream",
     "text": [
      "\n"
     ]
    },
    {
     "name": "stderr",
     "output_type": "stream",
     "text": [
      "==============================\n",
      "*** Open Babel Warning  in ReadMolecule\n",
      "  Failed to kekulize aromatic bonds in MOL2 file (title is 1wuu_ANP_2_protein)\n",
      "\n"
     ]
    },
    {
     "name": "stdout",
     "output_type": "stream",
     "text": [
      "\n"
     ]
    },
    {
     "name": "stderr",
     "output_type": "stream",
     "text": [
      "==============================\n",
      "*** Open Babel Warning  in ReadMolecule\n",
      "  Failed to kekulize aromatic bonds in MOL2 file (title is 5kwv_ANP_2_protein)\n",
      "\n"
     ]
    },
    {
     "name": "stdout",
     "output_type": "stream",
     "text": [
      "\n"
     ]
    },
    {
     "name": "stderr",
     "output_type": "stream",
     "text": [
      "==============================\n",
      "*** Open Babel Warning  in ReadMolecule\n",
      "  Failed to kekulize aromatic bonds in MOL2 file (title is 3clx_X22_3_protein)\n",
      "\n"
     ]
    },
    {
     "name": "stdout",
     "output_type": "stream",
     "text": [
      "\n"
     ]
    },
    {
     "name": "stderr",
     "output_type": "stream",
     "text": [
      "==============================\n",
      "*** Open Babel Warning  in ReadMolecule\n",
      "  Failed to kekulize aromatic bonds in MOL2 file (title is 2dkh_3HB_1_protein)\n",
      "\n"
     ]
    },
    {
     "name": "stdout",
     "output_type": "stream",
     "text": [
      "\n"
     ]
    },
    {
     "name": "stderr",
     "output_type": "stream",
     "text": [
      "==============================\n",
      "*** Open Babel Warning  in ReadMolecule\n",
      "  Failed to kekulize aromatic bonds in MOL2 file (title is 3rha_FDA_1_protein)\n",
      "\n"
     ]
    },
    {
     "name": "stdout",
     "output_type": "stream",
     "text": [
      "\n"
     ]
    },
    {
     "name": "stderr",
     "output_type": "stream",
     "text": [
      "==============================\n",
      "*** Open Babel Warning  in ReadMolecule\n",
      "  Failed to kekulize aromatic bonds in MOL2 file (title is 5k8b_PDG_3_protein)\n",
      "\n"
     ]
    },
    {
     "name": "stdout",
     "output_type": "stream",
     "text": [
      "\n"
     ]
    },
    {
     "name": "stderr",
     "output_type": "stream",
     "text": [
      "==============================\n",
      "*** Open Babel Warning  in ReadMolecule\n",
      "  Failed to kekulize aromatic bonds in MOL2 file (title is 1s4e_ADP_9_protein)\n",
      "\n"
     ]
    },
    {
     "name": "stdout",
     "output_type": "stream",
     "text": [
      "\n"
     ]
    },
    {
     "name": "stderr",
     "output_type": "stream",
     "text": [
      "==============================\n",
      "*** Open Babel Warning  in ReadMolecule\n",
      "  Failed to kekulize aromatic bonds in MOL2 file (title is 2o1s_TDP_2_protein)\n",
      "\n"
     ]
    },
    {
     "name": "stdout",
     "output_type": "stream",
     "text": [
      "\n"
     ]
    },
    {
     "name": "stderr",
     "output_type": "stream",
     "text": [
      "==============================\n",
      "*** Open Babel Warning  in ReadMolecule\n",
      "  Failed to kekulize aromatic bonds in MOL2 file (title is 3x0a_5GP_1_protein)\n",
      "\n"
     ]
    },
    {
     "name": "stdout",
     "output_type": "stream",
     "text": [
      "\n"
     ]
    },
    {
     "name": "stderr",
     "output_type": "stream",
     "text": [
      "==============================\n",
      "*** Open Babel Warning  in ReadMolecule\n",
      "  Failed to kekulize aromatic bonds in MOL2 file (title is 2oiq_STI_1_protein)\n",
      "\n"
     ]
    },
    {
     "name": "stdout",
     "output_type": "stream",
     "text": [
      "\n"
     ]
    },
    {
     "name": "stderr",
     "output_type": "stream",
     "text": [
      "==============================\n",
      "*** Open Babel Warning  in ReadMolecule\n",
      "  Failed to kekulize aromatic bonds in MOL2 file (title is 4wq0_EFO_1_protein)\n",
      "\n"
     ]
    },
    {
     "name": "stdout",
     "output_type": "stream",
     "text": [
      "\n"
     ]
    },
    {
     "name": "stderr",
     "output_type": "stream",
     "text": [
      "==============================\n",
      "*** Open Babel Warning  in ReadMolecule\n",
      "  Failed to kekulize aromatic bonds in MOL2 file (title is 4xbj_IN5_2_protein)\n",
      "\n"
     ]
    },
    {
     "name": "stdout",
     "output_type": "stream",
     "text": [
      "\n"
     ]
    },
    {
     "name": "stderr",
     "output_type": "stream",
     "text": [
      "==============================\n",
      "*** Open Babel Warning  in ReadMolecule\n",
      "  Failed to kekulize aromatic bonds in MOL2 file (title is 2qx7_NAP_2_protein)\n",
      "\n"
     ]
    },
    {
     "name": "stdout",
     "output_type": "stream",
     "text": [
      "\n"
     ]
    },
    {
     "name": "stderr",
     "output_type": "stream",
     "text": [
      "==============================\n",
      "*** Open Babel Warning  in ReadMolecule\n",
      "  Failed to kekulize aromatic bonds in MOL2 file (title is 1g6o_ADP_2_protein)\n",
      "\n"
     ]
    },
    {
     "name": "stdout",
     "output_type": "stream",
     "text": [
      "\n"
     ]
    },
    {
     "name": "stderr",
     "output_type": "stream",
     "text": [
      "==============================\n",
      "*** Open Babel Warning  in ReadMolecule\n",
      "  Failed to kekulize aromatic bonds in MOL2 file (title is 1usc_FMN_2_protein)\n",
      "\n"
     ]
    },
    {
     "name": "stdout",
     "output_type": "stream",
     "text": [
      "\n"
     ]
    },
    {
     "name": "stderr",
     "output_type": "stream",
     "text": [
      "==============================\n",
      "*** Open Babel Warning  in ReadMolecule\n",
      "  Failed to kekulize aromatic bonds in MOL2 file (title is 4ubv_COA_1_protein)\n",
      "\n"
     ]
    },
    {
     "name": "stdout",
     "output_type": "stream",
     "text": [
      "\n"
     ]
    },
    {
     "name": "stderr",
     "output_type": "stream",
     "text": [
      "==============================\n",
      "*** Open Babel Warning  in ReadMolecule\n",
      "  Failed to kekulize aromatic bonds in MOL2 file (title is 4gt8_ADP_1_protein)\n",
      "\n"
     ]
    },
    {
     "name": "stdout",
     "output_type": "stream",
     "text": [
      "\n"
     ]
    },
    {
     "name": "stderr",
     "output_type": "stream",
     "text": [
      "==============================\n",
      "*** Open Babel Warning  in ReadMolecule\n",
      "  Failed to kekulize aromatic bonds in MOL2 file (title is 4k6f_NAP_3_protein)\n",
      "\n"
     ]
    },
    {
     "name": "stdout",
     "output_type": "stream",
     "text": [
      "\n"
     ]
    },
    {
     "name": "stderr",
     "output_type": "stream",
     "text": [
      "==============================\n",
      "*** Open Babel Warning  in ReadMolecule\n",
      "  Failed to kekulize aromatic bonds in MOL2 file (title is 3ag6_PAJ_1_protein)\n",
      "\n"
     ]
    },
    {
     "name": "stdout",
     "output_type": "stream",
     "text": [
      "\n"
     ]
    },
    {
     "name": "stderr",
     "output_type": "stream",
     "text": [
      "==============================\n",
      "*** Open Babel Warning  in ReadMolecule\n",
      "  Failed to kekulize aromatic bonds in MOL2 file (title is 3hz6_ADP_1_protein)\n",
      "\n"
     ]
    },
    {
     "name": "stdout",
     "output_type": "stream",
     "text": [
      "\n"
     ]
    },
    {
     "name": "stderr",
     "output_type": "stream",
     "text": [
      "==============================\n",
      "*** Open Babel Warning  in ReadMolecule\n",
      "  Failed to kekulize aromatic bonds in MOL2 file (title is 4dyd_NAD_1_protein)\n",
      "\n"
     ]
    },
    {
     "name": "stdout",
     "output_type": "stream",
     "text": [
      "\n"
     ]
    },
    {
     "name": "stderr",
     "output_type": "stream",
     "text": [
      "==============================\n",
      "*** Open Babel Warning  in ReadMolecule\n",
      "  Failed to kekulize aromatic bonds in MOL2 file (title is 5eg3_ACP_1_protein)\n",
      "\n"
     ]
    },
    {
     "name": "stdout",
     "output_type": "stream",
     "text": [
      "\n"
     ]
    },
    {
     "name": "stderr",
     "output_type": "stream",
     "text": [
      "==============================\n",
      "*** Open Babel Warning  in ReadMolecule\n",
      "  Failed to kekulize aromatic bonds in MOL2 file (title is 3cx4_ADP_1_protein)\n",
      "\n"
     ]
    },
    {
     "name": "stdout",
     "output_type": "stream",
     "text": [
      "\n"
     ]
    },
    {
     "name": "stderr",
     "output_type": "stream",
     "text": [
      "==============================\n",
      "*** Open Babel Warning  in ReadMolecule\n",
      "  This Mol2 file is non-standard. Problem with molecule: 2kt4_EB4_1_protein Cannot interpret atom types correctly, instead attempting to interpret atom type: GA as elements instead.\n",
      "==============================\n",
      "*** Open Babel Warning  in Translate\n",
      "  Cannot perform atom type translation: table cannot find requested types.\n",
      "==============================\n",
      "*** Open Babel Warning  in ReadMolecule\n",
      "  Failed to kekulize aromatic bonds in MOL2 file (title is 2kt4_EB4_1_protein)\n",
      "\n"
     ]
    },
    {
     "name": "stdout",
     "output_type": "stream",
     "text": [
      "\n"
     ]
    },
    {
     "name": "stderr",
     "output_type": "stream",
     "text": [
      "==============================\n",
      "*** Open Babel Warning  in ReadMolecule\n",
      "  Failed to kekulize aromatic bonds in MOL2 file (title is 4dm8_REA_2_protein)\n",
      "\n"
     ]
    },
    {
     "name": "stdout",
     "output_type": "stream",
     "text": [
      "\n"
     ]
    },
    {
     "name": "stderr",
     "output_type": "stream",
     "text": [
      "==============================\n",
      "*** Open Babel Warning  in ReadMolecule\n",
      "  Failed to kekulize aromatic bonds in MOL2 file (title is 3ork_AGS_1_protein)\n",
      "\n"
     ]
    },
    {
     "name": "stdout",
     "output_type": "stream",
     "text": [
      "\n"
     ]
    },
    {
     "name": "stderr",
     "output_type": "stream",
     "text": [
      "==============================\n",
      "*** Open Babel Warning  in ReadMolecule\n",
      "  Failed to kekulize aromatic bonds in MOL2 file (title is 4cjx_9L9_2_protein)\n",
      "\n"
     ]
    },
    {
     "name": "stdout",
     "output_type": "stream",
     "text": [
      "\n"
     ]
    },
    {
     "name": "stderr",
     "output_type": "stream",
     "text": [
      "==============================\n",
      "*** Open Babel Warning  in ReadMolecule\n",
      "  Failed to kekulize aromatic bonds in MOL2 file (title is 3edj_BCD_2_protein)\n",
      "\n"
     ]
    },
    {
     "name": "stdout",
     "output_type": "stream",
     "text": [
      "\n"
     ]
    },
    {
     "name": "stderr",
     "output_type": "stream",
     "text": [
      "==============================\n",
      "*** Open Babel Warning  in ReadMolecule\n",
      "  This Mol2 file is non-standard. Problem with molecule: 2xiq_5AD_1_protein Cannot interpret atom types correctly, instead attempting to interpret atom type: CO as elements instead.\n",
      "==============================\n",
      "*** Open Babel Warning  in Translate\n",
      "  Cannot perform atom type translation: table cannot find requested types.\n",
      "==============================\n",
      "*** Open Babel Warning  in ReadMolecule\n",
      "  This Mol2 file is non-standard. Problem with molecule: 2xiq_5AD_1_protein Cannot interpret atom types correctly, instead attempting to interpret atom type: CO as elements instead.\n",
      "==============================\n",
      "*** Open Babel Warning  in Translate\n",
      "  Cannot perform atom type translation: table cannot find requested types.\n",
      "==============================\n",
      "*** Open Babel Warning  in ReadMolecule\n",
      "  Failed to kekulize aromatic bonds in MOL2 file (title is 2xiq_5AD_1_protein)\n",
      "\n"
     ]
    },
    {
     "name": "stdout",
     "output_type": "stream",
     "text": [
      "\n"
     ]
    },
    {
     "name": "stderr",
     "output_type": "stream",
     "text": [
      "==============================\n",
      "*** Open Babel Warning  in ReadMolecule\n",
      "  Failed to kekulize aromatic bonds in MOL2 file (title is 3wec_AUI_1_protein)\n",
      "\n"
     ]
    },
    {
     "name": "stdout",
     "output_type": "stream",
     "text": [
      "\n"
     ]
    },
    {
     "name": "stderr",
     "output_type": "stream",
     "text": [
      "==============================\n",
      "*** Open Babel Warning  in ReadMolecule\n",
      "  Failed to kekulize aromatic bonds in MOL2 file (title is 2z9d_FMN_1_protein)\n",
      "\n"
     ]
    },
    {
     "name": "stdout",
     "output_type": "stream",
     "text": [
      "\n"
     ]
    },
    {
     "name": "stderr",
     "output_type": "stream",
     "text": [
      "==============================\n",
      "*** Open Babel Warning  in ReadMolecule\n",
      "  Failed to kekulize aromatic bonds in MOL2 file (title is 1edo_NAP_1_protein)\n",
      "\n"
     ]
    },
    {
     "name": "stdout",
     "output_type": "stream",
     "text": [
      "\n"
     ]
    },
    {
     "name": "stderr",
     "output_type": "stream",
     "text": [
      "==============================\n",
      "*** Open Babel Warning  in ReadMolecule\n",
      "  Failed to kekulize aromatic bonds in MOL2 file (title is 4yhj_AN2_2_protein)\n",
      "\n"
     ]
    },
    {
     "name": "stdout",
     "output_type": "stream",
     "text": [
      "\n"
     ]
    },
    {
     "name": "stderr",
     "output_type": "stream",
     "text": [
      "==============================\n",
      "*** Open Babel Warning  in ReadMolecule\n",
      "  Failed to kekulize aromatic bonds in MOL2 file (title is 3gcm_5GP_2_protein)\n",
      "\n"
     ]
    },
    {
     "name": "stdout",
     "output_type": "stream",
     "text": [
      "\n"
     ]
    },
    {
     "name": "stderr",
     "output_type": "stream",
     "text": [
      "==============================\n",
      "*** Open Babel Warning  in ReadMolecule\n",
      "  Failed to kekulize aromatic bonds in MOL2 file (title is 2zb3_NDP_1_protein)\n",
      "\n"
     ]
    },
    {
     "name": "stdout",
     "output_type": "stream",
     "text": [
      "\n"
     ]
    },
    {
     "name": "stderr",
     "output_type": "stream",
     "text": [
      "==============================\n",
      "*** Open Babel Warning  in ReadMolecule\n",
      "  Failed to kekulize aromatic bonds in MOL2 file (title is 1wg8_SAM_1_protein)\n",
      "\n"
     ]
    },
    {
     "name": "stdout",
     "output_type": "stream",
     "text": [
      "\n"
     ]
    },
    {
     "name": "stderr",
     "output_type": "stream",
     "text": [
      "==============================\n",
      "*** Open Babel Warning  in ReadMolecule\n",
      "  Failed to kekulize aromatic bonds in MOL2 file (title is 2bfq_AR6_1_protein)\n",
      "\n"
     ]
    },
    {
     "name": "stdout",
     "output_type": "stream",
     "text": [
      "\n"
     ]
    },
    {
     "name": "stderr",
     "output_type": "stream",
     "text": [
      "==============================\n",
      "*** Open Babel Warning  in ReadMolecule\n",
      "  Failed to kekulize aromatic bonds in MOL2 file (title is 4uak_ADP_1_protein)\n",
      "\n"
     ]
    },
    {
     "name": "stdout",
     "output_type": "stream",
     "text": [
      "\n"
     ]
    },
    {
     "name": "stderr",
     "output_type": "stream",
     "text": [
      "==============================\n",
      "*** Open Babel Warning  in ReadMolecule\n",
      "  This Mol2 file is non-standard. Problem with molecule: 2oi6_UD1_2_protein Cannot interpret atom types correctly, instead attempting to interpret atom type: CO as elements instead.\n",
      "==============================\n",
      "*** Open Babel Warning  in Translate\n",
      "  Cannot perform atom type translation: table cannot find requested types.\n",
      "==============================\n",
      "*** Open Babel Warning  in ReadMolecule\n",
      "  This Mol2 file is non-standard. Problem with molecule: 2oi6_UD1_2_protein Cannot interpret atom types correctly, instead attempting to interpret atom type: CO as elements instead.\n",
      "==============================\n",
      "*** Open Babel Warning  in Translate\n",
      "  Cannot perform atom type translation: table cannot find requested types.\n",
      "==============================\n",
      "*** Open Babel Warning  in ReadMolecule\n",
      "  Failed to kekulize aromatic bonds in MOL2 file (title is 2oi6_UD1_2_protein)\n",
      "\n"
     ]
    },
    {
     "name": "stdout",
     "output_type": "stream",
     "text": [
      "\n"
     ]
    },
    {
     "name": "stderr",
     "output_type": "stream",
     "text": [
      "==============================\n",
      "*** Open Babel Warning  in ReadMolecule\n",
      "  Failed to kekulize aromatic bonds in MOL2 file (title is 4h0n_SAH_3_protein)\n",
      "\n"
     ]
    },
    {
     "name": "stdout",
     "output_type": "stream",
     "text": [
      "\n"
     ]
    },
    {
     "name": "stderr",
     "output_type": "stream",
     "text": [
      "==============================\n",
      "*** Open Babel Warning  in ReadMolecule\n",
      "  Failed to kekulize aromatic bonds in MOL2 file (title is 4d7e_FAD_2_protein)\n",
      "\n"
     ]
    },
    {
     "name": "stdout",
     "output_type": "stream",
     "text": [
      "\n"
     ]
    },
    {
     "name": "stderr",
     "output_type": "stream",
     "text": [
      "==============================\n",
      "*** Open Babel Warning  in ReadMolecule\n",
      "  Failed to kekulize aromatic bonds in MOL2 file (title is 3w3d_ATP_1_protein)\n",
      "\n"
     ]
    },
    {
     "name": "stdout",
     "output_type": "stream",
     "text": [
      "\n"
     ]
    },
    {
     "name": "stderr",
     "output_type": "stream",
     "text": [
      "==============================\n",
      "*** Open Babel Warning  in ReadMolecule\n",
      "  Failed to kekulize aromatic bonds in MOL2 file (title is 3ijr_NAD_7_protein)\n",
      "\n"
     ]
    },
    {
     "name": "stdout",
     "output_type": "stream",
     "text": [
      "\n"
     ]
    },
    {
     "name": "stderr",
     "output_type": "stream",
     "text": [
      "==============================\n",
      "*** Open Babel Warning  in ReadMolecule\n",
      "  Failed to kekulize aromatic bonds in MOL2 file (title is 1yki_FMN_4_protein)\n",
      "\n"
     ]
    },
    {
     "name": "stdout",
     "output_type": "stream",
     "text": [
      "\n"
     ]
    },
    {
     "name": "stderr",
     "output_type": "stream",
     "text": [
      "==============================\n",
      "*** Open Babel Warning  in ReadMolecule\n",
      "  Failed to kekulize aromatic bonds in MOL2 file (title is 1c9w_NAP_1_protein)\n",
      "\n"
     ]
    },
    {
     "name": "stdout",
     "output_type": "stream",
     "text": [
      "\n"
     ]
    },
    {
     "name": "stderr",
     "output_type": "stream",
     "text": [
      "==============================\n",
      "*** Open Babel Warning  in ReadMolecule\n",
      "  Failed to kekulize aromatic bonds in MOL2 file (title is 4gah_0ET_1_protein)\n",
      "\n"
     ]
    },
    {
     "name": "stdout",
     "output_type": "stream",
     "text": [
      "\n"
     ]
    },
    {
     "name": "stderr",
     "output_type": "stream",
     "text": [
      "==============================\n",
      "*** Open Babel Warning  in ReadMolecule\n",
      "  Failed to kekulize aromatic bonds in MOL2 file (title is 4eyw_L0R_1_protein)\n",
      "\n"
     ]
    },
    {
     "name": "stdout",
     "output_type": "stream",
     "text": [
      "\n"
     ]
    },
    {
     "name": "stderr",
     "output_type": "stream",
     "text": [
      "==============================\n",
      "*** Open Babel Warning  in ReadMolecule\n",
      "  Failed to kekulize aromatic bonds in MOL2 file (title is 3s3r_0IW_2_protein)\n",
      "\n"
     ]
    },
    {
     "name": "stdout",
     "output_type": "stream",
     "text": [
      "\n"
     ]
    },
    {
     "name": "stderr",
     "output_type": "stream",
     "text": [
      "==============================\n",
      "*** Open Babel Warning  in ReadMolecule\n",
      "  Failed to kekulize aromatic bonds in MOL2 file (title is 3a4o_STU_1_protein)\n",
      "\n"
     ]
    },
    {
     "name": "stdout",
     "output_type": "stream",
     "text": [
      "\n"
     ]
    },
    {
     "name": "stderr",
     "output_type": "stream",
     "text": [
      "==============================\n",
      "*** Open Babel Warning  in ReadMolecule\n",
      "  Failed to kekulize aromatic bonds in MOL2 file (title is 3h2s_NDP_2_protein)\n",
      "\n"
     ]
    },
    {
     "name": "stdout",
     "output_type": "stream",
     "text": [
      "\n"
     ]
    },
    {
     "name": "stderr",
     "output_type": "stream",
     "text": [
      "==============================\n",
      "*** Open Babel Warning  in ReadMolecule\n",
      "  Failed to kekulize aromatic bonds in MOL2 file (title is 1yhn_GTP_1_protein)\n",
      "\n"
     ]
    },
    {
     "name": "stdout",
     "output_type": "stream",
     "text": [
      "\n"
     ]
    },
    {
     "name": "stderr",
     "output_type": "stream",
     "text": [
      "==============================\n",
      "*** Open Babel Warning  in ReadMolecule\n",
      "  Failed to kekulize aromatic bonds in MOL2 file (title is 1bjq_ADE_6_protein)\n",
      "\n"
     ]
    },
    {
     "name": "stdout",
     "output_type": "stream",
     "text": [
      "\n"
     ]
    },
    {
     "name": "stderr",
     "output_type": "stream",
     "text": [
      "==============================\n",
      "*** Open Babel Warning  in ReadMolecule\n",
      "  Failed to kekulize aromatic bonds in MOL2 file (title is 3nmv_PYV_1_protein)\n",
      "\n"
     ]
    },
    {
     "name": "stdout",
     "output_type": "stream",
     "text": [
      "\n"
     ]
    },
    {
     "name": "stderr",
     "output_type": "stream",
     "text": [
      "==============================\n",
      "*** Open Babel Warning  in ReadMolecule\n",
      "  Failed to kekulize aromatic bonds in MOL2 file (title is 3ihz_FK5_1_protein)\n",
      "\n"
     ]
    },
    {
     "name": "stdout",
     "output_type": "stream",
     "text": [
      "\n"
     ]
    },
    {
     "name": "stderr",
     "output_type": "stream",
     "text": [
      "==============================\n",
      "*** Open Babel Warning  in ReadMolecule\n",
      "  Failed to kekulize aromatic bonds in MOL2 file (title is 5b1y_NDP_1_protein)\n",
      "\n"
     ]
    },
    {
     "name": "stdout",
     "output_type": "stream",
     "text": [
      "\n"
     ]
    },
    {
     "name": "stderr",
     "output_type": "stream",
     "text": [
      "==============================\n",
      "*** Open Babel Warning  in ReadMolecule\n",
      "  Failed to kekulize aromatic bonds in MOL2 file (title is 1yf3_SAH_1_protein)\n",
      "\n"
     ]
    },
    {
     "name": "stdout",
     "output_type": "stream",
     "text": [
      "\n"
     ]
    },
    {
     "name": "stderr",
     "output_type": "stream",
     "text": [
      "==============================\n",
      "*** Open Babel Warning  in ReadMolecule\n",
      "  Failed to kekulize aromatic bonds in MOL2 file (title is 4c02_TAK_1_protein)\n",
      "\n"
     ]
    },
    {
     "name": "stdout",
     "output_type": "stream",
     "text": [
      "\n"
     ]
    },
    {
     "name": "stderr",
     "output_type": "stream",
     "text": [
      "==============================\n",
      "*** Open Babel Warning  in ReadMolecule\n",
      "  Failed to kekulize aromatic bonds in MOL2 file (title is 1yqd_NAP_1_protein)\n",
      "\n"
     ]
    },
    {
     "name": "stdout",
     "output_type": "stream",
     "text": [
      "\n"
     ]
    },
    {
     "name": "stderr",
     "output_type": "stream",
     "text": [
      "==============================\n",
      "*** Open Babel Warning  in ReadMolecule\n",
      "  Failed to kekulize aromatic bonds in MOL2 file (title is 1pzo_CBT_2_protein)\n",
      "\n"
     ]
    },
    {
     "name": "stdout",
     "output_type": "stream",
     "text": [
      "\n"
     ]
    },
    {
     "name": "stderr",
     "output_type": "stream",
     "text": [
      "==============================\n",
      "*** Open Babel Warning  in ReadMolecule\n",
      "  Failed to kekulize aromatic bonds in MOL2 file (title is 5ewj_QEL_1_protein)\n",
      "\n"
     ]
    },
    {
     "name": "stdout",
     "output_type": "stream",
     "text": [
      "\n"
     ]
    },
    {
     "name": "stderr",
     "output_type": "stream",
     "text": [
      "==============================\n",
      "*** Open Babel Warning  in ReadMolecule\n",
      "  Failed to kekulize aromatic bonds in MOL2 file (title is 5e9e_ANP_2_protein)\n",
      "\n"
     ]
    },
    {
     "name": "stdout",
     "output_type": "stream",
     "text": [
      "\n"
     ]
    },
    {
     "name": "stderr",
     "output_type": "stream",
     "text": [
      "==============================\n",
      "*** Open Babel Warning  in ReadMolecule\n",
      "  Failed to kekulize aromatic bonds in MOL2 file (title is 3pwg_GLR_2_protein)\n",
      "\n"
     ]
    },
    {
     "name": "stdout",
     "output_type": "stream",
     "text": [
      "\n"
     ]
    },
    {
     "name": "stderr",
     "output_type": "stream",
     "text": [
      "==============================\n",
      "*** Open Babel Warning  in ReadMolecule\n",
      "  Failed to kekulize aromatic bonds in MOL2 file (title is 1zgd_NAP_1_protein)\n",
      "\n"
     ]
    },
    {
     "name": "stdout",
     "output_type": "stream",
     "text": [
      "\n"
     ]
    },
    {
     "name": "stderr",
     "output_type": "stream",
     "text": [
      "==============================\n",
      "*** Open Babel Warning  in ReadMolecule\n",
      "  Failed to kekulize aromatic bonds in MOL2 file (title is 2cts_COA_1_protein)\n",
      "\n"
     ]
    },
    {
     "name": "stdout",
     "output_type": "stream",
     "text": [
      "\n"
     ]
    },
    {
     "name": "stderr",
     "output_type": "stream",
     "text": [
      "==============================\n",
      "*** Open Babel Warning  in ReadMolecule\n",
      "  Failed to kekulize aromatic bonds in MOL2 file (title is 2vhw_NAI_5_protein)\n",
      "\n"
     ]
    },
    {
     "name": "stdout",
     "output_type": "stream",
     "text": [
      "\n"
     ]
    },
    {
     "name": "stderr",
     "output_type": "stream",
     "text": [
      "==============================\n",
      "*** Open Babel Warning  in ReadMolecule\n",
      "  Failed to kekulize aromatic bonds in MOL2 file (title is 2cwf_NDP_1_protein)\n",
      "\n"
     ]
    },
    {
     "name": "stdout",
     "output_type": "stream",
     "text": [
      "\n"
     ]
    },
    {
     "name": "stderr",
     "output_type": "stream",
     "text": [
      "==============================\n",
      "*** Open Babel Warning  in ReadMolecule\n",
      "  Failed to kekulize aromatic bonds in MOL2 file (title is 1wnb_BTL_1_protein)\n",
      "\n"
     ]
    },
    {
     "name": "stdout",
     "output_type": "stream",
     "text": [
      "\n"
     ]
    },
    {
     "name": "stderr",
     "output_type": "stream",
     "text": [
      "==============================\n",
      "*** Open Babel Warning  in ReadMolecule\n",
      "  Failed to kekulize aromatic bonds in MOL2 file (title is 4npt_017_1_protein)\n",
      "\n"
     ]
    },
    {
     "name": "stdout",
     "output_type": "stream",
     "text": [
      "\n"
     ]
    },
    {
     "name": "stderr",
     "output_type": "stream",
     "text": [
      "==============================\n",
      "*** Open Babel Warning  in ReadMolecule\n",
      "  Failed to kekulize aromatic bonds in MOL2 file (title is 1f0y_NAD_2_protein)\n",
      "\n"
     ]
    },
    {
     "name": "stdout",
     "output_type": "stream",
     "text": [
      "\n"
     ]
    },
    {
     "name": "stderr",
     "output_type": "stream",
     "text": [
      "==============================\n",
      "*** Open Babel Warning  in ReadMolecule\n",
      "  Failed to kekulize aromatic bonds in MOL2 file (title is 2yy8_SAM_2_protein)\n",
      "\n"
     ]
    },
    {
     "name": "stdout",
     "output_type": "stream",
     "text": [
      "\n"
     ]
    },
    {
     "name": "stderr",
     "output_type": "stream",
     "text": [
      "==============================\n",
      "*** Open Babel Warning  in ReadMolecule\n",
      "  Failed to kekulize aromatic bonds in MOL2 file (title is 1kr2_TAD_5_protein)\n",
      "\n"
     ]
    },
    {
     "name": "stdout",
     "output_type": "stream",
     "text": [
      "\n"
     ]
    },
    {
     "name": "stderr",
     "output_type": "stream",
     "text": [
      "==============================\n",
      "*** Open Babel Warning  in ReadMolecule\n",
      "  Failed to kekulize aromatic bonds in MOL2 file (title is 2dc1_NAD_2_protein)\n",
      "\n"
     ]
    },
    {
     "name": "stdout",
     "output_type": "stream",
     "text": [
      "\n"
     ]
    },
    {
     "name": "stderr",
     "output_type": "stream",
     "text": [
      "==============================\n",
      "*** Open Babel Warning  in ReadMolecule\n",
      "  Failed to kekulize aromatic bonds in MOL2 file (title is 3zw9_T1G_1_protein)\n",
      "\n"
     ]
    },
    {
     "name": "stdout",
     "output_type": "stream",
     "text": [
      "\n"
     ]
    },
    {
     "name": "stderr",
     "output_type": "stream",
     "text": [
      "==============================\n",
      "*** Open Babel Warning  in ReadMolecule\n",
      "  Failed to kekulize aromatic bonds in MOL2 file (title is 3f0f_C5P_1_protein)\n",
      "\n"
     ]
    },
    {
     "name": "stdout",
     "output_type": "stream",
     "text": [
      "\n"
     ]
    },
    {
     "name": "stderr",
     "output_type": "stream",
     "text": [
      "==============================\n",
      "*** Open Babel Warning  in ReadMolecule\n",
      "  Failed to kekulize aromatic bonds in MOL2 file (title is 3fr8_NDP_1_protein)\n",
      "\n"
     ]
    },
    {
     "name": "stdout",
     "output_type": "stream",
     "text": [
      "\n"
     ]
    },
    {
     "name": "stderr",
     "output_type": "stream",
     "text": [
      "==============================\n",
      "*** Open Babel Warning  in ReadMolecule\n",
      "  Failed to kekulize aromatic bonds in MOL2 file (title is 3zmd_SAL_1_protein)\n",
      "\n"
     ]
    },
    {
     "name": "stdout",
     "output_type": "stream",
     "text": [
      "\n",
      "\n"
     ]
    },
    {
     "name": "stderr",
     "output_type": "stream",
     "text": [
      "==============================\n",
      "*** Open Babel Warning  in ReadMolecule\n",
      "  Failed to kekulize aromatic bonds in MOL2 file (title is 1shj_NXN_1_protein)\n",
      "\n"
     ]
    },
    {
     "name": "stdout",
     "output_type": "stream",
     "text": [
      "\n"
     ]
    },
    {
     "name": "stderr",
     "output_type": "stream",
     "text": [
      "==============================\n",
      "*** Open Babel Warning  in ReadMolecule\n",
      "  Failed to kekulize aromatic bonds in MOL2 file (title is 3b8x_G4M_1_protein)\n",
      "\n"
     ]
    },
    {
     "name": "stdout",
     "output_type": "stream",
     "text": [
      "\n"
     ]
    },
    {
     "name": "stderr",
     "output_type": "stream",
     "text": [
      "==============================\n",
      "*** Open Babel Warning  in ReadMolecule\n",
      "  Failed to kekulize aromatic bonds in MOL2 file (title is 4cb4_MGT_1_protein)\n",
      "\n"
     ]
    },
    {
     "name": "stdout",
     "output_type": "stream",
     "text": [
      "\n"
     ]
    },
    {
     "name": "stderr",
     "output_type": "stream",
     "text": [
      "==============================\n",
      "*** Open Babel Warning  in ReadMolecule\n",
      "  Failed to kekulize aromatic bonds in MOL2 file (title is 3i1l_SIO_1_protein)\n",
      "\n"
     ]
    },
    {
     "name": "stdout",
     "output_type": "stream",
     "text": [
      "\n"
     ]
    },
    {
     "name": "stderr",
     "output_type": "stream",
     "text": [
      "==============================\n",
      "*** Open Babel Warning  in ReadMolecule\n",
      "  Failed to kekulize aromatic bonds in MOL2 file (title is 4ol0_GTP_1_protein)\n",
      "\n"
     ]
    },
    {
     "name": "stdout",
     "output_type": "stream",
     "text": [
      "\n"
     ]
    },
    {
     "name": "stderr",
     "output_type": "stream",
     "text": [
      "==============================\n",
      "*** Open Babel Warning  in ReadMolecule\n",
      "  Failed to kekulize aromatic bonds in MOL2 file (title is 3lcm_FAD_1_protein)\n",
      "\n"
     ]
    },
    {
     "name": "stdout",
     "output_type": "stream",
     "text": [
      "\n"
     ]
    },
    {
     "name": "stderr",
     "output_type": "stream",
     "text": [
      "==============================\n",
      "*** Open Babel Warning  in ReadMolecule\n",
      "  Failed to kekulize aromatic bonds in MOL2 file (title is 3etd_NDP_15_protein)\n",
      "\n"
     ]
    },
    {
     "name": "stdout",
     "output_type": "stream",
     "text": [
      "\n"
     ]
    },
    {
     "name": "stderr",
     "output_type": "stream",
     "text": [
      "==============================\n",
      "*** Open Babel Warning  in ReadMolecule\n",
      "  Failed to kekulize aromatic bonds in MOL2 file (title is 5hs1_VOR_1_protein)\n",
      "\n"
     ]
    },
    {
     "name": "stdout",
     "output_type": "stream",
     "text": [
      "\n"
     ]
    },
    {
     "name": "stderr",
     "output_type": "stream",
     "text": [
      "==============================\n",
      "*** Open Babel Warning  in ReadMolecule\n",
      "  Failed to kekulize aromatic bonds in MOL2 file (title is 1v59_NAD_2_protein)\n",
      "\n"
     ]
    },
    {
     "name": "stdout",
     "output_type": "stream",
     "text": [
      "\n"
     ]
    },
    {
     "name": "stderr",
     "output_type": "stream",
     "text": [
      "==============================\n",
      "*** Open Babel Warning  in ReadMolecule\n",
      "  Failed to kekulize aromatic bonds in MOL2 file (title is 2p0r_LEU_LEU_ACE_AR7_2_protein)\n",
      "\n"
     ]
    },
    {
     "name": "stdout",
     "output_type": "stream",
     "text": [
      "\n"
     ]
    },
    {
     "name": "stderr",
     "output_type": "stream",
     "text": [
      "==============================\n",
      "*** Open Babel Warning  in ReadMolecule\n",
      "  Failed to kekulize aromatic bonds in MOL2 file (title is 3v0t_ATR_1_protein)\n",
      "\n"
     ]
    },
    {
     "name": "stdout",
     "output_type": "stream",
     "text": [
      "\n"
     ]
    },
    {
     "name": "stderr",
     "output_type": "stream",
     "text": [
      "==============================\n",
      "*** Open Babel Warning  in ReadMolecule\n",
      "  Failed to kekulize aromatic bonds in MOL2 file (title is 1zmd_FAD_7_protein)\n",
      "\n"
     ]
    },
    {
     "name": "stdout",
     "output_type": "stream",
     "text": [
      "\n"
     ]
    },
    {
     "name": "stderr",
     "output_type": "stream",
     "text": [
      "==============================\n",
      "*** Open Babel Warning  in ReadMolecule\n",
      "  Failed to kekulize aromatic bonds in MOL2 file (title is 4h1q_0XX_2_protein)\n",
      "\n"
     ]
    },
    {
     "name": "stdout",
     "output_type": "stream",
     "text": [
      "\n"
     ]
    },
    {
     "name": "stderr",
     "output_type": "stream",
     "text": [
      "==============================\n",
      "*** Open Babel Warning  in ReadMolecule\n",
      "  Failed to kekulize aromatic bonds in MOL2 file (title is 4ros_APR_1_protein)\n",
      "\n"
     ]
    },
    {
     "name": "stdout",
     "output_type": "stream",
     "text": [
      "\n"
     ]
    },
    {
     "name": "stderr",
     "output_type": "stream",
     "text": [
      "==============================\n",
      "*** Open Babel Warning  in ReadMolecule\n",
      "  Failed to kekulize aromatic bonds in MOL2 file (title is 2pk5_075_1_protein)\n",
      "\n"
     ]
    },
    {
     "name": "stdout",
     "output_type": "stream",
     "text": [
      "\n"
     ]
    },
    {
     "name": "stderr",
     "output_type": "stream",
     "text": [
      "==============================\n",
      "*** Open Babel Warning  in ReadMolecule\n",
      "  Failed to kekulize aromatic bonds in MOL2 file (title is 3zkd_ANP_4_protein)\n",
      "\n"
     ]
    },
    {
     "name": "stdout",
     "output_type": "stream",
     "text": [
      "\n"
     ]
    },
    {
     "name": "stderr",
     "output_type": "stream",
     "text": [
      "==============================\n",
      "*** Open Babel Warning  in ReadMolecule\n",
      "  Failed to kekulize aromatic bonds in MOL2 file (title is 2p3a_3TL_1_protein)\n",
      "\n"
     ]
    },
    {
     "name": "stdout",
     "output_type": "stream",
     "text": [
      "\n"
     ]
    },
    {
     "name": "stderr",
     "output_type": "stream",
     "text": [
      "==============================\n",
      "*** Open Babel Warning  in ReadMolecule\n",
      "  Failed to kekulize aromatic bonds in MOL2 file (title is 4amw_5DI_1_protein)\n",
      "\n"
     ]
    },
    {
     "name": "stdout",
     "output_type": "stream",
     "text": [
      "\n"
     ]
    },
    {
     "name": "stderr",
     "output_type": "stream",
     "text": [
      "==============================\n",
      "*** Open Babel Warning  in ReadMolecule\n",
      "  Failed to kekulize aromatic bonds in MOL2 file (title is 4ajb_TAP_1_protein)\n",
      "\n"
     ]
    },
    {
     "name": "stdout",
     "output_type": "stream",
     "text": [
      "\n"
     ]
    },
    {
     "name": "stderr",
     "output_type": "stream",
     "text": [
      "==============================\n",
      "*** Open Babel Warning  in ReadMolecule\n",
      "  Failed to kekulize aromatic bonds in MOL2 file (title is 1nr6_DIF_1_protein)\n",
      "\n"
     ]
    },
    {
     "name": "stdout",
     "output_type": "stream",
     "text": [
      "\n"
     ]
    },
    {
     "name": "stderr",
     "output_type": "stream",
     "text": [
      "==============================\n",
      "*** Open Babel Warning  in ReadMolecule\n",
      "  Failed to kekulize aromatic bonds in MOL2 file (title is 1fk8_NAD_1_protein)\n",
      "\n"
     ]
    },
    {
     "name": "stdout",
     "output_type": "stream",
     "text": [
      "\n"
     ]
    },
    {
     "name": "stderr",
     "output_type": "stream",
     "text": [
      "==============================\n",
      "*** Open Babel Warning  in ReadMolecule\n",
      "  Failed to kekulize aromatic bonds in MOL2 file (title is 1nzd_UPG_1_protein)\n",
      "\n"
     ]
    },
    {
     "name": "stdout",
     "output_type": "stream",
     "text": [
      "\n"
     ]
    },
    {
     "name": "stderr",
     "output_type": "stream",
     "text": [
      "==============================\n",
      "*** Open Babel Warning  in ReadMolecule\n",
      "  Failed to kekulize aromatic bonds in MOL2 file (title is 4i5v_B4P_1_protein)\n",
      "\n"
     ]
    },
    {
     "name": "stdout",
     "output_type": "stream",
     "text": [
      "\n"
     ]
    },
    {
     "name": "stderr",
     "output_type": "stream",
     "text": [
      "==============================\n",
      "*** Open Babel Warning  in ReadMolecule\n",
      "  Failed to kekulize aromatic bonds in MOL2 file (title is 2iuu_ADP_5_protein)\n",
      "\n"
     ]
    },
    {
     "name": "stdout",
     "output_type": "stream",
     "text": [
      "\n"
     ]
    },
    {
     "name": "stderr",
     "output_type": "stream",
     "text": [
      "==============================\n",
      "*** Open Babel Warning  in ReadMolecule\n",
      "  Failed to kekulize aromatic bonds in MOL2 file (title is 4gbd_MCF_1_protein)\n",
      "\n"
     ]
    },
    {
     "name": "stdout",
     "output_type": "stream",
     "text": [
      "\n"
     ]
    },
    {
     "name": "stderr",
     "output_type": "stream",
     "text": [
      "==============================\n",
      "*** Open Babel Warning  in ReadMolecule\n",
      "  Failed to kekulize aromatic bonds in MOL2 file (title is 4oh4_ANP_2_protein)\n",
      "\n"
     ]
    },
    {
     "name": "stdout",
     "output_type": "stream",
     "text": [
      "\n"
     ]
    },
    {
     "name": "stderr",
     "output_type": "stream",
     "text": [
      "==============================\n",
      "*** Open Babel Warning  in ReadMolecule\n",
      "  Failed to kekulize aromatic bonds in MOL2 file (title is 2fm0_M98_1_protein)\n",
      "\n"
     ]
    },
    {
     "name": "stdout",
     "output_type": "stream",
     "text": [
      "\n"
     ]
    },
    {
     "name": "stderr",
     "output_type": "stream",
     "text": [
      "==============================\n",
      "*** Open Babel Warning  in ReadMolecule\n",
      "  Failed to kekulize aromatic bonds in MOL2 file (title is 3w3z_GTP_1_protein)\n",
      "\n"
     ]
    },
    {
     "name": "stdout",
     "output_type": "stream",
     "text": [
      "\n"
     ]
    },
    {
     "name": "stderr",
     "output_type": "stream",
     "text": [
      "==============================\n",
      "*** Open Babel Warning  in ReadMolecule\n",
      "  Failed to kekulize aromatic bonds in MOL2 file (title is 3vuf_ADP_1_protein)\n",
      "\n"
     ]
    },
    {
     "name": "stdout",
     "output_type": "stream",
     "text": [
      "\n"
     ]
    },
    {
     "name": "stderr",
     "output_type": "stream",
     "text": [
      "==============================\n",
      "*** Open Babel Warning  in ReadMolecule\n",
      "  Failed to kekulize aromatic bonds in MOL2 file (title is 2ans_2AN_1_protein)\n",
      "\n"
     ]
    },
    {
     "name": "stdout",
     "output_type": "stream",
     "text": [
      "\n"
     ]
    },
    {
     "name": "stderr",
     "output_type": "stream",
     "text": [
      "==============================\n",
      "*** Open Babel Warning  in ReadMolecule\n",
      "  Failed to kekulize aromatic bonds in MOL2 file (title is 3a70_NPO_2_protein)\n",
      "\n"
     ]
    },
    {
     "name": "stdout",
     "output_type": "stream",
     "text": [
      "\n"
     ]
    },
    {
     "name": "stderr",
     "output_type": "stream",
     "text": [
      "==============================\n",
      "*** Open Babel Warning  in ReadMolecule\n",
      "  Failed to kekulize aromatic bonds in MOL2 file (title is 5br7_FAD_1_protein)\n",
      "\n"
     ]
    },
    {
     "name": "stdout",
     "output_type": "stream",
     "text": [
      "\n"
     ]
    },
    {
     "name": "stderr",
     "output_type": "stream",
     "text": [
      "==============================\n",
      "*** Open Babel Warning  in ReadMolecule\n",
      "  Failed to kekulize aromatic bonds in MOL2 file (title is 1y5x_E89_1_protein)\n",
      "\n"
     ]
    },
    {
     "name": "stdout",
     "output_type": "stream",
     "text": [
      "\n"
     ]
    },
    {
     "name": "stderr",
     "output_type": "stream",
     "text": [
      "==============================\n",
      "*** Open Babel Warning  in ReadMolecule\n",
      "  Failed to kekulize aromatic bonds in MOL2 file (title is 2f3r_G5P_2_protein)\n",
      "\n"
     ]
    },
    {
     "name": "stdout",
     "output_type": "stream",
     "text": [
      "\n"
     ]
    },
    {
     "name": "stderr",
     "output_type": "stream",
     "text": [
      "==============================\n",
      "*** Open Babel Warning  in ReadMolecule\n",
      "  This Mol2 file is non-standard. Problem with molecule: 1rp4_FAD_1_protein Cannot interpret atom types correctly, instead attempting to interpret atom type: CD as elements instead.\n",
      "==============================\n",
      "*** Open Babel Warning  in Translate\n",
      "  Cannot perform atom type translation: table cannot find requested types.\n",
      "==============================\n",
      "*** Open Babel Warning  in ReadMolecule\n",
      "  This Mol2 file is non-standard. Problem with molecule: 1rp4_FAD_1_protein Cannot interpret atom types correctly, instead attempting to interpret atom type: CD as elements instead.\n",
      "==============================\n",
      "*** Open Babel Warning  in Translate\n",
      "  Cannot perform atom type translation: table cannot find requested types.\n",
      "==============================\n",
      "*** Open Babel Warning  in ReadMolecule\n",
      "  Failed to kekulize aromatic bonds in MOL2 file (title is 1rp4_FAD_1_protein)\n",
      "\n"
     ]
    },
    {
     "name": "stdout",
     "output_type": "stream",
     "text": [
      "\n"
     ]
    },
    {
     "name": "stderr",
     "output_type": "stream",
     "text": [
      "==============================\n",
      "*** Open Babel Warning  in ReadMolecule\n",
      "  Failed to kekulize aromatic bonds in MOL2 file (title is 2jjx_ATP_1_protein)\n",
      "\n"
     ]
    },
    {
     "name": "stdout",
     "output_type": "stream",
     "text": [
      "\n"
     ]
    },
    {
     "name": "stderr",
     "output_type": "stream",
     "text": [
      "==============================\n",
      "*** Open Babel Warning  in ReadMolecule\n",
      "  Failed to kekulize aromatic bonds in MOL2 file (title is 3zk6_H1I_2_protein)\n",
      "\n"
     ]
    },
    {
     "name": "stdout",
     "output_type": "stream",
     "text": [
      "\n"
     ]
    },
    {
     "name": "stderr",
     "output_type": "stream",
     "text": [
      "==============================\n",
      "*** Open Babel Warning  in ReadMolecule\n",
      "  Failed to kekulize aromatic bonds in MOL2 file (title is 2y88_2ER_1_protein)\n",
      "\n"
     ]
    },
    {
     "name": "stdout",
     "output_type": "stream",
     "text": [
      "\n"
     ]
    },
    {
     "name": "stderr",
     "output_type": "stream",
     "text": [
      "==============================\n",
      "*** Open Babel Warning  in ReadMolecule\n",
      "  Failed to kekulize aromatic bonds in MOL2 file (title is 3of3_DIH_9_protein)\n",
      "\n"
     ]
    },
    {
     "name": "stdout",
     "output_type": "stream",
     "text": [
      "\n"
     ]
    },
    {
     "name": "stderr",
     "output_type": "stream",
     "text": [
      "==============================\n",
      "*** Open Babel Warning  in ReadMolecule\n",
      "  Failed to kekulize aromatic bonds in MOL2 file (title is 4iic_IFM_2_protein)\n",
      "\n"
     ]
    },
    {
     "name": "stdout",
     "output_type": "stream",
     "text": [
      "\n"
     ]
    },
    {
     "name": "stderr",
     "output_type": "stream",
     "text": [
      "==============================\n",
      "*** Open Babel Warning  in ReadMolecule\n",
      "  Failed to kekulize aromatic bonds in MOL2 file (title is 2x5z_GDD_1_protein)\n",
      "\n"
     ]
    },
    {
     "name": "stdout",
     "output_type": "stream",
     "text": [
      "\n"
     ]
    },
    {
     "name": "stderr",
     "output_type": "stream",
     "text": [
      "==============================\n",
      "*** Open Babel Warning  in ReadMolecule\n",
      "  Failed to kekulize aromatic bonds in MOL2 file (title is 1nmq_160_2_protein)\n",
      "\n"
     ]
    },
    {
     "name": "stdout",
     "output_type": "stream",
     "text": [
      "\n"
     ]
    },
    {
     "name": "stderr",
     "output_type": "stream",
     "text": [
      "==============================\n",
      "*** Open Babel Warning  in ReadMolecule\n",
      "  Failed to kekulize aromatic bonds in MOL2 file (title is 1xl8_152_1_protein)\n",
      "\n"
     ]
    },
    {
     "name": "stdout",
     "output_type": "stream",
     "text": [
      "\n"
     ]
    },
    {
     "name": "stderr",
     "output_type": "stream",
     "text": [
      "==============================\n",
      "*** Open Babel Warning  in ReadMolecule\n",
      "  Failed to kekulize aromatic bonds in MOL2 file (title is 3bsy_ACO_1_protein)\n",
      "\n"
     ]
    },
    {
     "name": "stdout",
     "output_type": "stream",
     "text": [
      "\n"
     ]
    },
    {
     "name": "stderr",
     "output_type": "stream",
     "text": [
      "==============================\n",
      "*** Open Babel Warning  in ReadMolecule\n",
      "  Failed to kekulize aromatic bonds in MOL2 file (title is 3t4h_MD5_1_protein)\n",
      "\n"
     ]
    },
    {
     "name": "stdout",
     "output_type": "stream",
     "text": [
      "\n"
     ]
    },
    {
     "name": "stderr",
     "output_type": "stream",
     "text": [
      "==============================\n",
      "*** Open Babel Warning  in ReadMolecule\n",
      "  Failed to kekulize aromatic bonds in MOL2 file (title is 3hxd_BD7_1_protein)\n",
      "\n"
     ]
    },
    {
     "name": "stdout",
     "output_type": "stream",
     "text": [
      "\n"
     ]
    },
    {
     "name": "stderr",
     "output_type": "stream",
     "text": [
      "==============================\n",
      "*** Open Babel Warning  in ReadMolecule\n",
      "  Failed to kekulize aromatic bonds in MOL2 file (title is 3zoe_HBA_1_protein)\n",
      "\n"
     ]
    },
    {
     "name": "stdout",
     "output_type": "stream",
     "text": [
      "\n"
     ]
    },
    {
     "name": "stderr",
     "output_type": "stream",
     "text": [
      "==============================\n",
      "*** Open Babel Warning  in ReadMolecule\n",
      "  This Mol2 file is non-standard. Problem with molecule: 4az0_S61_1_protein Cannot interpret atom types correctly, instead attempting to interpret atom type: CD as elements instead.\n",
      "==============================\n",
      "*** Open Babel Warning  in Translate\n",
      "  Cannot perform atom type translation: table cannot find requested types.\n",
      "==============================\n",
      "*** Open Babel Warning  in ReadMolecule\n",
      "  This Mol2 file is non-standard. Problem with molecule: 4az0_S61_1_protein Cannot interpret atom types correctly, instead attempting to interpret atom type: CD as elements instead.\n",
      "==============================\n",
      "*** Open Babel Warning  in Translate\n",
      "  Cannot perform atom type translation: table cannot find requested types.\n",
      "==============================\n",
      "*** Open Babel Warning  in ReadMolecule\n",
      "  This Mol2 file is non-standard. Problem with molecule: 4az0_S61_1_protein Cannot interpret atom types correctly, instead attempting to interpret atom type: CD as elements instead.\n",
      "==============================\n",
      "*** Open Babel Warning  in Translate\n",
      "  Cannot perform atom type translation: table cannot find requested types.\n",
      "==============================\n",
      "*** Open Babel Warning  in ReadMolecule\n",
      "  This Mol2 file is non-standard. Problem with molecule: 4az0_S61_1_protein Cannot interpret atom types correctly, instead attempting to interpret atom type: CD as elements instead.\n",
      "==============================\n",
      "*** Open Babel Warning  in Translate\n",
      "  Cannot perform atom type translation: table cannot find requested types.\n",
      "==============================\n",
      "*** Open Babel Warning  in ReadMolecule\n",
      "  This Mol2 file is non-standard. Problem with molecule: 4az0_S61_1_protein Cannot interpret atom types correctly, instead attempting to interpret atom type: CD as elements instead.\n",
      "==============================\n",
      "*** Open Babel Warning  in Translate\n",
      "  Cannot perform atom type translation: table cannot find requested types.\n",
      "==============================\n",
      "*** Open Babel Warning  in ReadMolecule\n",
      "  This Mol2 file is non-standard. Problem with molecule: 4az0_S61_1_protein Cannot interpret atom types correctly, instead attempting to interpret atom type: CD as elements instead.\n",
      "==============================\n",
      "*** Open Babel Warning  in Translate\n",
      "  Cannot perform atom type translation: table cannot find requested types.\n",
      "==============================\n",
      "*** Open Babel Warning  in ReadMolecule\n",
      "  Failed to kekulize aromatic bonds in MOL2 file (title is 4az0_S61_1_protein)\n",
      "\n"
     ]
    },
    {
     "name": "stdout",
     "output_type": "stream",
     "text": [
      "\n"
     ]
    },
    {
     "name": "stderr",
     "output_type": "stream",
     "text": [
      "==============================\n",
      "*** Open Babel Warning  in ReadMolecule\n",
      "  Failed to kekulize aromatic bonds in MOL2 file (title is 1odi_ADN_3_protein)\n",
      "\n"
     ]
    },
    {
     "name": "stdout",
     "output_type": "stream",
     "text": [
      "\n"
     ]
    },
    {
     "name": "stderr",
     "output_type": "stream",
     "text": [
      "==============================\n",
      "*** Open Babel Warning  in ReadMolecule\n",
      "  Failed to kekulize aromatic bonds in MOL2 file (title is 4h6r_FDA_1_protein)\n",
      "\n"
     ]
    },
    {
     "name": "stdout",
     "output_type": "stream",
     "text": [
      "\n"
     ]
    },
    {
     "name": "stderr",
     "output_type": "stream",
     "text": [
      "==============================\n",
      "*** Open Babel Warning  in ReadMolecule\n",
      "  Failed to kekulize aromatic bonds in MOL2 file (title is 1u80_C5P_2_protein)\n",
      "\n"
     ]
    },
    {
     "name": "stdout",
     "output_type": "stream",
     "text": [
      "\n"
     ]
    },
    {
     "name": "stderr",
     "output_type": "stream",
     "text": [
      "==============================\n",
      "*** Open Babel Warning  in ReadMolecule\n",
      "  Failed to kekulize aromatic bonds in MOL2 file (title is 1mqw_ADV_1_protein)\n",
      "\n"
     ]
    },
    {
     "name": "stdout",
     "output_type": "stream",
     "text": [
      "\n"
     ]
    },
    {
     "name": "stderr",
     "output_type": "stream",
     "text": [
      "==============================\n",
      "*** Open Babel Warning  in ReadMolecule\n",
      "  Failed to kekulize aromatic bonds in MOL2 file (title is 1xwf_ADN_3_protein)\n",
      "\n"
     ]
    },
    {
     "name": "stdout",
     "output_type": "stream",
     "text": [
      "\n"
     ]
    },
    {
     "name": "stderr",
     "output_type": "stream",
     "text": [
      "==============================\n",
      "*** Open Babel Warning  in ReadMolecule\n",
      "  Failed to kekulize aromatic bonds in MOL2 file (title is 3cin_NAD_1_protein)\n",
      "\n"
     ]
    },
    {
     "name": "stdout",
     "output_type": "stream",
     "text": [
      "\n"
     ]
    },
    {
     "name": "stderr",
     "output_type": "stream",
     "text": [
      "==============================\n",
      "*** Open Babel Warning  in ReadMolecule\n",
      "  Failed to kekulize aromatic bonds in MOL2 file (title is 4mrt_COA_1_protein)\n",
      "\n"
     ]
    },
    {
     "name": "stdout",
     "output_type": "stream",
     "text": [
      "\n"
     ]
    },
    {
     "name": "stderr",
     "output_type": "stream",
     "text": [
      "==============================\n",
      "*** Open Babel Warning  in ReadMolecule\n",
      "  This Mol2 file is non-standard. Problem with molecule: 2vuw_5ID_1_protein Cannot interpret atom types correctly, instead attempting to interpret atom type: NI as elements instead.\n",
      "==============================\n",
      "*** Open Babel Warning  in Translate\n",
      "  Cannot perform atom type translation: table cannot find requested types.\n",
      "==============================\n",
      "*** Open Babel Warning  in ReadMolecule\n",
      "  Failed to kekulize aromatic bonds in MOL2 file (title is 2vuw_5ID_1_protein)\n",
      "\n"
     ]
    },
    {
     "name": "stdout",
     "output_type": "stream",
     "text": [
      "\n"
     ]
    },
    {
     "name": "stderr",
     "output_type": "stream",
     "text": [
      "==============================\n",
      "*** Open Babel Warning  in ReadMolecule\n",
      "  Failed to kekulize aromatic bonds in MOL2 file (title is 4pu2_PLU_1_protein)\n",
      "\n"
     ]
    },
    {
     "name": "stdout",
     "output_type": "stream",
     "text": [
      "\n"
     ]
    },
    {
     "name": "stderr",
     "output_type": "stream",
     "text": [
      "==============================\n",
      "*** Open Babel Warning  in ReadMolecule\n",
      "  Failed to kekulize aromatic bonds in MOL2 file (title is 3u9d_ATP_2_protein)\n",
      "\n"
     ]
    },
    {
     "name": "stdout",
     "output_type": "stream",
     "text": [
      "\n"
     ]
    },
    {
     "name": "stderr",
     "output_type": "stream",
     "text": [
      "==============================\n",
      "*** Open Babel Warning  in ReadMolecule\n",
      "  Failed to kekulize aromatic bonds in MOL2 file (title is 3rga_ILD_2_protein)\n",
      "\n"
     ]
    },
    {
     "name": "stdout",
     "output_type": "stream",
     "text": [
      "\n"
     ]
    },
    {
     "name": "stderr",
     "output_type": "stream",
     "text": [
      "==============================\n",
      "*** Open Babel Warning  in ReadMolecule\n",
      "  Failed to kekulize aromatic bonds in MOL2 file (title is 1fm6_BRL_2_protein)\n",
      "\n"
     ]
    },
    {
     "name": "stdout",
     "output_type": "stream",
     "text": [
      "\n"
     ]
    },
    {
     "name": "stderr",
     "output_type": "stream",
     "text": [
      "==============================\n",
      "*** Open Babel Warning  in ReadMolecule\n",
      "  Failed to kekulize aromatic bonds in MOL2 file (title is 2q46_NAP_2_protein)\n",
      "\n"
     ]
    },
    {
     "name": "stdout",
     "output_type": "stream",
     "text": [
      "\n"
     ]
    },
    {
     "name": "stderr",
     "output_type": "stream",
     "text": [
      "==============================\n",
      "*** Open Babel Warning  in ReadMolecule\n",
      "  Failed to kekulize aromatic bonds in MOL2 file (title is 5d7p_OCZ_5_protein)\n",
      "\n"
     ]
    },
    {
     "name": "stdout",
     "output_type": "stream",
     "text": [
      "\n"
     ]
    },
    {
     "name": "stderr",
     "output_type": "stream",
     "text": [
      "==============================\n",
      "*** Open Babel Warning  in ReadMolecule\n",
      "  Failed to kekulize aromatic bonds in MOL2 file (title is 2mse_GNP_1_protein)\n",
      "\n"
     ]
    },
    {
     "name": "stdout",
     "output_type": "stream",
     "text": [
      "\n"
     ]
    },
    {
     "name": "stderr",
     "output_type": "stream",
     "text": [
      "==============================\n",
      "*** Open Babel Warning  in ReadMolecule\n",
      "  Failed to kekulize aromatic bonds in MOL2 file (title is 4njt_017_2_protein)\n",
      "\n"
     ]
    },
    {
     "name": "stdout",
     "output_type": "stream",
     "text": [
      "\n"
     ]
    },
    {
     "name": "stderr",
     "output_type": "stream",
     "text": [
      "==============================\n",
      "*** Open Babel Warning  in ReadMolecule\n",
      "  Failed to kekulize aromatic bonds in MOL2 file (title is 3reo_EUG_2_protein)\n",
      "\n"
     ]
    },
    {
     "name": "stdout",
     "output_type": "stream",
     "text": [
      "\n"
     ]
    },
    {
     "name": "stderr",
     "output_type": "stream",
     "text": [
      "==============================\n",
      "*** Open Babel Warning  in ReadMolecule\n",
      "  Failed to kekulize aromatic bonds in MOL2 file (title is 4kfn_1QR_2_protein)\n",
      "\n"
     ]
    },
    {
     "name": "stdout",
     "output_type": "stream",
     "text": [
      "\n"
     ]
    },
    {
     "name": "stderr",
     "output_type": "stream",
     "text": [
      "==============================\n",
      "*** Open Babel Warning  in ReadMolecule\n",
      "  Failed to kekulize aromatic bonds in MOL2 file (title is 4do0_DZA_1_protein)\n",
      "\n"
     ]
    },
    {
     "name": "stdout",
     "output_type": "stream",
     "text": [
      "\n"
     ]
    },
    {
     "name": "stderr",
     "output_type": "stream",
     "text": [
      "==============================\n",
      "*** Open Babel Warning  in ReadMolecule\n",
      "  Failed to kekulize aromatic bonds in MOL2 file (title is 1g69_ICP_1_protein)\n",
      "\n"
     ]
    },
    {
     "name": "stdout",
     "output_type": "stream",
     "text": [
      "\n"
     ]
    },
    {
     "name": "stderr",
     "output_type": "stream",
     "text": [
      "==============================\n",
      "*** Open Babel Warning  in ReadMolecule\n",
      "  Failed to kekulize aromatic bonds in MOL2 file (title is 2e7f_C2F_1_protein)\n",
      "\n"
     ]
    },
    {
     "name": "stdout",
     "output_type": "stream",
     "text": [
      "\n"
     ]
    },
    {
     "name": "stderr",
     "output_type": "stream",
     "text": [
      "==============================\n",
      "*** Open Babel Warning  in ReadMolecule\n",
      "  Failed to kekulize aromatic bonds in MOL2 file (title is 2bt4_CA2_11_protein)\n",
      "\n"
     ]
    },
    {
     "name": "stdout",
     "output_type": "stream",
     "text": [
      "\n"
     ]
    },
    {
     "name": "stderr",
     "output_type": "stream",
     "text": [
      "==============================\n",
      "*** Open Babel Warning  in ReadMolecule\n",
      "  Failed to kekulize aromatic bonds in MOL2 file (title is 1yvf_PH7_1_protein)\n",
      "\n"
     ]
    },
    {
     "name": "stdout",
     "output_type": "stream",
     "text": [
      "\n"
     ]
    },
    {
     "name": "stderr",
     "output_type": "stream",
     "text": [
      "==============================\n",
      "*** Open Babel Warning  in ReadMolecule\n",
      "  Failed to kekulize aromatic bonds in MOL2 file (title is 4zz6_CTP_1_protein)\n",
      "\n"
     ]
    },
    {
     "name": "stdout",
     "output_type": "stream",
     "text": [
      "\n"
     ]
    },
    {
     "name": "stderr",
     "output_type": "stream",
     "text": [
      "==============================\n",
      "*** Open Babel Warning  in ReadMolecule\n",
      "  Failed to kekulize aromatic bonds in MOL2 file (title is 3av7_KYA_4_protein)\n",
      "\n"
     ]
    },
    {
     "name": "stdout",
     "output_type": "stream",
     "text": [
      "\n"
     ]
    },
    {
     "name": "stderr",
     "output_type": "stream",
     "text": [
      "==============================\n",
      "*** Open Babel Warning  in ReadMolecule\n",
      "  Failed to kekulize aromatic bonds in MOL2 file (title is 1o68_KIV_3_protein)\n",
      "\n"
     ]
    },
    {
     "name": "stdout",
     "output_type": "stream",
     "text": [
      "\n"
     ]
    },
    {
     "name": "stderr",
     "output_type": "stream",
     "text": [
      "==============================\n",
      "*** Open Babel Warning  in ReadMolecule\n",
      "  Failed to kekulize aromatic bonds in MOL2 file (title is 2i47_INN_1_protein)\n",
      "\n"
     ]
    },
    {
     "name": "stdout",
     "output_type": "stream",
     "text": [
      "\n"
     ]
    },
    {
     "name": "stderr",
     "output_type": "stream",
     "text": [
      "==============================\n",
      "*** Open Babel Warning  in ReadMolecule\n",
      "  Failed to kekulize aromatic bonds in MOL2 file (title is 1p4a_PCP_1_protein)\n",
      "\n"
     ]
    },
    {
     "name": "stdout",
     "output_type": "stream",
     "text": [
      "\n"
     ]
    },
    {
     "name": "stderr",
     "output_type": "stream",
     "text": [
      "==============================\n",
      "*** Open Babel Warning  in ReadMolecule\n",
      "  Failed to kekulize aromatic bonds in MOL2 file (title is 4dt2_0LV_2_protein)\n",
      "\n"
     ]
    },
    {
     "name": "stdout",
     "output_type": "stream",
     "text": [
      "\n"
     ]
    },
    {
     "name": "stderr",
     "output_type": "stream",
     "text": [
      "==============================\n",
      "*** Open Babel Warning  in ReadMolecule\n",
      "  Failed to kekulize aromatic bonds in MOL2 file (title is 4jlc_SU6_1_protein)\n",
      "\n"
     ]
    },
    {
     "name": "stdout",
     "output_type": "stream",
     "text": [
      "\n"
     ]
    },
    {
     "name": "stderr",
     "output_type": "stream",
     "text": [
      "==============================\n",
      "*** Open Babel Warning  in ReadMolecule\n",
      "  Failed to kekulize aromatic bonds in MOL2 file (title is 3mcy_ZH1_3_protein)\n",
      "\n"
     ]
    },
    {
     "name": "stdout",
     "output_type": "stream",
     "text": [
      "\n"
     ]
    },
    {
     "name": "stderr",
     "output_type": "stream",
     "text": [
      "==============================\n",
      "*** Open Babel Warning  in ReadMolecule\n",
      "  Failed to kekulize aromatic bonds in MOL2 file (title is 4a0r_DTB_2_protein)\n",
      "\n"
     ]
    },
    {
     "name": "stdout",
     "output_type": "stream",
     "text": [
      "\n"
     ]
    },
    {
     "name": "stderr",
     "output_type": "stream",
     "text": [
      "==============================\n",
      "*** Open Babel Warning  in ReadMolecule\n",
      "  Failed to kekulize aromatic bonds in MOL2 file (title is 4zr5_RDF_1_protein)\n",
      "\n"
     ]
    },
    {
     "name": "stdout",
     "output_type": "stream",
     "text": [
      "\n"
     ]
    },
    {
     "name": "stderr",
     "output_type": "stream",
     "text": [
      "==============================\n",
      "*** Open Babel Warning  in ReadMolecule\n",
      "  Failed to kekulize aromatic bonds in MOL2 file (title is 2jfg_UMA_1_protein)\n",
      "\n"
     ]
    },
    {
     "name": "stdout",
     "output_type": "stream",
     "text": [
      "\n"
     ]
    },
    {
     "name": "stderr",
     "output_type": "stream",
     "text": [
      "==============================\n",
      "*** Open Babel Warning  in ReadMolecule\n",
      "  Failed to kekulize aromatic bonds in MOL2 file (title is 2bgs_NDP_1_protein)\n",
      "\n"
     ]
    },
    {
     "name": "stdout",
     "output_type": "stream",
     "text": [
      "\n"
     ]
    },
    {
     "name": "stderr",
     "output_type": "stream",
     "text": [
      "==============================\n",
      "*** Open Babel Warning  in ReadMolecule\n",
      "  Failed to kekulize aromatic bonds in MOL2 file (title is 3qdz_PRO_ALA_PRO_ARG_1_protein)\n",
      "\n"
     ]
    },
    {
     "name": "stdout",
     "output_type": "stream",
     "text": [
      "\n"
     ]
    },
    {
     "name": "stderr",
     "output_type": "stream",
     "text": [
      "==============================\n",
      "*** Open Babel Warning  in ReadMolecule\n",
      "  Failed to kekulize aromatic bonds in MOL2 file (title is 2i0e_PDS_2_protein)\n",
      "\n"
     ]
    },
    {
     "name": "stdout",
     "output_type": "stream",
     "text": [
      "\n"
     ]
    },
    {
     "name": "stderr",
     "output_type": "stream",
     "text": [
      "==============================\n",
      "*** Open Babel Warning  in ReadMolecule\n",
      "  Failed to kekulize aromatic bonds in MOL2 file (title is 4lxj_LAN_1_protein)\n",
      "\n"
     ]
    },
    {
     "name": "stdout",
     "output_type": "stream",
     "text": [
      "\n"
     ]
    },
    {
     "name": "stderr",
     "output_type": "stream",
     "text": [
      "==============================\n",
      "*** Open Babel Warning  in ReadMolecule\n",
      "  Failed to kekulize aromatic bonds in MOL2 file (title is 1mab_ATP_1_protein)\n",
      "\n"
     ]
    },
    {
     "name": "stdout",
     "output_type": "stream",
     "text": [
      "\n"
     ]
    },
    {
     "name": "stderr",
     "output_type": "stream",
     "text": [
      "==============================\n",
      "*** Open Babel Warning  in ReadMolecule\n",
      "  Failed to kekulize aromatic bonds in MOL2 file (title is 2vxa_RBF_12_protein)\n",
      "\n"
     ]
    },
    {
     "name": "stdout",
     "output_type": "stream",
     "text": [
      "\n"
     ]
    },
    {
     "name": "stderr",
     "output_type": "stream",
     "text": [
      "==============================\n",
      "*** Open Babel Warning  in ReadMolecule\n",
      "  Failed to kekulize aromatic bonds in MOL2 file (title is 1zem_NAD_8_protein)\n",
      "\n"
     ]
    },
    {
     "name": "stdout",
     "output_type": "stream",
     "text": [
      "\n"
     ]
    },
    {
     "name": "stderr",
     "output_type": "stream",
     "text": [
      "==============================\n",
      "*** Open Babel Warning  in ReadMolecule\n",
      "  Failed to kekulize aromatic bonds in MOL2 file (title is 5d2n_IMD_1_protein)\n",
      "\n"
     ]
    },
    {
     "name": "stdout",
     "output_type": "stream",
     "text": [
      "\n"
     ]
    },
    {
     "name": "stderr",
     "output_type": "stream",
     "text": [
      "==============================\n",
      "*** Open Babel Warning  in ReadMolecule\n",
      "  Failed to kekulize aromatic bonds in MOL2 file (title is 1nqa_NAD_4_protein)\n",
      "\n"
     ]
    },
    {
     "name": "stdout",
     "output_type": "stream",
     "text": [
      "\n"
     ]
    },
    {
     "name": "stderr",
     "output_type": "stream",
     "text": [
      "==============================\n",
      "*** Open Babel Warning  in ReadMolecule\n",
      "  Failed to kekulize aromatic bonds in MOL2 file (title is 3p8h_P8H_1_protein)\n",
      "\n"
     ]
    },
    {
     "name": "stdout",
     "output_type": "stream",
     "text": [
      "\n"
     ]
    },
    {
     "name": "stderr",
     "output_type": "stream",
     "text": [
      "==============================\n",
      "*** Open Babel Warning  in ReadMolecule\n",
      "  Failed to kekulize aromatic bonds in MOL2 file (title is 1sa4_JAN_1_protein)\n",
      "\n"
     ]
    },
    {
     "name": "stdout",
     "output_type": "stream",
     "text": [
      "\n"
     ]
    },
    {
     "name": "stderr",
     "output_type": "stream",
     "text": [
      "==============================\n",
      "*** Open Babel Warning  in ReadMolecule\n",
      "  Failed to kekulize aromatic bonds in MOL2 file (title is 1f9a_ATP_1_protein)\n",
      "\n"
     ]
    },
    {
     "name": "stdout",
     "output_type": "stream",
     "text": [
      "\n"
     ]
    },
    {
     "name": "stderr",
     "output_type": "stream",
     "text": [
      "==============================\n",
      "*** Open Babel Warning  in ReadMolecule\n",
      "  Failed to kekulize aromatic bonds in MOL2 file (title is 1vsv_NAD_1_protein)\n",
      "\n"
     ]
    },
    {
     "name": "stdout",
     "output_type": "stream",
     "text": [
      "\n"
     ]
    },
    {
     "name": "stderr",
     "output_type": "stream",
     "text": [
      "==============================\n",
      "*** Open Babel Warning  in ReadMolecule\n",
      "  Failed to kekulize aromatic bonds in MOL2 file (title is 3f10_8HG_1_protein)\n",
      "\n"
     ]
    },
    {
     "name": "stdout",
     "output_type": "stream",
     "text": [
      "\n"
     ]
    },
    {
     "name": "stderr",
     "output_type": "stream",
     "text": [
      "==============================\n",
      "*** Open Babel Warning  in ReadMolecule\n",
      "  Failed to kekulize aromatic bonds in MOL2 file (title is 1q8y_ADE_1_protein)\n",
      "\n"
     ]
    },
    {
     "name": "stdout",
     "output_type": "stream",
     "text": [
      "\n"
     ]
    },
    {
     "name": "stderr",
     "output_type": "stream",
     "text": [
      "==============================\n",
      "*** Open Babel Warning  in ReadMolecule\n",
      "  Failed to kekulize aromatic bonds in MOL2 file (title is 1e3w_NAD_3_protein)\n",
      "\n"
     ]
    },
    {
     "name": "stdout",
     "output_type": "stream",
     "text": [
      "\n"
     ]
    },
    {
     "name": "stderr",
     "output_type": "stream",
     "text": [
      "==============================\n",
      "*** Open Babel Warning  in ReadMolecule\n",
      "  Failed to kekulize aromatic bonds in MOL2 file (title is 3ew2_BTN_3_protein)\n",
      "\n"
     ]
    },
    {
     "name": "stdout",
     "output_type": "stream",
     "text": [
      "\n"
     ]
    },
    {
     "name": "stderr",
     "output_type": "stream",
     "text": [
      "==============================\n",
      "*** Open Babel Warning  in ReadMolecule\n",
      "  Failed to kekulize aromatic bonds in MOL2 file (title is 2a5y_ATP_1_protein)\n",
      "\n"
     ]
    },
    {
     "name": "stdout",
     "output_type": "stream",
     "text": [
      "\n"
     ]
    },
    {
     "name": "stderr",
     "output_type": "stream",
     "text": [
      "==============================\n",
      "*** Open Babel Warning  in ReadMolecule\n",
      "  Failed to kekulize aromatic bonds in MOL2 file (title is 4ec3_REN_1_protein)\n",
      "\n"
     ]
    },
    {
     "name": "stdout",
     "output_type": "stream",
     "text": [
      "\n"
     ]
    },
    {
     "name": "stderr",
     "output_type": "stream",
     "text": [
      "==============================\n",
      "*** Open Babel Warning  in ReadMolecule\n",
      "  Failed to kekulize aromatic bonds in MOL2 file (title is 3b1x_GNP_2_protein)\n",
      "\n"
     ]
    },
    {
     "name": "stdout",
     "output_type": "stream",
     "text": [
      "\n"
     ]
    },
    {
     "name": "stderr",
     "output_type": "stream",
     "text": [
      "==============================\n",
      "*** Open Babel Warning  in ReadMolecule\n",
      "  This Mol2 file is non-standard. Problem with molecule: 1k7l_544_4_protein Cannot interpret atom types correctly, instead attempting to interpret atom type: Y as elements instead.\n",
      "==============================\n",
      "*** Open Babel Warning  in ReadMolecule\n",
      "  This Mol2 file is non-standard. Problem with molecule: 1k7l_544_4_protein Cannot interpret atom types correctly, instead attempting to interpret atom type: Y as elements instead.\n",
      "==============================\n",
      "*** Open Babel Warning  in ReadMolecule\n",
      "  Failed to kekulize aromatic bonds in MOL2 file (title is 1k7l_544_4_protein)\n",
      "\n"
     ]
    },
    {
     "name": "stdout",
     "output_type": "stream",
     "text": [
      "\n"
     ]
    },
    {
     "name": "stderr",
     "output_type": "stream",
     "text": [
      "==============================\n",
      "*** Open Babel Warning  in ReadMolecule\n",
      "  Failed to kekulize aromatic bonds in MOL2 file (title is 1q8y_ADP_2_protein)\n",
      "\n"
     ]
    },
    {
     "name": "stdout",
     "output_type": "stream",
     "text": [
      "\n"
     ]
    },
    {
     "name": "stderr",
     "output_type": "stream",
     "text": [
      "==============================\n",
      "*** Open Babel Warning  in ReadMolecule\n",
      "  Failed to kekulize aromatic bonds in MOL2 file (title is 3i99_FAD_1_protein)\n",
      "\n"
     ]
    },
    {
     "name": "stdout",
     "output_type": "stream",
     "text": [
      "\n"
     ]
    },
    {
     "name": "stderr",
     "output_type": "stream",
     "text": [
      "==============================\n",
      "*** Open Babel Warning  in ReadMolecule\n",
      "  Failed to kekulize aromatic bonds in MOL2 file (title is 4twr_NAD_1_protein)\n",
      "\n"
     ]
    },
    {
     "name": "stdout",
     "output_type": "stream",
     "text": [
      "\n"
     ]
    },
    {
     "name": "stderr",
     "output_type": "stream",
     "text": [
      "==============================\n",
      "*** Open Babel Warning  in ReadMolecule\n",
      "  Failed to kekulize aromatic bonds in MOL2 file (title is 2wow_FAD_5_protein)\n",
      "\n"
     ]
    },
    {
     "name": "stdout",
     "output_type": "stream",
     "text": [
      "\n"
     ]
    },
    {
     "name": "stderr",
     "output_type": "stream",
     "text": [
      "==============================\n",
      "*** Open Babel Warning  in ReadMolecule\n",
      "  Failed to kekulize aromatic bonds in MOL2 file (title is 1d7o_TCL_1_protein)\n",
      "\n"
     ]
    },
    {
     "name": "stdout",
     "output_type": "stream",
     "text": [
      "\n"
     ]
    },
    {
     "name": "stderr",
     "output_type": "stream",
     "text": [
      "==============================\n",
      "*** Open Babel Warning  in ReadMolecule\n",
      "  Failed to kekulize aromatic bonds in MOL2 file (title is 4d8n_0HM_1_protein)\n",
      "\n"
     ]
    },
    {
     "name": "stdout",
     "output_type": "stream",
     "text": [
      "\n"
     ]
    },
    {
     "name": "stderr",
     "output_type": "stream",
     "text": [
      "==============================\n",
      "*** Open Babel Warning  in ReadMolecule\n",
      "  Failed to kekulize aromatic bonds in MOL2 file (title is 4flp_JQ1_2_protein)\n",
      "\n"
     ]
    },
    {
     "name": "stdout",
     "output_type": "stream",
     "text": [
      "\n"
     ]
    },
    {
     "name": "stderr",
     "output_type": "stream",
     "text": [
      "==============================\n",
      "*** Open Babel Warning  in ReadMolecule\n",
      "  Failed to kekulize aromatic bonds in MOL2 file (title is 4ee3_UDH_3_protein)\n",
      "\n"
     ]
    },
    {
     "name": "stdout",
     "output_type": "stream",
     "text": [
      "\n"
     ]
    },
    {
     "name": "stderr",
     "output_type": "stream",
     "text": [
      "==============================\n",
      "*** Open Babel Warning  in ReadMolecule\n",
      "  Failed to kekulize aromatic bonds in MOL2 file (title is 5b0o_ADP_3_protein)\n",
      "\n"
     ]
    },
    {
     "name": "stdout",
     "output_type": "stream",
     "text": [
      "\n"
     ]
    },
    {
     "name": "stderr",
     "output_type": "stream",
     "text": [
      "==============================\n",
      "*** Open Babel Warning  in ReadMolecule\n",
      "  Failed to kekulize aromatic bonds in MOL2 file (title is 1m2g_APR_1_protein)\n",
      "\n"
     ]
    },
    {
     "name": "stdout",
     "output_type": "stream",
     "text": [
      "\n"
     ]
    },
    {
     "name": "stderr",
     "output_type": "stream",
     "text": [
      "==============================\n",
      "*** Open Babel Warning  in ReadMolecule\n",
      "  Failed to kekulize aromatic bonds in MOL2 file (title is 3cxh_SMA_1_protein)\n",
      "\n"
     ]
    },
    {
     "name": "stdout",
     "output_type": "stream",
     "text": [
      "\n"
     ]
    },
    {
     "name": "stderr",
     "output_type": "stream",
     "text": [
      "==============================\n",
      "*** Open Babel Warning  in ReadMolecule\n",
      "  Failed to kekulize aromatic bonds in MOL2 file (title is 2a4x_BLM_1_protein)\n",
      "\n"
     ]
    },
    {
     "name": "stdout",
     "output_type": "stream",
     "text": [
      "\n"
     ]
    },
    {
     "name": "stderr",
     "output_type": "stream",
     "text": [
      "==============================\n",
      "*** Open Babel Warning  in ReadMolecule\n",
      "  Failed to kekulize aromatic bonds in MOL2 file (title is 4wuj_FMN_1_protein)\n",
      "\n"
     ]
    },
    {
     "name": "stdout",
     "output_type": "stream",
     "text": [
      "\n"
     ]
    },
    {
     "name": "stderr",
     "output_type": "stream",
     "text": [
      "==============================\n",
      "*** Open Babel Warning  in ReadMolecule\n",
      "  Failed to kekulize aromatic bonds in MOL2 file (title is 2y0d_UGA_2_protein)\n",
      "\n"
     ]
    },
    {
     "name": "stdout",
     "output_type": "stream",
     "text": [
      "\n"
     ]
    },
    {
     "name": "stderr",
     "output_type": "stream",
     "text": [
      "==============================\n",
      "*** Open Babel Warning  in ReadMolecule\n",
      "  Failed to kekulize aromatic bonds in MOL2 file (title is 1pkg_ADP_2_protein)\n",
      "\n"
     ]
    },
    {
     "name": "stdout",
     "output_type": "stream",
     "text": [
      "\n"
     ]
    },
    {
     "name": "stderr",
     "output_type": "stream",
     "text": [
      "==============================\n",
      "*** Open Babel Warning  in ReadMolecule\n",
      "  Failed to kekulize aromatic bonds in MOL2 file (title is 2x72_RET_1_protein)\n",
      "\n"
     ]
    },
    {
     "name": "stdout",
     "output_type": "stream",
     "text": [
      "\n"
     ]
    },
    {
     "name": "stderr",
     "output_type": "stream",
     "text": [
      "==============================\n",
      "*** Open Babel Warning  in ReadMolecule\n",
      "  Failed to kekulize aromatic bonds in MOL2 file (title is 4oag_ADP_2_protein)\n",
      "\n"
     ]
    },
    {
     "name": "stdout",
     "output_type": "stream",
     "text": [
      "\n"
     ]
    },
    {
     "name": "stderr",
     "output_type": "stream",
     "text": [
      "==============================\n",
      "*** Open Babel Warning  in ReadMolecule\n",
      "  Failed to kekulize aromatic bonds in MOL2 file (title is 4i1r_LZU_1_protein)\n",
      "\n"
     ]
    },
    {
     "name": "stdout",
     "output_type": "stream",
     "text": [
      "\n"
     ]
    },
    {
     "name": "stderr",
     "output_type": "stream",
     "text": [
      "==============================\n",
      "*** Open Babel Warning  in ReadMolecule\n",
      "  Failed to kekulize aromatic bonds in MOL2 file (title is 1ju2_FAD_1_protein)\n",
      "\n"
     ]
    },
    {
     "name": "stdout",
     "output_type": "stream",
     "text": [
      "\n"
     ]
    },
    {
     "name": "stderr",
     "output_type": "stream",
     "text": [
      "==============================\n",
      "*** Open Babel Warning  in ReadMolecule\n",
      "  Failed to kekulize aromatic bonds in MOL2 file (title is 3t1t_GDP_2_protein)\n",
      "\n"
     ]
    },
    {
     "name": "stdout",
     "output_type": "stream",
     "text": [
      "\n"
     ]
    },
    {
     "name": "stderr",
     "output_type": "stream",
     "text": [
      "==============================\n",
      "*** Open Babel Warning  in ReadMolecule\n",
      "  Failed to kekulize aromatic bonds in MOL2 file (title is 4pz2_NAD_4_protein)\n",
      "\n"
     ]
    },
    {
     "name": "stdout",
     "output_type": "stream",
     "text": [
      "\n"
     ]
    },
    {
     "name": "stderr",
     "output_type": "stream",
     "text": [
      "==============================\n",
      "*** Open Babel Warning  in ReadMolecule\n",
      "  Failed to kekulize aromatic bonds in MOL2 file (title is 3dh7_FMN_2_protein)\n",
      "\n"
     ]
    },
    {
     "name": "stdout",
     "output_type": "stream",
     "text": [
      "\n"
     ]
    },
    {
     "name": "stderr",
     "output_type": "stream",
     "text": [
      "==============================\n",
      "*** Open Babel Warning  in ReadMolecule\n",
      "  Failed to kekulize aromatic bonds in MOL2 file (title is 3mkh_FAD_1_protein)\n",
      "\n"
     ]
    },
    {
     "name": "stdout",
     "output_type": "stream",
     "text": [
      "\n"
     ]
    },
    {
     "name": "stderr",
     "output_type": "stream",
     "text": [
      "==============================\n",
      "*** Open Babel Warning  in ReadMolecule\n",
      "  Failed to kekulize aromatic bonds in MOL2 file (title is 3asj_XYN_1_protein)\n",
      "\n"
     ]
    },
    {
     "name": "stdout",
     "output_type": "stream",
     "text": [
      "\n"
     ]
    },
    {
     "name": "stderr",
     "output_type": "stream",
     "text": [
      "==============================\n",
      "*** Open Babel Warning  in ReadMolecule\n",
      "  Failed to kekulize aromatic bonds in MOL2 file (title is 1o6i_0HZ_1_protein)\n",
      "\n"
     ]
    },
    {
     "name": "stdout",
     "output_type": "stream",
     "text": [
      "\n"
     ]
    },
    {
     "name": "stderr",
     "output_type": "stream",
     "text": [
      "==============================\n",
      "*** Open Babel Warning  in ReadMolecule\n",
      "  Failed to kekulize aromatic bonds in MOL2 file (title is 5d3q_GDP_1_protein)\n",
      "\n"
     ]
    },
    {
     "name": "stdout",
     "output_type": "stream",
     "text": [
      "\n"
     ]
    },
    {
     "name": "stderr",
     "output_type": "stream",
     "text": [
      "==============================\n",
      "*** Open Babel Warning  in ReadMolecule\n",
      "  Failed to kekulize aromatic bonds in MOL2 file (title is 1rp0_AHZ_1_protein)\n",
      "\n"
     ]
    },
    {
     "name": "stdout",
     "output_type": "stream",
     "text": [
      "\n"
     ]
    },
    {
     "name": "stderr",
     "output_type": "stream",
     "text": [
      "==============================\n",
      "*** Open Babel Warning  in ReadMolecule\n",
      "  Failed to kekulize aromatic bonds in MOL2 file (title is 2i4v_DJR_1_protein)\n",
      "\n"
     ]
    },
    {
     "name": "stdout",
     "output_type": "stream",
     "text": [
      "\n"
     ]
    },
    {
     "name": "stderr",
     "output_type": "stream",
     "text": [
      "==============================\n",
      "*** Open Babel Warning  in ReadMolecule\n",
      "  Failed to kekulize aromatic bonds in MOL2 file (title is 4gqk_ADP_1_protein)\n",
      "\n"
     ]
    },
    {
     "name": "stdout",
     "output_type": "stream",
     "text": [
      "\n"
     ]
    },
    {
     "name": "stderr",
     "output_type": "stream",
     "text": [
      "==============================\n",
      "*** Open Babel Warning  in ReadMolecule\n",
      "  Failed to kekulize aromatic bonds in MOL2 file (title is 3uwk_0DF_2_protein)\n",
      "\n"
     ]
    },
    {
     "name": "stdout",
     "output_type": "stream",
     "text": [
      "\n"
     ]
    },
    {
     "name": "stderr",
     "output_type": "stream",
     "text": [
      "==============================\n",
      "*** Open Babel Warning  in ReadMolecule\n",
      "  Failed to kekulize aromatic bonds in MOL2 file (title is 1i58_ADP_2_protein)\n",
      "\n"
     ]
    },
    {
     "name": "stdout",
     "output_type": "stream",
     "text": [
      "\n"
     ]
    },
    {
     "name": "stderr",
     "output_type": "stream",
     "text": [
      "==============================\n",
      "*** Open Babel Warning  in ReadMolecule\n",
      "  Failed to kekulize aromatic bonds in MOL2 file (title is 1g4k_HQQ_2_protein)\n",
      "\n"
     ]
    },
    {
     "name": "stdout",
     "output_type": "stream",
     "text": [
      "\n"
     ]
    },
    {
     "name": "stderr",
     "output_type": "stream",
     "text": [
      "==============================\n",
      "*** Open Babel Warning  in ReadMolecule\n",
      "  Failed to kekulize aromatic bonds in MOL2 file (title is 4lu3_AZM_1_protein)\n",
      "\n"
     ]
    },
    {
     "name": "stdout",
     "output_type": "stream",
     "text": [
      "\n"
     ]
    },
    {
     "name": "stderr",
     "output_type": "stream",
     "text": [
      "==============================\n",
      "*** Open Babel Warning  in ReadMolecule\n",
      "  Failed to kekulize aromatic bonds in MOL2 file (title is 1td2_PXL_1_protein)\n",
      "\n"
     ]
    },
    {
     "name": "stdout",
     "output_type": "stream",
     "text": [
      "\n"
     ]
    },
    {
     "name": "stderr",
     "output_type": "stream",
     "text": [
      "==============================\n",
      "*** Open Babel Warning  in ReadMolecule\n",
      "  Failed to kekulize aromatic bonds in MOL2 file (title is 5cxx_FER_1_protein)\n",
      "\n"
     ]
    },
    {
     "name": "stdout",
     "output_type": "stream",
     "text": [
      "\n"
     ]
    },
    {
     "name": "stderr",
     "output_type": "stream",
     "text": [
      "==============================\n",
      "*** Open Babel Warning  in ReadMolecule\n",
      "  This Mol2 file is non-standard. Problem with molecule: 4x9m_FAD_1_protein Cannot interpret atom types correctly, instead attempting to interpret atom type: NI as elements instead.\n",
      "==============================\n",
      "*** Open Babel Warning  in Translate\n",
      "  Cannot perform atom type translation: table cannot find requested types.\n",
      "==============================\n",
      "*** Open Babel Warning  in ReadMolecule\n",
      "  Failed to kekulize aromatic bonds in MOL2 file (title is 4x9m_FAD_1_protein)\n",
      "\n"
     ]
    },
    {
     "name": "stdout",
     "output_type": "stream",
     "text": [
      "\n"
     ]
    },
    {
     "name": "stderr",
     "output_type": "stream",
     "text": [
      "==============================\n",
      "*** Open Babel Warning  in ReadMolecule\n",
      "  Failed to kekulize aromatic bonds in MOL2 file (title is 4ybr_NAP_1_protein)\n",
      "\n"
     ]
    },
    {
     "name": "stdout",
     "output_type": "stream",
     "text": [
      "\n"
     ]
    },
    {
     "name": "stderr",
     "output_type": "stream",
     "text": [
      "==============================\n",
      "*** Open Babel Warning  in ReadMolecule\n",
      "  Failed to kekulize aromatic bonds in MOL2 file (title is 2bd0_BIO_1_protein)\n",
      "\n"
     ]
    },
    {
     "name": "stdout",
     "output_type": "stream",
     "text": [
      "\n"
     ]
    },
    {
     "name": "stderr",
     "output_type": "stream",
     "text": [
      "==============================\n",
      "*** Open Babel Warning  in ReadMolecule\n",
      "  Failed to kekulize aromatic bonds in MOL2 file (title is 4bmz_MTA_1_protein)\n",
      "\n"
     ]
    },
    {
     "name": "stdout",
     "output_type": "stream",
     "text": [
      "\n"
     ]
    },
    {
     "name": "stderr",
     "output_type": "stream",
     "text": [
      "==============================\n",
      "*** Open Babel Warning  in ReadMolecule\n",
      "  Failed to kekulize aromatic bonds in MOL2 file (title is 5fpe_3TR_1_protein)\n",
      "\n"
     ]
    },
    {
     "name": "stdout",
     "output_type": "stream",
     "text": [
      "\n"
     ]
    },
    {
     "name": "stderr",
     "output_type": "stream",
     "text": [
      "==============================\n",
      "*** Open Babel Warning  in ReadMolecule\n",
      "  Failed to kekulize aromatic bonds in MOL2 file (title is 2b9i_ADP_1_protein)\n",
      "\n"
     ]
    },
    {
     "name": "stdout",
     "output_type": "stream",
     "text": [
      "\n"
     ]
    },
    {
     "name": "stderr",
     "output_type": "stream",
     "text": [
      "==============================\n",
      "*** Open Babel Warning  in ReadMolecule\n",
      "  Failed to kekulize aromatic bonds in MOL2 file (title is 3mqg_ACO_5_protein)\n",
      "\n"
     ]
    },
    {
     "name": "stdout",
     "output_type": "stream",
     "text": [
      "\n"
     ]
    },
    {
     "name": "stderr",
     "output_type": "stream",
     "text": [
      "==============================\n",
      "*** Open Babel Warning  in ReadMolecule\n",
      "  Failed to kekulize aromatic bonds in MOL2 file (title is 3c1o_NAP_1_protein)\n",
      "\n"
     ]
    },
    {
     "name": "stdout",
     "output_type": "stream",
     "text": [
      "\n"
     ]
    },
    {
     "name": "stderr",
     "output_type": "stream",
     "text": [
      "==============================\n",
      "*** Open Babel Warning  in ReadMolecule\n",
      "  Failed to kekulize aromatic bonds in MOL2 file (title is 1xds_DRA_1_protein)\n",
      "\n"
     ]
    },
    {
     "name": "stdout",
     "output_type": "stream",
     "text": [
      "\n"
     ]
    },
    {
     "name": "stderr",
     "output_type": "stream",
     "text": [
      "==============================\n",
      "*** Open Babel Warning  in ReadMolecule\n",
      "  Failed to kekulize aromatic bonds in MOL2 file (title is 4fgj_1PQ_2_protein)\n",
      "\n"
     ]
    },
    {
     "name": "stdout",
     "output_type": "stream",
     "text": [
      "\n"
     ]
    },
    {
     "name": "stderr",
     "output_type": "stream",
     "text": [
      "==============================\n",
      "*** Open Babel Warning  in ReadMolecule\n",
      "  Failed to kekulize aromatic bonds in MOL2 file (title is 1a5u_ATP_5_protein)\n",
      "\n"
     ]
    },
    {
     "name": "stdout",
     "output_type": "stream",
     "text": [
      "\n"
     ]
    },
    {
     "name": "stderr",
     "output_type": "stream",
     "text": [
      "==============================\n",
      "*** Open Babel Warning  in ReadMolecule\n",
      "  Failed to kekulize aromatic bonds in MOL2 file (title is 2ga9_AGS_1_protein)\n",
      "\n"
     ]
    },
    {
     "name": "stdout",
     "output_type": "stream",
     "text": [
      "\n"
     ]
    },
    {
     "name": "stderr",
     "output_type": "stream",
     "text": [
      "==============================\n",
      "*** Open Babel Warning  in ReadMolecule\n",
      "  Failed to kekulize aromatic bonds in MOL2 file (title is 1u8f_NAD_1_protein)\n",
      "\n"
     ]
    },
    {
     "name": "stdout",
     "output_type": "stream",
     "text": [
      "\n"
     ]
    },
    {
     "name": "stderr",
     "output_type": "stream",
     "text": [
      "==============================\n",
      "*** Open Babel Warning  in ReadMolecule\n",
      "  Failed to kekulize aromatic bonds in MOL2 file (title is 3d3x_ARG_ILE_MET_GLU_NH2_2_protein)\n",
      "\n"
     ]
    },
    {
     "name": "stdout",
     "output_type": "stream",
     "text": [
      "\n"
     ]
    },
    {
     "name": "stderr",
     "output_type": "stream",
     "text": [
      "==============================\n",
      "*** Open Babel Warning  in ReadMolecule\n",
      "  Failed to kekulize aromatic bonds in MOL2 file (title is 3ta0_ATP_1_protein)\n",
      "\n"
     ]
    },
    {
     "name": "stdout",
     "output_type": "stream",
     "text": [
      "\n"
     ]
    },
    {
     "name": "stderr",
     "output_type": "stream",
     "text": [
      "==============================\n",
      "*** Open Babel Warning  in ReadMolecule\n",
      "  Failed to kekulize aromatic bonds in MOL2 file (title is 1xkd_NAP_2_protein)\n",
      "\n"
     ]
    },
    {
     "name": "stdout",
     "output_type": "stream",
     "text": [
      "\n"
     ]
    },
    {
     "name": "stderr",
     "output_type": "stream",
     "text": [
      "==============================\n",
      "*** Open Babel Warning  in ReadMolecule\n",
      "  Failed to kekulize aromatic bonds in MOL2 file (title is 2zt5_B4P_1_protein)\n",
      "\n"
     ]
    },
    {
     "name": "stdout",
     "output_type": "stream",
     "text": [
      "\n"
     ]
    },
    {
     "name": "stderr",
     "output_type": "stream",
     "text": [
      "==============================\n",
      "*** Open Babel Warning  in ReadMolecule\n",
      "  Failed to kekulize aromatic bonds in MOL2 file (title is 2oan_ATP_1_protein)\n",
      "\n"
     ]
    },
    {
     "name": "stdout",
     "output_type": "stream",
     "text": [
      "\n"
     ]
    },
    {
     "name": "stderr",
     "output_type": "stream",
     "text": [
      "==============================\n",
      "*** Open Babel Warning  in ReadMolecule\n",
      "  Failed to kekulize aromatic bonds in MOL2 file (title is 1jq5_NAD_1_protein)\n",
      "\n"
     ]
    },
    {
     "name": "stdout",
     "output_type": "stream",
     "text": [
      "\n"
     ]
    },
    {
     "name": "stderr",
     "output_type": "stream",
     "text": [
      "==============================\n",
      "*** Open Babel Warning  in ReadMolecule\n",
      "  Failed to kekulize aromatic bonds in MOL2 file (title is 5f2k_SAH_1_protein)\n",
      "\n"
     ]
    },
    {
     "name": "stdout",
     "output_type": "stream",
     "text": [
      "\n"
     ]
    },
    {
     "name": "stderr",
     "output_type": "stream",
     "text": [
      "==============================\n",
      "*** Open Babel Warning  in ReadMolecule\n",
      "  Failed to kekulize aromatic bonds in MOL2 file (title is 1h66_FAD_6_protein)\n",
      "\n"
     ]
    },
    {
     "name": "stdout",
     "output_type": "stream",
     "text": [
      "\n"
     ]
    },
    {
     "name": "stderr",
     "output_type": "stream",
     "text": [
      "==============================\n",
      "*** Open Babel Warning  in ReadMolecule\n",
      "  Failed to kekulize aromatic bonds in MOL2 file (title is 2y65_ADP_2_protein)\n",
      "\n"
     ]
    },
    {
     "name": "stdout",
     "output_type": "stream",
     "text": [
      "\n"
     ]
    },
    {
     "name": "stderr",
     "output_type": "stream",
     "text": [
      "==============================\n",
      "*** Open Babel Warning  in ReadMolecule\n",
      "  Failed to kekulize aromatic bonds in MOL2 file (title is 5fuv_THM_1_protein)\n",
      "\n"
     ]
    },
    {
     "name": "stdout",
     "output_type": "stream",
     "text": [
      "\n"
     ]
    },
    {
     "name": "stderr",
     "output_type": "stream",
     "text": [
      "==============================\n",
      "*** Open Babel Warning  in ReadMolecule\n",
      "  Failed to kekulize aromatic bonds in MOL2 file (title is 2vbv_FMN_2_protein)\n",
      "\n"
     ]
    },
    {
     "name": "stdout",
     "output_type": "stream",
     "text": [
      "\n"
     ]
    },
    {
     "name": "stderr",
     "output_type": "stream",
     "text": [
      "==============================\n",
      "*** Open Babel Warning  in ReadMolecule\n",
      "  Failed to kekulize aromatic bonds in MOL2 file (title is 1r5l_VIV_1_protein)\n",
      "\n"
     ]
    },
    {
     "name": "stdout",
     "output_type": "stream",
     "text": [
      "\n"
     ]
    },
    {
     "name": "stderr",
     "output_type": "stream",
     "text": [
      "==============================\n",
      "*** Open Babel Warning  in ReadMolecule\n",
      "  Failed to kekulize aromatic bonds in MOL2 file (title is 3kic_D5M_1_protein)\n",
      "\n"
     ]
    },
    {
     "name": "stdout",
     "output_type": "stream",
     "text": [
      "\n"
     ]
    },
    {
     "name": "stderr",
     "output_type": "stream",
     "text": [
      "==============================\n",
      "*** Open Babel Warning  in ReadMolecule\n",
      "  Failed to kekulize aromatic bonds in MOL2 file (title is 3n4k_SAH_1_protein)\n",
      "\n"
     ]
    },
    {
     "name": "stdout",
     "output_type": "stream",
     "text": [
      "\n"
     ]
    },
    {
     "name": "stderr",
     "output_type": "stream",
     "text": [
      "==============================\n",
      "*** Open Babel Warning  in ReadMolecule\n",
      "  Failed to kekulize aromatic bonds in MOL2 file (title is 5itz_GTP_2_protein)\n",
      "\n"
     ]
    },
    {
     "name": "stdout",
     "output_type": "stream",
     "text": [
      "\n"
     ]
    },
    {
     "name": "stderr",
     "output_type": "stream",
     "text": [
      "==============================\n",
      "*** Open Babel Warning  in ReadMolecule\n",
      "  Failed to kekulize aromatic bonds in MOL2 file (title is 1zp4_C2F_3_protein)\n",
      "\n"
     ]
    },
    {
     "name": "stdout",
     "output_type": "stream",
     "text": [
      "\n"
     ]
    },
    {
     "name": "stderr",
     "output_type": "stream",
     "text": [
      "==============================\n",
      "*** Open Babel Warning  in ReadMolecule\n",
      "  Failed to kekulize aromatic bonds in MOL2 file (title is 3w77_FMN_2_protein)\n",
      "\n"
     ]
    },
    {
     "name": "stdout",
     "output_type": "stream",
     "text": [
      "\n"
     ]
    },
    {
     "name": "stderr",
     "output_type": "stream",
     "text": [
      "==============================\n",
      "*** Open Babel Warning  in ReadMolecule\n",
      "  Failed to kekulize aromatic bonds in MOL2 file (title is 3akn_11D_1_protein)\n",
      "\n"
     ]
    },
    {
     "name": "stdout",
     "output_type": "stream",
     "text": [
      "\n"
     ]
    },
    {
     "name": "stderr",
     "output_type": "stream",
     "text": [
      "==============================\n",
      "*** Open Babel Warning  in ReadMolecule\n",
      "  Failed to kekulize aromatic bonds in MOL2 file (title is 2hpv_FMN_4_protein)\n",
      "\n"
     ]
    },
    {
     "name": "stdout",
     "output_type": "stream",
     "text": [
      "\n"
     ]
    },
    {
     "name": "stderr",
     "output_type": "stream",
     "text": [
      "==============================\n",
      "*** Open Babel Warning  in ReadMolecule\n",
      "  Failed to kekulize aromatic bonds in MOL2 file (title is 2r96_FMN_2_protein)\n",
      "\n"
     ]
    },
    {
     "name": "stdout",
     "output_type": "stream",
     "text": [
      "\n"
     ]
    },
    {
     "name": "stderr",
     "output_type": "stream",
     "text": [
      "==============================\n",
      "*** Open Babel Warning  in ReadMolecule\n",
      "  Failed to kekulize aromatic bonds in MOL2 file (title is 2eix_FAD_2_protein)\n",
      "\n"
     ]
    },
    {
     "name": "stdout",
     "output_type": "stream",
     "text": [
      "\n"
     ]
    },
    {
     "name": "stderr",
     "output_type": "stream",
     "text": [
      "==============================\n",
      "*** Open Babel Warning  in ReadMolecule\n",
      "  Failed to kekulize aromatic bonds in MOL2 file (title is 4riy_ANP_1_protein)\n",
      "\n"
     ]
    },
    {
     "name": "stdout",
     "output_type": "stream",
     "text": [
      "\n"
     ]
    },
    {
     "name": "stderr",
     "output_type": "stream",
     "text": [
      "==============================\n",
      "*** Open Babel Warning  in ReadMolecule\n",
      "  Failed to kekulize aromatic bonds in MOL2 file (title is 1oyy_AGS_1_protein)\n",
      "\n"
     ]
    },
    {
     "name": "stdout",
     "output_type": "stream",
     "text": [
      "\n"
     ]
    },
    {
     "name": "stderr",
     "output_type": "stream",
     "text": [
      "==============================\n",
      "*** Open Babel Warning  in ReadMolecule\n",
      "  Failed to kekulize aromatic bonds in MOL2 file (title is 5ftc_ADP_1_protein)\n",
      "\n"
     ]
    },
    {
     "name": "stdout",
     "output_type": "stream",
     "text": [
      "\n"
     ]
    },
    {
     "name": "stderr",
     "output_type": "stream",
     "text": [
      "==============================\n",
      "*** Open Babel Warning  in ReadMolecule\n",
      "  Failed to kekulize aromatic bonds in MOL2 file (title is 4iok_ADP_1_protein)\n",
      "\n"
     ]
    },
    {
     "name": "stdout",
     "output_type": "stream",
     "text": [
      "\n"
     ]
    },
    {
     "name": "stderr",
     "output_type": "stream",
     "text": [
      "==============================\n",
      "*** Open Babel Warning  in ReadMolecule\n",
      "  Failed to kekulize aromatic bonds in MOL2 file (title is 4g31_0WH_1_protein)\n",
      "\n"
     ]
    },
    {
     "name": "stdout",
     "output_type": "stream",
     "text": [
      "\n"
     ]
    },
    {
     "name": "stderr",
     "output_type": "stream",
     "text": [
      "==============================\n",
      "*** Open Babel Warning  in ReadMolecule\n",
      "  Failed to kekulize aromatic bonds in MOL2 file (title is 3chw_ATP_1_protein)\n",
      "\n"
     ]
    },
    {
     "name": "stdout",
     "output_type": "stream",
     "text": [
      "\n"
     ]
    },
    {
     "name": "stderr",
     "output_type": "stream",
     "text": [
      "==============================\n",
      "*** Open Babel Warning  in ReadMolecule\n",
      "  Failed to kekulize aromatic bonds in MOL2 file (title is 4qys_PLR_1_protein)\n",
      "\n"
     ]
    },
    {
     "name": "stdout",
     "output_type": "stream",
     "text": [
      "\n"
     ]
    },
    {
     "name": "stderr",
     "output_type": "stream",
     "text": [
      "==============================\n",
      "*** Open Babel Warning  in ReadMolecule\n",
      "  Failed to kekulize aromatic bonds in MOL2 file (title is 4koa_NDP_1_protein)\n",
      "\n"
     ]
    },
    {
     "name": "stdout",
     "output_type": "stream",
     "text": [
      "\n"
     ]
    },
    {
     "name": "stderr",
     "output_type": "stream",
     "text": [
      "==============================\n",
      "*** Open Babel Warning  in ReadMolecule\n",
      "  Failed to kekulize aromatic bonds in MOL2 file (title is 4rgs_V55_1_protein)\n",
      "\n"
     ]
    },
    {
     "name": "stdout",
     "output_type": "stream",
     "text": [
      "\n"
     ]
    },
    {
     "name": "stderr",
     "output_type": "stream",
     "text": [
      "==============================\n",
      "*** Open Babel Warning  in ReadMolecule\n",
      "  Failed to kekulize aromatic bonds in MOL2 file (title is 1cs4_GSP_3_protein)\n",
      "\n"
     ]
    },
    {
     "name": "stdout",
     "output_type": "stream",
     "text": [
      "\n"
     ]
    },
    {
     "name": "stderr",
     "output_type": "stream",
     "text": [
      "==============================\n",
      "*** Open Babel Warning  in ReadMolecule\n",
      "  Failed to kekulize aromatic bonds in MOL2 file (title is 2fr0_NDP_1_protein)\n",
      "\n"
     ]
    },
    {
     "name": "stdout",
     "output_type": "stream",
     "text": [
      "\n"
     ]
    },
    {
     "name": "stderr",
     "output_type": "stream",
     "text": [
      "==============================\n",
      "*** Open Babel Warning  in ReadMolecule\n",
      "  Failed to kekulize aromatic bonds in MOL2 file (title is 3zuk_RDF_3_protein)\n",
      "\n"
     ]
    },
    {
     "name": "stdout",
     "output_type": "stream",
     "text": [
      "\n"
     ]
    },
    {
     "name": "stderr",
     "output_type": "stream",
     "text": [
      "==============================\n",
      "*** Open Babel Warning  in ReadMolecule\n",
      "  Failed to kekulize aromatic bonds in MOL2 file (title is 3lm8_VIB_4_protein)\n",
      "\n"
     ]
    },
    {
     "name": "stdout",
     "output_type": "stream",
     "text": [
      "\n"
     ]
    },
    {
     "name": "stderr",
     "output_type": "stream",
     "text": [
      "==============================\n",
      "*** Open Babel Warning  in ReadMolecule\n",
      "  Failed to kekulize aromatic bonds in MOL2 file (title is 1o5i_NAD_1_protein)\n",
      "\n"
     ]
    },
    {
     "name": "stdout",
     "output_type": "stream",
     "text": [
      "\n"
     ]
    },
    {
     "name": "stderr",
     "output_type": "stream",
     "text": [
      "==============================\n",
      "*** Open Babel Warning  in ReadMolecule\n",
      "  Failed to kekulize aromatic bonds in MOL2 file (title is 3nyr_MLC_1_protein)\n",
      "\n"
     ]
    },
    {
     "name": "stdout",
     "output_type": "stream",
     "text": [
      "\n"
     ]
    },
    {
     "name": "stderr",
     "output_type": "stream",
     "text": [
      "==============================\n",
      "*** Open Babel Warning  in ReadMolecule\n",
      "  Failed to kekulize aromatic bonds in MOL2 file (title is 3ix9_MTX_2_protein)\n",
      "\n"
     ]
    },
    {
     "name": "stdout",
     "output_type": "stream",
     "text": [
      "\n"
     ]
    },
    {
     "name": "stderr",
     "output_type": "stream",
     "text": [
      "==============================\n",
      "*** Open Babel Warning  in ReadMolecule\n",
      "  Failed to kekulize aromatic bonds in MOL2 file (title is 3ge1_ADP_3_protein)\n",
      "\n"
     ]
    },
    {
     "name": "stdout",
     "output_type": "stream",
     "text": [
      "\n"
     ]
    },
    {
     "name": "stderr",
     "output_type": "stream",
     "text": [
      "==============================\n",
      "*** Open Babel Warning  in ReadMolecule\n",
      "  Failed to kekulize aromatic bonds in MOL2 file (title is 4ydd_MGD_1_protein)\n",
      "\n"
     ]
    },
    {
     "name": "stdout",
     "output_type": "stream",
     "text": [
      "\n"
     ]
    },
    {
     "name": "stderr",
     "output_type": "stream",
     "text": [
      "==============================\n",
      "*** Open Babel Warning  in ReadMolecule\n",
      "  Failed to kekulize aromatic bonds in MOL2 file (title is 4l4x_NDP_1_protein)\n",
      "\n"
     ]
    },
    {
     "name": "stdout",
     "output_type": "stream",
     "text": [
      "\n"
     ]
    },
    {
     "name": "stderr",
     "output_type": "stream",
     "text": [
      "==============================\n",
      "*** Open Babel Warning  in ReadMolecule\n",
      "  Failed to kekulize aromatic bonds in MOL2 file (title is 2xzw_ATP_7_protein)\n",
      "\n"
     ]
    },
    {
     "name": "stdout",
     "output_type": "stream",
     "text": [
      "\n"
     ]
    },
    {
     "name": "stderr",
     "output_type": "stream",
     "text": [
      "==============================\n",
      "*** Open Babel Warning  in ReadMolecule\n",
      "  Failed to kekulize aromatic bonds in MOL2 file (title is 2i76_NDP_1_protein)\n",
      "\n"
     ]
    },
    {
     "name": "stdout",
     "output_type": "stream",
     "text": [
      "\n"
     ]
    },
    {
     "name": "stderr",
     "output_type": "stream",
     "text": [
      "==============================\n",
      "*** Open Babel Warning  in ReadMolecule\n",
      "  Failed to kekulize aromatic bonds in MOL2 file (title is 2ha8_SAH_1_protein)\n",
      "\n"
     ]
    },
    {
     "name": "stdout",
     "output_type": "stream",
     "text": [
      "\n"
     ]
    },
    {
     "name": "stderr",
     "output_type": "stream",
     "text": [
      "==============================\n",
      "*** Open Babel Warning  in ReadMolecule\n",
      "  Failed to kekulize aromatic bonds in MOL2 file (title is 3lpg_Z78_1_protein)\n",
      "\n"
     ]
    },
    {
     "name": "stdout",
     "output_type": "stream",
     "text": [
      "\n"
     ]
    },
    {
     "name": "stderr",
     "output_type": "stream",
     "text": [
      "==============================\n",
      "*** Open Babel Warning  in ReadMolecule\n",
      "  Failed to kekulize aromatic bonds in MOL2 file (title is 4msf_3HY_1_protein)\n",
      "\n"
     ]
    },
    {
     "name": "stdout",
     "output_type": "stream",
     "text": [
      "\n"
     ]
    },
    {
     "name": "stderr",
     "output_type": "stream",
     "text": [
      "==============================\n",
      "*** Open Babel Warning  in ReadMolecule\n",
      "  Failed to kekulize aromatic bonds in MOL2 file (title is 4mzq_1VU_5_protein)\n",
      "\n"
     ]
    },
    {
     "name": "stdout",
     "output_type": "stream",
     "text": [
      "\n"
     ]
    },
    {
     "name": "stderr",
     "output_type": "stream",
     "text": [
      "==============================\n",
      "*** Open Babel Warning  in ReadMolecule\n",
      "  Failed to kekulize aromatic bonds in MOL2 file (title is 4guk_P2G_2_protein)\n",
      "\n"
     ]
    },
    {
     "name": "stdout",
     "output_type": "stream",
     "text": [
      "\n"
     ]
    },
    {
     "name": "stderr",
     "output_type": "stream",
     "text": [
      "==============================\n",
      "*** Open Babel Warning  in ReadMolecule\n",
      "  Failed to kekulize aromatic bonds in MOL2 file (title is 1yb5_NAP_2_protein)\n",
      "\n"
     ]
    },
    {
     "name": "stdout",
     "output_type": "stream",
     "text": [
      "\n"
     ]
    },
    {
     "name": "stderr",
     "output_type": "stream",
     "text": [
      "==============================\n",
      "*** Open Babel Warning  in ReadMolecule\n",
      "  This Mol2 file is non-standard. Problem with molecule: 1jvm_TBA_1_protein Cannot interpret atom types correctly, instead attempting to interpret atom type: RB as elements instead.\n",
      "==============================\n",
      "*** Open Babel Warning  in Translate\n",
      "  Cannot perform atom type translation: table cannot find requested types.\n",
      "==============================\n",
      "*** Open Babel Warning  in ReadMolecule\n",
      "  This Mol2 file is non-standard. Problem with molecule: 1jvm_TBA_1_protein Cannot interpret atom types correctly, instead attempting to interpret atom type: RB as elements instead.\n",
      "==============================\n",
      "*** Open Babel Warning  in Translate\n",
      "  Cannot perform atom type translation: table cannot find requested types.\n",
      "==============================\n",
      "*** Open Babel Warning  in ReadMolecule\n",
      "  This Mol2 file is non-standard. Problem with molecule: 1jvm_TBA_1_protein Cannot interpret atom types correctly, instead attempting to interpret atom type: RB as elements instead.\n",
      "==============================\n",
      "*** Open Babel Warning  in Translate\n",
      "  Cannot perform atom type translation: table cannot find requested types.\n",
      "==============================\n",
      "*** Open Babel Warning  in ReadMolecule\n",
      "  Failed to kekulize aromatic bonds in MOL2 file (title is 1jvm_TBA_1_protein)\n",
      "\n"
     ]
    },
    {
     "name": "stdout",
     "output_type": "stream",
     "text": [
      "\n"
     ]
    },
    {
     "name": "stderr",
     "output_type": "stream",
     "text": [
      "==============================\n",
      "*** Open Babel Warning  in ReadMolecule\n",
      "  Failed to kekulize aromatic bonds in MOL2 file (title is 1gq2_NAP_5_protein)\n",
      "\n"
     ]
    },
    {
     "name": "stdout",
     "output_type": "stream",
     "text": [
      "\n"
     ]
    },
    {
     "name": "stderr",
     "output_type": "stream",
     "text": [
      "==============================\n",
      "*** Open Babel Warning  in ReadMolecule\n",
      "  Failed to kekulize aromatic bonds in MOL2 file (title is 3gwd_NAP_2_protein)\n",
      "\n"
     ]
    },
    {
     "name": "stdout",
     "output_type": "stream",
     "text": [
      "\n"
     ]
    },
    {
     "name": "stderr",
     "output_type": "stream",
     "text": [
      "==============================\n",
      "*** Open Babel Warning  in ReadMolecule\n",
      "  This Mol2 file is non-standard. Problem with molecule: 5fli_QUE_7_protein Cannot interpret atom types correctly, instead attempting to interpret atom type: NI as elements instead.\n",
      "==============================\n",
      "*** Open Babel Warning  in Translate\n",
      "  Cannot perform atom type translation: table cannot find requested types.\n",
      "==============================\n",
      "*** Open Babel Warning  in ReadMolecule\n",
      "  Failed to kekulize aromatic bonds in MOL2 file (title is 5fli_QUE_7_protein)\n",
      "\n"
     ]
    },
    {
     "name": "stdout",
     "output_type": "stream",
     "text": [
      "\n"
     ]
    },
    {
     "name": "stderr",
     "output_type": "stream",
     "text": [
      "==============================\n",
      "*** Open Babel Warning  in ReadMolecule\n",
      "  Failed to kekulize aromatic bonds in MOL2 file (title is 3zkn_WZV_1_protein)\n",
      "\n"
     ]
    },
    {
     "name": "stdout",
     "output_type": "stream",
     "text": [
      "\n"
     ]
    },
    {
     "name": "stderr",
     "output_type": "stream",
     "text": [
      "==============================\n",
      "*** Open Babel Warning  in ReadMolecule\n",
      "  Failed to kekulize aromatic bonds in MOL2 file (title is 1x8j_AOI_1_protein)\n",
      "\n"
     ]
    },
    {
     "name": "stdout",
     "output_type": "stream",
     "text": [
      "\n"
     ]
    },
    {
     "name": "stderr",
     "output_type": "stream",
     "text": [
      "==============================\n",
      "*** Open Babel Warning  in ReadMolecule\n",
      "  Failed to kekulize aromatic bonds in MOL2 file (title is 3mq4_Z99_1_protein)\n",
      "\n"
     ]
    },
    {
     "name": "stdout",
     "output_type": "stream",
     "text": [
      "\n"
     ]
    },
    {
     "name": "stderr",
     "output_type": "stream",
     "text": [
      "==============================\n",
      "*** Open Babel Warning  in ReadMolecule\n",
      "  Failed to kekulize aromatic bonds in MOL2 file (title is 1bxg_HCI_2_protein)\n",
      "\n"
     ]
    },
    {
     "name": "stdout",
     "output_type": "stream",
     "text": [
      "\n"
     ]
    },
    {
     "name": "stderr",
     "output_type": "stream",
     "text": [
      "==============================\n",
      "*** Open Babel Warning  in ReadMolecule\n",
      "  Failed to kekulize aromatic bonds in MOL2 file (title is 2wm4_VGJ_1_protein)\n",
      "\n"
     ]
    },
    {
     "name": "stdout",
     "output_type": "stream",
     "text": [
      "\n"
     ]
    },
    {
     "name": "stderr",
     "output_type": "stream",
     "text": [
      "==============================\n",
      "*** Open Babel Warning  in ReadMolecule\n",
      "  Failed to kekulize aromatic bonds in MOL2 file (title is 1vp5_NAP_2_protein)\n",
      "\n"
     ]
    },
    {
     "name": "stdout",
     "output_type": "stream",
     "text": [
      "\n"
     ]
    },
    {
     "name": "stderr",
     "output_type": "stream",
     "text": [
      "==============================\n",
      "*** Open Babel Warning  in ReadMolecule\n",
      "  Failed to kekulize aromatic bonds in MOL2 file (title is 2c3y_HTL_2_protein)\n",
      "\n"
     ]
    },
    {
     "name": "stdout",
     "output_type": "stream",
     "text": [
      "\n"
     ]
    },
    {
     "name": "stderr",
     "output_type": "stream",
     "text": [
      "==============================\n",
      "*** Open Babel Warning  in ReadMolecule\n",
      "  Failed to kekulize aromatic bonds in MOL2 file (title is 1z4i_UMP_1_protein)\n",
      "\n"
     ]
    },
    {
     "name": "stdout",
     "output_type": "stream",
     "text": [
      "\n"
     ]
    },
    {
     "name": "stderr",
     "output_type": "stream",
     "text": [
      "==============================\n",
      "*** Open Babel Warning  in ReadMolecule\n",
      "  Failed to kekulize aromatic bonds in MOL2 file (title is 1giq_NAI_2_protein)\n",
      "\n"
     ]
    },
    {
     "name": "stdout",
     "output_type": "stream",
     "text": [
      "\n"
     ]
    },
    {
     "name": "stderr",
     "output_type": "stream",
     "text": [
      "==============================\n",
      "*** Open Babel Warning  in ReadMolecule\n",
      "  Failed to kekulize aromatic bonds in MOL2 file (title is 1b9i_PXG_1_protein)\n",
      "\n"
     ]
    },
    {
     "name": "stdout",
     "output_type": "stream",
     "text": [
      "\n"
     ]
    },
    {
     "name": "stderr",
     "output_type": "stream",
     "text": [
      "==============================\n",
      "*** Open Babel Warning  in ReadMolecule\n",
      "  Failed to kekulize aromatic bonds in MOL2 file (title is 4eqr_FAD_2_protein)\n",
      "\n"
     ]
    },
    {
     "name": "stdout",
     "output_type": "stream",
     "text": [
      "\n"
     ]
    },
    {
     "name": "stderr",
     "output_type": "stream",
     "text": [
      "==============================\n",
      "*** Open Babel Warning  in ReadMolecule\n",
      "  Failed to kekulize aromatic bonds in MOL2 file (title is 2pmi_AGS_1_protein)\n",
      "\n"
     ]
    },
    {
     "name": "stdout",
     "output_type": "stream",
     "text": [
      "\n"
     ]
    },
    {
     "name": "stderr",
     "output_type": "stream",
     "text": [
      "==============================\n",
      "*** Open Babel Warning  in ReadMolecule\n",
      "  Failed to kekulize aromatic bonds in MOL2 file (title is 3uel_A1R_1_protein)\n",
      "\n"
     ]
    },
    {
     "name": "stdout",
     "output_type": "stream",
     "text": [
      "\n"
     ]
    },
    {
     "name": "stderr",
     "output_type": "stream",
     "text": [
      "==============================\n",
      "*** Open Babel Warning  in ReadMolecule\n",
      "  Failed to kekulize aromatic bonds in MOL2 file (title is 4xye_NAD_2_protein)\n",
      "\n"
     ]
    },
    {
     "name": "stdout",
     "output_type": "stream",
     "text": [
      "\n"
     ]
    },
    {
     "name": "stderr",
     "output_type": "stream",
     "text": [
      "==============================\n",
      "*** Open Babel Warning  in ReadMolecule\n",
      "  Failed to kekulize aromatic bonds in MOL2 file (title is 2ch6_ADP_3_protein)\n",
      "\n"
     ]
    },
    {
     "name": "stdout",
     "output_type": "stream",
     "text": [
      "\n"
     ]
    },
    {
     "name": "stderr",
     "output_type": "stream",
     "text": [
      "==============================\n",
      "*** Open Babel Warning  in ReadMolecule\n",
      "  Failed to kekulize aromatic bonds in MOL2 file (title is 1cy7_TMP_1_protein)\n",
      "\n"
     ]
    },
    {
     "name": "stdout",
     "output_type": "stream",
     "text": [
      "\n"
     ]
    },
    {
     "name": "stderr",
     "output_type": "stream",
     "text": [
      "==============================\n",
      "*** Open Babel Warning  in ReadMolecule\n",
      "  Failed to kekulize aromatic bonds in MOL2 file (title is 3c4w_ATP_2_protein)\n",
      "\n"
     ]
    },
    {
     "name": "stdout",
     "output_type": "stream",
     "text": [
      "\n"
     ]
    },
    {
     "name": "stderr",
     "output_type": "stream",
     "text": [
      "==============================\n",
      "*** Open Babel Warning  in ReadMolecule\n",
      "  Failed to kekulize aromatic bonds in MOL2 file (title is 2gil_GTP_1_protein)\n",
      "\n"
     ]
    },
    {
     "name": "stdout",
     "output_type": "stream",
     "text": [
      "\n"
     ]
    },
    {
     "name": "stderr",
     "output_type": "stream",
     "text": [
      "==============================\n",
      "*** Open Babel Warning  in ReadMolecule\n",
      "  Failed to kekulize aromatic bonds in MOL2 file (title is 2c12_FAD_2_protein)\n",
      "\n"
     ]
    },
    {
     "name": "stdout",
     "output_type": "stream",
     "text": [
      "\n"
     ]
    },
    {
     "name": "stderr",
     "output_type": "stream",
     "text": [
      "==============================\n",
      "*** Open Babel Warning  in ReadMolecule\n",
      "  Failed to kekulize aromatic bonds in MOL2 file (title is 2cnt_COA_1_protein)\n",
      "\n"
     ]
    },
    {
     "name": "stdout",
     "output_type": "stream",
     "text": [
      "\n"
     ]
    },
    {
     "name": "stderr",
     "output_type": "stream",
     "text": [
      "==============================\n",
      "*** Open Babel Warning  in ReadMolecule\n",
      "  Failed to kekulize aromatic bonds in MOL2 file (title is 3i8p_840_1_protein)\n",
      "\n"
     ]
    },
    {
     "name": "stdout",
     "output_type": "stream",
     "text": [
      "\n"
     ]
    },
    {
     "name": "stderr",
     "output_type": "stream",
     "text": [
      "==============================\n",
      "*** Open Babel Warning  in ReadMolecule\n",
      "  Failed to kekulize aromatic bonds in MOL2 file (title is 2npi_ATP_2_protein)\n",
      "\n"
     ]
    },
    {
     "name": "stdout",
     "output_type": "stream",
     "text": [
      "\n"
     ]
    },
    {
     "name": "stderr",
     "output_type": "stream",
     "text": [
      "==============================\n",
      "*** Open Babel Warning  in ReadMolecule\n",
      "  Failed to kekulize aromatic bonds in MOL2 file (title is 3t87_UBZ_1_protein)\n",
      "\n"
     ]
    },
    {
     "name": "stdout",
     "output_type": "stream",
     "text": [
      "\n"
     ]
    },
    {
     "name": "stderr",
     "output_type": "stream",
     "text": [
      "==============================\n",
      "*** Open Babel Warning  in ReadMolecule\n",
      "  Failed to kekulize aromatic bonds in MOL2 file (title is 2avx_HTF_1_protein)\n",
      "\n"
     ]
    },
    {
     "name": "stdout",
     "output_type": "stream",
     "text": [
      "\n"
     ]
    },
    {
     "name": "stderr",
     "output_type": "stream",
     "text": [
      "==============================\n",
      "*** Open Babel Warning  in ReadMolecule\n",
      "  Failed to kekulize aromatic bonds in MOL2 file (title is 3oum_TOF_1_protein)\n",
      "\n"
     ]
    },
    {
     "name": "stdout",
     "output_type": "stream",
     "text": [
      "\n"
     ]
    },
    {
     "name": "stderr",
     "output_type": "stream",
     "text": [
      "==============================\n",
      "*** Open Babel Warning  in ReadMolecule\n",
      "  Failed to kekulize aromatic bonds in MOL2 file (title is 5hvn_NAD_1_protein)\n",
      "\n"
     ]
    },
    {
     "name": "stdout",
     "output_type": "stream",
     "text": [
      "\n"
     ]
    },
    {
     "name": "stderr",
     "output_type": "stream",
     "text": [
      "==============================\n",
      "*** Open Babel Warning  in ReadMolecule\n",
      "  Failed to kekulize aromatic bonds in MOL2 file (title is 3dko_IHZ_1_protein)\n",
      "\n"
     ]
    },
    {
     "name": "stdout",
     "output_type": "stream",
     "text": [
      "\n"
     ]
    },
    {
     "name": "stderr",
     "output_type": "stream",
     "text": [
      "==============================\n",
      "*** Open Babel Warning  in ReadMolecule\n",
      "  Failed to kekulize aromatic bonds in MOL2 file (title is 3hng_8ST_1_protein)\n",
      "\n"
     ]
    },
    {
     "name": "stdout",
     "output_type": "stream",
     "text": [
      "\n"
     ]
    },
    {
     "name": "stderr",
     "output_type": "stream",
     "text": [
      "==============================\n",
      "*** Open Babel Warning  in ReadMolecule\n",
      "  Failed to kekulize aromatic bonds in MOL2 file (title is 1xng_DND_2_protein)\n",
      "\n"
     ]
    },
    {
     "name": "stdout",
     "output_type": "stream",
     "text": [
      "\n"
     ]
    },
    {
     "name": "stderr",
     "output_type": "stream",
     "text": [
      "==============================\n",
      "*** Open Babel Warning  in ReadMolecule\n",
      "  Failed to kekulize aromatic bonds in MOL2 file (title is 3ref_GDP_2_protein)\n",
      "\n"
     ]
    },
    {
     "name": "stdout",
     "output_type": "stream",
     "text": [
      "\n"
     ]
    },
    {
     "name": "stderr",
     "output_type": "stream",
     "text": [
      "==============================\n",
      "*** Open Babel Warning  in ReadMolecule\n",
      "  Failed to kekulize aromatic bonds in MOL2 file (title is 1i24_UPG_1_protein)\n",
      "\n"
     ]
    },
    {
     "name": "stdout",
     "output_type": "stream",
     "text": [
      "\n"
     ]
    },
    {
     "name": "stderr",
     "output_type": "stream",
     "text": [
      "==============================\n",
      "*** Open Babel Warning  in ReadMolecule\n",
      "  Failed to kekulize aromatic bonds in MOL2 file (title is 2jle_I15_1_protein)\n",
      "\n"
     ]
    },
    {
     "name": "stdout",
     "output_type": "stream",
     "text": [
      "\n"
     ]
    },
    {
     "name": "stderr",
     "output_type": "stream",
     "text": [
      "==============================\n",
      "*** Open Babel Warning  in ReadMolecule\n",
      "  Failed to kekulize aromatic bonds in MOL2 file (title is 4a2b_AGS_1_protein)\n",
      "\n"
     ]
    },
    {
     "name": "stdout",
     "output_type": "stream",
     "text": [
      "\n"
     ]
    },
    {
     "name": "stderr",
     "output_type": "stream",
     "text": [
      "==============================\n",
      "*** Open Babel Warning  in ReadMolecule\n",
      "  Failed to kekulize aromatic bonds in MOL2 file (title is 1mjt_NAD_3_protein)\n",
      "\n"
     ]
    },
    {
     "name": "stdout",
     "output_type": "stream",
     "text": [
      "\n"
     ]
    },
    {
     "name": "stderr",
     "output_type": "stream",
     "text": [
      "==============================\n",
      "*** Open Babel Warning  in ReadMolecule\n",
      "  Failed to kekulize aromatic bonds in MOL2 file (title is 3isi_B88_1_protein)\n",
      "\n"
     ]
    },
    {
     "name": "stdout",
     "output_type": "stream",
     "text": [
      "\n"
     ]
    },
    {
     "name": "stderr",
     "output_type": "stream",
     "text": [
      "==============================\n",
      "*** Open Babel Warning  in ReadMolecule\n",
      "  Failed to kekulize aromatic bonds in MOL2 file (title is 4nte_FAD_2_protein)\n",
      "\n"
     ]
    },
    {
     "name": "stdout",
     "output_type": "stream",
     "text": [
      "\n"
     ]
    },
    {
     "name": "stderr",
     "output_type": "stream",
     "text": [
      "==============================\n",
      "*** Open Babel Warning  in ReadMolecule\n",
      "  Failed to kekulize aromatic bonds in MOL2 file (title is 3hlw_CE3_3_protein)\n",
      "\n"
     ]
    },
    {
     "name": "stdout",
     "output_type": "stream",
     "text": [
      "\n"
     ]
    },
    {
     "name": "stderr",
     "output_type": "stream",
     "text": [
      "==============================\n",
      "*** Open Babel Warning  in ReadMolecule\n",
      "  Failed to kekulize aromatic bonds in MOL2 file (title is 4bup_SAM_1_protein)\n",
      "\n"
     ]
    },
    {
     "name": "stdout",
     "output_type": "stream",
     "text": [
      "\n"
     ]
    },
    {
     "name": "stderr",
     "output_type": "stream",
     "text": [
      "==============================\n",
      "*** Open Babel Warning  in ReadMolecule\n",
      "  Failed to kekulize aromatic bonds in MOL2 file (title is 1hsk_FAD_1_protein)\n",
      "\n"
     ]
    },
    {
     "name": "stdout",
     "output_type": "stream",
     "text": [
      "\n"
     ]
    },
    {
     "name": "stderr",
     "output_type": "stream",
     "text": [
      "==============================\n",
      "*** Open Babel Warning  in ReadMolecule\n",
      "  Failed to kekulize aromatic bonds in MOL2 file (title is 4j56_FAD_1_protein)\n",
      "\n"
     ]
    },
    {
     "name": "stdout",
     "output_type": "stream",
     "text": [
      "\n"
     ]
    },
    {
     "name": "stderr",
     "output_type": "stream",
     "text": [
      "==============================\n",
      "*** Open Babel Warning  in ReadMolecule\n",
      "  Failed to kekulize aromatic bonds in MOL2 file (title is 4oze_24G_1_protein)\n",
      "\n"
     ]
    },
    {
     "name": "stdout",
     "output_type": "stream",
     "text": [
      "\n"
     ]
    },
    {
     "name": "stderr",
     "output_type": "stream",
     "text": [
      "==============================\n",
      "*** Open Babel Warning  in ReadMolecule\n",
      "  Failed to kekulize aromatic bonds in MOL2 file (title is 2zif_SAM_2_protein)\n",
      "\n"
     ]
    },
    {
     "name": "stdout",
     "output_type": "stream",
     "text": [
      "\n"
     ]
    },
    {
     "name": "stderr",
     "output_type": "stream",
     "text": [
      "==============================\n",
      "*** Open Babel Warning  in ReadMolecule\n",
      "  Failed to kekulize aromatic bonds in MOL2 file (title is 2nu9_COA_1_protein)\n",
      "\n"
     ]
    },
    {
     "name": "stdout",
     "output_type": "stream",
     "text": [
      "\n"
     ]
    },
    {
     "name": "stderr",
     "output_type": "stream",
     "text": [
      "==============================\n",
      "*** Open Babel Warning  in ReadMolecule\n",
      "  Failed to kekulize aromatic bonds in MOL2 file (title is 3ebl_GA4_4_protein)\n",
      "\n"
     ]
    },
    {
     "name": "stdout",
     "output_type": "stream",
     "text": [
      "\n"
     ]
    },
    {
     "name": "stderr",
     "output_type": "stream",
     "text": [
      "==============================\n",
      "*** Open Babel Warning  in ReadMolecule\n",
      "  Failed to kekulize aromatic bonds in MOL2 file (title is 2oax_SNL_6_protein)\n",
      "\n"
     ]
    },
    {
     "name": "stdout",
     "output_type": "stream",
     "text": [
      "\n"
     ]
    },
    {
     "name": "stderr",
     "output_type": "stream",
     "text": [
      "==============================\n",
      "*** Open Babel Warning  in ReadMolecule\n",
      "  Failed to kekulize aromatic bonds in MOL2 file (title is 4udr_FAD_1_protein)\n",
      "\n"
     ]
    },
    {
     "name": "stdout",
     "output_type": "stream",
     "text": [
      "\n"
     ]
    },
    {
     "name": "stderr",
     "output_type": "stream",
     "text": [
      "==============================\n",
      "*** Open Babel Warning  in ReadMolecule\n",
      "  Failed to kekulize aromatic bonds in MOL2 file (title is 2q29_ACO_3_protein)\n",
      "\n"
     ]
    },
    {
     "name": "stdout",
     "output_type": "stream",
     "text": [
      "\n"
     ]
    },
    {
     "name": "stderr",
     "output_type": "stream",
     "text": [
      "==============================\n",
      "*** Open Babel Warning  in ReadMolecule\n",
      "  Failed to kekulize aromatic bonds in MOL2 file (title is 3b6c_SDN_2_protein)\n",
      "\n"
     ]
    },
    {
     "name": "stdout",
     "output_type": "stream",
     "text": [
      "\n"
     ]
    },
    {
     "name": "stderr",
     "output_type": "stream",
     "text": [
      "==============================\n",
      "*** Open Babel Warning  in ReadMolecule\n",
      "  Failed to kekulize aromatic bonds in MOL2 file (title is 4k6m_SAH_2_protein)\n",
      "\n"
     ]
    },
    {
     "name": "stdout",
     "output_type": "stream",
     "text": [
      "\n"
     ]
    },
    {
     "name": "stderr",
     "output_type": "stream",
     "text": [
      "==============================\n",
      "*** Open Babel Warning  in ReadMolecule\n",
      "  Failed to kekulize aromatic bonds in MOL2 file (title is 3wnz_ADP_1_protein)\n",
      "\n"
     ]
    },
    {
     "name": "stdout",
     "output_type": "stream",
     "text": [
      "\n"
     ]
    },
    {
     "name": "stderr",
     "output_type": "stream",
     "text": [
      "==============================\n",
      "*** Open Babel Warning  in ReadMolecule\n",
      "  Failed to kekulize aromatic bonds in MOL2 file (title is 4dd8_BAT_4_protein)\n",
      "\n"
     ]
    },
    {
     "name": "stdout",
     "output_type": "stream",
     "text": [
      "\n"
     ]
    },
    {
     "name": "stderr",
     "output_type": "stream",
     "text": [
      "==============================\n",
      "*** Open Babel Warning  in ReadMolecule\n",
      "  Failed to kekulize aromatic bonds in MOL2 file (title is 3h8g_BES_4_protein)\n",
      "\n"
     ]
    },
    {
     "name": "stdout",
     "output_type": "stream",
     "text": [
      "\n"
     ]
    },
    {
     "name": "stderr",
     "output_type": "stream",
     "text": [
      "==============================\n",
      "*** Open Babel Warning  in ReadMolecule\n",
      "  Failed to kekulize aromatic bonds in MOL2 file (title is 4jkt_04A_1_protein)\n",
      "\n"
     ]
    },
    {
     "name": "stdout",
     "output_type": "stream",
     "text": [
      "\n"
     ]
    },
    {
     "name": "stderr",
     "output_type": "stream",
     "text": [
      "==============================\n",
      "*** Open Babel Warning  in ReadMolecule\n",
      "  Failed to kekulize aromatic bonds in MOL2 file (title is 5dt9_NAD_1_protein)\n",
      "\n"
     ]
    },
    {
     "name": "stdout",
     "output_type": "stream",
     "text": [
      "\n"
     ]
    },
    {
     "name": "stderr",
     "output_type": "stream",
     "text": [
      "==============================\n",
      "*** Open Babel Warning  in ReadMolecule\n",
      "  Failed to kekulize aromatic bonds in MOL2 file (title is 2q14_ADP_4_protein)\n",
      "\n"
     ]
    },
    {
     "name": "stdout",
     "output_type": "stream",
     "text": [
      "\n"
     ]
    },
    {
     "name": "stderr",
     "output_type": "stream",
     "text": [
      "==============================\n",
      "*** Open Babel Warning  in ReadMolecule\n",
      "  Failed to kekulize aromatic bonds in MOL2 file (title is 3jq9_AX1_1_protein)\n",
      "\n"
     ]
    },
    {
     "name": "stdout",
     "output_type": "stream",
     "text": [
      "\n"
     ]
    },
    {
     "name": "stderr",
     "output_type": "stream",
     "text": [
      "==============================\n",
      "*** Open Babel Warning  in ReadMolecule\n",
      "  Failed to kekulize aromatic bonds in MOL2 file (title is 1q8u_H52_1_protein)\n",
      "\n"
     ]
    },
    {
     "name": "stdout",
     "output_type": "stream",
     "text": [
      "\n"
     ]
    },
    {
     "name": "stderr",
     "output_type": "stream",
     "text": [
      "==============================\n",
      "*** Open Babel Warning  in ReadMolecule\n",
      "  Failed to kekulize aromatic bonds in MOL2 file (title is 4inb_1F6_1_protein)\n",
      "\n"
     ]
    },
    {
     "name": "stdout",
     "output_type": "stream",
     "text": [
      "\n"
     ]
    },
    {
     "name": "stderr",
     "output_type": "stream",
     "text": [
      "==============================\n",
      "*** Open Babel Warning  in ReadMolecule\n",
      "  Failed to kekulize aromatic bonds in MOL2 file (title is 4xp1_Y01_2_protein)\n",
      "\n"
     ]
    },
    {
     "name": "stdout",
     "output_type": "stream",
     "text": [
      "\n"
     ]
    },
    {
     "name": "stderr",
     "output_type": "stream",
     "text": [
      "==============================\n",
      "*** Open Babel Warning  in ReadMolecule\n",
      "  Failed to kekulize aromatic bonds in MOL2 file (title is 2hc0_AB2_1_protein)\n",
      "\n"
     ]
    },
    {
     "name": "stdout",
     "output_type": "stream",
     "text": [
      "\n"
     ]
    },
    {
     "name": "stderr",
     "output_type": "stream",
     "text": [
      "==============================\n",
      "*** Open Babel Warning  in ReadMolecule\n",
      "  Failed to kekulize aromatic bonds in MOL2 file (title is 3f6s_FMN_2_protein)\n",
      "\n"
     ]
    },
    {
     "name": "stdout",
     "output_type": "stream",
     "text": [
      "\n"
     ]
    },
    {
     "name": "stderr",
     "output_type": "stream",
     "text": [
      "==============================\n",
      "*** Open Babel Warning  in ReadMolecule\n",
      "  Failed to kekulize aromatic bonds in MOL2 file (title is 3pn4_BB2_1_protein)\n",
      "\n"
     ]
    },
    {
     "name": "stdout",
     "output_type": "stream",
     "text": [
      "\n"
     ]
    },
    {
     "name": "stderr",
     "output_type": "stream",
     "text": [
      "==============================\n",
      "*** Open Babel Warning  in ReadMolecule\n",
      "  Failed to kekulize aromatic bonds in MOL2 file (title is 3tnf_GNP_1_protein)\n",
      "\n"
     ]
    },
    {
     "name": "stdout",
     "output_type": "stream",
     "text": [
      "\n"
     ]
    },
    {
     "name": "stderr",
     "output_type": "stream",
     "text": [
      "==============================\n",
      "*** Open Babel Warning  in ReadMolecule\n",
      "  Failed to kekulize aromatic bonds in MOL2 file (title is 3wcz_NAP_1_protein)\n",
      "\n"
     ]
    },
    {
     "name": "stdout",
     "output_type": "stream",
     "text": [
      "\n"
     ]
    },
    {
     "name": "stderr",
     "output_type": "stream",
     "text": [
      "==============================\n",
      "*** Open Babel Warning  in ReadMolecule\n",
      "  Failed to kekulize aromatic bonds in MOL2 file (title is 1rqj_RIS_2_protein)\n",
      "\n"
     ]
    },
    {
     "name": "stdout",
     "output_type": "stream",
     "text": [
      "\n"
     ]
    },
    {
     "name": "stderr",
     "output_type": "stream",
     "text": [
      "==============================\n",
      "*** Open Babel Warning  in ReadMolecule\n",
      "  Failed to kekulize aromatic bonds in MOL2 file (title is 5cvc_PLP_1_protein)\n",
      "\n"
     ]
    },
    {
     "name": "stdout",
     "output_type": "stream",
     "text": [
      "\n"
     ]
    },
    {
     "name": "stderr",
     "output_type": "stream",
     "text": [
      "==============================\n",
      "*** Open Babel Warning  in ReadMolecule\n",
      "  Failed to kekulize aromatic bonds in MOL2 file (title is 2ivd_ACJ_1_protein)\n",
      "\n"
     ]
    },
    {
     "name": "stdout",
     "output_type": "stream",
     "text": [
      "\n"
     ]
    },
    {
     "name": "stderr",
     "output_type": "stream",
     "text": [
      "==============================\n",
      "*** Open Babel Warning  in ReadMolecule\n",
      "  This Mol2 file is non-standard. Problem with molecule: 2cg5_COA_1_protein Cannot interpret atom types correctly, instead attempting to interpret atom type: NI as elements instead.\n",
      "==============================\n",
      "*** Open Babel Warning  in Translate\n",
      "  Cannot perform atom type translation: table cannot find requested types.\n",
      "==============================\n",
      "*** Open Babel Warning  in ReadMolecule\n",
      "  Failed to kekulize aromatic bonds in MOL2 file (title is 2cg5_COA_1_protein)\n",
      "\n"
     ]
    },
    {
     "name": "stdout",
     "output_type": "stream",
     "text": [
      "\n"
     ]
    },
    {
     "name": "stderr",
     "output_type": "stream",
     "text": [
      "==============================\n",
      "*** Open Babel Warning  in ReadMolecule\n",
      "  Failed to kekulize aromatic bonds in MOL2 file (title is 3mes_PT3_1_protein)\n",
      "\n"
     ]
    },
    {
     "name": "stdout",
     "output_type": "stream",
     "text": [
      "\n"
     ]
    },
    {
     "name": "stderr",
     "output_type": "stream",
     "text": [
      "==============================\n",
      "*** Open Babel Warning  in ReadMolecule\n",
      "  Failed to kekulize aromatic bonds in MOL2 file (title is 3ozb_HPA_2_protein)\n",
      "\n"
     ]
    },
    {
     "name": "stdout",
     "output_type": "stream",
     "text": [
      "\n"
     ]
    },
    {
     "name": "stderr",
     "output_type": "stream",
     "text": [
      "==============================\n",
      "*** Open Babel Warning  in ReadMolecule\n",
      "  This Mol2 file is non-standard. Problem with molecule: 2pzi_AXX_1_protein Cannot interpret atom types correctly, instead attempting to interpret atom type: CD as elements instead.\n",
      "==============================\n",
      "*** Open Babel Warning  in Translate\n",
      "  Cannot perform atom type translation: table cannot find requested types.\n",
      "==============================\n",
      "*** Open Babel Warning  in ReadMolecule\n",
      "  This Mol2 file is non-standard. Problem with molecule: 2pzi_AXX_1_protein Cannot interpret atom types correctly, instead attempting to interpret atom type: CD as elements instead.\n",
      "==============================\n",
      "*** Open Babel Warning  in Translate\n",
      "  Cannot perform atom type translation: table cannot find requested types.\n",
      "==============================\n",
      "*** Open Babel Warning  in ReadMolecule\n",
      "  Failed to kekulize aromatic bonds in MOL2 file (title is 2pzi_AXX_1_protein)\n",
      "\n"
     ]
    },
    {
     "name": "stdout",
     "output_type": "stream",
     "text": [
      "\n"
     ]
    },
    {
     "name": "stderr",
     "output_type": "stream",
     "text": [
      "==============================\n",
      "*** Open Babel Warning  in ReadMolecule\n",
      "  Failed to kekulize aromatic bonds in MOL2 file (title is 3znc_BZ1_1_protein)\n",
      "\n"
     ]
    },
    {
     "name": "stdout",
     "output_type": "stream",
     "text": [
      "\n"
     ]
    },
    {
     "name": "stderr",
     "output_type": "stream",
     "text": [
      "==============================\n",
      "*** Open Babel Warning  in ReadMolecule\n",
      "  Failed to kekulize aromatic bonds in MOL2 file (title is 4ptf_DCP_1_protein)\n",
      "\n"
     ]
    },
    {
     "name": "stdout",
     "output_type": "stream",
     "text": [
      "\n"
     ]
    },
    {
     "name": "stderr",
     "output_type": "stream",
     "text": [
      "==============================\n",
      "*** Open Babel Warning  in ReadMolecule\n",
      "  Failed to kekulize aromatic bonds in MOL2 file (title is 3x1z_GNP_1_protein)\n",
      "\n"
     ]
    },
    {
     "name": "stdout",
     "output_type": "stream",
     "text": [
      "\n"
     ]
    },
    {
     "name": "stderr",
     "output_type": "stream",
     "text": [
      "==============================\n",
      "*** Open Babel Warning  in ReadMolecule\n",
      "  Failed to kekulize aromatic bonds in MOL2 file (title is 2wq6_FAD_1_protein)\n",
      "\n"
     ]
    },
    {
     "name": "stdout",
     "output_type": "stream",
     "text": [
      "\n"
     ]
    },
    {
     "name": "stderr",
     "output_type": "stream",
     "text": [
      "==============================\n",
      "*** Open Babel Warning  in ReadMolecule\n",
      "  Failed to kekulize aromatic bonds in MOL2 file (title is 1y56_FMN_1_protein)\n",
      "\n"
     ]
    },
    {
     "name": "stdout",
     "output_type": "stream",
     "text": [
      "\n"
     ]
    },
    {
     "name": "stderr",
     "output_type": "stream",
     "text": [
      "==============================\n",
      "*** Open Babel Warning  in ReadMolecule\n",
      "  This Mol2 file is non-standard. Problem with molecule: 4ipe_ANP_2_protein Cannot interpret atom types correctly, instead attempting to interpret atom type: CO as elements instead.\n",
      "==============================\n",
      "*** Open Babel Warning  in Translate\n",
      "  Cannot perform atom type translation: table cannot find requested types.\n",
      "==============================\n",
      "*** Open Babel Warning  in ReadMolecule\n",
      "  This Mol2 file is non-standard. Problem with molecule: 4ipe_ANP_2_protein Cannot interpret atom types correctly, instead attempting to interpret atom type: CO as elements instead.\n",
      "==============================\n",
      "*** Open Babel Warning  in Translate\n",
      "  Cannot perform atom type translation: table cannot find requested types.\n",
      "==============================\n",
      "*** Open Babel Warning  in ReadMolecule\n",
      "  Failed to kekulize aromatic bonds in MOL2 file (title is 4ipe_ANP_2_protein)\n",
      "\n"
     ]
    },
    {
     "name": "stdout",
     "output_type": "stream",
     "text": [
      "\n"
     ]
    },
    {
     "name": "stderr",
     "output_type": "stream",
     "text": [
      "==============================\n",
      "*** Open Babel Warning  in ReadMolecule\n",
      "  Failed to kekulize aromatic bonds in MOL2 file (title is 1hv5_RXP_18_protein)\n",
      "\n"
     ]
    },
    {
     "name": "stdout",
     "output_type": "stream",
     "text": [
      "\n"
     ]
    },
    {
     "name": "stderr",
     "output_type": "stream",
     "text": [
      "==============================\n",
      "*** Open Babel Warning  in ReadMolecule\n",
      "  Failed to kekulize aromatic bonds in MOL2 file (title is 3adp_NAI_1_protein)\n",
      "\n"
     ]
    },
    {
     "name": "stdout",
     "output_type": "stream",
     "text": [
      "\n"
     ]
    },
    {
     "name": "stderr",
     "output_type": "stream",
     "text": [
      "==============================\n",
      "*** Open Babel Warning  in ReadMolecule\n",
      "  Failed to kekulize aromatic bonds in MOL2 file (title is 4skn_URA_1_protein)\n",
      "\n"
     ]
    },
    {
     "name": "stdout",
     "output_type": "stream",
     "text": [
      "\n"
     ]
    },
    {
     "name": "stderr",
     "output_type": "stream",
     "text": [
      "==============================\n",
      "*** Open Babel Warning  in ReadMolecule\n",
      "  Failed to kekulize aromatic bonds in MOL2 file (title is 1izh_Q50_1_protein)\n",
      "\n"
     ]
    },
    {
     "name": "stdout",
     "output_type": "stream",
     "text": [
      "\n"
     ]
    },
    {
     "name": "stderr",
     "output_type": "stream",
     "text": [
      "==============================\n",
      "*** Open Babel Warning  in ReadMolecule\n",
      "  Failed to kekulize aromatic bonds in MOL2 file (title is 1o6h_W37_2_protein)\n",
      "\n"
     ]
    },
    {
     "name": "stdout",
     "output_type": "stream",
     "text": [
      "\n"
     ]
    },
    {
     "name": "stderr",
     "output_type": "stream",
     "text": [
      "==============================\n",
      "*** Open Babel Warning  in ReadMolecule\n",
      "  Failed to kekulize aromatic bonds in MOL2 file (title is 4xr9_TMP_1_protein)\n",
      "\n"
     ]
    },
    {
     "name": "stdout",
     "output_type": "stream",
     "text": [
      "\n"
     ]
    },
    {
     "name": "stderr",
     "output_type": "stream",
     "text": [
      "==============================\n",
      "*** Open Babel Warning  in ReadMolecule\n",
      "  Failed to kekulize aromatic bonds in MOL2 file (title is 5ab6_CAA_3_protein)\n",
      "\n"
     ]
    },
    {
     "name": "stdout",
     "output_type": "stream",
     "text": [
      "\n"
     ]
    },
    {
     "name": "stderr",
     "output_type": "stream",
     "text": [
      "==============================\n",
      "*** Open Babel Warning  in ReadMolecule\n",
      "  Failed to kekulize aromatic bonds in MOL2 file (title is 4uxj_TTP_6_protein)\n",
      "\n"
     ]
    },
    {
     "name": "stdout",
     "output_type": "stream",
     "text": [
      "\n"
     ]
    },
    {
     "name": "stderr",
     "output_type": "stream",
     "text": [
      "==============================\n",
      "*** Open Babel Warning  in ReadMolecule\n",
      "  This Mol2 file is non-standard. Problem with molecule: 1h5q_NAP_2_protein Cannot interpret atom types correctly, instead attempting to interpret atom type: NI as elements instead.\n",
      "==============================\n",
      "*** Open Babel Warning  in Translate\n",
      "  Cannot perform atom type translation: table cannot find requested types.\n",
      "==============================\n",
      "*** Open Babel Warning  in ReadMolecule\n",
      "  This Mol2 file is non-standard. Problem with molecule: 1h5q_NAP_2_protein Cannot interpret atom types correctly, instead attempting to interpret atom type: NI as elements instead.\n",
      "==============================\n",
      "*** Open Babel Warning  in Translate\n",
      "  Cannot perform atom type translation: table cannot find requested types.\n",
      "==============================\n",
      "*** Open Babel Warning  in ReadMolecule\n",
      "  This Mol2 file is non-standard. Problem with molecule: 1h5q_NAP_2_protein Cannot interpret atom types correctly, instead attempting to interpret atom type: NI as elements instead.\n",
      "==============================\n",
      "*** Open Babel Warning  in Translate\n",
      "  Cannot perform atom type translation: table cannot find requested types.\n",
      "==============================\n",
      "*** Open Babel Warning  in ReadMolecule\n",
      "  This Mol2 file is non-standard. Problem with molecule: 1h5q_NAP_2_protein Cannot interpret atom types correctly, instead attempting to interpret atom type: NI as elements instead.\n",
      "==============================\n",
      "*** Open Babel Warning  in Translate\n",
      "  Cannot perform atom type translation: table cannot find requested types.\n",
      "==============================\n",
      "*** Open Babel Warning  in ReadMolecule\n",
      "  This Mol2 file is non-standard. Problem with molecule: 1h5q_NAP_2_protein Cannot interpret atom types correctly, instead attempting to interpret atom type: NI as elements instead.\n",
      "==============================\n",
      "*** Open Babel Warning  in Translate\n",
      "  Cannot perform atom type translation: table cannot find requested types.\n",
      "==============================\n",
      "*** Open Babel Warning  in ReadMolecule\n",
      "  This Mol2 file is non-standard. Problem with molecule: 1h5q_NAP_2_protein Cannot interpret atom types correctly, instead attempting to interpret atom type: NI as elements instead.\n",
      "==============================\n",
      "*** Open Babel Warning  in Translate\n",
      "  Cannot perform atom type translation: table cannot find requested types.\n",
      "==============================\n",
      "*** Open Babel Warning  in ReadMolecule\n",
      "  Failed to kekulize aromatic bonds in MOL2 file (title is 1h5q_NAP_2_protein)\n",
      "\n"
     ]
    },
    {
     "name": "stdout",
     "output_type": "stream",
     "text": [
      "\n"
     ]
    },
    {
     "name": "stderr",
     "output_type": "stream",
     "text": [
      "==============================\n",
      "*** Open Babel Warning  in ReadMolecule\n",
      "  Failed to kekulize aromatic bonds in MOL2 file (title is 5eom_CTP_2_protein)\n",
      "\n"
     ]
    },
    {
     "name": "stdout",
     "output_type": "stream",
     "text": [
      "\n"
     ]
    },
    {
     "name": "stderr",
     "output_type": "stream",
     "text": [
      "==============================\n",
      "*** Open Babel Warning  in ReadMolecule\n",
      "  Failed to kekulize aromatic bonds in MOL2 file (title is 5eq1_BEA_1_protein)\n",
      "\n"
     ]
    },
    {
     "name": "stdout",
     "output_type": "stream",
     "text": [
      "\n"
     ]
    },
    {
     "name": "stderr",
     "output_type": "stream",
     "text": [
      "==============================\n",
      "*** Open Babel Warning  in ReadMolecule\n",
      "  Failed to kekulize aromatic bonds in MOL2 file (title is 2d7z_MAE_1_protein)\n",
      "\n"
     ]
    },
    {
     "name": "stdout",
     "output_type": "stream",
     "text": [
      "\n"
     ]
    },
    {
     "name": "stderr",
     "output_type": "stream",
     "text": [
      "==============================\n",
      "*** Open Babel Warning  in ReadMolecule\n",
      "  Failed to kekulize aromatic bonds in MOL2 file (title is 4pl0_ANP_1_protein)\n",
      "\n"
     ]
    },
    {
     "name": "stdout",
     "output_type": "stream",
     "text": [
      "\n"
     ]
    },
    {
     "name": "stderr",
     "output_type": "stream",
     "text": [
      "==============================\n",
      "*** Open Babel Warning  in ReadMolecule\n",
      "  Failed to kekulize aromatic bonds in MOL2 file (title is 1p6x_THM_1_protein)\n",
      "\n"
     ]
    },
    {
     "name": "stdout",
     "output_type": "stream",
     "text": [
      "\n"
     ]
    },
    {
     "name": "stderr",
     "output_type": "stream",
     "text": [
      "==============================\n",
      "*** Open Babel Warning  in ReadMolecule\n",
      "  Failed to kekulize aromatic bonds in MOL2 file (title is 4cw5_FMN_2_protein)\n",
      "\n"
     ]
    },
    {
     "name": "stdout",
     "output_type": "stream",
     "text": [
      "\n"
     ]
    },
    {
     "name": "stderr",
     "output_type": "stream",
     "text": [
      "==============================\n",
      "*** Open Babel Warning  in ReadMolecule\n",
      "  Failed to kekulize aromatic bonds in MOL2 file (title is 3exn_ACO_1_protein)\n",
      "\n"
     ]
    },
    {
     "name": "stdout",
     "output_type": "stream",
     "text": [
      "\n"
     ]
    },
    {
     "name": "stderr",
     "output_type": "stream",
     "text": [
      "==============================\n",
      "*** Open Babel Warning  in ReadMolecule\n",
      "  Failed to kekulize aromatic bonds in MOL2 file (title is 1fue_FMN_1_protein)\n",
      "\n"
     ]
    },
    {
     "name": "stdout",
     "output_type": "stream",
     "text": [
      "\n"
     ]
    },
    {
     "name": "stderr",
     "output_type": "stream",
     "text": [
      "==============================\n",
      "*** Open Babel Warning  in ReadMolecule\n",
      "  Failed to kekulize aromatic bonds in MOL2 file (title is 3tne_RIT_1_protein)\n",
      "\n"
     ]
    },
    {
     "name": "stdout",
     "output_type": "stream",
     "text": [
      "\n"
     ]
    },
    {
     "name": "stderr",
     "output_type": "stream",
     "text": [
      "==============================\n",
      "*** Open Babel Warning  in ReadMolecule\n",
      "  Failed to kekulize aromatic bonds in MOL2 file (title is 2z1q_FAD_1_protein)\n",
      "\n"
     ]
    },
    {
     "name": "stdout",
     "output_type": "stream",
     "text": [
      "\n"
     ]
    },
    {
     "name": "stderr",
     "output_type": "stream",
     "text": [
      "==============================\n",
      "*** Open Babel Warning  in ReadMolecule\n",
      "  Failed to kekulize aromatic bonds in MOL2 file (title is 3smk_CW7_1_protein)\n",
      "\n"
     ]
    },
    {
     "name": "stdout",
     "output_type": "stream",
     "text": [
      "\n"
     ]
    },
    {
     "name": "stderr",
     "output_type": "stream",
     "text": [
      "==============================\n",
      "*** Open Babel Warning  in ReadMolecule\n",
      "  Failed to kekulize aromatic bonds in MOL2 file (title is 2xs4_ALA_PHE_THR_1_protein)\n",
      "\n"
     ]
    },
    {
     "name": "stdout",
     "output_type": "stream",
     "text": [
      "\n"
     ]
    },
    {
     "name": "stderr",
     "output_type": "stream",
     "text": [
      "==============================\n",
      "*** Open Babel Warning  in ReadMolecule\n",
      "  Failed to kekulize aromatic bonds in MOL2 file (title is 1id0_ANP_1_protein)\n",
      "\n"
     ]
    },
    {
     "name": "stdout",
     "output_type": "stream",
     "text": [
      "\n"
     ]
    },
    {
     "name": "stderr",
     "output_type": "stream",
     "text": [
      "==============================\n",
      "*** Open Babel Warning  in ReadMolecule\n",
      "  Failed to kekulize aromatic bonds in MOL2 file (title is 3qdq_COA_1_protein)\n",
      "\n"
     ]
    },
    {
     "name": "stdout",
     "output_type": "stream",
     "text": [
      "\n"
     ]
    },
    {
     "name": "stderr",
     "output_type": "stream",
     "text": [
      "==============================\n",
      "*** Open Babel Warning  in ReadMolecule\n",
      "  Failed to kekulize aromatic bonds in MOL2 file (title is 1hvy_D16_1_protein)\n",
      "\n"
     ]
    },
    {
     "name": "stdout",
     "output_type": "stream",
     "text": [
      "\n"
     ]
    },
    {
     "name": "stderr",
     "output_type": "stream",
     "text": [
      "==============================\n",
      "*** Open Babel Warning  in ReadMolecule\n",
      "  Failed to kekulize aromatic bonds in MOL2 file (title is 3qe2_FAD_1_protein)\n",
      "\n"
     ]
    },
    {
     "name": "stdout",
     "output_type": "stream",
     "text": [
      "\n"
     ]
    },
    {
     "name": "stderr",
     "output_type": "stream",
     "text": [
      "==============================\n",
      "*** Open Babel Warning  in ReadMolecule\n",
      "  Failed to kekulize aromatic bonds in MOL2 file (title is 2r3a_SAM_1_protein)\n",
      "\n"
     ]
    },
    {
     "name": "stdout",
     "output_type": "stream",
     "text": [
      "\n"
     ]
    },
    {
     "name": "stderr",
     "output_type": "stream",
     "text": [
      "==============================\n",
      "*** Open Babel Warning  in ReadMolecule\n",
      "  Failed to kekulize aromatic bonds in MOL2 file (title is 2kaw_SUZ_1_protein)\n",
      "\n"
     ]
    },
    {
     "name": "stdout",
     "output_type": "stream",
     "text": [
      "\n"
     ]
    },
    {
     "name": "stderr",
     "output_type": "stream",
     "text": [
      "==============================\n",
      "*** Open Babel Warning  in ReadMolecule\n",
      "  This Mol2 file is non-standard. Problem with molecule: 1jv4_TZL_1_protein Cannot interpret atom types correctly, instead attempting to interpret atom type: CD as elements instead.\n",
      "==============================\n",
      "*** Open Babel Warning  in Translate\n",
      "  Cannot perform atom type translation: table cannot find requested types.\n",
      "==============================\n",
      "*** Open Babel Warning  in ReadMolecule\n",
      "  This Mol2 file is non-standard. Problem with molecule: 1jv4_TZL_1_protein Cannot interpret atom types correctly, instead attempting to interpret atom type: CD as elements instead.\n",
      "==============================\n",
      "*** Open Babel Warning  in Translate\n",
      "  Cannot perform atom type translation: table cannot find requested types.\n",
      "==============================\n",
      "*** Open Babel Warning  in ReadMolecule\n",
      "  This Mol2 file is non-standard. Problem with molecule: 1jv4_TZL_1_protein Cannot interpret atom types correctly, instead attempting to interpret atom type: CD as elements instead.\n",
      "==============================\n",
      "*** Open Babel Warning  in Translate\n",
      "  Cannot perform atom type translation: table cannot find requested types.\n",
      "==============================\n",
      "*** Open Babel Warning  in ReadMolecule\n",
      "  This Mol2 file is non-standard. Problem with molecule: 1jv4_TZL_1_protein Cannot interpret atom types correctly, instead attempting to interpret atom type: CD as elements instead.\n",
      "==============================\n",
      "*** Open Babel Warning  in Translate\n",
      "  Cannot perform atom type translation: table cannot find requested types.\n",
      "==============================\n",
      "*** Open Babel Warning  in ReadMolecule\n",
      "  This Mol2 file is non-standard. Problem with molecule: 1jv4_TZL_1_protein Cannot interpret atom types correctly, instead attempting to interpret atom type: CD as elements instead.\n",
      "==============================\n",
      "*** Open Babel Warning  in Translate\n",
      "  Cannot perform atom type translation: table cannot find requested types.\n",
      "==============================\n",
      "*** Open Babel Warning  in ReadMolecule\n",
      "  This Mol2 file is non-standard. Problem with molecule: 1jv4_TZL_1_protein Cannot interpret atom types correctly, instead attempting to interpret atom type: CD as elements instead.\n",
      "==============================\n",
      "*** Open Babel Warning  in Translate\n",
      "  Cannot perform atom type translation: table cannot find requested types.\n",
      "==============================\n",
      "*** Open Babel Warning  in ReadMolecule\n",
      "  This Mol2 file is non-standard. Problem with molecule: 1jv4_TZL_1_protein Cannot interpret atom types correctly, instead attempting to interpret atom type: CD as elements instead.\n",
      "==============================\n",
      "*** Open Babel Warning  in Translate\n",
      "  Cannot perform atom type translation: table cannot find requested types.\n",
      "==============================\n",
      "*** Open Babel Warning  in ReadMolecule\n",
      "  Failed to kekulize aromatic bonds in MOL2 file (title is 1jv4_TZL_1_protein)\n",
      "\n"
     ]
    },
    {
     "name": "stdout",
     "output_type": "stream",
     "text": [
      "\n"
     ]
    },
    {
     "name": "stderr",
     "output_type": "stream",
     "text": [
      "==============================\n",
      "*** Open Babel Warning  in ReadMolecule\n",
      "  Failed to kekulize aromatic bonds in MOL2 file (title is 3pz4_3PZ_1_protein)\n",
      "\n"
     ]
    },
    {
     "name": "stdout",
     "output_type": "stream",
     "text": [
      "\n"
     ]
    },
    {
     "name": "stderr",
     "output_type": "stream",
     "text": [
      "==============================\n",
      "*** Open Babel Warning  in ReadMolecule\n",
      "  Failed to kekulize aromatic bonds in MOL2 file (title is 5cwa_0GA_1_protein)\n",
      "\n"
     ]
    },
    {
     "name": "stdout",
     "output_type": "stream",
     "text": [
      "\n"
     ]
    },
    {
     "name": "stderr",
     "output_type": "stream",
     "text": [
      "==============================\n",
      "*** Open Babel Warning  in ReadMolecule\n",
      "  Failed to kekulize aromatic bonds in MOL2 file (title is 2eju_SAH_1_protein)\n",
      "\n"
     ]
    },
    {
     "name": "stdout",
     "output_type": "stream",
     "text": [
      "\n"
     ]
    },
    {
     "name": "stderr",
     "output_type": "stream",
     "text": [
      "==============================\n",
      "*** Open Babel Warning  in ReadMolecule\n",
      "  Failed to kekulize aromatic bonds in MOL2 file (title is 4qmy_STU_1_protein)\n",
      "\n"
     ]
    },
    {
     "name": "stdout",
     "output_type": "stream",
     "text": [
      "\n"
     ]
    },
    {
     "name": "stderr",
     "output_type": "stream",
     "text": [
      "==============================\n",
      "*** Open Babel Warning  in ReadMolecule\n",
      "  Failed to kekulize aromatic bonds in MOL2 file (title is 4i9b_NAD_2_protein)\n",
      "\n"
     ]
    },
    {
     "name": "stdout",
     "output_type": "stream",
     "text": [
      "\n"
     ]
    },
    {
     "name": "stderr",
     "output_type": "stream",
     "text": [
      "==============================\n",
      "*** Open Babel Warning  in ReadMolecule\n",
      "  Failed to kekulize aromatic bonds in MOL2 file (title is 2cem_2AH_1_protein)\n",
      "\n"
     ]
    },
    {
     "name": "stdout",
     "output_type": "stream",
     "text": [
      "\n"
     ]
    },
    {
     "name": "stderr",
     "output_type": "stream",
     "text": [
      "==============================\n",
      "*** Open Babel Warning  in ReadMolecule\n",
      "  Failed to kekulize aromatic bonds in MOL2 file (title is 4dan_2FA_2_protein)\n",
      "\n"
     ]
    },
    {
     "name": "stdout",
     "output_type": "stream",
     "text": [
      "\n"
     ]
    },
    {
     "name": "stderr",
     "output_type": "stream",
     "text": [
      "==============================\n",
      "*** Open Babel Warning  in ReadMolecule\n",
      "  Failed to kekulize aromatic bonds in MOL2 file (title is 4pyt_FAD_1_protein)\n",
      "\n"
     ]
    },
    {
     "name": "stdout",
     "output_type": "stream",
     "text": [
      "\n"
     ]
    },
    {
     "name": "stderr",
     "output_type": "stream",
     "text": [
      "==============================\n",
      "*** Open Babel Warning  in ReadMolecule\n",
      "  Failed to kekulize aromatic bonds in MOL2 file (title is 3qbw_ADP_2_protein)\n",
      "\n"
     ]
    },
    {
     "name": "stdout",
     "output_type": "stream",
     "text": [
      "\n"
     ]
    },
    {
     "name": "stderr",
     "output_type": "stream",
     "text": [
      "==============================\n",
      "*** Open Babel Warning  in ReadMolecule\n",
      "  Failed to kekulize aromatic bonds in MOL2 file (title is 1iv2_CDP_4_protein)\n",
      "\n"
     ]
    },
    {
     "name": "stdout",
     "output_type": "stream",
     "text": [
      "\n"
     ]
    },
    {
     "name": "stderr",
     "output_type": "stream",
     "text": [
      "==============================\n",
      "*** Open Babel Warning  in ReadMolecule\n",
      "  Failed to kekulize aromatic bonds in MOL2 file (title is 1z8q_DEB_1_protein)\n",
      "\n"
     ]
    },
    {
     "name": "stdout",
     "output_type": "stream",
     "text": [
      "\n"
     ]
    },
    {
     "name": "stderr",
     "output_type": "stream",
     "text": [
      "==============================\n",
      "*** Open Babel Warning  in ReadMolecule\n",
      "  Failed to kekulize aromatic bonds in MOL2 file (title is 2wn6_NDP_1_protein)\n",
      "\n"
     ]
    },
    {
     "name": "stdout",
     "output_type": "stream",
     "text": [
      "\n"
     ]
    },
    {
     "name": "stderr",
     "output_type": "stream",
     "text": [
      "==============================\n",
      "*** Open Babel Warning  in ReadMolecule\n",
      "  Failed to kekulize aromatic bonds in MOL2 file (title is 3lst_SAH_1_protein)\n",
      "\n"
     ]
    },
    {
     "name": "stdout",
     "output_type": "stream",
     "text": [
      "\n"
     ]
    },
    {
     "name": "stderr",
     "output_type": "stream",
     "text": [
      "==============================\n",
      "*** Open Babel Warning  in ReadMolecule\n",
      "  Failed to kekulize aromatic bonds in MOL2 file (title is 1i36_NAP_1_protein)\n",
      "\n"
     ]
    },
    {
     "name": "stdout",
     "output_type": "stream",
     "text": [
      "\n"
     ]
    },
    {
     "name": "stderr",
     "output_type": "stream",
     "text": [
      "==============================\n",
      "*** Open Babel Warning  in ReadMolecule\n",
      "  Failed to kekulize aromatic bonds in MOL2 file (title is 3gvh_NAD_4_protein)\n",
      "\n"
     ]
    },
    {
     "name": "stdout",
     "output_type": "stream",
     "text": [
      "\n"
     ]
    },
    {
     "name": "stderr",
     "output_type": "stream",
     "text": [
      "==============================\n",
      "*** Open Babel Warning  in ReadMolecule\n",
      "  Failed to kekulize aromatic bonds in MOL2 file (title is 2ahr_NAP_3_protein)\n",
      "\n"
     ]
    },
    {
     "name": "stdout",
     "output_type": "stream",
     "text": [
      "\n"
     ]
    },
    {
     "name": "stderr",
     "output_type": "stream",
     "text": [
      "==============================\n",
      "*** Open Babel Warning  in ReadMolecule\n",
      "  Failed to kekulize aromatic bonds in MOL2 file (title is 1z3w_IDC_1_protein)\n",
      "\n"
     ]
    },
    {
     "name": "stdout",
     "output_type": "stream",
     "text": [
      "\n"
     ]
    },
    {
     "name": "stderr",
     "output_type": "stream",
     "text": [
      "==============================\n",
      "*** Open Babel Warning  in ReadMolecule\n",
      "  Failed to kekulize aromatic bonds in MOL2 file (title is 1vhn_FMN_1_protein)\n",
      "\n"
     ]
    },
    {
     "name": "stdout",
     "output_type": "stream",
     "text": [
      "\n"
     ]
    },
    {
     "name": "stderr",
     "output_type": "stream",
     "text": [
      "==============================\n",
      "*** Open Babel Warning  in ReadMolecule\n",
      "  Failed to kekulize aromatic bonds in MOL2 file (title is 4ktc_1X3_1_protein)\n",
      "\n"
     ]
    },
    {
     "name": "stdout",
     "output_type": "stream",
     "text": [
      "\n"
     ]
    },
    {
     "name": "stderr",
     "output_type": "stream",
     "text": [
      "==============================\n",
      "*** Open Babel Warning  in ReadMolecule\n",
      "  Failed to kekulize aromatic bonds in MOL2 file (title is 3aw9_NAD_4_protein)\n",
      "\n"
     ]
    },
    {
     "name": "stdout",
     "output_type": "stream",
     "text": [
      "\n"
     ]
    },
    {
     "name": "stderr",
     "output_type": "stream",
     "text": [
      "==============================\n",
      "*** Open Babel Warning  in ReadMolecule\n",
      "  Failed to kekulize aromatic bonds in MOL2 file (title is 3dwb_RDF_2_protein)\n",
      "\n"
     ]
    },
    {
     "name": "stdout",
     "output_type": "stream",
     "text": [
      "\n"
     ]
    },
    {
     "name": "stderr",
     "output_type": "stream",
     "text": [
      "==============================\n",
      "*** Open Babel Warning  in ReadMolecule\n",
      "  Failed to kekulize aromatic bonds in MOL2 file (title is 1t90_NAD_2_protein)\n",
      "\n"
     ]
    },
    {
     "name": "stdout",
     "output_type": "stream",
     "text": [
      "\n"
     ]
    },
    {
     "name": "stderr",
     "output_type": "stream",
     "text": [
      "==============================\n",
      "*** Open Babel Warning  in ReadMolecule\n",
      "  Failed to kekulize aromatic bonds in MOL2 file (title is 4hj6_FMN_2_protein)\n",
      "\n"
     ]
    },
    {
     "name": "stdout",
     "output_type": "stream",
     "text": [
      "\n"
     ]
    },
    {
     "name": "stderr",
     "output_type": "stream",
     "text": [
      "==============================\n",
      "*** Open Babel Warning  in ReadMolecule\n",
      "  Failed to kekulize aromatic bonds in MOL2 file (title is 3mkn_DNB_1_protein)\n",
      "\n"
     ]
    },
    {
     "name": "stdout",
     "output_type": "stream",
     "text": [
      "\n"
     ]
    },
    {
     "name": "stderr",
     "output_type": "stream",
     "text": [
      "==============================\n",
      "*** Open Babel Warning  in ReadMolecule\n",
      "  Failed to kekulize aromatic bonds in MOL2 file (title is 4b64_FAD_1_protein)\n",
      "\n"
     ]
    },
    {
     "name": "stdout",
     "output_type": "stream",
     "text": [
      "\n"
     ]
    },
    {
     "name": "stderr",
     "output_type": "stream",
     "text": [
      "==============================\n",
      "*** Open Babel Warning  in ReadMolecule\n",
      "  Failed to kekulize aromatic bonds in MOL2 file (title is 4yb7_ATP_2_protein)\n",
      "\n"
     ]
    },
    {
     "name": "stdout",
     "output_type": "stream",
     "text": [
      "\n"
     ]
    },
    {
     "name": "stderr",
     "output_type": "stream",
     "text": [
      "==============================\n",
      "*** Open Babel Warning  in ReadMolecule\n",
      "  Failed to kekulize aromatic bonds in MOL2 file (title is 1n1e_NDE_2_protein)\n",
      "\n"
     ]
    },
    {
     "name": "stdout",
     "output_type": "stream",
     "text": [
      "\n"
     ]
    },
    {
     "name": "stderr",
     "output_type": "stream",
     "text": [
      "==============================\n",
      "*** Open Babel Warning  in ReadMolecule\n",
      "  Failed to kekulize aromatic bonds in MOL2 file (title is 4p0a_ASP_LEU_TYR_GLY_1_protein)\n",
      "\n"
     ]
    },
    {
     "name": "stdout",
     "output_type": "stream",
     "text": [
      "\n"
     ]
    },
    {
     "name": "stderr",
     "output_type": "stream",
     "text": [
      "==============================\n",
      "*** Open Babel Warning  in ReadMolecule\n",
      "  Failed to kekulize aromatic bonds in MOL2 file (title is 3wwm_ADP_1_protein)\n",
      "\n"
     ]
    },
    {
     "name": "stdout",
     "output_type": "stream",
     "text": [
      "\n"
     ]
    },
    {
     "name": "stderr",
     "output_type": "stream",
     "text": [
      "==============================\n",
      "*** Open Babel Warning  in ReadMolecule\n",
      "  Failed to kekulize aromatic bonds in MOL2 file (title is 4idv_13V_4_protein)\n",
      "\n"
     ]
    },
    {
     "name": "stdout",
     "output_type": "stream",
     "text": [
      "\n"
     ]
    },
    {
     "name": "stderr",
     "output_type": "stream",
     "text": [
      "==============================\n",
      "*** Open Babel Warning  in ReadMolecule\n",
      "  Failed to kekulize aromatic bonds in MOL2 file (title is 3iog_SDF_1_protein)\n",
      "\n"
     ]
    },
    {
     "name": "stdout",
     "output_type": "stream",
     "text": [
      "\n"
     ]
    },
    {
     "name": "stderr",
     "output_type": "stream",
     "text": [
      "==============================\n",
      "*** Open Babel Warning  in ReadMolecule\n",
      "  Failed to kekulize aromatic bonds in MOL2 file (title is 2ewv_ADP_1_protein)\n",
      "\n"
     ]
    },
    {
     "name": "stdout",
     "output_type": "stream",
     "text": [
      "\n"
     ]
    },
    {
     "name": "stderr",
     "output_type": "stream",
     "text": [
      "==============================\n",
      "*** Open Babel Warning  in ReadMolecule\n",
      "  Failed to kekulize aromatic bonds in MOL2 file (title is 1a4l_DCF_2_protein)\n",
      "\n"
     ]
    },
    {
     "name": "stdout",
     "output_type": "stream",
     "text": [
      "\n"
     ]
    },
    {
     "name": "stderr",
     "output_type": "stream",
     "text": [
      "==============================\n",
      "*** Open Babel Warning  in ReadMolecule\n",
      "  Failed to kekulize aromatic bonds in MOL2 file (title is 4dpy_2P0_1_protein)\n",
      "\n"
     ]
    },
    {
     "name": "stdout",
     "output_type": "stream",
     "text": [
      "\n"
     ]
    },
    {
     "name": "stderr",
     "output_type": "stream",
     "text": [
      "==============================\n",
      "*** Open Babel Warning  in ReadMolecule\n",
      "  Failed to kekulize aromatic bonds in MOL2 file (title is 4w5r_IPH_3_protein)\n",
      "\n"
     ]
    },
    {
     "name": "stdout",
     "output_type": "stream",
     "text": [
      "\n"
     ]
    },
    {
     "name": "stderr",
     "output_type": "stream",
     "text": [
      "==============================\n",
      "*** Open Babel Warning  in ReadMolecule\n",
      "  Failed to kekulize aromatic bonds in MOL2 file (title is 3r0y_RSZ_1_protein)\n",
      "\n"
     ]
    },
    {
     "name": "stdout",
     "output_type": "stream",
     "text": [
      "\n"
     ]
    },
    {
     "name": "stderr",
     "output_type": "stream",
     "text": [
      "==============================\n",
      "*** Open Babel Warning  in ReadMolecule\n",
      "  Failed to kekulize aromatic bonds in MOL2 file (title is 3kdj_A8S_1_protein)\n",
      "\n"
     ]
    },
    {
     "name": "stdout",
     "output_type": "stream",
     "text": [
      "\n"
     ]
    },
    {
     "name": "stderr",
     "output_type": "stream",
     "text": [
      "==============================\n",
      "*** Open Babel Warning  in ReadMolecule\n",
      "  Failed to kekulize aromatic bonds in MOL2 file (title is 1j3i_WRA_1_protein)\n",
      "\n"
     ]
    },
    {
     "name": "stdout",
     "output_type": "stream",
     "text": [
      "\n"
     ]
    },
    {
     "name": "stderr",
     "output_type": "stream",
     "text": [
      "==============================\n",
      "*** Open Babel Warning  in ReadMolecule\n",
      "  Failed to kekulize aromatic bonds in MOL2 file (title is 1p7t_ACO_1_protein)\n",
      "\n"
     ]
    },
    {
     "name": "stdout",
     "output_type": "stream",
     "text": [
      "\n"
     ]
    },
    {
     "name": "stderr",
     "output_type": "stream",
     "text": [
      "==============================\n",
      "*** Open Babel Warning  in ReadMolecule\n",
      "  Failed to kekulize aromatic bonds in MOL2 file (title is 2kot_ANW_2_protein)\n",
      "\n"
     ]
    },
    {
     "name": "stdout",
     "output_type": "stream",
     "text": [
      "\n"
     ]
    },
    {
     "name": "stderr",
     "output_type": "stream",
     "text": [
      "==============================\n",
      "*** Open Babel Warning  in ReadMolecule\n",
      "  Failed to kekulize aromatic bonds in MOL2 file (title is 1i0i_7HP_1_protein)\n",
      "\n"
     ]
    },
    {
     "name": "stdout",
     "output_type": "stream",
     "text": [
      "\n"
     ]
    },
    {
     "name": "stderr",
     "output_type": "stream",
     "text": [
      "==============================\n",
      "*** Open Babel Warning  in ReadMolecule\n",
      "  Failed to kekulize aromatic bonds in MOL2 file (title is 4cbx_ATP_1_protein)\n",
      "\n"
     ]
    },
    {
     "name": "stdout",
     "output_type": "stream",
     "text": [
      "\n"
     ]
    },
    {
     "name": "stderr",
     "output_type": "stream",
     "text": [
      "==============================\n",
      "*** Open Babel Warning  in ReadMolecule\n",
      "  Failed to kekulize aromatic bonds in MOL2 file (title is 4o2r_GDP_2_protein)\n",
      "\n"
     ]
    },
    {
     "name": "stdout",
     "output_type": "stream",
     "text": [
      "\n"
     ]
    },
    {
     "name": "stderr",
     "output_type": "stream",
     "text": [
      "==============================\n",
      "*** Open Babel Warning  in ReadMolecule\n",
      "  Failed to kekulize aromatic bonds in MOL2 file (title is 2zr9_DTP_1_protein)\n",
      "\n"
     ]
    },
    {
     "name": "stdout",
     "output_type": "stream",
     "text": [
      "\n"
     ]
    },
    {
     "name": "stderr",
     "output_type": "stream",
     "text": [
      "==============================\n",
      "*** Open Babel Warning  in ReadMolecule\n",
      "  Failed to kekulize aromatic bonds in MOL2 file (title is 1rv7_AB1_1_protein)\n",
      "\n"
     ]
    },
    {
     "name": "stdout",
     "output_type": "stream",
     "text": [
      "\n"
     ]
    },
    {
     "name": "stderr",
     "output_type": "stream",
     "text": [
      "==============================\n",
      "*** Open Babel Warning  in ReadMolecule\n",
      "  Failed to kekulize aromatic bonds in MOL2 file (title is 3s5w_FAD_1_protein)\n",
      "\n"
     ]
    },
    {
     "name": "stdout",
     "output_type": "stream",
     "text": [
      "\n"
     ]
    },
    {
     "name": "stderr",
     "output_type": "stream",
     "text": [
      "==============================\n",
      "*** Open Babel Warning  in ReadMolecule\n",
      "  Failed to kekulize aromatic bonds in MOL2 file (title is 3rbq_GLY_ALA_GLY_ALA_DAO_3_protein)\n",
      "\n"
     ]
    },
    {
     "name": "stdout",
     "output_type": "stream",
     "text": [
      "\n"
     ]
    },
    {
     "name": "stderr",
     "output_type": "stream",
     "text": [
      "==============================\n",
      "*** Open Babel Warning  in ReadMolecule\n",
      "  Failed to kekulize aromatic bonds in MOL2 file (title is 2j07_HDF_1_protein)\n",
      "\n"
     ]
    },
    {
     "name": "stdout",
     "output_type": "stream",
     "text": [
      "\n"
     ]
    },
    {
     "name": "stderr",
     "output_type": "stream",
     "text": [
      "==============================\n",
      "*** Open Babel Warning  in ReadMolecule\n",
      "  Failed to kekulize aromatic bonds in MOL2 file (title is 3g8a_SAH_1_protein)\n",
      "\n"
     ]
    },
    {
     "name": "stdout",
     "output_type": "stream",
     "text": [
      "\n"
     ]
    },
    {
     "name": "stderr",
     "output_type": "stream",
     "text": [
      "==============================\n",
      "*** Open Babel Warning  in ReadMolecule\n",
      "  Failed to kekulize aromatic bonds in MOL2 file (title is 1k5d_GNP_3_protein)\n",
      "\n"
     ]
    },
    {
     "name": "stdout",
     "output_type": "stream",
     "text": [
      "\n"
     ]
    },
    {
     "name": "stderr",
     "output_type": "stream",
     "text": [
      "==============================\n",
      "*** Open Babel Warning  in ReadMolecule\n",
      "  Failed to kekulize aromatic bonds in MOL2 file (title is 2ejv_NAD_2_protein)\n",
      "\n"
     ]
    },
    {
     "name": "stdout",
     "output_type": "stream",
     "text": [
      "\n"
     ]
    },
    {
     "name": "stderr",
     "output_type": "stream",
     "text": [
      "==============================\n",
      "*** Open Babel Warning  in ReadMolecule\n",
      "  Failed to kekulize aromatic bonds in MOL2 file (title is 3q6k_SRO_2_protein)\n",
      "\n"
     ]
    },
    {
     "name": "stdout",
     "output_type": "stream",
     "text": [
      "\n"
     ]
    },
    {
     "name": "stderr",
     "output_type": "stream",
     "text": [
      "==============================\n",
      "*** Open Babel Warning  in ReadMolecule\n",
      "  Failed to kekulize aromatic bonds in MOL2 file (title is 1rqj_IPE_1_protein)\n",
      "\n"
     ]
    },
    {
     "name": "stdout",
     "output_type": "stream",
     "text": [
      "\n"
     ]
    },
    {
     "name": "stderr",
     "output_type": "stream",
     "text": [
      "==============================\n",
      "*** Open Babel Warning  in ReadMolecule\n",
      "  Failed to kekulize aromatic bonds in MOL2 file (title is 4rkf_GNP_1_protein)\n",
      "\n"
     ]
    },
    {
     "name": "stdout",
     "output_type": "stream",
     "text": [
      "\n"
     ]
    },
    {
     "name": "stderr",
     "output_type": "stream",
     "text": [
      "==============================\n",
      "*** Open Babel Warning  in ReadMolecule\n",
      "  Failed to kekulize aromatic bonds in MOL2 file (title is 1j49_NAD_1_protein)\n",
      "\n"
     ]
    },
    {
     "name": "stdout",
     "output_type": "stream",
     "text": [
      "\n"
     ]
    },
    {
     "name": "stderr",
     "output_type": "stream",
     "text": [
      "==============================\n",
      "*** Open Babel Warning  in ReadMolecule\n",
      "  Failed to kekulize aromatic bonds in MOL2 file (title is 3h3f_OXM_1_protein)\n",
      "\n"
     ]
    },
    {
     "name": "stdout",
     "output_type": "stream",
     "text": [
      "\n"
     ]
    },
    {
     "name": "stderr",
     "output_type": "stream",
     "text": [
      "==============================\n",
      "*** Open Babel Warning  in ReadMolecule\n",
      "  Failed to kekulize aromatic bonds in MOL2 file (title is 3c4v_LIP_1_protein)\n",
      "\n"
     ]
    },
    {
     "name": "stdout",
     "output_type": "stream",
     "text": [
      "\n"
     ]
    },
    {
     "name": "stderr",
     "output_type": "stream",
     "text": [
      "==============================\n",
      "*** Open Babel Warning  in ReadMolecule\n",
      "  Failed to kekulize aromatic bonds in MOL2 file (title is 3doc_NAD_2_protein)\n",
      "\n"
     ]
    },
    {
     "name": "stdout",
     "output_type": "stream",
     "text": [
      "\n"
     ]
    },
    {
     "name": "stderr",
     "output_type": "stream",
     "text": [
      "==============================\n",
      "*** Open Babel Warning  in ReadMolecule\n",
      "  Failed to kekulize aromatic bonds in MOL2 file (title is 2z0x_5CA_1_protein)\n",
      "\n"
     ]
    },
    {
     "name": "stdout",
     "output_type": "stream",
     "text": [
      "\n"
     ]
    },
    {
     "name": "stderr",
     "output_type": "stream",
     "text": [
      "==============================\n",
      "*** Open Babel Warning  in ReadMolecule\n",
      "  Failed to kekulize aromatic bonds in MOL2 file (title is 3nz2_ACO_5_protein)\n",
      "\n"
     ]
    },
    {
     "name": "stdout",
     "output_type": "stream",
     "text": [
      "\n"
     ]
    },
    {
     "name": "stderr",
     "output_type": "stream",
     "text": [
      "==============================\n",
      "*** Open Babel Warning  in ReadMolecule\n",
      "  This Mol2 file is non-standard. Problem with molecule: 3w2l_VRO_2_protein Cannot interpret atom types correctly, instead attempting to interpret atom type: CO as elements instead.\n",
      "==============================\n",
      "*** Open Babel Warning  in Translate\n",
      "  Cannot perform atom type translation: table cannot find requested types.\n",
      "==============================\n",
      "*** Open Babel Warning  in ReadMolecule\n",
      "  Failed to kekulize aromatic bonds in MOL2 file (title is 3w2l_VRO_2_protein)\n",
      "\n"
     ]
    },
    {
     "name": "stdout",
     "output_type": "stream",
     "text": [
      "\n"
     ]
    },
    {
     "name": "stderr",
     "output_type": "stream",
     "text": [
      "==============================\n",
      "*** Open Babel Warning  in ReadMolecule\n",
      "  Failed to kekulize aromatic bonds in MOL2 file (title is 1kxp_ATP_1_protein)\n",
      "\n"
     ]
    },
    {
     "name": "stdout",
     "output_type": "stream",
     "text": [
      "\n"
     ]
    },
    {
     "name": "stderr",
     "output_type": "stream",
     "text": [
      "==============================\n",
      "*** Open Babel Warning  in ReadMolecule\n",
      "  Failed to kekulize aromatic bonds in MOL2 file (title is 3ipk_PMS_1_protein)\n",
      "\n"
     ]
    },
    {
     "name": "stdout",
     "output_type": "stream",
     "text": [
      "\n"
     ]
    },
    {
     "name": "stderr",
     "output_type": "stream",
     "text": [
      "==============================\n",
      "*** Open Babel Warning  in ReadMolecule\n",
      "  Failed to kekulize aromatic bonds in MOL2 file (title is 3bcd_ACX_1_protein)\n",
      "\n"
     ]
    },
    {
     "name": "stdout",
     "output_type": "stream",
     "text": [
      "\n"
     ]
    },
    {
     "name": "stderr",
     "output_type": "stream",
     "text": [
      "==============================\n",
      "*** Open Babel Warning  in ReadMolecule\n",
      "  Failed to kekulize aromatic bonds in MOL2 file (title is 2ptf_FMN_1_protein)\n",
      "\n"
     ]
    },
    {
     "name": "stdout",
     "output_type": "stream",
     "text": [
      "\n"
     ]
    },
    {
     "name": "stderr",
     "output_type": "stream",
     "text": [
      "==============================\n",
      "*** Open Babel Warning  in ReadMolecule\n",
      "  Failed to kekulize aromatic bonds in MOL2 file (title is 3viu_ADP_1_protein)\n",
      "\n"
     ]
    },
    {
     "name": "stdout",
     "output_type": "stream",
     "text": [
      "\n"
     ]
    },
    {
     "name": "stderr",
     "output_type": "stream",
     "text": [
      "==============================\n",
      "*** Open Babel Warning  in ReadMolecule\n",
      "  Failed to kekulize aromatic bonds in MOL2 file (title is 3ibd_CPZ_1_protein)\n",
      "\n"
     ]
    },
    {
     "name": "stdout",
     "output_type": "stream",
     "text": [
      "\n"
     ]
    },
    {
     "name": "stderr",
     "output_type": "stream",
     "text": [
      "==============================\n",
      "*** Open Babel Warning  in ReadMolecule\n",
      "  Failed to kekulize aromatic bonds in MOL2 file (title is 3bw3_FMN_1_protein)\n",
      "\n"
     ]
    },
    {
     "name": "stdout",
     "output_type": "stream",
     "text": [
      "\n"
     ]
    },
    {
     "name": "stderr",
     "output_type": "stream",
     "text": [
      "==============================\n",
      "*** Open Babel Warning  in ReadMolecule\n",
      "  Failed to kekulize aromatic bonds in MOL2 file (title is 1l1r_9DA_1_protein)\n",
      "\n"
     ]
    },
    {
     "name": "stdout",
     "output_type": "stream",
     "text": [
      "\n"
     ]
    },
    {
     "name": "stderr",
     "output_type": "stream",
     "text": [
      "==============================\n",
      "*** Open Babel Warning  in ReadMolecule\n",
      "  Failed to kekulize aromatic bonds in MOL2 file (title is 3rkr_NAP_1_protein)\n",
      "\n"
     ]
    },
    {
     "name": "stdout",
     "output_type": "stream",
     "text": [
      "\n"
     ]
    },
    {
     "name": "stderr",
     "output_type": "stream",
     "text": [
      "==============================\n",
      "*** Open Babel Warning  in ReadMolecule\n",
      "  Failed to kekulize aromatic bonds in MOL2 file (title is 4ejn_0R4_1_protein)\n",
      "\n"
     ]
    },
    {
     "name": "stdout",
     "output_type": "stream",
     "text": [
      "\n"
     ]
    },
    {
     "name": "stderr",
     "output_type": "stream",
     "text": [
      "==============================\n",
      "*** Open Babel Warning  in ReadMolecule\n",
      "  Failed to kekulize aromatic bonds in MOL2 file (title is 1xg5_NAP_3_protein)\n",
      "\n"
     ]
    },
    {
     "name": "stdout",
     "output_type": "stream",
     "text": [
      "\n"
     ]
    },
    {
     "name": "stderr",
     "output_type": "stream",
     "text": [
      "==============================\n",
      "*** Open Babel Warning  in ReadMolecule\n",
      "  Failed to kekulize aromatic bonds in MOL2 file (title is 1iay_AVG_1_protein)\n",
      "\n"
     ]
    },
    {
     "name": "stdout",
     "output_type": "stream",
     "text": [
      "\n"
     ]
    },
    {
     "name": "stderr",
     "output_type": "stream",
     "text": [
      "==============================\n",
      "*** Open Babel Warning  in ReadMolecule\n",
      "  Failed to kekulize aromatic bonds in MOL2 file (title is 3sz0_FAD_1_protein)\n",
      "\n"
     ]
    },
    {
     "name": "stdout",
     "output_type": "stream",
     "text": [
      "\n"
     ]
    },
    {
     "name": "stderr",
     "output_type": "stream",
     "text": [
      "==============================\n",
      "*** Open Babel Warning  in ReadMolecule\n",
      "  Failed to kekulize aromatic bonds in MOL2 file (title is 3ll9_ADP_2_protein)\n",
      "\n"
     ]
    },
    {
     "name": "stdout",
     "output_type": "stream",
     "text": [
      "\n"
     ]
    },
    {
     "name": "stderr",
     "output_type": "stream",
     "text": [
      "==============================\n",
      "*** Open Babel Warning  in ReadMolecule\n",
      "  Failed to kekulize aromatic bonds in MOL2 file (title is 1x27_ASP_TYR_VAL_HIS_PTR_3_protein)\n",
      "\n"
     ]
    },
    {
     "name": "stdout",
     "output_type": "stream",
     "text": [
      "\n"
     ]
    },
    {
     "name": "stderr",
     "output_type": "stream",
     "text": [
      "==============================\n",
      "*** Open Babel Warning  in ReadMolecule\n",
      "  Failed to kekulize aromatic bonds in MOL2 file (title is 3nmu_SAM_1_protein)\n",
      "\n"
     ]
    },
    {
     "name": "stdout",
     "output_type": "stream",
     "text": [
      "\n"
     ]
    },
    {
     "name": "stderr",
     "output_type": "stream",
     "text": [
      "==============================\n",
      "*** Open Babel Warning  in ReadMolecule\n",
      "  Failed to kekulize aromatic bonds in MOL2 file (title is 1agn_NAD_3_protein)\n",
      "\n"
     ]
    },
    {
     "name": "stdout",
     "output_type": "stream",
     "text": [
      "\n"
     ]
    },
    {
     "name": "stderr",
     "output_type": "stream",
     "text": [
      "==============================\n",
      "*** Open Babel Warning  in ReadMolecule\n",
      "  Failed to kekulize aromatic bonds in MOL2 file (title is 2iml_FMN_1_protein)\n",
      "\n"
     ]
    },
    {
     "name": "stdout",
     "output_type": "stream",
     "text": [
      "\n"
     ]
    },
    {
     "name": "stderr",
     "output_type": "stream",
     "text": [
      "==============================\n",
      "*** Open Babel Warning  in ReadMolecule\n",
      "  Failed to kekulize aromatic bonds in MOL2 file (title is 3oab_DST_3_protein)\n",
      "\n"
     ]
    },
    {
     "name": "stdout",
     "output_type": "stream",
     "text": [
      "\n"
     ]
    },
    {
     "name": "stderr",
     "output_type": "stream",
     "text": [
      "==============================\n",
      "*** Open Babel Warning  in ReadMolecule\n",
      "  Failed to kekulize aromatic bonds in MOL2 file (title is 4je5_PLP_1_protein)\n",
      "\n"
     ]
    },
    {
     "name": "stdout",
     "output_type": "stream",
     "text": [
      "\n"
     ]
    },
    {
     "name": "stderr",
     "output_type": "stream",
     "text": [
      "==============================\n",
      "*** Open Babel Warning  in ReadMolecule\n",
      "  Failed to kekulize aromatic bonds in MOL2 file (title is 3r1v_AZB_1_protein)\n",
      "\n"
     ]
    },
    {
     "name": "stdout",
     "output_type": "stream",
     "text": [
      "\n"
     ]
    },
    {
     "name": "stderr",
     "output_type": "stream",
     "text": [
      "==============================\n",
      "*** Open Babel Warning  in ReadMolecule\n",
      "  Failed to kekulize aromatic bonds in MOL2 file (title is 2cft_PLP_1_protein)\n",
      "\n"
     ]
    },
    {
     "name": "stdout",
     "output_type": "stream",
     "text": [
      "\n"
     ]
    },
    {
     "name": "stderr",
     "output_type": "stream",
     "text": [
      "==============================\n",
      "*** Open Babel Warning  in ReadMolecule\n",
      "  Failed to kekulize aromatic bonds in MOL2 file (title is 3kb1_ADP_1_protein)\n",
      "\n"
     ]
    },
    {
     "name": "stdout",
     "output_type": "stream",
     "text": [
      "\n"
     ]
    },
    {
     "name": "stderr",
     "output_type": "stream",
     "text": [
      "==============================\n",
      "*** Open Babel Warning  in ReadMolecule\n",
      "  Failed to kekulize aromatic bonds in MOL2 file (title is 1lqu_NDP_2_protein)\n",
      "\n"
     ]
    },
    {
     "name": "stdout",
     "output_type": "stream",
     "text": [
      "\n"
     ]
    },
    {
     "name": "stderr",
     "output_type": "stream",
     "text": [
      "==============================\n",
      "*** Open Babel Warning  in ReadMolecule\n",
      "  Failed to kekulize aromatic bonds in MOL2 file (title is 2bqz_SAH_1_protein)\n",
      "\n"
     ]
    },
    {
     "name": "stdout",
     "output_type": "stream",
     "text": [
      "\n"
     ]
    },
    {
     "name": "stderr",
     "output_type": "stream",
     "text": [
      "==============================\n",
      "*** Open Babel Warning  in ReadMolecule\n",
      "  Failed to kekulize aromatic bonds in MOL2 file (title is 2ix5_FAD_2_protein)\n",
      "\n"
     ]
    },
    {
     "name": "stdout",
     "output_type": "stream",
     "text": [
      "\n"
     ]
    },
    {
     "name": "stderr",
     "output_type": "stream",
     "text": [
      "==============================\n",
      "*** Open Babel Warning  in ReadMolecule\n",
      "  Failed to kekulize aromatic bonds in MOL2 file (title is 2egv_SAM_2_protein)\n",
      "\n"
     ]
    },
    {
     "name": "stdout",
     "output_type": "stream",
     "text": [
      "\n"
     ]
    },
    {
     "name": "stderr",
     "output_type": "stream",
     "text": [
      "==============================\n",
      "*** Open Babel Warning  in ReadMolecule\n",
      "  Failed to kekulize aromatic bonds in MOL2 file (title is 1hso_PYZ_1_protein)\n",
      "\n"
     ]
    },
    {
     "name": "stdout",
     "output_type": "stream",
     "text": [
      "\n"
     ]
    },
    {
     "name": "stderr",
     "output_type": "stream",
     "text": [
      "==============================\n",
      "*** Open Babel Warning  in ReadMolecule\n",
      "  Failed to kekulize aromatic bonds in MOL2 file (title is 1mdu_ATP_2_protein)\n",
      "\n"
     ]
    },
    {
     "name": "stdout",
     "output_type": "stream",
     "text": [
      "\n"
     ]
    },
    {
     "name": "stderr",
     "output_type": "stream",
     "text": [
      "==============================\n",
      "*** Open Babel Warning  in ReadMolecule\n",
      "  Failed to kekulize aromatic bonds in MOL2 file (title is 1gc5_ADP_1_protein)\n",
      "\n"
     ]
    },
    {
     "name": "stdout",
     "output_type": "stream",
     "text": [
      "\n"
     ]
    },
    {
     "name": "stderr",
     "output_type": "stream",
     "text": [
      "==============================\n",
      "*** Open Babel Warning  in ReadMolecule\n",
      "  Failed to kekulize aromatic bonds in MOL2 file (title is 2gzw_CMP_7_protein)\n",
      "\n"
     ]
    },
    {
     "name": "stdout",
     "output_type": "stream",
     "text": [
      "\n"
     ]
    },
    {
     "name": "stderr",
     "output_type": "stream",
     "text": [
      "==============================\n",
      "*** Open Babel Warning  in ReadMolecule\n",
      "  Failed to kekulize aromatic bonds in MOL2 file (title is 3vxj_3DM_1_protein)\n",
      "\n"
     ]
    },
    {
     "name": "stdout",
     "output_type": "stream",
     "text": [
      "\n"
     ]
    },
    {
     "name": "stderr",
     "output_type": "stream",
     "text": [
      "==============================\n",
      "*** Open Babel Warning  in ReadMolecule\n",
      "  Failed to kekulize aromatic bonds in MOL2 file (title is 2xje_U5P_1_protein)\n",
      "\n"
     ]
    },
    {
     "name": "stdout",
     "output_type": "stream",
     "text": [
      "\n"
     ]
    },
    {
     "name": "stderr",
     "output_type": "stream",
     "text": [
      "==============================\n",
      "*** Open Babel Warning  in ReadMolecule\n",
      "  Failed to kekulize aromatic bonds in MOL2 file (title is 2vut_NAD_2_protein)\n",
      "\n"
     ]
    },
    {
     "name": "stdout",
     "output_type": "stream",
     "text": [
      "\n"
     ]
    },
    {
     "name": "stderr",
     "output_type": "stream",
     "text": [
      "==============================\n",
      "*** Open Babel Warning  in ReadMolecule\n",
      "  Failed to kekulize aromatic bonds in MOL2 file (title is 2x7f_824_5_protein)\n",
      "\n"
     ]
    },
    {
     "name": "stdout",
     "output_type": "stream",
     "text": [
      "\n"
     ]
    },
    {
     "name": "stderr",
     "output_type": "stream",
     "text": [
      "==============================\n",
      "*** Open Babel Warning  in ReadMolecule\n",
      "  Failed to kekulize aromatic bonds in MOL2 file (title is 2axn_ADP_1_protein)\n",
      "\n"
     ]
    },
    {
     "name": "stdout",
     "output_type": "stream",
     "text": [
      "\n"
     ]
    },
    {
     "name": "stderr",
     "output_type": "stream",
     "text": [
      "==============================\n",
      "*** Open Babel Warning  in ReadMolecule\n",
      "  Failed to kekulize aromatic bonds in MOL2 file (title is 4la7_A1O_1_protein)\n",
      "\n"
     ]
    },
    {
     "name": "stdout",
     "output_type": "stream",
     "text": [
      "\n"
     ]
    },
    {
     "name": "stderr",
     "output_type": "stream",
     "text": [
      "==============================\n",
      "*** Open Babel Warning  in ReadMolecule\n",
      "  Failed to kekulize aromatic bonds in MOL2 file (title is 1tez_FAD_8_protein)\n",
      "\n"
     ]
    },
    {
     "name": "stdout",
     "output_type": "stream",
     "text": [
      "\n"
     ]
    },
    {
     "name": "stderr",
     "output_type": "stream",
     "text": [
      "==============================\n",
      "*** Open Babel Warning  in ReadMolecule\n",
      "  Failed to kekulize aromatic bonds in MOL2 file (title is 2mas_PIR_2_protein)\n",
      "\n"
     ]
    },
    {
     "name": "stdout",
     "output_type": "stream",
     "text": [
      "\n"
     ]
    },
    {
     "name": "stderr",
     "output_type": "stream",
     "text": [
      "==============================\n",
      "*** Open Babel Warning  in ReadMolecule\n",
      "  Failed to kekulize aromatic bonds in MOL2 file (title is 1xvp_CID_1_protein)\n",
      "\n"
     ]
    },
    {
     "name": "stdout",
     "output_type": "stream",
     "text": [
      "\n"
     ]
    },
    {
     "name": "stderr",
     "output_type": "stream",
     "text": [
      "==============================\n",
      "*** Open Babel Warning  in ReadMolecule\n",
      "  Failed to kekulize aromatic bonds in MOL2 file (title is 3u9e_COA_2_protein)\n",
      "\n"
     ]
    },
    {
     "name": "stdout",
     "output_type": "stream",
     "text": [
      "\n"
     ]
    },
    {
     "name": "stderr",
     "output_type": "stream",
     "text": [
      "==============================\n",
      "*** Open Babel Warning  in ReadMolecule\n",
      "  Failed to kekulize aromatic bonds in MOL2 file (title is 3w3n_RX8_1_protein)\n",
      "\n"
     ]
    },
    {
     "name": "stdout",
     "output_type": "stream",
     "text": [
      "\n"
     ]
    },
    {
     "name": "stderr",
     "output_type": "stream",
     "text": [
      "==============================\n",
      "*** Open Babel Warning  in ReadMolecule\n",
      "  Failed to kekulize aromatic bonds in MOL2 file (title is 2vnk_FAD_5_protein)\n",
      "\n"
     ]
    },
    {
     "name": "stdout",
     "output_type": "stream",
     "text": [
      "\n"
     ]
    },
    {
     "name": "stderr",
     "output_type": "stream",
     "text": [
      "==============================\n",
      "*** Open Babel Warning  in ReadMolecule\n",
      "  Failed to kekulize aromatic bonds in MOL2 file (title is 3ftq_GNP_3_protein)\n",
      "\n"
     ]
    },
    {
     "name": "stdout",
     "output_type": "stream",
     "text": [
      "\n"
     ]
    },
    {
     "name": "stderr",
     "output_type": "stream",
     "text": [
      "==============================\n",
      "*** Open Babel Warning  in ReadMolecule\n",
      "  Failed to kekulize aromatic bonds in MOL2 file (title is 1vc2_NAD_1_protein)\n",
      "\n"
     ]
    },
    {
     "name": "stdout",
     "output_type": "stream",
     "text": [
      "\n"
     ]
    },
    {
     "name": "stderr",
     "output_type": "stream",
     "text": [
      "==============================\n",
      "*** Open Babel Warning  in ReadMolecule\n",
      "  Failed to kekulize aromatic bonds in MOL2 file (title is 1ejb_INJ_3_protein)\n",
      "\n"
     ]
    },
    {
     "name": "stdout",
     "output_type": "stream",
     "text": [
      "\n"
     ]
    },
    {
     "name": "stderr",
     "output_type": "stream",
     "text": [
      "==============================\n",
      "*** Open Babel Warning  in ReadMolecule\n",
      "  Failed to kekulize aromatic bonds in MOL2 file (title is 1sej_F89_9_protein)\n",
      "\n"
     ]
    },
    {
     "name": "stdout",
     "output_type": "stream",
     "text": [
      "\n"
     ]
    },
    {
     "name": "stderr",
     "output_type": "stream",
     "text": [
      "==============================\n",
      "*** Open Babel Warning  in ReadMolecule\n",
      "  Failed to kekulize aromatic bonds in MOL2 file (title is 1z1f_STL_1_protein)\n",
      "\n"
     ]
    },
    {
     "name": "stdout",
     "output_type": "stream",
     "text": [
      "\n"
     ]
    },
    {
     "name": "stderr",
     "output_type": "stream",
     "text": [
      "==============================\n",
      "*** Open Babel Warning  in ReadMolecule\n",
      "  Failed to kekulize aromatic bonds in MOL2 file (title is 1d7r_5PA_1_protein)\n",
      "\n"
     ]
    },
    {
     "name": "stdout",
     "output_type": "stream",
     "text": [
      "\n"
     ]
    },
    {
     "name": "stderr",
     "output_type": "stream",
     "text": [
      "==============================\n",
      "*** Open Babel Warning  in ReadMolecule\n",
      "  Failed to kekulize aromatic bonds in MOL2 file (title is 2hek_GDP_2_protein)\n",
      "\n"
     ]
    },
    {
     "name": "stdout",
     "output_type": "stream",
     "text": [
      "\n"
     ]
    },
    {
     "name": "stderr",
     "output_type": "stream",
     "text": [
      "==============================\n",
      "*** Open Babel Warning  in ReadMolecule\n",
      "  Failed to kekulize aromatic bonds in MOL2 file (title is 2xq0_BES_1_protein)\n",
      "\n"
     ]
    },
    {
     "name": "stdout",
     "output_type": "stream",
     "text": [
      "\n"
     ]
    },
    {
     "name": "stderr",
     "output_type": "stream",
     "text": [
      "==============================\n",
      "*** Open Babel Warning  in ReadMolecule\n",
      "  Failed to kekulize aromatic bonds in MOL2 file (title is 4ckc_SAH_2_protein)\n",
      "\n"
     ]
    },
    {
     "name": "stdout",
     "output_type": "stream",
     "text": [
      "\n"
     ]
    },
    {
     "name": "stderr",
     "output_type": "stream",
     "text": [
      "==============================\n",
      "*** Open Babel Warning  in ReadMolecule\n",
      "  Failed to kekulize aromatic bonds in MOL2 file (title is 4jem_C5P_2_protein)\n",
      "\n"
     ]
    },
    {
     "name": "stdout",
     "output_type": "stream",
     "text": [
      "\n"
     ]
    },
    {
     "name": "stderr",
     "output_type": "stream",
     "text": [
      "==============================\n",
      "*** Open Babel Warning  in ReadMolecule\n",
      "  Failed to kekulize aromatic bonds in MOL2 file (title is 3nut_SAH_1_protein)\n",
      "\n"
     ]
    },
    {
     "name": "stdout",
     "output_type": "stream",
     "text": [
      "\n"
     ]
    },
    {
     "name": "stderr",
     "output_type": "stream",
     "text": [
      "==============================\n",
      "*** Open Babel Warning  in ReadMolecule\n",
      "  Failed to kekulize aromatic bonds in MOL2 file (title is 4e37_NDP_2_protein)\n",
      "\n"
     ]
    },
    {
     "name": "stdout",
     "output_type": "stream",
     "text": [
      "\n"
     ]
    },
    {
     "name": "stderr",
     "output_type": "stream",
     "text": [
      "==============================\n",
      "*** Open Babel Warning  in ReadMolecule\n",
      "  Failed to kekulize aromatic bonds in MOL2 file (title is 5c7o_NAD_2_protein)\n",
      "\n"
     ]
    },
    {
     "name": "stdout",
     "output_type": "stream",
     "text": [
      "\n"
     ]
    },
    {
     "name": "stderr",
     "output_type": "stream",
     "text": [
      "==============================\n",
      "*** Open Babel Warning  in ReadMolecule\n",
      "  Failed to kekulize aromatic bonds in MOL2 file (title is 4hej_14D_1_protein)\n",
      "\n"
     ]
    },
    {
     "name": "stdout",
     "output_type": "stream",
     "text": [
      "\n"
     ]
    },
    {
     "name": "stderr",
     "output_type": "stream",
     "text": [
      "==============================\n",
      "*** Open Babel Warning  in ReadMolecule\n",
      "  Failed to kekulize aromatic bonds in MOL2 file (title is 4riy_ADP_4_protein)\n",
      "\n"
     ]
    },
    {
     "name": "stdout",
     "output_type": "stream",
     "text": [
      "\n"
     ]
    },
    {
     "name": "stderr",
     "output_type": "stream",
     "text": [
      "==============================\n",
      "*** Open Babel Warning  in ReadMolecule\n",
      "  Failed to kekulize aromatic bonds in MOL2 file (title is 1qiw_DPD_2_protein)\n",
      "\n"
     ]
    },
    {
     "name": "stdout",
     "output_type": "stream",
     "text": [
      "\n"
     ]
    },
    {
     "name": "stderr",
     "output_type": "stream",
     "text": [
      "==============================\n",
      "*** Open Babel Warning  in ReadMolecule\n",
      "  Failed to kekulize aromatic bonds in MOL2 file (title is 1guf_NDP_1_protein)\n",
      "\n"
     ]
    },
    {
     "name": "stdout",
     "output_type": "stream",
     "text": [
      "\n"
     ]
    },
    {
     "name": "stderr",
     "output_type": "stream",
     "text": [
      "==============================\n",
      "*** Open Babel Warning  in ReadMolecule\n",
      "  Failed to kekulize aromatic bonds in MOL2 file (title is 1a59_COA_1_protein)\n",
      "\n"
     ]
    },
    {
     "name": "stdout",
     "output_type": "stream",
     "text": [
      "\n"
     ]
    },
    {
     "name": "stderr",
     "output_type": "stream",
     "text": [
      "==============================\n",
      "*** Open Babel Warning  in ReadMolecule\n",
      "  Failed to kekulize aromatic bonds in MOL2 file (title is 1n75_ATP_1_protein)\n",
      "\n"
     ]
    },
    {
     "name": "stdout",
     "output_type": "stream",
     "text": [
      "\n"
     ]
    },
    {
     "name": "stderr",
     "output_type": "stream",
     "text": [
      "==============================\n",
      "*** Open Babel Warning  in ReadMolecule\n",
      "  Failed to kekulize aromatic bonds in MOL2 file (title is 2vo4_GTB_1_protein)\n",
      "\n"
     ]
    },
    {
     "name": "stdout",
     "output_type": "stream",
     "text": [
      "\n"
     ]
    },
    {
     "name": "stderr",
     "output_type": "stream",
     "text": [
      "==============================\n",
      "*** Open Babel Warning  in ReadMolecule\n",
      "  This Mol2 file is non-standard. Problem with molecule: 3dkq_IMD_1_protein Cannot interpret atom types correctly, instead attempting to interpret atom type: NI as elements instead.\n",
      "==============================\n",
      "*** Open Babel Warning  in Translate\n",
      "  Cannot perform atom type translation: table cannot find requested types.\n",
      "==============================\n",
      "*** Open Babel Warning  in ReadMolecule\n",
      "  Failed to kekulize aromatic bonds in MOL2 file (title is 3dkq_IMD_1_protein)\n",
      "\n"
     ]
    },
    {
     "name": "stdout",
     "output_type": "stream",
     "text": [
      "\n"
     ]
    },
    {
     "name": "stderr",
     "output_type": "stream",
     "text": [
      "==============================\n",
      "*** Open Babel Warning  in ReadMolecule\n",
      "  Failed to kekulize aromatic bonds in MOL2 file (title is 5jyd_NAD_2_protein)\n",
      "\n"
     ]
    },
    {
     "name": "stdout",
     "output_type": "stream",
     "text": [
      "\n"
     ]
    },
    {
     "name": "stderr",
     "output_type": "stream",
     "text": [
      "==============================\n",
      "*** Open Babel Warning  in ReadMolecule\n",
      "  Failed to kekulize aromatic bonds in MOL2 file (title is 1t64_TSN_2_protein)\n",
      "\n"
     ]
    },
    {
     "name": "stdout",
     "output_type": "stream",
     "text": [
      "\n"
     ]
    },
    {
     "name": "stderr",
     "output_type": "stream",
     "text": [
      "==============================\n",
      "*** Open Babel Warning  in ReadMolecule\n",
      "  Failed to kekulize aromatic bonds in MOL2 file (title is 1vbm_YSA_2_protein)\n",
      "\n"
     ]
    },
    {
     "name": "stdout",
     "output_type": "stream",
     "text": [
      "\n"
     ]
    },
    {
     "name": "stderr",
     "output_type": "stream",
     "text": [
      "==============================\n",
      "*** Open Babel Warning  in ReadMolecule\n",
      "  Failed to kekulize aromatic bonds in MOL2 file (title is 4wsq_KSA_1_protein)\n",
      "\n"
     ]
    },
    {
     "name": "stdout",
     "output_type": "stream",
     "text": [
      "\n"
     ]
    },
    {
     "name": "stderr",
     "output_type": "stream",
     "text": [
      "==============================\n",
      "*** Open Babel Warning  in ReadMolecule\n",
      "  Failed to kekulize aromatic bonds in MOL2 file (title is 1r6w_164_1_protein)\n",
      "\n"
     ]
    },
    {
     "name": "stdout",
     "output_type": "stream",
     "text": [
      "\n"
     ]
    },
    {
     "name": "stderr",
     "output_type": "stream",
     "text": [
      "==============================\n",
      "*** Open Babel Warning  in ReadMolecule\n",
      "  Failed to kekulize aromatic bonds in MOL2 file (title is 4kne_1CY_1_protein)\n",
      "\n"
     ]
    },
    {
     "name": "stdout",
     "output_type": "stream",
     "text": [
      "\n"
     ]
    },
    {
     "name": "stderr",
     "output_type": "stream",
     "text": [
      "==============================\n",
      "*** Open Babel Warning  in ReadMolecule\n",
      "  Failed to kekulize aromatic bonds in MOL2 file (title is 4wf0_FMN_1_protein)\n",
      "\n"
     ]
    },
    {
     "name": "stdout",
     "output_type": "stream",
     "text": [
      "\n"
     ]
    },
    {
     "name": "stderr",
     "output_type": "stream",
     "text": [
      "==============================\n",
      "*** Open Babel Warning  in ReadMolecule\n",
      "  Failed to kekulize aromatic bonds in MOL2 file (title is 3rhh_NAP_1_protein)\n",
      "\n"
     ]
    },
    {
     "name": "stdout",
     "output_type": "stream",
     "text": [
      "\n",
      "Number of proteins to train the model: 2000\n"
     ]
    }
   ],
   "source": [
    "# TODO - I was not able to filter the warnings\n",
    "proteins, binding_sites, _ = get_training_data(\"train_test_subset_2000\")"
   ]
  },
  {
   "cell_type": "code",
   "execution_count": 8,
   "id": "70500d7d",
   "metadata": {},
   "outputs": [
    {
     "name": "stdout",
     "output_type": "stream",
     "text": [
      "(2000, 36, 36, 36, 18)\n",
      "(2000, 36, 36, 36, 1)\n"
     ]
    }
   ],
   "source": [
    "# Check that the two sets have the same number of training parameters\n",
    "print(proteins.shape)\n",
    "print(binding_sites.shape)"
   ]
  },
  {
   "cell_type": "markdown",
   "id": "69cf33b3",
   "metadata": {},
   "source": [
    "Download and upload the numpy arrays created:"
   ]
  },
  {
   "cell_type": "code",
   "execution_count": 7,
   "id": "8d8d3d29",
   "metadata": {},
   "outputs": [
    {
     "data": {
      "text/plain": [
       "numpy.ndarray"
      ]
     },
     "execution_count": 7,
     "metadata": {},
     "output_type": "execute_result"
    }
   ],
   "source": [
    "# Download\n",
    "savetxt('../../Data/train_test_subset_2000_proteins.csv', proteins, delimiter=',')\n",
    "savetxt('../../Data/train_test_subset_2000_binding_sites.csv', binding_sites, delimiter=',')"
   ]
  },
  {
   "cell_type": "code",
   "execution_count": 4,
   "id": "e5bc963b",
   "metadata": {},
   "outputs": [],
   "source": [
    "X_train, X_test, y_train, y_test = train_test_split(proteins, \n",
    "                                                    binding_sites, \n",
    "                                                    test_size=0.2, \n",
    "                                                    random_state=42)"
   ]
  },
  {
   "cell_type": "markdown",
   "id": "602d2bf6",
   "metadata": {},
   "source": [
    "## Train the model"
   ]
  },
  {
   "cell_type": "code",
   "execution_count": 5,
   "id": "01593db6",
   "metadata": {
    "vscode": {
     "languageId": "python"
    }
   },
   "outputs": [
    {
     "name": "stderr",
     "output_type": "stream",
     "text": [
      "2023-04-03 20:17:22.972796: I tensorflow/core/platform/cpu_feature_guard.cc:193] This TensorFlow binary is optimized with oneAPI Deep Neural Network Library (oneDNN) to use the following CPU instructions in performance-critical operations:  SSE4.1 SSE4.2 AVX AVX2 AVX512F AVX512_VNNI FMA\n",
      "To enable them in other operations, rebuild TensorFlow with the appropriate compiler flags.\n",
      "2023-04-03 20:17:22.978203: I tensorflow/core/common_runtime/process_util.cc:146] Creating new thread pool with default inter op setting: 2. Tune using inter_op_parallelism_threads for best performance.\n"
     ]
    },
    {
     "name": "stdout",
     "output_type": "stream",
     "text": [
      "Epoch 1/300\n",
      "288/288 [==============================] - 757s 3s/step - loss: 1.1384 - accuracy: 0.9831 - val_loss: 0.9245 - val_accuracy: 0.9972\n",
      "Epoch 2/300\n",
      "288/288 [==============================] - 777s 3s/step - loss: 0.7878 - accuracy: 0.9968 - val_loss: 1.2655 - val_accuracy: 0.8874\n",
      "Epoch 3/300\n",
      "288/288 [==============================] - 800s 3s/step - loss: 0.6452 - accuracy: 0.9970 - val_loss: 0.6624 - val_accuracy: 0.9973\n",
      "Epoch 4/300\n",
      "288/288 [==============================] - 817s 3s/step - loss: 0.5640 - accuracy: 0.9971 - val_loss: 0.7779 - val_accuracy: 0.9978\n",
      "Epoch 5/300\n",
      "288/288 [==============================] - 777s 3s/step - loss: 0.5176 - accuracy: 0.9973 - val_loss: 1.0946 - val_accuracy: 0.9979\n",
      "Epoch 6/300\n",
      "288/288 [==============================] - 734s 3s/step - loss: 0.4756 - accuracy: 0.9973 - val_loss: 1.0233 - val_accuracy: 0.9644\n",
      "Epoch 7/300\n",
      "288/288 [==============================] - 725s 3s/step - loss: 0.4363 - accuracy: 0.9974 - val_loss: 1.0969 - val_accuracy: 0.9195\n",
      "Epoch 8/300\n",
      "288/288 [==============================] - 727s 3s/step - loss: 0.4562 - accuracy: 0.9973 - val_loss: 0.8988 - val_accuracy: 0.9951\n",
      "Epoch 9/300\n",
      "288/288 [==============================] - 725s 3s/step - loss: 0.4544 - accuracy: 0.9975 - val_loss: 0.7386 - val_accuracy: 0.9978\n",
      "Epoch 10/300\n",
      "288/288 [==============================] - 731s 3s/step - loss: 0.4005 - accuracy: 0.9976 - val_loss: 0.6233 - val_accuracy: 0.9977\n",
      "Epoch 11/300\n",
      "288/288 [==============================] - 728s 3s/step - loss: 0.3740 - accuracy: 0.9976 - val_loss: 0.5297 - val_accuracy: 0.9960\n",
      "Epoch 12/300\n",
      "288/288 [==============================] - 723s 3s/step - loss: 0.3542 - accuracy: 0.9977 - val_loss: 0.6266 - val_accuracy: 0.9953\n",
      "Epoch 13/300\n",
      "288/288 [==============================] - 725s 3s/step - loss: 0.3435 - accuracy: 0.9977 - val_loss: 0.9759 - val_accuracy: 0.9979\n",
      "Epoch 14/300\n",
      "288/288 [==============================] - 721s 3s/step - loss: 0.3327 - accuracy: 0.9977 - val_loss: 0.8779 - val_accuracy: 0.9807\n",
      "Epoch 15/300\n",
      "288/288 [==============================] - 758s 3s/step - loss: 0.3492 - accuracy: 0.9977 - val_loss: 0.5832 - val_accuracy: 0.9975\n",
      "Epoch 16/300\n",
      "288/288 [==============================] - 835s 3s/step - loss: 0.3260 - accuracy: 0.9978 - val_loss: 0.5764 - val_accuracy: 0.9967\n",
      "Epoch 17/300\n",
      "288/288 [==============================] - 845s 3s/step - loss: 0.3082 - accuracy: 0.9978 - val_loss: 0.8564 - val_accuracy: 0.9967\n",
      "Epoch 18/300\n",
      "288/288 [==============================] - 762s 3s/step - loss: 0.3248 - accuracy: 0.9978 - val_loss: 1.0935 - val_accuracy: 0.9276\n",
      "Epoch 19/300\n",
      "288/288 [==============================] - 735s 3s/step - loss: 0.3231 - accuracy: 0.9978 - val_loss: 0.5841 - val_accuracy: 0.9959\n",
      "Epoch 20/300\n",
      "288/288 [==============================] - 747s 3s/step - loss: 0.2871 - accuracy: 0.9979 - val_loss: 0.6084 - val_accuracy: 0.9934\n",
      "Epoch 21/300\n",
      "288/288 [==============================] - 751s 3s/step - loss: 0.2942 - accuracy: 0.9978 - val_loss: 0.7519 - val_accuracy: 0.9968\n",
      "Epoch 22/300\n",
      "288/288 [==============================] - 755s 3s/step - loss: 0.2889 - accuracy: 0.9979 - val_loss: 0.8701 - val_accuracy: 0.9970\n",
      "Epoch 23/300\n",
      "288/288 [==============================] - 734s 3s/step - loss: 0.2961 - accuracy: 0.9978 - val_loss: 0.6966 - val_accuracy: 0.9974\n",
      "Epoch 24/300\n",
      "288/288 [==============================] - 735s 3s/step - loss: 0.3121 - accuracy: 0.9978 - val_loss: 0.5413 - val_accuracy: 0.9966\n",
      "Epoch 25/300\n",
      "288/288 [==============================] - 726s 3s/step - loss: 0.2667 - accuracy: 0.9979 - val_loss: 0.5653 - val_accuracy: 0.9961\n",
      "Epoch 26/300\n",
      "288/288 [==============================] - 728s 3s/step - loss: 0.2648 - accuracy: 0.9979 - val_loss: 0.9779 - val_accuracy: 0.9979\n"
     ]
    },
    {
     "data": {
      "text/plain": [
       "<keras.callbacks.History at 0x7fbb37a56640>"
      ]
     },
     "execution_count": 5,
     "metadata": {},
     "output_type": "execute_result"
    }
   ],
   "source": [
    "# I have based myself on this tutorial:\n",
    "# https://keras.io/examples/vision/3D_image_classification/\n",
    "\n",
    "## DEFINE VARIABLES ##\n",
    "# In the paper, a batch size of 5 was used.\n",
    "# They also found DiceLoss to be the best loss function to train the model\n",
    "batch_size = 5\n",
    "epochs = 300\n",
    "loss_function = DiceLoss\n",
    "\n",
    "\n",
    "## DEFINE CALLBACKS ##\n",
    "# A Callback is an object that can perform actions at various stages of training\n",
    "# ModelCheckpoint will save the best weights of the training\n",
    "# EarlyStopping stops the training when val_loss stops improving\n",
    "checkpoint_cb = keras.callbacks.ModelCheckpoint(\n",
    "    filepath=\"best_weights.h5\",\n",
    "    monitor = \"val_loss\",\n",
    "    save_best_only=True)\n",
    "early_stopping_cb = keras.callbacks.EarlyStopping(monitor=\"val_loss\", \n",
    "                                                  patience=15)\n",
    "\n",
    "## TRAIN THE MODEL ##\n",
    "model = PUResNet()\n",
    "model.compile(loss=loss_function, optimizer=\"adam\", \n",
    "              metrics=[\"accuracy\"])\n",
    "#model.load_weights(\"bst_bs_prediction.h5\")\n",
    "\n",
    "model.fit(X_train, y_train, \n",
    "          batch_size=batch_size, epochs=epochs, \n",
    "          validation_split=0.1, shuffle=True,\n",
    "          callbacks=[checkpoint_cb, early_stopping_cb])"
   ]
  },
  {
   "cell_type": "markdown",
   "id": "d9ab7824",
   "metadata": {},
   "source": [
    "## Visualise the model"
   ]
  },
  {
   "cell_type": "code",
   "execution_count": 6,
   "id": "78dd7a67",
   "metadata": {
    "vscode": {
     "languageId": "python"
    }
   },
   "outputs": [
    {
     "data": {
      "image/png": "[encoded data removed]",
      "text/plain": [
       "<Figure size 2000x300 with 2 Axes>"
      ]
     },
     "metadata": {},
     "output_type": "display_data"
    }
   ],
   "source": [
    "# Visualize the performance of the model\n",
    "import matplotlib.pyplot as plt\n",
    "\n",
    "fig, ax = plt.subplots(1, 2, figsize=(20, 3))\n",
    "ax = ax.ravel()\n",
    "\n",
    "for i, metric in enumerate([\"accuracy\", \"loss\"]):\n",
    "    ax[i].plot(model.history.history[metric])\n",
    "    ax[i].plot(model.history.history[\"val_\" + metric])\n",
    "    ax[i].set_title(\"Model {}\".format(metric))\n",
    "    ax[i].set_xlabel(\"epochs\")\n",
    "    ax[i].set_ylabel(metric)\n",
    "    ax[i].legend([\"train\", \"val\"])"
   ]
  },
  {
   "cell_type": "code",
   "execution_count": null,
   "id": "5d00b020",
   "metadata": {
    "vscode": {
     "languageId": "python"
    }
   },
   "outputs": [],
   "source": [
    "# In order to continue training the model, run this code\n",
    "# TODO - Should save the checkpoints in a file so that I can concatenate them\n",
    "batch_size = 5\n",
    "epochs = 30\n",
    "\n",
    "model.load_weights(\"bst_bs_prediction.h5\")\n",
    "\n",
    "model.fit(X_train, y_train, \n",
    "          batch_size=batch_size, epochs=epochs, \n",
    "          validation_split=0.1, shuffle=True,\n",
    "          callbacks=[checkpoint_cb, early_stopping_cb])"
   ]
  }
 ],
 "metadata": {
  "kernelspec": {
   "display_name": "TrialEnv2",
   "language": "python",
   "name": "trialenv2"
  },
  "language_info": {
   "codemirror_mode": {
    "name": "ipython",
    "version": 3
   },
   "file_extension": ".py",
   "mimetype": "text/x-python",
   "name": "python",
   "nbconvert_exporter": "python",
   "pygments_lexer": "ipython3",
   "version": "3.9.13"
  }
 },
 "nbformat": 4,
 "nbformat_minor": 5
}
