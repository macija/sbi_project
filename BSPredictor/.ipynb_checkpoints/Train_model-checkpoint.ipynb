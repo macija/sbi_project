{
 "cells": [
  {
   "cell_type": "markdown",
   "id": "172df2ca",
   "metadata": {},
   "source": [
    "How to add an environment to Jupyter Notebook:<br>\n",
    "`\n",
    "conda env list\n",
    "conda install -c anaconda ipykernel\n",
    "python -m ipykernel install --user --name=EnvironmentName\n",
    "`\n",
    "\n",
    "What I have added in TrialEnv2:<br>\n",
    "`\n",
    "conda install python=3.10\n",
    "conda install numpy\n",
    "conda install -c conda-forge openbabel\n",
    "conda install pandas\n",
    "conda install -c conda-forge rdkit\n",
    "conda install -c anaconda scikit-learn\n",
    "`"
   ]
  },
  {
   "cell_type": "code",
   "execution_count": 1,
   "id": "1ebd68f3",
   "metadata": {},
   "outputs": [
    {
     "name": "stdout",
     "output_type": "stream",
     "text": [
      "Retrieving notices: ...working... done\n",
      "Collecting package metadata (current_repodata.json): done\n",
      "Solving environment: done\n",
      "\n",
      "# All requested packages already installed.\n",
      "\n"
     ]
    }
   ],
   "source": [
    "!conda install -y -c conda-forge openbabel\n",
    "#Import files\n",
    "import os\n",
    "import numpy as np\n",
    "import keras\n",
    "import keras.backend as K\n",
    "from openbabel import pybel, openbabel\n",
    "from sklearn.model_selection import train_test_split\n",
    "\n",
    "from data import Featurizer, make_grid\n",
    "from MyModel import PUResNet"
   ]
  },
  {
   "cell_type": "markdown",
   "id": "d1aafd39",
   "metadata": {},
   "source": [
    "## Prepare the data"
   ]
  },
  {
   "cell_type": "code",
   "execution_count": 2,
   "id": "3ba10cfe",
   "metadata": {},
   "outputs": [
    {
     "name": "stderr",
     "output_type": "stream",
     "text": [
      "==============================\n",
      "*** Open Babel Warning  in ReadMolecule\n",
      "  Failed to kekulize aromatic bonds in MOL2 file (title is 4j55_031_1_protein)\n",
      "\n",
      "==============================\n",
      "*** Open Babel Warning  in ReadMolecule\n",
      "  Failed to kekulize aromatic bonds in MOL2 file (title is 3bva_2NC_1_protein)\n",
      "\n",
      "==============================\n",
      "*** Open Babel Warning  in ReadMolecule\n",
      "  Failed to kekulize aromatic bonds in MOL2 file (title is 3bva_2NC_1_ligand)\n",
      "\n",
      "==============================\n",
      "*** Open Babel Warning  in ReadMolecule\n",
      "  Failed to kekulize aromatic bonds in MOL2 file (title is 4heg_G52_1_protein)\n",
      "\n",
      "==============================\n",
      "*** Open Babel Warning  in ReadMolecule\n",
      "  Failed to kekulize aromatic bonds in MOL2 file (title is 2q64_1UN_1_protein)\n",
      "\n",
      "==============================\n",
      "*** Open Babel Warning  in ReadMolecule\n",
      "  Failed to kekulize aromatic bonds in MOL2 file (title is 2z4o_065_1_protein)\n",
      "\n"
     ]
    },
    {
     "name": "stdout",
     "output_type": "stream",
     "text": [
      "\n",
      "\n",
      "\n",
      "\n",
      "\n"
     ]
    },
    {
     "name": "stderr",
     "output_type": "stream",
     "text": [
      "==============================\n",
      "*** Open Babel Warning  in ReadMolecule\n",
      "  Failed to kekulize aromatic bonds in MOL2 file (title is 3ucb_017_1_protein)\n",
      "\n",
      "==============================\n",
      "*** Open Babel Warning  in ReadMolecule\n",
      "  Failed to kekulize aromatic bonds in MOL2 file (title is 3tog_079_2_protein)\n",
      "\n",
      "==============================\n",
      "*** Open Babel Warning  in ReadMolecule\n",
      "  Failed to kekulize aromatic bonds in MOL2 file (title is 3tof_076_1_protein)\n",
      "\n",
      "==============================\n",
      "*** Open Babel Warning  in ReadMolecule\n",
      "  Failed to kekulize aromatic bonds in MOL2 file (title is 3vfb_031_1_protein)\n",
      "\n",
      "==============================\n",
      "*** Open Babel Warning  in ReadMolecule\n",
      "  Failed to kekulize aromatic bonds in MOL2 file (title is 1dif_A85_1_protein)\n",
      "\n",
      "==============================\n",
      "*** Open Babel Warning  in ReadMolecule\n",
      "  Failed to kekulize aromatic bonds in MOL2 file (title is 3pwr_ROC_1_protein)\n",
      "\n"
     ]
    },
    {
     "name": "stdout",
     "output_type": "stream",
     "text": [
      "\n",
      "\n",
      "\n",
      "\n",
      "\n",
      "\n",
      "\n",
      "\n"
     ]
    },
    {
     "name": "stderr",
     "output_type": "stream",
     "text": [
      "==============================\n",
      "*** Open Babel Warning  in ReadMolecule\n",
      "  Failed to kekulize aromatic bonds in MOL2 file (title is 3i6o_GR6_1_protein)\n",
      "\n",
      "==============================\n",
      "*** Open Babel Warning  in ReadMolecule\n",
      "  Failed to kekulize aromatic bonds in MOL2 file (title is 2pyn_1UN_1_protein)\n",
      "\n",
      "==============================\n",
      "*** Open Babel Warning  in ReadMolecule\n",
      "  Failed to kekulize aromatic bonds in MOL2 file (title is 2hny_NVP_1_protein)\n",
      "\n"
     ]
    },
    {
     "name": "stdout",
     "output_type": "stream",
     "text": [
      "\n",
      "\n",
      "\n",
      "\n",
      "\n"
     ]
    },
    {
     "name": "stderr",
     "output_type": "stream",
     "text": [
      "==============================\n",
      "*** Open Babel Warning  in ReadMolecule\n",
      "  Failed to kekulize aromatic bonds in MOL2 file (title is 2bb9_AKC_1_protein)\n",
      "\n",
      "==============================\n",
      "*** Open Babel Warning  in ReadMolecule\n",
      "  Failed to kekulize aromatic bonds in MOL2 file (title is 2b7z_MK1_1_protein)\n",
      "\n",
      "==============================\n",
      "*** Open Babel Warning  in ReadMolecule\n",
      "  Failed to kekulize aromatic bonds in MOL2 file (title is 2pwc_G3G_1_protein)\n",
      "\n",
      "==============================\n",
      "*** Open Babel Warning  in ReadMolecule\n",
      "  Failed to kekulize aromatic bonds in MOL2 file (title is 2qnq_QN3_1_protein)\n",
      "\n",
      "==============================\n",
      "*** Open Babel Warning  in ReadMolecule\n",
      "  Failed to kekulize aromatic bonds in MOL2 file (title is 4hla_017_1_protein)\n",
      "\n"
     ]
    },
    {
     "name": "stdout",
     "output_type": "stream",
     "text": [
      "\n",
      "\n",
      "\n"
     ]
    },
    {
     "name": "stderr",
     "output_type": "stream",
     "text": [
      "==============================\n",
      "*** Open Babel Warning  in ReadMolecule\n",
      "  Failed to kekulize aromatic bonds in MOL2 file (title is 3jvw_DMP_1_protein)\n",
      "\n",
      "==============================\n",
      "*** Open Babel Warning  in ReadMolecule\n",
      "  Failed to kekulize aromatic bonds in MOL2 file (title is 1m0b_0ZQ_1_protein)\n",
      "\n",
      "==============================\n",
      "*** Open Babel Warning  in ReadMolecule\n",
      "  Failed to kekulize aromatic bonds in MOL2 file (title is 2qd7_065_1_protein)\n",
      "\n",
      "==============================\n",
      "*** Open Babel Warning  in ReadMolecule\n",
      "  Failed to kekulize aromatic bonds in MOL2 file (title is 3t11_3T1_2_protein)\n",
      "\n",
      "==============================\n",
      "*** Open Babel Warning  in ReadMolecule\n",
      "  Failed to kekulize aromatic bonds in MOL2 file (title is 1sdv_MK1_1_protein)\n",
      "\n"
     ]
    },
    {
     "name": "stdout",
     "output_type": "stream",
     "text": [
      "\n",
      "\n",
      "\n",
      "\n",
      "\n"
     ]
    },
    {
     "name": "stderr",
     "output_type": "stream",
     "text": [
      "==============================\n",
      "*** Open Babel Warning  in ReadMolecule\n",
      "  Failed to kekulize aromatic bonds in MOL2 file (title is 3kdd_JZQ_1_protein)\n",
      "\n",
      "==============================\n",
      "*** Open Babel Warning  in ReadMolecule\n",
      "  Failed to kekulize aromatic bonds in MOL2 file (title is 1daz_0Q4_1_protein)\n",
      "\n",
      "==============================\n",
      "*** Open Babel Warning  in ReadMolecule\n",
      "  Failed to kekulize aromatic bonds in MOL2 file (title is 1daz_0Q4_1_ligand)\n",
      "\n",
      "==============================\n",
      "*** Open Babel Warning  in ReadMolecule\n",
      "  Failed to kekulize aromatic bonds in MOL2 file (title is 3djk_G55_1_protein)\n",
      "\n"
     ]
    },
    {
     "name": "stdout",
     "output_type": "stream",
     "text": [
      "\n",
      "\n",
      "\n"
     ]
    },
    {
     "name": "stderr",
     "output_type": "stream",
     "text": [
      "==============================\n",
      "*** Open Babel Warning  in ReadMolecule\n",
      "  Failed to kekulize aromatic bonds in MOL2 file (title is 1a94_0Q4_1_protein)\n",
      "\n",
      "==============================\n",
      "*** Open Babel Warning  in ReadMolecule\n",
      "  Failed to kekulize aromatic bonds in MOL2 file (title is 1a94_0Q4_1_ligand)\n",
      "\n",
      "==============================\n",
      "*** Open Babel Warning  in ReadMolecule\n",
      "  Failed to kekulize aromatic bonds in MOL2 file (title is 1xl5_190_1_protein)\n",
      "\n",
      "==============================\n",
      "*** Open Babel Warning  in ReadMolecule\n",
      "  Failed to kekulize aromatic bonds in MOL2 file (title is 1xl2_189_1_protein)\n",
      "\n",
      "==============================\n",
      "*** Open Babel Warning  in ReadMolecule\n",
      "  Failed to kekulize aromatic bonds in MOL2 file (title is 2az9_3TL_1_protein)\n",
      "\n"
     ]
    },
    {
     "name": "stdout",
     "output_type": "stream",
     "text": [
      "\n",
      "\n",
      "\n",
      "\n"
     ]
    },
    {
     "name": "stderr",
     "output_type": "stream",
     "text": [
      "==============================\n",
      "*** Open Babel Warning  in ReadMolecule\n",
      "  Failed to kekulize aromatic bonds in MOL2 file (title is 1zj7_0ZT_1_protein)\n",
      "\n",
      "==============================\n",
      "*** Open Babel Warning  in ReadMolecule\n",
      "  Failed to kekulize aromatic bonds in MOL2 file (title is 1hpo_UNI_1_protein)\n",
      "\n",
      "==============================\n",
      "*** Open Babel Warning  in ReadMolecule\n",
      "  Failed to kekulize aromatic bonds in MOL2 file (title is 1hni_AAA_1_protein)\n",
      "\n"
     ]
    },
    {
     "name": "stdout",
     "output_type": "stream",
     "text": [
      "\n",
      "\n",
      "\n",
      "\n"
     ]
    },
    {
     "name": "stderr",
     "output_type": "stream",
     "text": [
      "==============================\n",
      "*** Open Babel Warning  in ReadMolecule\n",
      "  Failed to kekulize aromatic bonds in MOL2 file (title is 4hdf_G52_1_protein)\n",
      "\n",
      "==============================\n",
      "*** Open Babel Warning  in ReadMolecule\n",
      "  Failed to kekulize aromatic bonds in MOL2 file (title is 4dfg_0JV_1_protein)\n",
      "\n",
      "==============================\n",
      "*** Open Babel Warning  in ReadMolecule\n",
      "  Failed to kekulize aromatic bonds in MOL2 file (title is 2pym_1UN_1_protein)\n",
      "\n",
      "==============================\n",
      "*** Open Babel Warning  in ReadMolecule\n",
      "  Failed to kekulize aromatic bonds in MOL2 file (title is 2fde_385_1_protein)\n",
      "\n"
     ]
    },
    {
     "name": "stdout",
     "output_type": "stream",
     "text": [
      "\n",
      "\n",
      "\n"
     ]
    },
    {
     "name": "stderr",
     "output_type": "stream",
     "text": [
      "==============================\n",
      "*** Open Babel Warning  in ReadMolecule\n",
      "  Failed to kekulize aromatic bonds in MOL2 file (title is 3ckt_YDP_1_protein)\n",
      "\n",
      "==============================\n",
      "*** Open Babel Warning  in ReadMolecule\n",
      "  Failed to kekulize aromatic bonds in MOL2 file (title is 1hsg_MK1_1_protein)\n",
      "\n",
      "==============================\n",
      "*** Open Babel Warning  in ReadMolecule\n",
      "  Failed to kekulize aromatic bonds in MOL2 file (title is 2qci_065_1_protein)\n",
      "\n"
     ]
    },
    {
     "name": "stdout",
     "output_type": "stream",
     "text": [
      "\n",
      "\n",
      "\n"
     ]
    },
    {
     "name": "stderr",
     "output_type": "stream",
     "text": [
      "==============================\n",
      "*** Open Babel Warning  in ReadMolecule\n",
      "  Failed to kekulize aromatic bonds in MOL2 file (title is 1sdu_MK1_1_protein)\n",
      "\n",
      "==============================\n",
      "*** Open Babel Warning  in ReadMolecule\n",
      "  Failed to kekulize aromatic bonds in MOL2 file (title is 3uhl_2NC_1_protein)\n",
      "\n",
      "==============================\n",
      "*** Open Babel Warning  in ReadMolecule\n",
      "  Failed to kekulize aromatic bonds in MOL2 file (title is 3uhl_2NC_1_ligand)\n",
      "\n",
      "==============================\n",
      "*** Open Babel Warning  in ReadMolecule\n",
      "  Failed to kekulize aromatic bonds in MOL2 file (title is 2qd6_065_1_protein)\n",
      "\n"
     ]
    },
    {
     "name": "stdout",
     "output_type": "stream",
     "text": [
      "\n",
      "\n",
      "\n",
      "\n"
     ]
    },
    {
     "name": "stderr",
     "output_type": "stream",
     "text": [
      "==============================\n",
      "*** Open Babel Warning  in ReadMolecule\n",
      "  Failed to kekulize aromatic bonds in MOL2 file (title is 4fe6_0TQ_1_protein)\n",
      "\n",
      "==============================\n",
      "*** Open Babel Warning  in ReadMolecule\n",
      "  Failed to kekulize aromatic bonds in MOL2 file (title is 2az8_3TL_1_protein)\n",
      "\n",
      "==============================\n",
      "*** Open Babel Warning  in ReadMolecule\n",
      "  Failed to kekulize aromatic bonds in MOL2 file (title is 1sdt_MK1_1_protein)\n",
      "\n",
      "==============================\n",
      "*** Open Babel Warning  in ReadMolecule\n",
      "  Failed to kekulize aromatic bonds in MOL2 file (title is 1sh9_RIT_1_protein)\n",
      "\n"
     ]
    },
    {
     "name": "stdout",
     "output_type": "stream",
     "text": [
      "\n",
      "\n",
      "\n"
     ]
    },
    {
     "name": "stderr",
     "output_type": "stream",
     "text": [
      "==============================\n",
      "*** Open Babel Warning  in ReadMolecule\n",
      "  Failed to kekulize aromatic bonds in MOL2 file (title is 3bvb_017_1_protein)\n",
      "\n",
      "==============================\n",
      "*** Open Babel Warning  in ReadMolecule\n",
      "  Failed to kekulize aromatic bonds in MOL2 file (title is 3ndx_RIT_1_protein)\n",
      "\n",
      "==============================\n",
      "*** Open Babel Warning  in ReadMolecule\n",
      "  Failed to kekulize aromatic bonds in MOL2 file (title is 3nls_016_1_protein)\n",
      "\n"
     ]
    },
    {
     "name": "stdout",
     "output_type": "stream",
     "text": [
      "\n",
      "\n",
      "\n",
      "\n"
     ]
    },
    {
     "name": "stderr",
     "output_type": "stream",
     "text": [
      "==============================\n",
      "*** Open Babel Warning  in ReadMolecule\n",
      "  Failed to kekulize aromatic bonds in MOL2 file (title is 3ttp_017_1_protein)\n",
      "\n",
      "==============================\n",
      "*** Open Babel Warning  in ReadMolecule\n",
      "  Failed to kekulize aromatic bonds in MOL2 file (title is 3jw2_017_1_protein)\n",
      "\n",
      "==============================\n",
      "*** Open Babel Warning  in ReadMolecule\n",
      "  Failed to kekulize aromatic bonds in MOL2 file (title is 3toh_079_1_protein)\n",
      "\n",
      "==============================\n",
      "*** Open Babel Warning  in ReadMolecule\n",
      "  Failed to kekulize aromatic bonds in MOL2 file (title is 3vf7_031_1_protein)\n",
      "\n"
     ]
    },
    {
     "name": "stdout",
     "output_type": "stream",
     "text": [
      "\n",
      "\n",
      "\n"
     ]
    },
    {
     "name": "stderr",
     "output_type": "stream",
     "text": [
      "==============================\n",
      "*** Open Babel Warning  in ReadMolecule\n",
      "  Failed to kekulize aromatic bonds in MOL2 file (title is 3qih_FG7_3_protein)\n",
      "\n",
      "==============================\n",
      "*** Open Babel Warning  in ReadMolecule\n",
      "  Failed to kekulize aromatic bonds in MOL2 file (title is 1sgu_MK1_1_protein)\n",
      "\n",
      "==============================\n",
      "*** Open Babel Warning  in ReadMolecule\n",
      "  Failed to kekulize aromatic bonds in MOL2 file (title is 4j54_G52_1_protein)\n",
      "\n"
     ]
    },
    {
     "name": "stdout",
     "output_type": "stream",
     "text": [
      "\n",
      "\n",
      "\n",
      "\n"
     ]
    },
    {
     "name": "stderr",
     "output_type": "stream",
     "text": [
      "==============================\n",
      "*** Open Babel Warning  in ReadMolecule\n",
      "  Failed to kekulize aromatic bonds in MOL2 file (title is 3qn8_NI7_1_protein)\n",
      "\n",
      "==============================\n",
      "*** Open Babel Warning  in ReadMolecule\n",
      "  Failed to kekulize aromatic bonds in MOL2 file (title is 3st5_G89_1_protein)\n",
      "\n",
      "==============================\n",
      "*** Open Babel Warning  in ReadMolecule\n",
      "  Failed to kekulize aromatic bonds in MOL2 file (title is 2a1e_IPF_1_protein)\n",
      "\n",
      "==============================\n",
      "*** Open Babel Warning  in ReadMolecule\n",
      "  Failed to kekulize aromatic bonds in MOL2 file (title is 3t3c_017_1_protein)\n",
      "\n"
     ]
    },
    {
     "name": "stdout",
     "output_type": "stream",
     "text": [
      "\n",
      "\n",
      "\n"
     ]
    },
    {
     "name": "stderr",
     "output_type": "stream",
     "text": [
      "==============================\n",
      "*** Open Babel Warning  in ReadMolecule\n",
      "  Failed to kekulize aromatic bonds in MOL2 file (title is 3qp0_NI8_1_protein)\n",
      "\n",
      "==============================\n",
      "*** Open Babel Warning  in ReadMolecule\n",
      "  Failed to kekulize aromatic bonds in MOL2 file (title is 1upj_U01_1_protein)\n",
      "\n",
      "==============================\n",
      "*** Open Babel Warning  in ReadMolecule\n",
      "  Failed to kekulize aromatic bonds in MOL2 file (title is 1hvl_A76_1_protein)\n",
      "\n"
     ]
    },
    {
     "name": "stdout",
     "output_type": "stream",
     "text": [
      "\n",
      "\n",
      "\n",
      "\n"
     ]
    },
    {
     "name": "stderr",
     "output_type": "stream",
     "text": [
      "==============================\n",
      "*** Open Babel Warning  in ReadMolecule\n",
      "  Failed to kekulize aromatic bonds in MOL2 file (title is 2pk6_O33_1_protein)\n",
      "\n",
      "==============================\n",
      "*** Open Babel Warning  in ReadMolecule\n",
      "  Failed to kekulize aromatic bonds in MOL2 file (title is 2qak_1UN_1_protein)\n",
      "\n",
      "==============================\n",
      "*** Open Babel Warning  in ReadMolecule\n",
      "  Failed to kekulize aromatic bonds in MOL2 file (title is 1rl8_RIT_1_protein)\n",
      "\n",
      "==============================\n",
      "*** Open Babel Warning  in ReadMolecule\n",
      "  Failed to kekulize aromatic bonds in MOL2 file (title is 3qrs_NK8_1_protein)\n",
      "\n"
     ]
    },
    {
     "name": "stdout",
     "output_type": "stream",
     "text": [
      "\n",
      "\n"
     ]
    },
    {
     "name": "stderr",
     "output_type": "stream",
     "text": [
      "==============================\n",
      "*** Open Babel Warning  in ReadMolecule\n",
      "  Failed to kekulize aromatic bonds in MOL2 file (title is 1a8k_0Q4_1_protein)\n",
      "\n",
      "==============================\n",
      "*** Open Babel Warning  in ReadMolecule\n",
      "  Failed to kekulize aromatic bonds in MOL2 file (title is 1a8k_0Q4_1_ligand)\n",
      "\n",
      "==============================\n",
      "*** Open Babel Warning  in ReadMolecule\n",
      "  Failed to kekulize aromatic bonds in MOL2 file (title is 3qbf_JHG_1_protein)\n",
      "\n",
      "==============================\n",
      "*** Open Babel Warning  in ReadMolecule\n",
      "  Failed to kekulize aromatic bonds in MOL2 file (title is 3fx5_KNI_1_protein)\n",
      "\n"
     ]
    },
    {
     "name": "stdout",
     "output_type": "stream",
     "text": [
      "\n",
      "\n",
      "\n"
     ]
    },
    {
     "name": "stderr",
     "output_type": "stream",
     "text": [
      "==============================\n",
      "*** Open Babel Warning  in ReadMolecule\n",
      "  Failed to kekulize aromatic bonds in MOL2 file (title is 4j5j_478_1_protein)\n",
      "\n",
      "==============================\n",
      "*** Open Babel Warning  in ReadMolecule\n",
      "  Failed to kekulize aromatic bonds in MOL2 file (title is 1iiq_0ZR_1_protein)\n",
      "\n",
      "==============================\n",
      "*** Open Babel Warning  in ReadMolecule\n",
      "  Failed to kekulize aromatic bonds in MOL2 file (title is 2r43_G3G_1_protein)\n",
      "\n"
     ]
    },
    {
     "name": "stdout",
     "output_type": "stream",
     "text": [
      "\n",
      "\n"
     ]
    },
    {
     "name": "stderr",
     "output_type": "stream",
     "text": [
      "==============================\n",
      "*** Open Babel Warning  in ReadMolecule\n",
      "  Failed to kekulize aromatic bonds in MOL2 file (title is 3bhe_BZN_1_protein)\n",
      "\n",
      "==============================\n",
      "*** Open Babel Warning  in ReadMolecule\n",
      "  Failed to kekulize aromatic bonds in MOL2 file (title is 7upj_INU_1_protein)\n",
      "\n",
      "==============================\n",
      "*** Open Babel Warning  in ReadMolecule\n",
      "  Failed to kekulize aromatic bonds in MOL2 file (title is 2o4p_TPV_1_protein)\n",
      "\n"
     ]
    },
    {
     "name": "stdout",
     "output_type": "stream",
     "text": [
      "\n",
      "\n",
      "\n"
     ]
    },
    {
     "name": "stderr",
     "output_type": "stream",
     "text": [
      "==============================\n",
      "*** Open Babel Warning  in ReadMolecule\n",
      "  Failed to kekulize aromatic bonds in MOL2 file (title is 3vf5_031_1_protein)\n",
      "\n",
      "==============================\n",
      "*** Open Babel Warning  in ReadMolecule\n",
      "  Failed to kekulize aromatic bonds in MOL2 file (title is 3kdc_JZP_1_protein)\n",
      "\n",
      "==============================\n",
      "*** Open Babel Warning  in ReadMolecule\n",
      "  Failed to kekulize aromatic bonds in MOL2 file (title is 1msm_JE2_1_protein)\n",
      "\n",
      "==============================\n",
      "*** Open Babel Warning  in ReadMolecule\n",
      "  Failed to kekulize aromatic bonds in MOL2 file (title is 3qrm_NK7_1_protein)\n",
      "\n"
     ]
    },
    {
     "name": "stdout",
     "output_type": "stream",
     "text": [
      "\n",
      "\n",
      "\n",
      "\n",
      "\n",
      "\n"
     ]
    },
    {
     "name": "stderr",
     "output_type": "stream",
     "text": [
      "==============================\n",
      "*** Open Babel Warning  in ReadMolecule\n",
      "  Failed to kekulize aromatic bonds in MOL2 file (title is 2qd8_065_1_protein)\n",
      "\n",
      "==============================\n",
      "*** Open Babel Warning  in ReadMolecule\n",
      "  Failed to kekulize aromatic bonds in MOL2 file (title is 3ndw_RIT_1_protein)\n",
      "\n",
      "==============================\n",
      "*** Open Babel Warning  in ReadMolecule\n",
      "  Failed to kekulize aromatic bonds in MOL2 file (title is 3ndu_ROC_1_protein)\n",
      "\n"
     ]
    },
    {
     "name": "stdout",
     "output_type": "stream",
     "text": [
      "\n",
      "\n",
      "\n"
     ]
    },
    {
     "name": "stderr",
     "output_type": "stream",
     "text": [
      "==============================\n",
      "*** Open Babel Warning  in ReadMolecule\n",
      "  Failed to kekulize aromatic bonds in MOL2 file (title is 3ufn_ROC_1_protein)\n",
      "\n",
      "==============================\n",
      "*** Open Babel Warning  in ReadMolecule\n",
      "  Failed to kekulize aromatic bonds in MOL2 file (title is 2pqz_G0G_1_protein)\n",
      "\n",
      "==============================\n",
      "*** Open Babel Warning  in ReadMolecule\n",
      "  Failed to kekulize aromatic bonds in MOL2 file (title is 1mrw_K57_1_protein)\n",
      "\n"
     ]
    },
    {
     "name": "stdout",
     "output_type": "stream",
     "text": [
      "\n",
      "\n",
      "\n"
     ]
    },
    {
     "name": "stderr",
     "output_type": "stream",
     "text": [
      "==============================\n",
      "*** Open Babel Warning  in ReadMolecule\n",
      "  Failed to kekulize aromatic bonds in MOL2 file (title is 4gb2_0LQ_1_protein)\n",
      "\n",
      "==============================\n",
      "*** Open Babel Warning  in ReadMolecule\n",
      "  Failed to kekulize aromatic bonds in MOL2 file (title is 2pk5_075_1_protein)\n",
      "\n",
      "==============================\n",
      "*** Open Babel Warning  in ReadMolecule\n",
      "  Failed to kekulize aromatic bonds in MOL2 file (title is 2qhc_AB1_1_protein)\n",
      "\n"
     ]
    },
    {
     "name": "stdout",
     "output_type": "stream",
     "text": [
      "\n"
     ]
    },
    {
     "name": "stderr",
     "output_type": "stream",
     "text": [
      "==============================\n",
      "*** Open Babel Warning  in ReadMolecule\n",
      "  Failed to kekulize aromatic bonds in MOL2 file (title is 2hnd_NVP_1_protein)\n",
      "\n"
     ]
    },
    {
     "name": "stdout",
     "output_type": "stream",
     "text": [
      "\n",
      "\n",
      "\n"
     ]
    },
    {
     "name": "stderr",
     "output_type": "stream",
     "text": [
      "==============================\n",
      "*** Open Babel Warning  in ReadMolecule\n",
      "  Failed to kekulize aromatic bonds in MOL2 file (title is 2p3b_3TL_1_protein)\n",
      "\n",
      "==============================\n",
      "*** Open Babel Warning  in ReadMolecule\n",
      "  Failed to kekulize aromatic bonds in MOL2 file (title is 1msn_JE2_1_protein)\n",
      "\n",
      "==============================\n",
      "*** Open Babel Warning  in ReadMolecule\n",
      "  Failed to kekulize aromatic bonds in MOL2 file (title is 1a8g_2Z4_1_protein)\n",
      "\n"
     ]
    },
    {
     "name": "stdout",
     "output_type": "stream",
     "text": [
      "\n",
      "\n"
     ]
    },
    {
     "name": "stderr",
     "output_type": "stream",
     "text": [
      "==============================\n",
      "*** Open Babel Warning  in ReadMolecule\n",
      "  Failed to kekulize aromatic bonds in MOL2 file (title is 3a2o_KNJ_1_protein)\n",
      "\n",
      "==============================\n",
      "*** Open Babel Warning  in ReadMolecule\n",
      "  Failed to kekulize aromatic bonds in MOL2 file (title is 2pwr_G4G_1_protein)\n",
      "\n"
     ]
    },
    {
     "name": "stdout",
     "output_type": "stream",
     "text": [
      "\n",
      "\n",
      "\n"
     ]
    },
    {
     "name": "stderr",
     "output_type": "stream",
     "text": [
      "==============================\n",
      "*** Open Babel Warning  in ReadMolecule\n",
      "  Failed to kekulize aromatic bonds in MOL2 file (title is 3jvy_017_1_protein)\n",
      "\n",
      "==============================\n",
      "*** Open Babel Warning  in ReadMolecule\n",
      "  Failed to kekulize aromatic bonds in MOL2 file (title is 3qih_NI7_2_protein)\n",
      "\n",
      "==============================\n",
      "*** Open Babel Warning  in ReadMolecule\n",
      "  Failed to kekulize aromatic bonds in MOL2 file (title is 4hdb_G52_1_protein)\n",
      "\n"
     ]
    },
    {
     "name": "stdout",
     "output_type": "stream",
     "text": [
      "\n",
      "\n",
      "\n"
     ]
    },
    {
     "name": "stderr",
     "output_type": "stream",
     "text": [
      "==============================\n",
      "*** Open Babel Warning  in ReadMolecule\n",
      "  Failed to kekulize aromatic bonds in MOL2 file (title is 2azb_3TL_1_protein)\n",
      "\n",
      "==============================\n",
      "*** Open Babel Warning  in ReadMolecule\n",
      "  Failed to kekulize aromatic bonds in MOL2 file (title is 2qnp_QN2_1_protein)\n",
      "\n",
      "==============================\n",
      "*** Open Babel Warning  in ReadMolecule\n",
      "  Failed to kekulize aromatic bonds in MOL2 file (title is 2q63_1UN_1_protein)\n",
      "\n"
     ]
    },
    {
     "name": "stdout",
     "output_type": "stream",
     "text": [
      "\n",
      "\n",
      "\n"
     ]
    },
    {
     "name": "stderr",
     "output_type": "stream",
     "text": [
      "==============================\n",
      "*** Open Babel Warning  in ReadMolecule\n",
      "  Failed to kekulize aromatic bonds in MOL2 file (title is 3kdb_006_1_protein)\n",
      "\n",
      "==============================\n",
      "*** Open Babel Warning  in ReadMolecule\n",
      "  Failed to kekulize aromatic bonds in MOL2 file (title is 3qpj_N4I_1_protein)\n",
      "\n",
      "==============================\n",
      "*** Open Babel Warning  in ReadMolecule\n",
      "  Failed to kekulize aromatic bonds in MOL2 file (title is 1d4y_TPV_1_protein)\n",
      "\n"
     ]
    },
    {
     "name": "stdout",
     "output_type": "stream",
     "text": [
      "\n",
      "\n",
      "\n"
     ]
    },
    {
     "name": "stderr",
     "output_type": "stream",
     "text": [
      "==============================\n",
      "*** Open Babel Warning  in ReadMolecule\n",
      "  Failed to kekulize aromatic bonds in MOL2 file (title is 2hc0_AB2_1_protein)\n",
      "\n",
      "==============================\n",
      "*** Open Babel Warning  in ReadMolecule\n",
      "  Failed to kekulize aromatic bonds in MOL2 file (title is 3pwm_017_1_protein)\n",
      "\n",
      "==============================\n",
      "*** Open Babel Warning  in ReadMolecule\n",
      "  Failed to kekulize aromatic bonds in MOL2 file (title is 1izi_Q50_1_protein)\n",
      "\n"
     ]
    },
    {
     "name": "stdout",
     "output_type": "stream",
     "text": [
      "\n",
      "\n"
     ]
    },
    {
     "name": "stderr",
     "output_type": "stream",
     "text": [
      "==============================\n",
      "*** Open Babel Warning  in ReadMolecule\n",
      "  Failed to kekulize aromatic bonds in MOL2 file (title is 1hpx_KNI_1_protein)\n",
      "\n",
      "==============================\n",
      "*** Open Babel Warning  in ReadMolecule\n",
      "  Failed to kekulize aromatic bonds in MOL2 file (title is 3qro_NK9_1_protein)\n",
      "\n",
      "==============================\n",
      "*** Open Babel Warning  in ReadMolecule\n",
      "  Failed to kekulize aromatic bonds in MOL2 file (title is 1mrx_K57_1_protein)\n",
      "\n"
     ]
    },
    {
     "name": "stdout",
     "output_type": "stream",
     "text": [
      "\n",
      "\n",
      "\n"
     ]
    },
    {
     "name": "stderr",
     "output_type": "stream",
     "text": [
      "==============================\n",
      "*** Open Babel Warning  in ReadMolecule\n",
      "  Failed to kekulize aromatic bonds in MOL2 file (title is 2qnn_QN1_1_protein)\n",
      "\n",
      "==============================\n",
      "*** Open Babel Warning  in ReadMolecule\n",
      "  Failed to kekulize aromatic bonds in MOL2 file (title is 2ien_017_1_protein)\n",
      "\n",
      "==============================\n",
      "*** Open Babel Warning  in ReadMolecule\n",
      "  Failed to kekulize aromatic bonds in MOL2 file (title is 3ggu_017_1_protein)\n",
      "\n"
     ]
    },
    {
     "name": "stdout",
     "output_type": "stream",
     "text": [
      "\n",
      "\n",
      "\n"
     ]
    },
    {
     "name": "stderr",
     "output_type": "stream",
     "text": [
      "==============================\n",
      "*** Open Babel Warning  in ReadMolecule\n",
      "  Failed to kekulize aromatic bonds in MOL2 file (title is 3dk1_G05_1_protein)\n",
      "\n",
      "==============================\n",
      "*** Open Babel Warning  in ReadMolecule\n",
      "  Failed to kekulize aromatic bonds in MOL2 file (title is 1d4s_TPV_1_protein)\n",
      "\n"
     ]
    },
    {
     "name": "stdout",
     "output_type": "stream",
     "text": [
      "\n",
      "\n",
      "\n",
      "Number of proteins to train the model: 119\n"
     ]
    },
    {
     "name": "stderr",
     "output_type": "stream",
     "text": [
      "==============================\n",
      "*** Open Babel Warning  in ReadMolecule\n",
      "  Failed to kekulize aromatic bonds in MOL2 file (title is 4hdp_G52_1_protein)\n",
      "\n",
      "==============================\n",
      "*** Open Babel Warning  in ReadMolecule\n",
      "  Failed to kekulize aromatic bonds in MOL2 file (title is 2upj_U02_1_protein)\n",
      "\n"
     ]
    }
   ],
   "source": [
    "def get_grids(file_type, prot_input_file, bs_input_file=None,\n",
    "              grid_resolution = 2, max_dist = 35, \n",
    "              featurizer=Featurizer(save_molecule_codes=False)):\n",
    "    '''\n",
    "    Converts both a protein file (PDB or mol2) and its ligand (if specified)\n",
    "    to a grid.\n",
    "        \n",
    "    Parameters\n",
    "    ----------\n",
    "    file_type: \"pdb\", \"mol2\"\n",
    "    prot_input_file, ligand_input_file: protein and ligand files\n",
    "    grid_resolution: float, optional\n",
    "        Resolution of a grid (in Angstroms).\n",
    "    max_dist: float, optional\n",
    "        Maximum distance between atom and box center. Resulting box has size of\n",
    "        2*`max_dist`+1 Angstroms and atoms that are too far away are not\n",
    "        included.\n",
    "    '''\n",
    "    \n",
    "    # Convert file into pybel object and get the features of the molecule. \n",
    "    # If binding site, features is an array of 1s (indicating that bs is present)\n",
    "    \n",
    "    # TODO - pybel gives a lot of warnings. I should check them and maybe remove some molecules\n",
    "    # or see how much does it affect the model\n",
    "    prot = next(pybel.readfile(file_type,prot_input_file))\n",
    "    prot_coords, prot_features = featurizer.get_features(prot)\n",
    "    \n",
    "    # Change all coordinates to be respect the center of the protein\n",
    "    centroid = prot_coords.mean(axis=0)\n",
    "    prot_coords -= centroid\n",
    "    # Create the grid\n",
    "    prot_grid = make_grid(prot_coords, prot_features,\n",
    "                        max_dist=max_dist,\n",
    "                        grid_resolution=grid_resolution)\n",
    "    \n",
    "    \n",
    "    # Do the same for the binding site, if input file specified\n",
    "    if bs_input_file != None:\n",
    "        bs = next(pybel.readfile(file_type, bs_input_file))\n",
    "        bs_coords, _ = featurizer.get_features(bs)\n",
    "        # BS just has 1 feature: an array of 1s for each atom, indicating the\n",
    "        # atom is present in that position\n",
    "        bs_features = np.ones((len(bs_coords), 1))\n",
    "        bs_coords -= centroid\n",
    "        bs_grid = make_grid(bs_coords, bs_features,\n",
    "                    max_dist=max_dist,\n",
    "                    grid_resolution=grid_resolution)\n",
    "        print()\n",
    "    else:\n",
    "        bs_grid = None\n",
    "    \n",
    "    return prot_grid, bs_grid, centroid\n",
    "\n",
    "def get_training_data(input_folder):\n",
    "    proteins = None\n",
    "    binding_sites = None\n",
    "    centroids = []\n",
    "    for root, dirs, _ in os.walk(input_folder, topdown=False):\n",
    "        for dir in dirs:\n",
    "\n",
    "            protein_file = os.path.join(root, dir, \"protein.mol2\")\n",
    "            ligand_file = os.path.join(root, dir, \"ligand.mol2\")\n",
    "            \n",
    "            prot_grid, bs_grid, centroid = get_grids(\"mol2\", protein_file, ligand_file)\n",
    "            \n",
    "            if proteins is None:\n",
    "                proteins = prot_grid\n",
    "                binding_sites = bs_grid\n",
    "            else:\n",
    "                proteins = np.concatenate((proteins, prot_grid), axis=0)\n",
    "                binding_sites = np.concatenate((binding_sites, bs_grid), axis=0)\n",
    "                # TODO - We get an array of (N,36,36,36,18). Is this what we want?\n",
    "            \n",
    "            # Append to proteins and binding sites list the grids of proteins and bs\n",
    "            centroids.append(centroid)\n",
    "            \n",
    "    \n",
    "    \n",
    "    print(\"Number of proteins to train the model:\", proteins.shape[0])\n",
    "    # TODO - Centroids are completely unnecessary to maintain\n",
    "    return proteins, binding_sites, centroids\n",
    "\n",
    "proteins, binding_sites, _ = get_training_data(\"scPDB_similarproteins\")\n"
   ]
  },
  {
   "cell_type": "markdown",
   "id": "602d2bf6",
   "metadata": {},
   "source": [
    "## Train the model"
   ]
  },
  {
   "cell_type": "code",
   "execution_count": 3,
   "id": "01593db6",
   "metadata": {},
   "outputs": [
    {
     "name": "stderr",
     "output_type": "stream",
     "text": [
      "2023-03-25 19:34:49.349757: I tensorflow/core/platform/cpu_feature_guard.cc:193] This TensorFlow binary is optimized with oneAPI Deep Neural Network Library (oneDNN) to use the following CPU instructions in performance-critical operations:  SSE4.1 SSE4.2 AVX AVX2 AVX512F AVX512_VNNI FMA\n",
      "To enable them in other operations, rebuild TensorFlow with the appropriate compiler flags.\n",
      "2023-03-25 19:34:49.352399: I tensorflow/core/common_runtime/process_util.cc:146] Creating new thread pool with default inter op setting: 2. Tune using inter_op_parallelism_threads for best performance.\n"
     ]
    },
    {
     "name": "stdout",
     "output_type": "stream",
     "text": [
      "Epoch 1/100\n",
      "15/15 [==============================] - 42s 2s/step - loss: 1.6713 - accuracy: 0.7791 - val_loss: 1.5478 - val_accuracy: 0.9200\n",
      "Epoch 2/100\n",
      "15/15 [==============================] - 37s 2s/step - loss: 1.4578 - accuracy: 0.9687 - val_loss: 1.4318 - val_accuracy: 0.9992\n",
      "Epoch 3/100\n",
      "15/15 [==============================] - 36s 2s/step - loss: 1.3297 - accuracy: 0.9923 - val_loss: 1.3954 - val_accuracy: 0.9992\n",
      "Epoch 4/100\n",
      "15/15 [==============================] - 37s 2s/step - loss: 1.1587 - accuracy: 0.9968 - val_loss: 1.3658 - val_accuracy: 0.9992\n",
      "Epoch 5/100\n",
      "15/15 [==============================] - 36s 2s/step - loss: 0.9448 - accuracy: 0.9987 - val_loss: 1.3544 - val_accuracy: 0.9992\n",
      "Epoch 6/100\n",
      "15/15 [==============================] - 37s 2s/step - loss: 0.8176 - accuracy: 0.9989 - val_loss: 1.3373 - val_accuracy: 0.9992\n",
      "Epoch 7/100\n",
      "15/15 [==============================] - 37s 2s/step - loss: 0.7476 - accuracy: 0.9990 - val_loss: 1.2478 - val_accuracy: 0.9992\n",
      "Epoch 8/100\n",
      "15/15 [==============================] - 37s 2s/step - loss: 0.6860 - accuracy: 0.9990 - val_loss: 1.3003 - val_accuracy: 0.9992\n",
      "Epoch 9/100\n",
      "15/15 [==============================] - 37s 2s/step - loss: 0.6636 - accuracy: 0.9991 - val_loss: 1.2702 - val_accuracy: 0.9992\n",
      "Epoch 10/100\n",
      "15/15 [==============================] - 36s 2s/step - loss: 0.6097 - accuracy: 0.9991 - val_loss: 1.2777 - val_accuracy: 0.9992\n",
      "Epoch 11/100\n",
      "15/15 [==============================] - 37s 2s/step - loss: 0.5638 - accuracy: 0.9992 - val_loss: 1.2640 - val_accuracy: 0.9992\n",
      "Epoch 12/100\n",
      "15/15 [==============================] - 36s 2s/step - loss: 0.5088 - accuracy: 0.9993 - val_loss: 1.2520 - val_accuracy: 0.9992\n",
      "Epoch 13/100\n",
      "15/15 [==============================] - 36s 2s/step - loss: 0.4653 - accuracy: 0.9993 - val_loss: 1.2404 - val_accuracy: 0.9992\n",
      "Epoch 14/100\n",
      "15/15 [==============================] - 36s 2s/step - loss: 0.4366 - accuracy: 0.9993 - val_loss: 1.2288 - val_accuracy: 0.9992\n",
      "Epoch 15/100\n",
      "15/15 [==============================] - 37s 2s/step - loss: 0.4201 - accuracy: 0.9993 - val_loss: 1.2215 - val_accuracy: 0.9992\n",
      "Epoch 16/100\n",
      "15/15 [==============================] - 37s 2s/step - loss: 0.4037 - accuracy: 0.9994 - val_loss: 1.2132 - val_accuracy: 0.9992\n",
      "Epoch 17/100\n",
      "15/15 [==============================] - 37s 2s/step - loss: 0.3823 - accuracy: 0.9994 - val_loss: 1.2050 - val_accuracy: 0.9992\n",
      "Epoch 18/100\n",
      "15/15 [==============================] - 37s 2s/step - loss: 0.3631 - accuracy: 0.9994 - val_loss: 1.1975 - val_accuracy: 0.9992\n",
      "Epoch 19/100\n",
      "15/15 [==============================] - 37s 2s/step - loss: 0.3412 - accuracy: 0.9994 - val_loss: 1.1907 - val_accuracy: 0.9992\n",
      "Epoch 20/100\n",
      "15/15 [==============================] - 37s 2s/step - loss: 0.3374 - accuracy: 0.9994 - val_loss: 1.1838 - val_accuracy: 0.9992\n",
      "Epoch 21/100\n",
      "15/15 [==============================] - 37s 2s/step - loss: 0.3289 - accuracy: 0.9994 - val_loss: 1.1802 - val_accuracy: 0.9992\n",
      "Epoch 22/100\n",
      "15/15 [==============================] - 36s 2s/step - loss: 0.3022 - accuracy: 0.9995 - val_loss: 1.1733 - val_accuracy: 0.9992\n",
      "Epoch 23/100\n",
      "15/15 [==============================] - 37s 2s/step - loss: 0.2928 - accuracy: 0.9995 - val_loss: 1.1682 - val_accuracy: 0.9992\n",
      "Epoch 24/100\n",
      "15/15 [==============================] - 37s 2s/step - loss: 0.2889 - accuracy: 0.9995 - val_loss: 1.1312 - val_accuracy: 0.9992\n",
      "Epoch 25/100\n",
      "15/15 [==============================] - 36s 2s/step - loss: 0.2693 - accuracy: 0.9995 - val_loss: 1.0873 - val_accuracy: 0.9992\n",
      "Epoch 26/100\n",
      "15/15 [==============================] - 37s 2s/step - loss: 0.2597 - accuracy: 0.9995 - val_loss: 1.0656 - val_accuracy: 0.9992\n",
      "Epoch 27/100\n",
      "15/15 [==============================] - 36s 2s/step - loss: 0.2474 - accuracy: 0.9995 - val_loss: 1.1261 - val_accuracy: 0.9992\n",
      "Epoch 28/100\n",
      "15/15 [==============================] - 36s 2s/step - loss: 0.2319 - accuracy: 0.9995 - val_loss: 1.0862 - val_accuracy: 0.9992\n",
      "Epoch 29/100\n",
      "15/15 [==============================] - 37s 2s/step - loss: 0.2210 - accuracy: 0.9995 - val_loss: 0.9912 - val_accuracy: 0.9992\n",
      "Epoch 30/100\n",
      "15/15 [==============================] - 37s 2s/step - loss: 0.2058 - accuracy: 0.9995 - val_loss: 1.0189 - val_accuracy: 0.9992\n",
      "Epoch 31/100\n",
      "15/15 [==============================] - 37s 2s/step - loss: 0.1998 - accuracy: 0.9995 - val_loss: 0.8859 - val_accuracy: 0.9992\n",
      "Epoch 32/100\n",
      "15/15 [==============================] - 39s 3s/step - loss: 0.1965 - accuracy: 0.9995 - val_loss: 0.9894 - val_accuracy: 0.9992\n",
      "Epoch 33/100\n",
      "15/15 [==============================] - 37s 2s/step - loss: 0.1891 - accuracy: 0.9995 - val_loss: 0.8657 - val_accuracy: 0.9992\n",
      "Epoch 34/100\n",
      "15/15 [==============================] - 37s 2s/step - loss: 0.1824 - accuracy: 0.9996 - val_loss: 0.9231 - val_accuracy: 0.9992\n",
      "Epoch 35/100\n",
      "15/15 [==============================] - 37s 2s/step - loss: 0.1729 - accuracy: 0.9996 - val_loss: 0.8435 - val_accuracy: 0.9992\n",
      "Epoch 36/100\n",
      "15/15 [==============================] - 36s 2s/step - loss: 0.1603 - accuracy: 0.9996 - val_loss: 0.8000 - val_accuracy: 0.9992\n",
      "Epoch 37/100\n",
      "15/15 [==============================] - 36s 2s/step - loss: 0.1582 - accuracy: 0.9996 - val_loss: 0.7488 - val_accuracy: 0.9992\n",
      "Epoch 38/100\n",
      "15/15 [==============================] - 36s 2s/step - loss: 0.1551 - accuracy: 0.9996 - val_loss: 0.8575 - val_accuracy: 0.9992\n",
      "Epoch 39/100\n",
      "15/15 [==============================] - 36s 2s/step - loss: 0.1503 - accuracy: 0.9996 - val_loss: 0.6943 - val_accuracy: 0.9992\n",
      "Epoch 40/100\n",
      "15/15 [==============================] - 36s 2s/step - loss: 0.1672 - accuracy: 0.9996 - val_loss: 0.7373 - val_accuracy: 0.9992\n",
      "Epoch 41/100\n",
      "15/15 [==============================] - 37s 2s/step - loss: 0.1679 - accuracy: 0.9995 - val_loss: 0.7560 - val_accuracy: 0.9992\n",
      "Epoch 42/100\n",
      "15/15 [==============================] - 37s 2s/step - loss: 0.1489 - accuracy: 0.9996 - val_loss: 0.6914 - val_accuracy: 0.9992\n",
      "Epoch 43/100\n",
      "15/15 [==============================] - 36s 2s/step - loss: 0.1349 - accuracy: 0.9996 - val_loss: 0.6615 - val_accuracy: 0.9992\n",
      "Epoch 44/100\n",
      "15/15 [==============================] - 36s 2s/step - loss: 0.1245 - accuracy: 0.9996 - val_loss: 0.6855 - val_accuracy: 0.9992\n",
      "Epoch 45/100\n",
      "15/15 [==============================] - 37s 2s/step - loss: 0.1239 - accuracy: 0.9996 - val_loss: 0.6652 - val_accuracy: 0.9992\n",
      "Epoch 46/100\n",
      "15/15 [==============================] - 37s 2s/step - loss: 0.1143 - accuracy: 0.9996 - val_loss: 0.6132 - val_accuracy: 0.9991\n",
      "Epoch 47/100\n",
      "15/15 [==============================] - 36s 2s/step - loss: 0.1178 - accuracy: 0.9996 - val_loss: 0.6284 - val_accuracy: 0.9992\n",
      "Epoch 48/100\n",
      "15/15 [==============================] - 36s 2s/step - loss: 0.1164 - accuracy: 0.9996 - val_loss: 0.6246 - val_accuracy: 0.9992\n",
      "Epoch 49/100\n",
      "15/15 [==============================] - 36s 2s/step - loss: 0.1085 - accuracy: 0.9996 - val_loss: 0.5867 - val_accuracy: 0.9992\n",
      "Epoch 50/100\n",
      "15/15 [==============================] - 36s 2s/step - loss: 0.1111 - accuracy: 0.9996 - val_loss: 0.6796 - val_accuracy: 0.9992\n",
      "Epoch 51/100\n",
      "15/15 [==============================] - 37s 2s/step - loss: 0.1061 - accuracy: 0.9996 - val_loss: 0.6551 - val_accuracy: 0.9992\n",
      "Epoch 52/100\n",
      "15/15 [==============================] - 36s 2s/step - loss: 0.1071 - accuracy: 0.9996 - val_loss: 0.6075 - val_accuracy: 0.9992\n",
      "Epoch 53/100\n",
      "15/15 [==============================] - 37s 2s/step - loss: 0.1030 - accuracy: 0.9996 - val_loss: 0.6228 - val_accuracy: 0.9992\n",
      "Epoch 54/100\n",
      "15/15 [==============================] - 36s 2s/step - loss: 0.0937 - accuracy: 0.9996 - val_loss: 0.5976 - val_accuracy: 0.9992\n",
      "Epoch 55/100\n",
      "15/15 [==============================] - 36s 2s/step - loss: 0.0901 - accuracy: 0.9996 - val_loss: 0.6249 - val_accuracy: 0.9992\n",
      "Epoch 56/100\n",
      "15/15 [==============================] - 37s 2s/step - loss: 0.0923 - accuracy: 0.9996 - val_loss: 0.6357 - val_accuracy: 0.9992\n",
      "Epoch 57/100\n",
      "15/15 [==============================] - 36s 2s/step - loss: 0.0958 - accuracy: 0.9996 - val_loss: 0.5992 - val_accuracy: 0.9992\n",
      "Epoch 58/100\n",
      "15/15 [==============================] - 36s 2s/step - loss: 0.0919 - accuracy: 0.9996 - val_loss: 0.6644 - val_accuracy: 0.9992\n"
     ]
    },
    {
     "name": "stdout",
     "output_type": "stream",
     "text": [
      "Epoch 59/100\n",
      "15/15 [==============================] - 37s 2s/step - loss: 0.0893 - accuracy: 0.9996 - val_loss: 0.6304 - val_accuracy: 0.9992\n",
      "Epoch 60/100\n",
      "15/15 [==============================] - 37s 2s/step - loss: 0.0942 - accuracy: 0.9996 - val_loss: 0.6095 - val_accuracy: 0.9992\n",
      "Epoch 61/100\n",
      "15/15 [==============================] - 37s 2s/step - loss: 0.0875 - accuracy: 0.9996 - val_loss: 0.5421 - val_accuracy: 0.9991\n",
      "Epoch 62/100\n",
      "15/15 [==============================] - 36s 2s/step - loss: 0.1011 - accuracy: 0.9996 - val_loss: 0.6336 - val_accuracy: 0.9992\n",
      "Epoch 63/100\n",
      "15/15 [==============================] - 36s 2s/step - loss: 0.1014 - accuracy: 0.9996 - val_loss: 1.0898 - val_accuracy: 0.9988\n",
      "Epoch 64/100\n",
      "15/15 [==============================] - 36s 2s/step - loss: 0.0924 - accuracy: 0.9996 - val_loss: 1.0924 - val_accuracy: 0.9980\n",
      "Epoch 65/100\n",
      "15/15 [==============================] - 36s 2s/step - loss: 0.1145 - accuracy: 0.9996 - val_loss: 1.0316 - val_accuracy: 0.9846\n",
      "Epoch 66/100\n",
      "15/15 [==============================] - 37s 2s/step - loss: 0.1194 - accuracy: 0.9996 - val_loss: 0.5951 - val_accuracy: 0.9991\n",
      "Epoch 67/100\n",
      "15/15 [==============================] - 37s 2s/step - loss: 0.1240 - accuracy: 0.9996 - val_loss: 0.6293 - val_accuracy: 0.9991\n",
      "Epoch 68/100\n",
      "15/15 [==============================] - 36s 2s/step - loss: 0.1109 - accuracy: 0.9996 - val_loss: 0.5628 - val_accuracy: 0.9991\n",
      "Epoch 69/100\n",
      "15/15 [==============================] - 36s 2s/step - loss: 0.0938 - accuracy: 0.9996 - val_loss: 0.6352 - val_accuracy: 0.9992\n",
      "Epoch 70/100\n",
      "15/15 [==============================] - 36s 2s/step - loss: 0.0785 - accuracy: 0.9996 - val_loss: 0.5732 - val_accuracy: 0.9992\n",
      "Epoch 71/100\n",
      "15/15 [==============================] - 36s 2s/step - loss: 0.0708 - accuracy: 0.9996 - val_loss: 0.5485 - val_accuracy: 0.9992\n",
      "Epoch 72/100\n",
      "15/15 [==============================] - 36s 2s/step - loss: 0.0651 - accuracy: 0.9996 - val_loss: 0.5532 - val_accuracy: 0.9992\n",
      "Epoch 73/100\n",
      "15/15 [==============================] - 36s 2s/step - loss: 0.0599 - accuracy: 0.9996 - val_loss: 0.5759 - val_accuracy: 0.9992\n",
      "Epoch 74/100\n",
      "15/15 [==============================] - 37s 2s/step - loss: 0.0579 - accuracy: 0.9996 - val_loss: 0.5971 - val_accuracy: 0.9992\n",
      "Epoch 75/100\n",
      "15/15 [==============================] - 36s 2s/step - loss: 0.0538 - accuracy: 0.9996 - val_loss: 0.5906 - val_accuracy: 0.9992\n",
      "Epoch 76/100\n",
      "15/15 [==============================] - 36s 2s/step - loss: 0.0559 - accuracy: 0.9996 - val_loss: 0.5875 - val_accuracy: 0.9992\n"
     ]
    }
   ],
   "source": [
    "# I have based myself on this tutorial:\n",
    "# https://keras.io/examples/vision/3D_image_classification/\n",
    "\n",
    "\n",
    "# In the paper they said that Dice Loss was the best one to use\n",
    "def DiceLoss(targets, inputs, smooth=1e-6):\n",
    "    \n",
    "    #flatten label and prediction tensors\n",
    "    inputs = K.flatten(inputs)\n",
    "    targets = K.flatten(targets)\n",
    "    \n",
    "    #reshape to 2D matrices\n",
    "    inputs = K.reshape(inputs, (-1, 1))\n",
    "    targets = K.reshape(targets, (-1, 1))\n",
    "    \n",
    "    intersection = K.sum(targets * inputs)\n",
    "    dice = (2*intersection + smooth) / (K.sum(targets) + K.sum(inputs) + smooth)\n",
    "    return 1 - dice\n",
    "\n",
    "\n",
    "X_train, X_test, y_train, y_test = train_test_split(proteins, \n",
    "                                                    binding_sites, \n",
    "                                                    test_size=0.33, \n",
    "                                                    random_state=42)\n",
    "# Define callbacks. TODO - Need to understand them and how to use them\n",
    "checkpoint_cb = keras.callbacks.ModelCheckpoint(\n",
    "    \"bst_bs_prediction.h5\", save_best_only=True\n",
    ")\n",
    "early_stopping_cb = keras.callbacks.EarlyStopping(monitor=\"val_loss\", \n",
    "                                                  patience=15)\n",
    "\n",
    "model = PUResNet()\n",
    "    \n",
    "# Paper said they used a batch size of 5\n",
    "batch_size = 5\n",
    "epochs = 100\n",
    "\n",
    "model.compile(loss=DiceLoss, optimizer=\"adam\", \n",
    "              metrics=[\"accuracy\"])\n",
    "#model.load_weights(\"bst_bs_prediction.h5\")\n",
    "\n",
    "model.fit(X_train, y_train, \n",
    "          batch_size=batch_size, epochs=epochs, \n",
    "          validation_split=0.1, shuffle=True,\n",
    "          callbacks=[checkpoint_cb, early_stopping_cb])\n",
    "\n",
    "# This should technically save the weights. But idk if it saves some weights or the best ones\n",
    "model.save_weights('model_weights.h5')\n",
    "\n",
    " "
   ]
  },
  {
   "cell_type": "markdown",
   "id": "d9ab7824",
   "metadata": {},
   "source": [
    "## Visualise the model"
   ]
  },
  {
   "cell_type": "code",
   "execution_count": 5,
   "id": "78dd7a67",
   "metadata": {},
   "outputs": [
    {
     "data": {
      "image/png": "[encoded data removed]",
      "text/plain": [
       "<Figure size 2000x300 with 2 Axes>"
      ]
     },
     "metadata": {},
     "output_type": "display_data"
    }
   ],
   "source": [
    "# Visualize the performance of the model\n",
    "import matplotlib.pyplot as plt\n",
    "\n",
    "fig, ax = plt.subplots(1, 2, figsize=(20, 3))\n",
    "ax = ax.ravel()\n",
    "\n",
    "for i, metric in enumerate([\"accuracy\", \"loss\"]):\n",
    "    ax[i].plot(model.history.history[metric])\n",
    "    ax[i].plot(model.history.history[\"val_\" + metric])\n",
    "    ax[i].set_title(\"Model {}\".format(metric))\n",
    "    ax[i].set_xlabel(\"epochs\")\n",
    "    ax[i].set_ylabel(metric)\n",
    "    ax[i].legend([\"train\", \"val\"])"
   ]
  },
  {
   "cell_type": "code",
   "execution_count": 7,
   "id": "1543e168",
   "metadata": {},
   "outputs": [
    {
     "name": "stderr",
     "output_type": "stream",
     "text": [
      "==============================\n",
      "*** Open Babel Warning  in ReadMolecule\n",
      "  Failed to kekulize aromatic bonds in MOL2 file (title is 1a8g_2Z4_1_protein)\n",
      "\n"
     ]
    },
    {
     "name": "stdout",
     "output_type": "stream",
     "text": [
      "1/1 [==============================] - 1s 727ms/step\n",
      "1.0\n",
      "8.028512e-32\n",
      "[[[[[4.7763592e-07]\n",
      "    [4.7468876e-07]\n",
      "    [4.6509697e-07]\n",
      "    ...\n",
      "    [4.0927642e-07]\n",
      "    [4.0365808e-07]\n",
      "    [6.6578292e-07]]\n",
      "\n",
      "   [[8.2620346e-07]\n",
      "    [7.3334672e-07]\n",
      "    [8.0101751e-07]\n",
      "    ...\n",
      "    [6.5303323e-07]\n",
      "    [8.2690656e-07]\n",
      "    [6.0303103e-07]]\n",
      "\n",
      "   [[7.5929211e-07]\n",
      "    [5.9436508e-07]\n",
      "    [6.6628917e-07]\n",
      "    ...\n",
      "    [5.6932669e-07]\n",
      "    [6.6189199e-07]\n",
      "    [4.6995913e-07]]\n",
      "\n",
      "   ...\n",
      "\n",
      "   [[1.0468181e-06]\n",
      "    [6.8704622e-07]\n",
      "    [7.8371215e-07]\n",
      "    ...\n",
      "    [7.5370383e-07]\n",
      "    [9.0425635e-07]\n",
      "    [6.3116875e-07]]\n",
      "\n",
      "   [[1.3118772e-06]\n",
      "    [9.0238609e-07]\n",
      "    [9.0514499e-07]\n",
      "    ...\n",
      "    [8.3942797e-07]\n",
      "    [1.0862465e-06]\n",
      "    [7.5040822e-07]]\n",
      "\n",
      "   [[1.4519784e-06]\n",
      "    [1.3022901e-06]\n",
      "    [1.2678485e-06]\n",
      "    ...\n",
      "    [1.2986984e-06]\n",
      "    [1.3026590e-06]\n",
      "    [7.1496436e-07]]]\n",
      "\n",
      "\n",
      "  [[[4.7086490e-07]\n",
      "    [4.6814213e-07]\n",
      "    [4.9459533e-07]\n",
      "    ...\n",
      "    [4.8266509e-07]\n",
      "    [4.0183673e-07]\n",
      "    [1.1688270e-06]]\n",
      "\n",
      "   [[1.0697720e-06]\n",
      "    [9.4728472e-07]\n",
      "    [9.0726064e-07]\n",
      "    ...\n",
      "    [7.7541608e-07]\n",
      "    [6.6883064e-07]\n",
      "    [8.5371289e-07]]\n",
      "\n",
      "   [[7.9318477e-07]\n",
      "    [4.8984015e-07]\n",
      "    [3.7360050e-07]\n",
      "    ...\n",
      "    [3.0853087e-07]\n",
      "    [4.6696408e-07]\n",
      "    [5.4780912e-07]]\n",
      "\n",
      "   ...\n",
      "\n",
      "   [[1.0575527e-06]\n",
      "    [6.1034302e-07]\n",
      "    [4.6792877e-07]\n",
      "    ...\n",
      "    [4.5383496e-07]\n",
      "    [6.6053752e-07]\n",
      "    [8.2894053e-07]]\n",
      "\n",
      "   [[1.5922107e-06]\n",
      "    [1.1844954e-06]\n",
      "    [8.9169276e-07]\n",
      "    ...\n",
      "    [8.7335656e-07]\n",
      "    [9.9014392e-07]\n",
      "    [1.0841611e-06]]\n",
      "\n",
      "   [[1.5705529e-06]\n",
      "    [8.8804529e-07]\n",
      "    [7.5678139e-07]\n",
      "    ...\n",
      "    [8.1284298e-07]\n",
      "    [9.6967221e-07]\n",
      "    [6.3924369e-07]]]\n",
      "\n",
      "\n",
      "  [[[3.0210288e-07]\n",
      "    [2.8290012e-07]\n",
      "    [3.0853820e-07]\n",
      "    ...\n",
      "    [2.8646917e-07]\n",
      "    [2.9077651e-07]\n",
      "    [1.0672021e-06]]\n",
      "\n",
      "   [[9.8065254e-07]\n",
      "    [8.6303430e-07]\n",
      "    [9.6467488e-07]\n",
      "    ...\n",
      "    [8.6323928e-07]\n",
      "    [5.8154700e-07]\n",
      "    [7.9247172e-07]]\n",
      "\n",
      "   [[5.6427427e-07]\n",
      "    [2.8983825e-07]\n",
      "    [2.3164380e-07]\n",
      "    ...\n",
      "    [2.3775142e-07]\n",
      "    [3.4899102e-07]\n",
      "    [5.8007248e-07]]\n",
      "\n",
      "   ...\n",
      "\n",
      "   [[7.8763759e-07]\n",
      "    [4.5975034e-07]\n",
      "    [3.4429613e-07]\n",
      "    ...\n",
      "    [3.7619759e-07]\n",
      "    [4.7044165e-07]\n",
      "    [7.6859709e-07]]\n",
      "\n",
      "   [[1.1808602e-06]\n",
      "    [9.9859324e-07]\n",
      "    [7.8631592e-07]\n",
      "    ...\n",
      "    [8.3894537e-07]\n",
      "    [8.3137576e-07]\n",
      "    [9.8925580e-07]]\n",
      "\n",
      "   [[1.1797256e-06]\n",
      "    [8.1731645e-07]\n",
      "    [6.0750392e-07]\n",
      "    ...\n",
      "    [6.4576193e-07]\n",
      "    [6.8195772e-07]\n",
      "    [6.0529072e-07]]]\n",
      "\n",
      "\n",
      "  ...\n",
      "\n",
      "\n",
      "  [[[3.9633491e-07]\n",
      "    [3.0086051e-07]\n",
      "    [3.3944320e-07]\n",
      "    ...\n",
      "    [8.1520221e-07]\n",
      "    [8.3350574e-07]\n",
      "    [2.8601869e-06]]\n",
      "\n",
      "   [[1.2598741e-06]\n",
      "    [7.8945675e-07]\n",
      "    [1.0918143e-06]\n",
      "    ...\n",
      "    [2.3828243e-06]\n",
      "    [1.6241714e-06]\n",
      "    [1.8731034e-06]]\n",
      "\n",
      "   [[8.5833926e-07]\n",
      "    [2.5682212e-07]\n",
      "    [2.9744535e-07]\n",
      "    ...\n",
      "    [7.9843892e-07]\n",
      "    [9.9891713e-07]\n",
      "    [1.2693849e-06]]\n",
      "\n",
      "   ...\n",
      "\n",
      "   [[1.0018155e-06]\n",
      "    [3.6975538e-07]\n",
      "    [3.9174174e-07]\n",
      "    ...\n",
      "    [9.1434936e-07]\n",
      "    [1.0909524e-06]\n",
      "    [1.4867343e-06]]\n",
      "\n",
      "   [[1.3638996e-06]\n",
      "    [9.1898698e-07]\n",
      "    [8.1902215e-07]\n",
      "    ...\n",
      "    [1.8789161e-06]\n",
      "    [1.8957741e-06]\n",
      "    [1.9460783e-06]]\n",
      "\n",
      "   [[1.3278502e-06]\n",
      "    [8.3858305e-07]\n",
      "    [6.5020322e-07]\n",
      "    ...\n",
      "    [1.3551519e-06]\n",
      "    [1.4298153e-06]\n",
      "    [1.2267509e-06]]]\n",
      "\n",
      "\n",
      "  [[[4.4054829e-07]\n",
      "    [4.5979110e-07]\n",
      "    [5.1654661e-07]\n",
      "    ...\n",
      "    [1.1609196e-06]\n",
      "    [8.5045031e-07]\n",
      "    [2.5219799e-06]]\n",
      "\n",
      "   [[1.4141523e-06]\n",
      "    [7.7780612e-07]\n",
      "    [1.0743072e-06]\n",
      "    ...\n",
      "    [2.3672364e-06]\n",
      "    [1.5348631e-06]\n",
      "    [1.7439543e-06]]\n",
      "\n",
      "   [[8.9309361e-07]\n",
      "    [2.4190530e-07]\n",
      "    [2.8653557e-07]\n",
      "    ...\n",
      "    [7.5164661e-07]\n",
      "    [9.4443340e-07]\n",
      "    [1.4864067e-06]]\n",
      "\n",
      "   ...\n",
      "\n",
      "   [[1.0680757e-06]\n",
      "    [3.5213262e-07]\n",
      "    [4.1175616e-07]\n",
      "    ...\n",
      "    [9.7396151e-07]\n",
      "    [1.0823202e-06]\n",
      "    [1.6674546e-06]]\n",
      "\n",
      "   [[1.8206081e-06]\n",
      "    [1.0051688e-06]\n",
      "    [1.0011555e-06]\n",
      "    ...\n",
      "    [2.3737880e-06]\n",
      "    [1.9816164e-06]\n",
      "    [2.0659663e-06]]\n",
      "\n",
      "   [[1.5460680e-06]\n",
      "    [1.0469428e-06]\n",
      "    [6.5245183e-07]\n",
      "    ...\n",
      "    [1.3101068e-06]\n",
      "    [1.3182269e-06]\n",
      "    [1.3571009e-06]]]\n",
      "\n",
      "\n",
      "  [[[2.7917500e-07]\n",
      "    [3.9344116e-07]\n",
      "    [3.8338555e-07]\n",
      "    ...\n",
      "    [7.5569670e-07]\n",
      "    [6.8929529e-07]\n",
      "    [2.5228267e-06]]\n",
      "\n",
      "   [[9.7059933e-07]\n",
      "    [1.0442873e-06]\n",
      "    [1.2043675e-06]\n",
      "    ...\n",
      "    [2.9483906e-06]\n",
      "    [1.3734672e-06]\n",
      "    [2.0333450e-06]]\n",
      "\n",
      "   [[5.5167300e-07]\n",
      "    [4.6176018e-07]\n",
      "    [4.0093985e-07]\n",
      "    ...\n",
      "    [1.1351133e-06]\n",
      "    [1.1093940e-06]\n",
      "    [1.4403137e-06]]\n",
      "\n",
      "   ...\n",
      "\n",
      "   [[7.5238529e-07]\n",
      "    [7.2447608e-07]\n",
      "    [5.1768876e-07]\n",
      "    ...\n",
      "    [1.3401881e-06]\n",
      "    [1.2492094e-06]\n",
      "    [1.2656038e-06]]\n",
      "\n",
      "   [[1.0696964e-06]\n",
      "    [1.0527017e-06]\n",
      "    [8.7761049e-07]\n",
      "    ...\n",
      "    [1.9146796e-06]\n",
      "    [1.6893929e-06]\n",
      "    [1.9035879e-06]]\n",
      "\n",
      "   [[1.2238762e-06]\n",
      "    [1.4142602e-06]\n",
      "    [8.0383057e-07]\n",
      "    ...\n",
      "    [1.5505627e-06]\n",
      "    [1.5787069e-06]\n",
      "    [1.4505114e-06]]]]]\n"
     ]
    }
   ],
   "source": [
    "# Get predictions\n",
    "def bs_grid_to_mol2(centroid, bs_grid, output_folder, file_type, \n",
    "                    grid_resolution = 2, max_dist = 35):\n",
    "    \n",
    "    '''\n",
    "    Converts the binding site grid into a molecule file to be opened with a visual program.\n",
    "    Saves the molecule file in the specified folder\n",
    "    \n",
    "    Parameters\n",
    "    ----------\n",
    "    centroid: the center of the protein [x,y,z]\n",
    "    bs_grid: grid to convert to molecule file\n",
    "    output_folder: folder where the file will be stored as BindingSite.<file_type>\n",
    "    file_type: \"pdb\", \"mol2\"\n",
    "    grid_resolution, max_dist: the ones specified in get_grids function\n",
    "    '''\n",
    "    \n",
    "    # Get all the coordinates in the matrix that do not have a 0\n",
    "    # It may get less coords than original atoms: some atoms get collapsed into the same\n",
    "    # grid point\n",
    "    grid_coords = np.argwhere(bs_grid)[:,1:4]\n",
    "\n",
    "    # Shift the coordinates to align with the coordinates of the input protein\n",
    "    coords = grid_coords.astype('float32') * grid_resolution - max_dist + centroid\n",
    "    \n",
    "    # Create the binding site file and save it to the specified folder\n",
    "    bs = openbabel.OBMol()\n",
    "    for x,y,z in coords:\n",
    "        a = bs.NewAtom()\n",
    "        a.SetVector(float(x),float(y),float(z))\n",
    "    p_bs = pybel.Molecule(bs)\n",
    "    \n",
    "    # Create folder if it doesn't exist\n",
    "    if not os.path.exists(output_folder):\n",
    "        os.makedirs(output_folder)\n",
    "    p_bs.write(file_type,output_folder+'/BindingSite.'+file_type, overwrite=True)\n",
    "\n",
    "\n",
    "    # TODO - get density for each coord (nºatoms per non-empty coord). (idk if its necessary for anything tbh)\n",
    "    density = [bs_grid[0, coord[0], coord[1], coord[2]] for coord in grid_coords]\n",
    "\n",
    "\n",
    "\n",
    "protein_file = \"scPDB_similarproteins/1a8g_1/protein.mol2\"\n",
    "prot_grid, _, centroid = get_grids(\"mol2\", protein_file, None)\n",
    "#model.load_weights(\"bst_bs_prediction.h5\")\n",
    "pred_bs_grid = model.predict(prot_grid)\n",
    "\n",
    "# The program gets a grid of probabilites of the ligand being from that point of the grid\n",
    "# Check how do they do it in the PUResNet model\n",
    "print(np.amax(pred_bs_grid))\n",
    "print(np.amin(pred_bs_grid))\n",
    "print(pred_bs_grid)\n",
    "    \n",
    "\n"
   ]
  },
  {
   "cell_type": "code",
   "execution_count": 10,
   "id": "8f943ac7",
   "metadata": {},
   "outputs": [],
   "source": [
    "threshold = 0.5\n",
    "pred_bs_grid[pred_bs_grid > threshold] = 1\n",
    "pred_bs_grid = pred_bs_grid.astype(int)\n",
    "bs_grid_to_mol2(centroid, pred_bs_grid, \"output\", \"mol2\")"
   ]
  },
  {
   "cell_type": "code",
   "execution_count": 46,
   "id": "5d00b020",
   "metadata": {},
   "outputs": [
    {
     "name": "stdout",
     "output_type": "stream",
     "text": [
      "Epoch 1/30\n",
      "1/6 [====>.........................] - ETA: 28s - loss: 0.4543 - accuracy: 0.9995"
     ]
    },
    {
     "ename": "KeyboardInterrupt",
     "evalue": "",
     "output_type": "error",
     "traceback": [
      "\u001b[0;31m---------------------------------------------------------------------------\u001b[0m",
      "\u001b[0;31mKeyboardInterrupt\u001b[0m                         Traceback (most recent call last)",
      "\u001b[0;32m/tmp/ipykernel_17993/2048823748.py\u001b[0m in \u001b[0;36m<module>\u001b[0;34m\u001b[0m\n\u001b[1;32m      6\u001b[0m \u001b[0mmodel\u001b[0m\u001b[0;34m.\u001b[0m\u001b[0mload_weights\u001b[0m\u001b[0;34m(\u001b[0m\u001b[0;34m\"bst_bs_prediction.h5\"\u001b[0m\u001b[0;34m)\u001b[0m\u001b[0;34m\u001b[0m\u001b[0;34m\u001b[0m\u001b[0m\n\u001b[1;32m      7\u001b[0m \u001b[0;34m\u001b[0m\u001b[0m\n\u001b[0;32m----> 8\u001b[0;31m model.fit(X_train, y_train, \n\u001b[0m\u001b[1;32m      9\u001b[0m           \u001b[0mbatch_size\u001b[0m\u001b[0;34m=\u001b[0m\u001b[0mbatch_size\u001b[0m\u001b[0;34m,\u001b[0m \u001b[0mepochs\u001b[0m\u001b[0;34m=\u001b[0m\u001b[0mepochs\u001b[0m\u001b[0;34m,\u001b[0m\u001b[0;34m\u001b[0m\u001b[0;34m\u001b[0m\u001b[0m\n\u001b[1;32m     10\u001b[0m           \u001b[0mvalidation_split\u001b[0m\u001b[0;34m=\u001b[0m\u001b[0;36m0.1\u001b[0m\u001b[0;34m,\u001b[0m \u001b[0mshuffle\u001b[0m\u001b[0;34m=\u001b[0m\u001b[0;32mTrue\u001b[0m\u001b[0;34m,\u001b[0m\u001b[0;34m\u001b[0m\u001b[0;34m\u001b[0m\u001b[0m\n",
      "\u001b[0;32m~/anaconda3/lib/python3.9/site-packages/keras/utils/traceback_utils.py\u001b[0m in \u001b[0;36merror_handler\u001b[0;34m(*args, **kwargs)\u001b[0m\n\u001b[1;32m     62\u001b[0m     \u001b[0mfiltered_tb\u001b[0m \u001b[0;34m=\u001b[0m \u001b[0;32mNone\u001b[0m\u001b[0;34m\u001b[0m\u001b[0;34m\u001b[0m\u001b[0m\n\u001b[1;32m     63\u001b[0m     \u001b[0;32mtry\u001b[0m\u001b[0;34m:\u001b[0m\u001b[0;34m\u001b[0m\u001b[0;34m\u001b[0m\u001b[0m\n\u001b[0;32m---> 64\u001b[0;31m       \u001b[0;32mreturn\u001b[0m \u001b[0mfn\u001b[0m\u001b[0;34m(\u001b[0m\u001b[0;34m*\u001b[0m\u001b[0margs\u001b[0m\u001b[0;34m,\u001b[0m \u001b[0;34m**\u001b[0m\u001b[0mkwargs\u001b[0m\u001b[0;34m)\u001b[0m\u001b[0;34m\u001b[0m\u001b[0;34m\u001b[0m\u001b[0m\n\u001b[0m\u001b[1;32m     65\u001b[0m     \u001b[0;32mexcept\u001b[0m \u001b[0mException\u001b[0m \u001b[0;32mas\u001b[0m \u001b[0me\u001b[0m\u001b[0;34m:\u001b[0m  \u001b[0;31m# pylint: disable=broad-except\u001b[0m\u001b[0;34m\u001b[0m\u001b[0;34m\u001b[0m\u001b[0m\n\u001b[1;32m     66\u001b[0m       \u001b[0mfiltered_tb\u001b[0m \u001b[0;34m=\u001b[0m \u001b[0m_process_traceback_frames\u001b[0m\u001b[0;34m(\u001b[0m\u001b[0me\u001b[0m\u001b[0;34m.\u001b[0m\u001b[0m__traceback__\u001b[0m\u001b[0;34m)\u001b[0m\u001b[0;34m\u001b[0m\u001b[0;34m\u001b[0m\u001b[0m\n",
      "\u001b[0;32m~/anaconda3/lib/python3.9/site-packages/keras/engine/training.py\u001b[0m in \u001b[0;36mfit\u001b[0;34m(self, x, y, batch_size, epochs, verbose, callbacks, validation_split, validation_data, shuffle, class_weight, sample_weight, initial_epoch, steps_per_epoch, validation_steps, validation_batch_size, validation_freq, max_queue_size, workers, use_multiprocessing)\u001b[0m\n\u001b[1;32m   1407\u001b[0m                 _r=1):\n\u001b[1;32m   1408\u001b[0m               \u001b[0mcallbacks\u001b[0m\u001b[0;34m.\u001b[0m\u001b[0mon_train_batch_begin\u001b[0m\u001b[0;34m(\u001b[0m\u001b[0mstep\u001b[0m\u001b[0;34m)\u001b[0m\u001b[0;34m\u001b[0m\u001b[0;34m\u001b[0m\u001b[0m\n\u001b[0;32m-> 1409\u001b[0;31m               \u001b[0mtmp_logs\u001b[0m \u001b[0;34m=\u001b[0m \u001b[0mself\u001b[0m\u001b[0;34m.\u001b[0m\u001b[0mtrain_function\u001b[0m\u001b[0;34m(\u001b[0m\u001b[0miterator\u001b[0m\u001b[0;34m)\u001b[0m\u001b[0;34m\u001b[0m\u001b[0;34m\u001b[0m\u001b[0m\n\u001b[0m\u001b[1;32m   1410\u001b[0m               \u001b[0;32mif\u001b[0m \u001b[0mdata_handler\u001b[0m\u001b[0;34m.\u001b[0m\u001b[0mshould_sync\u001b[0m\u001b[0;34m:\u001b[0m\u001b[0;34m\u001b[0m\u001b[0;34m\u001b[0m\u001b[0m\n\u001b[1;32m   1411\u001b[0m                 \u001b[0mcontext\u001b[0m\u001b[0;34m.\u001b[0m\u001b[0masync_wait\u001b[0m\u001b[0;34m(\u001b[0m\u001b[0;34m)\u001b[0m\u001b[0;34m\u001b[0m\u001b[0;34m\u001b[0m\u001b[0m\n",
      "\u001b[0;32m~/anaconda3/lib/python3.9/site-packages/tensorflow/python/util/traceback_utils.py\u001b[0m in \u001b[0;36merror_handler\u001b[0;34m(*args, **kwargs)\u001b[0m\n\u001b[1;32m    148\u001b[0m     \u001b[0mfiltered_tb\u001b[0m \u001b[0;34m=\u001b[0m \u001b[0;32mNone\u001b[0m\u001b[0;34m\u001b[0m\u001b[0;34m\u001b[0m\u001b[0m\n\u001b[1;32m    149\u001b[0m     \u001b[0;32mtry\u001b[0m\u001b[0;34m:\u001b[0m\u001b[0;34m\u001b[0m\u001b[0;34m\u001b[0m\u001b[0m\n\u001b[0;32m--> 150\u001b[0;31m       \u001b[0;32mreturn\u001b[0m \u001b[0mfn\u001b[0m\u001b[0;34m(\u001b[0m\u001b[0;34m*\u001b[0m\u001b[0margs\u001b[0m\u001b[0;34m,\u001b[0m \u001b[0;34m**\u001b[0m\u001b[0mkwargs\u001b[0m\u001b[0;34m)\u001b[0m\u001b[0;34m\u001b[0m\u001b[0;34m\u001b[0m\u001b[0m\n\u001b[0m\u001b[1;32m    151\u001b[0m     \u001b[0;32mexcept\u001b[0m \u001b[0mException\u001b[0m \u001b[0;32mas\u001b[0m \u001b[0me\u001b[0m\u001b[0;34m:\u001b[0m\u001b[0;34m\u001b[0m\u001b[0;34m\u001b[0m\u001b[0m\n\u001b[1;32m    152\u001b[0m       \u001b[0mfiltered_tb\u001b[0m \u001b[0;34m=\u001b[0m \u001b[0m_process_traceback_frames\u001b[0m\u001b[0;34m(\u001b[0m\u001b[0me\u001b[0m\u001b[0;34m.\u001b[0m\u001b[0m__traceback__\u001b[0m\u001b[0;34m)\u001b[0m\u001b[0;34m\u001b[0m\u001b[0;34m\u001b[0m\u001b[0m\n",
      "\u001b[0;32m~/anaconda3/lib/python3.9/site-packages/tensorflow/python/eager/def_function.py\u001b[0m in \u001b[0;36m__call__\u001b[0;34m(self, *args, **kwds)\u001b[0m\n\u001b[1;32m    913\u001b[0m \u001b[0;34m\u001b[0m\u001b[0m\n\u001b[1;32m    914\u001b[0m       \u001b[0;32mwith\u001b[0m \u001b[0mOptionalXlaContext\u001b[0m\u001b[0;34m(\u001b[0m\u001b[0mself\u001b[0m\u001b[0;34m.\u001b[0m\u001b[0m_jit_compile\u001b[0m\u001b[0;34m)\u001b[0m\u001b[0;34m:\u001b[0m\u001b[0;34m\u001b[0m\u001b[0;34m\u001b[0m\u001b[0m\n\u001b[0;32m--> 915\u001b[0;31m         \u001b[0mresult\u001b[0m \u001b[0;34m=\u001b[0m \u001b[0mself\u001b[0m\u001b[0;34m.\u001b[0m\u001b[0m_call\u001b[0m\u001b[0;34m(\u001b[0m\u001b[0;34m*\u001b[0m\u001b[0margs\u001b[0m\u001b[0;34m,\u001b[0m \u001b[0;34m**\u001b[0m\u001b[0mkwds\u001b[0m\u001b[0;34m)\u001b[0m\u001b[0;34m\u001b[0m\u001b[0;34m\u001b[0m\u001b[0m\n\u001b[0m\u001b[1;32m    916\u001b[0m \u001b[0;34m\u001b[0m\u001b[0m\n\u001b[1;32m    917\u001b[0m       \u001b[0mnew_tracing_count\u001b[0m \u001b[0;34m=\u001b[0m \u001b[0mself\u001b[0m\u001b[0;34m.\u001b[0m\u001b[0mexperimental_get_tracing_count\u001b[0m\u001b[0;34m(\u001b[0m\u001b[0;34m)\u001b[0m\u001b[0;34m\u001b[0m\u001b[0;34m\u001b[0m\u001b[0m\n",
      "\u001b[0;32m~/anaconda3/lib/python3.9/site-packages/tensorflow/python/eager/def_function.py\u001b[0m in \u001b[0;36m_call\u001b[0;34m(self, *args, **kwds)\u001b[0m\n\u001b[1;32m    945\u001b[0m       \u001b[0;31m# In this case we have created variables on the first call, so we run the\u001b[0m\u001b[0;34m\u001b[0m\u001b[0;34m\u001b[0m\u001b[0m\n\u001b[1;32m    946\u001b[0m       \u001b[0;31m# defunned version which is guaranteed to never create variables.\u001b[0m\u001b[0;34m\u001b[0m\u001b[0;34m\u001b[0m\u001b[0m\n\u001b[0;32m--> 947\u001b[0;31m       \u001b[0;32mreturn\u001b[0m \u001b[0mself\u001b[0m\u001b[0;34m.\u001b[0m\u001b[0m_stateless_fn\u001b[0m\u001b[0;34m(\u001b[0m\u001b[0;34m*\u001b[0m\u001b[0margs\u001b[0m\u001b[0;34m,\u001b[0m \u001b[0;34m**\u001b[0m\u001b[0mkwds\u001b[0m\u001b[0;34m)\u001b[0m  \u001b[0;31m# pylint: disable=not-callable\u001b[0m\u001b[0;34m\u001b[0m\u001b[0;34m\u001b[0m\u001b[0m\n\u001b[0m\u001b[1;32m    948\u001b[0m     \u001b[0;32melif\u001b[0m \u001b[0mself\u001b[0m\u001b[0;34m.\u001b[0m\u001b[0m_stateful_fn\u001b[0m \u001b[0;32mis\u001b[0m \u001b[0;32mnot\u001b[0m \u001b[0;32mNone\u001b[0m\u001b[0;34m:\u001b[0m\u001b[0;34m\u001b[0m\u001b[0;34m\u001b[0m\u001b[0m\n\u001b[1;32m    949\u001b[0m       \u001b[0;31m# Release the lock early so that multiple threads can perform the call\u001b[0m\u001b[0;34m\u001b[0m\u001b[0;34m\u001b[0m\u001b[0m\n",
      "\u001b[0;32m~/anaconda3/lib/python3.9/site-packages/tensorflow/python/eager/function.py\u001b[0m in \u001b[0;36m__call__\u001b[0;34m(self, *args, **kwargs)\u001b[0m\n\u001b[1;32m   2451\u001b[0m       (graph_function,\n\u001b[1;32m   2452\u001b[0m        filtered_flat_args) = self._maybe_define_function(args, kwargs)\n\u001b[0;32m-> 2453\u001b[0;31m     return graph_function._call_flat(\n\u001b[0m\u001b[1;32m   2454\u001b[0m         filtered_flat_args, captured_inputs=graph_function.captured_inputs)  # pylint: disable=protected-access\n\u001b[1;32m   2455\u001b[0m \u001b[0;34m\u001b[0m\u001b[0m\n",
      "\u001b[0;32m~/anaconda3/lib/python3.9/site-packages/tensorflow/python/eager/function.py\u001b[0m in \u001b[0;36m_call_flat\u001b[0;34m(self, args, captured_inputs, cancellation_manager)\u001b[0m\n\u001b[1;32m   1858\u001b[0m         and executing_eagerly):\n\u001b[1;32m   1859\u001b[0m       \u001b[0;31m# No tape is watching; skip to running the function.\u001b[0m\u001b[0;34m\u001b[0m\u001b[0;34m\u001b[0m\u001b[0m\n\u001b[0;32m-> 1860\u001b[0;31m       return self._build_call_outputs(self._inference_function.call(\n\u001b[0m\u001b[1;32m   1861\u001b[0m           ctx, args, cancellation_manager=cancellation_manager))\n\u001b[1;32m   1862\u001b[0m     forward_backward = self._select_forward_and_backward_functions(\n",
      "\u001b[0;32m~/anaconda3/lib/python3.9/site-packages/tensorflow/python/eager/function.py\u001b[0m in \u001b[0;36mcall\u001b[0;34m(self, ctx, args, cancellation_manager)\u001b[0m\n\u001b[1;32m    495\u001b[0m       \u001b[0;32mwith\u001b[0m \u001b[0m_InterpolateFunctionError\u001b[0m\u001b[0;34m(\u001b[0m\u001b[0mself\u001b[0m\u001b[0;34m)\u001b[0m\u001b[0;34m:\u001b[0m\u001b[0;34m\u001b[0m\u001b[0;34m\u001b[0m\u001b[0m\n\u001b[1;32m    496\u001b[0m         \u001b[0;32mif\u001b[0m \u001b[0mcancellation_manager\u001b[0m \u001b[0;32mis\u001b[0m \u001b[0;32mNone\u001b[0m\u001b[0;34m:\u001b[0m\u001b[0;34m\u001b[0m\u001b[0;34m\u001b[0m\u001b[0m\n\u001b[0;32m--> 497\u001b[0;31m           outputs = execute.execute(\n\u001b[0m\u001b[1;32m    498\u001b[0m               \u001b[0mstr\u001b[0m\u001b[0;34m(\u001b[0m\u001b[0mself\u001b[0m\u001b[0;34m.\u001b[0m\u001b[0msignature\u001b[0m\u001b[0;34m.\u001b[0m\u001b[0mname\u001b[0m\u001b[0;34m)\u001b[0m\u001b[0;34m,\u001b[0m\u001b[0;34m\u001b[0m\u001b[0;34m\u001b[0m\u001b[0m\n\u001b[1;32m    499\u001b[0m               \u001b[0mnum_outputs\u001b[0m\u001b[0;34m=\u001b[0m\u001b[0mself\u001b[0m\u001b[0;34m.\u001b[0m\u001b[0m_num_outputs\u001b[0m\u001b[0;34m,\u001b[0m\u001b[0;34m\u001b[0m\u001b[0;34m\u001b[0m\u001b[0m\n",
      "\u001b[0;32m~/anaconda3/lib/python3.9/site-packages/tensorflow/python/eager/execute.py\u001b[0m in \u001b[0;36mquick_execute\u001b[0;34m(op_name, num_outputs, inputs, attrs, ctx, name)\u001b[0m\n\u001b[1;32m     52\u001b[0m   \u001b[0;32mtry\u001b[0m\u001b[0;34m:\u001b[0m\u001b[0;34m\u001b[0m\u001b[0;34m\u001b[0m\u001b[0m\n\u001b[1;32m     53\u001b[0m     \u001b[0mctx\u001b[0m\u001b[0;34m.\u001b[0m\u001b[0mensure_initialized\u001b[0m\u001b[0;34m(\u001b[0m\u001b[0;34m)\u001b[0m\u001b[0;34m\u001b[0m\u001b[0;34m\u001b[0m\u001b[0m\n\u001b[0;32m---> 54\u001b[0;31m     tensors = pywrap_tfe.TFE_Py_Execute(ctx._handle, device_name, op_name,\n\u001b[0m\u001b[1;32m     55\u001b[0m                                         inputs, attrs, num_outputs)\n\u001b[1;32m     56\u001b[0m   \u001b[0;32mexcept\u001b[0m \u001b[0mcore\u001b[0m\u001b[0;34m.\u001b[0m\u001b[0m_NotOkStatusException\u001b[0m \u001b[0;32mas\u001b[0m \u001b[0me\u001b[0m\u001b[0;34m:\u001b[0m\u001b[0;34m\u001b[0m\u001b[0;34m\u001b[0m\u001b[0m\n",
      "\u001b[0;31mKeyboardInterrupt\u001b[0m: "
     ]
    }
   ],
   "source": [
    "# In order to continue training the model, run this code\n",
    "# TODO - Should save the checkpoints in a file so that I can concatenate them\n",
    "batch_size = 5\n",
    "epochs = 30\n",
    "\n",
    "model.load_weights(\"bst_bs_prediction.h5\")\n",
    "\n",
    "model.fit(X_train, y_train, \n",
    "          batch_size=batch_size, epochs=epochs, \n",
    "          validation_split=0.1, shuffle=True,\n",
    "          callbacks=[checkpoint_cb, early_stopping_cb])"
   ]
  }
 ],
 "metadata": {
  "kernelspec": {
   "display_name": "TrialEnv2",
   "language": "python",
   "name": "trialenv2"
  },
  "language_info": {
   "codemirror_mode": {
    "name": "ipython",
    "version": 3
   },
   "file_extension": ".py",
   "mimetype": "text/x-python",
   "name": "python",
   "nbconvert_exporter": "python",
   "pygments_lexer": "ipython3",
   "version": "3.9.13"
  }
 },
 "nbformat": 4,
 "nbformat_minor": 5
}
