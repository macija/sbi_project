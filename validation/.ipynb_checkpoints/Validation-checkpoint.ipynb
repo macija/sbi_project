{
 "cells": [
  {
   "cell_type": "code",
   "execution_count": 1,
   "id": "82157cd8",
   "metadata": {},
   "outputs": [
    {
     "ename": "ModuleNotFoundError",
     "evalue": "No module named 'PUResNet'",
     "output_type": "error",
     "traceback": [
      "\u001b[0;31m---------------------------------------------------------------------------\u001b[0m",
      "\u001b[0;31mModuleNotFoundError\u001b[0m                       Traceback (most recent call last)",
      "Cell \u001b[0;32mIn[1], line 7\u001b[0m\n\u001b[1;32m      5\u001b[0m \u001b[38;5;28;01mimport\u001b[39;00m \u001b[38;5;21;01mos\u001b[39;00m\n\u001b[1;32m      6\u001b[0m \u001b[38;5;28;01mimport\u001b[39;00m \u001b[38;5;21;01mglob\u001b[39;00m\n\u001b[0;32m----> 7\u001b[0m \u001b[38;5;28;01mimport\u001b[39;00m \u001b[38;5;21;01mvalidate\u001b[39;00m\n\u001b[1;32m      8\u001b[0m \u001b[38;5;28;01mfrom\u001b[39;00m \u001b[38;5;21;01mopenbabel\u001b[39;00m \u001b[38;5;28;01mimport\u001b[39;00m openbabel, pybel\n",
      "File \u001b[0;32m~/Documents/sbi_project/validation/validate.py:2\u001b[0m\n\u001b[1;32m      1\u001b[0m \u001b[38;5;28;01mimport\u001b[39;00m \u001b[38;5;21;01mos\u001b[39;00m \n\u001b[0;32m----> 2\u001b[0m \u001b[38;5;28;01mfrom\u001b[39;00m \u001b[38;5;21;01mPUResNet\u001b[39;00m \u001b[38;5;28;01mimport\u001b[39;00m PUResNet\n\u001b[1;32m      3\u001b[0m \u001b[38;5;28;01mimport\u001b[39;00m \u001b[38;5;21;01mnumpy\u001b[39;00m \u001b[38;5;28;01mas\u001b[39;00m \u001b[38;5;21;01mnp\u001b[39;00m\n\u001b[1;32m      4\u001b[0m \u001b[38;5;28;01mfrom\u001b[39;00m \u001b[38;5;21;01mopenbabel\u001b[39;00m \u001b[38;5;28;01mimport\u001b[39;00m pybel\n",
      "\u001b[0;31mModuleNotFoundError\u001b[0m: No module named 'PUResNet'"
     ]
    }
   ],
   "source": [
    "import numpy as np\n",
    "import pandas as pd\n",
    "import matplotlib.pyplot as plt\n",
    "import seaborn as sns\n",
    "import os\n",
    "import glob\n",
    "import validate\n",
    "from openbabel import openbabel, pybel"
   ]
  },
  {
   "cell_type": "markdown",
   "id": "7f072d1c",
   "metadata": {},
   "source": [
    "# Validation of BSPredictor model\n",
    "We have run BSPredictor model in scPDB validation subset and shown a few critical cases. Now we want to compare its performance to other methods. For this we will run Fpocket, PUResNet and our method on scPDB validation usbset and Coach420 database. We will analyse all the binding site preidctions and calculate their DCC value to calculate the sucess rates.\n",
    "\n",
    "## scPDB validation subset\n",
    "### Running our model"
   ]
  },
  {
   "cell_type": "code",
   "execution_count": null,
   "id": "dda43f7d",
   "metadata": {},
   "outputs": [],
   "source": [
    "our_dccs, our_dvo = validate.validate('../validation_data/scPDB', '../validation_data/output_our')"
   ]
  },
  {
   "cell_type": "markdown",
   "id": "3345101d",
   "metadata": {},
   "source": [
    "The output of the previous cell is all the openbabel errors that I have hided for comodity.\n",
    "Since that step takes a long time, I save the dcc output in a pickle. It's what I need at least."
   ]
  },
  {
   "cell_type": "code",
   "execution_count": 7,
   "id": "90a0efef",
   "metadata": {},
   "outputs": [],
   "source": [
    "import pickle\n",
    "with open('our_model_dccs_dvos.pickle', 'wb') as handle:\n",
    "    pickle.dump(our_dccs, handle, protocol=pickle.HIGHEST_PROTOCOL)\n"
   ]
  },
  {
   "cell_type": "markdown",
   "id": "201db399",
   "metadata": {},
   "source": [
    "### Runing Fpocket, PUResNet and analysing their output\n",
    "\n",
    "Now, I define all the functions to generate the final plot. I need tocalculate dcccs for the other methods we want to compare and in that case we cannot use the functions in validate.py that we use for our model, the path strucutre and the files we have is different. Then I need to convert the dict of dccs from the  pickle and the other methods to a proper list of ranked pockets to do the plots."
   ]
  },
  {
   "cell_type": "code",
   "execution_count": 69,
   "id": "4ea15dcc",
   "metadata": {},
   "outputs": [],
   "source": [
    "def get_coords(file_path, file_type):\n",
    "    atom_coords = []\n",
    "    residues = []\n",
    "    with open(file_path, \"r\") as file:\n",
    "        \n",
    "        if file_type == \"mol2\":\n",
    "            start = False\n",
    "            for line in file:\n",
    "                if \"@<TRIPOS>ATOM\" in line:\n",
    "                    start = True\n",
    "                elif \"@<TRIPOS>BOND\" in line:\n",
    "                    start = False\n",
    "                elif start == True:\n",
    "                    x = float(line[17:26])\n",
    "                    y = float(line[27:36])\n",
    "                    z = float(line[37:46])\n",
    "                    res = line[64:72].strip()\n",
    "                    atom_coords.append([x,y,z])\n",
    "                    residues.append(res)\n",
    "                    \n",
    "        elif file_type == \"pdb\":\n",
    "            for line in file:\n",
    "                if line.startswith(\"ATOM\") or line.startswith(\"HETATM\"):\n",
    "                        x = float(line[31:38])\n",
    "                        y = float(line[39:46])\n",
    "                        z = float(line[47:55])\n",
    "\n",
    "                        res_num = line[23:27]\n",
    "                        res_name = line[17:20]\n",
    "                        res = (res_name + res_num).strip()\n",
    "                        \n",
    "                        atom_coords.append([x,y,z])\n",
    "                        residues.append(res)\n",
    "                \n",
    "            \n",
    "    return atom_coords, residues\n",
    "def read_fpocket(fpocket_folder, scPDB_folder):\n",
    "    total_val_proteins = 0\n",
    "    predicted_pockets = 0\n",
    "    dcc_success = 0\n",
    "    dvo_vals = []\n",
    "\n",
    "    dccs = {}\n",
    "    dvos = {}\n",
    "\n",
    "    for result in glob.glob(fpocket_folder+'/*_out'):\n",
    "        pdb_code = result.split('/')[-1]\n",
    "        pdb_code = '_'.join(pdb_code.split('_')[0:2])\n",
    "        #print(pdb_code)\n",
    "\n",
    "        dcc_current = []\n",
    "        dvo_current = []\n",
    "\n",
    "        #Fpocket result in result+/+pdb_code_out.pdb or in pockets folder one by one...\n",
    "            # as result+/+pockets/+pocketXX_atm.pdb\n",
    "        #original pocket in :\n",
    "            # scPDB/+pdb_code+/+cavity6.mol2\n",
    "        \n",
    "        #real_bs = next(pybel.readfile('mol2', scPDB_folder+'/'+pdb_code+'/cavity6.mol2'))\n",
    "        real_bs_coords, _ = get_coords(scPDB_folder+'/'+pdb_code+'/cavity6.mol2', 'mol2')\n",
    "        real_bs_coords = np.array(real_bs_coords)\n",
    "\n",
    "        for pocket in glob.glob(result+'/pockets/pocket*_vert.pqr'):\n",
    "            #predicted_bs = next(pybel.readfile('pdb', pocket))\n",
    "            predicted_bs_coords, _ = get_coords(pocket, 'pdb')\n",
    "            predicted_bs_coords = np.array(predicted_bs_coords)\n",
    "\n",
    "            # Calculate DCC:  \n",
    "            #print(real_bs_coords)\n",
    "            #print(predicted_bs_coords)\n",
    "            dcc = np.linalg.norm(real_bs_coords.mean(axis=0) - predicted_bs_coords.mean(axis=0))\n",
    "            dcc_current.append(dcc)\n",
    "            if dcc < 4:\n",
    "                dcc_success += 1\n",
    "                dvo = validate.calculate_DVO(real_bs_coords, predicted_bs_coords)\n",
    "                dvo_vals.append(dvo)\n",
    "                dvo_current.append(dvo)\n",
    "            if len(dcc_current) > 0:\n",
    "                dccs[pdb_code] = min(dcc_current)\n",
    "            if len(dvo_current) > 0:\n",
    "                dvos[pdb_code] = min(dvo_current)\n",
    "    return dccs, dvos\n",
    "\n",
    "def calculate_metrics(dccs_df):\n",
    "    Success_rate = []\n",
    "    for index, pocket in dccs_df.iterrows():\n",
    "        Positives = len(dccs_df['true_val'][0:index])\n",
    "        Negatives = len(dccs_df['true_val'][index:])\n",
    "        Success_rate.append(Positives/(Negatives+Positives))\n",
    "    return Success_rate"
   ]
  },
  {
   "cell_type": "markdown",
   "id": "a66bcfc9",
   "metadata": {},
   "source": [
    "Preparing the results from our model (I have already run the first cells in this notebook that runed validate.py.)"
   ]
  },
  {
   "cell_type": "code",
   "execution_count": null,
   "id": "b7cf90f7",
   "metadata": {},
   "outputs": [],
   "source": [
    "import pickle\n",
    "with open('our_model_dccs_dvos.pickle', 'rb') as handle:\n",
    "    our_dccs = pickle.load(handle)\n",
    "handle.close()\n",
    "dccs_df = pd.DataFrame.from_dict(our_dccs, orient='index')\n",
    "dccs_df.sort_values(0, inplace=True)\n",
    "dccs_df['RANK'] = np.arange(dccs_df.shape[0])\n",
    "dccs_df['protein'] = dccs_df.index\n",
    "dccs_df = dccs_df.set_index('RANK', drop=False)"
   ]
  },
  {
   "cell_type": "code",
   "execution_count": 70,
   "id": "ed481ab0",
   "metadata": {},
   "outputs": [
    {
     "data": {
      "text/html": [
       "<div>\n",
       "<style scoped>\n",
       "    .dataframe tbody tr th:only-of-type {\n",
       "        vertical-align: middle;\n",
       "    }\n",
       "\n",
       "    .dataframe tbody tr th {\n",
       "        vertical-align: top;\n",
       "    }\n",
       "\n",
       "    .dataframe thead th {\n",
       "        text-align: right;\n",
       "    }\n",
       "</style>\n",
       "<table border=\"1\" class=\"dataframe\">\n",
       "  <thead>\n",
       "    <tr style=\"text-align: right;\">\n",
       "      <th></th>\n",
       "      <th>0</th>\n",
       "      <th>true_val</th>\n",
       "      <th>RANK</th>\n",
       "      <th>protein</th>\n",
       "    </tr>\n",
       "    <tr>\n",
       "      <th>RANK</th>\n",
       "      <th></th>\n",
       "      <th></th>\n",
       "      <th></th>\n",
       "      <th></th>\n",
       "    </tr>\n",
       "  </thead>\n",
       "  <tbody>\n",
       "    <tr>\n",
       "      <th>0</th>\n",
       "      <td>0.138119</td>\n",
       "      <td>1</td>\n",
       "      <td>0</td>\n",
       "      <td>1zdf_1</td>\n",
       "    </tr>\n",
       "    <tr>\n",
       "      <th>1</th>\n",
       "      <td>0.233977</td>\n",
       "      <td>1</td>\n",
       "      <td>1</td>\n",
       "      <td>2ga2_1</td>\n",
       "    </tr>\n",
       "    <tr>\n",
       "      <th>2</th>\n",
       "      <td>0.265833</td>\n",
       "      <td>1</td>\n",
       "      <td>2</td>\n",
       "      <td>2cx8_2</td>\n",
       "    </tr>\n",
       "    <tr>\n",
       "      <th>3</th>\n",
       "      <td>0.315316</td>\n",
       "      <td>1</td>\n",
       "      <td>3</td>\n",
       "      <td>3fri_1</td>\n",
       "    </tr>\n",
       "    <tr>\n",
       "      <th>4</th>\n",
       "      <td>0.330047</td>\n",
       "      <td>1</td>\n",
       "      <td>4</td>\n",
       "      <td>4o9k_2</td>\n",
       "    </tr>\n",
       "    <tr>\n",
       "      <th>...</th>\n",
       "      <td>...</td>\n",
       "      <td>...</td>\n",
       "      <td>...</td>\n",
       "      <td>...</td>\n",
       "    </tr>\n",
       "    <tr>\n",
       "      <th>217</th>\n",
       "      <td>NaN</td>\n",
       "      <td>0</td>\n",
       "      <td>217</td>\n",
       "      <td>2nxe_2</td>\n",
       "    </tr>\n",
       "    <tr>\n",
       "      <th>218</th>\n",
       "      <td>NaN</td>\n",
       "      <td>0</td>\n",
       "      <td>218</td>\n",
       "      <td>4uox_2</td>\n",
       "    </tr>\n",
       "    <tr>\n",
       "      <th>219</th>\n",
       "      <td>NaN</td>\n",
       "      <td>0</td>\n",
       "      <td>219</td>\n",
       "      <td>4xg1_3</td>\n",
       "    </tr>\n",
       "    <tr>\n",
       "      <th>220</th>\n",
       "      <td>NaN</td>\n",
       "      <td>0</td>\n",
       "      <td>220</td>\n",
       "      <td>2fkn_3</td>\n",
       "    </tr>\n",
       "    <tr>\n",
       "      <th>221</th>\n",
       "      <td>NaN</td>\n",
       "      <td>0</td>\n",
       "      <td>221</td>\n",
       "      <td>3fqa_1</td>\n",
       "    </tr>\n",
       "  </tbody>\n",
       "</table>\n",
       "<p>222 rows × 4 columns</p>\n",
       "</div>"
      ],
      "text/plain": [
       "             0  true_val  RANK protein\n",
       "RANK                                  \n",
       "0     0.138119         1     0  1zdf_1\n",
       "1     0.233977         1     1  2ga2_1\n",
       "2     0.265833         1     2  2cx8_2\n",
       "3     0.315316         1     3  3fri_1\n",
       "4     0.330047         1     4  4o9k_2\n",
       "...        ...       ...   ...     ...\n",
       "217        NaN         0   217  2nxe_2\n",
       "218        NaN         0   218  4uox_2\n",
       "219        NaN         0   219  4xg1_3\n",
       "220        NaN         0   220  2fkn_3\n",
       "221        NaN         0   221  3fqa_1\n",
       "\n",
       "[222 rows x 4 columns]"
      ]
     },
     "execution_count": 70,
     "metadata": {},
     "output_type": "execute_result"
    }
   ],
   "source": [
    "dccs_df"
   ]
  },
  {
   "cell_type": "markdown",
   "id": "07c53499",
   "metadata": {},
   "source": [
    "Prepare the results for fpocket"
   ]
  },
  {
   "cell_type": "code",
   "execution_count": 48,
   "id": "76b27280",
   "metadata": {},
   "outputs": [],
   "source": [
    "fpocket_dccs, fpocket_dvos = read_fpocket('../validation_data/input_fpocket', '../db/scPDB')"
   ]
  },
  {
   "cell_type": "code",
   "execution_count": 49,
   "id": "aee06a88",
   "metadata": {},
   "outputs": [],
   "source": [
    "fpocket_dccs_df = pd.DataFrame.from_dict(fpocket_dccs, orient='index')\n",
    "fpocket_dccs_df = fpocket_dccs_df.assign(true_val=[1 if x < 4 else 0 for x in fpocket_dccs_df[0]])\n",
    "fpocket_dccs_df.sort_values(0, inplace=True)\n",
    "fpocket_dccs_df['RANK'] = np.arange(fpocket_dccs_df.shape[0])\n",
    "fpocket_dccs_df['protein'] = fpocket_dccs_df.index\n",
    "fpocket_dccs_df = fpocket_dccs_df.set_index('RANK', drop=False)\n"
   ]
  },
  {
   "cell_type": "code",
   "execution_count": 54,
   "id": "c610b1e7",
   "metadata": {},
   "outputs": [
    {
     "data": {
      "text/html": [
       "<div>\n",
       "<style scoped>\n",
       "    .dataframe tbody tr th:only-of-type {\n",
       "        vertical-align: middle;\n",
       "    }\n",
       "\n",
       "    .dataframe tbody tr th {\n",
       "        vertical-align: top;\n",
       "    }\n",
       "\n",
       "    .dataframe thead th {\n",
       "        text-align: right;\n",
       "    }\n",
       "</style>\n",
       "<table border=\"1\" class=\"dataframe\">\n",
       "  <thead>\n",
       "    <tr style=\"text-align: right;\">\n",
       "      <th></th>\n",
       "      <th>0</th>\n",
       "      <th>true_val</th>\n",
       "      <th>RANK</th>\n",
       "      <th>protein</th>\n",
       "    </tr>\n",
       "    <tr>\n",
       "      <th>RANK</th>\n",
       "      <th></th>\n",
       "      <th></th>\n",
       "      <th></th>\n",
       "      <th></th>\n",
       "    </tr>\n",
       "  </thead>\n",
       "  <tbody>\n",
       "    <tr>\n",
       "      <th>0</th>\n",
       "      <td>0.195759</td>\n",
       "      <td>1</td>\n",
       "      <td>0</td>\n",
       "      <td>3vpb_4</td>\n",
       "    </tr>\n",
       "    <tr>\n",
       "      <th>1</th>\n",
       "      <td>0.250526</td>\n",
       "      <td>1</td>\n",
       "      <td>1</td>\n",
       "      <td>4f3g_1</td>\n",
       "    </tr>\n",
       "    <tr>\n",
       "      <th>2</th>\n",
       "      <td>0.257943</td>\n",
       "      <td>1</td>\n",
       "      <td>2</td>\n",
       "      <td>4uy6_1</td>\n",
       "    </tr>\n",
       "    <tr>\n",
       "      <th>3</th>\n",
       "      <td>0.260845</td>\n",
       "      <td>1</td>\n",
       "      <td>3</td>\n",
       "      <td>5kbw_1</td>\n",
       "    </tr>\n",
       "    <tr>\n",
       "      <th>4</th>\n",
       "      <td>0.276329</td>\n",
       "      <td>1</td>\n",
       "      <td>4</td>\n",
       "      <td>4o9k_2</td>\n",
       "    </tr>\n",
       "    <tr>\n",
       "      <th>...</th>\n",
       "      <td>...</td>\n",
       "      <td>...</td>\n",
       "      <td>...</td>\n",
       "      <td>...</td>\n",
       "    </tr>\n",
       "    <tr>\n",
       "      <th>264</th>\n",
       "      <td>9.143026</td>\n",
       "      <td>0</td>\n",
       "      <td>264</td>\n",
       "      <td>2gks_1</td>\n",
       "    </tr>\n",
       "    <tr>\n",
       "      <th>265</th>\n",
       "      <td>9.706857</td>\n",
       "      <td>0</td>\n",
       "      <td>265</td>\n",
       "      <td>3oz2_1</td>\n",
       "    </tr>\n",
       "    <tr>\n",
       "      <th>266</th>\n",
       "      <td>10.028170</td>\n",
       "      <td>0</td>\n",
       "      <td>266</td>\n",
       "      <td>4hne_1</td>\n",
       "    </tr>\n",
       "    <tr>\n",
       "      <th>267</th>\n",
       "      <td>11.016025</td>\n",
       "      <td>0</td>\n",
       "      <td>267</td>\n",
       "      <td>1qd1_1</td>\n",
       "    </tr>\n",
       "    <tr>\n",
       "      <th>268</th>\n",
       "      <td>14.787240</td>\n",
       "      <td>0</td>\n",
       "      <td>268</td>\n",
       "      <td>5cb4_1</td>\n",
       "    </tr>\n",
       "  </tbody>\n",
       "</table>\n",
       "<p>269 rows × 4 columns</p>\n",
       "</div>"
      ],
      "text/plain": [
       "              0  true_val  RANK protein\n",
       "RANK                                   \n",
       "0      0.195759         1     0  3vpb_4\n",
       "1      0.250526         1     1  4f3g_1\n",
       "2      0.257943         1     2  4uy6_1\n",
       "3      0.260845         1     3  5kbw_1\n",
       "4      0.276329         1     4  4o9k_2\n",
       "...         ...       ...   ...     ...\n",
       "264    9.143026         0   264  2gks_1\n",
       "265    9.706857         0   265  3oz2_1\n",
       "266   10.028170         0   266  4hne_1\n",
       "267   11.016025         0   267  1qd1_1\n",
       "268   14.787240         0   268  5cb4_1\n",
       "\n",
       "[269 rows x 4 columns]"
      ]
     },
     "execution_count": 54,
     "metadata": {},
     "output_type": "execute_result"
    }
   ],
   "source": [
    "fpocket_dccs_df"
   ]
  },
  {
   "cell_type": "code",
   "execution_count": 62,
   "id": "139d03d7",
   "metadata": {},
   "outputs": [],
   "source": [
    "fpocket_Success_rate = calculate_metrics(fpocket_dccs_df)"
   ]
  },
  {
   "cell_type": "markdown",
   "id": "ea9c7fd0",
   "metadata": {},
   "source": [
    "Prepare the results for puresnet"
   ]
  },
  {
   "cell_type": "code",
   "execution_count": 105,
   "id": "2554cde2",
   "metadata": {},
   "outputs": [],
   "source": [
    "def read_puresnet(puresnet_folder, scPDB_folder):\n",
    "    total_val_proteins = 0\n",
    "    predicted_pockets = 0\n",
    "    dcc_success = 0\n",
    "    dvo_vals = []\n",
    "\n",
    "    dccs = {}\n",
    "    dvos = {}\n",
    "    \n",
    "    for result in glob.glob(puresnet_folder+'/*'):\n",
    "        pdb_code = result.split('/')[-1]\n",
    "        pdb_code = pdb_code.split('.')[0]\n",
    "\n",
    "        dcc_current = []\n",
    "        dvo_current = []\n",
    "\n",
    "        #puresnet results are in result+/pocketX.mol2\n",
    "        #original pocket in :\n",
    "            # scPDB/+pdb_code+/+cavity6.mol2\n",
    "        \n",
    "        #real_bs = next(pybel.readfile('mol2', scPDB_folder+'/'+pdb_code+'/cavity6.mol2'))\n",
    "        real_bs_coords, _ = get_coords(scPDB_folder+'/'+pdb_code+'/cavity6.mol2', 'mol2')\n",
    "        real_bs_coords = np.array(real_bs_coords)\n",
    "\n",
    "\n",
    "        for pocket in glob.glob(result+'/pocket*.mol2'):\n",
    "            #predicted_bs = next(pybel.readfile('pdb', pocket))\n",
    "            predicted_bs_coords, _ = get_coords(pocket, 'mol2')\n",
    "            predicted_bs_coords = np.array(predicted_bs_coords)\n",
    "\n",
    "            # Calculate DCC:  \n",
    "            #print(real_bs_coords)\n",
    "            #print(predicted_bs_coords)\n",
    "            dcc = np.linalg.norm(real_bs_coords.mean(axis=0) - predicted_bs_coords.mean(axis=0))\n",
    "            dcc_current.append(dcc)\n",
    "            if dcc < 4:\n",
    "                dcc_success += 1\n",
    "                dvo = validate.calculate_DVO(real_bs_coords, predicted_bs_coords)\n",
    "                dvo_vals.append(dvo)\n",
    "                dvo_current.append(dvo)\n",
    "            if len(dcc_current) > 0:\n",
    "                dccs[pdb_code] = min(dcc_current)\n",
    "            if len(dvo_current) > 0:\n",
    "                dvos[pdb_code] = min(dvo_current)\n",
    "    return dccs, dvos"
   ]
  },
  {
   "cell_type": "code",
   "execution_count": 106,
   "id": "46f442b4",
   "metadata": {},
   "outputs": [
    {
     "name": "stderr",
     "output_type": "stream",
     "text": [
      "/tmp/ipykernel_25612/1007736694.py:34: RuntimeWarning: Mean of empty slice.\n",
      "  dcc = np.linalg.norm(real_bs_coords.mean(axis=0) - predicted_bs_coords.mean(axis=0))\n",
      "/home/marc/anaconda3/envs/SBI_ml/lib/python3.10/site-packages/numpy/core/_methods.py:190: RuntimeWarning: invalid value encountered in double_scalars\n",
      "  ret = ret.dtype.type(ret / rcount)\n"
     ]
    }
   ],
   "source": [
    "puresnet_dccs, puresnet_dvos = read_puresnet('../validation_data/output_puresnet', '../db/scPDB')\n",
    "\n",
    "puresnet_dccs_df = pd.DataFrame.from_dict(puresnet_dccs, orient='index')\n",
    "puresnet_dccs_df = puresnet_dccs_df.assign(true_val=[1 if x < 4 else 0 for x in puresnet_dccs_df[0]])\n",
    "puresnet_dccs_df.sort_values(0, inplace=True)\n",
    "puresnet_dccs_df['RANK'] = np.arange(puresnet_dccs_df.shape[0])\n",
    "puresnet_dccs_df['protein'] = puresnet_dccs_df.index\n",
    "puresnet_dccs_df = puresnet_dccs_df.set_index('RANK', drop=False)"
   ]
  },
  {
   "cell_type": "code",
   "execution_count": 107,
   "id": "a015069c",
   "metadata": {},
   "outputs": [
    {
     "data": {
      "text/html": [
       "<div>\n",
       "<style scoped>\n",
       "    .dataframe tbody tr th:only-of-type {\n",
       "        vertical-align: middle;\n",
       "    }\n",
       "\n",
       "    .dataframe tbody tr th {\n",
       "        vertical-align: top;\n",
       "    }\n",
       "\n",
       "    .dataframe thead th {\n",
       "        text-align: right;\n",
       "    }\n",
       "</style>\n",
       "<table border=\"1\" class=\"dataframe\">\n",
       "  <thead>\n",
       "    <tr style=\"text-align: right;\">\n",
       "      <th></th>\n",
       "      <th>0</th>\n",
       "      <th>true_val</th>\n",
       "      <th>RANK</th>\n",
       "      <th>protein</th>\n",
       "    </tr>\n",
       "    <tr>\n",
       "      <th>RANK</th>\n",
       "      <th></th>\n",
       "      <th></th>\n",
       "      <th></th>\n",
       "      <th></th>\n",
       "    </tr>\n",
       "  </thead>\n",
       "  <tbody>\n",
       "    <tr>\n",
       "      <th>0</th>\n",
       "      <td>0.207843</td>\n",
       "      <td>1</td>\n",
       "      <td>0</td>\n",
       "      <td>1o51_1</td>\n",
       "    </tr>\n",
       "    <tr>\n",
       "      <th>1</th>\n",
       "      <td>0.214842</td>\n",
       "      <td>1</td>\n",
       "      <td>1</td>\n",
       "      <td>1v8k_1</td>\n",
       "    </tr>\n",
       "    <tr>\n",
       "      <th>2</th>\n",
       "      <td>0.220075</td>\n",
       "      <td>1</td>\n",
       "      <td>2</td>\n",
       "      <td>2afw_1</td>\n",
       "    </tr>\n",
       "    <tr>\n",
       "      <th>3</th>\n",
       "      <td>0.286072</td>\n",
       "      <td>1</td>\n",
       "      <td>3</td>\n",
       "      <td>3fri_1</td>\n",
       "    </tr>\n",
       "    <tr>\n",
       "      <th>4</th>\n",
       "      <td>0.287385</td>\n",
       "      <td>1</td>\n",
       "      <td>4</td>\n",
       "      <td>1zdf_1</td>\n",
       "    </tr>\n",
       "    <tr>\n",
       "      <th>...</th>\n",
       "      <td>...</td>\n",
       "      <td>...</td>\n",
       "      <td>...</td>\n",
       "      <td>...</td>\n",
       "    </tr>\n",
       "    <tr>\n",
       "      <th>242</th>\n",
       "      <td>NaN</td>\n",
       "      <td>0</td>\n",
       "      <td>242</td>\n",
       "      <td>4fpy_1</td>\n",
       "    </tr>\n",
       "    <tr>\n",
       "      <th>243</th>\n",
       "      <td>NaN</td>\n",
       "      <td>0</td>\n",
       "      <td>243</td>\n",
       "      <td>3r9v_2</td>\n",
       "    </tr>\n",
       "    <tr>\n",
       "      <th>244</th>\n",
       "      <td>NaN</td>\n",
       "      <td>0</td>\n",
       "      <td>244</td>\n",
       "      <td>3fqa_1</td>\n",
       "    </tr>\n",
       "    <tr>\n",
       "      <th>245</th>\n",
       "      <td>NaN</td>\n",
       "      <td>0</td>\n",
       "      <td>245</td>\n",
       "      <td>1uop_1</td>\n",
       "    </tr>\n",
       "    <tr>\n",
       "      <th>246</th>\n",
       "      <td>NaN</td>\n",
       "      <td>0</td>\n",
       "      <td>246</td>\n",
       "      <td>3fce_1</td>\n",
       "    </tr>\n",
       "  </tbody>\n",
       "</table>\n",
       "<p>247 rows × 4 columns</p>\n",
       "</div>"
      ],
      "text/plain": [
       "             0  true_val  RANK protein\n",
       "RANK                                  \n",
       "0     0.207843         1     0  1o51_1\n",
       "1     0.214842         1     1  1v8k_1\n",
       "2     0.220075         1     2  2afw_1\n",
       "3     0.286072         1     3  3fri_1\n",
       "4     0.287385         1     4  1zdf_1\n",
       "...        ...       ...   ...     ...\n",
       "242        NaN         0   242  4fpy_1\n",
       "243        NaN         0   243  3r9v_2\n",
       "244        NaN         0   244  3fqa_1\n",
       "245        NaN         0   245  1uop_1\n",
       "246        NaN         0   246  3fce_1\n",
       "\n",
       "[247 rows x 4 columns]"
      ]
     },
     "execution_count": 107,
     "metadata": {},
     "output_type": "execute_result"
    }
   ],
   "source": [
    "puresnet_dccs_df"
   ]
  },
  {
   "cell_type": "markdown",
   "id": "935617fb",
   "metadata": {},
   "source": [
    "### First individual plots\n",
    "\n",
    "Fpocket"
   ]
  },
  {
   "cell_type": "code",
   "execution_count": 64,
   "id": "98a06f30",
   "metadata": {},
   "outputs": [
    {
     "data": {
      "text/plain": [
       "[<matplotlib.lines.Line2D at 0x7f45596eb7f0>]"
      ]
     },
     "execution_count": 64,
     "metadata": {},
     "output_type": "execute_result"
    },
    {
     "data": {
      "image/png": "[encoded data removed]",
      "text/plain": [
       "<Figure size 640x480 with 1 Axes>"
      ]
     },
     "metadata": {},
     "output_type": "display_data"
    }
   ],
   "source": [
    "plt.plot(fpocket_dccs_df[0], fpocket_Success_rate)"
   ]
  },
  {
   "cell_type": "markdown",
   "id": "5266cc8f",
   "metadata": {},
   "source": [
    "Our model"
   ]
  },
  {
   "cell_type": "code",
   "execution_count": 67,
   "id": "da54dfbb",
   "metadata": {},
   "outputs": [
    {
     "data": {
      "text/plain": [
       "(0.0, 20.0)"
      ]
     },
     "execution_count": 67,
     "metadata": {},
     "output_type": "execute_result"
    },
    {
     "data": {
      "image/png": "[encoded data removed]",
      "text/plain": [
       "<Figure size 640x480 with 1 Axes>"
      ]
     },
     "metadata": {},
     "output_type": "display_data"
    }
   ],
   "source": [
    "our_success_rate = calculate_metrics(dccs_df)\n",
    "plt.plot(dccs_df[0], our_success_rate)\n",
    "plt.xlim([0,20])"
   ]
  },
  {
   "cell_type": "markdown",
   "id": "752c66cd",
   "metadata": {},
   "source": [
    "PUResNet"
   ]
  },
  {
   "cell_type": "code",
   "execution_count": 108,
   "id": "61688533",
   "metadata": {},
   "outputs": [
    {
     "data": {
      "text/plain": [
       "(0.0, 20.0)"
      ]
     },
     "execution_count": 108,
     "metadata": {},
     "output_type": "execute_result"
    },
    {
     "data": {
      "image/png": "[encoded data removed]",
      "text/plain": [
       "<Figure size 640x480 with 1 Axes>"
      ]
     },
     "metadata": {},
     "output_type": "display_data"
    }
   ],
   "source": [
    "puresnet_success = calculate_metrics(puresnet_dccs_df)\n",
    "plt.plot(puresnet_dccs_df[0], puresnet_success)\n",
    "plt.xlim([0,20])"
   ]
  },
  {
   "cell_type": "markdown",
   "id": "3acebda4",
   "metadata": {},
   "source": [
    "### One plot"
   ]
  },
  {
   "cell_type": "markdown",
   "id": "13b64512",
   "metadata": {},
   "source": [
    "Ploting all three results in the same plot for the paper."
   ]
  },
  {
   "cell_type": "code",
   "execution_count": 110,
   "id": "f32f93db",
   "metadata": {},
   "outputs": [
    {
     "data": {
      "image/png": "[encoded data removed]",
      "text/plain": [
       "<Figure size 1000x1000 with 1 Axes>"
      ]
     },
     "metadata": {},
     "output_type": "display_data"
    }
   ],
   "source": [
    "plt.figure(figsize=(10,10))\n",
    "lw = 2\n",
    "plt.plot(\n",
    "    dccs_df[0], our_success_rate,\n",
    "    color=\"maroon\",\n",
    "    lw=lw,\n",
    "    label=\"BSPredictor\"\n",
    "    )\n",
    "plt.plot(\n",
    "    fpocket_dccs_df[0], fpocket_Success_rate,\n",
    "    color=\"red\",\n",
    "    lw=lw,\n",
    "    label=\"fpocket\"\n",
    "    )\n",
    "\n",
    "plt.plot(puresnet_dccs_df[0], puresnet_success,\n",
    "         color='green',\n",
    "         lw=lw,\n",
    "         label='PUResNet'\n",
    "         )\n",
    "#plt.plot([0, 1], [0, 1], color=\"navy\", lw=lw, linestyle=\"--\")\n",
    "plt.vlines(4, ymin=0, ymax=100)\n",
    "plt.xlim([0.0, 20])\n",
    "plt.ylim([0.0, 1.0])\n",
    "plt.xlabel(\"DCC\", fontsize=16)\n",
    "plt.ylabel(\"Success rate\", fontsize=16)\n",
    "plt.title('Validation set of scPDB', fontsize=18)\n",
    "plt.legend(loc=\"lower right\", fontsize=14)\n",
    "#plt.savefig('/da.png', dpi=250, format='png')\n",
    "plt.yticks(fontsize=14)\n",
    "plt.xticks(fontsize=14)\n",
    "plt.show()"
   ]
  },
  {
   "cell_type": "markdown",
   "id": "7240a8ec",
   "metadata": {},
   "source": [
    "### Calculate the succcess rate at given threshold\n",
    "We define 4A as the threshold to determine that the program has been able toproperly predict that binding site (I'm refering to DCC values) We can use this to calculate a success rate value."
   ]
  },
  {
   "cell_type": "code",
   "execution_count": 77,
   "id": "7b86c1f5",
   "metadata": {},
   "outputs": [
    {
     "name": "stdout",
     "output_type": "stream",
     "text": [
      "0.6846846846846847\n",
      "Our model Success rate\n"
     ]
    }
   ],
   "source": [
    "print(len(dccs_df.loc[dccs_df['true_val'] == 1])/len(dccs_df))\n",
    "print(\"Our model Success rate\")"
   ]
  },
  {
   "cell_type": "code",
   "execution_count": 80,
   "id": "3f13a052",
   "metadata": {},
   "outputs": [
    {
     "name": "stdout",
     "output_type": "stream",
     "text": [
      "0.7286245353159851\n",
      "Fpocket success rate\n"
     ]
    }
   ],
   "source": [
    "print(len(fpocket_dccs_df.loc[fpocket_dccs_df['true_val'] == 1])/len(fpocket_dccs_df))\n",
    "print(\"Fpocket success rate\")"
   ]
  },
  {
   "cell_type": "code",
   "execution_count": 111,
   "id": "70679da5",
   "metadata": {},
   "outputs": [
    {
     "name": "stdout",
     "output_type": "stream",
     "text": [
      "0.7327935222672065\n",
      "Puresnet success rate\n"
     ]
    }
   ],
   "source": [
    "print(len(puresnet_dccs_df.loc[puresnet_dccs_df['true_val'] == 1])/len(puresnet_dccs_df))\n",
    "print(\"Puresnet success rate\")"
   ]
  },
  {
   "cell_type": "markdown",
   "id": "bfab5f7e",
   "metadata": {},
   "source": [
    "## Coach420\n",
    "\n",
    "Then the real cavities are saved diferently. In fact we do not have the cavities but the ligands.\n",
    "We define new functions to read these ligands and the predicted binding sites because the directory strucutre has changed too.\n"
   ]
  },
  {
   "cell_type": "code",
   "execution_count": null,
   "id": "c5d57019",
   "metadata": {},
   "outputs": [],
   "source": [
    "def coach420_fpocket(fpocket_folder, scPDB_folder):\n",
    "    total_val_proteins = 0\n",
    "    predicted_pockets = 0\n",
    "    dcc_success = 0\n",
    "    dvo_vals = []\n",
    "\n",
    "    dccs = {}\n",
    "    dvos = {}\n",
    "\n",
    "    for result in glob.glob(fpocket_folder+'/*_out'):\n",
    "        pdb_code = result.split('/')[-1]\n",
    "        pdb_code = pdb_code.split('_')[0]\n",
    "        #print(pdb_code)\n",
    "\n",
    "        dcc_current = []\n",
    "        dvo_current = []\n",
    "\n",
    "        #Fpocket result in result+/+pdb_code_out.pdb or in pockets folder one by one...\n",
    "            # as result+/+pockets/+pocketXX_atm.pdb\n",
    "        #original pocket in :\n",
    "            # scPDB/+pdb_code+/+cavity6.mol2\n",
    "        \n",
    "        #real_bs = next(pybel.readfile('mol2', scPDB_folder+'/'+pdb_code+'/cavity6.mol2'))\n",
    "        real_bs_coords, _ = get_coords(scPDB_folder+'/'+pdb_code+'/ligand.pdb', 'pdb')\n",
    "        real_bs_coords = np.array(real_bs_coords)\n",
    "\n",
    "        for pocket in glob.glob(result+'/pockets/pocket*_vert.pqr'):\n",
    "            #predicted_bs = next(pybel.readfile('pdb', pocket))\n",
    "            predicted_bs_coords, _ = get_coords(pocket, 'pdb')\n",
    "            predicted_bs_coords = np.array(predicted_bs_coords)\n",
    "\n",
    "            # Calculate DCC:  \n",
    "            #print(real_bs_coords)\n",
    "            #print(predicted_bs_coords)\n",
    "            dcc = np.linalg.norm(real_bs_coords.mean(axis=0) - predicted_bs_coords.mean(axis=0))\n",
    "            dcc_current.append(dcc)\n",
    "            if dcc < 4:\n",
    "                dcc_success += 1\n",
    "                dvo = validate.calculate_DVO(real_bs_coords, predicted_bs_coords)\n",
    "                dvo_vals.append(dvo)\n",
    "                dvo_current.append(dvo)\n",
    "            if len(dcc_current) > 0:\n",
    "                dccs[pdb_code] = min(dcc_current)\n",
    "            if len(dvo_current) > 0:\n",
    "                dvos[pdb_code] = min(dvo_current)\n",
    "    return dccs, dvos\n",
    "\n",
    "def coach420_puresnet(puresnet_folder, scPDB_folder):\n",
    "    total_val_proteins = 0\n",
    "    predicted_pockets = 0\n",
    "    dcc_success = 0\n",
    "    dvo_vals = []\n",
    "\n",
    "    dccs = {}\n",
    "    dvos = {}\n",
    "    \n",
    "    for result in glob.glob(puresnet_folder+'/*'):\n",
    "        pdb_code = result.split('/')[-1]\n",
    "        pdb_code = pdb_code.split('.')[0]\n",
    "\n",
    "        dcc_current = []\n",
    "        dvo_current = []\n",
    "\n",
    "        #puresnet results are in result+/pocketX.mol2\n",
    "        #original pocket in :\n",
    "            # scPDB/+pdb_code+/+cavity6.mol2\n",
    "        \n",
    "        #real_bs = next(pybel.readfile('mol2', scPDB_folder+'/'+pdb_code+'/cavity6.mol2'))\n",
    "        real_bs_coords, _ = get_coords(scPDB_folder+'/'+pdb_code+'/ligand.pdb', 'pdb')\n",
    "        real_bs_coords = np.array(real_bs_coords)\n",
    "\n",
    "\n",
    "        for pocket in glob.glob(result+'/pocket*.mol2'):\n",
    "            #predicted_bs = next(pybel.readfile('pdb', pocket))\n",
    "            predicted_bs_coords, _ = get_coords(pocket, 'mol2')\n",
    "            predicted_bs_coords = np.array(predicted_bs_coords)\n",
    "\n",
    "            # Calculate DCC:  \n",
    "            #print(real_bs_coords)\n",
    "            #print(predicted_bs_coords)\n",
    "            dcc = np.linalg.norm(real_bs_coords.mean(axis=0) - predicted_bs_coords.mean(axis=0))\n",
    "            dcc_current.append(dcc)\n",
    "            if dcc < 4:\n",
    "                dcc_success += 1\n",
    "                dvo = validate.calculate_DVO(real_bs_coords, predicted_bs_coords)\n",
    "                dvo_vals.append(dvo)\n",
    "                dvo_current.append(dvo)\n",
    "            if len(dcc_current) > 0:\n",
    "                dccs[pdb_code] = min(dcc_current)\n",
    "            if len(dvo_current) > 0:\n",
    "                dvos[pdb_code] = min(dvo_current)\n",
    "    return dccs, dvos"
   ]
  },
  {
   "cell_type": "markdown",
   "id": "31655148",
   "metadata": {},
   "source": [
    "Run for each method"
   ]
  },
  {
   "cell_type": "code",
   "execution_count": null,
   "id": "9af4d5dc",
   "metadata": {},
   "outputs": [],
   "source": [
    "fpocket_coach420_dccs, fpocket_coach420_dvos = coach420_fpocket('../validation_data/coach420_fpocket', '../db/coach/coach420')\n"
   ]
  },
  {
   "cell_type": "code",
   "execution_count": 118,
   "id": "4c78cfd1",
   "metadata": {},
   "outputs": [
    {
     "name": "stderr",
     "output_type": "stream",
     "text": [
      "/tmp/ipykernel_25612/2967153505.py:81: RuntimeWarning: Mean of empty slice.\n",
      "  dcc = np.linalg.norm(real_bs_coords.mean(axis=0) - predicted_bs_coords.mean(axis=0))\n",
      "/home/marc/anaconda3/envs/SBI_ml/lib/python3.10/site-packages/numpy/core/_methods.py:190: RuntimeWarning: invalid value encountered in double_scalars\n",
      "  ret = ret.dtype.type(ret / rcount)\n"
     ]
    }
   ],
   "source": [
    "puresnet_coach420_dccs, puresnet_coach420_dvos = coach420_puresnet('../validation_data/coach420_puresnet_output', '../db/coach/coach420')"
   ]
  },
  {
   "cell_type": "code",
   "execution_count": 119,
   "id": "8a1dd2a9",
   "metadata": {},
   "outputs": [
    {
     "name": "stderr",
     "output_type": "stream",
     "text": [
      "/tmp/ipykernel_25612/2967153505.py:81: RuntimeWarning: Mean of empty slice.\n",
      "  dcc = np.linalg.norm(real_bs_coords.mean(axis=0) - predicted_bs_coords.mean(axis=0))\n",
      "/home/marc/anaconda3/envs/SBI_ml/lib/python3.10/site-packages/numpy/core/_methods.py:190: RuntimeWarning: invalid value encountered in double_scalars\n",
      "  ret = ret.dtype.type(ret / rcount)\n"
     ]
    }
   ],
   "source": [
    "our_coach420_dccs, our_coach420_dvos = coach420_puresnet('../validation_data/coach420_our_output', '../db/coach/coach420')"
   ]
  },
  {
   "cell_type": "markdown",
   "id": "c697d5f3",
   "metadata": {},
   "source": [
    "For comodity a function to calculate the success rate is defined."
   ]
  },
  {
   "cell_type": "code",
   "execution_count": 120,
   "id": "023b075e",
   "metadata": {},
   "outputs": [],
   "source": [
    "def get_success(puresnet_dccs):\n",
    "    puresnet_dccs_df = pd.DataFrame.from_dict(puresnet_dccs, orient='index')\n",
    "    puresnet_dccs_df = puresnet_dccs_df.assign(true_val=[1 if x < 4 else 0 for x in puresnet_dccs_df[0]])\n",
    "    puresnet_dccs_df.sort_values(0, inplace=True)\n",
    "    puresnet_dccs_df['RANK'] = np.arange(puresnet_dccs_df.shape[0])\n",
    "    puresnet_dccs_df['protein'] = puresnet_dccs_df.index\n",
    "    puresnet_dccs_df = puresnet_dccs_df.set_index('RANK', drop=False)\n",
    "    puresnet_Success_rate = calculate_metrics(puresnet_dccs_df)\n",
    "    return puresnet_Success_rate, puresnet_dccs_df"
   ]
  },
  {
   "cell_type": "code",
   "execution_count": 121,
   "id": "4c8fe894",
   "metadata": {},
   "outputs": [],
   "source": [
    "fpocket_coach420_success, fpocket_coach420_dccs_df = get_success(fpocket_coach420_dccs)\n",
    "puresnet_coach420_success, puresnet_coach420_dccs_df = get_success(puresnet_coach420_dccs)\n",
    "our_coach420_success, our_coach420_dccs_df = get_success(our_coach420_dccs)\n"
   ]
  },
  {
   "cell_type": "markdown",
   "id": "06802748",
   "metadata": {},
   "source": [
    "### Ploting"
   ]
  },
  {
   "cell_type": "code",
   "execution_count": 122,
   "id": "ad303b04",
   "metadata": {},
   "outputs": [
    {
     "data": {
      "image/png": "[encoded data removed]",
      "text/plain": [
       "<Figure size 1000x1000 with 1 Axes>"
      ]
     },
     "metadata": {},
     "output_type": "display_data"
    }
   ],
   "source": [
    "plt.figure(figsize=(10,10))\n",
    "lw = 2\n",
    "plt.plot(\n",
    "    dccs_df[0], our_success_rate,\n",
    "    color=\"maroon\",\n",
    "    lw=lw,\n",
    "    label=\"BSPredictor\"\n",
    "    )\n",
    "plt.plot(\n",
    "    fpocket_dccs_df[0], fpocket_Success_rate,\n",
    "    color=\"red\",\n",
    "    lw=lw,\n",
    "    label=\"fpocket\"\n",
    "    )\n",
    "\n",
    "plt.plot(puresnet_dccs_df[0], puresnet_success,\n",
    "         color='green',\n",
    "         lw=lw,\n",
    "         label='PUResNet'\n",
    "         )\n",
    "#plt.plot([0, 1], [0, 1], color=\"navy\", lw=lw, linestyle=\"--\")\n",
    "plt.vlines(4, ymin=0, ymax=100)Validation set of scPDB\n",
    "plt.xlim([0.0, 20])\n",
    "plt.ylim([0.0, 1.0])\n",
    "plt.xlabel(\"DCC\", fontsize=16)\n",
    "plt.ylabel(\"Success rate\", fontsize=16)\n",
    "plt.title('Coach420', fontsize=18)\n",
    "plt.legend(loc=\"lower right\", fontsize=14)\n",
    "#plt.savefig('/da.png', dpi=250, format='png')\n",
    "plt.yticks(fontsize=14)\n",
    "plt.xticks(fontsize=14)\n",
    "plt.show()"
   ]
  }
 ],
 "metadata": {
  "kernelspec": {
   "display_name": "Python 3 (ipykernel)",
   "language": "python",
   "name": "python3"
  },
  "language_info": {
   "codemirror_mode": {
    "name": "ipython",
    "version": 3
   },
   "file_extension": ".py",
   "mimetype": "text/x-python",
   "name": "python",
   "nbconvert_exporter": "python",
   "pygments_lexer": "ipython3",
   "version": "3.10.10"
  }
 },
 "nbformat": 4,
 "nbformat_minor": 5
}
